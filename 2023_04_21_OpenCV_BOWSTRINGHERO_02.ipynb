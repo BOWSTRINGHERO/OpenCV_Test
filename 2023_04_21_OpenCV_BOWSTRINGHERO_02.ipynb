{
 "cells": [
  {
   "cell_type": "code",
   "execution_count": 3,
   "id": "43e1466f",
   "metadata": {},
   "outputs": [
    {
     "name": "stdout",
     "output_type": "stream",
     "text": [
      "29.97002997002997\n",
      "1 467 330\n",
      "2023-04-21 15:14:02.343647\n",
      "ESC Key pressed\n"
     ]
    }
   ],
   "source": [
    "import cv2\n",
    "import numpy as np\n",
    "from datetime import datetime\n",
    "\n",
    "def mouseHandler(event, x, y, flags, param):\n",
    "    if event == cv2.EVENT_LBUTTONDOWN:\n",
    "        print(event, x, y)\n",
    "        print(datetime.today())\n",
    "        filename = str(datetime.today().microsecond)+\".jpg\"\n",
    "        cv2.imwrite(filename, img)\n",
    "        \n",
    "cv2.namedWindow('Movie')\n",
    "cv2.setMouseCallback(\"Movie\", mouseHandler)\n",
    "\n",
    "cap = cv2.VideoCapture(\"images/Puppies-HD.mp4\")\n",
    "\n",
    "img = None\n",
    "if cap.isOpened():\n",
    "    \n",
    "    print(cap.get(cv2.CAP_PROP_FPS))\n",
    "    delay = int(1000 / cap.get(cv2.CAP_PROP_FPS))\n",
    "    while True:\n",
    "        ret, img = cap.read()\n",
    "        if ret:\n",
    "            cv2.imshow(\"Movie\", img)\n",
    "            if cv2.waitKey(delay) & 0xFF == 27 :\n",
    "                print(\"ESC Key pressed\")\n",
    "                break\n",
    "        else : \n",
    "            print(\"No Frame\")\n",
    "            print(ret, img)\n",
    "            break\n",
    "\n",
    "else:\n",
    "    print(\"File not opened\")\n",
    "    \n",
    "cap.release()\n",
    "cv2.destroyAllWindows()"
   ]
  },
  {
   "cell_type": "code",
   "execution_count": null,
   "id": "8547422e",
   "metadata": {},
   "outputs": [],
   "source": []
  },
  {
   "cell_type": "code",
   "execution_count": 1,
   "id": "c80f261c",
   "metadata": {},
   "outputs": [
    {
     "name": "stdout",
     "output_type": "stream",
     "text": [
      "1280.0 720.0 (1280, 720) 29.97002997002997 33\n",
      "True [[[ 16  73  51]\n",
      "  [ 22  79  57]\n",
      "  [ 21  78  56]\n",
      "  ...\n",
      "  [ 10 106  70]\n",
      "  [ 12 108  72]\n",
      "  [  6 102  66]]\n",
      "\n",
      " [[ 22  79  57]\n",
      "  [ 28  85  63]\n",
      "  [ 27  84  62]\n",
      "  ...\n",
      "  [ 16 112  76]\n",
      "  [ 18 114  78]\n",
      "  [ 12 108  72]]\n",
      "\n",
      " [[ 20  77  55]\n",
      "  [ 26  83  61]\n",
      "  [ 24  81  59]\n",
      "  ...\n",
      "  [ 14 110  74]\n",
      "  [ 15 111  75]\n",
      "  [ 10 106  70]]\n",
      "\n",
      " ...\n",
      "\n",
      " [[ 68 145 126]\n",
      "  [ 77 154 135]\n",
      "  [ 62 148 114]\n",
      "  ...\n",
      "  [ 83 160 132]\n",
      "  [ 88 163 135]\n",
      "  [ 74 149 121]]\n",
      "\n",
      " [[ 70 147 128]\n",
      "  [ 80 157 138]\n",
      "  [ 65 151 117]\n",
      "  ...\n",
      "  [ 86 162 137]\n",
      "  [ 94 165 141]\n",
      "  [ 79 150 126]]\n",
      "\n",
      " [[ 60 137 118]\n",
      "  [ 68 145 126]\n",
      "  [ 55 141 107]\n",
      "  ...\n",
      "  [ 75 151 126]\n",
      "  [ 82 153 129]\n",
      "  [ 68 139 115]]]\n"
     ]
    }
   ],
   "source": [
    "import cv2\n",
    "\n",
    "cap = cv2.VideoCapture(\"images/Puppies-HD.mp4\")\n",
    "\n",
    "if cap.isOpened():\n",
    "    fourcc = cv2.VideoWriter_fourcc(*'DIVX')\n",
    "    width = cap.get(cv2.CAP_PROP_FRAME_WIDTH)\n",
    "    height = cap.get(cv2.CAP_PROP_FRAME_HEIGHT)\n",
    "    size = (int(width), int(height))\n",
    "    fps = cap.get(cv2.CAP_PROP_FPS)\n",
    "    out = cv2.VideoWriter(\"video.avi\", fourcc, fps, size)\n",
    "    \n",
    "    delay = int(1000 / cap.get(cv2.CAP_PROP_FPS))\n",
    "    print(width, height, size, fps, delay)\n",
    "    \n",
    "    while True:\n",
    "        ret, img = cap.read()\n",
    "        if ret:\n",
    "            gray = cv2.cvtColor(img, cv2.COLOR_RGB2GRAY)\n",
    "            cv2.imshow(\"Movie\", gray)\n",
    "            out.write(cv2.cvtColor(gray, cv2.COLOR_GRAY2BGR))\n",
    "            if cv2.waitKey(delay) & 0xFF== 27:\n",
    "                print(\"윈도우 종료\")\n",
    "                break\n",
    "            \n",
    "            else:\n",
    "                print(ret, img)\n",
    "                break\n",
    "                \n",
    "else : \n",
    "    print(\"비디오 안열림\")\n",
    "    \n",
    "out.release()\n",
    "cap.release()\n",
    "cv2.destroyAllWindows()"
   ]
  },
  {
   "cell_type": "code",
   "execution_count": null,
   "id": "1ade0d2a",
   "metadata": {},
   "outputs": [],
   "source": []
  },
  {
   "cell_type": "code",
   "execution_count": 6,
   "id": "cf1e6f69",
   "metadata": {},
   "outputs": [
    {
     "ename": "AttributeError",
     "evalue": "module 'cv2' has no attribute 'EVENT_LBUTTONDBCLK'",
     "output_type": "error",
     "traceback": [
      "\u001b[1;31m---------------------------------------------------------------------------\u001b[0m",
      "\u001b[1;31mAttributeError\u001b[0m                            Traceback (most recent call last)",
      "Cell \u001b[1;32mIn[6], line 12\u001b[0m, in \u001b[0;36mdraw_circle\u001b[1;34m(event, x, y, flags, param)\u001b[0m\n\u001b[0;32m     10\u001b[0m \u001b[38;5;28;01melif\u001b[39;00m event \u001b[38;5;241m==\u001b[39m cv2\u001b[38;5;241m.\u001b[39mEVENT_RBUTTONDOWN:\n\u001b[0;32m     11\u001b[0m     cv2\u001b[38;5;241m.\u001b[39mcircle(img, (x,y), \u001b[38;5;241m10\u001b[39m, (\u001b[38;5;241m255\u001b[39m,\u001b[38;5;241m0\u001b[39m,\u001b[38;5;241m0\u001b[39m), \u001b[38;5;241m2\u001b[39m)\n\u001b[1;32m---> 12\u001b[0m \u001b[38;5;28;01melif\u001b[39;00m event \u001b[38;5;241m==\u001b[39m \u001b[43mcv2\u001b[49m\u001b[38;5;241;43m.\u001b[39;49m\u001b[43mEVENT_LBUTTONDBCLK\u001b[49m:\n\u001b[0;32m     13\u001b[0m     cv2\u001b[38;5;241m.\u001b[39mcircle(img, (x,y), \u001b[38;5;241m20\u001b[39m, (\u001b[38;5;241m255\u001b[39m,\u001b[38;5;241m0\u001b[39m,\u001b[38;5;241m0\u001b[39m), \u001b[38;5;241m-\u001b[39m\u001b[38;5;241m1\u001b[39m)\n",
      "\u001b[1;31mAttributeError\u001b[0m: module 'cv2' has no attribute 'EVENT_LBUTTONDBCLK'"
     ]
    },
    {
     "ename": "AttributeError",
     "evalue": "module 'cv2' has no attribute 'EVENT_LBUTTONDBCLK'",
     "output_type": "error",
     "traceback": [
      "\u001b[1;31m---------------------------------------------------------------------------\u001b[0m",
      "\u001b[1;31mAttributeError\u001b[0m                            Traceback (most recent call last)",
      "Cell \u001b[1;32mIn[6], line 12\u001b[0m, in \u001b[0;36mdraw_circle\u001b[1;34m(event, x, y, flags, param)\u001b[0m\n\u001b[0;32m     10\u001b[0m \u001b[38;5;28;01melif\u001b[39;00m event \u001b[38;5;241m==\u001b[39m cv2\u001b[38;5;241m.\u001b[39mEVENT_RBUTTONDOWN:\n\u001b[0;32m     11\u001b[0m     cv2\u001b[38;5;241m.\u001b[39mcircle(img, (x,y), \u001b[38;5;241m10\u001b[39m, (\u001b[38;5;241m255\u001b[39m,\u001b[38;5;241m0\u001b[39m,\u001b[38;5;241m0\u001b[39m), \u001b[38;5;241m2\u001b[39m)\n\u001b[1;32m---> 12\u001b[0m \u001b[38;5;28;01melif\u001b[39;00m event \u001b[38;5;241m==\u001b[39m \u001b[43mcv2\u001b[49m\u001b[38;5;241;43m.\u001b[39;49m\u001b[43mEVENT_LBUTTONDBCLK\u001b[49m:\n\u001b[0;32m     13\u001b[0m     cv2\u001b[38;5;241m.\u001b[39mcircle(img, (x,y), \u001b[38;5;241m20\u001b[39m, (\u001b[38;5;241m255\u001b[39m,\u001b[38;5;241m0\u001b[39m,\u001b[38;5;241m0\u001b[39m), \u001b[38;5;241m-\u001b[39m\u001b[38;5;241m1\u001b[39m)\n",
      "\u001b[1;31mAttributeError\u001b[0m: module 'cv2' has no attribute 'EVENT_LBUTTONDBCLK'"
     ]
    },
    {
     "ename": "AttributeError",
     "evalue": "module 'cv2' has no attribute 'EVENT_LBUTTONDBCLK'",
     "output_type": "error",
     "traceback": [
      "\u001b[1;31m---------------------------------------------------------------------------\u001b[0m",
      "\u001b[1;31mAttributeError\u001b[0m                            Traceback (most recent call last)",
      "Cell \u001b[1;32mIn[6], line 12\u001b[0m, in \u001b[0;36mdraw_circle\u001b[1;34m(event, x, y, flags, param)\u001b[0m\n\u001b[0;32m     10\u001b[0m \u001b[38;5;28;01melif\u001b[39;00m event \u001b[38;5;241m==\u001b[39m cv2\u001b[38;5;241m.\u001b[39mEVENT_RBUTTONDOWN:\n\u001b[0;32m     11\u001b[0m     cv2\u001b[38;5;241m.\u001b[39mcircle(img, (x,y), \u001b[38;5;241m10\u001b[39m, (\u001b[38;5;241m255\u001b[39m,\u001b[38;5;241m0\u001b[39m,\u001b[38;5;241m0\u001b[39m), \u001b[38;5;241m2\u001b[39m)\n\u001b[1;32m---> 12\u001b[0m \u001b[38;5;28;01melif\u001b[39;00m event \u001b[38;5;241m==\u001b[39m \u001b[43mcv2\u001b[49m\u001b[38;5;241;43m.\u001b[39;49m\u001b[43mEVENT_LBUTTONDBCLK\u001b[49m:\n\u001b[0;32m     13\u001b[0m     cv2\u001b[38;5;241m.\u001b[39mcircle(img, (x,y), \u001b[38;5;241m20\u001b[39m, (\u001b[38;5;241m255\u001b[39m,\u001b[38;5;241m0\u001b[39m,\u001b[38;5;241m0\u001b[39m), \u001b[38;5;241m-\u001b[39m\u001b[38;5;241m1\u001b[39m)\n",
      "\u001b[1;31mAttributeError\u001b[0m: module 'cv2' has no attribute 'EVENT_LBUTTONDBCLK'"
     ]
    },
    {
     "ename": "AttributeError",
     "evalue": "module 'cv2' has no attribute 'EVENT_LBUTTONDBCLK'",
     "output_type": "error",
     "traceback": [
      "\u001b[1;31m---------------------------------------------------------------------------\u001b[0m",
      "\u001b[1;31mAttributeError\u001b[0m                            Traceback (most recent call last)",
      "Cell \u001b[1;32mIn[6], line 12\u001b[0m, in \u001b[0;36mdraw_circle\u001b[1;34m(event, x, y, flags, param)\u001b[0m\n\u001b[0;32m     10\u001b[0m \u001b[38;5;28;01melif\u001b[39;00m event \u001b[38;5;241m==\u001b[39m cv2\u001b[38;5;241m.\u001b[39mEVENT_RBUTTONDOWN:\n\u001b[0;32m     11\u001b[0m     cv2\u001b[38;5;241m.\u001b[39mcircle(img, (x,y), \u001b[38;5;241m10\u001b[39m, (\u001b[38;5;241m255\u001b[39m,\u001b[38;5;241m0\u001b[39m,\u001b[38;5;241m0\u001b[39m), \u001b[38;5;241m2\u001b[39m)\n\u001b[1;32m---> 12\u001b[0m \u001b[38;5;28;01melif\u001b[39;00m event \u001b[38;5;241m==\u001b[39m \u001b[43mcv2\u001b[49m\u001b[38;5;241;43m.\u001b[39;49m\u001b[43mEVENT_LBUTTONDBCLK\u001b[49m:\n\u001b[0;32m     13\u001b[0m     cv2\u001b[38;5;241m.\u001b[39mcircle(img, (x,y), \u001b[38;5;241m20\u001b[39m, (\u001b[38;5;241m255\u001b[39m,\u001b[38;5;241m0\u001b[39m,\u001b[38;5;241m0\u001b[39m), \u001b[38;5;241m-\u001b[39m\u001b[38;5;241m1\u001b[39m)\n",
      "\u001b[1;31mAttributeError\u001b[0m: module 'cv2' has no attribute 'EVENT_LBUTTONDBCLK'"
     ]
    },
    {
     "ename": "AttributeError",
     "evalue": "module 'cv2' has no attribute 'EVENT_LBUTTONDBCLK'",
     "output_type": "error",
     "traceback": [
      "\u001b[1;31m---------------------------------------------------------------------------\u001b[0m",
      "\u001b[1;31mAttributeError\u001b[0m                            Traceback (most recent call last)",
      "Cell \u001b[1;32mIn[6], line 12\u001b[0m, in \u001b[0;36mdraw_circle\u001b[1;34m(event, x, y, flags, param)\u001b[0m\n\u001b[0;32m     10\u001b[0m \u001b[38;5;28;01melif\u001b[39;00m event \u001b[38;5;241m==\u001b[39m cv2\u001b[38;5;241m.\u001b[39mEVENT_RBUTTONDOWN:\n\u001b[0;32m     11\u001b[0m     cv2\u001b[38;5;241m.\u001b[39mcircle(img, (x,y), \u001b[38;5;241m10\u001b[39m, (\u001b[38;5;241m255\u001b[39m,\u001b[38;5;241m0\u001b[39m,\u001b[38;5;241m0\u001b[39m), \u001b[38;5;241m2\u001b[39m)\n\u001b[1;32m---> 12\u001b[0m \u001b[38;5;28;01melif\u001b[39;00m event \u001b[38;5;241m==\u001b[39m \u001b[43mcv2\u001b[49m\u001b[38;5;241;43m.\u001b[39;49m\u001b[43mEVENT_LBUTTONDBCLK\u001b[49m:\n\u001b[0;32m     13\u001b[0m     cv2\u001b[38;5;241m.\u001b[39mcircle(img, (x,y), \u001b[38;5;241m20\u001b[39m, (\u001b[38;5;241m255\u001b[39m,\u001b[38;5;241m0\u001b[39m,\u001b[38;5;241m0\u001b[39m), \u001b[38;5;241m-\u001b[39m\u001b[38;5;241m1\u001b[39m)\n",
      "\u001b[1;31mAttributeError\u001b[0m: module 'cv2' has no attribute 'EVENT_LBUTTONDBCLK'"
     ]
    },
    {
     "ename": "AttributeError",
     "evalue": "module 'cv2' has no attribute 'EVENT_LBUTTONDBCLK'",
     "output_type": "error",
     "traceback": [
      "\u001b[1;31m---------------------------------------------------------------------------\u001b[0m",
      "\u001b[1;31mAttributeError\u001b[0m                            Traceback (most recent call last)",
      "Cell \u001b[1;32mIn[6], line 12\u001b[0m, in \u001b[0;36mdraw_circle\u001b[1;34m(event, x, y, flags, param)\u001b[0m\n\u001b[0;32m     10\u001b[0m \u001b[38;5;28;01melif\u001b[39;00m event \u001b[38;5;241m==\u001b[39m cv2\u001b[38;5;241m.\u001b[39mEVENT_RBUTTONDOWN:\n\u001b[0;32m     11\u001b[0m     cv2\u001b[38;5;241m.\u001b[39mcircle(img, (x,y), \u001b[38;5;241m10\u001b[39m, (\u001b[38;5;241m255\u001b[39m,\u001b[38;5;241m0\u001b[39m,\u001b[38;5;241m0\u001b[39m), \u001b[38;5;241m2\u001b[39m)\n\u001b[1;32m---> 12\u001b[0m \u001b[38;5;28;01melif\u001b[39;00m event \u001b[38;5;241m==\u001b[39m \u001b[43mcv2\u001b[49m\u001b[38;5;241;43m.\u001b[39;49m\u001b[43mEVENT_LBUTTONDBCLK\u001b[49m:\n\u001b[0;32m     13\u001b[0m     cv2\u001b[38;5;241m.\u001b[39mcircle(img, (x,y), \u001b[38;5;241m20\u001b[39m, (\u001b[38;5;241m255\u001b[39m,\u001b[38;5;241m0\u001b[39m,\u001b[38;5;241m0\u001b[39m), \u001b[38;5;241m-\u001b[39m\u001b[38;5;241m1\u001b[39m)\n",
      "\u001b[1;31mAttributeError\u001b[0m: module 'cv2' has no attribute 'EVENT_LBUTTONDBCLK'"
     ]
    },
    {
     "ename": "AttributeError",
     "evalue": "module 'cv2' has no attribute 'EVENT_LBUTTONDBCLK'",
     "output_type": "error",
     "traceback": [
      "\u001b[1;31m---------------------------------------------------------------------------\u001b[0m",
      "\u001b[1;31mAttributeError\u001b[0m                            Traceback (most recent call last)",
      "Cell \u001b[1;32mIn[6], line 12\u001b[0m, in \u001b[0;36mdraw_circle\u001b[1;34m(event, x, y, flags, param)\u001b[0m\n\u001b[0;32m     10\u001b[0m \u001b[38;5;28;01melif\u001b[39;00m event \u001b[38;5;241m==\u001b[39m cv2\u001b[38;5;241m.\u001b[39mEVENT_RBUTTONDOWN:\n\u001b[0;32m     11\u001b[0m     cv2\u001b[38;5;241m.\u001b[39mcircle(img, (x,y), \u001b[38;5;241m10\u001b[39m, (\u001b[38;5;241m255\u001b[39m,\u001b[38;5;241m0\u001b[39m,\u001b[38;5;241m0\u001b[39m), \u001b[38;5;241m2\u001b[39m)\n\u001b[1;32m---> 12\u001b[0m \u001b[38;5;28;01melif\u001b[39;00m event \u001b[38;5;241m==\u001b[39m \u001b[43mcv2\u001b[49m\u001b[38;5;241;43m.\u001b[39;49m\u001b[43mEVENT_LBUTTONDBCLK\u001b[49m:\n\u001b[0;32m     13\u001b[0m     cv2\u001b[38;5;241m.\u001b[39mcircle(img, (x,y), \u001b[38;5;241m20\u001b[39m, (\u001b[38;5;241m255\u001b[39m,\u001b[38;5;241m0\u001b[39m,\u001b[38;5;241m0\u001b[39m), \u001b[38;5;241m-\u001b[39m\u001b[38;5;241m1\u001b[39m)\n",
      "\u001b[1;31mAttributeError\u001b[0m: module 'cv2' has no attribute 'EVENT_LBUTTONDBCLK'"
     ]
    },
    {
     "ename": "AttributeError",
     "evalue": "module 'cv2' has no attribute 'EVENT_LBUTTONDBCLK'",
     "output_type": "error",
     "traceback": [
      "\u001b[1;31m---------------------------------------------------------------------------\u001b[0m",
      "\u001b[1;31mAttributeError\u001b[0m                            Traceback (most recent call last)",
      "Cell \u001b[1;32mIn[6], line 12\u001b[0m, in \u001b[0;36mdraw_circle\u001b[1;34m(event, x, y, flags, param)\u001b[0m\n\u001b[0;32m     10\u001b[0m \u001b[38;5;28;01melif\u001b[39;00m event \u001b[38;5;241m==\u001b[39m cv2\u001b[38;5;241m.\u001b[39mEVENT_RBUTTONDOWN:\n\u001b[0;32m     11\u001b[0m     cv2\u001b[38;5;241m.\u001b[39mcircle(img, (x,y), \u001b[38;5;241m10\u001b[39m, (\u001b[38;5;241m255\u001b[39m,\u001b[38;5;241m0\u001b[39m,\u001b[38;5;241m0\u001b[39m), \u001b[38;5;241m2\u001b[39m)\n\u001b[1;32m---> 12\u001b[0m \u001b[38;5;28;01melif\u001b[39;00m event \u001b[38;5;241m==\u001b[39m \u001b[43mcv2\u001b[49m\u001b[38;5;241;43m.\u001b[39;49m\u001b[43mEVENT_LBUTTONDBCLK\u001b[49m:\n\u001b[0;32m     13\u001b[0m     cv2\u001b[38;5;241m.\u001b[39mcircle(img, (x,y), \u001b[38;5;241m20\u001b[39m, (\u001b[38;5;241m255\u001b[39m,\u001b[38;5;241m0\u001b[39m,\u001b[38;5;241m0\u001b[39m), \u001b[38;5;241m-\u001b[39m\u001b[38;5;241m1\u001b[39m)\n",
      "\u001b[1;31mAttributeError\u001b[0m: module 'cv2' has no attribute 'EVENT_LBUTTONDBCLK'"
     ]
    },
    {
     "ename": "AttributeError",
     "evalue": "module 'cv2' has no attribute 'EVENT_LBUTTONDBCLK'",
     "output_type": "error",
     "traceback": [
      "\u001b[1;31m---------------------------------------------------------------------------\u001b[0m",
      "\u001b[1;31mAttributeError\u001b[0m                            Traceback (most recent call last)",
      "Cell \u001b[1;32mIn[6], line 12\u001b[0m, in \u001b[0;36mdraw_circle\u001b[1;34m(event, x, y, flags, param)\u001b[0m\n\u001b[0;32m     10\u001b[0m \u001b[38;5;28;01melif\u001b[39;00m event \u001b[38;5;241m==\u001b[39m cv2\u001b[38;5;241m.\u001b[39mEVENT_RBUTTONDOWN:\n\u001b[0;32m     11\u001b[0m     cv2\u001b[38;5;241m.\u001b[39mcircle(img, (x,y), \u001b[38;5;241m10\u001b[39m, (\u001b[38;5;241m255\u001b[39m,\u001b[38;5;241m0\u001b[39m,\u001b[38;5;241m0\u001b[39m), \u001b[38;5;241m2\u001b[39m)\n\u001b[1;32m---> 12\u001b[0m \u001b[38;5;28;01melif\u001b[39;00m event \u001b[38;5;241m==\u001b[39m \u001b[43mcv2\u001b[49m\u001b[38;5;241;43m.\u001b[39;49m\u001b[43mEVENT_LBUTTONDBCLK\u001b[49m:\n\u001b[0;32m     13\u001b[0m     cv2\u001b[38;5;241m.\u001b[39mcircle(img, (x,y), \u001b[38;5;241m20\u001b[39m, (\u001b[38;5;241m255\u001b[39m,\u001b[38;5;241m0\u001b[39m,\u001b[38;5;241m0\u001b[39m), \u001b[38;5;241m-\u001b[39m\u001b[38;5;241m1\u001b[39m)\n",
      "\u001b[1;31mAttributeError\u001b[0m: module 'cv2' has no attribute 'EVENT_LBUTTONDBCLK'"
     ]
    },
    {
     "ename": "AttributeError",
     "evalue": "module 'cv2' has no attribute 'EVENT_LBUTTONDBCLK'",
     "output_type": "error",
     "traceback": [
      "\u001b[1;31m---------------------------------------------------------------------------\u001b[0m",
      "\u001b[1;31mAttributeError\u001b[0m                            Traceback (most recent call last)",
      "Cell \u001b[1;32mIn[6], line 12\u001b[0m, in \u001b[0;36mdraw_circle\u001b[1;34m(event, x, y, flags, param)\u001b[0m\n\u001b[0;32m     10\u001b[0m \u001b[38;5;28;01melif\u001b[39;00m event \u001b[38;5;241m==\u001b[39m cv2\u001b[38;5;241m.\u001b[39mEVENT_RBUTTONDOWN:\n\u001b[0;32m     11\u001b[0m     cv2\u001b[38;5;241m.\u001b[39mcircle(img, (x,y), \u001b[38;5;241m10\u001b[39m, (\u001b[38;5;241m255\u001b[39m,\u001b[38;5;241m0\u001b[39m,\u001b[38;5;241m0\u001b[39m), \u001b[38;5;241m2\u001b[39m)\n\u001b[1;32m---> 12\u001b[0m \u001b[38;5;28;01melif\u001b[39;00m event \u001b[38;5;241m==\u001b[39m \u001b[43mcv2\u001b[49m\u001b[38;5;241;43m.\u001b[39;49m\u001b[43mEVENT_LBUTTONDBCLK\u001b[49m:\n\u001b[0;32m     13\u001b[0m     cv2\u001b[38;5;241m.\u001b[39mcircle(img, (x,y), \u001b[38;5;241m20\u001b[39m, (\u001b[38;5;241m255\u001b[39m,\u001b[38;5;241m0\u001b[39m,\u001b[38;5;241m0\u001b[39m), \u001b[38;5;241m-\u001b[39m\u001b[38;5;241m1\u001b[39m)\n",
      "\u001b[1;31mAttributeError\u001b[0m: module 'cv2' has no attribute 'EVENT_LBUTTONDBCLK'"
     ]
    },
    {
     "ename": "AttributeError",
     "evalue": "module 'cv2' has no attribute 'EVENT_LBUTTONDBCLK'",
     "output_type": "error",
     "traceback": [
      "\u001b[1;31m---------------------------------------------------------------------------\u001b[0m",
      "\u001b[1;31mAttributeError\u001b[0m                            Traceback (most recent call last)",
      "Cell \u001b[1;32mIn[6], line 12\u001b[0m, in \u001b[0;36mdraw_circle\u001b[1;34m(event, x, y, flags, param)\u001b[0m\n\u001b[0;32m     10\u001b[0m \u001b[38;5;28;01melif\u001b[39;00m event \u001b[38;5;241m==\u001b[39m cv2\u001b[38;5;241m.\u001b[39mEVENT_RBUTTONDOWN:\n\u001b[0;32m     11\u001b[0m     cv2\u001b[38;5;241m.\u001b[39mcircle(img, (x,y), \u001b[38;5;241m10\u001b[39m, (\u001b[38;5;241m255\u001b[39m,\u001b[38;5;241m0\u001b[39m,\u001b[38;5;241m0\u001b[39m), \u001b[38;5;241m2\u001b[39m)\n\u001b[1;32m---> 12\u001b[0m \u001b[38;5;28;01melif\u001b[39;00m event \u001b[38;5;241m==\u001b[39m \u001b[43mcv2\u001b[49m\u001b[38;5;241;43m.\u001b[39;49m\u001b[43mEVENT_LBUTTONDBCLK\u001b[49m:\n\u001b[0;32m     13\u001b[0m     cv2\u001b[38;5;241m.\u001b[39mcircle(img, (x,y), \u001b[38;5;241m20\u001b[39m, (\u001b[38;5;241m255\u001b[39m,\u001b[38;5;241m0\u001b[39m,\u001b[38;5;241m0\u001b[39m), \u001b[38;5;241m-\u001b[39m\u001b[38;5;241m1\u001b[39m)\n",
      "\u001b[1;31mAttributeError\u001b[0m: module 'cv2' has no attribute 'EVENT_LBUTTONDBCLK'"
     ]
    },
    {
     "ename": "AttributeError",
     "evalue": "module 'cv2' has no attribute 'EVENT_LBUTTONDBCLK'",
     "output_type": "error",
     "traceback": [
      "\u001b[1;31m---------------------------------------------------------------------------\u001b[0m",
      "\u001b[1;31mAttributeError\u001b[0m                            Traceback (most recent call last)",
      "Cell \u001b[1;32mIn[6], line 12\u001b[0m, in \u001b[0;36mdraw_circle\u001b[1;34m(event, x, y, flags, param)\u001b[0m\n\u001b[0;32m     10\u001b[0m \u001b[38;5;28;01melif\u001b[39;00m event \u001b[38;5;241m==\u001b[39m cv2\u001b[38;5;241m.\u001b[39mEVENT_RBUTTONDOWN:\n\u001b[0;32m     11\u001b[0m     cv2\u001b[38;5;241m.\u001b[39mcircle(img, (x,y), \u001b[38;5;241m10\u001b[39m, (\u001b[38;5;241m255\u001b[39m,\u001b[38;5;241m0\u001b[39m,\u001b[38;5;241m0\u001b[39m), \u001b[38;5;241m2\u001b[39m)\n\u001b[1;32m---> 12\u001b[0m \u001b[38;5;28;01melif\u001b[39;00m event \u001b[38;5;241m==\u001b[39m \u001b[43mcv2\u001b[49m\u001b[38;5;241;43m.\u001b[39;49m\u001b[43mEVENT_LBUTTONDBCLK\u001b[49m:\n\u001b[0;32m     13\u001b[0m     cv2\u001b[38;5;241m.\u001b[39mcircle(img, (x,y), \u001b[38;5;241m20\u001b[39m, (\u001b[38;5;241m255\u001b[39m,\u001b[38;5;241m0\u001b[39m,\u001b[38;5;241m0\u001b[39m), \u001b[38;5;241m-\u001b[39m\u001b[38;5;241m1\u001b[39m)\n",
      "\u001b[1;31mAttributeError\u001b[0m: module 'cv2' has no attribute 'EVENT_LBUTTONDBCLK'"
     ]
    },
    {
     "ename": "AttributeError",
     "evalue": "module 'cv2' has no attribute 'EVENT_LBUTTONDBCLK'",
     "output_type": "error",
     "traceback": [
      "\u001b[1;31m---------------------------------------------------------------------------\u001b[0m",
      "\u001b[1;31mAttributeError\u001b[0m                            Traceback (most recent call last)",
      "Cell \u001b[1;32mIn[6], line 12\u001b[0m, in \u001b[0;36mdraw_circle\u001b[1;34m(event, x, y, flags, param)\u001b[0m\n\u001b[0;32m     10\u001b[0m \u001b[38;5;28;01melif\u001b[39;00m event \u001b[38;5;241m==\u001b[39m cv2\u001b[38;5;241m.\u001b[39mEVENT_RBUTTONDOWN:\n\u001b[0;32m     11\u001b[0m     cv2\u001b[38;5;241m.\u001b[39mcircle(img, (x,y), \u001b[38;5;241m10\u001b[39m, (\u001b[38;5;241m255\u001b[39m,\u001b[38;5;241m0\u001b[39m,\u001b[38;5;241m0\u001b[39m), \u001b[38;5;241m2\u001b[39m)\n\u001b[1;32m---> 12\u001b[0m \u001b[38;5;28;01melif\u001b[39;00m event \u001b[38;5;241m==\u001b[39m \u001b[43mcv2\u001b[49m\u001b[38;5;241;43m.\u001b[39;49m\u001b[43mEVENT_LBUTTONDBCLK\u001b[49m:\n\u001b[0;32m     13\u001b[0m     cv2\u001b[38;5;241m.\u001b[39mcircle(img, (x,y), \u001b[38;5;241m20\u001b[39m, (\u001b[38;5;241m255\u001b[39m,\u001b[38;5;241m0\u001b[39m,\u001b[38;5;241m0\u001b[39m), \u001b[38;5;241m-\u001b[39m\u001b[38;5;241m1\u001b[39m)\n",
      "\u001b[1;31mAttributeError\u001b[0m: module 'cv2' has no attribute 'EVENT_LBUTTONDBCLK'"
     ]
    },
    {
     "ename": "AttributeError",
     "evalue": "module 'cv2' has no attribute 'EVENT_LBUTTONDBCLK'",
     "output_type": "error",
     "traceback": [
      "\u001b[1;31m---------------------------------------------------------------------------\u001b[0m",
      "\u001b[1;31mAttributeError\u001b[0m                            Traceback (most recent call last)",
      "Cell \u001b[1;32mIn[6], line 12\u001b[0m, in \u001b[0;36mdraw_circle\u001b[1;34m(event, x, y, flags, param)\u001b[0m\n\u001b[0;32m     10\u001b[0m \u001b[38;5;28;01melif\u001b[39;00m event \u001b[38;5;241m==\u001b[39m cv2\u001b[38;5;241m.\u001b[39mEVENT_RBUTTONDOWN:\n\u001b[0;32m     11\u001b[0m     cv2\u001b[38;5;241m.\u001b[39mcircle(img, (x,y), \u001b[38;5;241m10\u001b[39m, (\u001b[38;5;241m255\u001b[39m,\u001b[38;5;241m0\u001b[39m,\u001b[38;5;241m0\u001b[39m), \u001b[38;5;241m2\u001b[39m)\n\u001b[1;32m---> 12\u001b[0m \u001b[38;5;28;01melif\u001b[39;00m event \u001b[38;5;241m==\u001b[39m \u001b[43mcv2\u001b[49m\u001b[38;5;241;43m.\u001b[39;49m\u001b[43mEVENT_LBUTTONDBCLK\u001b[49m:\n\u001b[0;32m     13\u001b[0m     cv2\u001b[38;5;241m.\u001b[39mcircle(img, (x,y), \u001b[38;5;241m20\u001b[39m, (\u001b[38;5;241m255\u001b[39m,\u001b[38;5;241m0\u001b[39m,\u001b[38;5;241m0\u001b[39m), \u001b[38;5;241m-\u001b[39m\u001b[38;5;241m1\u001b[39m)\n",
      "\u001b[1;31mAttributeError\u001b[0m: module 'cv2' has no attribute 'EVENT_LBUTTONDBCLK'"
     ]
    },
    {
     "ename": "AttributeError",
     "evalue": "module 'cv2' has no attribute 'EVENT_LBUTTONDBCLK'",
     "output_type": "error",
     "traceback": [
      "\u001b[1;31m---------------------------------------------------------------------------\u001b[0m",
      "\u001b[1;31mAttributeError\u001b[0m                            Traceback (most recent call last)",
      "Cell \u001b[1;32mIn[6], line 12\u001b[0m, in \u001b[0;36mdraw_circle\u001b[1;34m(event, x, y, flags, param)\u001b[0m\n\u001b[0;32m     10\u001b[0m \u001b[38;5;28;01melif\u001b[39;00m event \u001b[38;5;241m==\u001b[39m cv2\u001b[38;5;241m.\u001b[39mEVENT_RBUTTONDOWN:\n\u001b[0;32m     11\u001b[0m     cv2\u001b[38;5;241m.\u001b[39mcircle(img, (x,y), \u001b[38;5;241m10\u001b[39m, (\u001b[38;5;241m255\u001b[39m,\u001b[38;5;241m0\u001b[39m,\u001b[38;5;241m0\u001b[39m), \u001b[38;5;241m2\u001b[39m)\n\u001b[1;32m---> 12\u001b[0m \u001b[38;5;28;01melif\u001b[39;00m event \u001b[38;5;241m==\u001b[39m \u001b[43mcv2\u001b[49m\u001b[38;5;241;43m.\u001b[39;49m\u001b[43mEVENT_LBUTTONDBCLK\u001b[49m:\n\u001b[0;32m     13\u001b[0m     cv2\u001b[38;5;241m.\u001b[39mcircle(img, (x,y), \u001b[38;5;241m20\u001b[39m, (\u001b[38;5;241m255\u001b[39m,\u001b[38;5;241m0\u001b[39m,\u001b[38;5;241m0\u001b[39m), \u001b[38;5;241m-\u001b[39m\u001b[38;5;241m1\u001b[39m)\n",
      "\u001b[1;31mAttributeError\u001b[0m: module 'cv2' has no attribute 'EVENT_LBUTTONDBCLK'"
     ]
    },
    {
     "ename": "AttributeError",
     "evalue": "module 'cv2' has no attribute 'EVENT_LBUTTONDBCLK'",
     "output_type": "error",
     "traceback": [
      "\u001b[1;31m---------------------------------------------------------------------------\u001b[0m",
      "\u001b[1;31mAttributeError\u001b[0m                            Traceback (most recent call last)",
      "Cell \u001b[1;32mIn[6], line 12\u001b[0m, in \u001b[0;36mdraw_circle\u001b[1;34m(event, x, y, flags, param)\u001b[0m\n\u001b[0;32m     10\u001b[0m \u001b[38;5;28;01melif\u001b[39;00m event \u001b[38;5;241m==\u001b[39m cv2\u001b[38;5;241m.\u001b[39mEVENT_RBUTTONDOWN:\n\u001b[0;32m     11\u001b[0m     cv2\u001b[38;5;241m.\u001b[39mcircle(img, (x,y), \u001b[38;5;241m10\u001b[39m, (\u001b[38;5;241m255\u001b[39m,\u001b[38;5;241m0\u001b[39m,\u001b[38;5;241m0\u001b[39m), \u001b[38;5;241m2\u001b[39m)\n\u001b[1;32m---> 12\u001b[0m \u001b[38;5;28;01melif\u001b[39;00m event \u001b[38;5;241m==\u001b[39m \u001b[43mcv2\u001b[49m\u001b[38;5;241;43m.\u001b[39;49m\u001b[43mEVENT_LBUTTONDBCLK\u001b[49m:\n\u001b[0;32m     13\u001b[0m     cv2\u001b[38;5;241m.\u001b[39mcircle(img, (x,y), \u001b[38;5;241m20\u001b[39m, (\u001b[38;5;241m255\u001b[39m,\u001b[38;5;241m0\u001b[39m,\u001b[38;5;241m0\u001b[39m), \u001b[38;5;241m-\u001b[39m\u001b[38;5;241m1\u001b[39m)\n",
      "\u001b[1;31mAttributeError\u001b[0m: module 'cv2' has no attribute 'EVENT_LBUTTONDBCLK'"
     ]
    },
    {
     "ename": "AttributeError",
     "evalue": "module 'cv2' has no attribute 'EVENT_LBUTTONDBCLK'",
     "output_type": "error",
     "traceback": [
      "\u001b[1;31m---------------------------------------------------------------------------\u001b[0m",
      "\u001b[1;31mAttributeError\u001b[0m                            Traceback (most recent call last)",
      "Cell \u001b[1;32mIn[6], line 12\u001b[0m, in \u001b[0;36mdraw_circle\u001b[1;34m(event, x, y, flags, param)\u001b[0m\n\u001b[0;32m     10\u001b[0m \u001b[38;5;28;01melif\u001b[39;00m event \u001b[38;5;241m==\u001b[39m cv2\u001b[38;5;241m.\u001b[39mEVENT_RBUTTONDOWN:\n\u001b[0;32m     11\u001b[0m     cv2\u001b[38;5;241m.\u001b[39mcircle(img, (x,y), \u001b[38;5;241m10\u001b[39m, (\u001b[38;5;241m255\u001b[39m,\u001b[38;5;241m0\u001b[39m,\u001b[38;5;241m0\u001b[39m), \u001b[38;5;241m2\u001b[39m)\n\u001b[1;32m---> 12\u001b[0m \u001b[38;5;28;01melif\u001b[39;00m event \u001b[38;5;241m==\u001b[39m \u001b[43mcv2\u001b[49m\u001b[38;5;241;43m.\u001b[39;49m\u001b[43mEVENT_LBUTTONDBCLK\u001b[49m:\n\u001b[0;32m     13\u001b[0m     cv2\u001b[38;5;241m.\u001b[39mcircle(img, (x,y), \u001b[38;5;241m20\u001b[39m, (\u001b[38;5;241m255\u001b[39m,\u001b[38;5;241m0\u001b[39m,\u001b[38;5;241m0\u001b[39m), \u001b[38;5;241m-\u001b[39m\u001b[38;5;241m1\u001b[39m)\n",
      "\u001b[1;31mAttributeError\u001b[0m: module 'cv2' has no attribute 'EVENT_LBUTTONDBCLK'"
     ]
    },
    {
     "ename": "AttributeError",
     "evalue": "module 'cv2' has no attribute 'EVENT_LBUTTONDBCLK'",
     "output_type": "error",
     "traceback": [
      "\u001b[1;31m---------------------------------------------------------------------------\u001b[0m",
      "\u001b[1;31mAttributeError\u001b[0m                            Traceback (most recent call last)",
      "Cell \u001b[1;32mIn[6], line 12\u001b[0m, in \u001b[0;36mdraw_circle\u001b[1;34m(event, x, y, flags, param)\u001b[0m\n\u001b[0;32m     10\u001b[0m \u001b[38;5;28;01melif\u001b[39;00m event \u001b[38;5;241m==\u001b[39m cv2\u001b[38;5;241m.\u001b[39mEVENT_RBUTTONDOWN:\n\u001b[0;32m     11\u001b[0m     cv2\u001b[38;5;241m.\u001b[39mcircle(img, (x,y), \u001b[38;5;241m10\u001b[39m, (\u001b[38;5;241m255\u001b[39m,\u001b[38;5;241m0\u001b[39m,\u001b[38;5;241m0\u001b[39m), \u001b[38;5;241m2\u001b[39m)\n\u001b[1;32m---> 12\u001b[0m \u001b[38;5;28;01melif\u001b[39;00m event \u001b[38;5;241m==\u001b[39m \u001b[43mcv2\u001b[49m\u001b[38;5;241;43m.\u001b[39;49m\u001b[43mEVENT_LBUTTONDBCLK\u001b[49m:\n\u001b[0;32m     13\u001b[0m     cv2\u001b[38;5;241m.\u001b[39mcircle(img, (x,y), \u001b[38;5;241m20\u001b[39m, (\u001b[38;5;241m255\u001b[39m,\u001b[38;5;241m0\u001b[39m,\u001b[38;5;241m0\u001b[39m), \u001b[38;5;241m-\u001b[39m\u001b[38;5;241m1\u001b[39m)\n",
      "\u001b[1;31mAttributeError\u001b[0m: module 'cv2' has no attribute 'EVENT_LBUTTONDBCLK'"
     ]
    },
    {
     "ename": "AttributeError",
     "evalue": "module 'cv2' has no attribute 'EVENT_LBUTTONDBCLK'",
     "output_type": "error",
     "traceback": [
      "\u001b[1;31m---------------------------------------------------------------------------\u001b[0m",
      "\u001b[1;31mAttributeError\u001b[0m                            Traceback (most recent call last)",
      "Cell \u001b[1;32mIn[6], line 12\u001b[0m, in \u001b[0;36mdraw_circle\u001b[1;34m(event, x, y, flags, param)\u001b[0m\n\u001b[0;32m     10\u001b[0m \u001b[38;5;28;01melif\u001b[39;00m event \u001b[38;5;241m==\u001b[39m cv2\u001b[38;5;241m.\u001b[39mEVENT_RBUTTONDOWN:\n\u001b[0;32m     11\u001b[0m     cv2\u001b[38;5;241m.\u001b[39mcircle(img, (x,y), \u001b[38;5;241m10\u001b[39m, (\u001b[38;5;241m255\u001b[39m,\u001b[38;5;241m0\u001b[39m,\u001b[38;5;241m0\u001b[39m), \u001b[38;5;241m2\u001b[39m)\n\u001b[1;32m---> 12\u001b[0m \u001b[38;5;28;01melif\u001b[39;00m event \u001b[38;5;241m==\u001b[39m \u001b[43mcv2\u001b[49m\u001b[38;5;241;43m.\u001b[39;49m\u001b[43mEVENT_LBUTTONDBCLK\u001b[49m:\n\u001b[0;32m     13\u001b[0m     cv2\u001b[38;5;241m.\u001b[39mcircle(img, (x,y), \u001b[38;5;241m20\u001b[39m, (\u001b[38;5;241m255\u001b[39m,\u001b[38;5;241m0\u001b[39m,\u001b[38;5;241m0\u001b[39m), \u001b[38;5;241m-\u001b[39m\u001b[38;5;241m1\u001b[39m)\n",
      "\u001b[1;31mAttributeError\u001b[0m: module 'cv2' has no attribute 'EVENT_LBUTTONDBCLK'"
     ]
    },
    {
     "ename": "AttributeError",
     "evalue": "module 'cv2' has no attribute 'EVENT_LBUTTONDBCLK'",
     "output_type": "error",
     "traceback": [
      "\u001b[1;31m---------------------------------------------------------------------------\u001b[0m",
      "\u001b[1;31mAttributeError\u001b[0m                            Traceback (most recent call last)",
      "Cell \u001b[1;32mIn[6], line 12\u001b[0m, in \u001b[0;36mdraw_circle\u001b[1;34m(event, x, y, flags, param)\u001b[0m\n\u001b[0;32m     10\u001b[0m \u001b[38;5;28;01melif\u001b[39;00m event \u001b[38;5;241m==\u001b[39m cv2\u001b[38;5;241m.\u001b[39mEVENT_RBUTTONDOWN:\n\u001b[0;32m     11\u001b[0m     cv2\u001b[38;5;241m.\u001b[39mcircle(img, (x,y), \u001b[38;5;241m10\u001b[39m, (\u001b[38;5;241m255\u001b[39m,\u001b[38;5;241m0\u001b[39m,\u001b[38;5;241m0\u001b[39m), \u001b[38;5;241m2\u001b[39m)\n\u001b[1;32m---> 12\u001b[0m \u001b[38;5;28;01melif\u001b[39;00m event \u001b[38;5;241m==\u001b[39m \u001b[43mcv2\u001b[49m\u001b[38;5;241;43m.\u001b[39;49m\u001b[43mEVENT_LBUTTONDBCLK\u001b[49m:\n\u001b[0;32m     13\u001b[0m     cv2\u001b[38;5;241m.\u001b[39mcircle(img, (x,y), \u001b[38;5;241m20\u001b[39m, (\u001b[38;5;241m255\u001b[39m,\u001b[38;5;241m0\u001b[39m,\u001b[38;5;241m0\u001b[39m), \u001b[38;5;241m-\u001b[39m\u001b[38;5;241m1\u001b[39m)\n",
      "\u001b[1;31mAttributeError\u001b[0m: module 'cv2' has no attribute 'EVENT_LBUTTONDBCLK'"
     ]
    },
    {
     "ename": "AttributeError",
     "evalue": "module 'cv2' has no attribute 'EVENT_LBUTTONDBCLK'",
     "output_type": "error",
     "traceback": [
      "\u001b[1;31m---------------------------------------------------------------------------\u001b[0m",
      "\u001b[1;31mAttributeError\u001b[0m                            Traceback (most recent call last)",
      "Cell \u001b[1;32mIn[6], line 12\u001b[0m, in \u001b[0;36mdraw_circle\u001b[1;34m(event, x, y, flags, param)\u001b[0m\n\u001b[0;32m     10\u001b[0m \u001b[38;5;28;01melif\u001b[39;00m event \u001b[38;5;241m==\u001b[39m cv2\u001b[38;5;241m.\u001b[39mEVENT_RBUTTONDOWN:\n\u001b[0;32m     11\u001b[0m     cv2\u001b[38;5;241m.\u001b[39mcircle(img, (x,y), \u001b[38;5;241m10\u001b[39m, (\u001b[38;5;241m255\u001b[39m,\u001b[38;5;241m0\u001b[39m,\u001b[38;5;241m0\u001b[39m), \u001b[38;5;241m2\u001b[39m)\n\u001b[1;32m---> 12\u001b[0m \u001b[38;5;28;01melif\u001b[39;00m event \u001b[38;5;241m==\u001b[39m \u001b[43mcv2\u001b[49m\u001b[38;5;241;43m.\u001b[39;49m\u001b[43mEVENT_LBUTTONDBCLK\u001b[49m:\n\u001b[0;32m     13\u001b[0m     cv2\u001b[38;5;241m.\u001b[39mcircle(img, (x,y), \u001b[38;5;241m20\u001b[39m, (\u001b[38;5;241m255\u001b[39m,\u001b[38;5;241m0\u001b[39m,\u001b[38;5;241m0\u001b[39m), \u001b[38;5;241m-\u001b[39m\u001b[38;5;241m1\u001b[39m)\n",
      "\u001b[1;31mAttributeError\u001b[0m: module 'cv2' has no attribute 'EVENT_LBUTTONDBCLK'"
     ]
    },
    {
     "ename": "AttributeError",
     "evalue": "module 'cv2' has no attribute 'EVENT_LBUTTONDBCLK'",
     "output_type": "error",
     "traceback": [
      "\u001b[1;31m---------------------------------------------------------------------------\u001b[0m",
      "\u001b[1;31mAttributeError\u001b[0m                            Traceback (most recent call last)",
      "Cell \u001b[1;32mIn[6], line 12\u001b[0m, in \u001b[0;36mdraw_circle\u001b[1;34m(event, x, y, flags, param)\u001b[0m\n\u001b[0;32m     10\u001b[0m \u001b[38;5;28;01melif\u001b[39;00m event \u001b[38;5;241m==\u001b[39m cv2\u001b[38;5;241m.\u001b[39mEVENT_RBUTTONDOWN:\n\u001b[0;32m     11\u001b[0m     cv2\u001b[38;5;241m.\u001b[39mcircle(img, (x,y), \u001b[38;5;241m10\u001b[39m, (\u001b[38;5;241m255\u001b[39m,\u001b[38;5;241m0\u001b[39m,\u001b[38;5;241m0\u001b[39m), \u001b[38;5;241m2\u001b[39m)\n\u001b[1;32m---> 12\u001b[0m \u001b[38;5;28;01melif\u001b[39;00m event \u001b[38;5;241m==\u001b[39m \u001b[43mcv2\u001b[49m\u001b[38;5;241;43m.\u001b[39;49m\u001b[43mEVENT_LBUTTONDBCLK\u001b[49m:\n\u001b[0;32m     13\u001b[0m     cv2\u001b[38;5;241m.\u001b[39mcircle(img, (x,y), \u001b[38;5;241m20\u001b[39m, (\u001b[38;5;241m255\u001b[39m,\u001b[38;5;241m0\u001b[39m,\u001b[38;5;241m0\u001b[39m), \u001b[38;5;241m-\u001b[39m\u001b[38;5;241m1\u001b[39m)\n",
      "\u001b[1;31mAttributeError\u001b[0m: module 'cv2' has no attribute 'EVENT_LBUTTONDBCLK'"
     ]
    },
    {
     "ename": "AttributeError",
     "evalue": "module 'cv2' has no attribute 'EVENT_LBUTTONDBCLK'",
     "output_type": "error",
     "traceback": [
      "\u001b[1;31m---------------------------------------------------------------------------\u001b[0m",
      "\u001b[1;31mAttributeError\u001b[0m                            Traceback (most recent call last)",
      "Cell \u001b[1;32mIn[6], line 12\u001b[0m, in \u001b[0;36mdraw_circle\u001b[1;34m(event, x, y, flags, param)\u001b[0m\n\u001b[0;32m     10\u001b[0m \u001b[38;5;28;01melif\u001b[39;00m event \u001b[38;5;241m==\u001b[39m cv2\u001b[38;5;241m.\u001b[39mEVENT_RBUTTONDOWN:\n\u001b[0;32m     11\u001b[0m     cv2\u001b[38;5;241m.\u001b[39mcircle(img, (x,y), \u001b[38;5;241m10\u001b[39m, (\u001b[38;5;241m255\u001b[39m,\u001b[38;5;241m0\u001b[39m,\u001b[38;5;241m0\u001b[39m), \u001b[38;5;241m2\u001b[39m)\n\u001b[1;32m---> 12\u001b[0m \u001b[38;5;28;01melif\u001b[39;00m event \u001b[38;5;241m==\u001b[39m \u001b[43mcv2\u001b[49m\u001b[38;5;241;43m.\u001b[39;49m\u001b[43mEVENT_LBUTTONDBCLK\u001b[49m:\n\u001b[0;32m     13\u001b[0m     cv2\u001b[38;5;241m.\u001b[39mcircle(img, (x,y), \u001b[38;5;241m20\u001b[39m, (\u001b[38;5;241m255\u001b[39m,\u001b[38;5;241m0\u001b[39m,\u001b[38;5;241m0\u001b[39m), \u001b[38;5;241m-\u001b[39m\u001b[38;5;241m1\u001b[39m)\n",
      "\u001b[1;31mAttributeError\u001b[0m: module 'cv2' has no attribute 'EVENT_LBUTTONDBCLK'"
     ]
    },
    {
     "ename": "AttributeError",
     "evalue": "module 'cv2' has no attribute 'EVENT_LBUTTONDBCLK'",
     "output_type": "error",
     "traceback": [
      "\u001b[1;31m---------------------------------------------------------------------------\u001b[0m",
      "\u001b[1;31mAttributeError\u001b[0m                            Traceback (most recent call last)",
      "Cell \u001b[1;32mIn[6], line 12\u001b[0m, in \u001b[0;36mdraw_circle\u001b[1;34m(event, x, y, flags, param)\u001b[0m\n\u001b[0;32m     10\u001b[0m \u001b[38;5;28;01melif\u001b[39;00m event \u001b[38;5;241m==\u001b[39m cv2\u001b[38;5;241m.\u001b[39mEVENT_RBUTTONDOWN:\n\u001b[0;32m     11\u001b[0m     cv2\u001b[38;5;241m.\u001b[39mcircle(img, (x,y), \u001b[38;5;241m10\u001b[39m, (\u001b[38;5;241m255\u001b[39m,\u001b[38;5;241m0\u001b[39m,\u001b[38;5;241m0\u001b[39m), \u001b[38;5;241m2\u001b[39m)\n\u001b[1;32m---> 12\u001b[0m \u001b[38;5;28;01melif\u001b[39;00m event \u001b[38;5;241m==\u001b[39m \u001b[43mcv2\u001b[49m\u001b[38;5;241;43m.\u001b[39;49m\u001b[43mEVENT_LBUTTONDBCLK\u001b[49m:\n\u001b[0;32m     13\u001b[0m     cv2\u001b[38;5;241m.\u001b[39mcircle(img, (x,y), \u001b[38;5;241m20\u001b[39m, (\u001b[38;5;241m255\u001b[39m,\u001b[38;5;241m0\u001b[39m,\u001b[38;5;241m0\u001b[39m), \u001b[38;5;241m-\u001b[39m\u001b[38;5;241m1\u001b[39m)\n",
      "\u001b[1;31mAttributeError\u001b[0m: module 'cv2' has no attribute 'EVENT_LBUTTONDBCLK'"
     ]
    },
    {
     "ename": "AttributeError",
     "evalue": "module 'cv2' has no attribute 'EVENT_LBUTTONDBCLK'",
     "output_type": "error",
     "traceback": [
      "\u001b[1;31m---------------------------------------------------------------------------\u001b[0m",
      "\u001b[1;31mAttributeError\u001b[0m                            Traceback (most recent call last)",
      "Cell \u001b[1;32mIn[6], line 12\u001b[0m, in \u001b[0;36mdraw_circle\u001b[1;34m(event, x, y, flags, param)\u001b[0m\n\u001b[0;32m     10\u001b[0m \u001b[38;5;28;01melif\u001b[39;00m event \u001b[38;5;241m==\u001b[39m cv2\u001b[38;5;241m.\u001b[39mEVENT_RBUTTONDOWN:\n\u001b[0;32m     11\u001b[0m     cv2\u001b[38;5;241m.\u001b[39mcircle(img, (x,y), \u001b[38;5;241m10\u001b[39m, (\u001b[38;5;241m255\u001b[39m,\u001b[38;5;241m0\u001b[39m,\u001b[38;5;241m0\u001b[39m), \u001b[38;5;241m2\u001b[39m)\n\u001b[1;32m---> 12\u001b[0m \u001b[38;5;28;01melif\u001b[39;00m event \u001b[38;5;241m==\u001b[39m \u001b[43mcv2\u001b[49m\u001b[38;5;241;43m.\u001b[39;49m\u001b[43mEVENT_LBUTTONDBCLK\u001b[49m:\n\u001b[0;32m     13\u001b[0m     cv2\u001b[38;5;241m.\u001b[39mcircle(img, (x,y), \u001b[38;5;241m20\u001b[39m, (\u001b[38;5;241m255\u001b[39m,\u001b[38;5;241m0\u001b[39m,\u001b[38;5;241m0\u001b[39m), \u001b[38;5;241m-\u001b[39m\u001b[38;5;241m1\u001b[39m)\n",
      "\u001b[1;31mAttributeError\u001b[0m: module 'cv2' has no attribute 'EVENT_LBUTTONDBCLK'"
     ]
    },
    {
     "ename": "AttributeError",
     "evalue": "module 'cv2' has no attribute 'EVENT_LBUTTONDBCLK'",
     "output_type": "error",
     "traceback": [
      "\u001b[1;31m---------------------------------------------------------------------------\u001b[0m",
      "\u001b[1;31mAttributeError\u001b[0m                            Traceback (most recent call last)",
      "Cell \u001b[1;32mIn[6], line 12\u001b[0m, in \u001b[0;36mdraw_circle\u001b[1;34m(event, x, y, flags, param)\u001b[0m\n\u001b[0;32m     10\u001b[0m \u001b[38;5;28;01melif\u001b[39;00m event \u001b[38;5;241m==\u001b[39m cv2\u001b[38;5;241m.\u001b[39mEVENT_RBUTTONDOWN:\n\u001b[0;32m     11\u001b[0m     cv2\u001b[38;5;241m.\u001b[39mcircle(img, (x,y), \u001b[38;5;241m10\u001b[39m, (\u001b[38;5;241m255\u001b[39m,\u001b[38;5;241m0\u001b[39m,\u001b[38;5;241m0\u001b[39m), \u001b[38;5;241m2\u001b[39m)\n\u001b[1;32m---> 12\u001b[0m \u001b[38;5;28;01melif\u001b[39;00m event \u001b[38;5;241m==\u001b[39m \u001b[43mcv2\u001b[49m\u001b[38;5;241;43m.\u001b[39;49m\u001b[43mEVENT_LBUTTONDBCLK\u001b[49m:\n\u001b[0;32m     13\u001b[0m     cv2\u001b[38;5;241m.\u001b[39mcircle(img, (x,y), \u001b[38;5;241m20\u001b[39m, (\u001b[38;5;241m255\u001b[39m,\u001b[38;5;241m0\u001b[39m,\u001b[38;5;241m0\u001b[39m), \u001b[38;5;241m-\u001b[39m\u001b[38;5;241m1\u001b[39m)\n",
      "\u001b[1;31mAttributeError\u001b[0m: module 'cv2' has no attribute 'EVENT_LBUTTONDBCLK'"
     ]
    },
    {
     "ename": "AttributeError",
     "evalue": "module 'cv2' has no attribute 'EVENT_LBUTTONDBCLK'",
     "output_type": "error",
     "traceback": [
      "\u001b[1;31m---------------------------------------------------------------------------\u001b[0m",
      "\u001b[1;31mAttributeError\u001b[0m                            Traceback (most recent call last)",
      "Cell \u001b[1;32mIn[6], line 12\u001b[0m, in \u001b[0;36mdraw_circle\u001b[1;34m(event, x, y, flags, param)\u001b[0m\n\u001b[0;32m     10\u001b[0m \u001b[38;5;28;01melif\u001b[39;00m event \u001b[38;5;241m==\u001b[39m cv2\u001b[38;5;241m.\u001b[39mEVENT_RBUTTONDOWN:\n\u001b[0;32m     11\u001b[0m     cv2\u001b[38;5;241m.\u001b[39mcircle(img, (x,y), \u001b[38;5;241m10\u001b[39m, (\u001b[38;5;241m255\u001b[39m,\u001b[38;5;241m0\u001b[39m,\u001b[38;5;241m0\u001b[39m), \u001b[38;5;241m2\u001b[39m)\n\u001b[1;32m---> 12\u001b[0m \u001b[38;5;28;01melif\u001b[39;00m event \u001b[38;5;241m==\u001b[39m \u001b[43mcv2\u001b[49m\u001b[38;5;241;43m.\u001b[39;49m\u001b[43mEVENT_LBUTTONDBCLK\u001b[49m:\n\u001b[0;32m     13\u001b[0m     cv2\u001b[38;5;241m.\u001b[39mcircle(img, (x,y), \u001b[38;5;241m20\u001b[39m, (\u001b[38;5;241m255\u001b[39m,\u001b[38;5;241m0\u001b[39m,\u001b[38;5;241m0\u001b[39m), \u001b[38;5;241m-\u001b[39m\u001b[38;5;241m1\u001b[39m)\n",
      "\u001b[1;31mAttributeError\u001b[0m: module 'cv2' has no attribute 'EVENT_LBUTTONDBCLK'"
     ]
    },
    {
     "ename": "AttributeError",
     "evalue": "module 'cv2' has no attribute 'EVENT_LBUTTONDBCLK'",
     "output_type": "error",
     "traceback": [
      "\u001b[1;31m---------------------------------------------------------------------------\u001b[0m",
      "\u001b[1;31mAttributeError\u001b[0m                            Traceback (most recent call last)",
      "Cell \u001b[1;32mIn[6], line 12\u001b[0m, in \u001b[0;36mdraw_circle\u001b[1;34m(event, x, y, flags, param)\u001b[0m\n\u001b[0;32m     10\u001b[0m \u001b[38;5;28;01melif\u001b[39;00m event \u001b[38;5;241m==\u001b[39m cv2\u001b[38;5;241m.\u001b[39mEVENT_RBUTTONDOWN:\n\u001b[0;32m     11\u001b[0m     cv2\u001b[38;5;241m.\u001b[39mcircle(img, (x,y), \u001b[38;5;241m10\u001b[39m, (\u001b[38;5;241m255\u001b[39m,\u001b[38;5;241m0\u001b[39m,\u001b[38;5;241m0\u001b[39m), \u001b[38;5;241m2\u001b[39m)\n\u001b[1;32m---> 12\u001b[0m \u001b[38;5;28;01melif\u001b[39;00m event \u001b[38;5;241m==\u001b[39m \u001b[43mcv2\u001b[49m\u001b[38;5;241;43m.\u001b[39;49m\u001b[43mEVENT_LBUTTONDBCLK\u001b[49m:\n\u001b[0;32m     13\u001b[0m     cv2\u001b[38;5;241m.\u001b[39mcircle(img, (x,y), \u001b[38;5;241m20\u001b[39m, (\u001b[38;5;241m255\u001b[39m,\u001b[38;5;241m0\u001b[39m,\u001b[38;5;241m0\u001b[39m), \u001b[38;5;241m-\u001b[39m\u001b[38;5;241m1\u001b[39m)\n",
      "\u001b[1;31mAttributeError\u001b[0m: module 'cv2' has no attribute 'EVENT_LBUTTONDBCLK'"
     ]
    },
    {
     "ename": "AttributeError",
     "evalue": "module 'cv2' has no attribute 'EVENT_LBUTTONDBCLK'",
     "output_type": "error",
     "traceback": [
      "\u001b[1;31m---------------------------------------------------------------------------\u001b[0m",
      "\u001b[1;31mAttributeError\u001b[0m                            Traceback (most recent call last)",
      "Cell \u001b[1;32mIn[6], line 12\u001b[0m, in \u001b[0;36mdraw_circle\u001b[1;34m(event, x, y, flags, param)\u001b[0m\n\u001b[0;32m     10\u001b[0m \u001b[38;5;28;01melif\u001b[39;00m event \u001b[38;5;241m==\u001b[39m cv2\u001b[38;5;241m.\u001b[39mEVENT_RBUTTONDOWN:\n\u001b[0;32m     11\u001b[0m     cv2\u001b[38;5;241m.\u001b[39mcircle(img, (x,y), \u001b[38;5;241m10\u001b[39m, (\u001b[38;5;241m255\u001b[39m,\u001b[38;5;241m0\u001b[39m,\u001b[38;5;241m0\u001b[39m), \u001b[38;5;241m2\u001b[39m)\n\u001b[1;32m---> 12\u001b[0m \u001b[38;5;28;01melif\u001b[39;00m event \u001b[38;5;241m==\u001b[39m \u001b[43mcv2\u001b[49m\u001b[38;5;241;43m.\u001b[39;49m\u001b[43mEVENT_LBUTTONDBCLK\u001b[49m:\n\u001b[0;32m     13\u001b[0m     cv2\u001b[38;5;241m.\u001b[39mcircle(img, (x,y), \u001b[38;5;241m20\u001b[39m, (\u001b[38;5;241m255\u001b[39m,\u001b[38;5;241m0\u001b[39m,\u001b[38;5;241m0\u001b[39m), \u001b[38;5;241m-\u001b[39m\u001b[38;5;241m1\u001b[39m)\n",
      "\u001b[1;31mAttributeError\u001b[0m: module 'cv2' has no attribute 'EVENT_LBUTTONDBCLK'"
     ]
    },
    {
     "ename": "AttributeError",
     "evalue": "module 'cv2' has no attribute 'EVENT_LBUTTONDBCLK'",
     "output_type": "error",
     "traceback": [
      "\u001b[1;31m---------------------------------------------------------------------------\u001b[0m",
      "\u001b[1;31mAttributeError\u001b[0m                            Traceback (most recent call last)",
      "Cell \u001b[1;32mIn[6], line 12\u001b[0m, in \u001b[0;36mdraw_circle\u001b[1;34m(event, x, y, flags, param)\u001b[0m\n\u001b[0;32m     10\u001b[0m \u001b[38;5;28;01melif\u001b[39;00m event \u001b[38;5;241m==\u001b[39m cv2\u001b[38;5;241m.\u001b[39mEVENT_RBUTTONDOWN:\n\u001b[0;32m     11\u001b[0m     cv2\u001b[38;5;241m.\u001b[39mcircle(img, (x,y), \u001b[38;5;241m10\u001b[39m, (\u001b[38;5;241m255\u001b[39m,\u001b[38;5;241m0\u001b[39m,\u001b[38;5;241m0\u001b[39m), \u001b[38;5;241m2\u001b[39m)\n\u001b[1;32m---> 12\u001b[0m \u001b[38;5;28;01melif\u001b[39;00m event \u001b[38;5;241m==\u001b[39m \u001b[43mcv2\u001b[49m\u001b[38;5;241;43m.\u001b[39;49m\u001b[43mEVENT_LBUTTONDBCLK\u001b[49m:\n\u001b[0;32m     13\u001b[0m     cv2\u001b[38;5;241m.\u001b[39mcircle(img, (x,y), \u001b[38;5;241m20\u001b[39m, (\u001b[38;5;241m255\u001b[39m,\u001b[38;5;241m0\u001b[39m,\u001b[38;5;241m0\u001b[39m), \u001b[38;5;241m-\u001b[39m\u001b[38;5;241m1\u001b[39m)\n",
      "\u001b[1;31mAttributeError\u001b[0m: module 'cv2' has no attribute 'EVENT_LBUTTONDBCLK'"
     ]
    },
    {
     "ename": "AttributeError",
     "evalue": "module 'cv2' has no attribute 'EVENT_LBUTTONDBCLK'",
     "output_type": "error",
     "traceback": [
      "\u001b[1;31m---------------------------------------------------------------------------\u001b[0m",
      "\u001b[1;31mAttributeError\u001b[0m                            Traceback (most recent call last)",
      "Cell \u001b[1;32mIn[6], line 12\u001b[0m, in \u001b[0;36mdraw_circle\u001b[1;34m(event, x, y, flags, param)\u001b[0m\n\u001b[0;32m     10\u001b[0m \u001b[38;5;28;01melif\u001b[39;00m event \u001b[38;5;241m==\u001b[39m cv2\u001b[38;5;241m.\u001b[39mEVENT_RBUTTONDOWN:\n\u001b[0;32m     11\u001b[0m     cv2\u001b[38;5;241m.\u001b[39mcircle(img, (x,y), \u001b[38;5;241m10\u001b[39m, (\u001b[38;5;241m255\u001b[39m,\u001b[38;5;241m0\u001b[39m,\u001b[38;5;241m0\u001b[39m), \u001b[38;5;241m2\u001b[39m)\n\u001b[1;32m---> 12\u001b[0m \u001b[38;5;28;01melif\u001b[39;00m event \u001b[38;5;241m==\u001b[39m \u001b[43mcv2\u001b[49m\u001b[38;5;241;43m.\u001b[39;49m\u001b[43mEVENT_LBUTTONDBCLK\u001b[49m:\n\u001b[0;32m     13\u001b[0m     cv2\u001b[38;5;241m.\u001b[39mcircle(img, (x,y), \u001b[38;5;241m20\u001b[39m, (\u001b[38;5;241m255\u001b[39m,\u001b[38;5;241m0\u001b[39m,\u001b[38;5;241m0\u001b[39m), \u001b[38;5;241m-\u001b[39m\u001b[38;5;241m1\u001b[39m)\n",
      "\u001b[1;31mAttributeError\u001b[0m: module 'cv2' has no attribute 'EVENT_LBUTTONDBCLK'"
     ]
    },
    {
     "ename": "AttributeError",
     "evalue": "module 'cv2' has no attribute 'EVENT_LBUTTONDBCLK'",
     "output_type": "error",
     "traceback": [
      "\u001b[1;31m---------------------------------------------------------------------------\u001b[0m",
      "\u001b[1;31mAttributeError\u001b[0m                            Traceback (most recent call last)",
      "Cell \u001b[1;32mIn[6], line 12\u001b[0m, in \u001b[0;36mdraw_circle\u001b[1;34m(event, x, y, flags, param)\u001b[0m\n\u001b[0;32m     10\u001b[0m \u001b[38;5;28;01melif\u001b[39;00m event \u001b[38;5;241m==\u001b[39m cv2\u001b[38;5;241m.\u001b[39mEVENT_RBUTTONDOWN:\n\u001b[0;32m     11\u001b[0m     cv2\u001b[38;5;241m.\u001b[39mcircle(img, (x,y), \u001b[38;5;241m10\u001b[39m, (\u001b[38;5;241m255\u001b[39m,\u001b[38;5;241m0\u001b[39m,\u001b[38;5;241m0\u001b[39m), \u001b[38;5;241m2\u001b[39m)\n\u001b[1;32m---> 12\u001b[0m \u001b[38;5;28;01melif\u001b[39;00m event \u001b[38;5;241m==\u001b[39m \u001b[43mcv2\u001b[49m\u001b[38;5;241;43m.\u001b[39;49m\u001b[43mEVENT_LBUTTONDBCLK\u001b[49m:\n\u001b[0;32m     13\u001b[0m     cv2\u001b[38;5;241m.\u001b[39mcircle(img, (x,y), \u001b[38;5;241m20\u001b[39m, (\u001b[38;5;241m255\u001b[39m,\u001b[38;5;241m0\u001b[39m,\u001b[38;5;241m0\u001b[39m), \u001b[38;5;241m-\u001b[39m\u001b[38;5;241m1\u001b[39m)\n",
      "\u001b[1;31mAttributeError\u001b[0m: module 'cv2' has no attribute 'EVENT_LBUTTONDBCLK'"
     ]
    },
    {
     "ename": "AttributeError",
     "evalue": "module 'cv2' has no attribute 'EVENT_LBUTTONDBCLK'",
     "output_type": "error",
     "traceback": [
      "\u001b[1;31m---------------------------------------------------------------------------\u001b[0m",
      "\u001b[1;31mAttributeError\u001b[0m                            Traceback (most recent call last)",
      "Cell \u001b[1;32mIn[6], line 12\u001b[0m, in \u001b[0;36mdraw_circle\u001b[1;34m(event, x, y, flags, param)\u001b[0m\n\u001b[0;32m     10\u001b[0m \u001b[38;5;28;01melif\u001b[39;00m event \u001b[38;5;241m==\u001b[39m cv2\u001b[38;5;241m.\u001b[39mEVENT_RBUTTONDOWN:\n\u001b[0;32m     11\u001b[0m     cv2\u001b[38;5;241m.\u001b[39mcircle(img, (x,y), \u001b[38;5;241m10\u001b[39m, (\u001b[38;5;241m255\u001b[39m,\u001b[38;5;241m0\u001b[39m,\u001b[38;5;241m0\u001b[39m), \u001b[38;5;241m2\u001b[39m)\n\u001b[1;32m---> 12\u001b[0m \u001b[38;5;28;01melif\u001b[39;00m event \u001b[38;5;241m==\u001b[39m \u001b[43mcv2\u001b[49m\u001b[38;5;241;43m.\u001b[39;49m\u001b[43mEVENT_LBUTTONDBCLK\u001b[49m:\n\u001b[0;32m     13\u001b[0m     cv2\u001b[38;5;241m.\u001b[39mcircle(img, (x,y), \u001b[38;5;241m20\u001b[39m, (\u001b[38;5;241m255\u001b[39m,\u001b[38;5;241m0\u001b[39m,\u001b[38;5;241m0\u001b[39m), \u001b[38;5;241m-\u001b[39m\u001b[38;5;241m1\u001b[39m)\n",
      "\u001b[1;31mAttributeError\u001b[0m: module 'cv2' has no attribute 'EVENT_LBUTTONDBCLK'"
     ]
    },
    {
     "ename": "AttributeError",
     "evalue": "module 'cv2' has no attribute 'EVENT_LBUTTONDBCLK'",
     "output_type": "error",
     "traceback": [
      "\u001b[1;31m---------------------------------------------------------------------------\u001b[0m",
      "\u001b[1;31mAttributeError\u001b[0m                            Traceback (most recent call last)",
      "Cell \u001b[1;32mIn[6], line 12\u001b[0m, in \u001b[0;36mdraw_circle\u001b[1;34m(event, x, y, flags, param)\u001b[0m\n\u001b[0;32m     10\u001b[0m \u001b[38;5;28;01melif\u001b[39;00m event \u001b[38;5;241m==\u001b[39m cv2\u001b[38;5;241m.\u001b[39mEVENT_RBUTTONDOWN:\n\u001b[0;32m     11\u001b[0m     cv2\u001b[38;5;241m.\u001b[39mcircle(img, (x,y), \u001b[38;5;241m10\u001b[39m, (\u001b[38;5;241m255\u001b[39m,\u001b[38;5;241m0\u001b[39m,\u001b[38;5;241m0\u001b[39m), \u001b[38;5;241m2\u001b[39m)\n\u001b[1;32m---> 12\u001b[0m \u001b[38;5;28;01melif\u001b[39;00m event \u001b[38;5;241m==\u001b[39m \u001b[43mcv2\u001b[49m\u001b[38;5;241;43m.\u001b[39;49m\u001b[43mEVENT_LBUTTONDBCLK\u001b[49m:\n\u001b[0;32m     13\u001b[0m     cv2\u001b[38;5;241m.\u001b[39mcircle(img, (x,y), \u001b[38;5;241m20\u001b[39m, (\u001b[38;5;241m255\u001b[39m,\u001b[38;5;241m0\u001b[39m,\u001b[38;5;241m0\u001b[39m), \u001b[38;5;241m-\u001b[39m\u001b[38;5;241m1\u001b[39m)\n",
      "\u001b[1;31mAttributeError\u001b[0m: module 'cv2' has no attribute 'EVENT_LBUTTONDBCLK'"
     ]
    },
    {
     "ename": "AttributeError",
     "evalue": "module 'cv2' has no attribute 'EVENT_LBUTTONDBCLK'",
     "output_type": "error",
     "traceback": [
      "\u001b[1;31m---------------------------------------------------------------------------\u001b[0m",
      "\u001b[1;31mAttributeError\u001b[0m                            Traceback (most recent call last)",
      "Cell \u001b[1;32mIn[6], line 12\u001b[0m, in \u001b[0;36mdraw_circle\u001b[1;34m(event, x, y, flags, param)\u001b[0m\n\u001b[0;32m     10\u001b[0m \u001b[38;5;28;01melif\u001b[39;00m event \u001b[38;5;241m==\u001b[39m cv2\u001b[38;5;241m.\u001b[39mEVENT_RBUTTONDOWN:\n\u001b[0;32m     11\u001b[0m     cv2\u001b[38;5;241m.\u001b[39mcircle(img, (x,y), \u001b[38;5;241m10\u001b[39m, (\u001b[38;5;241m255\u001b[39m,\u001b[38;5;241m0\u001b[39m,\u001b[38;5;241m0\u001b[39m), \u001b[38;5;241m2\u001b[39m)\n\u001b[1;32m---> 12\u001b[0m \u001b[38;5;28;01melif\u001b[39;00m event \u001b[38;5;241m==\u001b[39m \u001b[43mcv2\u001b[49m\u001b[38;5;241;43m.\u001b[39;49m\u001b[43mEVENT_LBUTTONDBCLK\u001b[49m:\n\u001b[0;32m     13\u001b[0m     cv2\u001b[38;5;241m.\u001b[39mcircle(img, (x,y), \u001b[38;5;241m20\u001b[39m, (\u001b[38;5;241m255\u001b[39m,\u001b[38;5;241m0\u001b[39m,\u001b[38;5;241m0\u001b[39m), \u001b[38;5;241m-\u001b[39m\u001b[38;5;241m1\u001b[39m)\n",
      "\u001b[1;31mAttributeError\u001b[0m: module 'cv2' has no attribute 'EVENT_LBUTTONDBCLK'"
     ]
    },
    {
     "ename": "AttributeError",
     "evalue": "module 'cv2' has no attribute 'EVENT_LBUTTONDBCLK'",
     "output_type": "error",
     "traceback": [
      "\u001b[1;31m---------------------------------------------------------------------------\u001b[0m",
      "\u001b[1;31mAttributeError\u001b[0m                            Traceback (most recent call last)",
      "Cell \u001b[1;32mIn[6], line 12\u001b[0m, in \u001b[0;36mdraw_circle\u001b[1;34m(event, x, y, flags, param)\u001b[0m\n\u001b[0;32m     10\u001b[0m \u001b[38;5;28;01melif\u001b[39;00m event \u001b[38;5;241m==\u001b[39m cv2\u001b[38;5;241m.\u001b[39mEVENT_RBUTTONDOWN:\n\u001b[0;32m     11\u001b[0m     cv2\u001b[38;5;241m.\u001b[39mcircle(img, (x,y), \u001b[38;5;241m10\u001b[39m, (\u001b[38;5;241m255\u001b[39m,\u001b[38;5;241m0\u001b[39m,\u001b[38;5;241m0\u001b[39m), \u001b[38;5;241m2\u001b[39m)\n\u001b[1;32m---> 12\u001b[0m \u001b[38;5;28;01melif\u001b[39;00m event \u001b[38;5;241m==\u001b[39m \u001b[43mcv2\u001b[49m\u001b[38;5;241;43m.\u001b[39;49m\u001b[43mEVENT_LBUTTONDBCLK\u001b[49m:\n\u001b[0;32m     13\u001b[0m     cv2\u001b[38;5;241m.\u001b[39mcircle(img, (x,y), \u001b[38;5;241m20\u001b[39m, (\u001b[38;5;241m255\u001b[39m,\u001b[38;5;241m0\u001b[39m,\u001b[38;5;241m0\u001b[39m), \u001b[38;5;241m-\u001b[39m\u001b[38;5;241m1\u001b[39m)\n",
      "\u001b[1;31mAttributeError\u001b[0m: module 'cv2' has no attribute 'EVENT_LBUTTONDBCLK'"
     ]
    },
    {
     "ename": "AttributeError",
     "evalue": "module 'cv2' has no attribute 'EVENT_LBUTTONDBCLK'",
     "output_type": "error",
     "traceback": [
      "\u001b[1;31m---------------------------------------------------------------------------\u001b[0m",
      "\u001b[1;31mAttributeError\u001b[0m                            Traceback (most recent call last)",
      "Cell \u001b[1;32mIn[6], line 12\u001b[0m, in \u001b[0;36mdraw_circle\u001b[1;34m(event, x, y, flags, param)\u001b[0m\n\u001b[0;32m     10\u001b[0m \u001b[38;5;28;01melif\u001b[39;00m event \u001b[38;5;241m==\u001b[39m cv2\u001b[38;5;241m.\u001b[39mEVENT_RBUTTONDOWN:\n\u001b[0;32m     11\u001b[0m     cv2\u001b[38;5;241m.\u001b[39mcircle(img, (x,y), \u001b[38;5;241m10\u001b[39m, (\u001b[38;5;241m255\u001b[39m,\u001b[38;5;241m0\u001b[39m,\u001b[38;5;241m0\u001b[39m), \u001b[38;5;241m2\u001b[39m)\n\u001b[1;32m---> 12\u001b[0m \u001b[38;5;28;01melif\u001b[39;00m event \u001b[38;5;241m==\u001b[39m \u001b[43mcv2\u001b[49m\u001b[38;5;241;43m.\u001b[39;49m\u001b[43mEVENT_LBUTTONDBCLK\u001b[49m:\n\u001b[0;32m     13\u001b[0m     cv2\u001b[38;5;241m.\u001b[39mcircle(img, (x,y), \u001b[38;5;241m20\u001b[39m, (\u001b[38;5;241m255\u001b[39m,\u001b[38;5;241m0\u001b[39m,\u001b[38;5;241m0\u001b[39m), \u001b[38;5;241m-\u001b[39m\u001b[38;5;241m1\u001b[39m)\n",
      "\u001b[1;31mAttributeError\u001b[0m: module 'cv2' has no attribute 'EVENT_LBUTTONDBCLK'"
     ]
    },
    {
     "ename": "AttributeError",
     "evalue": "module 'cv2' has no attribute 'EVENT_LBUTTONDBCLK'",
     "output_type": "error",
     "traceback": [
      "\u001b[1;31m---------------------------------------------------------------------------\u001b[0m",
      "\u001b[1;31mAttributeError\u001b[0m                            Traceback (most recent call last)",
      "Cell \u001b[1;32mIn[6], line 12\u001b[0m, in \u001b[0;36mdraw_circle\u001b[1;34m(event, x, y, flags, param)\u001b[0m\n\u001b[0;32m     10\u001b[0m \u001b[38;5;28;01melif\u001b[39;00m event \u001b[38;5;241m==\u001b[39m cv2\u001b[38;5;241m.\u001b[39mEVENT_RBUTTONDOWN:\n\u001b[0;32m     11\u001b[0m     cv2\u001b[38;5;241m.\u001b[39mcircle(img, (x,y), \u001b[38;5;241m10\u001b[39m, (\u001b[38;5;241m255\u001b[39m,\u001b[38;5;241m0\u001b[39m,\u001b[38;5;241m0\u001b[39m), \u001b[38;5;241m2\u001b[39m)\n\u001b[1;32m---> 12\u001b[0m \u001b[38;5;28;01melif\u001b[39;00m event \u001b[38;5;241m==\u001b[39m \u001b[43mcv2\u001b[49m\u001b[38;5;241;43m.\u001b[39;49m\u001b[43mEVENT_LBUTTONDBCLK\u001b[49m:\n\u001b[0;32m     13\u001b[0m     cv2\u001b[38;5;241m.\u001b[39mcircle(img, (x,y), \u001b[38;5;241m20\u001b[39m, (\u001b[38;5;241m255\u001b[39m,\u001b[38;5;241m0\u001b[39m,\u001b[38;5;241m0\u001b[39m), \u001b[38;5;241m-\u001b[39m\u001b[38;5;241m1\u001b[39m)\n",
      "\u001b[1;31mAttributeError\u001b[0m: module 'cv2' has no attribute 'EVENT_LBUTTONDBCLK'"
     ]
    },
    {
     "ename": "AttributeError",
     "evalue": "module 'cv2' has no attribute 'EVENT_LBUTTONDBCLK'",
     "output_type": "error",
     "traceback": [
      "\u001b[1;31m---------------------------------------------------------------------------\u001b[0m",
      "\u001b[1;31mAttributeError\u001b[0m                            Traceback (most recent call last)",
      "Cell \u001b[1;32mIn[6], line 12\u001b[0m, in \u001b[0;36mdraw_circle\u001b[1;34m(event, x, y, flags, param)\u001b[0m\n\u001b[0;32m     10\u001b[0m \u001b[38;5;28;01melif\u001b[39;00m event \u001b[38;5;241m==\u001b[39m cv2\u001b[38;5;241m.\u001b[39mEVENT_RBUTTONDOWN:\n\u001b[0;32m     11\u001b[0m     cv2\u001b[38;5;241m.\u001b[39mcircle(img, (x,y), \u001b[38;5;241m10\u001b[39m, (\u001b[38;5;241m255\u001b[39m,\u001b[38;5;241m0\u001b[39m,\u001b[38;5;241m0\u001b[39m), \u001b[38;5;241m2\u001b[39m)\n\u001b[1;32m---> 12\u001b[0m \u001b[38;5;28;01melif\u001b[39;00m event \u001b[38;5;241m==\u001b[39m \u001b[43mcv2\u001b[49m\u001b[38;5;241;43m.\u001b[39;49m\u001b[43mEVENT_LBUTTONDBCLK\u001b[49m:\n\u001b[0;32m     13\u001b[0m     cv2\u001b[38;5;241m.\u001b[39mcircle(img, (x,y), \u001b[38;5;241m20\u001b[39m, (\u001b[38;5;241m255\u001b[39m,\u001b[38;5;241m0\u001b[39m,\u001b[38;5;241m0\u001b[39m), \u001b[38;5;241m-\u001b[39m\u001b[38;5;241m1\u001b[39m)\n",
      "\u001b[1;31mAttributeError\u001b[0m: module 'cv2' has no attribute 'EVENT_LBUTTONDBCLK'"
     ]
    },
    {
     "ename": "AttributeError",
     "evalue": "module 'cv2' has no attribute 'EVENT_LBUTTONDBCLK'",
     "output_type": "error",
     "traceback": [
      "\u001b[1;31m---------------------------------------------------------------------------\u001b[0m",
      "\u001b[1;31mAttributeError\u001b[0m                            Traceback (most recent call last)",
      "Cell \u001b[1;32mIn[6], line 12\u001b[0m, in \u001b[0;36mdraw_circle\u001b[1;34m(event, x, y, flags, param)\u001b[0m\n\u001b[0;32m     10\u001b[0m \u001b[38;5;28;01melif\u001b[39;00m event \u001b[38;5;241m==\u001b[39m cv2\u001b[38;5;241m.\u001b[39mEVENT_RBUTTONDOWN:\n\u001b[0;32m     11\u001b[0m     cv2\u001b[38;5;241m.\u001b[39mcircle(img, (x,y), \u001b[38;5;241m10\u001b[39m, (\u001b[38;5;241m255\u001b[39m,\u001b[38;5;241m0\u001b[39m,\u001b[38;5;241m0\u001b[39m), \u001b[38;5;241m2\u001b[39m)\n\u001b[1;32m---> 12\u001b[0m \u001b[38;5;28;01melif\u001b[39;00m event \u001b[38;5;241m==\u001b[39m \u001b[43mcv2\u001b[49m\u001b[38;5;241;43m.\u001b[39;49m\u001b[43mEVENT_LBUTTONDBCLK\u001b[49m:\n\u001b[0;32m     13\u001b[0m     cv2\u001b[38;5;241m.\u001b[39mcircle(img, (x,y), \u001b[38;5;241m20\u001b[39m, (\u001b[38;5;241m255\u001b[39m,\u001b[38;5;241m0\u001b[39m,\u001b[38;5;241m0\u001b[39m), \u001b[38;5;241m-\u001b[39m\u001b[38;5;241m1\u001b[39m)\n",
      "\u001b[1;31mAttributeError\u001b[0m: module 'cv2' has no attribute 'EVENT_LBUTTONDBCLK'"
     ]
    },
    {
     "ename": "AttributeError",
     "evalue": "module 'cv2' has no attribute 'EVENT_LBUTTONDBCLK'",
     "output_type": "error",
     "traceback": [
      "\u001b[1;31m---------------------------------------------------------------------------\u001b[0m",
      "\u001b[1;31mAttributeError\u001b[0m                            Traceback (most recent call last)",
      "Cell \u001b[1;32mIn[6], line 12\u001b[0m, in \u001b[0;36mdraw_circle\u001b[1;34m(event, x, y, flags, param)\u001b[0m\n\u001b[0;32m     10\u001b[0m \u001b[38;5;28;01melif\u001b[39;00m event \u001b[38;5;241m==\u001b[39m cv2\u001b[38;5;241m.\u001b[39mEVENT_RBUTTONDOWN:\n\u001b[0;32m     11\u001b[0m     cv2\u001b[38;5;241m.\u001b[39mcircle(img, (x,y), \u001b[38;5;241m10\u001b[39m, (\u001b[38;5;241m255\u001b[39m,\u001b[38;5;241m0\u001b[39m,\u001b[38;5;241m0\u001b[39m), \u001b[38;5;241m2\u001b[39m)\n\u001b[1;32m---> 12\u001b[0m \u001b[38;5;28;01melif\u001b[39;00m event \u001b[38;5;241m==\u001b[39m \u001b[43mcv2\u001b[49m\u001b[38;5;241;43m.\u001b[39;49m\u001b[43mEVENT_LBUTTONDBCLK\u001b[49m:\n\u001b[0;32m     13\u001b[0m     cv2\u001b[38;5;241m.\u001b[39mcircle(img, (x,y), \u001b[38;5;241m20\u001b[39m, (\u001b[38;5;241m255\u001b[39m,\u001b[38;5;241m0\u001b[39m,\u001b[38;5;241m0\u001b[39m), \u001b[38;5;241m-\u001b[39m\u001b[38;5;241m1\u001b[39m)\n",
      "\u001b[1;31mAttributeError\u001b[0m: module 'cv2' has no attribute 'EVENT_LBUTTONDBCLK'"
     ]
    },
    {
     "ename": "AttributeError",
     "evalue": "module 'cv2' has no attribute 'EVENT_LBUTTONDBCLK'",
     "output_type": "error",
     "traceback": [
      "\u001b[1;31m---------------------------------------------------------------------------\u001b[0m",
      "\u001b[1;31mAttributeError\u001b[0m                            Traceback (most recent call last)",
      "Cell \u001b[1;32mIn[6], line 12\u001b[0m, in \u001b[0;36mdraw_circle\u001b[1;34m(event, x, y, flags, param)\u001b[0m\n\u001b[0;32m     10\u001b[0m \u001b[38;5;28;01melif\u001b[39;00m event \u001b[38;5;241m==\u001b[39m cv2\u001b[38;5;241m.\u001b[39mEVENT_RBUTTONDOWN:\n\u001b[0;32m     11\u001b[0m     cv2\u001b[38;5;241m.\u001b[39mcircle(img, (x,y), \u001b[38;5;241m10\u001b[39m, (\u001b[38;5;241m255\u001b[39m,\u001b[38;5;241m0\u001b[39m,\u001b[38;5;241m0\u001b[39m), \u001b[38;5;241m2\u001b[39m)\n\u001b[1;32m---> 12\u001b[0m \u001b[38;5;28;01melif\u001b[39;00m event \u001b[38;5;241m==\u001b[39m \u001b[43mcv2\u001b[49m\u001b[38;5;241;43m.\u001b[39;49m\u001b[43mEVENT_LBUTTONDBCLK\u001b[49m:\n\u001b[0;32m     13\u001b[0m     cv2\u001b[38;5;241m.\u001b[39mcircle(img, (x,y), \u001b[38;5;241m20\u001b[39m, (\u001b[38;5;241m255\u001b[39m,\u001b[38;5;241m0\u001b[39m,\u001b[38;5;241m0\u001b[39m), \u001b[38;5;241m-\u001b[39m\u001b[38;5;241m1\u001b[39m)\n",
      "\u001b[1;31mAttributeError\u001b[0m: module 'cv2' has no attribute 'EVENT_LBUTTONDBCLK'"
     ]
    },
    {
     "ename": "AttributeError",
     "evalue": "module 'cv2' has no attribute 'EVENT_LBUTTONDBCLK'",
     "output_type": "error",
     "traceback": [
      "\u001b[1;31m---------------------------------------------------------------------------\u001b[0m",
      "\u001b[1;31mAttributeError\u001b[0m                            Traceback (most recent call last)",
      "Cell \u001b[1;32mIn[6], line 12\u001b[0m, in \u001b[0;36mdraw_circle\u001b[1;34m(event, x, y, flags, param)\u001b[0m\n\u001b[0;32m     10\u001b[0m \u001b[38;5;28;01melif\u001b[39;00m event \u001b[38;5;241m==\u001b[39m cv2\u001b[38;5;241m.\u001b[39mEVENT_RBUTTONDOWN:\n\u001b[0;32m     11\u001b[0m     cv2\u001b[38;5;241m.\u001b[39mcircle(img, (x,y), \u001b[38;5;241m10\u001b[39m, (\u001b[38;5;241m255\u001b[39m,\u001b[38;5;241m0\u001b[39m,\u001b[38;5;241m0\u001b[39m), \u001b[38;5;241m2\u001b[39m)\n\u001b[1;32m---> 12\u001b[0m \u001b[38;5;28;01melif\u001b[39;00m event \u001b[38;5;241m==\u001b[39m \u001b[43mcv2\u001b[49m\u001b[38;5;241;43m.\u001b[39;49m\u001b[43mEVENT_LBUTTONDBCLK\u001b[49m:\n\u001b[0;32m     13\u001b[0m     cv2\u001b[38;5;241m.\u001b[39mcircle(img, (x,y), \u001b[38;5;241m20\u001b[39m, (\u001b[38;5;241m255\u001b[39m,\u001b[38;5;241m0\u001b[39m,\u001b[38;5;241m0\u001b[39m), \u001b[38;5;241m-\u001b[39m\u001b[38;5;241m1\u001b[39m)\n",
      "\u001b[1;31mAttributeError\u001b[0m: module 'cv2' has no attribute 'EVENT_LBUTTONDBCLK'"
     ]
    },
    {
     "ename": "AttributeError",
     "evalue": "module 'cv2' has no attribute 'EVENT_LBUTTONDBCLK'",
     "output_type": "error",
     "traceback": [
      "\u001b[1;31m---------------------------------------------------------------------------\u001b[0m",
      "\u001b[1;31mAttributeError\u001b[0m                            Traceback (most recent call last)",
      "Cell \u001b[1;32mIn[6], line 12\u001b[0m, in \u001b[0;36mdraw_circle\u001b[1;34m(event, x, y, flags, param)\u001b[0m\n\u001b[0;32m     10\u001b[0m \u001b[38;5;28;01melif\u001b[39;00m event \u001b[38;5;241m==\u001b[39m cv2\u001b[38;5;241m.\u001b[39mEVENT_RBUTTONDOWN:\n\u001b[0;32m     11\u001b[0m     cv2\u001b[38;5;241m.\u001b[39mcircle(img, (x,y), \u001b[38;5;241m10\u001b[39m, (\u001b[38;5;241m255\u001b[39m,\u001b[38;5;241m0\u001b[39m,\u001b[38;5;241m0\u001b[39m), \u001b[38;5;241m2\u001b[39m)\n\u001b[1;32m---> 12\u001b[0m \u001b[38;5;28;01melif\u001b[39;00m event \u001b[38;5;241m==\u001b[39m \u001b[43mcv2\u001b[49m\u001b[38;5;241;43m.\u001b[39;49m\u001b[43mEVENT_LBUTTONDBCLK\u001b[49m:\n\u001b[0;32m     13\u001b[0m     cv2\u001b[38;5;241m.\u001b[39mcircle(img, (x,y), \u001b[38;5;241m20\u001b[39m, (\u001b[38;5;241m255\u001b[39m,\u001b[38;5;241m0\u001b[39m,\u001b[38;5;241m0\u001b[39m), \u001b[38;5;241m-\u001b[39m\u001b[38;5;241m1\u001b[39m)\n",
      "\u001b[1;31mAttributeError\u001b[0m: module 'cv2' has no attribute 'EVENT_LBUTTONDBCLK'"
     ]
    },
    {
     "ename": "AttributeError",
     "evalue": "module 'cv2' has no attribute 'EVENT_LBUTTONDBCLK'",
     "output_type": "error",
     "traceback": [
      "\u001b[1;31m---------------------------------------------------------------------------\u001b[0m",
      "\u001b[1;31mAttributeError\u001b[0m                            Traceback (most recent call last)",
      "Cell \u001b[1;32mIn[6], line 12\u001b[0m, in \u001b[0;36mdraw_circle\u001b[1;34m(event, x, y, flags, param)\u001b[0m\n\u001b[0;32m     10\u001b[0m \u001b[38;5;28;01melif\u001b[39;00m event \u001b[38;5;241m==\u001b[39m cv2\u001b[38;5;241m.\u001b[39mEVENT_RBUTTONDOWN:\n\u001b[0;32m     11\u001b[0m     cv2\u001b[38;5;241m.\u001b[39mcircle(img, (x,y), \u001b[38;5;241m10\u001b[39m, (\u001b[38;5;241m255\u001b[39m,\u001b[38;5;241m0\u001b[39m,\u001b[38;5;241m0\u001b[39m), \u001b[38;5;241m2\u001b[39m)\n\u001b[1;32m---> 12\u001b[0m \u001b[38;5;28;01melif\u001b[39;00m event \u001b[38;5;241m==\u001b[39m \u001b[43mcv2\u001b[49m\u001b[38;5;241;43m.\u001b[39;49m\u001b[43mEVENT_LBUTTONDBCLK\u001b[49m:\n\u001b[0;32m     13\u001b[0m     cv2\u001b[38;5;241m.\u001b[39mcircle(img, (x,y), \u001b[38;5;241m20\u001b[39m, (\u001b[38;5;241m255\u001b[39m,\u001b[38;5;241m0\u001b[39m,\u001b[38;5;241m0\u001b[39m), \u001b[38;5;241m-\u001b[39m\u001b[38;5;241m1\u001b[39m)\n",
      "\u001b[1;31mAttributeError\u001b[0m: module 'cv2' has no attribute 'EVENT_LBUTTONDBCLK'"
     ]
    },
    {
     "ename": "AttributeError",
     "evalue": "module 'cv2' has no attribute 'EVENT_LBUTTONDBCLK'",
     "output_type": "error",
     "traceback": [
      "\u001b[1;31m---------------------------------------------------------------------------\u001b[0m",
      "\u001b[1;31mAttributeError\u001b[0m                            Traceback (most recent call last)",
      "Cell \u001b[1;32mIn[6], line 12\u001b[0m, in \u001b[0;36mdraw_circle\u001b[1;34m(event, x, y, flags, param)\u001b[0m\n\u001b[0;32m     10\u001b[0m \u001b[38;5;28;01melif\u001b[39;00m event \u001b[38;5;241m==\u001b[39m cv2\u001b[38;5;241m.\u001b[39mEVENT_RBUTTONDOWN:\n\u001b[0;32m     11\u001b[0m     cv2\u001b[38;5;241m.\u001b[39mcircle(img, (x,y), \u001b[38;5;241m10\u001b[39m, (\u001b[38;5;241m255\u001b[39m,\u001b[38;5;241m0\u001b[39m,\u001b[38;5;241m0\u001b[39m), \u001b[38;5;241m2\u001b[39m)\n\u001b[1;32m---> 12\u001b[0m \u001b[38;5;28;01melif\u001b[39;00m event \u001b[38;5;241m==\u001b[39m \u001b[43mcv2\u001b[49m\u001b[38;5;241;43m.\u001b[39;49m\u001b[43mEVENT_LBUTTONDBCLK\u001b[49m:\n\u001b[0;32m     13\u001b[0m     cv2\u001b[38;5;241m.\u001b[39mcircle(img, (x,y), \u001b[38;5;241m20\u001b[39m, (\u001b[38;5;241m255\u001b[39m,\u001b[38;5;241m0\u001b[39m,\u001b[38;5;241m0\u001b[39m), \u001b[38;5;241m-\u001b[39m\u001b[38;5;241m1\u001b[39m)\n",
      "\u001b[1;31mAttributeError\u001b[0m: module 'cv2' has no attribute 'EVENT_LBUTTONDBCLK'"
     ]
    },
    {
     "ename": "AttributeError",
     "evalue": "module 'cv2' has no attribute 'EVENT_LBUTTONDBCLK'",
     "output_type": "error",
     "traceback": [
      "\u001b[1;31m---------------------------------------------------------------------------\u001b[0m",
      "\u001b[1;31mAttributeError\u001b[0m                            Traceback (most recent call last)",
      "Cell \u001b[1;32mIn[6], line 12\u001b[0m, in \u001b[0;36mdraw_circle\u001b[1;34m(event, x, y, flags, param)\u001b[0m\n\u001b[0;32m     10\u001b[0m \u001b[38;5;28;01melif\u001b[39;00m event \u001b[38;5;241m==\u001b[39m cv2\u001b[38;5;241m.\u001b[39mEVENT_RBUTTONDOWN:\n\u001b[0;32m     11\u001b[0m     cv2\u001b[38;5;241m.\u001b[39mcircle(img, (x,y), \u001b[38;5;241m10\u001b[39m, (\u001b[38;5;241m255\u001b[39m,\u001b[38;5;241m0\u001b[39m,\u001b[38;5;241m0\u001b[39m), \u001b[38;5;241m2\u001b[39m)\n\u001b[1;32m---> 12\u001b[0m \u001b[38;5;28;01melif\u001b[39;00m event \u001b[38;5;241m==\u001b[39m \u001b[43mcv2\u001b[49m\u001b[38;5;241;43m.\u001b[39;49m\u001b[43mEVENT_LBUTTONDBCLK\u001b[49m:\n\u001b[0;32m     13\u001b[0m     cv2\u001b[38;5;241m.\u001b[39mcircle(img, (x,y), \u001b[38;5;241m20\u001b[39m, (\u001b[38;5;241m255\u001b[39m,\u001b[38;5;241m0\u001b[39m,\u001b[38;5;241m0\u001b[39m), \u001b[38;5;241m-\u001b[39m\u001b[38;5;241m1\u001b[39m)\n",
      "\u001b[1;31mAttributeError\u001b[0m: module 'cv2' has no attribute 'EVENT_LBUTTONDBCLK'"
     ]
    },
    {
     "ename": "AttributeError",
     "evalue": "module 'cv2' has no attribute 'EVENT_LBUTTONDBCLK'",
     "output_type": "error",
     "traceback": [
      "\u001b[1;31m---------------------------------------------------------------------------\u001b[0m",
      "\u001b[1;31mAttributeError\u001b[0m                            Traceback (most recent call last)",
      "Cell \u001b[1;32mIn[6], line 12\u001b[0m, in \u001b[0;36mdraw_circle\u001b[1;34m(event, x, y, flags, param)\u001b[0m\n\u001b[0;32m     10\u001b[0m \u001b[38;5;28;01melif\u001b[39;00m event \u001b[38;5;241m==\u001b[39m cv2\u001b[38;5;241m.\u001b[39mEVENT_RBUTTONDOWN:\n\u001b[0;32m     11\u001b[0m     cv2\u001b[38;5;241m.\u001b[39mcircle(img, (x,y), \u001b[38;5;241m10\u001b[39m, (\u001b[38;5;241m255\u001b[39m,\u001b[38;5;241m0\u001b[39m,\u001b[38;5;241m0\u001b[39m), \u001b[38;5;241m2\u001b[39m)\n\u001b[1;32m---> 12\u001b[0m \u001b[38;5;28;01melif\u001b[39;00m event \u001b[38;5;241m==\u001b[39m \u001b[43mcv2\u001b[49m\u001b[38;5;241;43m.\u001b[39;49m\u001b[43mEVENT_LBUTTONDBCLK\u001b[49m:\n\u001b[0;32m     13\u001b[0m     cv2\u001b[38;5;241m.\u001b[39mcircle(img, (x,y), \u001b[38;5;241m20\u001b[39m, (\u001b[38;5;241m255\u001b[39m,\u001b[38;5;241m0\u001b[39m,\u001b[38;5;241m0\u001b[39m), \u001b[38;5;241m-\u001b[39m\u001b[38;5;241m1\u001b[39m)\n",
      "\u001b[1;31mAttributeError\u001b[0m: module 'cv2' has no attribute 'EVENT_LBUTTONDBCLK'"
     ]
    },
    {
     "ename": "AttributeError",
     "evalue": "module 'cv2' has no attribute 'EVENT_LBUTTONDBCLK'",
     "output_type": "error",
     "traceback": [
      "\u001b[1;31m---------------------------------------------------------------------------\u001b[0m",
      "\u001b[1;31mAttributeError\u001b[0m                            Traceback (most recent call last)",
      "Cell \u001b[1;32mIn[6], line 12\u001b[0m, in \u001b[0;36mdraw_circle\u001b[1;34m(event, x, y, flags, param)\u001b[0m\n\u001b[0;32m     10\u001b[0m \u001b[38;5;28;01melif\u001b[39;00m event \u001b[38;5;241m==\u001b[39m cv2\u001b[38;5;241m.\u001b[39mEVENT_RBUTTONDOWN:\n\u001b[0;32m     11\u001b[0m     cv2\u001b[38;5;241m.\u001b[39mcircle(img, (x,y), \u001b[38;5;241m10\u001b[39m, (\u001b[38;5;241m255\u001b[39m,\u001b[38;5;241m0\u001b[39m,\u001b[38;5;241m0\u001b[39m), \u001b[38;5;241m2\u001b[39m)\n\u001b[1;32m---> 12\u001b[0m \u001b[38;5;28;01melif\u001b[39;00m event \u001b[38;5;241m==\u001b[39m \u001b[43mcv2\u001b[49m\u001b[38;5;241;43m.\u001b[39;49m\u001b[43mEVENT_LBUTTONDBCLK\u001b[49m:\n\u001b[0;32m     13\u001b[0m     cv2\u001b[38;5;241m.\u001b[39mcircle(img, (x,y), \u001b[38;5;241m20\u001b[39m, (\u001b[38;5;241m255\u001b[39m,\u001b[38;5;241m0\u001b[39m,\u001b[38;5;241m0\u001b[39m), \u001b[38;5;241m-\u001b[39m\u001b[38;5;241m1\u001b[39m)\n",
      "\u001b[1;31mAttributeError\u001b[0m: module 'cv2' has no attribute 'EVENT_LBUTTONDBCLK'"
     ]
    },
    {
     "ename": "AttributeError",
     "evalue": "module 'cv2' has no attribute 'EVENT_LBUTTONDBCLK'",
     "output_type": "error",
     "traceback": [
      "\u001b[1;31m---------------------------------------------------------------------------\u001b[0m",
      "\u001b[1;31mAttributeError\u001b[0m                            Traceback (most recent call last)",
      "Cell \u001b[1;32mIn[6], line 12\u001b[0m, in \u001b[0;36mdraw_circle\u001b[1;34m(event, x, y, flags, param)\u001b[0m\n\u001b[0;32m     10\u001b[0m \u001b[38;5;28;01melif\u001b[39;00m event \u001b[38;5;241m==\u001b[39m cv2\u001b[38;5;241m.\u001b[39mEVENT_RBUTTONDOWN:\n\u001b[0;32m     11\u001b[0m     cv2\u001b[38;5;241m.\u001b[39mcircle(img, (x,y), \u001b[38;5;241m10\u001b[39m, (\u001b[38;5;241m255\u001b[39m,\u001b[38;5;241m0\u001b[39m,\u001b[38;5;241m0\u001b[39m), \u001b[38;5;241m2\u001b[39m)\n\u001b[1;32m---> 12\u001b[0m \u001b[38;5;28;01melif\u001b[39;00m event \u001b[38;5;241m==\u001b[39m \u001b[43mcv2\u001b[49m\u001b[38;5;241;43m.\u001b[39;49m\u001b[43mEVENT_LBUTTONDBCLK\u001b[49m:\n\u001b[0;32m     13\u001b[0m     cv2\u001b[38;5;241m.\u001b[39mcircle(img, (x,y), \u001b[38;5;241m20\u001b[39m, (\u001b[38;5;241m255\u001b[39m,\u001b[38;5;241m0\u001b[39m,\u001b[38;5;241m0\u001b[39m), \u001b[38;5;241m-\u001b[39m\u001b[38;5;241m1\u001b[39m)\n",
      "\u001b[1;31mAttributeError\u001b[0m: module 'cv2' has no attribute 'EVENT_LBUTTONDBCLK'"
     ]
    },
    {
     "ename": "AttributeError",
     "evalue": "module 'cv2' has no attribute 'EVENT_LBUTTONDBCLK'",
     "output_type": "error",
     "traceback": [
      "\u001b[1;31m---------------------------------------------------------------------------\u001b[0m",
      "\u001b[1;31mAttributeError\u001b[0m                            Traceback (most recent call last)",
      "Cell \u001b[1;32mIn[6], line 12\u001b[0m, in \u001b[0;36mdraw_circle\u001b[1;34m(event, x, y, flags, param)\u001b[0m\n\u001b[0;32m     10\u001b[0m \u001b[38;5;28;01melif\u001b[39;00m event \u001b[38;5;241m==\u001b[39m cv2\u001b[38;5;241m.\u001b[39mEVENT_RBUTTONDOWN:\n\u001b[0;32m     11\u001b[0m     cv2\u001b[38;5;241m.\u001b[39mcircle(img, (x,y), \u001b[38;5;241m10\u001b[39m, (\u001b[38;5;241m255\u001b[39m,\u001b[38;5;241m0\u001b[39m,\u001b[38;5;241m0\u001b[39m), \u001b[38;5;241m2\u001b[39m)\n\u001b[1;32m---> 12\u001b[0m \u001b[38;5;28;01melif\u001b[39;00m event \u001b[38;5;241m==\u001b[39m \u001b[43mcv2\u001b[49m\u001b[38;5;241;43m.\u001b[39;49m\u001b[43mEVENT_LBUTTONDBCLK\u001b[49m:\n\u001b[0;32m     13\u001b[0m     cv2\u001b[38;5;241m.\u001b[39mcircle(img, (x,y), \u001b[38;5;241m20\u001b[39m, (\u001b[38;5;241m255\u001b[39m,\u001b[38;5;241m0\u001b[39m,\u001b[38;5;241m0\u001b[39m), \u001b[38;5;241m-\u001b[39m\u001b[38;5;241m1\u001b[39m)\n",
      "\u001b[1;31mAttributeError\u001b[0m: module 'cv2' has no attribute 'EVENT_LBUTTONDBCLK'"
     ]
    },
    {
     "ename": "AttributeError",
     "evalue": "module 'cv2' has no attribute 'EVENT_LBUTTONDBCLK'",
     "output_type": "error",
     "traceback": [
      "\u001b[1;31m---------------------------------------------------------------------------\u001b[0m",
      "\u001b[1;31mAttributeError\u001b[0m                            Traceback (most recent call last)",
      "Cell \u001b[1;32mIn[6], line 12\u001b[0m, in \u001b[0;36mdraw_circle\u001b[1;34m(event, x, y, flags, param)\u001b[0m\n\u001b[0;32m     10\u001b[0m \u001b[38;5;28;01melif\u001b[39;00m event \u001b[38;5;241m==\u001b[39m cv2\u001b[38;5;241m.\u001b[39mEVENT_RBUTTONDOWN:\n\u001b[0;32m     11\u001b[0m     cv2\u001b[38;5;241m.\u001b[39mcircle(img, (x,y), \u001b[38;5;241m10\u001b[39m, (\u001b[38;5;241m255\u001b[39m,\u001b[38;5;241m0\u001b[39m,\u001b[38;5;241m0\u001b[39m), \u001b[38;5;241m2\u001b[39m)\n\u001b[1;32m---> 12\u001b[0m \u001b[38;5;28;01melif\u001b[39;00m event \u001b[38;5;241m==\u001b[39m \u001b[43mcv2\u001b[49m\u001b[38;5;241;43m.\u001b[39;49m\u001b[43mEVENT_LBUTTONDBCLK\u001b[49m:\n\u001b[0;32m     13\u001b[0m     cv2\u001b[38;5;241m.\u001b[39mcircle(img, (x,y), \u001b[38;5;241m20\u001b[39m, (\u001b[38;5;241m255\u001b[39m,\u001b[38;5;241m0\u001b[39m,\u001b[38;5;241m0\u001b[39m), \u001b[38;5;241m-\u001b[39m\u001b[38;5;241m1\u001b[39m)\n",
      "\u001b[1;31mAttributeError\u001b[0m: module 'cv2' has no attribute 'EVENT_LBUTTONDBCLK'"
     ]
    },
    {
     "ename": "AttributeError",
     "evalue": "module 'cv2' has no attribute 'EVENT_LBUTTONDBCLK'",
     "output_type": "error",
     "traceback": [
      "\u001b[1;31m---------------------------------------------------------------------------\u001b[0m",
      "\u001b[1;31mAttributeError\u001b[0m                            Traceback (most recent call last)",
      "Cell \u001b[1;32mIn[6], line 12\u001b[0m, in \u001b[0;36mdraw_circle\u001b[1;34m(event, x, y, flags, param)\u001b[0m\n\u001b[0;32m     10\u001b[0m \u001b[38;5;28;01melif\u001b[39;00m event \u001b[38;5;241m==\u001b[39m cv2\u001b[38;5;241m.\u001b[39mEVENT_RBUTTONDOWN:\n\u001b[0;32m     11\u001b[0m     cv2\u001b[38;5;241m.\u001b[39mcircle(img, (x,y), \u001b[38;5;241m10\u001b[39m, (\u001b[38;5;241m255\u001b[39m,\u001b[38;5;241m0\u001b[39m,\u001b[38;5;241m0\u001b[39m), \u001b[38;5;241m2\u001b[39m)\n\u001b[1;32m---> 12\u001b[0m \u001b[38;5;28;01melif\u001b[39;00m event \u001b[38;5;241m==\u001b[39m \u001b[43mcv2\u001b[49m\u001b[38;5;241;43m.\u001b[39;49m\u001b[43mEVENT_LBUTTONDBCLK\u001b[49m:\n\u001b[0;32m     13\u001b[0m     cv2\u001b[38;5;241m.\u001b[39mcircle(img, (x,y), \u001b[38;5;241m20\u001b[39m, (\u001b[38;5;241m255\u001b[39m,\u001b[38;5;241m0\u001b[39m,\u001b[38;5;241m0\u001b[39m), \u001b[38;5;241m-\u001b[39m\u001b[38;5;241m1\u001b[39m)\n",
      "\u001b[1;31mAttributeError\u001b[0m: module 'cv2' has no attribute 'EVENT_LBUTTONDBCLK'"
     ]
    },
    {
     "ename": "AttributeError",
     "evalue": "module 'cv2' has no attribute 'EVENT_LBUTTONDBCLK'",
     "output_type": "error",
     "traceback": [
      "\u001b[1;31m---------------------------------------------------------------------------\u001b[0m",
      "\u001b[1;31mAttributeError\u001b[0m                            Traceback (most recent call last)",
      "Cell \u001b[1;32mIn[6], line 12\u001b[0m, in \u001b[0;36mdraw_circle\u001b[1;34m(event, x, y, flags, param)\u001b[0m\n\u001b[0;32m     10\u001b[0m \u001b[38;5;28;01melif\u001b[39;00m event \u001b[38;5;241m==\u001b[39m cv2\u001b[38;5;241m.\u001b[39mEVENT_RBUTTONDOWN:\n\u001b[0;32m     11\u001b[0m     cv2\u001b[38;5;241m.\u001b[39mcircle(img, (x,y), \u001b[38;5;241m10\u001b[39m, (\u001b[38;5;241m255\u001b[39m,\u001b[38;5;241m0\u001b[39m,\u001b[38;5;241m0\u001b[39m), \u001b[38;5;241m2\u001b[39m)\n\u001b[1;32m---> 12\u001b[0m \u001b[38;5;28;01melif\u001b[39;00m event \u001b[38;5;241m==\u001b[39m \u001b[43mcv2\u001b[49m\u001b[38;5;241;43m.\u001b[39;49m\u001b[43mEVENT_LBUTTONDBCLK\u001b[49m:\n\u001b[0;32m     13\u001b[0m     cv2\u001b[38;5;241m.\u001b[39mcircle(img, (x,y), \u001b[38;5;241m20\u001b[39m, (\u001b[38;5;241m255\u001b[39m,\u001b[38;5;241m0\u001b[39m,\u001b[38;5;241m0\u001b[39m), \u001b[38;5;241m-\u001b[39m\u001b[38;5;241m1\u001b[39m)\n",
      "\u001b[1;31mAttributeError\u001b[0m: module 'cv2' has no attribute 'EVENT_LBUTTONDBCLK'"
     ]
    },
    {
     "ename": "AttributeError",
     "evalue": "module 'cv2' has no attribute 'EVENT_LBUTTONDBCLK'",
     "output_type": "error",
     "traceback": [
      "\u001b[1;31m---------------------------------------------------------------------------\u001b[0m",
      "\u001b[1;31mAttributeError\u001b[0m                            Traceback (most recent call last)",
      "Cell \u001b[1;32mIn[6], line 12\u001b[0m, in \u001b[0;36mdraw_circle\u001b[1;34m(event, x, y, flags, param)\u001b[0m\n\u001b[0;32m     10\u001b[0m \u001b[38;5;28;01melif\u001b[39;00m event \u001b[38;5;241m==\u001b[39m cv2\u001b[38;5;241m.\u001b[39mEVENT_RBUTTONDOWN:\n\u001b[0;32m     11\u001b[0m     cv2\u001b[38;5;241m.\u001b[39mcircle(img, (x,y), \u001b[38;5;241m10\u001b[39m, (\u001b[38;5;241m255\u001b[39m,\u001b[38;5;241m0\u001b[39m,\u001b[38;5;241m0\u001b[39m), \u001b[38;5;241m2\u001b[39m)\n\u001b[1;32m---> 12\u001b[0m \u001b[38;5;28;01melif\u001b[39;00m event \u001b[38;5;241m==\u001b[39m \u001b[43mcv2\u001b[49m\u001b[38;5;241;43m.\u001b[39;49m\u001b[43mEVENT_LBUTTONDBCLK\u001b[49m:\n\u001b[0;32m     13\u001b[0m     cv2\u001b[38;5;241m.\u001b[39mcircle(img, (x,y), \u001b[38;5;241m20\u001b[39m, (\u001b[38;5;241m255\u001b[39m,\u001b[38;5;241m0\u001b[39m,\u001b[38;5;241m0\u001b[39m), \u001b[38;5;241m-\u001b[39m\u001b[38;5;241m1\u001b[39m)\n",
      "\u001b[1;31mAttributeError\u001b[0m: module 'cv2' has no attribute 'EVENT_LBUTTONDBCLK'"
     ]
    },
    {
     "ename": "AttributeError",
     "evalue": "module 'cv2' has no attribute 'EVENT_LBUTTONDBCLK'",
     "output_type": "error",
     "traceback": [
      "\u001b[1;31m---------------------------------------------------------------------------\u001b[0m",
      "\u001b[1;31mAttributeError\u001b[0m                            Traceback (most recent call last)",
      "Cell \u001b[1;32mIn[6], line 12\u001b[0m, in \u001b[0;36mdraw_circle\u001b[1;34m(event, x, y, flags, param)\u001b[0m\n\u001b[0;32m     10\u001b[0m \u001b[38;5;28;01melif\u001b[39;00m event \u001b[38;5;241m==\u001b[39m cv2\u001b[38;5;241m.\u001b[39mEVENT_RBUTTONDOWN:\n\u001b[0;32m     11\u001b[0m     cv2\u001b[38;5;241m.\u001b[39mcircle(img, (x,y), \u001b[38;5;241m10\u001b[39m, (\u001b[38;5;241m255\u001b[39m,\u001b[38;5;241m0\u001b[39m,\u001b[38;5;241m0\u001b[39m), \u001b[38;5;241m2\u001b[39m)\n\u001b[1;32m---> 12\u001b[0m \u001b[38;5;28;01melif\u001b[39;00m event \u001b[38;5;241m==\u001b[39m \u001b[43mcv2\u001b[49m\u001b[38;5;241;43m.\u001b[39;49m\u001b[43mEVENT_LBUTTONDBCLK\u001b[49m:\n\u001b[0;32m     13\u001b[0m     cv2\u001b[38;5;241m.\u001b[39mcircle(img, (x,y), \u001b[38;5;241m20\u001b[39m, (\u001b[38;5;241m255\u001b[39m,\u001b[38;5;241m0\u001b[39m,\u001b[38;5;241m0\u001b[39m), \u001b[38;5;241m-\u001b[39m\u001b[38;5;241m1\u001b[39m)\n",
      "\u001b[1;31mAttributeError\u001b[0m: module 'cv2' has no attribute 'EVENT_LBUTTONDBCLK'"
     ]
    },
    {
     "ename": "AttributeError",
     "evalue": "module 'cv2' has no attribute 'EVENT_LBUTTONDBCLK'",
     "output_type": "error",
     "traceback": [
      "\u001b[1;31m---------------------------------------------------------------------------\u001b[0m",
      "\u001b[1;31mAttributeError\u001b[0m                            Traceback (most recent call last)",
      "Cell \u001b[1;32mIn[6], line 12\u001b[0m, in \u001b[0;36mdraw_circle\u001b[1;34m(event, x, y, flags, param)\u001b[0m\n\u001b[0;32m     10\u001b[0m \u001b[38;5;28;01melif\u001b[39;00m event \u001b[38;5;241m==\u001b[39m cv2\u001b[38;5;241m.\u001b[39mEVENT_RBUTTONDOWN:\n\u001b[0;32m     11\u001b[0m     cv2\u001b[38;5;241m.\u001b[39mcircle(img, (x,y), \u001b[38;5;241m10\u001b[39m, (\u001b[38;5;241m255\u001b[39m,\u001b[38;5;241m0\u001b[39m,\u001b[38;5;241m0\u001b[39m), \u001b[38;5;241m2\u001b[39m)\n\u001b[1;32m---> 12\u001b[0m \u001b[38;5;28;01melif\u001b[39;00m event \u001b[38;5;241m==\u001b[39m \u001b[43mcv2\u001b[49m\u001b[38;5;241;43m.\u001b[39;49m\u001b[43mEVENT_LBUTTONDBCLK\u001b[49m:\n\u001b[0;32m     13\u001b[0m     cv2\u001b[38;5;241m.\u001b[39mcircle(img, (x,y), \u001b[38;5;241m20\u001b[39m, (\u001b[38;5;241m255\u001b[39m,\u001b[38;5;241m0\u001b[39m,\u001b[38;5;241m0\u001b[39m), \u001b[38;5;241m-\u001b[39m\u001b[38;5;241m1\u001b[39m)\n",
      "\u001b[1;31mAttributeError\u001b[0m: module 'cv2' has no attribute 'EVENT_LBUTTONDBCLK'"
     ]
    },
    {
     "ename": "AttributeError",
     "evalue": "module 'cv2' has no attribute 'EVENT_LBUTTONDBCLK'",
     "output_type": "error",
     "traceback": [
      "\u001b[1;31m---------------------------------------------------------------------------\u001b[0m",
      "\u001b[1;31mAttributeError\u001b[0m                            Traceback (most recent call last)",
      "Cell \u001b[1;32mIn[6], line 12\u001b[0m, in \u001b[0;36mdraw_circle\u001b[1;34m(event, x, y, flags, param)\u001b[0m\n\u001b[0;32m     10\u001b[0m \u001b[38;5;28;01melif\u001b[39;00m event \u001b[38;5;241m==\u001b[39m cv2\u001b[38;5;241m.\u001b[39mEVENT_RBUTTONDOWN:\n\u001b[0;32m     11\u001b[0m     cv2\u001b[38;5;241m.\u001b[39mcircle(img, (x,y), \u001b[38;5;241m10\u001b[39m, (\u001b[38;5;241m255\u001b[39m,\u001b[38;5;241m0\u001b[39m,\u001b[38;5;241m0\u001b[39m), \u001b[38;5;241m2\u001b[39m)\n\u001b[1;32m---> 12\u001b[0m \u001b[38;5;28;01melif\u001b[39;00m event \u001b[38;5;241m==\u001b[39m \u001b[43mcv2\u001b[49m\u001b[38;5;241;43m.\u001b[39;49m\u001b[43mEVENT_LBUTTONDBCLK\u001b[49m:\n\u001b[0;32m     13\u001b[0m     cv2\u001b[38;5;241m.\u001b[39mcircle(img, (x,y), \u001b[38;5;241m20\u001b[39m, (\u001b[38;5;241m255\u001b[39m,\u001b[38;5;241m0\u001b[39m,\u001b[38;5;241m0\u001b[39m), \u001b[38;5;241m-\u001b[39m\u001b[38;5;241m1\u001b[39m)\n",
      "\u001b[1;31mAttributeError\u001b[0m: module 'cv2' has no attribute 'EVENT_LBUTTONDBCLK'"
     ]
    },
    {
     "ename": "AttributeError",
     "evalue": "module 'cv2' has no attribute 'EVENT_LBUTTONDBCLK'",
     "output_type": "error",
     "traceback": [
      "\u001b[1;31m---------------------------------------------------------------------------\u001b[0m",
      "\u001b[1;31mAttributeError\u001b[0m                            Traceback (most recent call last)",
      "Cell \u001b[1;32mIn[6], line 12\u001b[0m, in \u001b[0;36mdraw_circle\u001b[1;34m(event, x, y, flags, param)\u001b[0m\n\u001b[0;32m     10\u001b[0m \u001b[38;5;28;01melif\u001b[39;00m event \u001b[38;5;241m==\u001b[39m cv2\u001b[38;5;241m.\u001b[39mEVENT_RBUTTONDOWN:\n\u001b[0;32m     11\u001b[0m     cv2\u001b[38;5;241m.\u001b[39mcircle(img, (x,y), \u001b[38;5;241m10\u001b[39m, (\u001b[38;5;241m255\u001b[39m,\u001b[38;5;241m0\u001b[39m,\u001b[38;5;241m0\u001b[39m), \u001b[38;5;241m2\u001b[39m)\n\u001b[1;32m---> 12\u001b[0m \u001b[38;5;28;01melif\u001b[39;00m event \u001b[38;5;241m==\u001b[39m \u001b[43mcv2\u001b[49m\u001b[38;5;241;43m.\u001b[39;49m\u001b[43mEVENT_LBUTTONDBCLK\u001b[49m:\n\u001b[0;32m     13\u001b[0m     cv2\u001b[38;5;241m.\u001b[39mcircle(img, (x,y), \u001b[38;5;241m20\u001b[39m, (\u001b[38;5;241m255\u001b[39m,\u001b[38;5;241m0\u001b[39m,\u001b[38;5;241m0\u001b[39m), \u001b[38;5;241m-\u001b[39m\u001b[38;5;241m1\u001b[39m)\n",
      "\u001b[1;31mAttributeError\u001b[0m: module 'cv2' has no attribute 'EVENT_LBUTTONDBCLK'"
     ]
    },
    {
     "ename": "AttributeError",
     "evalue": "module 'cv2' has no attribute 'EVENT_LBUTTONDBCLK'",
     "output_type": "error",
     "traceback": [
      "\u001b[1;31m---------------------------------------------------------------------------\u001b[0m",
      "\u001b[1;31mAttributeError\u001b[0m                            Traceback (most recent call last)",
      "Cell \u001b[1;32mIn[6], line 12\u001b[0m, in \u001b[0;36mdraw_circle\u001b[1;34m(event, x, y, flags, param)\u001b[0m\n\u001b[0;32m     10\u001b[0m \u001b[38;5;28;01melif\u001b[39;00m event \u001b[38;5;241m==\u001b[39m cv2\u001b[38;5;241m.\u001b[39mEVENT_RBUTTONDOWN:\n\u001b[0;32m     11\u001b[0m     cv2\u001b[38;5;241m.\u001b[39mcircle(img, (x,y), \u001b[38;5;241m10\u001b[39m, (\u001b[38;5;241m255\u001b[39m,\u001b[38;5;241m0\u001b[39m,\u001b[38;5;241m0\u001b[39m), \u001b[38;5;241m2\u001b[39m)\n\u001b[1;32m---> 12\u001b[0m \u001b[38;5;28;01melif\u001b[39;00m event \u001b[38;5;241m==\u001b[39m \u001b[43mcv2\u001b[49m\u001b[38;5;241;43m.\u001b[39;49m\u001b[43mEVENT_LBUTTONDBCLK\u001b[49m:\n\u001b[0;32m     13\u001b[0m     cv2\u001b[38;5;241m.\u001b[39mcircle(img, (x,y), \u001b[38;5;241m20\u001b[39m, (\u001b[38;5;241m255\u001b[39m,\u001b[38;5;241m0\u001b[39m,\u001b[38;5;241m0\u001b[39m), \u001b[38;5;241m-\u001b[39m\u001b[38;5;241m1\u001b[39m)\n",
      "\u001b[1;31mAttributeError\u001b[0m: module 'cv2' has no attribute 'EVENT_LBUTTONDBCLK'"
     ]
    },
    {
     "ename": "AttributeError",
     "evalue": "module 'cv2' has no attribute 'EVENT_LBUTTONDBCLK'",
     "output_type": "error",
     "traceback": [
      "\u001b[1;31m---------------------------------------------------------------------------\u001b[0m",
      "\u001b[1;31mAttributeError\u001b[0m                            Traceback (most recent call last)",
      "Cell \u001b[1;32mIn[6], line 12\u001b[0m, in \u001b[0;36mdraw_circle\u001b[1;34m(event, x, y, flags, param)\u001b[0m\n\u001b[0;32m     10\u001b[0m \u001b[38;5;28;01melif\u001b[39;00m event \u001b[38;5;241m==\u001b[39m cv2\u001b[38;5;241m.\u001b[39mEVENT_RBUTTONDOWN:\n\u001b[0;32m     11\u001b[0m     cv2\u001b[38;5;241m.\u001b[39mcircle(img, (x,y), \u001b[38;5;241m10\u001b[39m, (\u001b[38;5;241m255\u001b[39m,\u001b[38;5;241m0\u001b[39m,\u001b[38;5;241m0\u001b[39m), \u001b[38;5;241m2\u001b[39m)\n\u001b[1;32m---> 12\u001b[0m \u001b[38;5;28;01melif\u001b[39;00m event \u001b[38;5;241m==\u001b[39m \u001b[43mcv2\u001b[49m\u001b[38;5;241;43m.\u001b[39;49m\u001b[43mEVENT_LBUTTONDBCLK\u001b[49m:\n\u001b[0;32m     13\u001b[0m     cv2\u001b[38;5;241m.\u001b[39mcircle(img, (x,y), \u001b[38;5;241m20\u001b[39m, (\u001b[38;5;241m255\u001b[39m,\u001b[38;5;241m0\u001b[39m,\u001b[38;5;241m0\u001b[39m), \u001b[38;5;241m-\u001b[39m\u001b[38;5;241m1\u001b[39m)\n",
      "\u001b[1;31mAttributeError\u001b[0m: module 'cv2' has no attribute 'EVENT_LBUTTONDBCLK'"
     ]
    },
    {
     "ename": "AttributeError",
     "evalue": "module 'cv2' has no attribute 'EVENT_LBUTTONDBCLK'",
     "output_type": "error",
     "traceback": [
      "\u001b[1;31m---------------------------------------------------------------------------\u001b[0m",
      "\u001b[1;31mAttributeError\u001b[0m                            Traceback (most recent call last)",
      "Cell \u001b[1;32mIn[6], line 12\u001b[0m, in \u001b[0;36mdraw_circle\u001b[1;34m(event, x, y, flags, param)\u001b[0m\n\u001b[0;32m     10\u001b[0m \u001b[38;5;28;01melif\u001b[39;00m event \u001b[38;5;241m==\u001b[39m cv2\u001b[38;5;241m.\u001b[39mEVENT_RBUTTONDOWN:\n\u001b[0;32m     11\u001b[0m     cv2\u001b[38;5;241m.\u001b[39mcircle(img, (x,y), \u001b[38;5;241m10\u001b[39m, (\u001b[38;5;241m255\u001b[39m,\u001b[38;5;241m0\u001b[39m,\u001b[38;5;241m0\u001b[39m), \u001b[38;5;241m2\u001b[39m)\n\u001b[1;32m---> 12\u001b[0m \u001b[38;5;28;01melif\u001b[39;00m event \u001b[38;5;241m==\u001b[39m \u001b[43mcv2\u001b[49m\u001b[38;5;241;43m.\u001b[39;49m\u001b[43mEVENT_LBUTTONDBCLK\u001b[49m:\n\u001b[0;32m     13\u001b[0m     cv2\u001b[38;5;241m.\u001b[39mcircle(img, (x,y), \u001b[38;5;241m20\u001b[39m, (\u001b[38;5;241m255\u001b[39m,\u001b[38;5;241m0\u001b[39m,\u001b[38;5;241m0\u001b[39m), \u001b[38;5;241m-\u001b[39m\u001b[38;5;241m1\u001b[39m)\n",
      "\u001b[1;31mAttributeError\u001b[0m: module 'cv2' has no attribute 'EVENT_LBUTTONDBCLK'"
     ]
    },
    {
     "ename": "AttributeError",
     "evalue": "module 'cv2' has no attribute 'EVENT_LBUTTONDBCLK'",
     "output_type": "error",
     "traceback": [
      "\u001b[1;31m---------------------------------------------------------------------------\u001b[0m",
      "\u001b[1;31mAttributeError\u001b[0m                            Traceback (most recent call last)",
      "Cell \u001b[1;32mIn[6], line 12\u001b[0m, in \u001b[0;36mdraw_circle\u001b[1;34m(event, x, y, flags, param)\u001b[0m\n\u001b[0;32m     10\u001b[0m \u001b[38;5;28;01melif\u001b[39;00m event \u001b[38;5;241m==\u001b[39m cv2\u001b[38;5;241m.\u001b[39mEVENT_RBUTTONDOWN:\n\u001b[0;32m     11\u001b[0m     cv2\u001b[38;5;241m.\u001b[39mcircle(img, (x,y), \u001b[38;5;241m10\u001b[39m, (\u001b[38;5;241m255\u001b[39m,\u001b[38;5;241m0\u001b[39m,\u001b[38;5;241m0\u001b[39m), \u001b[38;5;241m2\u001b[39m)\n\u001b[1;32m---> 12\u001b[0m \u001b[38;5;28;01melif\u001b[39;00m event \u001b[38;5;241m==\u001b[39m \u001b[43mcv2\u001b[49m\u001b[38;5;241;43m.\u001b[39;49m\u001b[43mEVENT_LBUTTONDBCLK\u001b[49m:\n\u001b[0;32m     13\u001b[0m     cv2\u001b[38;5;241m.\u001b[39mcircle(img, (x,y), \u001b[38;5;241m20\u001b[39m, (\u001b[38;5;241m255\u001b[39m,\u001b[38;5;241m0\u001b[39m,\u001b[38;5;241m0\u001b[39m), \u001b[38;5;241m-\u001b[39m\u001b[38;5;241m1\u001b[39m)\n",
      "\u001b[1;31mAttributeError\u001b[0m: module 'cv2' has no attribute 'EVENT_LBUTTONDBCLK'"
     ]
    },
    {
     "ename": "AttributeError",
     "evalue": "module 'cv2' has no attribute 'EVENT_LBUTTONDBCLK'",
     "output_type": "error",
     "traceback": [
      "\u001b[1;31m---------------------------------------------------------------------------\u001b[0m",
      "\u001b[1;31mAttributeError\u001b[0m                            Traceback (most recent call last)",
      "Cell \u001b[1;32mIn[6], line 12\u001b[0m, in \u001b[0;36mdraw_circle\u001b[1;34m(event, x, y, flags, param)\u001b[0m\n\u001b[0;32m     10\u001b[0m \u001b[38;5;28;01melif\u001b[39;00m event \u001b[38;5;241m==\u001b[39m cv2\u001b[38;5;241m.\u001b[39mEVENT_RBUTTONDOWN:\n\u001b[0;32m     11\u001b[0m     cv2\u001b[38;5;241m.\u001b[39mcircle(img, (x,y), \u001b[38;5;241m10\u001b[39m, (\u001b[38;5;241m255\u001b[39m,\u001b[38;5;241m0\u001b[39m,\u001b[38;5;241m0\u001b[39m), \u001b[38;5;241m2\u001b[39m)\n\u001b[1;32m---> 12\u001b[0m \u001b[38;5;28;01melif\u001b[39;00m event \u001b[38;5;241m==\u001b[39m \u001b[43mcv2\u001b[49m\u001b[38;5;241;43m.\u001b[39;49m\u001b[43mEVENT_LBUTTONDBCLK\u001b[49m:\n\u001b[0;32m     13\u001b[0m     cv2\u001b[38;5;241m.\u001b[39mcircle(img, (x,y), \u001b[38;5;241m20\u001b[39m, (\u001b[38;5;241m255\u001b[39m,\u001b[38;5;241m0\u001b[39m,\u001b[38;5;241m0\u001b[39m), \u001b[38;5;241m-\u001b[39m\u001b[38;5;241m1\u001b[39m)\n",
      "\u001b[1;31mAttributeError\u001b[0m: module 'cv2' has no attribute 'EVENT_LBUTTONDBCLK'"
     ]
    },
    {
     "ename": "AttributeError",
     "evalue": "module 'cv2' has no attribute 'EVENT_LBUTTONDBCLK'",
     "output_type": "error",
     "traceback": [
      "\u001b[1;31m---------------------------------------------------------------------------\u001b[0m",
      "\u001b[1;31mAttributeError\u001b[0m                            Traceback (most recent call last)",
      "Cell \u001b[1;32mIn[6], line 12\u001b[0m, in \u001b[0;36mdraw_circle\u001b[1;34m(event, x, y, flags, param)\u001b[0m\n\u001b[0;32m     10\u001b[0m \u001b[38;5;28;01melif\u001b[39;00m event \u001b[38;5;241m==\u001b[39m cv2\u001b[38;5;241m.\u001b[39mEVENT_RBUTTONDOWN:\n\u001b[0;32m     11\u001b[0m     cv2\u001b[38;5;241m.\u001b[39mcircle(img, (x,y), \u001b[38;5;241m10\u001b[39m, (\u001b[38;5;241m255\u001b[39m,\u001b[38;5;241m0\u001b[39m,\u001b[38;5;241m0\u001b[39m), \u001b[38;5;241m2\u001b[39m)\n\u001b[1;32m---> 12\u001b[0m \u001b[38;5;28;01melif\u001b[39;00m event \u001b[38;5;241m==\u001b[39m \u001b[43mcv2\u001b[49m\u001b[38;5;241;43m.\u001b[39;49m\u001b[43mEVENT_LBUTTONDBCLK\u001b[49m:\n\u001b[0;32m     13\u001b[0m     cv2\u001b[38;5;241m.\u001b[39mcircle(img, (x,y), \u001b[38;5;241m20\u001b[39m, (\u001b[38;5;241m255\u001b[39m,\u001b[38;5;241m0\u001b[39m,\u001b[38;5;241m0\u001b[39m), \u001b[38;5;241m-\u001b[39m\u001b[38;5;241m1\u001b[39m)\n",
      "\u001b[1;31mAttributeError\u001b[0m: module 'cv2' has no attribute 'EVENT_LBUTTONDBCLK'"
     ]
    },
    {
     "ename": "AttributeError",
     "evalue": "module 'cv2' has no attribute 'EVENT_LBUTTONDBCLK'",
     "output_type": "error",
     "traceback": [
      "\u001b[1;31m---------------------------------------------------------------------------\u001b[0m",
      "\u001b[1;31mAttributeError\u001b[0m                            Traceback (most recent call last)",
      "Cell \u001b[1;32mIn[6], line 12\u001b[0m, in \u001b[0;36mdraw_circle\u001b[1;34m(event, x, y, flags, param)\u001b[0m\n\u001b[0;32m     10\u001b[0m \u001b[38;5;28;01melif\u001b[39;00m event \u001b[38;5;241m==\u001b[39m cv2\u001b[38;5;241m.\u001b[39mEVENT_RBUTTONDOWN:\n\u001b[0;32m     11\u001b[0m     cv2\u001b[38;5;241m.\u001b[39mcircle(img, (x,y), \u001b[38;5;241m10\u001b[39m, (\u001b[38;5;241m255\u001b[39m,\u001b[38;5;241m0\u001b[39m,\u001b[38;5;241m0\u001b[39m), \u001b[38;5;241m2\u001b[39m)\n\u001b[1;32m---> 12\u001b[0m \u001b[38;5;28;01melif\u001b[39;00m event \u001b[38;5;241m==\u001b[39m \u001b[43mcv2\u001b[49m\u001b[38;5;241;43m.\u001b[39;49m\u001b[43mEVENT_LBUTTONDBCLK\u001b[49m:\n\u001b[0;32m     13\u001b[0m     cv2\u001b[38;5;241m.\u001b[39mcircle(img, (x,y), \u001b[38;5;241m20\u001b[39m, (\u001b[38;5;241m255\u001b[39m,\u001b[38;5;241m0\u001b[39m,\u001b[38;5;241m0\u001b[39m), \u001b[38;5;241m-\u001b[39m\u001b[38;5;241m1\u001b[39m)\n",
      "\u001b[1;31mAttributeError\u001b[0m: module 'cv2' has no attribute 'EVENT_LBUTTONDBCLK'"
     ]
    },
    {
     "ename": "AttributeError",
     "evalue": "module 'cv2' has no attribute 'EVENT_LBUTTONDBCLK'",
     "output_type": "error",
     "traceback": [
      "\u001b[1;31m---------------------------------------------------------------------------\u001b[0m",
      "\u001b[1;31mAttributeError\u001b[0m                            Traceback (most recent call last)",
      "Cell \u001b[1;32mIn[6], line 12\u001b[0m, in \u001b[0;36mdraw_circle\u001b[1;34m(event, x, y, flags, param)\u001b[0m\n\u001b[0;32m     10\u001b[0m \u001b[38;5;28;01melif\u001b[39;00m event \u001b[38;5;241m==\u001b[39m cv2\u001b[38;5;241m.\u001b[39mEVENT_RBUTTONDOWN:\n\u001b[0;32m     11\u001b[0m     cv2\u001b[38;5;241m.\u001b[39mcircle(img, (x,y), \u001b[38;5;241m10\u001b[39m, (\u001b[38;5;241m255\u001b[39m,\u001b[38;5;241m0\u001b[39m,\u001b[38;5;241m0\u001b[39m), \u001b[38;5;241m2\u001b[39m)\n\u001b[1;32m---> 12\u001b[0m \u001b[38;5;28;01melif\u001b[39;00m event \u001b[38;5;241m==\u001b[39m \u001b[43mcv2\u001b[49m\u001b[38;5;241;43m.\u001b[39;49m\u001b[43mEVENT_LBUTTONDBCLK\u001b[49m:\n\u001b[0;32m     13\u001b[0m     cv2\u001b[38;5;241m.\u001b[39mcircle(img, (x,y), \u001b[38;5;241m20\u001b[39m, (\u001b[38;5;241m255\u001b[39m,\u001b[38;5;241m0\u001b[39m,\u001b[38;5;241m0\u001b[39m), \u001b[38;5;241m-\u001b[39m\u001b[38;5;241m1\u001b[39m)\n",
      "\u001b[1;31mAttributeError\u001b[0m: module 'cv2' has no attribute 'EVENT_LBUTTONDBCLK'"
     ]
    },
    {
     "ename": "AttributeError",
     "evalue": "module 'cv2' has no attribute 'EVENT_LBUTTONDBCLK'",
     "output_type": "error",
     "traceback": [
      "\u001b[1;31m---------------------------------------------------------------------------\u001b[0m",
      "\u001b[1;31mAttributeError\u001b[0m                            Traceback (most recent call last)",
      "Cell \u001b[1;32mIn[6], line 12\u001b[0m, in \u001b[0;36mdraw_circle\u001b[1;34m(event, x, y, flags, param)\u001b[0m\n\u001b[0;32m     10\u001b[0m \u001b[38;5;28;01melif\u001b[39;00m event \u001b[38;5;241m==\u001b[39m cv2\u001b[38;5;241m.\u001b[39mEVENT_RBUTTONDOWN:\n\u001b[0;32m     11\u001b[0m     cv2\u001b[38;5;241m.\u001b[39mcircle(img, (x,y), \u001b[38;5;241m10\u001b[39m, (\u001b[38;5;241m255\u001b[39m,\u001b[38;5;241m0\u001b[39m,\u001b[38;5;241m0\u001b[39m), \u001b[38;5;241m2\u001b[39m)\n\u001b[1;32m---> 12\u001b[0m \u001b[38;5;28;01melif\u001b[39;00m event \u001b[38;5;241m==\u001b[39m \u001b[43mcv2\u001b[49m\u001b[38;5;241;43m.\u001b[39;49m\u001b[43mEVENT_LBUTTONDBCLK\u001b[49m:\n\u001b[0;32m     13\u001b[0m     cv2\u001b[38;5;241m.\u001b[39mcircle(img, (x,y), \u001b[38;5;241m20\u001b[39m, (\u001b[38;5;241m255\u001b[39m,\u001b[38;5;241m0\u001b[39m,\u001b[38;5;241m0\u001b[39m), \u001b[38;5;241m-\u001b[39m\u001b[38;5;241m1\u001b[39m)\n",
      "\u001b[1;31mAttributeError\u001b[0m: module 'cv2' has no attribute 'EVENT_LBUTTONDBCLK'"
     ]
    },
    {
     "ename": "AttributeError",
     "evalue": "module 'cv2' has no attribute 'EVENT_LBUTTONDBCLK'",
     "output_type": "error",
     "traceback": [
      "\u001b[1;31m---------------------------------------------------------------------------\u001b[0m",
      "\u001b[1;31mAttributeError\u001b[0m                            Traceback (most recent call last)",
      "Cell \u001b[1;32mIn[6], line 12\u001b[0m, in \u001b[0;36mdraw_circle\u001b[1;34m(event, x, y, flags, param)\u001b[0m\n\u001b[0;32m     10\u001b[0m \u001b[38;5;28;01melif\u001b[39;00m event \u001b[38;5;241m==\u001b[39m cv2\u001b[38;5;241m.\u001b[39mEVENT_RBUTTONDOWN:\n\u001b[0;32m     11\u001b[0m     cv2\u001b[38;5;241m.\u001b[39mcircle(img, (x,y), \u001b[38;5;241m10\u001b[39m, (\u001b[38;5;241m255\u001b[39m,\u001b[38;5;241m0\u001b[39m,\u001b[38;5;241m0\u001b[39m), \u001b[38;5;241m2\u001b[39m)\n\u001b[1;32m---> 12\u001b[0m \u001b[38;5;28;01melif\u001b[39;00m event \u001b[38;5;241m==\u001b[39m \u001b[43mcv2\u001b[49m\u001b[38;5;241;43m.\u001b[39;49m\u001b[43mEVENT_LBUTTONDBCLK\u001b[49m:\n\u001b[0;32m     13\u001b[0m     cv2\u001b[38;5;241m.\u001b[39mcircle(img, (x,y), \u001b[38;5;241m20\u001b[39m, (\u001b[38;5;241m255\u001b[39m,\u001b[38;5;241m0\u001b[39m,\u001b[38;5;241m0\u001b[39m), \u001b[38;5;241m-\u001b[39m\u001b[38;5;241m1\u001b[39m)\n",
      "\u001b[1;31mAttributeError\u001b[0m: module 'cv2' has no attribute 'EVENT_LBUTTONDBCLK'"
     ]
    },
    {
     "ename": "AttributeError",
     "evalue": "module 'cv2' has no attribute 'EVENT_LBUTTONDBCLK'",
     "output_type": "error",
     "traceback": [
      "\u001b[1;31m---------------------------------------------------------------------------\u001b[0m",
      "\u001b[1;31mAttributeError\u001b[0m                            Traceback (most recent call last)",
      "Cell \u001b[1;32mIn[6], line 12\u001b[0m, in \u001b[0;36mdraw_circle\u001b[1;34m(event, x, y, flags, param)\u001b[0m\n\u001b[0;32m     10\u001b[0m \u001b[38;5;28;01melif\u001b[39;00m event \u001b[38;5;241m==\u001b[39m cv2\u001b[38;5;241m.\u001b[39mEVENT_RBUTTONDOWN:\n\u001b[0;32m     11\u001b[0m     cv2\u001b[38;5;241m.\u001b[39mcircle(img, (x,y), \u001b[38;5;241m10\u001b[39m, (\u001b[38;5;241m255\u001b[39m,\u001b[38;5;241m0\u001b[39m,\u001b[38;5;241m0\u001b[39m), \u001b[38;5;241m2\u001b[39m)\n\u001b[1;32m---> 12\u001b[0m \u001b[38;5;28;01melif\u001b[39;00m event \u001b[38;5;241m==\u001b[39m \u001b[43mcv2\u001b[49m\u001b[38;5;241;43m.\u001b[39;49m\u001b[43mEVENT_LBUTTONDBCLK\u001b[49m:\n\u001b[0;32m     13\u001b[0m     cv2\u001b[38;5;241m.\u001b[39mcircle(img, (x,y), \u001b[38;5;241m20\u001b[39m, (\u001b[38;5;241m255\u001b[39m,\u001b[38;5;241m0\u001b[39m,\u001b[38;5;241m0\u001b[39m), \u001b[38;5;241m-\u001b[39m\u001b[38;5;241m1\u001b[39m)\n",
      "\u001b[1;31mAttributeError\u001b[0m: module 'cv2' has no attribute 'EVENT_LBUTTONDBCLK'"
     ]
    },
    {
     "ename": "AttributeError",
     "evalue": "module 'cv2' has no attribute 'EVENT_LBUTTONDBCLK'",
     "output_type": "error",
     "traceback": [
      "\u001b[1;31m---------------------------------------------------------------------------\u001b[0m",
      "\u001b[1;31mAttributeError\u001b[0m                            Traceback (most recent call last)",
      "Cell \u001b[1;32mIn[6], line 12\u001b[0m, in \u001b[0;36mdraw_circle\u001b[1;34m(event, x, y, flags, param)\u001b[0m\n\u001b[0;32m     10\u001b[0m \u001b[38;5;28;01melif\u001b[39;00m event \u001b[38;5;241m==\u001b[39m cv2\u001b[38;5;241m.\u001b[39mEVENT_RBUTTONDOWN:\n\u001b[0;32m     11\u001b[0m     cv2\u001b[38;5;241m.\u001b[39mcircle(img, (x,y), \u001b[38;5;241m10\u001b[39m, (\u001b[38;5;241m255\u001b[39m,\u001b[38;5;241m0\u001b[39m,\u001b[38;5;241m0\u001b[39m), \u001b[38;5;241m2\u001b[39m)\n\u001b[1;32m---> 12\u001b[0m \u001b[38;5;28;01melif\u001b[39;00m event \u001b[38;5;241m==\u001b[39m \u001b[43mcv2\u001b[49m\u001b[38;5;241;43m.\u001b[39;49m\u001b[43mEVENT_LBUTTONDBCLK\u001b[49m:\n\u001b[0;32m     13\u001b[0m     cv2\u001b[38;5;241m.\u001b[39mcircle(img, (x,y), \u001b[38;5;241m20\u001b[39m, (\u001b[38;5;241m255\u001b[39m,\u001b[38;5;241m0\u001b[39m,\u001b[38;5;241m0\u001b[39m), \u001b[38;5;241m-\u001b[39m\u001b[38;5;241m1\u001b[39m)\n",
      "\u001b[1;31mAttributeError\u001b[0m: module 'cv2' has no attribute 'EVENT_LBUTTONDBCLK'"
     ]
    },
    {
     "ename": "AttributeError",
     "evalue": "module 'cv2' has no attribute 'EVENT_LBUTTONDBCLK'",
     "output_type": "error",
     "traceback": [
      "\u001b[1;31m---------------------------------------------------------------------------\u001b[0m",
      "\u001b[1;31mAttributeError\u001b[0m                            Traceback (most recent call last)",
      "Cell \u001b[1;32mIn[6], line 12\u001b[0m, in \u001b[0;36mdraw_circle\u001b[1;34m(event, x, y, flags, param)\u001b[0m\n\u001b[0;32m     10\u001b[0m \u001b[38;5;28;01melif\u001b[39;00m event \u001b[38;5;241m==\u001b[39m cv2\u001b[38;5;241m.\u001b[39mEVENT_RBUTTONDOWN:\n\u001b[0;32m     11\u001b[0m     cv2\u001b[38;5;241m.\u001b[39mcircle(img, (x,y), \u001b[38;5;241m10\u001b[39m, (\u001b[38;5;241m255\u001b[39m,\u001b[38;5;241m0\u001b[39m,\u001b[38;5;241m0\u001b[39m), \u001b[38;5;241m2\u001b[39m)\n\u001b[1;32m---> 12\u001b[0m \u001b[38;5;28;01melif\u001b[39;00m event \u001b[38;5;241m==\u001b[39m \u001b[43mcv2\u001b[49m\u001b[38;5;241;43m.\u001b[39;49m\u001b[43mEVENT_LBUTTONDBCLK\u001b[49m:\n\u001b[0;32m     13\u001b[0m     cv2\u001b[38;5;241m.\u001b[39mcircle(img, (x,y), \u001b[38;5;241m20\u001b[39m, (\u001b[38;5;241m255\u001b[39m,\u001b[38;5;241m0\u001b[39m,\u001b[38;5;241m0\u001b[39m), \u001b[38;5;241m-\u001b[39m\u001b[38;5;241m1\u001b[39m)\n",
      "\u001b[1;31mAttributeError\u001b[0m: module 'cv2' has no attribute 'EVENT_LBUTTONDBCLK'"
     ]
    },
    {
     "ename": "AttributeError",
     "evalue": "module 'cv2' has no attribute 'EVENT_LBUTTONDBCLK'",
     "output_type": "error",
     "traceback": [
      "\u001b[1;31m---------------------------------------------------------------------------\u001b[0m",
      "\u001b[1;31mAttributeError\u001b[0m                            Traceback (most recent call last)",
      "Cell \u001b[1;32mIn[6], line 12\u001b[0m, in \u001b[0;36mdraw_circle\u001b[1;34m(event, x, y, flags, param)\u001b[0m\n\u001b[0;32m     10\u001b[0m \u001b[38;5;28;01melif\u001b[39;00m event \u001b[38;5;241m==\u001b[39m cv2\u001b[38;5;241m.\u001b[39mEVENT_RBUTTONDOWN:\n\u001b[0;32m     11\u001b[0m     cv2\u001b[38;5;241m.\u001b[39mcircle(img, (x,y), \u001b[38;5;241m10\u001b[39m, (\u001b[38;5;241m255\u001b[39m,\u001b[38;5;241m0\u001b[39m,\u001b[38;5;241m0\u001b[39m), \u001b[38;5;241m2\u001b[39m)\n\u001b[1;32m---> 12\u001b[0m \u001b[38;5;28;01melif\u001b[39;00m event \u001b[38;5;241m==\u001b[39m \u001b[43mcv2\u001b[49m\u001b[38;5;241;43m.\u001b[39;49m\u001b[43mEVENT_LBUTTONDBCLK\u001b[49m:\n\u001b[0;32m     13\u001b[0m     cv2\u001b[38;5;241m.\u001b[39mcircle(img, (x,y), \u001b[38;5;241m20\u001b[39m, (\u001b[38;5;241m255\u001b[39m,\u001b[38;5;241m0\u001b[39m,\u001b[38;5;241m0\u001b[39m), \u001b[38;5;241m-\u001b[39m\u001b[38;5;241m1\u001b[39m)\n",
      "\u001b[1;31mAttributeError\u001b[0m: module 'cv2' has no attribute 'EVENT_LBUTTONDBCLK'"
     ]
    },
    {
     "ename": "AttributeError",
     "evalue": "module 'cv2' has no attribute 'EVENT_LBUTTONDBCLK'",
     "output_type": "error",
     "traceback": [
      "\u001b[1;31m---------------------------------------------------------------------------\u001b[0m",
      "\u001b[1;31mAttributeError\u001b[0m                            Traceback (most recent call last)",
      "Cell \u001b[1;32mIn[6], line 12\u001b[0m, in \u001b[0;36mdraw_circle\u001b[1;34m(event, x, y, flags, param)\u001b[0m\n\u001b[0;32m     10\u001b[0m \u001b[38;5;28;01melif\u001b[39;00m event \u001b[38;5;241m==\u001b[39m cv2\u001b[38;5;241m.\u001b[39mEVENT_RBUTTONDOWN:\n\u001b[0;32m     11\u001b[0m     cv2\u001b[38;5;241m.\u001b[39mcircle(img, (x,y), \u001b[38;5;241m10\u001b[39m, (\u001b[38;5;241m255\u001b[39m,\u001b[38;5;241m0\u001b[39m,\u001b[38;5;241m0\u001b[39m), \u001b[38;5;241m2\u001b[39m)\n\u001b[1;32m---> 12\u001b[0m \u001b[38;5;28;01melif\u001b[39;00m event \u001b[38;5;241m==\u001b[39m \u001b[43mcv2\u001b[49m\u001b[38;5;241;43m.\u001b[39;49m\u001b[43mEVENT_LBUTTONDBCLK\u001b[49m:\n\u001b[0;32m     13\u001b[0m     cv2\u001b[38;5;241m.\u001b[39mcircle(img, (x,y), \u001b[38;5;241m20\u001b[39m, (\u001b[38;5;241m255\u001b[39m,\u001b[38;5;241m0\u001b[39m,\u001b[38;5;241m0\u001b[39m), \u001b[38;5;241m-\u001b[39m\u001b[38;5;241m1\u001b[39m)\n",
      "\u001b[1;31mAttributeError\u001b[0m: module 'cv2' has no attribute 'EVENT_LBUTTONDBCLK'"
     ]
    },
    {
     "ename": "AttributeError",
     "evalue": "module 'cv2' has no attribute 'EVENT_LBUTTONDBCLK'",
     "output_type": "error",
     "traceback": [
      "\u001b[1;31m---------------------------------------------------------------------------\u001b[0m",
      "\u001b[1;31mAttributeError\u001b[0m                            Traceback (most recent call last)",
      "Cell \u001b[1;32mIn[6], line 12\u001b[0m, in \u001b[0;36mdraw_circle\u001b[1;34m(event, x, y, flags, param)\u001b[0m\n\u001b[0;32m     10\u001b[0m \u001b[38;5;28;01melif\u001b[39;00m event \u001b[38;5;241m==\u001b[39m cv2\u001b[38;5;241m.\u001b[39mEVENT_RBUTTONDOWN:\n\u001b[0;32m     11\u001b[0m     cv2\u001b[38;5;241m.\u001b[39mcircle(img, (x,y), \u001b[38;5;241m10\u001b[39m, (\u001b[38;5;241m255\u001b[39m,\u001b[38;5;241m0\u001b[39m,\u001b[38;5;241m0\u001b[39m), \u001b[38;5;241m2\u001b[39m)\n\u001b[1;32m---> 12\u001b[0m \u001b[38;5;28;01melif\u001b[39;00m event \u001b[38;5;241m==\u001b[39m \u001b[43mcv2\u001b[49m\u001b[38;5;241;43m.\u001b[39;49m\u001b[43mEVENT_LBUTTONDBCLK\u001b[49m:\n\u001b[0;32m     13\u001b[0m     cv2\u001b[38;5;241m.\u001b[39mcircle(img, (x,y), \u001b[38;5;241m20\u001b[39m, (\u001b[38;5;241m255\u001b[39m,\u001b[38;5;241m0\u001b[39m,\u001b[38;5;241m0\u001b[39m), \u001b[38;5;241m-\u001b[39m\u001b[38;5;241m1\u001b[39m)\n",
      "\u001b[1;31mAttributeError\u001b[0m: module 'cv2' has no attribute 'EVENT_LBUTTONDBCLK'"
     ]
    },
    {
     "ename": "AttributeError",
     "evalue": "module 'cv2' has no attribute 'EVENT_LBUTTONDBCLK'",
     "output_type": "error",
     "traceback": [
      "\u001b[1;31m---------------------------------------------------------------------------\u001b[0m",
      "\u001b[1;31mAttributeError\u001b[0m                            Traceback (most recent call last)",
      "Cell \u001b[1;32mIn[6], line 12\u001b[0m, in \u001b[0;36mdraw_circle\u001b[1;34m(event, x, y, flags, param)\u001b[0m\n\u001b[0;32m     10\u001b[0m \u001b[38;5;28;01melif\u001b[39;00m event \u001b[38;5;241m==\u001b[39m cv2\u001b[38;5;241m.\u001b[39mEVENT_RBUTTONDOWN:\n\u001b[0;32m     11\u001b[0m     cv2\u001b[38;5;241m.\u001b[39mcircle(img, (x,y), \u001b[38;5;241m10\u001b[39m, (\u001b[38;5;241m255\u001b[39m,\u001b[38;5;241m0\u001b[39m,\u001b[38;5;241m0\u001b[39m), \u001b[38;5;241m2\u001b[39m)\n\u001b[1;32m---> 12\u001b[0m \u001b[38;5;28;01melif\u001b[39;00m event \u001b[38;5;241m==\u001b[39m \u001b[43mcv2\u001b[49m\u001b[38;5;241;43m.\u001b[39;49m\u001b[43mEVENT_LBUTTONDBCLK\u001b[49m:\n\u001b[0;32m     13\u001b[0m     cv2\u001b[38;5;241m.\u001b[39mcircle(img, (x,y), \u001b[38;5;241m20\u001b[39m, (\u001b[38;5;241m255\u001b[39m,\u001b[38;5;241m0\u001b[39m,\u001b[38;5;241m0\u001b[39m), \u001b[38;5;241m-\u001b[39m\u001b[38;5;241m1\u001b[39m)\n",
      "\u001b[1;31mAttributeError\u001b[0m: module 'cv2' has no attribute 'EVENT_LBUTTONDBCLK'"
     ]
    },
    {
     "ename": "AttributeError",
     "evalue": "module 'cv2' has no attribute 'EVENT_LBUTTONDBCLK'",
     "output_type": "error",
     "traceback": [
      "\u001b[1;31m---------------------------------------------------------------------------\u001b[0m",
      "\u001b[1;31mAttributeError\u001b[0m                            Traceback (most recent call last)",
      "Cell \u001b[1;32mIn[6], line 12\u001b[0m, in \u001b[0;36mdraw_circle\u001b[1;34m(event, x, y, flags, param)\u001b[0m\n\u001b[0;32m     10\u001b[0m \u001b[38;5;28;01melif\u001b[39;00m event \u001b[38;5;241m==\u001b[39m cv2\u001b[38;5;241m.\u001b[39mEVENT_RBUTTONDOWN:\n\u001b[0;32m     11\u001b[0m     cv2\u001b[38;5;241m.\u001b[39mcircle(img, (x,y), \u001b[38;5;241m10\u001b[39m, (\u001b[38;5;241m255\u001b[39m,\u001b[38;5;241m0\u001b[39m,\u001b[38;5;241m0\u001b[39m), \u001b[38;5;241m2\u001b[39m)\n\u001b[1;32m---> 12\u001b[0m \u001b[38;5;28;01melif\u001b[39;00m event \u001b[38;5;241m==\u001b[39m \u001b[43mcv2\u001b[49m\u001b[38;5;241;43m.\u001b[39;49m\u001b[43mEVENT_LBUTTONDBCLK\u001b[49m:\n\u001b[0;32m     13\u001b[0m     cv2\u001b[38;5;241m.\u001b[39mcircle(img, (x,y), \u001b[38;5;241m20\u001b[39m, (\u001b[38;5;241m255\u001b[39m,\u001b[38;5;241m0\u001b[39m,\u001b[38;5;241m0\u001b[39m), \u001b[38;5;241m-\u001b[39m\u001b[38;5;241m1\u001b[39m)\n",
      "\u001b[1;31mAttributeError\u001b[0m: module 'cv2' has no attribute 'EVENT_LBUTTONDBCLK'"
     ]
    },
    {
     "ename": "AttributeError",
     "evalue": "module 'cv2' has no attribute 'EVENT_LBUTTONDBCLK'",
     "output_type": "error",
     "traceback": [
      "\u001b[1;31m---------------------------------------------------------------------------\u001b[0m",
      "\u001b[1;31mAttributeError\u001b[0m                            Traceback (most recent call last)",
      "Cell \u001b[1;32mIn[6], line 12\u001b[0m, in \u001b[0;36mdraw_circle\u001b[1;34m(event, x, y, flags, param)\u001b[0m\n\u001b[0;32m     10\u001b[0m \u001b[38;5;28;01melif\u001b[39;00m event \u001b[38;5;241m==\u001b[39m cv2\u001b[38;5;241m.\u001b[39mEVENT_RBUTTONDOWN:\n\u001b[0;32m     11\u001b[0m     cv2\u001b[38;5;241m.\u001b[39mcircle(img, (x,y), \u001b[38;5;241m10\u001b[39m, (\u001b[38;5;241m255\u001b[39m,\u001b[38;5;241m0\u001b[39m,\u001b[38;5;241m0\u001b[39m), \u001b[38;5;241m2\u001b[39m)\n\u001b[1;32m---> 12\u001b[0m \u001b[38;5;28;01melif\u001b[39;00m event \u001b[38;5;241m==\u001b[39m \u001b[43mcv2\u001b[49m\u001b[38;5;241;43m.\u001b[39;49m\u001b[43mEVENT_LBUTTONDBCLK\u001b[49m:\n\u001b[0;32m     13\u001b[0m     cv2\u001b[38;5;241m.\u001b[39mcircle(img, (x,y), \u001b[38;5;241m20\u001b[39m, (\u001b[38;5;241m255\u001b[39m,\u001b[38;5;241m0\u001b[39m,\u001b[38;5;241m0\u001b[39m), \u001b[38;5;241m-\u001b[39m\u001b[38;5;241m1\u001b[39m)\n",
      "\u001b[1;31mAttributeError\u001b[0m: module 'cv2' has no attribute 'EVENT_LBUTTONDBCLK'"
     ]
    },
    {
     "ename": "AttributeError",
     "evalue": "module 'cv2' has no attribute 'EVENT_LBUTTONDBCLK'",
     "output_type": "error",
     "traceback": [
      "\u001b[1;31m---------------------------------------------------------------------------\u001b[0m",
      "\u001b[1;31mAttributeError\u001b[0m                            Traceback (most recent call last)",
      "Cell \u001b[1;32mIn[6], line 12\u001b[0m, in \u001b[0;36mdraw_circle\u001b[1;34m(event, x, y, flags, param)\u001b[0m\n\u001b[0;32m     10\u001b[0m \u001b[38;5;28;01melif\u001b[39;00m event \u001b[38;5;241m==\u001b[39m cv2\u001b[38;5;241m.\u001b[39mEVENT_RBUTTONDOWN:\n\u001b[0;32m     11\u001b[0m     cv2\u001b[38;5;241m.\u001b[39mcircle(img, (x,y), \u001b[38;5;241m10\u001b[39m, (\u001b[38;5;241m255\u001b[39m,\u001b[38;5;241m0\u001b[39m,\u001b[38;5;241m0\u001b[39m), \u001b[38;5;241m2\u001b[39m)\n\u001b[1;32m---> 12\u001b[0m \u001b[38;5;28;01melif\u001b[39;00m event \u001b[38;5;241m==\u001b[39m \u001b[43mcv2\u001b[49m\u001b[38;5;241;43m.\u001b[39;49m\u001b[43mEVENT_LBUTTONDBCLK\u001b[49m:\n\u001b[0;32m     13\u001b[0m     cv2\u001b[38;5;241m.\u001b[39mcircle(img, (x,y), \u001b[38;5;241m20\u001b[39m, (\u001b[38;5;241m255\u001b[39m,\u001b[38;5;241m0\u001b[39m,\u001b[38;5;241m0\u001b[39m), \u001b[38;5;241m-\u001b[39m\u001b[38;5;241m1\u001b[39m)\n",
      "\u001b[1;31mAttributeError\u001b[0m: module 'cv2' has no attribute 'EVENT_LBUTTONDBCLK'"
     ]
    },
    {
     "ename": "AttributeError",
     "evalue": "module 'cv2' has no attribute 'EVENT_LBUTTONDBCLK'",
     "output_type": "error",
     "traceback": [
      "\u001b[1;31m---------------------------------------------------------------------------\u001b[0m",
      "\u001b[1;31mAttributeError\u001b[0m                            Traceback (most recent call last)",
      "Cell \u001b[1;32mIn[6], line 12\u001b[0m, in \u001b[0;36mdraw_circle\u001b[1;34m(event, x, y, flags, param)\u001b[0m\n\u001b[0;32m     10\u001b[0m \u001b[38;5;28;01melif\u001b[39;00m event \u001b[38;5;241m==\u001b[39m cv2\u001b[38;5;241m.\u001b[39mEVENT_RBUTTONDOWN:\n\u001b[0;32m     11\u001b[0m     cv2\u001b[38;5;241m.\u001b[39mcircle(img, (x,y), \u001b[38;5;241m10\u001b[39m, (\u001b[38;5;241m255\u001b[39m,\u001b[38;5;241m0\u001b[39m,\u001b[38;5;241m0\u001b[39m), \u001b[38;5;241m2\u001b[39m)\n\u001b[1;32m---> 12\u001b[0m \u001b[38;5;28;01melif\u001b[39;00m event \u001b[38;5;241m==\u001b[39m \u001b[43mcv2\u001b[49m\u001b[38;5;241;43m.\u001b[39;49m\u001b[43mEVENT_LBUTTONDBCLK\u001b[49m:\n\u001b[0;32m     13\u001b[0m     cv2\u001b[38;5;241m.\u001b[39mcircle(img, (x,y), \u001b[38;5;241m20\u001b[39m, (\u001b[38;5;241m255\u001b[39m,\u001b[38;5;241m0\u001b[39m,\u001b[38;5;241m0\u001b[39m), \u001b[38;5;241m-\u001b[39m\u001b[38;5;241m1\u001b[39m)\n",
      "\u001b[1;31mAttributeError\u001b[0m: module 'cv2' has no attribute 'EVENT_LBUTTONDBCLK'"
     ]
    },
    {
     "ename": "AttributeError",
     "evalue": "module 'cv2' has no attribute 'EVENT_LBUTTONDBCLK'",
     "output_type": "error",
     "traceback": [
      "\u001b[1;31m---------------------------------------------------------------------------\u001b[0m",
      "\u001b[1;31mAttributeError\u001b[0m                            Traceback (most recent call last)",
      "Cell \u001b[1;32mIn[6], line 12\u001b[0m, in \u001b[0;36mdraw_circle\u001b[1;34m(event, x, y, flags, param)\u001b[0m\n\u001b[0;32m     10\u001b[0m \u001b[38;5;28;01melif\u001b[39;00m event \u001b[38;5;241m==\u001b[39m cv2\u001b[38;5;241m.\u001b[39mEVENT_RBUTTONDOWN:\n\u001b[0;32m     11\u001b[0m     cv2\u001b[38;5;241m.\u001b[39mcircle(img, (x,y), \u001b[38;5;241m10\u001b[39m, (\u001b[38;5;241m255\u001b[39m,\u001b[38;5;241m0\u001b[39m,\u001b[38;5;241m0\u001b[39m), \u001b[38;5;241m2\u001b[39m)\n\u001b[1;32m---> 12\u001b[0m \u001b[38;5;28;01melif\u001b[39;00m event \u001b[38;5;241m==\u001b[39m \u001b[43mcv2\u001b[49m\u001b[38;5;241;43m.\u001b[39;49m\u001b[43mEVENT_LBUTTONDBCLK\u001b[49m:\n\u001b[0;32m     13\u001b[0m     cv2\u001b[38;5;241m.\u001b[39mcircle(img, (x,y), \u001b[38;5;241m20\u001b[39m, (\u001b[38;5;241m255\u001b[39m,\u001b[38;5;241m0\u001b[39m,\u001b[38;5;241m0\u001b[39m), \u001b[38;5;241m-\u001b[39m\u001b[38;5;241m1\u001b[39m)\n",
      "\u001b[1;31mAttributeError\u001b[0m: module 'cv2' has no attribute 'EVENT_LBUTTONDBCLK'"
     ]
    },
    {
     "ename": "AttributeError",
     "evalue": "module 'cv2' has no attribute 'EVENT_LBUTTONDBCLK'",
     "output_type": "error",
     "traceback": [
      "\u001b[1;31m---------------------------------------------------------------------------\u001b[0m",
      "\u001b[1;31mAttributeError\u001b[0m                            Traceback (most recent call last)",
      "Cell \u001b[1;32mIn[6], line 12\u001b[0m, in \u001b[0;36mdraw_circle\u001b[1;34m(event, x, y, flags, param)\u001b[0m\n\u001b[0;32m     10\u001b[0m \u001b[38;5;28;01melif\u001b[39;00m event \u001b[38;5;241m==\u001b[39m cv2\u001b[38;5;241m.\u001b[39mEVENT_RBUTTONDOWN:\n\u001b[0;32m     11\u001b[0m     cv2\u001b[38;5;241m.\u001b[39mcircle(img, (x,y), \u001b[38;5;241m10\u001b[39m, (\u001b[38;5;241m255\u001b[39m,\u001b[38;5;241m0\u001b[39m,\u001b[38;5;241m0\u001b[39m), \u001b[38;5;241m2\u001b[39m)\n\u001b[1;32m---> 12\u001b[0m \u001b[38;5;28;01melif\u001b[39;00m event \u001b[38;5;241m==\u001b[39m \u001b[43mcv2\u001b[49m\u001b[38;5;241;43m.\u001b[39;49m\u001b[43mEVENT_LBUTTONDBCLK\u001b[49m:\n\u001b[0;32m     13\u001b[0m     cv2\u001b[38;5;241m.\u001b[39mcircle(img, (x,y), \u001b[38;5;241m20\u001b[39m, (\u001b[38;5;241m255\u001b[39m,\u001b[38;5;241m0\u001b[39m,\u001b[38;5;241m0\u001b[39m), \u001b[38;5;241m-\u001b[39m\u001b[38;5;241m1\u001b[39m)\n",
      "\u001b[1;31mAttributeError\u001b[0m: module 'cv2' has no attribute 'EVENT_LBUTTONDBCLK'"
     ]
    },
    {
     "ename": "AttributeError",
     "evalue": "module 'cv2' has no attribute 'EVENT_LBUTTONDBCLK'",
     "output_type": "error",
     "traceback": [
      "\u001b[1;31m---------------------------------------------------------------------------\u001b[0m",
      "\u001b[1;31mAttributeError\u001b[0m                            Traceback (most recent call last)",
      "Cell \u001b[1;32mIn[6], line 12\u001b[0m, in \u001b[0;36mdraw_circle\u001b[1;34m(event, x, y, flags, param)\u001b[0m\n\u001b[0;32m     10\u001b[0m \u001b[38;5;28;01melif\u001b[39;00m event \u001b[38;5;241m==\u001b[39m cv2\u001b[38;5;241m.\u001b[39mEVENT_RBUTTONDOWN:\n\u001b[0;32m     11\u001b[0m     cv2\u001b[38;5;241m.\u001b[39mcircle(img, (x,y), \u001b[38;5;241m10\u001b[39m, (\u001b[38;5;241m255\u001b[39m,\u001b[38;5;241m0\u001b[39m,\u001b[38;5;241m0\u001b[39m), \u001b[38;5;241m2\u001b[39m)\n\u001b[1;32m---> 12\u001b[0m \u001b[38;5;28;01melif\u001b[39;00m event \u001b[38;5;241m==\u001b[39m \u001b[43mcv2\u001b[49m\u001b[38;5;241;43m.\u001b[39;49m\u001b[43mEVENT_LBUTTONDBCLK\u001b[49m:\n\u001b[0;32m     13\u001b[0m     cv2\u001b[38;5;241m.\u001b[39mcircle(img, (x,y), \u001b[38;5;241m20\u001b[39m, (\u001b[38;5;241m255\u001b[39m,\u001b[38;5;241m0\u001b[39m,\u001b[38;5;241m0\u001b[39m), \u001b[38;5;241m-\u001b[39m\u001b[38;5;241m1\u001b[39m)\n",
      "\u001b[1;31mAttributeError\u001b[0m: module 'cv2' has no attribute 'EVENT_LBUTTONDBCLK'"
     ]
    },
    {
     "ename": "AttributeError",
     "evalue": "module 'cv2' has no attribute 'EVENT_LBUTTONDBCLK'",
     "output_type": "error",
     "traceback": [
      "\u001b[1;31m---------------------------------------------------------------------------\u001b[0m",
      "\u001b[1;31mAttributeError\u001b[0m                            Traceback (most recent call last)",
      "Cell \u001b[1;32mIn[6], line 12\u001b[0m, in \u001b[0;36mdraw_circle\u001b[1;34m(event, x, y, flags, param)\u001b[0m\n\u001b[0;32m     10\u001b[0m \u001b[38;5;28;01melif\u001b[39;00m event \u001b[38;5;241m==\u001b[39m cv2\u001b[38;5;241m.\u001b[39mEVENT_RBUTTONDOWN:\n\u001b[0;32m     11\u001b[0m     cv2\u001b[38;5;241m.\u001b[39mcircle(img, (x,y), \u001b[38;5;241m10\u001b[39m, (\u001b[38;5;241m255\u001b[39m,\u001b[38;5;241m0\u001b[39m,\u001b[38;5;241m0\u001b[39m), \u001b[38;5;241m2\u001b[39m)\n\u001b[1;32m---> 12\u001b[0m \u001b[38;5;28;01melif\u001b[39;00m event \u001b[38;5;241m==\u001b[39m \u001b[43mcv2\u001b[49m\u001b[38;5;241;43m.\u001b[39;49m\u001b[43mEVENT_LBUTTONDBCLK\u001b[49m:\n\u001b[0;32m     13\u001b[0m     cv2\u001b[38;5;241m.\u001b[39mcircle(img, (x,y), \u001b[38;5;241m20\u001b[39m, (\u001b[38;5;241m255\u001b[39m,\u001b[38;5;241m0\u001b[39m,\u001b[38;5;241m0\u001b[39m), \u001b[38;5;241m-\u001b[39m\u001b[38;5;241m1\u001b[39m)\n",
      "\u001b[1;31mAttributeError\u001b[0m: module 'cv2' has no attribute 'EVENT_LBUTTONDBCLK'"
     ]
    },
    {
     "ename": "AttributeError",
     "evalue": "module 'cv2' has no attribute 'EVENT_LBUTTONDBCLK'",
     "output_type": "error",
     "traceback": [
      "\u001b[1;31m---------------------------------------------------------------------------\u001b[0m",
      "\u001b[1;31mAttributeError\u001b[0m                            Traceback (most recent call last)",
      "Cell \u001b[1;32mIn[6], line 12\u001b[0m, in \u001b[0;36mdraw_circle\u001b[1;34m(event, x, y, flags, param)\u001b[0m\n\u001b[0;32m     10\u001b[0m \u001b[38;5;28;01melif\u001b[39;00m event \u001b[38;5;241m==\u001b[39m cv2\u001b[38;5;241m.\u001b[39mEVENT_RBUTTONDOWN:\n\u001b[0;32m     11\u001b[0m     cv2\u001b[38;5;241m.\u001b[39mcircle(img, (x,y), \u001b[38;5;241m10\u001b[39m, (\u001b[38;5;241m255\u001b[39m,\u001b[38;5;241m0\u001b[39m,\u001b[38;5;241m0\u001b[39m), \u001b[38;5;241m2\u001b[39m)\n\u001b[1;32m---> 12\u001b[0m \u001b[38;5;28;01melif\u001b[39;00m event \u001b[38;5;241m==\u001b[39m \u001b[43mcv2\u001b[49m\u001b[38;5;241;43m.\u001b[39;49m\u001b[43mEVENT_LBUTTONDBCLK\u001b[49m:\n\u001b[0;32m     13\u001b[0m     cv2\u001b[38;5;241m.\u001b[39mcircle(img, (x,y), \u001b[38;5;241m20\u001b[39m, (\u001b[38;5;241m255\u001b[39m,\u001b[38;5;241m0\u001b[39m,\u001b[38;5;241m0\u001b[39m), \u001b[38;5;241m-\u001b[39m\u001b[38;5;241m1\u001b[39m)\n",
      "\u001b[1;31mAttributeError\u001b[0m: module 'cv2' has no attribute 'EVENT_LBUTTONDBCLK'"
     ]
    },
    {
     "ename": "AttributeError",
     "evalue": "module 'cv2' has no attribute 'EVENT_LBUTTONDBCLK'",
     "output_type": "error",
     "traceback": [
      "\u001b[1;31m---------------------------------------------------------------------------\u001b[0m",
      "\u001b[1;31mAttributeError\u001b[0m                            Traceback (most recent call last)",
      "Cell \u001b[1;32mIn[6], line 12\u001b[0m, in \u001b[0;36mdraw_circle\u001b[1;34m(event, x, y, flags, param)\u001b[0m\n\u001b[0;32m     10\u001b[0m \u001b[38;5;28;01melif\u001b[39;00m event \u001b[38;5;241m==\u001b[39m cv2\u001b[38;5;241m.\u001b[39mEVENT_RBUTTONDOWN:\n\u001b[0;32m     11\u001b[0m     cv2\u001b[38;5;241m.\u001b[39mcircle(img, (x,y), \u001b[38;5;241m10\u001b[39m, (\u001b[38;5;241m255\u001b[39m,\u001b[38;5;241m0\u001b[39m,\u001b[38;5;241m0\u001b[39m), \u001b[38;5;241m2\u001b[39m)\n\u001b[1;32m---> 12\u001b[0m \u001b[38;5;28;01melif\u001b[39;00m event \u001b[38;5;241m==\u001b[39m \u001b[43mcv2\u001b[49m\u001b[38;5;241;43m.\u001b[39;49m\u001b[43mEVENT_LBUTTONDBCLK\u001b[49m:\n\u001b[0;32m     13\u001b[0m     cv2\u001b[38;5;241m.\u001b[39mcircle(img, (x,y), \u001b[38;5;241m20\u001b[39m, (\u001b[38;5;241m255\u001b[39m,\u001b[38;5;241m0\u001b[39m,\u001b[38;5;241m0\u001b[39m), \u001b[38;5;241m-\u001b[39m\u001b[38;5;241m1\u001b[39m)\n",
      "\u001b[1;31mAttributeError\u001b[0m: module 'cv2' has no attribute 'EVENT_LBUTTONDBCLK'"
     ]
    },
    {
     "ename": "AttributeError",
     "evalue": "module 'cv2' has no attribute 'EVENT_LBUTTONDBCLK'",
     "output_type": "error",
     "traceback": [
      "\u001b[1;31m---------------------------------------------------------------------------\u001b[0m",
      "\u001b[1;31mAttributeError\u001b[0m                            Traceback (most recent call last)",
      "Cell \u001b[1;32mIn[6], line 12\u001b[0m, in \u001b[0;36mdraw_circle\u001b[1;34m(event, x, y, flags, param)\u001b[0m\n\u001b[0;32m     10\u001b[0m \u001b[38;5;28;01melif\u001b[39;00m event \u001b[38;5;241m==\u001b[39m cv2\u001b[38;5;241m.\u001b[39mEVENT_RBUTTONDOWN:\n\u001b[0;32m     11\u001b[0m     cv2\u001b[38;5;241m.\u001b[39mcircle(img, (x,y), \u001b[38;5;241m10\u001b[39m, (\u001b[38;5;241m255\u001b[39m,\u001b[38;5;241m0\u001b[39m,\u001b[38;5;241m0\u001b[39m), \u001b[38;5;241m2\u001b[39m)\n\u001b[1;32m---> 12\u001b[0m \u001b[38;5;28;01melif\u001b[39;00m event \u001b[38;5;241m==\u001b[39m \u001b[43mcv2\u001b[49m\u001b[38;5;241;43m.\u001b[39;49m\u001b[43mEVENT_LBUTTONDBCLK\u001b[49m:\n\u001b[0;32m     13\u001b[0m     cv2\u001b[38;5;241m.\u001b[39mcircle(img, (x,y), \u001b[38;5;241m20\u001b[39m, (\u001b[38;5;241m255\u001b[39m,\u001b[38;5;241m0\u001b[39m,\u001b[38;5;241m0\u001b[39m), \u001b[38;5;241m-\u001b[39m\u001b[38;5;241m1\u001b[39m)\n",
      "\u001b[1;31mAttributeError\u001b[0m: module 'cv2' has no attribute 'EVENT_LBUTTONDBCLK'"
     ]
    },
    {
     "ename": "AttributeError",
     "evalue": "module 'cv2' has no attribute 'EVENT_LBUTTONDBCLK'",
     "output_type": "error",
     "traceback": [
      "\u001b[1;31m---------------------------------------------------------------------------\u001b[0m",
      "\u001b[1;31mAttributeError\u001b[0m                            Traceback (most recent call last)",
      "Cell \u001b[1;32mIn[6], line 12\u001b[0m, in \u001b[0;36mdraw_circle\u001b[1;34m(event, x, y, flags, param)\u001b[0m\n\u001b[0;32m     10\u001b[0m \u001b[38;5;28;01melif\u001b[39;00m event \u001b[38;5;241m==\u001b[39m cv2\u001b[38;5;241m.\u001b[39mEVENT_RBUTTONDOWN:\n\u001b[0;32m     11\u001b[0m     cv2\u001b[38;5;241m.\u001b[39mcircle(img, (x,y), \u001b[38;5;241m10\u001b[39m, (\u001b[38;5;241m255\u001b[39m,\u001b[38;5;241m0\u001b[39m,\u001b[38;5;241m0\u001b[39m), \u001b[38;5;241m2\u001b[39m)\n\u001b[1;32m---> 12\u001b[0m \u001b[38;5;28;01melif\u001b[39;00m event \u001b[38;5;241m==\u001b[39m \u001b[43mcv2\u001b[49m\u001b[38;5;241;43m.\u001b[39;49m\u001b[43mEVENT_LBUTTONDBCLK\u001b[49m:\n\u001b[0;32m     13\u001b[0m     cv2\u001b[38;5;241m.\u001b[39mcircle(img, (x,y), \u001b[38;5;241m20\u001b[39m, (\u001b[38;5;241m255\u001b[39m,\u001b[38;5;241m0\u001b[39m,\u001b[38;5;241m0\u001b[39m), \u001b[38;5;241m-\u001b[39m\u001b[38;5;241m1\u001b[39m)\n",
      "\u001b[1;31mAttributeError\u001b[0m: module 'cv2' has no attribute 'EVENT_LBUTTONDBCLK'"
     ]
    },
    {
     "ename": "AttributeError",
     "evalue": "module 'cv2' has no attribute 'EVENT_LBUTTONDBCLK'",
     "output_type": "error",
     "traceback": [
      "\u001b[1;31m---------------------------------------------------------------------------\u001b[0m",
      "\u001b[1;31mAttributeError\u001b[0m                            Traceback (most recent call last)",
      "Cell \u001b[1;32mIn[6], line 12\u001b[0m, in \u001b[0;36mdraw_circle\u001b[1;34m(event, x, y, flags, param)\u001b[0m\n\u001b[0;32m     10\u001b[0m \u001b[38;5;28;01melif\u001b[39;00m event \u001b[38;5;241m==\u001b[39m cv2\u001b[38;5;241m.\u001b[39mEVENT_RBUTTONDOWN:\n\u001b[0;32m     11\u001b[0m     cv2\u001b[38;5;241m.\u001b[39mcircle(img, (x,y), \u001b[38;5;241m10\u001b[39m, (\u001b[38;5;241m255\u001b[39m,\u001b[38;5;241m0\u001b[39m,\u001b[38;5;241m0\u001b[39m), \u001b[38;5;241m2\u001b[39m)\n\u001b[1;32m---> 12\u001b[0m \u001b[38;5;28;01melif\u001b[39;00m event \u001b[38;5;241m==\u001b[39m \u001b[43mcv2\u001b[49m\u001b[38;5;241;43m.\u001b[39;49m\u001b[43mEVENT_LBUTTONDBCLK\u001b[49m:\n\u001b[0;32m     13\u001b[0m     cv2\u001b[38;5;241m.\u001b[39mcircle(img, (x,y), \u001b[38;5;241m20\u001b[39m, (\u001b[38;5;241m255\u001b[39m,\u001b[38;5;241m0\u001b[39m,\u001b[38;5;241m0\u001b[39m), \u001b[38;5;241m-\u001b[39m\u001b[38;5;241m1\u001b[39m)\n",
      "\u001b[1;31mAttributeError\u001b[0m: module 'cv2' has no attribute 'EVENT_LBUTTONDBCLK'"
     ]
    },
    {
     "ename": "AttributeError",
     "evalue": "module 'cv2' has no attribute 'EVENT_LBUTTONDBCLK'",
     "output_type": "error",
     "traceback": [
      "\u001b[1;31m---------------------------------------------------------------------------\u001b[0m",
      "\u001b[1;31mAttributeError\u001b[0m                            Traceback (most recent call last)",
      "Cell \u001b[1;32mIn[6], line 12\u001b[0m, in \u001b[0;36mdraw_circle\u001b[1;34m(event, x, y, flags, param)\u001b[0m\n\u001b[0;32m     10\u001b[0m \u001b[38;5;28;01melif\u001b[39;00m event \u001b[38;5;241m==\u001b[39m cv2\u001b[38;5;241m.\u001b[39mEVENT_RBUTTONDOWN:\n\u001b[0;32m     11\u001b[0m     cv2\u001b[38;5;241m.\u001b[39mcircle(img, (x,y), \u001b[38;5;241m10\u001b[39m, (\u001b[38;5;241m255\u001b[39m,\u001b[38;5;241m0\u001b[39m,\u001b[38;5;241m0\u001b[39m), \u001b[38;5;241m2\u001b[39m)\n\u001b[1;32m---> 12\u001b[0m \u001b[38;5;28;01melif\u001b[39;00m event \u001b[38;5;241m==\u001b[39m \u001b[43mcv2\u001b[49m\u001b[38;5;241;43m.\u001b[39;49m\u001b[43mEVENT_LBUTTONDBCLK\u001b[49m:\n\u001b[0;32m     13\u001b[0m     cv2\u001b[38;5;241m.\u001b[39mcircle(img, (x,y), \u001b[38;5;241m20\u001b[39m, (\u001b[38;5;241m255\u001b[39m,\u001b[38;5;241m0\u001b[39m,\u001b[38;5;241m0\u001b[39m), \u001b[38;5;241m-\u001b[39m\u001b[38;5;241m1\u001b[39m)\n",
      "\u001b[1;31mAttributeError\u001b[0m: module 'cv2' has no attribute 'EVENT_LBUTTONDBCLK'"
     ]
    },
    {
     "ename": "AttributeError",
     "evalue": "module 'cv2' has no attribute 'EVENT_LBUTTONDBCLK'",
     "output_type": "error",
     "traceback": [
      "\u001b[1;31m---------------------------------------------------------------------------\u001b[0m",
      "\u001b[1;31mAttributeError\u001b[0m                            Traceback (most recent call last)",
      "Cell \u001b[1;32mIn[6], line 12\u001b[0m, in \u001b[0;36mdraw_circle\u001b[1;34m(event, x, y, flags, param)\u001b[0m\n\u001b[0;32m     10\u001b[0m \u001b[38;5;28;01melif\u001b[39;00m event \u001b[38;5;241m==\u001b[39m cv2\u001b[38;5;241m.\u001b[39mEVENT_RBUTTONDOWN:\n\u001b[0;32m     11\u001b[0m     cv2\u001b[38;5;241m.\u001b[39mcircle(img, (x,y), \u001b[38;5;241m10\u001b[39m, (\u001b[38;5;241m255\u001b[39m,\u001b[38;5;241m0\u001b[39m,\u001b[38;5;241m0\u001b[39m), \u001b[38;5;241m2\u001b[39m)\n\u001b[1;32m---> 12\u001b[0m \u001b[38;5;28;01melif\u001b[39;00m event \u001b[38;5;241m==\u001b[39m \u001b[43mcv2\u001b[49m\u001b[38;5;241;43m.\u001b[39;49m\u001b[43mEVENT_LBUTTONDBCLK\u001b[49m:\n\u001b[0;32m     13\u001b[0m     cv2\u001b[38;5;241m.\u001b[39mcircle(img, (x,y), \u001b[38;5;241m20\u001b[39m, (\u001b[38;5;241m255\u001b[39m,\u001b[38;5;241m0\u001b[39m,\u001b[38;5;241m0\u001b[39m), \u001b[38;5;241m-\u001b[39m\u001b[38;5;241m1\u001b[39m)\n",
      "\u001b[1;31mAttributeError\u001b[0m: module 'cv2' has no attribute 'EVENT_LBUTTONDBCLK'"
     ]
    },
    {
     "ename": "AttributeError",
     "evalue": "module 'cv2' has no attribute 'EVENT_LBUTTONDBCLK'",
     "output_type": "error",
     "traceback": [
      "\u001b[1;31m---------------------------------------------------------------------------\u001b[0m",
      "\u001b[1;31mAttributeError\u001b[0m                            Traceback (most recent call last)",
      "Cell \u001b[1;32mIn[6], line 12\u001b[0m, in \u001b[0;36mdraw_circle\u001b[1;34m(event, x, y, flags, param)\u001b[0m\n\u001b[0;32m     10\u001b[0m \u001b[38;5;28;01melif\u001b[39;00m event \u001b[38;5;241m==\u001b[39m cv2\u001b[38;5;241m.\u001b[39mEVENT_RBUTTONDOWN:\n\u001b[0;32m     11\u001b[0m     cv2\u001b[38;5;241m.\u001b[39mcircle(img, (x,y), \u001b[38;5;241m10\u001b[39m, (\u001b[38;5;241m255\u001b[39m,\u001b[38;5;241m0\u001b[39m,\u001b[38;5;241m0\u001b[39m), \u001b[38;5;241m2\u001b[39m)\n\u001b[1;32m---> 12\u001b[0m \u001b[38;5;28;01melif\u001b[39;00m event \u001b[38;5;241m==\u001b[39m \u001b[43mcv2\u001b[49m\u001b[38;5;241;43m.\u001b[39;49m\u001b[43mEVENT_LBUTTONDBCLK\u001b[49m:\n\u001b[0;32m     13\u001b[0m     cv2\u001b[38;5;241m.\u001b[39mcircle(img, (x,y), \u001b[38;5;241m20\u001b[39m, (\u001b[38;5;241m255\u001b[39m,\u001b[38;5;241m0\u001b[39m,\u001b[38;5;241m0\u001b[39m), \u001b[38;5;241m-\u001b[39m\u001b[38;5;241m1\u001b[39m)\n",
      "\u001b[1;31mAttributeError\u001b[0m: module 'cv2' has no attribute 'EVENT_LBUTTONDBCLK'"
     ]
    },
    {
     "ename": "AttributeError",
     "evalue": "module 'cv2' has no attribute 'EVENT_LBUTTONDBCLK'",
     "output_type": "error",
     "traceback": [
      "\u001b[1;31m---------------------------------------------------------------------------\u001b[0m",
      "\u001b[1;31mAttributeError\u001b[0m                            Traceback (most recent call last)",
      "Cell \u001b[1;32mIn[6], line 12\u001b[0m, in \u001b[0;36mdraw_circle\u001b[1;34m(event, x, y, flags, param)\u001b[0m\n\u001b[0;32m     10\u001b[0m \u001b[38;5;28;01melif\u001b[39;00m event \u001b[38;5;241m==\u001b[39m cv2\u001b[38;5;241m.\u001b[39mEVENT_RBUTTONDOWN:\n\u001b[0;32m     11\u001b[0m     cv2\u001b[38;5;241m.\u001b[39mcircle(img, (x,y), \u001b[38;5;241m10\u001b[39m, (\u001b[38;5;241m255\u001b[39m,\u001b[38;5;241m0\u001b[39m,\u001b[38;5;241m0\u001b[39m), \u001b[38;5;241m2\u001b[39m)\n\u001b[1;32m---> 12\u001b[0m \u001b[38;5;28;01melif\u001b[39;00m event \u001b[38;5;241m==\u001b[39m \u001b[43mcv2\u001b[49m\u001b[38;5;241;43m.\u001b[39;49m\u001b[43mEVENT_LBUTTONDBCLK\u001b[49m:\n\u001b[0;32m     13\u001b[0m     cv2\u001b[38;5;241m.\u001b[39mcircle(img, (x,y), \u001b[38;5;241m20\u001b[39m, (\u001b[38;5;241m255\u001b[39m,\u001b[38;5;241m0\u001b[39m,\u001b[38;5;241m0\u001b[39m), \u001b[38;5;241m-\u001b[39m\u001b[38;5;241m1\u001b[39m)\n",
      "\u001b[1;31mAttributeError\u001b[0m: module 'cv2' has no attribute 'EVENT_LBUTTONDBCLK'"
     ]
    },
    {
     "ename": "AttributeError",
     "evalue": "module 'cv2' has no attribute 'EVENT_LBUTTONDBCLK'",
     "output_type": "error",
     "traceback": [
      "\u001b[1;31m---------------------------------------------------------------------------\u001b[0m",
      "\u001b[1;31mAttributeError\u001b[0m                            Traceback (most recent call last)",
      "Cell \u001b[1;32mIn[6], line 12\u001b[0m, in \u001b[0;36mdraw_circle\u001b[1;34m(event, x, y, flags, param)\u001b[0m\n\u001b[0;32m     10\u001b[0m \u001b[38;5;28;01melif\u001b[39;00m event \u001b[38;5;241m==\u001b[39m cv2\u001b[38;5;241m.\u001b[39mEVENT_RBUTTONDOWN:\n\u001b[0;32m     11\u001b[0m     cv2\u001b[38;5;241m.\u001b[39mcircle(img, (x,y), \u001b[38;5;241m10\u001b[39m, (\u001b[38;5;241m255\u001b[39m,\u001b[38;5;241m0\u001b[39m,\u001b[38;5;241m0\u001b[39m), \u001b[38;5;241m2\u001b[39m)\n\u001b[1;32m---> 12\u001b[0m \u001b[38;5;28;01melif\u001b[39;00m event \u001b[38;5;241m==\u001b[39m \u001b[43mcv2\u001b[49m\u001b[38;5;241;43m.\u001b[39;49m\u001b[43mEVENT_LBUTTONDBCLK\u001b[49m:\n\u001b[0;32m     13\u001b[0m     cv2\u001b[38;5;241m.\u001b[39mcircle(img, (x,y), \u001b[38;5;241m20\u001b[39m, (\u001b[38;5;241m255\u001b[39m,\u001b[38;5;241m0\u001b[39m,\u001b[38;5;241m0\u001b[39m), \u001b[38;5;241m-\u001b[39m\u001b[38;5;241m1\u001b[39m)\n",
      "\u001b[1;31mAttributeError\u001b[0m: module 'cv2' has no attribute 'EVENT_LBUTTONDBCLK'"
     ]
    },
    {
     "ename": "AttributeError",
     "evalue": "module 'cv2' has no attribute 'EVENT_LBUTTONDBCLK'",
     "output_type": "error",
     "traceback": [
      "\u001b[1;31m---------------------------------------------------------------------------\u001b[0m",
      "\u001b[1;31mAttributeError\u001b[0m                            Traceback (most recent call last)",
      "Cell \u001b[1;32mIn[6], line 12\u001b[0m, in \u001b[0;36mdraw_circle\u001b[1;34m(event, x, y, flags, param)\u001b[0m\n\u001b[0;32m     10\u001b[0m \u001b[38;5;28;01melif\u001b[39;00m event \u001b[38;5;241m==\u001b[39m cv2\u001b[38;5;241m.\u001b[39mEVENT_RBUTTONDOWN:\n\u001b[0;32m     11\u001b[0m     cv2\u001b[38;5;241m.\u001b[39mcircle(img, (x,y), \u001b[38;5;241m10\u001b[39m, (\u001b[38;5;241m255\u001b[39m,\u001b[38;5;241m0\u001b[39m,\u001b[38;5;241m0\u001b[39m), \u001b[38;5;241m2\u001b[39m)\n\u001b[1;32m---> 12\u001b[0m \u001b[38;5;28;01melif\u001b[39;00m event \u001b[38;5;241m==\u001b[39m \u001b[43mcv2\u001b[49m\u001b[38;5;241;43m.\u001b[39;49m\u001b[43mEVENT_LBUTTONDBCLK\u001b[49m:\n\u001b[0;32m     13\u001b[0m     cv2\u001b[38;5;241m.\u001b[39mcircle(img, (x,y), \u001b[38;5;241m20\u001b[39m, (\u001b[38;5;241m255\u001b[39m,\u001b[38;5;241m0\u001b[39m,\u001b[38;5;241m0\u001b[39m), \u001b[38;5;241m-\u001b[39m\u001b[38;5;241m1\u001b[39m)\n",
      "\u001b[1;31mAttributeError\u001b[0m: module 'cv2' has no attribute 'EVENT_LBUTTONDBCLK'"
     ]
    },
    {
     "ename": "AttributeError",
     "evalue": "module 'cv2' has no attribute 'EVENT_LBUTTONDBCLK'",
     "output_type": "error",
     "traceback": [
      "\u001b[1;31m---------------------------------------------------------------------------\u001b[0m",
      "\u001b[1;31mAttributeError\u001b[0m                            Traceback (most recent call last)",
      "Cell \u001b[1;32mIn[6], line 12\u001b[0m, in \u001b[0;36mdraw_circle\u001b[1;34m(event, x, y, flags, param)\u001b[0m\n\u001b[0;32m     10\u001b[0m \u001b[38;5;28;01melif\u001b[39;00m event \u001b[38;5;241m==\u001b[39m cv2\u001b[38;5;241m.\u001b[39mEVENT_RBUTTONDOWN:\n\u001b[0;32m     11\u001b[0m     cv2\u001b[38;5;241m.\u001b[39mcircle(img, (x,y), \u001b[38;5;241m10\u001b[39m, (\u001b[38;5;241m255\u001b[39m,\u001b[38;5;241m0\u001b[39m,\u001b[38;5;241m0\u001b[39m), \u001b[38;5;241m2\u001b[39m)\n\u001b[1;32m---> 12\u001b[0m \u001b[38;5;28;01melif\u001b[39;00m event \u001b[38;5;241m==\u001b[39m \u001b[43mcv2\u001b[49m\u001b[38;5;241;43m.\u001b[39;49m\u001b[43mEVENT_LBUTTONDBCLK\u001b[49m:\n\u001b[0;32m     13\u001b[0m     cv2\u001b[38;5;241m.\u001b[39mcircle(img, (x,y), \u001b[38;5;241m20\u001b[39m, (\u001b[38;5;241m255\u001b[39m,\u001b[38;5;241m0\u001b[39m,\u001b[38;5;241m0\u001b[39m), \u001b[38;5;241m-\u001b[39m\u001b[38;5;241m1\u001b[39m)\n",
      "\u001b[1;31mAttributeError\u001b[0m: module 'cv2' has no attribute 'EVENT_LBUTTONDBCLK'"
     ]
    },
    {
     "ename": "AttributeError",
     "evalue": "module 'cv2' has no attribute 'EVENT_LBUTTONDBCLK'",
     "output_type": "error",
     "traceback": [
      "\u001b[1;31m---------------------------------------------------------------------------\u001b[0m",
      "\u001b[1;31mAttributeError\u001b[0m                            Traceback (most recent call last)",
      "Cell \u001b[1;32mIn[6], line 12\u001b[0m, in \u001b[0;36mdraw_circle\u001b[1;34m(event, x, y, flags, param)\u001b[0m\n\u001b[0;32m     10\u001b[0m \u001b[38;5;28;01melif\u001b[39;00m event \u001b[38;5;241m==\u001b[39m cv2\u001b[38;5;241m.\u001b[39mEVENT_RBUTTONDOWN:\n\u001b[0;32m     11\u001b[0m     cv2\u001b[38;5;241m.\u001b[39mcircle(img, (x,y), \u001b[38;5;241m10\u001b[39m, (\u001b[38;5;241m255\u001b[39m,\u001b[38;5;241m0\u001b[39m,\u001b[38;5;241m0\u001b[39m), \u001b[38;5;241m2\u001b[39m)\n\u001b[1;32m---> 12\u001b[0m \u001b[38;5;28;01melif\u001b[39;00m event \u001b[38;5;241m==\u001b[39m \u001b[43mcv2\u001b[49m\u001b[38;5;241;43m.\u001b[39;49m\u001b[43mEVENT_LBUTTONDBCLK\u001b[49m:\n\u001b[0;32m     13\u001b[0m     cv2\u001b[38;5;241m.\u001b[39mcircle(img, (x,y), \u001b[38;5;241m20\u001b[39m, (\u001b[38;5;241m255\u001b[39m,\u001b[38;5;241m0\u001b[39m,\u001b[38;5;241m0\u001b[39m), \u001b[38;5;241m-\u001b[39m\u001b[38;5;241m1\u001b[39m)\n",
      "\u001b[1;31mAttributeError\u001b[0m: module 'cv2' has no attribute 'EVENT_LBUTTONDBCLK'"
     ]
    },
    {
     "ename": "AttributeError",
     "evalue": "module 'cv2' has no attribute 'EVENT_LBUTTONDBCLK'",
     "output_type": "error",
     "traceback": [
      "\u001b[1;31m---------------------------------------------------------------------------\u001b[0m",
      "\u001b[1;31mAttributeError\u001b[0m                            Traceback (most recent call last)",
      "Cell \u001b[1;32mIn[6], line 12\u001b[0m, in \u001b[0;36mdraw_circle\u001b[1;34m(event, x, y, flags, param)\u001b[0m\n\u001b[0;32m     10\u001b[0m \u001b[38;5;28;01melif\u001b[39;00m event \u001b[38;5;241m==\u001b[39m cv2\u001b[38;5;241m.\u001b[39mEVENT_RBUTTONDOWN:\n\u001b[0;32m     11\u001b[0m     cv2\u001b[38;5;241m.\u001b[39mcircle(img, (x,y), \u001b[38;5;241m10\u001b[39m, (\u001b[38;5;241m255\u001b[39m,\u001b[38;5;241m0\u001b[39m,\u001b[38;5;241m0\u001b[39m), \u001b[38;5;241m2\u001b[39m)\n\u001b[1;32m---> 12\u001b[0m \u001b[38;5;28;01melif\u001b[39;00m event \u001b[38;5;241m==\u001b[39m \u001b[43mcv2\u001b[49m\u001b[38;5;241;43m.\u001b[39;49m\u001b[43mEVENT_LBUTTONDBCLK\u001b[49m:\n\u001b[0;32m     13\u001b[0m     cv2\u001b[38;5;241m.\u001b[39mcircle(img, (x,y), \u001b[38;5;241m20\u001b[39m, (\u001b[38;5;241m255\u001b[39m,\u001b[38;5;241m0\u001b[39m,\u001b[38;5;241m0\u001b[39m), \u001b[38;5;241m-\u001b[39m\u001b[38;5;241m1\u001b[39m)\n",
      "\u001b[1;31mAttributeError\u001b[0m: module 'cv2' has no attribute 'EVENT_LBUTTONDBCLK'"
     ]
    },
    {
     "ename": "AttributeError",
     "evalue": "module 'cv2' has no attribute 'EVENT_LBUTTONDBCLK'",
     "output_type": "error",
     "traceback": [
      "\u001b[1;31m---------------------------------------------------------------------------\u001b[0m",
      "\u001b[1;31mAttributeError\u001b[0m                            Traceback (most recent call last)",
      "Cell \u001b[1;32mIn[6], line 12\u001b[0m, in \u001b[0;36mdraw_circle\u001b[1;34m(event, x, y, flags, param)\u001b[0m\n\u001b[0;32m     10\u001b[0m \u001b[38;5;28;01melif\u001b[39;00m event \u001b[38;5;241m==\u001b[39m cv2\u001b[38;5;241m.\u001b[39mEVENT_RBUTTONDOWN:\n\u001b[0;32m     11\u001b[0m     cv2\u001b[38;5;241m.\u001b[39mcircle(img, (x,y), \u001b[38;5;241m10\u001b[39m, (\u001b[38;5;241m255\u001b[39m,\u001b[38;5;241m0\u001b[39m,\u001b[38;5;241m0\u001b[39m), \u001b[38;5;241m2\u001b[39m)\n\u001b[1;32m---> 12\u001b[0m \u001b[38;5;28;01melif\u001b[39;00m event \u001b[38;5;241m==\u001b[39m \u001b[43mcv2\u001b[49m\u001b[38;5;241;43m.\u001b[39;49m\u001b[43mEVENT_LBUTTONDBCLK\u001b[49m:\n\u001b[0;32m     13\u001b[0m     cv2\u001b[38;5;241m.\u001b[39mcircle(img, (x,y), \u001b[38;5;241m20\u001b[39m, (\u001b[38;5;241m255\u001b[39m,\u001b[38;5;241m0\u001b[39m,\u001b[38;5;241m0\u001b[39m), \u001b[38;5;241m-\u001b[39m\u001b[38;5;241m1\u001b[39m)\n",
      "\u001b[1;31mAttributeError\u001b[0m: module 'cv2' has no attribute 'EVENT_LBUTTONDBCLK'"
     ]
    },
    {
     "ename": "AttributeError",
     "evalue": "module 'cv2' has no attribute 'EVENT_LBUTTONDBCLK'",
     "output_type": "error",
     "traceback": [
      "\u001b[1;31m---------------------------------------------------------------------------\u001b[0m",
      "\u001b[1;31mAttributeError\u001b[0m                            Traceback (most recent call last)",
      "Cell \u001b[1;32mIn[6], line 12\u001b[0m, in \u001b[0;36mdraw_circle\u001b[1;34m(event, x, y, flags, param)\u001b[0m\n\u001b[0;32m     10\u001b[0m \u001b[38;5;28;01melif\u001b[39;00m event \u001b[38;5;241m==\u001b[39m cv2\u001b[38;5;241m.\u001b[39mEVENT_RBUTTONDOWN:\n\u001b[0;32m     11\u001b[0m     cv2\u001b[38;5;241m.\u001b[39mcircle(img, (x,y), \u001b[38;5;241m10\u001b[39m, (\u001b[38;5;241m255\u001b[39m,\u001b[38;5;241m0\u001b[39m,\u001b[38;5;241m0\u001b[39m), \u001b[38;5;241m2\u001b[39m)\n\u001b[1;32m---> 12\u001b[0m \u001b[38;5;28;01melif\u001b[39;00m event \u001b[38;5;241m==\u001b[39m \u001b[43mcv2\u001b[49m\u001b[38;5;241;43m.\u001b[39;49m\u001b[43mEVENT_LBUTTONDBCLK\u001b[49m:\n\u001b[0;32m     13\u001b[0m     cv2\u001b[38;5;241m.\u001b[39mcircle(img, (x,y), \u001b[38;5;241m20\u001b[39m, (\u001b[38;5;241m255\u001b[39m,\u001b[38;5;241m0\u001b[39m,\u001b[38;5;241m0\u001b[39m), \u001b[38;5;241m-\u001b[39m\u001b[38;5;241m1\u001b[39m)\n",
      "\u001b[1;31mAttributeError\u001b[0m: module 'cv2' has no attribute 'EVENT_LBUTTONDBCLK'"
     ]
    },
    {
     "ename": "AttributeError",
     "evalue": "module 'cv2' has no attribute 'EVENT_LBUTTONDBCLK'",
     "output_type": "error",
     "traceback": [
      "\u001b[1;31m---------------------------------------------------------------------------\u001b[0m",
      "\u001b[1;31mAttributeError\u001b[0m                            Traceback (most recent call last)",
      "Cell \u001b[1;32mIn[6], line 12\u001b[0m, in \u001b[0;36mdraw_circle\u001b[1;34m(event, x, y, flags, param)\u001b[0m\n\u001b[0;32m     10\u001b[0m \u001b[38;5;28;01melif\u001b[39;00m event \u001b[38;5;241m==\u001b[39m cv2\u001b[38;5;241m.\u001b[39mEVENT_RBUTTONDOWN:\n\u001b[0;32m     11\u001b[0m     cv2\u001b[38;5;241m.\u001b[39mcircle(img, (x,y), \u001b[38;5;241m10\u001b[39m, (\u001b[38;5;241m255\u001b[39m,\u001b[38;5;241m0\u001b[39m,\u001b[38;5;241m0\u001b[39m), \u001b[38;5;241m2\u001b[39m)\n\u001b[1;32m---> 12\u001b[0m \u001b[38;5;28;01melif\u001b[39;00m event \u001b[38;5;241m==\u001b[39m \u001b[43mcv2\u001b[49m\u001b[38;5;241;43m.\u001b[39;49m\u001b[43mEVENT_LBUTTONDBCLK\u001b[49m:\n\u001b[0;32m     13\u001b[0m     cv2\u001b[38;5;241m.\u001b[39mcircle(img, (x,y), \u001b[38;5;241m20\u001b[39m, (\u001b[38;5;241m255\u001b[39m,\u001b[38;5;241m0\u001b[39m,\u001b[38;5;241m0\u001b[39m), \u001b[38;5;241m-\u001b[39m\u001b[38;5;241m1\u001b[39m)\n",
      "\u001b[1;31mAttributeError\u001b[0m: module 'cv2' has no attribute 'EVENT_LBUTTONDBCLK'"
     ]
    },
    {
     "ename": "AttributeError",
     "evalue": "module 'cv2' has no attribute 'EVENT_LBUTTONDBCLK'",
     "output_type": "error",
     "traceback": [
      "\u001b[1;31m---------------------------------------------------------------------------\u001b[0m",
      "\u001b[1;31mAttributeError\u001b[0m                            Traceback (most recent call last)",
      "Cell \u001b[1;32mIn[6], line 12\u001b[0m, in \u001b[0;36mdraw_circle\u001b[1;34m(event, x, y, flags, param)\u001b[0m\n\u001b[0;32m     10\u001b[0m \u001b[38;5;28;01melif\u001b[39;00m event \u001b[38;5;241m==\u001b[39m cv2\u001b[38;5;241m.\u001b[39mEVENT_RBUTTONDOWN:\n\u001b[0;32m     11\u001b[0m     cv2\u001b[38;5;241m.\u001b[39mcircle(img, (x,y), \u001b[38;5;241m10\u001b[39m, (\u001b[38;5;241m255\u001b[39m,\u001b[38;5;241m0\u001b[39m,\u001b[38;5;241m0\u001b[39m), \u001b[38;5;241m2\u001b[39m)\n\u001b[1;32m---> 12\u001b[0m \u001b[38;5;28;01melif\u001b[39;00m event \u001b[38;5;241m==\u001b[39m \u001b[43mcv2\u001b[49m\u001b[38;5;241;43m.\u001b[39;49m\u001b[43mEVENT_LBUTTONDBCLK\u001b[49m:\n\u001b[0;32m     13\u001b[0m     cv2\u001b[38;5;241m.\u001b[39mcircle(img, (x,y), \u001b[38;5;241m20\u001b[39m, (\u001b[38;5;241m255\u001b[39m,\u001b[38;5;241m0\u001b[39m,\u001b[38;5;241m0\u001b[39m), \u001b[38;5;241m-\u001b[39m\u001b[38;5;241m1\u001b[39m)\n",
      "\u001b[1;31mAttributeError\u001b[0m: module 'cv2' has no attribute 'EVENT_LBUTTONDBCLK'"
     ]
    },
    {
     "ename": "AttributeError",
     "evalue": "module 'cv2' has no attribute 'EVENT_LBUTTONDBCLK'",
     "output_type": "error",
     "traceback": [
      "\u001b[1;31m---------------------------------------------------------------------------\u001b[0m",
      "\u001b[1;31mAttributeError\u001b[0m                            Traceback (most recent call last)",
      "Cell \u001b[1;32mIn[6], line 12\u001b[0m, in \u001b[0;36mdraw_circle\u001b[1;34m(event, x, y, flags, param)\u001b[0m\n\u001b[0;32m     10\u001b[0m \u001b[38;5;28;01melif\u001b[39;00m event \u001b[38;5;241m==\u001b[39m cv2\u001b[38;5;241m.\u001b[39mEVENT_RBUTTONDOWN:\n\u001b[0;32m     11\u001b[0m     cv2\u001b[38;5;241m.\u001b[39mcircle(img, (x,y), \u001b[38;5;241m10\u001b[39m, (\u001b[38;5;241m255\u001b[39m,\u001b[38;5;241m0\u001b[39m,\u001b[38;5;241m0\u001b[39m), \u001b[38;5;241m2\u001b[39m)\n\u001b[1;32m---> 12\u001b[0m \u001b[38;5;28;01melif\u001b[39;00m event \u001b[38;5;241m==\u001b[39m \u001b[43mcv2\u001b[49m\u001b[38;5;241;43m.\u001b[39;49m\u001b[43mEVENT_LBUTTONDBCLK\u001b[49m:\n\u001b[0;32m     13\u001b[0m     cv2\u001b[38;5;241m.\u001b[39mcircle(img, (x,y), \u001b[38;5;241m20\u001b[39m, (\u001b[38;5;241m255\u001b[39m,\u001b[38;5;241m0\u001b[39m,\u001b[38;5;241m0\u001b[39m), \u001b[38;5;241m-\u001b[39m\u001b[38;5;241m1\u001b[39m)\n",
      "\u001b[1;31mAttributeError\u001b[0m: module 'cv2' has no attribute 'EVENT_LBUTTONDBCLK'"
     ]
    },
    {
     "ename": "AttributeError",
     "evalue": "module 'cv2' has no attribute 'EVENT_LBUTTONDBCLK'",
     "output_type": "error",
     "traceback": [
      "\u001b[1;31m---------------------------------------------------------------------------\u001b[0m",
      "\u001b[1;31mAttributeError\u001b[0m                            Traceback (most recent call last)",
      "Cell \u001b[1;32mIn[6], line 12\u001b[0m, in \u001b[0;36mdraw_circle\u001b[1;34m(event, x, y, flags, param)\u001b[0m\n\u001b[0;32m     10\u001b[0m \u001b[38;5;28;01melif\u001b[39;00m event \u001b[38;5;241m==\u001b[39m cv2\u001b[38;5;241m.\u001b[39mEVENT_RBUTTONDOWN:\n\u001b[0;32m     11\u001b[0m     cv2\u001b[38;5;241m.\u001b[39mcircle(img, (x,y), \u001b[38;5;241m10\u001b[39m, (\u001b[38;5;241m255\u001b[39m,\u001b[38;5;241m0\u001b[39m,\u001b[38;5;241m0\u001b[39m), \u001b[38;5;241m2\u001b[39m)\n\u001b[1;32m---> 12\u001b[0m \u001b[38;5;28;01melif\u001b[39;00m event \u001b[38;5;241m==\u001b[39m \u001b[43mcv2\u001b[49m\u001b[38;5;241;43m.\u001b[39;49m\u001b[43mEVENT_LBUTTONDBCLK\u001b[49m:\n\u001b[0;32m     13\u001b[0m     cv2\u001b[38;5;241m.\u001b[39mcircle(img, (x,y), \u001b[38;5;241m20\u001b[39m, (\u001b[38;5;241m255\u001b[39m,\u001b[38;5;241m0\u001b[39m,\u001b[38;5;241m0\u001b[39m), \u001b[38;5;241m-\u001b[39m\u001b[38;5;241m1\u001b[39m)\n",
      "\u001b[1;31mAttributeError\u001b[0m: module 'cv2' has no attribute 'EVENT_LBUTTONDBCLK'"
     ]
    },
    {
     "ename": "AttributeError",
     "evalue": "module 'cv2' has no attribute 'EVENT_LBUTTONDBCLK'",
     "output_type": "error",
     "traceback": [
      "\u001b[1;31m---------------------------------------------------------------------------\u001b[0m",
      "\u001b[1;31mAttributeError\u001b[0m                            Traceback (most recent call last)",
      "Cell \u001b[1;32mIn[6], line 12\u001b[0m, in \u001b[0;36mdraw_circle\u001b[1;34m(event, x, y, flags, param)\u001b[0m\n\u001b[0;32m     10\u001b[0m \u001b[38;5;28;01melif\u001b[39;00m event \u001b[38;5;241m==\u001b[39m cv2\u001b[38;5;241m.\u001b[39mEVENT_RBUTTONDOWN:\n\u001b[0;32m     11\u001b[0m     cv2\u001b[38;5;241m.\u001b[39mcircle(img, (x,y), \u001b[38;5;241m10\u001b[39m, (\u001b[38;5;241m255\u001b[39m,\u001b[38;5;241m0\u001b[39m,\u001b[38;5;241m0\u001b[39m), \u001b[38;5;241m2\u001b[39m)\n\u001b[1;32m---> 12\u001b[0m \u001b[38;5;28;01melif\u001b[39;00m event \u001b[38;5;241m==\u001b[39m \u001b[43mcv2\u001b[49m\u001b[38;5;241;43m.\u001b[39;49m\u001b[43mEVENT_LBUTTONDBCLK\u001b[49m:\n\u001b[0;32m     13\u001b[0m     cv2\u001b[38;5;241m.\u001b[39mcircle(img, (x,y), \u001b[38;5;241m20\u001b[39m, (\u001b[38;5;241m255\u001b[39m,\u001b[38;5;241m0\u001b[39m,\u001b[38;5;241m0\u001b[39m), \u001b[38;5;241m-\u001b[39m\u001b[38;5;241m1\u001b[39m)\n",
      "\u001b[1;31mAttributeError\u001b[0m: module 'cv2' has no attribute 'EVENT_LBUTTONDBCLK'"
     ]
    },
    {
     "ename": "AttributeError",
     "evalue": "module 'cv2' has no attribute 'EVENT_LBUTTONDBCLK'",
     "output_type": "error",
     "traceback": [
      "\u001b[1;31m---------------------------------------------------------------------------\u001b[0m",
      "\u001b[1;31mAttributeError\u001b[0m                            Traceback (most recent call last)",
      "Cell \u001b[1;32mIn[6], line 12\u001b[0m, in \u001b[0;36mdraw_circle\u001b[1;34m(event, x, y, flags, param)\u001b[0m\n\u001b[0;32m     10\u001b[0m \u001b[38;5;28;01melif\u001b[39;00m event \u001b[38;5;241m==\u001b[39m cv2\u001b[38;5;241m.\u001b[39mEVENT_RBUTTONDOWN:\n\u001b[0;32m     11\u001b[0m     cv2\u001b[38;5;241m.\u001b[39mcircle(img, (x,y), \u001b[38;5;241m10\u001b[39m, (\u001b[38;5;241m255\u001b[39m,\u001b[38;5;241m0\u001b[39m,\u001b[38;5;241m0\u001b[39m), \u001b[38;5;241m2\u001b[39m)\n\u001b[1;32m---> 12\u001b[0m \u001b[38;5;28;01melif\u001b[39;00m event \u001b[38;5;241m==\u001b[39m \u001b[43mcv2\u001b[49m\u001b[38;5;241;43m.\u001b[39;49m\u001b[43mEVENT_LBUTTONDBCLK\u001b[49m:\n\u001b[0;32m     13\u001b[0m     cv2\u001b[38;5;241m.\u001b[39mcircle(img, (x,y), \u001b[38;5;241m20\u001b[39m, (\u001b[38;5;241m255\u001b[39m,\u001b[38;5;241m0\u001b[39m,\u001b[38;5;241m0\u001b[39m), \u001b[38;5;241m-\u001b[39m\u001b[38;5;241m1\u001b[39m)\n",
      "\u001b[1;31mAttributeError\u001b[0m: module 'cv2' has no attribute 'EVENT_LBUTTONDBCLK'"
     ]
    },
    {
     "ename": "AttributeError",
     "evalue": "module 'cv2' has no attribute 'EVENT_LBUTTONDBCLK'",
     "output_type": "error",
     "traceback": [
      "\u001b[1;31m---------------------------------------------------------------------------\u001b[0m",
      "\u001b[1;31mAttributeError\u001b[0m                            Traceback (most recent call last)",
      "Cell \u001b[1;32mIn[6], line 12\u001b[0m, in \u001b[0;36mdraw_circle\u001b[1;34m(event, x, y, flags, param)\u001b[0m\n\u001b[0;32m     10\u001b[0m \u001b[38;5;28;01melif\u001b[39;00m event \u001b[38;5;241m==\u001b[39m cv2\u001b[38;5;241m.\u001b[39mEVENT_RBUTTONDOWN:\n\u001b[0;32m     11\u001b[0m     cv2\u001b[38;5;241m.\u001b[39mcircle(img, (x,y), \u001b[38;5;241m10\u001b[39m, (\u001b[38;5;241m255\u001b[39m,\u001b[38;5;241m0\u001b[39m,\u001b[38;5;241m0\u001b[39m), \u001b[38;5;241m2\u001b[39m)\n\u001b[1;32m---> 12\u001b[0m \u001b[38;5;28;01melif\u001b[39;00m event \u001b[38;5;241m==\u001b[39m \u001b[43mcv2\u001b[49m\u001b[38;5;241;43m.\u001b[39;49m\u001b[43mEVENT_LBUTTONDBCLK\u001b[49m:\n\u001b[0;32m     13\u001b[0m     cv2\u001b[38;5;241m.\u001b[39mcircle(img, (x,y), \u001b[38;5;241m20\u001b[39m, (\u001b[38;5;241m255\u001b[39m,\u001b[38;5;241m0\u001b[39m,\u001b[38;5;241m0\u001b[39m), \u001b[38;5;241m-\u001b[39m\u001b[38;5;241m1\u001b[39m)\n",
      "\u001b[1;31mAttributeError\u001b[0m: module 'cv2' has no attribute 'EVENT_LBUTTONDBCLK'"
     ]
    },
    {
     "ename": "AttributeError",
     "evalue": "module 'cv2' has no attribute 'EVENT_LBUTTONDBCLK'",
     "output_type": "error",
     "traceback": [
      "\u001b[1;31m---------------------------------------------------------------------------\u001b[0m",
      "\u001b[1;31mAttributeError\u001b[0m                            Traceback (most recent call last)",
      "Cell \u001b[1;32mIn[6], line 12\u001b[0m, in \u001b[0;36mdraw_circle\u001b[1;34m(event, x, y, flags, param)\u001b[0m\n\u001b[0;32m     10\u001b[0m \u001b[38;5;28;01melif\u001b[39;00m event \u001b[38;5;241m==\u001b[39m cv2\u001b[38;5;241m.\u001b[39mEVENT_RBUTTONDOWN:\n\u001b[0;32m     11\u001b[0m     cv2\u001b[38;5;241m.\u001b[39mcircle(img, (x,y), \u001b[38;5;241m10\u001b[39m, (\u001b[38;5;241m255\u001b[39m,\u001b[38;5;241m0\u001b[39m,\u001b[38;5;241m0\u001b[39m), \u001b[38;5;241m2\u001b[39m)\n\u001b[1;32m---> 12\u001b[0m \u001b[38;5;28;01melif\u001b[39;00m event \u001b[38;5;241m==\u001b[39m \u001b[43mcv2\u001b[49m\u001b[38;5;241;43m.\u001b[39;49m\u001b[43mEVENT_LBUTTONDBCLK\u001b[49m:\n\u001b[0;32m     13\u001b[0m     cv2\u001b[38;5;241m.\u001b[39mcircle(img, (x,y), \u001b[38;5;241m20\u001b[39m, (\u001b[38;5;241m255\u001b[39m,\u001b[38;5;241m0\u001b[39m,\u001b[38;5;241m0\u001b[39m), \u001b[38;5;241m-\u001b[39m\u001b[38;5;241m1\u001b[39m)\n",
      "\u001b[1;31mAttributeError\u001b[0m: module 'cv2' has no attribute 'EVENT_LBUTTONDBCLK'"
     ]
    },
    {
     "ename": "AttributeError",
     "evalue": "module 'cv2' has no attribute 'EVENT_LBUTTONDBCLK'",
     "output_type": "error",
     "traceback": [
      "\u001b[1;31m---------------------------------------------------------------------------\u001b[0m",
      "\u001b[1;31mAttributeError\u001b[0m                            Traceback (most recent call last)",
      "Cell \u001b[1;32mIn[6], line 12\u001b[0m, in \u001b[0;36mdraw_circle\u001b[1;34m(event, x, y, flags, param)\u001b[0m\n\u001b[0;32m     10\u001b[0m \u001b[38;5;28;01melif\u001b[39;00m event \u001b[38;5;241m==\u001b[39m cv2\u001b[38;5;241m.\u001b[39mEVENT_RBUTTONDOWN:\n\u001b[0;32m     11\u001b[0m     cv2\u001b[38;5;241m.\u001b[39mcircle(img, (x,y), \u001b[38;5;241m10\u001b[39m, (\u001b[38;5;241m255\u001b[39m,\u001b[38;5;241m0\u001b[39m,\u001b[38;5;241m0\u001b[39m), \u001b[38;5;241m2\u001b[39m)\n\u001b[1;32m---> 12\u001b[0m \u001b[38;5;28;01melif\u001b[39;00m event \u001b[38;5;241m==\u001b[39m \u001b[43mcv2\u001b[49m\u001b[38;5;241;43m.\u001b[39;49m\u001b[43mEVENT_LBUTTONDBCLK\u001b[49m:\n\u001b[0;32m     13\u001b[0m     cv2\u001b[38;5;241m.\u001b[39mcircle(img, (x,y), \u001b[38;5;241m20\u001b[39m, (\u001b[38;5;241m255\u001b[39m,\u001b[38;5;241m0\u001b[39m,\u001b[38;5;241m0\u001b[39m), \u001b[38;5;241m-\u001b[39m\u001b[38;5;241m1\u001b[39m)\n",
      "\u001b[1;31mAttributeError\u001b[0m: module 'cv2' has no attribute 'EVENT_LBUTTONDBCLK'"
     ]
    },
    {
     "ename": "AttributeError",
     "evalue": "module 'cv2' has no attribute 'EVENT_LBUTTONDBCLK'",
     "output_type": "error",
     "traceback": [
      "\u001b[1;31m---------------------------------------------------------------------------\u001b[0m",
      "\u001b[1;31mAttributeError\u001b[0m                            Traceback (most recent call last)",
      "Cell \u001b[1;32mIn[6], line 12\u001b[0m, in \u001b[0;36mdraw_circle\u001b[1;34m(event, x, y, flags, param)\u001b[0m\n\u001b[0;32m     10\u001b[0m \u001b[38;5;28;01melif\u001b[39;00m event \u001b[38;5;241m==\u001b[39m cv2\u001b[38;5;241m.\u001b[39mEVENT_RBUTTONDOWN:\n\u001b[0;32m     11\u001b[0m     cv2\u001b[38;5;241m.\u001b[39mcircle(img, (x,y), \u001b[38;5;241m10\u001b[39m, (\u001b[38;5;241m255\u001b[39m,\u001b[38;5;241m0\u001b[39m,\u001b[38;5;241m0\u001b[39m), \u001b[38;5;241m2\u001b[39m)\n\u001b[1;32m---> 12\u001b[0m \u001b[38;5;28;01melif\u001b[39;00m event \u001b[38;5;241m==\u001b[39m \u001b[43mcv2\u001b[49m\u001b[38;5;241;43m.\u001b[39;49m\u001b[43mEVENT_LBUTTONDBCLK\u001b[49m:\n\u001b[0;32m     13\u001b[0m     cv2\u001b[38;5;241m.\u001b[39mcircle(img, (x,y), \u001b[38;5;241m20\u001b[39m, (\u001b[38;5;241m255\u001b[39m,\u001b[38;5;241m0\u001b[39m,\u001b[38;5;241m0\u001b[39m), \u001b[38;5;241m-\u001b[39m\u001b[38;5;241m1\u001b[39m)\n",
      "\u001b[1;31mAttributeError\u001b[0m: module 'cv2' has no attribute 'EVENT_LBUTTONDBCLK'"
     ]
    },
    {
     "ename": "AttributeError",
     "evalue": "module 'cv2' has no attribute 'EVENT_LBUTTONDBCLK'",
     "output_type": "error",
     "traceback": [
      "\u001b[1;31m---------------------------------------------------------------------------\u001b[0m",
      "\u001b[1;31mAttributeError\u001b[0m                            Traceback (most recent call last)",
      "Cell \u001b[1;32mIn[6], line 12\u001b[0m, in \u001b[0;36mdraw_circle\u001b[1;34m(event, x, y, flags, param)\u001b[0m\n\u001b[0;32m     10\u001b[0m \u001b[38;5;28;01melif\u001b[39;00m event \u001b[38;5;241m==\u001b[39m cv2\u001b[38;5;241m.\u001b[39mEVENT_RBUTTONDOWN:\n\u001b[0;32m     11\u001b[0m     cv2\u001b[38;5;241m.\u001b[39mcircle(img, (x,y), \u001b[38;5;241m10\u001b[39m, (\u001b[38;5;241m255\u001b[39m,\u001b[38;5;241m0\u001b[39m,\u001b[38;5;241m0\u001b[39m), \u001b[38;5;241m2\u001b[39m)\n\u001b[1;32m---> 12\u001b[0m \u001b[38;5;28;01melif\u001b[39;00m event \u001b[38;5;241m==\u001b[39m \u001b[43mcv2\u001b[49m\u001b[38;5;241;43m.\u001b[39;49m\u001b[43mEVENT_LBUTTONDBCLK\u001b[49m:\n\u001b[0;32m     13\u001b[0m     cv2\u001b[38;5;241m.\u001b[39mcircle(img, (x,y), \u001b[38;5;241m20\u001b[39m, (\u001b[38;5;241m255\u001b[39m,\u001b[38;5;241m0\u001b[39m,\u001b[38;5;241m0\u001b[39m), \u001b[38;5;241m-\u001b[39m\u001b[38;5;241m1\u001b[39m)\n",
      "\u001b[1;31mAttributeError\u001b[0m: module 'cv2' has no attribute 'EVENT_LBUTTONDBCLK'"
     ]
    },
    {
     "ename": "AttributeError",
     "evalue": "module 'cv2' has no attribute 'EVENT_LBUTTONDBCLK'",
     "output_type": "error",
     "traceback": [
      "\u001b[1;31m---------------------------------------------------------------------------\u001b[0m",
      "\u001b[1;31mAttributeError\u001b[0m                            Traceback (most recent call last)",
      "Cell \u001b[1;32mIn[6], line 12\u001b[0m, in \u001b[0;36mdraw_circle\u001b[1;34m(event, x, y, flags, param)\u001b[0m\n\u001b[0;32m     10\u001b[0m \u001b[38;5;28;01melif\u001b[39;00m event \u001b[38;5;241m==\u001b[39m cv2\u001b[38;5;241m.\u001b[39mEVENT_RBUTTONDOWN:\n\u001b[0;32m     11\u001b[0m     cv2\u001b[38;5;241m.\u001b[39mcircle(img, (x,y), \u001b[38;5;241m10\u001b[39m, (\u001b[38;5;241m255\u001b[39m,\u001b[38;5;241m0\u001b[39m,\u001b[38;5;241m0\u001b[39m), \u001b[38;5;241m2\u001b[39m)\n\u001b[1;32m---> 12\u001b[0m \u001b[38;5;28;01melif\u001b[39;00m event \u001b[38;5;241m==\u001b[39m \u001b[43mcv2\u001b[49m\u001b[38;5;241;43m.\u001b[39;49m\u001b[43mEVENT_LBUTTONDBCLK\u001b[49m:\n\u001b[0;32m     13\u001b[0m     cv2\u001b[38;5;241m.\u001b[39mcircle(img, (x,y), \u001b[38;5;241m20\u001b[39m, (\u001b[38;5;241m255\u001b[39m,\u001b[38;5;241m0\u001b[39m,\u001b[38;5;241m0\u001b[39m), \u001b[38;5;241m-\u001b[39m\u001b[38;5;241m1\u001b[39m)\n",
      "\u001b[1;31mAttributeError\u001b[0m: module 'cv2' has no attribute 'EVENT_LBUTTONDBCLK'"
     ]
    },
    {
     "ename": "AttributeError",
     "evalue": "module 'cv2' has no attribute 'EVENT_LBUTTONDBCLK'",
     "output_type": "error",
     "traceback": [
      "\u001b[1;31m---------------------------------------------------------------------------\u001b[0m",
      "\u001b[1;31mAttributeError\u001b[0m                            Traceback (most recent call last)",
      "Cell \u001b[1;32mIn[6], line 12\u001b[0m, in \u001b[0;36mdraw_circle\u001b[1;34m(event, x, y, flags, param)\u001b[0m\n\u001b[0;32m     10\u001b[0m \u001b[38;5;28;01melif\u001b[39;00m event \u001b[38;5;241m==\u001b[39m cv2\u001b[38;5;241m.\u001b[39mEVENT_RBUTTONDOWN:\n\u001b[0;32m     11\u001b[0m     cv2\u001b[38;5;241m.\u001b[39mcircle(img, (x,y), \u001b[38;5;241m10\u001b[39m, (\u001b[38;5;241m255\u001b[39m,\u001b[38;5;241m0\u001b[39m,\u001b[38;5;241m0\u001b[39m), \u001b[38;5;241m2\u001b[39m)\n\u001b[1;32m---> 12\u001b[0m \u001b[38;5;28;01melif\u001b[39;00m event \u001b[38;5;241m==\u001b[39m \u001b[43mcv2\u001b[49m\u001b[38;5;241;43m.\u001b[39;49m\u001b[43mEVENT_LBUTTONDBCLK\u001b[49m:\n\u001b[0;32m     13\u001b[0m     cv2\u001b[38;5;241m.\u001b[39mcircle(img, (x,y), \u001b[38;5;241m20\u001b[39m, (\u001b[38;5;241m255\u001b[39m,\u001b[38;5;241m0\u001b[39m,\u001b[38;5;241m0\u001b[39m), \u001b[38;5;241m-\u001b[39m\u001b[38;5;241m1\u001b[39m)\n",
      "\u001b[1;31mAttributeError\u001b[0m: module 'cv2' has no attribute 'EVENT_LBUTTONDBCLK'"
     ]
    },
    {
     "ename": "AttributeError",
     "evalue": "module 'cv2' has no attribute 'EVENT_LBUTTONDBCLK'",
     "output_type": "error",
     "traceback": [
      "\u001b[1;31m---------------------------------------------------------------------------\u001b[0m",
      "\u001b[1;31mAttributeError\u001b[0m                            Traceback (most recent call last)",
      "Cell \u001b[1;32mIn[6], line 12\u001b[0m, in \u001b[0;36mdraw_circle\u001b[1;34m(event, x, y, flags, param)\u001b[0m\n\u001b[0;32m     10\u001b[0m \u001b[38;5;28;01melif\u001b[39;00m event \u001b[38;5;241m==\u001b[39m cv2\u001b[38;5;241m.\u001b[39mEVENT_RBUTTONDOWN:\n\u001b[0;32m     11\u001b[0m     cv2\u001b[38;5;241m.\u001b[39mcircle(img, (x,y), \u001b[38;5;241m10\u001b[39m, (\u001b[38;5;241m255\u001b[39m,\u001b[38;5;241m0\u001b[39m,\u001b[38;5;241m0\u001b[39m), \u001b[38;5;241m2\u001b[39m)\n\u001b[1;32m---> 12\u001b[0m \u001b[38;5;28;01melif\u001b[39;00m event \u001b[38;5;241m==\u001b[39m \u001b[43mcv2\u001b[49m\u001b[38;5;241;43m.\u001b[39;49m\u001b[43mEVENT_LBUTTONDBCLK\u001b[49m:\n\u001b[0;32m     13\u001b[0m     cv2\u001b[38;5;241m.\u001b[39mcircle(img, (x,y), \u001b[38;5;241m20\u001b[39m, (\u001b[38;5;241m255\u001b[39m,\u001b[38;5;241m0\u001b[39m,\u001b[38;5;241m0\u001b[39m), \u001b[38;5;241m-\u001b[39m\u001b[38;5;241m1\u001b[39m)\n",
      "\u001b[1;31mAttributeError\u001b[0m: module 'cv2' has no attribute 'EVENT_LBUTTONDBCLK'"
     ]
    },
    {
     "ename": "AttributeError",
     "evalue": "module 'cv2' has no attribute 'EVENT_LBUTTONDBCLK'",
     "output_type": "error",
     "traceback": [
      "\u001b[1;31m---------------------------------------------------------------------------\u001b[0m",
      "\u001b[1;31mAttributeError\u001b[0m                            Traceback (most recent call last)",
      "Cell \u001b[1;32mIn[6], line 12\u001b[0m, in \u001b[0;36mdraw_circle\u001b[1;34m(event, x, y, flags, param)\u001b[0m\n\u001b[0;32m     10\u001b[0m \u001b[38;5;28;01melif\u001b[39;00m event \u001b[38;5;241m==\u001b[39m cv2\u001b[38;5;241m.\u001b[39mEVENT_RBUTTONDOWN:\n\u001b[0;32m     11\u001b[0m     cv2\u001b[38;5;241m.\u001b[39mcircle(img, (x,y), \u001b[38;5;241m10\u001b[39m, (\u001b[38;5;241m255\u001b[39m,\u001b[38;5;241m0\u001b[39m,\u001b[38;5;241m0\u001b[39m), \u001b[38;5;241m2\u001b[39m)\n\u001b[1;32m---> 12\u001b[0m \u001b[38;5;28;01melif\u001b[39;00m event \u001b[38;5;241m==\u001b[39m \u001b[43mcv2\u001b[49m\u001b[38;5;241;43m.\u001b[39;49m\u001b[43mEVENT_LBUTTONDBCLK\u001b[49m:\n\u001b[0;32m     13\u001b[0m     cv2\u001b[38;5;241m.\u001b[39mcircle(img, (x,y), \u001b[38;5;241m20\u001b[39m, (\u001b[38;5;241m255\u001b[39m,\u001b[38;5;241m0\u001b[39m,\u001b[38;5;241m0\u001b[39m), \u001b[38;5;241m-\u001b[39m\u001b[38;5;241m1\u001b[39m)\n",
      "\u001b[1;31mAttributeError\u001b[0m: module 'cv2' has no attribute 'EVENT_LBUTTONDBCLK'"
     ]
    },
    {
     "ename": "AttributeError",
     "evalue": "module 'cv2' has no attribute 'EVENT_LBUTTONDBCLK'",
     "output_type": "error",
     "traceback": [
      "\u001b[1;31m---------------------------------------------------------------------------\u001b[0m",
      "\u001b[1;31mAttributeError\u001b[0m                            Traceback (most recent call last)",
      "Cell \u001b[1;32mIn[6], line 12\u001b[0m, in \u001b[0;36mdraw_circle\u001b[1;34m(event, x, y, flags, param)\u001b[0m\n\u001b[0;32m     10\u001b[0m \u001b[38;5;28;01melif\u001b[39;00m event \u001b[38;5;241m==\u001b[39m cv2\u001b[38;5;241m.\u001b[39mEVENT_RBUTTONDOWN:\n\u001b[0;32m     11\u001b[0m     cv2\u001b[38;5;241m.\u001b[39mcircle(img, (x,y), \u001b[38;5;241m10\u001b[39m, (\u001b[38;5;241m255\u001b[39m,\u001b[38;5;241m0\u001b[39m,\u001b[38;5;241m0\u001b[39m), \u001b[38;5;241m2\u001b[39m)\n\u001b[1;32m---> 12\u001b[0m \u001b[38;5;28;01melif\u001b[39;00m event \u001b[38;5;241m==\u001b[39m \u001b[43mcv2\u001b[49m\u001b[38;5;241;43m.\u001b[39;49m\u001b[43mEVENT_LBUTTONDBCLK\u001b[49m:\n\u001b[0;32m     13\u001b[0m     cv2\u001b[38;5;241m.\u001b[39mcircle(img, (x,y), \u001b[38;5;241m20\u001b[39m, (\u001b[38;5;241m255\u001b[39m,\u001b[38;5;241m0\u001b[39m,\u001b[38;5;241m0\u001b[39m), \u001b[38;5;241m-\u001b[39m\u001b[38;5;241m1\u001b[39m)\n",
      "\u001b[1;31mAttributeError\u001b[0m: module 'cv2' has no attribute 'EVENT_LBUTTONDBCLK'"
     ]
    },
    {
     "ename": "AttributeError",
     "evalue": "module 'cv2' has no attribute 'EVENT_LBUTTONDBCLK'",
     "output_type": "error",
     "traceback": [
      "\u001b[1;31m---------------------------------------------------------------------------\u001b[0m",
      "\u001b[1;31mAttributeError\u001b[0m                            Traceback (most recent call last)",
      "Cell \u001b[1;32mIn[6], line 12\u001b[0m, in \u001b[0;36mdraw_circle\u001b[1;34m(event, x, y, flags, param)\u001b[0m\n\u001b[0;32m     10\u001b[0m \u001b[38;5;28;01melif\u001b[39;00m event \u001b[38;5;241m==\u001b[39m cv2\u001b[38;5;241m.\u001b[39mEVENT_RBUTTONDOWN:\n\u001b[0;32m     11\u001b[0m     cv2\u001b[38;5;241m.\u001b[39mcircle(img, (x,y), \u001b[38;5;241m10\u001b[39m, (\u001b[38;5;241m255\u001b[39m,\u001b[38;5;241m0\u001b[39m,\u001b[38;5;241m0\u001b[39m), \u001b[38;5;241m2\u001b[39m)\n\u001b[1;32m---> 12\u001b[0m \u001b[38;5;28;01melif\u001b[39;00m event \u001b[38;5;241m==\u001b[39m \u001b[43mcv2\u001b[49m\u001b[38;5;241;43m.\u001b[39;49m\u001b[43mEVENT_LBUTTONDBCLK\u001b[49m:\n\u001b[0;32m     13\u001b[0m     cv2\u001b[38;5;241m.\u001b[39mcircle(img, (x,y), \u001b[38;5;241m20\u001b[39m, (\u001b[38;5;241m255\u001b[39m,\u001b[38;5;241m0\u001b[39m,\u001b[38;5;241m0\u001b[39m), \u001b[38;5;241m-\u001b[39m\u001b[38;5;241m1\u001b[39m)\n",
      "\u001b[1;31mAttributeError\u001b[0m: module 'cv2' has no attribute 'EVENT_LBUTTONDBCLK'"
     ]
    },
    {
     "ename": "AttributeError",
     "evalue": "module 'cv2' has no attribute 'EVENT_LBUTTONDBCLK'",
     "output_type": "error",
     "traceback": [
      "\u001b[1;31m---------------------------------------------------------------------------\u001b[0m",
      "\u001b[1;31mAttributeError\u001b[0m                            Traceback (most recent call last)",
      "Cell \u001b[1;32mIn[6], line 12\u001b[0m, in \u001b[0;36mdraw_circle\u001b[1;34m(event, x, y, flags, param)\u001b[0m\n\u001b[0;32m     10\u001b[0m \u001b[38;5;28;01melif\u001b[39;00m event \u001b[38;5;241m==\u001b[39m cv2\u001b[38;5;241m.\u001b[39mEVENT_RBUTTONDOWN:\n\u001b[0;32m     11\u001b[0m     cv2\u001b[38;5;241m.\u001b[39mcircle(img, (x,y), \u001b[38;5;241m10\u001b[39m, (\u001b[38;5;241m255\u001b[39m,\u001b[38;5;241m0\u001b[39m,\u001b[38;5;241m0\u001b[39m), \u001b[38;5;241m2\u001b[39m)\n\u001b[1;32m---> 12\u001b[0m \u001b[38;5;28;01melif\u001b[39;00m event \u001b[38;5;241m==\u001b[39m \u001b[43mcv2\u001b[49m\u001b[38;5;241;43m.\u001b[39;49m\u001b[43mEVENT_LBUTTONDBCLK\u001b[49m:\n\u001b[0;32m     13\u001b[0m     cv2\u001b[38;5;241m.\u001b[39mcircle(img, (x,y), \u001b[38;5;241m20\u001b[39m, (\u001b[38;5;241m255\u001b[39m,\u001b[38;5;241m0\u001b[39m,\u001b[38;5;241m0\u001b[39m), \u001b[38;5;241m-\u001b[39m\u001b[38;5;241m1\u001b[39m)\n",
      "\u001b[1;31mAttributeError\u001b[0m: module 'cv2' has no attribute 'EVENT_LBUTTONDBCLK'"
     ]
    },
    {
     "ename": "AttributeError",
     "evalue": "module 'cv2' has no attribute 'EVENT_LBUTTONDBCLK'",
     "output_type": "error",
     "traceback": [
      "\u001b[1;31m---------------------------------------------------------------------------\u001b[0m",
      "\u001b[1;31mAttributeError\u001b[0m                            Traceback (most recent call last)",
      "Cell \u001b[1;32mIn[6], line 12\u001b[0m, in \u001b[0;36mdraw_circle\u001b[1;34m(event, x, y, flags, param)\u001b[0m\n\u001b[0;32m     10\u001b[0m \u001b[38;5;28;01melif\u001b[39;00m event \u001b[38;5;241m==\u001b[39m cv2\u001b[38;5;241m.\u001b[39mEVENT_RBUTTONDOWN:\n\u001b[0;32m     11\u001b[0m     cv2\u001b[38;5;241m.\u001b[39mcircle(img, (x,y), \u001b[38;5;241m10\u001b[39m, (\u001b[38;5;241m255\u001b[39m,\u001b[38;5;241m0\u001b[39m,\u001b[38;5;241m0\u001b[39m), \u001b[38;5;241m2\u001b[39m)\n\u001b[1;32m---> 12\u001b[0m \u001b[38;5;28;01melif\u001b[39;00m event \u001b[38;5;241m==\u001b[39m \u001b[43mcv2\u001b[49m\u001b[38;5;241;43m.\u001b[39;49m\u001b[43mEVENT_LBUTTONDBCLK\u001b[49m:\n\u001b[0;32m     13\u001b[0m     cv2\u001b[38;5;241m.\u001b[39mcircle(img, (x,y), \u001b[38;5;241m20\u001b[39m, (\u001b[38;5;241m255\u001b[39m,\u001b[38;5;241m0\u001b[39m,\u001b[38;5;241m0\u001b[39m), \u001b[38;5;241m-\u001b[39m\u001b[38;5;241m1\u001b[39m)\n",
      "\u001b[1;31mAttributeError\u001b[0m: module 'cv2' has no attribute 'EVENT_LBUTTONDBCLK'"
     ]
    },
    {
     "ename": "AttributeError",
     "evalue": "module 'cv2' has no attribute 'EVENT_LBUTTONDBCLK'",
     "output_type": "error",
     "traceback": [
      "\u001b[1;31m---------------------------------------------------------------------------\u001b[0m",
      "\u001b[1;31mAttributeError\u001b[0m                            Traceback (most recent call last)",
      "Cell \u001b[1;32mIn[6], line 12\u001b[0m, in \u001b[0;36mdraw_circle\u001b[1;34m(event, x, y, flags, param)\u001b[0m\n\u001b[0;32m     10\u001b[0m \u001b[38;5;28;01melif\u001b[39;00m event \u001b[38;5;241m==\u001b[39m cv2\u001b[38;5;241m.\u001b[39mEVENT_RBUTTONDOWN:\n\u001b[0;32m     11\u001b[0m     cv2\u001b[38;5;241m.\u001b[39mcircle(img, (x,y), \u001b[38;5;241m10\u001b[39m, (\u001b[38;5;241m255\u001b[39m,\u001b[38;5;241m0\u001b[39m,\u001b[38;5;241m0\u001b[39m), \u001b[38;5;241m2\u001b[39m)\n\u001b[1;32m---> 12\u001b[0m \u001b[38;5;28;01melif\u001b[39;00m event \u001b[38;5;241m==\u001b[39m \u001b[43mcv2\u001b[49m\u001b[38;5;241;43m.\u001b[39;49m\u001b[43mEVENT_LBUTTONDBCLK\u001b[49m:\n\u001b[0;32m     13\u001b[0m     cv2\u001b[38;5;241m.\u001b[39mcircle(img, (x,y), \u001b[38;5;241m20\u001b[39m, (\u001b[38;5;241m255\u001b[39m,\u001b[38;5;241m0\u001b[39m,\u001b[38;5;241m0\u001b[39m), \u001b[38;5;241m-\u001b[39m\u001b[38;5;241m1\u001b[39m)\n",
      "\u001b[1;31mAttributeError\u001b[0m: module 'cv2' has no attribute 'EVENT_LBUTTONDBCLK'"
     ]
    },
    {
     "ename": "AttributeError",
     "evalue": "module 'cv2' has no attribute 'EVENT_LBUTTONDBCLK'",
     "output_type": "error",
     "traceback": [
      "\u001b[1;31m---------------------------------------------------------------------------\u001b[0m",
      "\u001b[1;31mAttributeError\u001b[0m                            Traceback (most recent call last)",
      "Cell \u001b[1;32mIn[6], line 12\u001b[0m, in \u001b[0;36mdraw_circle\u001b[1;34m(event, x, y, flags, param)\u001b[0m\n\u001b[0;32m     10\u001b[0m \u001b[38;5;28;01melif\u001b[39;00m event \u001b[38;5;241m==\u001b[39m cv2\u001b[38;5;241m.\u001b[39mEVENT_RBUTTONDOWN:\n\u001b[0;32m     11\u001b[0m     cv2\u001b[38;5;241m.\u001b[39mcircle(img, (x,y), \u001b[38;5;241m10\u001b[39m, (\u001b[38;5;241m255\u001b[39m,\u001b[38;5;241m0\u001b[39m,\u001b[38;5;241m0\u001b[39m), \u001b[38;5;241m2\u001b[39m)\n\u001b[1;32m---> 12\u001b[0m \u001b[38;5;28;01melif\u001b[39;00m event \u001b[38;5;241m==\u001b[39m \u001b[43mcv2\u001b[49m\u001b[38;5;241;43m.\u001b[39;49m\u001b[43mEVENT_LBUTTONDBCLK\u001b[49m:\n\u001b[0;32m     13\u001b[0m     cv2\u001b[38;5;241m.\u001b[39mcircle(img, (x,y), \u001b[38;5;241m20\u001b[39m, (\u001b[38;5;241m255\u001b[39m,\u001b[38;5;241m0\u001b[39m,\u001b[38;5;241m0\u001b[39m), \u001b[38;5;241m-\u001b[39m\u001b[38;5;241m1\u001b[39m)\n",
      "\u001b[1;31mAttributeError\u001b[0m: module 'cv2' has no attribute 'EVENT_LBUTTONDBCLK'"
     ]
    },
    {
     "ename": "AttributeError",
     "evalue": "module 'cv2' has no attribute 'EVENT_LBUTTONDBCLK'",
     "output_type": "error",
     "traceback": [
      "\u001b[1;31m---------------------------------------------------------------------------\u001b[0m",
      "\u001b[1;31mAttributeError\u001b[0m                            Traceback (most recent call last)",
      "Cell \u001b[1;32mIn[6], line 12\u001b[0m, in \u001b[0;36mdraw_circle\u001b[1;34m(event, x, y, flags, param)\u001b[0m\n\u001b[0;32m     10\u001b[0m \u001b[38;5;28;01melif\u001b[39;00m event \u001b[38;5;241m==\u001b[39m cv2\u001b[38;5;241m.\u001b[39mEVENT_RBUTTONDOWN:\n\u001b[0;32m     11\u001b[0m     cv2\u001b[38;5;241m.\u001b[39mcircle(img, (x,y), \u001b[38;5;241m10\u001b[39m, (\u001b[38;5;241m255\u001b[39m,\u001b[38;5;241m0\u001b[39m,\u001b[38;5;241m0\u001b[39m), \u001b[38;5;241m2\u001b[39m)\n\u001b[1;32m---> 12\u001b[0m \u001b[38;5;28;01melif\u001b[39;00m event \u001b[38;5;241m==\u001b[39m \u001b[43mcv2\u001b[49m\u001b[38;5;241;43m.\u001b[39;49m\u001b[43mEVENT_LBUTTONDBCLK\u001b[49m:\n\u001b[0;32m     13\u001b[0m     cv2\u001b[38;5;241m.\u001b[39mcircle(img, (x,y), \u001b[38;5;241m20\u001b[39m, (\u001b[38;5;241m255\u001b[39m,\u001b[38;5;241m0\u001b[39m,\u001b[38;5;241m0\u001b[39m), \u001b[38;5;241m-\u001b[39m\u001b[38;5;241m1\u001b[39m)\n",
      "\u001b[1;31mAttributeError\u001b[0m: module 'cv2' has no attribute 'EVENT_LBUTTONDBCLK'"
     ]
    },
    {
     "ename": "AttributeError",
     "evalue": "module 'cv2' has no attribute 'EVENT_LBUTTONDBCLK'",
     "output_type": "error",
     "traceback": [
      "\u001b[1;31m---------------------------------------------------------------------------\u001b[0m",
      "\u001b[1;31mAttributeError\u001b[0m                            Traceback (most recent call last)",
      "Cell \u001b[1;32mIn[6], line 12\u001b[0m, in \u001b[0;36mdraw_circle\u001b[1;34m(event, x, y, flags, param)\u001b[0m\n\u001b[0;32m     10\u001b[0m \u001b[38;5;28;01melif\u001b[39;00m event \u001b[38;5;241m==\u001b[39m cv2\u001b[38;5;241m.\u001b[39mEVENT_RBUTTONDOWN:\n\u001b[0;32m     11\u001b[0m     cv2\u001b[38;5;241m.\u001b[39mcircle(img, (x,y), \u001b[38;5;241m10\u001b[39m, (\u001b[38;5;241m255\u001b[39m,\u001b[38;5;241m0\u001b[39m,\u001b[38;5;241m0\u001b[39m), \u001b[38;5;241m2\u001b[39m)\n\u001b[1;32m---> 12\u001b[0m \u001b[38;5;28;01melif\u001b[39;00m event \u001b[38;5;241m==\u001b[39m \u001b[43mcv2\u001b[49m\u001b[38;5;241;43m.\u001b[39;49m\u001b[43mEVENT_LBUTTONDBCLK\u001b[49m:\n\u001b[0;32m     13\u001b[0m     cv2\u001b[38;5;241m.\u001b[39mcircle(img, (x,y), \u001b[38;5;241m20\u001b[39m, (\u001b[38;5;241m255\u001b[39m,\u001b[38;5;241m0\u001b[39m,\u001b[38;5;241m0\u001b[39m), \u001b[38;5;241m-\u001b[39m\u001b[38;5;241m1\u001b[39m)\n",
      "\u001b[1;31mAttributeError\u001b[0m: module 'cv2' has no attribute 'EVENT_LBUTTONDBCLK'"
     ]
    },
    {
     "ename": "AttributeError",
     "evalue": "module 'cv2' has no attribute 'EVENT_LBUTTONDBCLK'",
     "output_type": "error",
     "traceback": [
      "\u001b[1;31m---------------------------------------------------------------------------\u001b[0m",
      "\u001b[1;31mAttributeError\u001b[0m                            Traceback (most recent call last)",
      "Cell \u001b[1;32mIn[6], line 12\u001b[0m, in \u001b[0;36mdraw_circle\u001b[1;34m(event, x, y, flags, param)\u001b[0m\n\u001b[0;32m     10\u001b[0m \u001b[38;5;28;01melif\u001b[39;00m event \u001b[38;5;241m==\u001b[39m cv2\u001b[38;5;241m.\u001b[39mEVENT_RBUTTONDOWN:\n\u001b[0;32m     11\u001b[0m     cv2\u001b[38;5;241m.\u001b[39mcircle(img, (x,y), \u001b[38;5;241m10\u001b[39m, (\u001b[38;5;241m255\u001b[39m,\u001b[38;5;241m0\u001b[39m,\u001b[38;5;241m0\u001b[39m), \u001b[38;5;241m2\u001b[39m)\n\u001b[1;32m---> 12\u001b[0m \u001b[38;5;28;01melif\u001b[39;00m event \u001b[38;5;241m==\u001b[39m \u001b[43mcv2\u001b[49m\u001b[38;5;241;43m.\u001b[39;49m\u001b[43mEVENT_LBUTTONDBCLK\u001b[49m:\n\u001b[0;32m     13\u001b[0m     cv2\u001b[38;5;241m.\u001b[39mcircle(img, (x,y), \u001b[38;5;241m20\u001b[39m, (\u001b[38;5;241m255\u001b[39m,\u001b[38;5;241m0\u001b[39m,\u001b[38;5;241m0\u001b[39m), \u001b[38;5;241m-\u001b[39m\u001b[38;5;241m1\u001b[39m)\n",
      "\u001b[1;31mAttributeError\u001b[0m: module 'cv2' has no attribute 'EVENT_LBUTTONDBCLK'"
     ]
    },
    {
     "ename": "AttributeError",
     "evalue": "module 'cv2' has no attribute 'EVENT_LBUTTONDBCLK'",
     "output_type": "error",
     "traceback": [
      "\u001b[1;31m---------------------------------------------------------------------------\u001b[0m",
      "\u001b[1;31mAttributeError\u001b[0m                            Traceback (most recent call last)",
      "Cell \u001b[1;32mIn[6], line 12\u001b[0m, in \u001b[0;36mdraw_circle\u001b[1;34m(event, x, y, flags, param)\u001b[0m\n\u001b[0;32m     10\u001b[0m \u001b[38;5;28;01melif\u001b[39;00m event \u001b[38;5;241m==\u001b[39m cv2\u001b[38;5;241m.\u001b[39mEVENT_RBUTTONDOWN:\n\u001b[0;32m     11\u001b[0m     cv2\u001b[38;5;241m.\u001b[39mcircle(img, (x,y), \u001b[38;5;241m10\u001b[39m, (\u001b[38;5;241m255\u001b[39m,\u001b[38;5;241m0\u001b[39m,\u001b[38;5;241m0\u001b[39m), \u001b[38;5;241m2\u001b[39m)\n\u001b[1;32m---> 12\u001b[0m \u001b[38;5;28;01melif\u001b[39;00m event \u001b[38;5;241m==\u001b[39m \u001b[43mcv2\u001b[49m\u001b[38;5;241;43m.\u001b[39;49m\u001b[43mEVENT_LBUTTONDBCLK\u001b[49m:\n\u001b[0;32m     13\u001b[0m     cv2\u001b[38;5;241m.\u001b[39mcircle(img, (x,y), \u001b[38;5;241m20\u001b[39m, (\u001b[38;5;241m255\u001b[39m,\u001b[38;5;241m0\u001b[39m,\u001b[38;5;241m0\u001b[39m), \u001b[38;5;241m-\u001b[39m\u001b[38;5;241m1\u001b[39m)\n",
      "\u001b[1;31mAttributeError\u001b[0m: module 'cv2' has no attribute 'EVENT_LBUTTONDBCLK'"
     ]
    },
    {
     "ename": "AttributeError",
     "evalue": "module 'cv2' has no attribute 'EVENT_LBUTTONDBCLK'",
     "output_type": "error",
     "traceback": [
      "\u001b[1;31m---------------------------------------------------------------------------\u001b[0m",
      "\u001b[1;31mAttributeError\u001b[0m                            Traceback (most recent call last)",
      "Cell \u001b[1;32mIn[6], line 12\u001b[0m, in \u001b[0;36mdraw_circle\u001b[1;34m(event, x, y, flags, param)\u001b[0m\n\u001b[0;32m     10\u001b[0m \u001b[38;5;28;01melif\u001b[39;00m event \u001b[38;5;241m==\u001b[39m cv2\u001b[38;5;241m.\u001b[39mEVENT_RBUTTONDOWN:\n\u001b[0;32m     11\u001b[0m     cv2\u001b[38;5;241m.\u001b[39mcircle(img, (x,y), \u001b[38;5;241m10\u001b[39m, (\u001b[38;5;241m255\u001b[39m,\u001b[38;5;241m0\u001b[39m,\u001b[38;5;241m0\u001b[39m), \u001b[38;5;241m2\u001b[39m)\n\u001b[1;32m---> 12\u001b[0m \u001b[38;5;28;01melif\u001b[39;00m event \u001b[38;5;241m==\u001b[39m \u001b[43mcv2\u001b[49m\u001b[38;5;241;43m.\u001b[39;49m\u001b[43mEVENT_LBUTTONDBCLK\u001b[49m:\n\u001b[0;32m     13\u001b[0m     cv2\u001b[38;5;241m.\u001b[39mcircle(img, (x,y), \u001b[38;5;241m20\u001b[39m, (\u001b[38;5;241m255\u001b[39m,\u001b[38;5;241m0\u001b[39m,\u001b[38;5;241m0\u001b[39m), \u001b[38;5;241m-\u001b[39m\u001b[38;5;241m1\u001b[39m)\n",
      "\u001b[1;31mAttributeError\u001b[0m: module 'cv2' has no attribute 'EVENT_LBUTTONDBCLK'"
     ]
    },
    {
     "ename": "AttributeError",
     "evalue": "module 'cv2' has no attribute 'EVENT_LBUTTONDBCLK'",
     "output_type": "error",
     "traceback": [
      "\u001b[1;31m---------------------------------------------------------------------------\u001b[0m",
      "\u001b[1;31mAttributeError\u001b[0m                            Traceback (most recent call last)",
      "Cell \u001b[1;32mIn[6], line 12\u001b[0m, in \u001b[0;36mdraw_circle\u001b[1;34m(event, x, y, flags, param)\u001b[0m\n\u001b[0;32m     10\u001b[0m \u001b[38;5;28;01melif\u001b[39;00m event \u001b[38;5;241m==\u001b[39m cv2\u001b[38;5;241m.\u001b[39mEVENT_RBUTTONDOWN:\n\u001b[0;32m     11\u001b[0m     cv2\u001b[38;5;241m.\u001b[39mcircle(img, (x,y), \u001b[38;5;241m10\u001b[39m, (\u001b[38;5;241m255\u001b[39m,\u001b[38;5;241m0\u001b[39m,\u001b[38;5;241m0\u001b[39m), \u001b[38;5;241m2\u001b[39m)\n\u001b[1;32m---> 12\u001b[0m \u001b[38;5;28;01melif\u001b[39;00m event \u001b[38;5;241m==\u001b[39m \u001b[43mcv2\u001b[49m\u001b[38;5;241;43m.\u001b[39;49m\u001b[43mEVENT_LBUTTONDBCLK\u001b[49m:\n\u001b[0;32m     13\u001b[0m     cv2\u001b[38;5;241m.\u001b[39mcircle(img, (x,y), \u001b[38;5;241m20\u001b[39m, (\u001b[38;5;241m255\u001b[39m,\u001b[38;5;241m0\u001b[39m,\u001b[38;5;241m0\u001b[39m), \u001b[38;5;241m-\u001b[39m\u001b[38;5;241m1\u001b[39m)\n",
      "\u001b[1;31mAttributeError\u001b[0m: module 'cv2' has no attribute 'EVENT_LBUTTONDBCLK'"
     ]
    },
    {
     "ename": "AttributeError",
     "evalue": "module 'cv2' has no attribute 'EVENT_LBUTTONDBCLK'",
     "output_type": "error",
     "traceback": [
      "\u001b[1;31m---------------------------------------------------------------------------\u001b[0m",
      "\u001b[1;31mAttributeError\u001b[0m                            Traceback (most recent call last)",
      "Cell \u001b[1;32mIn[6], line 12\u001b[0m, in \u001b[0;36mdraw_circle\u001b[1;34m(event, x, y, flags, param)\u001b[0m\n\u001b[0;32m     10\u001b[0m \u001b[38;5;28;01melif\u001b[39;00m event \u001b[38;5;241m==\u001b[39m cv2\u001b[38;5;241m.\u001b[39mEVENT_RBUTTONDOWN:\n\u001b[0;32m     11\u001b[0m     cv2\u001b[38;5;241m.\u001b[39mcircle(img, (x,y), \u001b[38;5;241m10\u001b[39m, (\u001b[38;5;241m255\u001b[39m,\u001b[38;5;241m0\u001b[39m,\u001b[38;5;241m0\u001b[39m), \u001b[38;5;241m2\u001b[39m)\n\u001b[1;32m---> 12\u001b[0m \u001b[38;5;28;01melif\u001b[39;00m event \u001b[38;5;241m==\u001b[39m \u001b[43mcv2\u001b[49m\u001b[38;5;241;43m.\u001b[39;49m\u001b[43mEVENT_LBUTTONDBCLK\u001b[49m:\n\u001b[0;32m     13\u001b[0m     cv2\u001b[38;5;241m.\u001b[39mcircle(img, (x,y), \u001b[38;5;241m20\u001b[39m, (\u001b[38;5;241m255\u001b[39m,\u001b[38;5;241m0\u001b[39m,\u001b[38;5;241m0\u001b[39m), \u001b[38;5;241m-\u001b[39m\u001b[38;5;241m1\u001b[39m)\n",
      "\u001b[1;31mAttributeError\u001b[0m: module 'cv2' has no attribute 'EVENT_LBUTTONDBCLK'"
     ]
    },
    {
     "ename": "AttributeError",
     "evalue": "module 'cv2' has no attribute 'EVENT_LBUTTONDBCLK'",
     "output_type": "error",
     "traceback": [
      "\u001b[1;31m---------------------------------------------------------------------------\u001b[0m",
      "\u001b[1;31mAttributeError\u001b[0m                            Traceback (most recent call last)",
      "Cell \u001b[1;32mIn[6], line 12\u001b[0m, in \u001b[0;36mdraw_circle\u001b[1;34m(event, x, y, flags, param)\u001b[0m\n\u001b[0;32m     10\u001b[0m \u001b[38;5;28;01melif\u001b[39;00m event \u001b[38;5;241m==\u001b[39m cv2\u001b[38;5;241m.\u001b[39mEVENT_RBUTTONDOWN:\n\u001b[0;32m     11\u001b[0m     cv2\u001b[38;5;241m.\u001b[39mcircle(img, (x,y), \u001b[38;5;241m10\u001b[39m, (\u001b[38;5;241m255\u001b[39m,\u001b[38;5;241m0\u001b[39m,\u001b[38;5;241m0\u001b[39m), \u001b[38;5;241m2\u001b[39m)\n\u001b[1;32m---> 12\u001b[0m \u001b[38;5;28;01melif\u001b[39;00m event \u001b[38;5;241m==\u001b[39m \u001b[43mcv2\u001b[49m\u001b[38;5;241;43m.\u001b[39;49m\u001b[43mEVENT_LBUTTONDBCLK\u001b[49m:\n\u001b[0;32m     13\u001b[0m     cv2\u001b[38;5;241m.\u001b[39mcircle(img, (x,y), \u001b[38;5;241m20\u001b[39m, (\u001b[38;5;241m255\u001b[39m,\u001b[38;5;241m0\u001b[39m,\u001b[38;5;241m0\u001b[39m), \u001b[38;5;241m-\u001b[39m\u001b[38;5;241m1\u001b[39m)\n",
      "\u001b[1;31mAttributeError\u001b[0m: module 'cv2' has no attribute 'EVENT_LBUTTONDBCLK'"
     ]
    },
    {
     "ename": "AttributeError",
     "evalue": "module 'cv2' has no attribute 'EVENT_LBUTTONDBCLK'",
     "output_type": "error",
     "traceback": [
      "\u001b[1;31m---------------------------------------------------------------------------\u001b[0m",
      "\u001b[1;31mAttributeError\u001b[0m                            Traceback (most recent call last)",
      "Cell \u001b[1;32mIn[6], line 12\u001b[0m, in \u001b[0;36mdraw_circle\u001b[1;34m(event, x, y, flags, param)\u001b[0m\n\u001b[0;32m     10\u001b[0m \u001b[38;5;28;01melif\u001b[39;00m event \u001b[38;5;241m==\u001b[39m cv2\u001b[38;5;241m.\u001b[39mEVENT_RBUTTONDOWN:\n\u001b[0;32m     11\u001b[0m     cv2\u001b[38;5;241m.\u001b[39mcircle(img, (x,y), \u001b[38;5;241m10\u001b[39m, (\u001b[38;5;241m255\u001b[39m,\u001b[38;5;241m0\u001b[39m,\u001b[38;5;241m0\u001b[39m), \u001b[38;5;241m2\u001b[39m)\n\u001b[1;32m---> 12\u001b[0m \u001b[38;5;28;01melif\u001b[39;00m event \u001b[38;5;241m==\u001b[39m \u001b[43mcv2\u001b[49m\u001b[38;5;241;43m.\u001b[39;49m\u001b[43mEVENT_LBUTTONDBCLK\u001b[49m:\n\u001b[0;32m     13\u001b[0m     cv2\u001b[38;5;241m.\u001b[39mcircle(img, (x,y), \u001b[38;5;241m20\u001b[39m, (\u001b[38;5;241m255\u001b[39m,\u001b[38;5;241m0\u001b[39m,\u001b[38;5;241m0\u001b[39m), \u001b[38;5;241m-\u001b[39m\u001b[38;5;241m1\u001b[39m)\n",
      "\u001b[1;31mAttributeError\u001b[0m: module 'cv2' has no attribute 'EVENT_LBUTTONDBCLK'"
     ]
    },
    {
     "ename": "AttributeError",
     "evalue": "module 'cv2' has no attribute 'EVENT_LBUTTONDBCLK'",
     "output_type": "error",
     "traceback": [
      "\u001b[1;31m---------------------------------------------------------------------------\u001b[0m",
      "\u001b[1;31mAttributeError\u001b[0m                            Traceback (most recent call last)",
      "Cell \u001b[1;32mIn[6], line 12\u001b[0m, in \u001b[0;36mdraw_circle\u001b[1;34m(event, x, y, flags, param)\u001b[0m\n\u001b[0;32m     10\u001b[0m \u001b[38;5;28;01melif\u001b[39;00m event \u001b[38;5;241m==\u001b[39m cv2\u001b[38;5;241m.\u001b[39mEVENT_RBUTTONDOWN:\n\u001b[0;32m     11\u001b[0m     cv2\u001b[38;5;241m.\u001b[39mcircle(img, (x,y), \u001b[38;5;241m10\u001b[39m, (\u001b[38;5;241m255\u001b[39m,\u001b[38;5;241m0\u001b[39m,\u001b[38;5;241m0\u001b[39m), \u001b[38;5;241m2\u001b[39m)\n\u001b[1;32m---> 12\u001b[0m \u001b[38;5;28;01melif\u001b[39;00m event \u001b[38;5;241m==\u001b[39m \u001b[43mcv2\u001b[49m\u001b[38;5;241;43m.\u001b[39;49m\u001b[43mEVENT_LBUTTONDBCLK\u001b[49m:\n\u001b[0;32m     13\u001b[0m     cv2\u001b[38;5;241m.\u001b[39mcircle(img, (x,y), \u001b[38;5;241m20\u001b[39m, (\u001b[38;5;241m255\u001b[39m,\u001b[38;5;241m0\u001b[39m,\u001b[38;5;241m0\u001b[39m), \u001b[38;5;241m-\u001b[39m\u001b[38;5;241m1\u001b[39m)\n",
      "\u001b[1;31mAttributeError\u001b[0m: module 'cv2' has no attribute 'EVENT_LBUTTONDBCLK'"
     ]
    },
    {
     "ename": "AttributeError",
     "evalue": "module 'cv2' has no attribute 'EVENT_LBUTTONDBCLK'",
     "output_type": "error",
     "traceback": [
      "\u001b[1;31m---------------------------------------------------------------------------\u001b[0m",
      "\u001b[1;31mAttributeError\u001b[0m                            Traceback (most recent call last)",
      "Cell \u001b[1;32mIn[6], line 12\u001b[0m, in \u001b[0;36mdraw_circle\u001b[1;34m(event, x, y, flags, param)\u001b[0m\n\u001b[0;32m     10\u001b[0m \u001b[38;5;28;01melif\u001b[39;00m event \u001b[38;5;241m==\u001b[39m cv2\u001b[38;5;241m.\u001b[39mEVENT_RBUTTONDOWN:\n\u001b[0;32m     11\u001b[0m     cv2\u001b[38;5;241m.\u001b[39mcircle(img, (x,y), \u001b[38;5;241m10\u001b[39m, (\u001b[38;5;241m255\u001b[39m,\u001b[38;5;241m0\u001b[39m,\u001b[38;5;241m0\u001b[39m), \u001b[38;5;241m2\u001b[39m)\n\u001b[1;32m---> 12\u001b[0m \u001b[38;5;28;01melif\u001b[39;00m event \u001b[38;5;241m==\u001b[39m \u001b[43mcv2\u001b[49m\u001b[38;5;241;43m.\u001b[39;49m\u001b[43mEVENT_LBUTTONDBCLK\u001b[49m:\n\u001b[0;32m     13\u001b[0m     cv2\u001b[38;5;241m.\u001b[39mcircle(img, (x,y), \u001b[38;5;241m20\u001b[39m, (\u001b[38;5;241m255\u001b[39m,\u001b[38;5;241m0\u001b[39m,\u001b[38;5;241m0\u001b[39m), \u001b[38;5;241m-\u001b[39m\u001b[38;5;241m1\u001b[39m)\n",
      "\u001b[1;31mAttributeError\u001b[0m: module 'cv2' has no attribute 'EVENT_LBUTTONDBCLK'"
     ]
    },
    {
     "ename": "AttributeError",
     "evalue": "module 'cv2' has no attribute 'EVENT_LBUTTONDBCLK'",
     "output_type": "error",
     "traceback": [
      "\u001b[1;31m---------------------------------------------------------------------------\u001b[0m",
      "\u001b[1;31mAttributeError\u001b[0m                            Traceback (most recent call last)",
      "Cell \u001b[1;32mIn[6], line 12\u001b[0m, in \u001b[0;36mdraw_circle\u001b[1;34m(event, x, y, flags, param)\u001b[0m\n\u001b[0;32m     10\u001b[0m \u001b[38;5;28;01melif\u001b[39;00m event \u001b[38;5;241m==\u001b[39m cv2\u001b[38;5;241m.\u001b[39mEVENT_RBUTTONDOWN:\n\u001b[0;32m     11\u001b[0m     cv2\u001b[38;5;241m.\u001b[39mcircle(img, (x,y), \u001b[38;5;241m10\u001b[39m, (\u001b[38;5;241m255\u001b[39m,\u001b[38;5;241m0\u001b[39m,\u001b[38;5;241m0\u001b[39m), \u001b[38;5;241m2\u001b[39m)\n\u001b[1;32m---> 12\u001b[0m \u001b[38;5;28;01melif\u001b[39;00m event \u001b[38;5;241m==\u001b[39m \u001b[43mcv2\u001b[49m\u001b[38;5;241;43m.\u001b[39;49m\u001b[43mEVENT_LBUTTONDBCLK\u001b[49m:\n\u001b[0;32m     13\u001b[0m     cv2\u001b[38;5;241m.\u001b[39mcircle(img, (x,y), \u001b[38;5;241m20\u001b[39m, (\u001b[38;5;241m255\u001b[39m,\u001b[38;5;241m0\u001b[39m,\u001b[38;5;241m0\u001b[39m), \u001b[38;5;241m-\u001b[39m\u001b[38;5;241m1\u001b[39m)\n",
      "\u001b[1;31mAttributeError\u001b[0m: module 'cv2' has no attribute 'EVENT_LBUTTONDBCLK'"
     ]
    },
    {
     "ename": "AttributeError",
     "evalue": "module 'cv2' has no attribute 'EVENT_LBUTTONDBCLK'",
     "output_type": "error",
     "traceback": [
      "\u001b[1;31m---------------------------------------------------------------------------\u001b[0m",
      "\u001b[1;31mAttributeError\u001b[0m                            Traceback (most recent call last)",
      "Cell \u001b[1;32mIn[6], line 12\u001b[0m, in \u001b[0;36mdraw_circle\u001b[1;34m(event, x, y, flags, param)\u001b[0m\n\u001b[0;32m     10\u001b[0m \u001b[38;5;28;01melif\u001b[39;00m event \u001b[38;5;241m==\u001b[39m cv2\u001b[38;5;241m.\u001b[39mEVENT_RBUTTONDOWN:\n\u001b[0;32m     11\u001b[0m     cv2\u001b[38;5;241m.\u001b[39mcircle(img, (x,y), \u001b[38;5;241m10\u001b[39m, (\u001b[38;5;241m255\u001b[39m,\u001b[38;5;241m0\u001b[39m,\u001b[38;5;241m0\u001b[39m), \u001b[38;5;241m2\u001b[39m)\n\u001b[1;32m---> 12\u001b[0m \u001b[38;5;28;01melif\u001b[39;00m event \u001b[38;5;241m==\u001b[39m \u001b[43mcv2\u001b[49m\u001b[38;5;241;43m.\u001b[39;49m\u001b[43mEVENT_LBUTTONDBCLK\u001b[49m:\n\u001b[0;32m     13\u001b[0m     cv2\u001b[38;5;241m.\u001b[39mcircle(img, (x,y), \u001b[38;5;241m20\u001b[39m, (\u001b[38;5;241m255\u001b[39m,\u001b[38;5;241m0\u001b[39m,\u001b[38;5;241m0\u001b[39m), \u001b[38;5;241m-\u001b[39m\u001b[38;5;241m1\u001b[39m)\n",
      "\u001b[1;31mAttributeError\u001b[0m: module 'cv2' has no attribute 'EVENT_LBUTTONDBCLK'"
     ]
    },
    {
     "ename": "AttributeError",
     "evalue": "module 'cv2' has no attribute 'EVENT_LBUTTONDBCLK'",
     "output_type": "error",
     "traceback": [
      "\u001b[1;31m---------------------------------------------------------------------------\u001b[0m",
      "\u001b[1;31mAttributeError\u001b[0m                            Traceback (most recent call last)",
      "Cell \u001b[1;32mIn[6], line 12\u001b[0m, in \u001b[0;36mdraw_circle\u001b[1;34m(event, x, y, flags, param)\u001b[0m\n\u001b[0;32m     10\u001b[0m \u001b[38;5;28;01melif\u001b[39;00m event \u001b[38;5;241m==\u001b[39m cv2\u001b[38;5;241m.\u001b[39mEVENT_RBUTTONDOWN:\n\u001b[0;32m     11\u001b[0m     cv2\u001b[38;5;241m.\u001b[39mcircle(img, (x,y), \u001b[38;5;241m10\u001b[39m, (\u001b[38;5;241m255\u001b[39m,\u001b[38;5;241m0\u001b[39m,\u001b[38;5;241m0\u001b[39m), \u001b[38;5;241m2\u001b[39m)\n\u001b[1;32m---> 12\u001b[0m \u001b[38;5;28;01melif\u001b[39;00m event \u001b[38;5;241m==\u001b[39m \u001b[43mcv2\u001b[49m\u001b[38;5;241;43m.\u001b[39;49m\u001b[43mEVENT_LBUTTONDBCLK\u001b[49m:\n\u001b[0;32m     13\u001b[0m     cv2\u001b[38;5;241m.\u001b[39mcircle(img, (x,y), \u001b[38;5;241m20\u001b[39m, (\u001b[38;5;241m255\u001b[39m,\u001b[38;5;241m0\u001b[39m,\u001b[38;5;241m0\u001b[39m), \u001b[38;5;241m-\u001b[39m\u001b[38;5;241m1\u001b[39m)\n",
      "\u001b[1;31mAttributeError\u001b[0m: module 'cv2' has no attribute 'EVENT_LBUTTONDBCLK'"
     ]
    },
    {
     "ename": "AttributeError",
     "evalue": "module 'cv2' has no attribute 'EVENT_LBUTTONDBCLK'",
     "output_type": "error",
     "traceback": [
      "\u001b[1;31m---------------------------------------------------------------------------\u001b[0m",
      "\u001b[1;31mAttributeError\u001b[0m                            Traceback (most recent call last)",
      "Cell \u001b[1;32mIn[6], line 12\u001b[0m, in \u001b[0;36mdraw_circle\u001b[1;34m(event, x, y, flags, param)\u001b[0m\n\u001b[0;32m     10\u001b[0m \u001b[38;5;28;01melif\u001b[39;00m event \u001b[38;5;241m==\u001b[39m cv2\u001b[38;5;241m.\u001b[39mEVENT_RBUTTONDOWN:\n\u001b[0;32m     11\u001b[0m     cv2\u001b[38;5;241m.\u001b[39mcircle(img, (x,y), \u001b[38;5;241m10\u001b[39m, (\u001b[38;5;241m255\u001b[39m,\u001b[38;5;241m0\u001b[39m,\u001b[38;5;241m0\u001b[39m), \u001b[38;5;241m2\u001b[39m)\n\u001b[1;32m---> 12\u001b[0m \u001b[38;5;28;01melif\u001b[39;00m event \u001b[38;5;241m==\u001b[39m \u001b[43mcv2\u001b[49m\u001b[38;5;241;43m.\u001b[39;49m\u001b[43mEVENT_LBUTTONDBCLK\u001b[49m:\n\u001b[0;32m     13\u001b[0m     cv2\u001b[38;5;241m.\u001b[39mcircle(img, (x,y), \u001b[38;5;241m20\u001b[39m, (\u001b[38;5;241m255\u001b[39m,\u001b[38;5;241m0\u001b[39m,\u001b[38;5;241m0\u001b[39m), \u001b[38;5;241m-\u001b[39m\u001b[38;5;241m1\u001b[39m)\n",
      "\u001b[1;31mAttributeError\u001b[0m: module 'cv2' has no attribute 'EVENT_LBUTTONDBCLK'"
     ]
    },
    {
     "ename": "AttributeError",
     "evalue": "module 'cv2' has no attribute 'EVENT_LBUTTONDBCLK'",
     "output_type": "error",
     "traceback": [
      "\u001b[1;31m---------------------------------------------------------------------------\u001b[0m",
      "\u001b[1;31mAttributeError\u001b[0m                            Traceback (most recent call last)",
      "Cell \u001b[1;32mIn[6], line 12\u001b[0m, in \u001b[0;36mdraw_circle\u001b[1;34m(event, x, y, flags, param)\u001b[0m\n\u001b[0;32m     10\u001b[0m \u001b[38;5;28;01melif\u001b[39;00m event \u001b[38;5;241m==\u001b[39m cv2\u001b[38;5;241m.\u001b[39mEVENT_RBUTTONDOWN:\n\u001b[0;32m     11\u001b[0m     cv2\u001b[38;5;241m.\u001b[39mcircle(img, (x,y), \u001b[38;5;241m10\u001b[39m, (\u001b[38;5;241m255\u001b[39m,\u001b[38;5;241m0\u001b[39m,\u001b[38;5;241m0\u001b[39m), \u001b[38;5;241m2\u001b[39m)\n\u001b[1;32m---> 12\u001b[0m \u001b[38;5;28;01melif\u001b[39;00m event \u001b[38;5;241m==\u001b[39m \u001b[43mcv2\u001b[49m\u001b[38;5;241;43m.\u001b[39;49m\u001b[43mEVENT_LBUTTONDBCLK\u001b[49m:\n\u001b[0;32m     13\u001b[0m     cv2\u001b[38;5;241m.\u001b[39mcircle(img, (x,y), \u001b[38;5;241m20\u001b[39m, (\u001b[38;5;241m255\u001b[39m,\u001b[38;5;241m0\u001b[39m,\u001b[38;5;241m0\u001b[39m), \u001b[38;5;241m-\u001b[39m\u001b[38;5;241m1\u001b[39m)\n",
      "\u001b[1;31mAttributeError\u001b[0m: module 'cv2' has no attribute 'EVENT_LBUTTONDBCLK'"
     ]
    },
    {
     "ename": "AttributeError",
     "evalue": "module 'cv2' has no attribute 'EVENT_LBUTTONDBCLK'",
     "output_type": "error",
     "traceback": [
      "\u001b[1;31m---------------------------------------------------------------------------\u001b[0m",
      "\u001b[1;31mAttributeError\u001b[0m                            Traceback (most recent call last)",
      "Cell \u001b[1;32mIn[6], line 12\u001b[0m, in \u001b[0;36mdraw_circle\u001b[1;34m(event, x, y, flags, param)\u001b[0m\n\u001b[0;32m     10\u001b[0m \u001b[38;5;28;01melif\u001b[39;00m event \u001b[38;5;241m==\u001b[39m cv2\u001b[38;5;241m.\u001b[39mEVENT_RBUTTONDOWN:\n\u001b[0;32m     11\u001b[0m     cv2\u001b[38;5;241m.\u001b[39mcircle(img, (x,y), \u001b[38;5;241m10\u001b[39m, (\u001b[38;5;241m255\u001b[39m,\u001b[38;5;241m0\u001b[39m,\u001b[38;5;241m0\u001b[39m), \u001b[38;5;241m2\u001b[39m)\n\u001b[1;32m---> 12\u001b[0m \u001b[38;5;28;01melif\u001b[39;00m event \u001b[38;5;241m==\u001b[39m \u001b[43mcv2\u001b[49m\u001b[38;5;241;43m.\u001b[39;49m\u001b[43mEVENT_LBUTTONDBCLK\u001b[49m:\n\u001b[0;32m     13\u001b[0m     cv2\u001b[38;5;241m.\u001b[39mcircle(img, (x,y), \u001b[38;5;241m20\u001b[39m, (\u001b[38;5;241m255\u001b[39m,\u001b[38;5;241m0\u001b[39m,\u001b[38;5;241m0\u001b[39m), \u001b[38;5;241m-\u001b[39m\u001b[38;5;241m1\u001b[39m)\n",
      "\u001b[1;31mAttributeError\u001b[0m: module 'cv2' has no attribute 'EVENT_LBUTTONDBCLK'"
     ]
    },
    {
     "ename": "AttributeError",
     "evalue": "module 'cv2' has no attribute 'EVENT_LBUTTONDBCLK'",
     "output_type": "error",
     "traceback": [
      "\u001b[1;31m---------------------------------------------------------------------------\u001b[0m",
      "\u001b[1;31mAttributeError\u001b[0m                            Traceback (most recent call last)",
      "Cell \u001b[1;32mIn[6], line 12\u001b[0m, in \u001b[0;36mdraw_circle\u001b[1;34m(event, x, y, flags, param)\u001b[0m\n\u001b[0;32m     10\u001b[0m \u001b[38;5;28;01melif\u001b[39;00m event \u001b[38;5;241m==\u001b[39m cv2\u001b[38;5;241m.\u001b[39mEVENT_RBUTTONDOWN:\n\u001b[0;32m     11\u001b[0m     cv2\u001b[38;5;241m.\u001b[39mcircle(img, (x,y), \u001b[38;5;241m10\u001b[39m, (\u001b[38;5;241m255\u001b[39m,\u001b[38;5;241m0\u001b[39m,\u001b[38;5;241m0\u001b[39m), \u001b[38;5;241m2\u001b[39m)\n\u001b[1;32m---> 12\u001b[0m \u001b[38;5;28;01melif\u001b[39;00m event \u001b[38;5;241m==\u001b[39m \u001b[43mcv2\u001b[49m\u001b[38;5;241;43m.\u001b[39;49m\u001b[43mEVENT_LBUTTONDBCLK\u001b[49m:\n\u001b[0;32m     13\u001b[0m     cv2\u001b[38;5;241m.\u001b[39mcircle(img, (x,y), \u001b[38;5;241m20\u001b[39m, (\u001b[38;5;241m255\u001b[39m,\u001b[38;5;241m0\u001b[39m,\u001b[38;5;241m0\u001b[39m), \u001b[38;5;241m-\u001b[39m\u001b[38;5;241m1\u001b[39m)\n",
      "\u001b[1;31mAttributeError\u001b[0m: module 'cv2' has no attribute 'EVENT_LBUTTONDBCLK'"
     ]
    },
    {
     "ename": "AttributeError",
     "evalue": "module 'cv2' has no attribute 'EVENT_LBUTTONDBCLK'",
     "output_type": "error",
     "traceback": [
      "\u001b[1;31m---------------------------------------------------------------------------\u001b[0m",
      "\u001b[1;31mAttributeError\u001b[0m                            Traceback (most recent call last)",
      "Cell \u001b[1;32mIn[6], line 12\u001b[0m, in \u001b[0;36mdraw_circle\u001b[1;34m(event, x, y, flags, param)\u001b[0m\n\u001b[0;32m     10\u001b[0m \u001b[38;5;28;01melif\u001b[39;00m event \u001b[38;5;241m==\u001b[39m cv2\u001b[38;5;241m.\u001b[39mEVENT_RBUTTONDOWN:\n\u001b[0;32m     11\u001b[0m     cv2\u001b[38;5;241m.\u001b[39mcircle(img, (x,y), \u001b[38;5;241m10\u001b[39m, (\u001b[38;5;241m255\u001b[39m,\u001b[38;5;241m0\u001b[39m,\u001b[38;5;241m0\u001b[39m), \u001b[38;5;241m2\u001b[39m)\n\u001b[1;32m---> 12\u001b[0m \u001b[38;5;28;01melif\u001b[39;00m event \u001b[38;5;241m==\u001b[39m \u001b[43mcv2\u001b[49m\u001b[38;5;241;43m.\u001b[39;49m\u001b[43mEVENT_LBUTTONDBCLK\u001b[49m:\n\u001b[0;32m     13\u001b[0m     cv2\u001b[38;5;241m.\u001b[39mcircle(img, (x,y), \u001b[38;5;241m20\u001b[39m, (\u001b[38;5;241m255\u001b[39m,\u001b[38;5;241m0\u001b[39m,\u001b[38;5;241m0\u001b[39m), \u001b[38;5;241m-\u001b[39m\u001b[38;5;241m1\u001b[39m)\n",
      "\u001b[1;31mAttributeError\u001b[0m: module 'cv2' has no attribute 'EVENT_LBUTTONDBCLK'"
     ]
    },
    {
     "ename": "AttributeError",
     "evalue": "module 'cv2' has no attribute 'EVENT_LBUTTONDBCLK'",
     "output_type": "error",
     "traceback": [
      "\u001b[1;31m---------------------------------------------------------------------------\u001b[0m",
      "\u001b[1;31mAttributeError\u001b[0m                            Traceback (most recent call last)",
      "Cell \u001b[1;32mIn[6], line 12\u001b[0m, in \u001b[0;36mdraw_circle\u001b[1;34m(event, x, y, flags, param)\u001b[0m\n\u001b[0;32m     10\u001b[0m \u001b[38;5;28;01melif\u001b[39;00m event \u001b[38;5;241m==\u001b[39m cv2\u001b[38;5;241m.\u001b[39mEVENT_RBUTTONDOWN:\n\u001b[0;32m     11\u001b[0m     cv2\u001b[38;5;241m.\u001b[39mcircle(img, (x,y), \u001b[38;5;241m10\u001b[39m, (\u001b[38;5;241m255\u001b[39m,\u001b[38;5;241m0\u001b[39m,\u001b[38;5;241m0\u001b[39m), \u001b[38;5;241m2\u001b[39m)\n\u001b[1;32m---> 12\u001b[0m \u001b[38;5;28;01melif\u001b[39;00m event \u001b[38;5;241m==\u001b[39m \u001b[43mcv2\u001b[49m\u001b[38;5;241;43m.\u001b[39;49m\u001b[43mEVENT_LBUTTONDBCLK\u001b[49m:\n\u001b[0;32m     13\u001b[0m     cv2\u001b[38;5;241m.\u001b[39mcircle(img, (x,y), \u001b[38;5;241m20\u001b[39m, (\u001b[38;5;241m255\u001b[39m,\u001b[38;5;241m0\u001b[39m,\u001b[38;5;241m0\u001b[39m), \u001b[38;5;241m-\u001b[39m\u001b[38;5;241m1\u001b[39m)\n",
      "\u001b[1;31mAttributeError\u001b[0m: module 'cv2' has no attribute 'EVENT_LBUTTONDBCLK'"
     ]
    },
    {
     "ename": "AttributeError",
     "evalue": "module 'cv2' has no attribute 'EVENT_LBUTTONDBCLK'",
     "output_type": "error",
     "traceback": [
      "\u001b[1;31m---------------------------------------------------------------------------\u001b[0m",
      "\u001b[1;31mAttributeError\u001b[0m                            Traceback (most recent call last)",
      "Cell \u001b[1;32mIn[6], line 12\u001b[0m, in \u001b[0;36mdraw_circle\u001b[1;34m(event, x, y, flags, param)\u001b[0m\n\u001b[0;32m     10\u001b[0m \u001b[38;5;28;01melif\u001b[39;00m event \u001b[38;5;241m==\u001b[39m cv2\u001b[38;5;241m.\u001b[39mEVENT_RBUTTONDOWN:\n\u001b[0;32m     11\u001b[0m     cv2\u001b[38;5;241m.\u001b[39mcircle(img, (x,y), \u001b[38;5;241m10\u001b[39m, (\u001b[38;5;241m255\u001b[39m,\u001b[38;5;241m0\u001b[39m,\u001b[38;5;241m0\u001b[39m), \u001b[38;5;241m2\u001b[39m)\n\u001b[1;32m---> 12\u001b[0m \u001b[38;5;28;01melif\u001b[39;00m event \u001b[38;5;241m==\u001b[39m \u001b[43mcv2\u001b[49m\u001b[38;5;241;43m.\u001b[39;49m\u001b[43mEVENT_LBUTTONDBCLK\u001b[49m:\n\u001b[0;32m     13\u001b[0m     cv2\u001b[38;5;241m.\u001b[39mcircle(img, (x,y), \u001b[38;5;241m20\u001b[39m, (\u001b[38;5;241m255\u001b[39m,\u001b[38;5;241m0\u001b[39m,\u001b[38;5;241m0\u001b[39m), \u001b[38;5;241m-\u001b[39m\u001b[38;5;241m1\u001b[39m)\n",
      "\u001b[1;31mAttributeError\u001b[0m: module 'cv2' has no attribute 'EVENT_LBUTTONDBCLK'"
     ]
    },
    {
     "ename": "AttributeError",
     "evalue": "module 'cv2' has no attribute 'EVENT_LBUTTONDBCLK'",
     "output_type": "error",
     "traceback": [
      "\u001b[1;31m---------------------------------------------------------------------------\u001b[0m",
      "\u001b[1;31mAttributeError\u001b[0m                            Traceback (most recent call last)",
      "Cell \u001b[1;32mIn[6], line 12\u001b[0m, in \u001b[0;36mdraw_circle\u001b[1;34m(event, x, y, flags, param)\u001b[0m\n\u001b[0;32m     10\u001b[0m \u001b[38;5;28;01melif\u001b[39;00m event \u001b[38;5;241m==\u001b[39m cv2\u001b[38;5;241m.\u001b[39mEVENT_RBUTTONDOWN:\n\u001b[0;32m     11\u001b[0m     cv2\u001b[38;5;241m.\u001b[39mcircle(img, (x,y), \u001b[38;5;241m10\u001b[39m, (\u001b[38;5;241m255\u001b[39m,\u001b[38;5;241m0\u001b[39m,\u001b[38;5;241m0\u001b[39m), \u001b[38;5;241m2\u001b[39m)\n\u001b[1;32m---> 12\u001b[0m \u001b[38;5;28;01melif\u001b[39;00m event \u001b[38;5;241m==\u001b[39m \u001b[43mcv2\u001b[49m\u001b[38;5;241;43m.\u001b[39;49m\u001b[43mEVENT_LBUTTONDBCLK\u001b[49m:\n\u001b[0;32m     13\u001b[0m     cv2\u001b[38;5;241m.\u001b[39mcircle(img, (x,y), \u001b[38;5;241m20\u001b[39m, (\u001b[38;5;241m255\u001b[39m,\u001b[38;5;241m0\u001b[39m,\u001b[38;5;241m0\u001b[39m), \u001b[38;5;241m-\u001b[39m\u001b[38;5;241m1\u001b[39m)\n",
      "\u001b[1;31mAttributeError\u001b[0m: module 'cv2' has no attribute 'EVENT_LBUTTONDBCLK'"
     ]
    },
    {
     "ename": "AttributeError",
     "evalue": "module 'cv2' has no attribute 'EVENT_LBUTTONDBCLK'",
     "output_type": "error",
     "traceback": [
      "\u001b[1;31m---------------------------------------------------------------------------\u001b[0m",
      "\u001b[1;31mAttributeError\u001b[0m                            Traceback (most recent call last)",
      "Cell \u001b[1;32mIn[6], line 12\u001b[0m, in \u001b[0;36mdraw_circle\u001b[1;34m(event, x, y, flags, param)\u001b[0m\n\u001b[0;32m     10\u001b[0m \u001b[38;5;28;01melif\u001b[39;00m event \u001b[38;5;241m==\u001b[39m cv2\u001b[38;5;241m.\u001b[39mEVENT_RBUTTONDOWN:\n\u001b[0;32m     11\u001b[0m     cv2\u001b[38;5;241m.\u001b[39mcircle(img, (x,y), \u001b[38;5;241m10\u001b[39m, (\u001b[38;5;241m255\u001b[39m,\u001b[38;5;241m0\u001b[39m,\u001b[38;5;241m0\u001b[39m), \u001b[38;5;241m2\u001b[39m)\n\u001b[1;32m---> 12\u001b[0m \u001b[38;5;28;01melif\u001b[39;00m event \u001b[38;5;241m==\u001b[39m \u001b[43mcv2\u001b[49m\u001b[38;5;241;43m.\u001b[39;49m\u001b[43mEVENT_LBUTTONDBCLK\u001b[49m:\n\u001b[0;32m     13\u001b[0m     cv2\u001b[38;5;241m.\u001b[39mcircle(img, (x,y), \u001b[38;5;241m20\u001b[39m, (\u001b[38;5;241m255\u001b[39m,\u001b[38;5;241m0\u001b[39m,\u001b[38;5;241m0\u001b[39m), \u001b[38;5;241m-\u001b[39m\u001b[38;5;241m1\u001b[39m)\n",
      "\u001b[1;31mAttributeError\u001b[0m: module 'cv2' has no attribute 'EVENT_LBUTTONDBCLK'"
     ]
    },
    {
     "ename": "AttributeError",
     "evalue": "module 'cv2' has no attribute 'EVENT_LBUTTONDBCLK'",
     "output_type": "error",
     "traceback": [
      "\u001b[1;31m---------------------------------------------------------------------------\u001b[0m",
      "\u001b[1;31mAttributeError\u001b[0m                            Traceback (most recent call last)",
      "Cell \u001b[1;32mIn[6], line 12\u001b[0m, in \u001b[0;36mdraw_circle\u001b[1;34m(event, x, y, flags, param)\u001b[0m\n\u001b[0;32m     10\u001b[0m \u001b[38;5;28;01melif\u001b[39;00m event \u001b[38;5;241m==\u001b[39m cv2\u001b[38;5;241m.\u001b[39mEVENT_RBUTTONDOWN:\n\u001b[0;32m     11\u001b[0m     cv2\u001b[38;5;241m.\u001b[39mcircle(img, (x,y), \u001b[38;5;241m10\u001b[39m, (\u001b[38;5;241m255\u001b[39m,\u001b[38;5;241m0\u001b[39m,\u001b[38;5;241m0\u001b[39m), \u001b[38;5;241m2\u001b[39m)\n\u001b[1;32m---> 12\u001b[0m \u001b[38;5;28;01melif\u001b[39;00m event \u001b[38;5;241m==\u001b[39m \u001b[43mcv2\u001b[49m\u001b[38;5;241;43m.\u001b[39;49m\u001b[43mEVENT_LBUTTONDBCLK\u001b[49m:\n\u001b[0;32m     13\u001b[0m     cv2\u001b[38;5;241m.\u001b[39mcircle(img, (x,y), \u001b[38;5;241m20\u001b[39m, (\u001b[38;5;241m255\u001b[39m,\u001b[38;5;241m0\u001b[39m,\u001b[38;5;241m0\u001b[39m), \u001b[38;5;241m-\u001b[39m\u001b[38;5;241m1\u001b[39m)\n",
      "\u001b[1;31mAttributeError\u001b[0m: module 'cv2' has no attribute 'EVENT_LBUTTONDBCLK'"
     ]
    },
    {
     "ename": "AttributeError",
     "evalue": "module 'cv2' has no attribute 'EVENT_LBUTTONDBCLK'",
     "output_type": "error",
     "traceback": [
      "\u001b[1;31m---------------------------------------------------------------------------\u001b[0m",
      "\u001b[1;31mAttributeError\u001b[0m                            Traceback (most recent call last)",
      "Cell \u001b[1;32mIn[6], line 12\u001b[0m, in \u001b[0;36mdraw_circle\u001b[1;34m(event, x, y, flags, param)\u001b[0m\n\u001b[0;32m     10\u001b[0m \u001b[38;5;28;01melif\u001b[39;00m event \u001b[38;5;241m==\u001b[39m cv2\u001b[38;5;241m.\u001b[39mEVENT_RBUTTONDOWN:\n\u001b[0;32m     11\u001b[0m     cv2\u001b[38;5;241m.\u001b[39mcircle(img, (x,y), \u001b[38;5;241m10\u001b[39m, (\u001b[38;5;241m255\u001b[39m,\u001b[38;5;241m0\u001b[39m,\u001b[38;5;241m0\u001b[39m), \u001b[38;5;241m2\u001b[39m)\n\u001b[1;32m---> 12\u001b[0m \u001b[38;5;28;01melif\u001b[39;00m event \u001b[38;5;241m==\u001b[39m \u001b[43mcv2\u001b[49m\u001b[38;5;241;43m.\u001b[39;49m\u001b[43mEVENT_LBUTTONDBCLK\u001b[49m:\n\u001b[0;32m     13\u001b[0m     cv2\u001b[38;5;241m.\u001b[39mcircle(img, (x,y), \u001b[38;5;241m20\u001b[39m, (\u001b[38;5;241m255\u001b[39m,\u001b[38;5;241m0\u001b[39m,\u001b[38;5;241m0\u001b[39m), \u001b[38;5;241m-\u001b[39m\u001b[38;5;241m1\u001b[39m)\n",
      "\u001b[1;31mAttributeError\u001b[0m: module 'cv2' has no attribute 'EVENT_LBUTTONDBCLK'"
     ]
    },
    {
     "ename": "AttributeError",
     "evalue": "module 'cv2' has no attribute 'EVENT_LBUTTONDBCLK'",
     "output_type": "error",
     "traceback": [
      "\u001b[1;31m---------------------------------------------------------------------------\u001b[0m",
      "\u001b[1;31mAttributeError\u001b[0m                            Traceback (most recent call last)",
      "Cell \u001b[1;32mIn[6], line 12\u001b[0m, in \u001b[0;36mdraw_circle\u001b[1;34m(event, x, y, flags, param)\u001b[0m\n\u001b[0;32m     10\u001b[0m \u001b[38;5;28;01melif\u001b[39;00m event \u001b[38;5;241m==\u001b[39m cv2\u001b[38;5;241m.\u001b[39mEVENT_RBUTTONDOWN:\n\u001b[0;32m     11\u001b[0m     cv2\u001b[38;5;241m.\u001b[39mcircle(img, (x,y), \u001b[38;5;241m10\u001b[39m, (\u001b[38;5;241m255\u001b[39m,\u001b[38;5;241m0\u001b[39m,\u001b[38;5;241m0\u001b[39m), \u001b[38;5;241m2\u001b[39m)\n\u001b[1;32m---> 12\u001b[0m \u001b[38;5;28;01melif\u001b[39;00m event \u001b[38;5;241m==\u001b[39m \u001b[43mcv2\u001b[49m\u001b[38;5;241;43m.\u001b[39;49m\u001b[43mEVENT_LBUTTONDBCLK\u001b[49m:\n\u001b[0;32m     13\u001b[0m     cv2\u001b[38;5;241m.\u001b[39mcircle(img, (x,y), \u001b[38;5;241m20\u001b[39m, (\u001b[38;5;241m255\u001b[39m,\u001b[38;5;241m0\u001b[39m,\u001b[38;5;241m0\u001b[39m), \u001b[38;5;241m-\u001b[39m\u001b[38;5;241m1\u001b[39m)\n",
      "\u001b[1;31mAttributeError\u001b[0m: module 'cv2' has no attribute 'EVENT_LBUTTONDBCLK'"
     ]
    },
    {
     "ename": "AttributeError",
     "evalue": "module 'cv2' has no attribute 'EVENT_LBUTTONDBCLK'",
     "output_type": "error",
     "traceback": [
      "\u001b[1;31m---------------------------------------------------------------------------\u001b[0m",
      "\u001b[1;31mAttributeError\u001b[0m                            Traceback (most recent call last)",
      "Cell \u001b[1;32mIn[6], line 12\u001b[0m, in \u001b[0;36mdraw_circle\u001b[1;34m(event, x, y, flags, param)\u001b[0m\n\u001b[0;32m     10\u001b[0m \u001b[38;5;28;01melif\u001b[39;00m event \u001b[38;5;241m==\u001b[39m cv2\u001b[38;5;241m.\u001b[39mEVENT_RBUTTONDOWN:\n\u001b[0;32m     11\u001b[0m     cv2\u001b[38;5;241m.\u001b[39mcircle(img, (x,y), \u001b[38;5;241m10\u001b[39m, (\u001b[38;5;241m255\u001b[39m,\u001b[38;5;241m0\u001b[39m,\u001b[38;5;241m0\u001b[39m), \u001b[38;5;241m2\u001b[39m)\n\u001b[1;32m---> 12\u001b[0m \u001b[38;5;28;01melif\u001b[39;00m event \u001b[38;5;241m==\u001b[39m \u001b[43mcv2\u001b[49m\u001b[38;5;241;43m.\u001b[39;49m\u001b[43mEVENT_LBUTTONDBCLK\u001b[49m:\n\u001b[0;32m     13\u001b[0m     cv2\u001b[38;5;241m.\u001b[39mcircle(img, (x,y), \u001b[38;5;241m20\u001b[39m, (\u001b[38;5;241m255\u001b[39m,\u001b[38;5;241m0\u001b[39m,\u001b[38;5;241m0\u001b[39m), \u001b[38;5;241m-\u001b[39m\u001b[38;5;241m1\u001b[39m)\n",
      "\u001b[1;31mAttributeError\u001b[0m: module 'cv2' has no attribute 'EVENT_LBUTTONDBCLK'"
     ]
    },
    {
     "ename": "AttributeError",
     "evalue": "module 'cv2' has no attribute 'EVENT_LBUTTONDBCLK'",
     "output_type": "error",
     "traceback": [
      "\u001b[1;31m---------------------------------------------------------------------------\u001b[0m",
      "\u001b[1;31mAttributeError\u001b[0m                            Traceback (most recent call last)",
      "Cell \u001b[1;32mIn[6], line 12\u001b[0m, in \u001b[0;36mdraw_circle\u001b[1;34m(event, x, y, flags, param)\u001b[0m\n\u001b[0;32m     10\u001b[0m \u001b[38;5;28;01melif\u001b[39;00m event \u001b[38;5;241m==\u001b[39m cv2\u001b[38;5;241m.\u001b[39mEVENT_RBUTTONDOWN:\n\u001b[0;32m     11\u001b[0m     cv2\u001b[38;5;241m.\u001b[39mcircle(img, (x,y), \u001b[38;5;241m10\u001b[39m, (\u001b[38;5;241m255\u001b[39m,\u001b[38;5;241m0\u001b[39m,\u001b[38;5;241m0\u001b[39m), \u001b[38;5;241m2\u001b[39m)\n\u001b[1;32m---> 12\u001b[0m \u001b[38;5;28;01melif\u001b[39;00m event \u001b[38;5;241m==\u001b[39m \u001b[43mcv2\u001b[49m\u001b[38;5;241;43m.\u001b[39;49m\u001b[43mEVENT_LBUTTONDBCLK\u001b[49m:\n\u001b[0;32m     13\u001b[0m     cv2\u001b[38;5;241m.\u001b[39mcircle(img, (x,y), \u001b[38;5;241m20\u001b[39m, (\u001b[38;5;241m255\u001b[39m,\u001b[38;5;241m0\u001b[39m,\u001b[38;5;241m0\u001b[39m), \u001b[38;5;241m-\u001b[39m\u001b[38;5;241m1\u001b[39m)\n",
      "\u001b[1;31mAttributeError\u001b[0m: module 'cv2' has no attribute 'EVENT_LBUTTONDBCLK'"
     ]
    },
    {
     "ename": "AttributeError",
     "evalue": "module 'cv2' has no attribute 'EVENT_LBUTTONDBCLK'",
     "output_type": "error",
     "traceback": [
      "\u001b[1;31m---------------------------------------------------------------------------\u001b[0m",
      "\u001b[1;31mAttributeError\u001b[0m                            Traceback (most recent call last)",
      "Cell \u001b[1;32mIn[6], line 12\u001b[0m, in \u001b[0;36mdraw_circle\u001b[1;34m(event, x, y, flags, param)\u001b[0m\n\u001b[0;32m     10\u001b[0m \u001b[38;5;28;01melif\u001b[39;00m event \u001b[38;5;241m==\u001b[39m cv2\u001b[38;5;241m.\u001b[39mEVENT_RBUTTONDOWN:\n\u001b[0;32m     11\u001b[0m     cv2\u001b[38;5;241m.\u001b[39mcircle(img, (x,y), \u001b[38;5;241m10\u001b[39m, (\u001b[38;5;241m255\u001b[39m,\u001b[38;5;241m0\u001b[39m,\u001b[38;5;241m0\u001b[39m), \u001b[38;5;241m2\u001b[39m)\n\u001b[1;32m---> 12\u001b[0m \u001b[38;5;28;01melif\u001b[39;00m event \u001b[38;5;241m==\u001b[39m \u001b[43mcv2\u001b[49m\u001b[38;5;241;43m.\u001b[39;49m\u001b[43mEVENT_LBUTTONDBCLK\u001b[49m:\n\u001b[0;32m     13\u001b[0m     cv2\u001b[38;5;241m.\u001b[39mcircle(img, (x,y), \u001b[38;5;241m20\u001b[39m, (\u001b[38;5;241m255\u001b[39m,\u001b[38;5;241m0\u001b[39m,\u001b[38;5;241m0\u001b[39m), \u001b[38;5;241m-\u001b[39m\u001b[38;5;241m1\u001b[39m)\n",
      "\u001b[1;31mAttributeError\u001b[0m: module 'cv2' has no attribute 'EVENT_LBUTTONDBCLK'"
     ]
    },
    {
     "ename": "AttributeError",
     "evalue": "module 'cv2' has no attribute 'EVENT_LBUTTONDBCLK'",
     "output_type": "error",
     "traceback": [
      "\u001b[1;31m---------------------------------------------------------------------------\u001b[0m",
      "\u001b[1;31mAttributeError\u001b[0m                            Traceback (most recent call last)",
      "Cell \u001b[1;32mIn[6], line 12\u001b[0m, in \u001b[0;36mdraw_circle\u001b[1;34m(event, x, y, flags, param)\u001b[0m\n\u001b[0;32m     10\u001b[0m \u001b[38;5;28;01melif\u001b[39;00m event \u001b[38;5;241m==\u001b[39m cv2\u001b[38;5;241m.\u001b[39mEVENT_RBUTTONDOWN:\n\u001b[0;32m     11\u001b[0m     cv2\u001b[38;5;241m.\u001b[39mcircle(img, (x,y), \u001b[38;5;241m10\u001b[39m, (\u001b[38;5;241m255\u001b[39m,\u001b[38;5;241m0\u001b[39m,\u001b[38;5;241m0\u001b[39m), \u001b[38;5;241m2\u001b[39m)\n\u001b[1;32m---> 12\u001b[0m \u001b[38;5;28;01melif\u001b[39;00m event \u001b[38;5;241m==\u001b[39m \u001b[43mcv2\u001b[49m\u001b[38;5;241;43m.\u001b[39;49m\u001b[43mEVENT_LBUTTONDBCLK\u001b[49m:\n\u001b[0;32m     13\u001b[0m     cv2\u001b[38;5;241m.\u001b[39mcircle(img, (x,y), \u001b[38;5;241m20\u001b[39m, (\u001b[38;5;241m255\u001b[39m,\u001b[38;5;241m0\u001b[39m,\u001b[38;5;241m0\u001b[39m), \u001b[38;5;241m-\u001b[39m\u001b[38;5;241m1\u001b[39m)\n",
      "\u001b[1;31mAttributeError\u001b[0m: module 'cv2' has no attribute 'EVENT_LBUTTONDBCLK'"
     ]
    },
    {
     "ename": "AttributeError",
     "evalue": "module 'cv2' has no attribute 'EVENT_LBUTTONDBCLK'",
     "output_type": "error",
     "traceback": [
      "\u001b[1;31m---------------------------------------------------------------------------\u001b[0m",
      "\u001b[1;31mAttributeError\u001b[0m                            Traceback (most recent call last)",
      "Cell \u001b[1;32mIn[6], line 12\u001b[0m, in \u001b[0;36mdraw_circle\u001b[1;34m(event, x, y, flags, param)\u001b[0m\n\u001b[0;32m     10\u001b[0m \u001b[38;5;28;01melif\u001b[39;00m event \u001b[38;5;241m==\u001b[39m cv2\u001b[38;5;241m.\u001b[39mEVENT_RBUTTONDOWN:\n\u001b[0;32m     11\u001b[0m     cv2\u001b[38;5;241m.\u001b[39mcircle(img, (x,y), \u001b[38;5;241m10\u001b[39m, (\u001b[38;5;241m255\u001b[39m,\u001b[38;5;241m0\u001b[39m,\u001b[38;5;241m0\u001b[39m), \u001b[38;5;241m2\u001b[39m)\n\u001b[1;32m---> 12\u001b[0m \u001b[38;5;28;01melif\u001b[39;00m event \u001b[38;5;241m==\u001b[39m \u001b[43mcv2\u001b[49m\u001b[38;5;241;43m.\u001b[39;49m\u001b[43mEVENT_LBUTTONDBCLK\u001b[49m:\n\u001b[0;32m     13\u001b[0m     cv2\u001b[38;5;241m.\u001b[39mcircle(img, (x,y), \u001b[38;5;241m20\u001b[39m, (\u001b[38;5;241m255\u001b[39m,\u001b[38;5;241m0\u001b[39m,\u001b[38;5;241m0\u001b[39m), \u001b[38;5;241m-\u001b[39m\u001b[38;5;241m1\u001b[39m)\n",
      "\u001b[1;31mAttributeError\u001b[0m: module 'cv2' has no attribute 'EVENT_LBUTTONDBCLK'"
     ]
    },
    {
     "ename": "AttributeError",
     "evalue": "module 'cv2' has no attribute 'EVENT_LBUTTONDBCLK'",
     "output_type": "error",
     "traceback": [
      "\u001b[1;31m---------------------------------------------------------------------------\u001b[0m",
      "\u001b[1;31mAttributeError\u001b[0m                            Traceback (most recent call last)",
      "Cell \u001b[1;32mIn[6], line 12\u001b[0m, in \u001b[0;36mdraw_circle\u001b[1;34m(event, x, y, flags, param)\u001b[0m\n\u001b[0;32m     10\u001b[0m \u001b[38;5;28;01melif\u001b[39;00m event \u001b[38;5;241m==\u001b[39m cv2\u001b[38;5;241m.\u001b[39mEVENT_RBUTTONDOWN:\n\u001b[0;32m     11\u001b[0m     cv2\u001b[38;5;241m.\u001b[39mcircle(img, (x,y), \u001b[38;5;241m10\u001b[39m, (\u001b[38;5;241m255\u001b[39m,\u001b[38;5;241m0\u001b[39m,\u001b[38;5;241m0\u001b[39m), \u001b[38;5;241m2\u001b[39m)\n\u001b[1;32m---> 12\u001b[0m \u001b[38;5;28;01melif\u001b[39;00m event \u001b[38;5;241m==\u001b[39m \u001b[43mcv2\u001b[49m\u001b[38;5;241;43m.\u001b[39;49m\u001b[43mEVENT_LBUTTONDBCLK\u001b[49m:\n\u001b[0;32m     13\u001b[0m     cv2\u001b[38;5;241m.\u001b[39mcircle(img, (x,y), \u001b[38;5;241m20\u001b[39m, (\u001b[38;5;241m255\u001b[39m,\u001b[38;5;241m0\u001b[39m,\u001b[38;5;241m0\u001b[39m), \u001b[38;5;241m-\u001b[39m\u001b[38;5;241m1\u001b[39m)\n",
      "\u001b[1;31mAttributeError\u001b[0m: module 'cv2' has no attribute 'EVENT_LBUTTONDBCLK'"
     ]
    },
    {
     "ename": "AttributeError",
     "evalue": "module 'cv2' has no attribute 'EVENT_LBUTTONDBCLK'",
     "output_type": "error",
     "traceback": [
      "\u001b[1;31m---------------------------------------------------------------------------\u001b[0m",
      "\u001b[1;31mAttributeError\u001b[0m                            Traceback (most recent call last)",
      "Cell \u001b[1;32mIn[6], line 12\u001b[0m, in \u001b[0;36mdraw_circle\u001b[1;34m(event, x, y, flags, param)\u001b[0m\n\u001b[0;32m     10\u001b[0m \u001b[38;5;28;01melif\u001b[39;00m event \u001b[38;5;241m==\u001b[39m cv2\u001b[38;5;241m.\u001b[39mEVENT_RBUTTONDOWN:\n\u001b[0;32m     11\u001b[0m     cv2\u001b[38;5;241m.\u001b[39mcircle(img, (x,y), \u001b[38;5;241m10\u001b[39m, (\u001b[38;5;241m255\u001b[39m,\u001b[38;5;241m0\u001b[39m,\u001b[38;5;241m0\u001b[39m), \u001b[38;5;241m2\u001b[39m)\n\u001b[1;32m---> 12\u001b[0m \u001b[38;5;28;01melif\u001b[39;00m event \u001b[38;5;241m==\u001b[39m \u001b[43mcv2\u001b[49m\u001b[38;5;241;43m.\u001b[39;49m\u001b[43mEVENT_LBUTTONDBCLK\u001b[49m:\n\u001b[0;32m     13\u001b[0m     cv2\u001b[38;5;241m.\u001b[39mcircle(img, (x,y), \u001b[38;5;241m20\u001b[39m, (\u001b[38;5;241m255\u001b[39m,\u001b[38;5;241m0\u001b[39m,\u001b[38;5;241m0\u001b[39m), \u001b[38;5;241m-\u001b[39m\u001b[38;5;241m1\u001b[39m)\n",
      "\u001b[1;31mAttributeError\u001b[0m: module 'cv2' has no attribute 'EVENT_LBUTTONDBCLK'"
     ]
    },
    {
     "ename": "AttributeError",
     "evalue": "module 'cv2' has no attribute 'EVENT_LBUTTONDBCLK'",
     "output_type": "error",
     "traceback": [
      "\u001b[1;31m---------------------------------------------------------------------------\u001b[0m",
      "\u001b[1;31mAttributeError\u001b[0m                            Traceback (most recent call last)",
      "Cell \u001b[1;32mIn[6], line 12\u001b[0m, in \u001b[0;36mdraw_circle\u001b[1;34m(event, x, y, flags, param)\u001b[0m\n\u001b[0;32m     10\u001b[0m \u001b[38;5;28;01melif\u001b[39;00m event \u001b[38;5;241m==\u001b[39m cv2\u001b[38;5;241m.\u001b[39mEVENT_RBUTTONDOWN:\n\u001b[0;32m     11\u001b[0m     cv2\u001b[38;5;241m.\u001b[39mcircle(img, (x,y), \u001b[38;5;241m10\u001b[39m, (\u001b[38;5;241m255\u001b[39m,\u001b[38;5;241m0\u001b[39m,\u001b[38;5;241m0\u001b[39m), \u001b[38;5;241m2\u001b[39m)\n\u001b[1;32m---> 12\u001b[0m \u001b[38;5;28;01melif\u001b[39;00m event \u001b[38;5;241m==\u001b[39m \u001b[43mcv2\u001b[49m\u001b[38;5;241;43m.\u001b[39;49m\u001b[43mEVENT_LBUTTONDBCLK\u001b[49m:\n\u001b[0;32m     13\u001b[0m     cv2\u001b[38;5;241m.\u001b[39mcircle(img, (x,y), \u001b[38;5;241m20\u001b[39m, (\u001b[38;5;241m255\u001b[39m,\u001b[38;5;241m0\u001b[39m,\u001b[38;5;241m0\u001b[39m), \u001b[38;5;241m-\u001b[39m\u001b[38;5;241m1\u001b[39m)\n",
      "\u001b[1;31mAttributeError\u001b[0m: module 'cv2' has no attribute 'EVENT_LBUTTONDBCLK'"
     ]
    },
    {
     "ename": "AttributeError",
     "evalue": "module 'cv2' has no attribute 'EVENT_LBUTTONDBCLK'",
     "output_type": "error",
     "traceback": [
      "\u001b[1;31m---------------------------------------------------------------------------\u001b[0m",
      "\u001b[1;31mAttributeError\u001b[0m                            Traceback (most recent call last)",
      "Cell \u001b[1;32mIn[6], line 12\u001b[0m, in \u001b[0;36mdraw_circle\u001b[1;34m(event, x, y, flags, param)\u001b[0m\n\u001b[0;32m     10\u001b[0m \u001b[38;5;28;01melif\u001b[39;00m event \u001b[38;5;241m==\u001b[39m cv2\u001b[38;5;241m.\u001b[39mEVENT_RBUTTONDOWN:\n\u001b[0;32m     11\u001b[0m     cv2\u001b[38;5;241m.\u001b[39mcircle(img, (x,y), \u001b[38;5;241m10\u001b[39m, (\u001b[38;5;241m255\u001b[39m,\u001b[38;5;241m0\u001b[39m,\u001b[38;5;241m0\u001b[39m), \u001b[38;5;241m2\u001b[39m)\n\u001b[1;32m---> 12\u001b[0m \u001b[38;5;28;01melif\u001b[39;00m event \u001b[38;5;241m==\u001b[39m \u001b[43mcv2\u001b[49m\u001b[38;5;241;43m.\u001b[39;49m\u001b[43mEVENT_LBUTTONDBCLK\u001b[49m:\n\u001b[0;32m     13\u001b[0m     cv2\u001b[38;5;241m.\u001b[39mcircle(img, (x,y), \u001b[38;5;241m20\u001b[39m, (\u001b[38;5;241m255\u001b[39m,\u001b[38;5;241m0\u001b[39m,\u001b[38;5;241m0\u001b[39m), \u001b[38;5;241m-\u001b[39m\u001b[38;5;241m1\u001b[39m)\n",
      "\u001b[1;31mAttributeError\u001b[0m: module 'cv2' has no attribute 'EVENT_LBUTTONDBCLK'"
     ]
    },
    {
     "ename": "AttributeError",
     "evalue": "module 'cv2' has no attribute 'EVENT_LBUTTONDBCLK'",
     "output_type": "error",
     "traceback": [
      "\u001b[1;31m---------------------------------------------------------------------------\u001b[0m",
      "\u001b[1;31mAttributeError\u001b[0m                            Traceback (most recent call last)",
      "Cell \u001b[1;32mIn[6], line 12\u001b[0m, in \u001b[0;36mdraw_circle\u001b[1;34m(event, x, y, flags, param)\u001b[0m\n\u001b[0;32m     10\u001b[0m \u001b[38;5;28;01melif\u001b[39;00m event \u001b[38;5;241m==\u001b[39m cv2\u001b[38;5;241m.\u001b[39mEVENT_RBUTTONDOWN:\n\u001b[0;32m     11\u001b[0m     cv2\u001b[38;5;241m.\u001b[39mcircle(img, (x,y), \u001b[38;5;241m10\u001b[39m, (\u001b[38;5;241m255\u001b[39m,\u001b[38;5;241m0\u001b[39m,\u001b[38;5;241m0\u001b[39m), \u001b[38;5;241m2\u001b[39m)\n\u001b[1;32m---> 12\u001b[0m \u001b[38;5;28;01melif\u001b[39;00m event \u001b[38;5;241m==\u001b[39m \u001b[43mcv2\u001b[49m\u001b[38;5;241;43m.\u001b[39;49m\u001b[43mEVENT_LBUTTONDBCLK\u001b[49m:\n\u001b[0;32m     13\u001b[0m     cv2\u001b[38;5;241m.\u001b[39mcircle(img, (x,y), \u001b[38;5;241m20\u001b[39m, (\u001b[38;5;241m255\u001b[39m,\u001b[38;5;241m0\u001b[39m,\u001b[38;5;241m0\u001b[39m), \u001b[38;5;241m-\u001b[39m\u001b[38;5;241m1\u001b[39m)\n",
      "\u001b[1;31mAttributeError\u001b[0m: module 'cv2' has no attribute 'EVENT_LBUTTONDBCLK'"
     ]
    },
    {
     "ename": "AttributeError",
     "evalue": "module 'cv2' has no attribute 'EVENT_LBUTTONDBCLK'",
     "output_type": "error",
     "traceback": [
      "\u001b[1;31m---------------------------------------------------------------------------\u001b[0m",
      "\u001b[1;31mAttributeError\u001b[0m                            Traceback (most recent call last)",
      "Cell \u001b[1;32mIn[6], line 12\u001b[0m, in \u001b[0;36mdraw_circle\u001b[1;34m(event, x, y, flags, param)\u001b[0m\n\u001b[0;32m     10\u001b[0m \u001b[38;5;28;01melif\u001b[39;00m event \u001b[38;5;241m==\u001b[39m cv2\u001b[38;5;241m.\u001b[39mEVENT_RBUTTONDOWN:\n\u001b[0;32m     11\u001b[0m     cv2\u001b[38;5;241m.\u001b[39mcircle(img, (x,y), \u001b[38;5;241m10\u001b[39m, (\u001b[38;5;241m255\u001b[39m,\u001b[38;5;241m0\u001b[39m,\u001b[38;5;241m0\u001b[39m), \u001b[38;5;241m2\u001b[39m)\n\u001b[1;32m---> 12\u001b[0m \u001b[38;5;28;01melif\u001b[39;00m event \u001b[38;5;241m==\u001b[39m \u001b[43mcv2\u001b[49m\u001b[38;5;241;43m.\u001b[39;49m\u001b[43mEVENT_LBUTTONDBCLK\u001b[49m:\n\u001b[0;32m     13\u001b[0m     cv2\u001b[38;5;241m.\u001b[39mcircle(img, (x,y), \u001b[38;5;241m20\u001b[39m, (\u001b[38;5;241m255\u001b[39m,\u001b[38;5;241m0\u001b[39m,\u001b[38;5;241m0\u001b[39m), \u001b[38;5;241m-\u001b[39m\u001b[38;5;241m1\u001b[39m)\n",
      "\u001b[1;31mAttributeError\u001b[0m: module 'cv2' has no attribute 'EVENT_LBUTTONDBCLK'"
     ]
    },
    {
     "ename": "AttributeError",
     "evalue": "module 'cv2' has no attribute 'EVENT_LBUTTONDBCLK'",
     "output_type": "error",
     "traceback": [
      "\u001b[1;31m---------------------------------------------------------------------------\u001b[0m",
      "\u001b[1;31mAttributeError\u001b[0m                            Traceback (most recent call last)",
      "Cell \u001b[1;32mIn[6], line 12\u001b[0m, in \u001b[0;36mdraw_circle\u001b[1;34m(event, x, y, flags, param)\u001b[0m\n\u001b[0;32m     10\u001b[0m \u001b[38;5;28;01melif\u001b[39;00m event \u001b[38;5;241m==\u001b[39m cv2\u001b[38;5;241m.\u001b[39mEVENT_RBUTTONDOWN:\n\u001b[0;32m     11\u001b[0m     cv2\u001b[38;5;241m.\u001b[39mcircle(img, (x,y), \u001b[38;5;241m10\u001b[39m, (\u001b[38;5;241m255\u001b[39m,\u001b[38;5;241m0\u001b[39m,\u001b[38;5;241m0\u001b[39m), \u001b[38;5;241m2\u001b[39m)\n\u001b[1;32m---> 12\u001b[0m \u001b[38;5;28;01melif\u001b[39;00m event \u001b[38;5;241m==\u001b[39m \u001b[43mcv2\u001b[49m\u001b[38;5;241;43m.\u001b[39;49m\u001b[43mEVENT_LBUTTONDBCLK\u001b[49m:\n\u001b[0;32m     13\u001b[0m     cv2\u001b[38;5;241m.\u001b[39mcircle(img, (x,y), \u001b[38;5;241m20\u001b[39m, (\u001b[38;5;241m255\u001b[39m,\u001b[38;5;241m0\u001b[39m,\u001b[38;5;241m0\u001b[39m), \u001b[38;5;241m-\u001b[39m\u001b[38;5;241m1\u001b[39m)\n",
      "\u001b[1;31mAttributeError\u001b[0m: module 'cv2' has no attribute 'EVENT_LBUTTONDBCLK'"
     ]
    },
    {
     "ename": "AttributeError",
     "evalue": "module 'cv2' has no attribute 'EVENT_LBUTTONDBCLK'",
     "output_type": "error",
     "traceback": [
      "\u001b[1;31m---------------------------------------------------------------------------\u001b[0m",
      "\u001b[1;31mAttributeError\u001b[0m                            Traceback (most recent call last)",
      "Cell \u001b[1;32mIn[6], line 12\u001b[0m, in \u001b[0;36mdraw_circle\u001b[1;34m(event, x, y, flags, param)\u001b[0m\n\u001b[0;32m     10\u001b[0m \u001b[38;5;28;01melif\u001b[39;00m event \u001b[38;5;241m==\u001b[39m cv2\u001b[38;5;241m.\u001b[39mEVENT_RBUTTONDOWN:\n\u001b[0;32m     11\u001b[0m     cv2\u001b[38;5;241m.\u001b[39mcircle(img, (x,y), \u001b[38;5;241m10\u001b[39m, (\u001b[38;5;241m255\u001b[39m,\u001b[38;5;241m0\u001b[39m,\u001b[38;5;241m0\u001b[39m), \u001b[38;5;241m2\u001b[39m)\n\u001b[1;32m---> 12\u001b[0m \u001b[38;5;28;01melif\u001b[39;00m event \u001b[38;5;241m==\u001b[39m \u001b[43mcv2\u001b[49m\u001b[38;5;241;43m.\u001b[39;49m\u001b[43mEVENT_LBUTTONDBCLK\u001b[49m:\n\u001b[0;32m     13\u001b[0m     cv2\u001b[38;5;241m.\u001b[39mcircle(img, (x,y), \u001b[38;5;241m20\u001b[39m, (\u001b[38;5;241m255\u001b[39m,\u001b[38;5;241m0\u001b[39m,\u001b[38;5;241m0\u001b[39m), \u001b[38;5;241m-\u001b[39m\u001b[38;5;241m1\u001b[39m)\n",
      "\u001b[1;31mAttributeError\u001b[0m: module 'cv2' has no attribute 'EVENT_LBUTTONDBCLK'"
     ]
    },
    {
     "ename": "AttributeError",
     "evalue": "module 'cv2' has no attribute 'EVENT_LBUTTONDBCLK'",
     "output_type": "error",
     "traceback": [
      "\u001b[1;31m---------------------------------------------------------------------------\u001b[0m",
      "\u001b[1;31mAttributeError\u001b[0m                            Traceback (most recent call last)",
      "Cell \u001b[1;32mIn[6], line 12\u001b[0m, in \u001b[0;36mdraw_circle\u001b[1;34m(event, x, y, flags, param)\u001b[0m\n\u001b[0;32m     10\u001b[0m \u001b[38;5;28;01melif\u001b[39;00m event \u001b[38;5;241m==\u001b[39m cv2\u001b[38;5;241m.\u001b[39mEVENT_RBUTTONDOWN:\n\u001b[0;32m     11\u001b[0m     cv2\u001b[38;5;241m.\u001b[39mcircle(img, (x,y), \u001b[38;5;241m10\u001b[39m, (\u001b[38;5;241m255\u001b[39m,\u001b[38;5;241m0\u001b[39m,\u001b[38;5;241m0\u001b[39m), \u001b[38;5;241m2\u001b[39m)\n\u001b[1;32m---> 12\u001b[0m \u001b[38;5;28;01melif\u001b[39;00m event \u001b[38;5;241m==\u001b[39m \u001b[43mcv2\u001b[49m\u001b[38;5;241;43m.\u001b[39;49m\u001b[43mEVENT_LBUTTONDBCLK\u001b[49m:\n\u001b[0;32m     13\u001b[0m     cv2\u001b[38;5;241m.\u001b[39mcircle(img, (x,y), \u001b[38;5;241m20\u001b[39m, (\u001b[38;5;241m255\u001b[39m,\u001b[38;5;241m0\u001b[39m,\u001b[38;5;241m0\u001b[39m), \u001b[38;5;241m-\u001b[39m\u001b[38;5;241m1\u001b[39m)\n",
      "\u001b[1;31mAttributeError\u001b[0m: module 'cv2' has no attribute 'EVENT_LBUTTONDBCLK'"
     ]
    },
    {
     "ename": "AttributeError",
     "evalue": "module 'cv2' has no attribute 'EVENT_LBUTTONDBCLK'",
     "output_type": "error",
     "traceback": [
      "\u001b[1;31m---------------------------------------------------------------------------\u001b[0m",
      "\u001b[1;31mAttributeError\u001b[0m                            Traceback (most recent call last)",
      "Cell \u001b[1;32mIn[6], line 12\u001b[0m, in \u001b[0;36mdraw_circle\u001b[1;34m(event, x, y, flags, param)\u001b[0m\n\u001b[0;32m     10\u001b[0m \u001b[38;5;28;01melif\u001b[39;00m event \u001b[38;5;241m==\u001b[39m cv2\u001b[38;5;241m.\u001b[39mEVENT_RBUTTONDOWN:\n\u001b[0;32m     11\u001b[0m     cv2\u001b[38;5;241m.\u001b[39mcircle(img, (x,y), \u001b[38;5;241m10\u001b[39m, (\u001b[38;5;241m255\u001b[39m,\u001b[38;5;241m0\u001b[39m,\u001b[38;5;241m0\u001b[39m), \u001b[38;5;241m2\u001b[39m)\n\u001b[1;32m---> 12\u001b[0m \u001b[38;5;28;01melif\u001b[39;00m event \u001b[38;5;241m==\u001b[39m \u001b[43mcv2\u001b[49m\u001b[38;5;241;43m.\u001b[39;49m\u001b[43mEVENT_LBUTTONDBCLK\u001b[49m:\n\u001b[0;32m     13\u001b[0m     cv2\u001b[38;5;241m.\u001b[39mcircle(img, (x,y), \u001b[38;5;241m20\u001b[39m, (\u001b[38;5;241m255\u001b[39m,\u001b[38;5;241m0\u001b[39m,\u001b[38;5;241m0\u001b[39m), \u001b[38;5;241m-\u001b[39m\u001b[38;5;241m1\u001b[39m)\n",
      "\u001b[1;31mAttributeError\u001b[0m: module 'cv2' has no attribute 'EVENT_LBUTTONDBCLK'"
     ]
    },
    {
     "ename": "AttributeError",
     "evalue": "module 'cv2' has no attribute 'EVENT_LBUTTONDBCLK'",
     "output_type": "error",
     "traceback": [
      "\u001b[1;31m---------------------------------------------------------------------------\u001b[0m",
      "\u001b[1;31mAttributeError\u001b[0m                            Traceback (most recent call last)",
      "Cell \u001b[1;32mIn[6], line 12\u001b[0m, in \u001b[0;36mdraw_circle\u001b[1;34m(event, x, y, flags, param)\u001b[0m\n\u001b[0;32m     10\u001b[0m \u001b[38;5;28;01melif\u001b[39;00m event \u001b[38;5;241m==\u001b[39m cv2\u001b[38;5;241m.\u001b[39mEVENT_RBUTTONDOWN:\n\u001b[0;32m     11\u001b[0m     cv2\u001b[38;5;241m.\u001b[39mcircle(img, (x,y), \u001b[38;5;241m10\u001b[39m, (\u001b[38;5;241m255\u001b[39m,\u001b[38;5;241m0\u001b[39m,\u001b[38;5;241m0\u001b[39m), \u001b[38;5;241m2\u001b[39m)\n\u001b[1;32m---> 12\u001b[0m \u001b[38;5;28;01melif\u001b[39;00m event \u001b[38;5;241m==\u001b[39m \u001b[43mcv2\u001b[49m\u001b[38;5;241;43m.\u001b[39;49m\u001b[43mEVENT_LBUTTONDBCLK\u001b[49m:\n\u001b[0;32m     13\u001b[0m     cv2\u001b[38;5;241m.\u001b[39mcircle(img, (x,y), \u001b[38;5;241m20\u001b[39m, (\u001b[38;5;241m255\u001b[39m,\u001b[38;5;241m0\u001b[39m,\u001b[38;5;241m0\u001b[39m), \u001b[38;5;241m-\u001b[39m\u001b[38;5;241m1\u001b[39m)\n",
      "\u001b[1;31mAttributeError\u001b[0m: module 'cv2' has no attribute 'EVENT_LBUTTONDBCLK'"
     ]
    },
    {
     "ename": "AttributeError",
     "evalue": "module 'cv2' has no attribute 'EVENT_LBUTTONDBCLK'",
     "output_type": "error",
     "traceback": [
      "\u001b[1;31m---------------------------------------------------------------------------\u001b[0m",
      "\u001b[1;31mAttributeError\u001b[0m                            Traceback (most recent call last)",
      "Cell \u001b[1;32mIn[6], line 12\u001b[0m, in \u001b[0;36mdraw_circle\u001b[1;34m(event, x, y, flags, param)\u001b[0m\n\u001b[0;32m     10\u001b[0m \u001b[38;5;28;01melif\u001b[39;00m event \u001b[38;5;241m==\u001b[39m cv2\u001b[38;5;241m.\u001b[39mEVENT_RBUTTONDOWN:\n\u001b[0;32m     11\u001b[0m     cv2\u001b[38;5;241m.\u001b[39mcircle(img, (x,y), \u001b[38;5;241m10\u001b[39m, (\u001b[38;5;241m255\u001b[39m,\u001b[38;5;241m0\u001b[39m,\u001b[38;5;241m0\u001b[39m), \u001b[38;5;241m2\u001b[39m)\n\u001b[1;32m---> 12\u001b[0m \u001b[38;5;28;01melif\u001b[39;00m event \u001b[38;5;241m==\u001b[39m \u001b[43mcv2\u001b[49m\u001b[38;5;241;43m.\u001b[39;49m\u001b[43mEVENT_LBUTTONDBCLK\u001b[49m:\n\u001b[0;32m     13\u001b[0m     cv2\u001b[38;5;241m.\u001b[39mcircle(img, (x,y), \u001b[38;5;241m20\u001b[39m, (\u001b[38;5;241m255\u001b[39m,\u001b[38;5;241m0\u001b[39m,\u001b[38;5;241m0\u001b[39m), \u001b[38;5;241m-\u001b[39m\u001b[38;5;241m1\u001b[39m)\n",
      "\u001b[1;31mAttributeError\u001b[0m: module 'cv2' has no attribute 'EVENT_LBUTTONDBCLK'"
     ]
    },
    {
     "ename": "AttributeError",
     "evalue": "module 'cv2' has no attribute 'EVENT_LBUTTONDBCLK'",
     "output_type": "error",
     "traceback": [
      "\u001b[1;31m---------------------------------------------------------------------------\u001b[0m",
      "\u001b[1;31mAttributeError\u001b[0m                            Traceback (most recent call last)",
      "Cell \u001b[1;32mIn[6], line 12\u001b[0m, in \u001b[0;36mdraw_circle\u001b[1;34m(event, x, y, flags, param)\u001b[0m\n\u001b[0;32m     10\u001b[0m \u001b[38;5;28;01melif\u001b[39;00m event \u001b[38;5;241m==\u001b[39m cv2\u001b[38;5;241m.\u001b[39mEVENT_RBUTTONDOWN:\n\u001b[0;32m     11\u001b[0m     cv2\u001b[38;5;241m.\u001b[39mcircle(img, (x,y), \u001b[38;5;241m10\u001b[39m, (\u001b[38;5;241m255\u001b[39m,\u001b[38;5;241m0\u001b[39m,\u001b[38;5;241m0\u001b[39m), \u001b[38;5;241m2\u001b[39m)\n\u001b[1;32m---> 12\u001b[0m \u001b[38;5;28;01melif\u001b[39;00m event \u001b[38;5;241m==\u001b[39m \u001b[43mcv2\u001b[49m\u001b[38;5;241;43m.\u001b[39;49m\u001b[43mEVENT_LBUTTONDBCLK\u001b[49m:\n\u001b[0;32m     13\u001b[0m     cv2\u001b[38;5;241m.\u001b[39mcircle(img, (x,y), \u001b[38;5;241m20\u001b[39m, (\u001b[38;5;241m255\u001b[39m,\u001b[38;5;241m0\u001b[39m,\u001b[38;5;241m0\u001b[39m), \u001b[38;5;241m-\u001b[39m\u001b[38;5;241m1\u001b[39m)\n",
      "\u001b[1;31mAttributeError\u001b[0m: module 'cv2' has no attribute 'EVENT_LBUTTONDBCLK'"
     ]
    },
    {
     "ename": "AttributeError",
     "evalue": "module 'cv2' has no attribute 'EVENT_LBUTTONDBCLK'",
     "output_type": "error",
     "traceback": [
      "\u001b[1;31m---------------------------------------------------------------------------\u001b[0m",
      "\u001b[1;31mAttributeError\u001b[0m                            Traceback (most recent call last)",
      "Cell \u001b[1;32mIn[6], line 12\u001b[0m, in \u001b[0;36mdraw_circle\u001b[1;34m(event, x, y, flags, param)\u001b[0m\n\u001b[0;32m     10\u001b[0m \u001b[38;5;28;01melif\u001b[39;00m event \u001b[38;5;241m==\u001b[39m cv2\u001b[38;5;241m.\u001b[39mEVENT_RBUTTONDOWN:\n\u001b[0;32m     11\u001b[0m     cv2\u001b[38;5;241m.\u001b[39mcircle(img, (x,y), \u001b[38;5;241m10\u001b[39m, (\u001b[38;5;241m255\u001b[39m,\u001b[38;5;241m0\u001b[39m,\u001b[38;5;241m0\u001b[39m), \u001b[38;5;241m2\u001b[39m)\n\u001b[1;32m---> 12\u001b[0m \u001b[38;5;28;01melif\u001b[39;00m event \u001b[38;5;241m==\u001b[39m \u001b[43mcv2\u001b[49m\u001b[38;5;241;43m.\u001b[39;49m\u001b[43mEVENT_LBUTTONDBCLK\u001b[49m:\n\u001b[0;32m     13\u001b[0m     cv2\u001b[38;5;241m.\u001b[39mcircle(img, (x,y), \u001b[38;5;241m20\u001b[39m, (\u001b[38;5;241m255\u001b[39m,\u001b[38;5;241m0\u001b[39m,\u001b[38;5;241m0\u001b[39m), \u001b[38;5;241m-\u001b[39m\u001b[38;5;241m1\u001b[39m)\n",
      "\u001b[1;31mAttributeError\u001b[0m: module 'cv2' has no attribute 'EVENT_LBUTTONDBCLK'"
     ]
    },
    {
     "ename": "AttributeError",
     "evalue": "module 'cv2' has no attribute 'EVENT_LBUTTONDBCLK'",
     "output_type": "error",
     "traceback": [
      "\u001b[1;31m---------------------------------------------------------------------------\u001b[0m",
      "\u001b[1;31mAttributeError\u001b[0m                            Traceback (most recent call last)",
      "Cell \u001b[1;32mIn[6], line 12\u001b[0m, in \u001b[0;36mdraw_circle\u001b[1;34m(event, x, y, flags, param)\u001b[0m\n\u001b[0;32m     10\u001b[0m \u001b[38;5;28;01melif\u001b[39;00m event \u001b[38;5;241m==\u001b[39m cv2\u001b[38;5;241m.\u001b[39mEVENT_RBUTTONDOWN:\n\u001b[0;32m     11\u001b[0m     cv2\u001b[38;5;241m.\u001b[39mcircle(img, (x,y), \u001b[38;5;241m10\u001b[39m, (\u001b[38;5;241m255\u001b[39m,\u001b[38;5;241m0\u001b[39m,\u001b[38;5;241m0\u001b[39m), \u001b[38;5;241m2\u001b[39m)\n\u001b[1;32m---> 12\u001b[0m \u001b[38;5;28;01melif\u001b[39;00m event \u001b[38;5;241m==\u001b[39m \u001b[43mcv2\u001b[49m\u001b[38;5;241;43m.\u001b[39;49m\u001b[43mEVENT_LBUTTONDBCLK\u001b[49m:\n\u001b[0;32m     13\u001b[0m     cv2\u001b[38;5;241m.\u001b[39mcircle(img, (x,y), \u001b[38;5;241m20\u001b[39m, (\u001b[38;5;241m255\u001b[39m,\u001b[38;5;241m0\u001b[39m,\u001b[38;5;241m0\u001b[39m), \u001b[38;5;241m-\u001b[39m\u001b[38;5;241m1\u001b[39m)\n",
      "\u001b[1;31mAttributeError\u001b[0m: module 'cv2' has no attribute 'EVENT_LBUTTONDBCLK'"
     ]
    },
    {
     "ename": "AttributeError",
     "evalue": "module 'cv2' has no attribute 'EVENT_LBUTTONDBCLK'",
     "output_type": "error",
     "traceback": [
      "\u001b[1;31m---------------------------------------------------------------------------\u001b[0m",
      "\u001b[1;31mAttributeError\u001b[0m                            Traceback (most recent call last)",
      "Cell \u001b[1;32mIn[6], line 12\u001b[0m, in \u001b[0;36mdraw_circle\u001b[1;34m(event, x, y, flags, param)\u001b[0m\n\u001b[0;32m     10\u001b[0m \u001b[38;5;28;01melif\u001b[39;00m event \u001b[38;5;241m==\u001b[39m cv2\u001b[38;5;241m.\u001b[39mEVENT_RBUTTONDOWN:\n\u001b[0;32m     11\u001b[0m     cv2\u001b[38;5;241m.\u001b[39mcircle(img, (x,y), \u001b[38;5;241m10\u001b[39m, (\u001b[38;5;241m255\u001b[39m,\u001b[38;5;241m0\u001b[39m,\u001b[38;5;241m0\u001b[39m), \u001b[38;5;241m2\u001b[39m)\n\u001b[1;32m---> 12\u001b[0m \u001b[38;5;28;01melif\u001b[39;00m event \u001b[38;5;241m==\u001b[39m \u001b[43mcv2\u001b[49m\u001b[38;5;241;43m.\u001b[39;49m\u001b[43mEVENT_LBUTTONDBCLK\u001b[49m:\n\u001b[0;32m     13\u001b[0m     cv2\u001b[38;5;241m.\u001b[39mcircle(img, (x,y), \u001b[38;5;241m20\u001b[39m, (\u001b[38;5;241m255\u001b[39m,\u001b[38;5;241m0\u001b[39m,\u001b[38;5;241m0\u001b[39m), \u001b[38;5;241m-\u001b[39m\u001b[38;5;241m1\u001b[39m)\n",
      "\u001b[1;31mAttributeError\u001b[0m: module 'cv2' has no attribute 'EVENT_LBUTTONDBCLK'"
     ]
    },
    {
     "ename": "AttributeError",
     "evalue": "module 'cv2' has no attribute 'EVENT_LBUTTONDBCLK'",
     "output_type": "error",
     "traceback": [
      "\u001b[1;31m---------------------------------------------------------------------------\u001b[0m",
      "\u001b[1;31mAttributeError\u001b[0m                            Traceback (most recent call last)",
      "Cell \u001b[1;32mIn[6], line 12\u001b[0m, in \u001b[0;36mdraw_circle\u001b[1;34m(event, x, y, flags, param)\u001b[0m\n\u001b[0;32m     10\u001b[0m \u001b[38;5;28;01melif\u001b[39;00m event \u001b[38;5;241m==\u001b[39m cv2\u001b[38;5;241m.\u001b[39mEVENT_RBUTTONDOWN:\n\u001b[0;32m     11\u001b[0m     cv2\u001b[38;5;241m.\u001b[39mcircle(img, (x,y), \u001b[38;5;241m10\u001b[39m, (\u001b[38;5;241m255\u001b[39m,\u001b[38;5;241m0\u001b[39m,\u001b[38;5;241m0\u001b[39m), \u001b[38;5;241m2\u001b[39m)\n\u001b[1;32m---> 12\u001b[0m \u001b[38;5;28;01melif\u001b[39;00m event \u001b[38;5;241m==\u001b[39m \u001b[43mcv2\u001b[49m\u001b[38;5;241;43m.\u001b[39;49m\u001b[43mEVENT_LBUTTONDBCLK\u001b[49m:\n\u001b[0;32m     13\u001b[0m     cv2\u001b[38;5;241m.\u001b[39mcircle(img, (x,y), \u001b[38;5;241m20\u001b[39m, (\u001b[38;5;241m255\u001b[39m,\u001b[38;5;241m0\u001b[39m,\u001b[38;5;241m0\u001b[39m), \u001b[38;5;241m-\u001b[39m\u001b[38;5;241m1\u001b[39m)\n",
      "\u001b[1;31mAttributeError\u001b[0m: module 'cv2' has no attribute 'EVENT_LBUTTONDBCLK'"
     ]
    },
    {
     "ename": "AttributeError",
     "evalue": "module 'cv2' has no attribute 'EVENT_LBUTTONDBCLK'",
     "output_type": "error",
     "traceback": [
      "\u001b[1;31m---------------------------------------------------------------------------\u001b[0m",
      "\u001b[1;31mAttributeError\u001b[0m                            Traceback (most recent call last)",
      "Cell \u001b[1;32mIn[6], line 12\u001b[0m, in \u001b[0;36mdraw_circle\u001b[1;34m(event, x, y, flags, param)\u001b[0m\n\u001b[0;32m     10\u001b[0m \u001b[38;5;28;01melif\u001b[39;00m event \u001b[38;5;241m==\u001b[39m cv2\u001b[38;5;241m.\u001b[39mEVENT_RBUTTONDOWN:\n\u001b[0;32m     11\u001b[0m     cv2\u001b[38;5;241m.\u001b[39mcircle(img, (x,y), \u001b[38;5;241m10\u001b[39m, (\u001b[38;5;241m255\u001b[39m,\u001b[38;5;241m0\u001b[39m,\u001b[38;5;241m0\u001b[39m), \u001b[38;5;241m2\u001b[39m)\n\u001b[1;32m---> 12\u001b[0m \u001b[38;5;28;01melif\u001b[39;00m event \u001b[38;5;241m==\u001b[39m \u001b[43mcv2\u001b[49m\u001b[38;5;241;43m.\u001b[39;49m\u001b[43mEVENT_LBUTTONDBCLK\u001b[49m:\n\u001b[0;32m     13\u001b[0m     cv2\u001b[38;5;241m.\u001b[39mcircle(img, (x,y), \u001b[38;5;241m20\u001b[39m, (\u001b[38;5;241m255\u001b[39m,\u001b[38;5;241m0\u001b[39m,\u001b[38;5;241m0\u001b[39m), \u001b[38;5;241m-\u001b[39m\u001b[38;5;241m1\u001b[39m)\n",
      "\u001b[1;31mAttributeError\u001b[0m: module 'cv2' has no attribute 'EVENT_LBUTTONDBCLK'"
     ]
    },
    {
     "ename": "AttributeError",
     "evalue": "module 'cv2' has no attribute 'EVENT_LBUTTONDBCLK'",
     "output_type": "error",
     "traceback": [
      "\u001b[1;31m---------------------------------------------------------------------------\u001b[0m",
      "\u001b[1;31mAttributeError\u001b[0m                            Traceback (most recent call last)",
      "Cell \u001b[1;32mIn[6], line 12\u001b[0m, in \u001b[0;36mdraw_circle\u001b[1;34m(event, x, y, flags, param)\u001b[0m\n\u001b[0;32m     10\u001b[0m \u001b[38;5;28;01melif\u001b[39;00m event \u001b[38;5;241m==\u001b[39m cv2\u001b[38;5;241m.\u001b[39mEVENT_RBUTTONDOWN:\n\u001b[0;32m     11\u001b[0m     cv2\u001b[38;5;241m.\u001b[39mcircle(img, (x,y), \u001b[38;5;241m10\u001b[39m, (\u001b[38;5;241m255\u001b[39m,\u001b[38;5;241m0\u001b[39m,\u001b[38;5;241m0\u001b[39m), \u001b[38;5;241m2\u001b[39m)\n\u001b[1;32m---> 12\u001b[0m \u001b[38;5;28;01melif\u001b[39;00m event \u001b[38;5;241m==\u001b[39m \u001b[43mcv2\u001b[49m\u001b[38;5;241;43m.\u001b[39;49m\u001b[43mEVENT_LBUTTONDBCLK\u001b[49m:\n\u001b[0;32m     13\u001b[0m     cv2\u001b[38;5;241m.\u001b[39mcircle(img, (x,y), \u001b[38;5;241m20\u001b[39m, (\u001b[38;5;241m255\u001b[39m,\u001b[38;5;241m0\u001b[39m,\u001b[38;5;241m0\u001b[39m), \u001b[38;5;241m-\u001b[39m\u001b[38;5;241m1\u001b[39m)\n",
      "\u001b[1;31mAttributeError\u001b[0m: module 'cv2' has no attribute 'EVENT_LBUTTONDBCLK'"
     ]
    },
    {
     "ename": "AttributeError",
     "evalue": "module 'cv2' has no attribute 'EVENT_LBUTTONDBCLK'",
     "output_type": "error",
     "traceback": [
      "\u001b[1;31m---------------------------------------------------------------------------\u001b[0m",
      "\u001b[1;31mAttributeError\u001b[0m                            Traceback (most recent call last)",
      "Cell \u001b[1;32mIn[6], line 12\u001b[0m, in \u001b[0;36mdraw_circle\u001b[1;34m(event, x, y, flags, param)\u001b[0m\n\u001b[0;32m     10\u001b[0m \u001b[38;5;28;01melif\u001b[39;00m event \u001b[38;5;241m==\u001b[39m cv2\u001b[38;5;241m.\u001b[39mEVENT_RBUTTONDOWN:\n\u001b[0;32m     11\u001b[0m     cv2\u001b[38;5;241m.\u001b[39mcircle(img, (x,y), \u001b[38;5;241m10\u001b[39m, (\u001b[38;5;241m255\u001b[39m,\u001b[38;5;241m0\u001b[39m,\u001b[38;5;241m0\u001b[39m), \u001b[38;5;241m2\u001b[39m)\n\u001b[1;32m---> 12\u001b[0m \u001b[38;5;28;01melif\u001b[39;00m event \u001b[38;5;241m==\u001b[39m \u001b[43mcv2\u001b[49m\u001b[38;5;241;43m.\u001b[39;49m\u001b[43mEVENT_LBUTTONDBCLK\u001b[49m:\n\u001b[0;32m     13\u001b[0m     cv2\u001b[38;5;241m.\u001b[39mcircle(img, (x,y), \u001b[38;5;241m20\u001b[39m, (\u001b[38;5;241m255\u001b[39m,\u001b[38;5;241m0\u001b[39m,\u001b[38;5;241m0\u001b[39m), \u001b[38;5;241m-\u001b[39m\u001b[38;5;241m1\u001b[39m)\n",
      "\u001b[1;31mAttributeError\u001b[0m: module 'cv2' has no attribute 'EVENT_LBUTTONDBCLK'"
     ]
    },
    {
     "ename": "AttributeError",
     "evalue": "module 'cv2' has no attribute 'EVENT_LBUTTONDBCLK'",
     "output_type": "error",
     "traceback": [
      "\u001b[1;31m---------------------------------------------------------------------------\u001b[0m",
      "\u001b[1;31mAttributeError\u001b[0m                            Traceback (most recent call last)",
      "Cell \u001b[1;32mIn[6], line 12\u001b[0m, in \u001b[0;36mdraw_circle\u001b[1;34m(event, x, y, flags, param)\u001b[0m\n\u001b[0;32m     10\u001b[0m \u001b[38;5;28;01melif\u001b[39;00m event \u001b[38;5;241m==\u001b[39m cv2\u001b[38;5;241m.\u001b[39mEVENT_RBUTTONDOWN:\n\u001b[0;32m     11\u001b[0m     cv2\u001b[38;5;241m.\u001b[39mcircle(img, (x,y), \u001b[38;5;241m10\u001b[39m, (\u001b[38;5;241m255\u001b[39m,\u001b[38;5;241m0\u001b[39m,\u001b[38;5;241m0\u001b[39m), \u001b[38;5;241m2\u001b[39m)\n\u001b[1;32m---> 12\u001b[0m \u001b[38;5;28;01melif\u001b[39;00m event \u001b[38;5;241m==\u001b[39m \u001b[43mcv2\u001b[49m\u001b[38;5;241;43m.\u001b[39;49m\u001b[43mEVENT_LBUTTONDBCLK\u001b[49m:\n\u001b[0;32m     13\u001b[0m     cv2\u001b[38;5;241m.\u001b[39mcircle(img, (x,y), \u001b[38;5;241m20\u001b[39m, (\u001b[38;5;241m255\u001b[39m,\u001b[38;5;241m0\u001b[39m,\u001b[38;5;241m0\u001b[39m), \u001b[38;5;241m-\u001b[39m\u001b[38;5;241m1\u001b[39m)\n",
      "\u001b[1;31mAttributeError\u001b[0m: module 'cv2' has no attribute 'EVENT_LBUTTONDBCLK'"
     ]
    },
    {
     "ename": "AttributeError",
     "evalue": "module 'cv2' has no attribute 'EVENT_LBUTTONDBCLK'",
     "output_type": "error",
     "traceback": [
      "\u001b[1;31m---------------------------------------------------------------------------\u001b[0m",
      "\u001b[1;31mAttributeError\u001b[0m                            Traceback (most recent call last)",
      "Cell \u001b[1;32mIn[6], line 12\u001b[0m, in \u001b[0;36mdraw_circle\u001b[1;34m(event, x, y, flags, param)\u001b[0m\n\u001b[0;32m     10\u001b[0m \u001b[38;5;28;01melif\u001b[39;00m event \u001b[38;5;241m==\u001b[39m cv2\u001b[38;5;241m.\u001b[39mEVENT_RBUTTONDOWN:\n\u001b[0;32m     11\u001b[0m     cv2\u001b[38;5;241m.\u001b[39mcircle(img, (x,y), \u001b[38;5;241m10\u001b[39m, (\u001b[38;5;241m255\u001b[39m,\u001b[38;5;241m0\u001b[39m,\u001b[38;5;241m0\u001b[39m), \u001b[38;5;241m2\u001b[39m)\n\u001b[1;32m---> 12\u001b[0m \u001b[38;5;28;01melif\u001b[39;00m event \u001b[38;5;241m==\u001b[39m \u001b[43mcv2\u001b[49m\u001b[38;5;241;43m.\u001b[39;49m\u001b[43mEVENT_LBUTTONDBCLK\u001b[49m:\n\u001b[0;32m     13\u001b[0m     cv2\u001b[38;5;241m.\u001b[39mcircle(img, (x,y), \u001b[38;5;241m20\u001b[39m, (\u001b[38;5;241m255\u001b[39m,\u001b[38;5;241m0\u001b[39m,\u001b[38;5;241m0\u001b[39m), \u001b[38;5;241m-\u001b[39m\u001b[38;5;241m1\u001b[39m)\n",
      "\u001b[1;31mAttributeError\u001b[0m: module 'cv2' has no attribute 'EVENT_LBUTTONDBCLK'"
     ]
    },
    {
     "ename": "AttributeError",
     "evalue": "module 'cv2' has no attribute 'EVENT_LBUTTONDBCLK'",
     "output_type": "error",
     "traceback": [
      "\u001b[1;31m---------------------------------------------------------------------------\u001b[0m",
      "\u001b[1;31mAttributeError\u001b[0m                            Traceback (most recent call last)",
      "Cell \u001b[1;32mIn[6], line 12\u001b[0m, in \u001b[0;36mdraw_circle\u001b[1;34m(event, x, y, flags, param)\u001b[0m\n\u001b[0;32m     10\u001b[0m \u001b[38;5;28;01melif\u001b[39;00m event \u001b[38;5;241m==\u001b[39m cv2\u001b[38;5;241m.\u001b[39mEVENT_RBUTTONDOWN:\n\u001b[0;32m     11\u001b[0m     cv2\u001b[38;5;241m.\u001b[39mcircle(img, (x,y), \u001b[38;5;241m10\u001b[39m, (\u001b[38;5;241m255\u001b[39m,\u001b[38;5;241m0\u001b[39m,\u001b[38;5;241m0\u001b[39m), \u001b[38;5;241m2\u001b[39m)\n\u001b[1;32m---> 12\u001b[0m \u001b[38;5;28;01melif\u001b[39;00m event \u001b[38;5;241m==\u001b[39m \u001b[43mcv2\u001b[49m\u001b[38;5;241;43m.\u001b[39;49m\u001b[43mEVENT_LBUTTONDBCLK\u001b[49m:\n\u001b[0;32m     13\u001b[0m     cv2\u001b[38;5;241m.\u001b[39mcircle(img, (x,y), \u001b[38;5;241m20\u001b[39m, (\u001b[38;5;241m255\u001b[39m,\u001b[38;5;241m0\u001b[39m,\u001b[38;5;241m0\u001b[39m), \u001b[38;5;241m-\u001b[39m\u001b[38;5;241m1\u001b[39m)\n",
      "\u001b[1;31mAttributeError\u001b[0m: module 'cv2' has no attribute 'EVENT_LBUTTONDBCLK'"
     ]
    },
    {
     "ename": "AttributeError",
     "evalue": "module 'cv2' has no attribute 'EVENT_LBUTTONDBCLK'",
     "output_type": "error",
     "traceback": [
      "\u001b[1;31m---------------------------------------------------------------------------\u001b[0m",
      "\u001b[1;31mAttributeError\u001b[0m                            Traceback (most recent call last)",
      "Cell \u001b[1;32mIn[6], line 12\u001b[0m, in \u001b[0;36mdraw_circle\u001b[1;34m(event, x, y, flags, param)\u001b[0m\n\u001b[0;32m     10\u001b[0m \u001b[38;5;28;01melif\u001b[39;00m event \u001b[38;5;241m==\u001b[39m cv2\u001b[38;5;241m.\u001b[39mEVENT_RBUTTONDOWN:\n\u001b[0;32m     11\u001b[0m     cv2\u001b[38;5;241m.\u001b[39mcircle(img, (x,y), \u001b[38;5;241m10\u001b[39m, (\u001b[38;5;241m255\u001b[39m,\u001b[38;5;241m0\u001b[39m,\u001b[38;5;241m0\u001b[39m), \u001b[38;5;241m2\u001b[39m)\n\u001b[1;32m---> 12\u001b[0m \u001b[38;5;28;01melif\u001b[39;00m event \u001b[38;5;241m==\u001b[39m \u001b[43mcv2\u001b[49m\u001b[38;5;241;43m.\u001b[39;49m\u001b[43mEVENT_LBUTTONDBCLK\u001b[49m:\n\u001b[0;32m     13\u001b[0m     cv2\u001b[38;5;241m.\u001b[39mcircle(img, (x,y), \u001b[38;5;241m20\u001b[39m, (\u001b[38;5;241m255\u001b[39m,\u001b[38;5;241m0\u001b[39m,\u001b[38;5;241m0\u001b[39m), \u001b[38;5;241m-\u001b[39m\u001b[38;5;241m1\u001b[39m)\n",
      "\u001b[1;31mAttributeError\u001b[0m: module 'cv2' has no attribute 'EVENT_LBUTTONDBCLK'"
     ]
    },
    {
     "ename": "AttributeError",
     "evalue": "module 'cv2' has no attribute 'EVENT_LBUTTONDBCLK'",
     "output_type": "error",
     "traceback": [
      "\u001b[1;31m---------------------------------------------------------------------------\u001b[0m",
      "\u001b[1;31mAttributeError\u001b[0m                            Traceback (most recent call last)",
      "Cell \u001b[1;32mIn[6], line 12\u001b[0m, in \u001b[0;36mdraw_circle\u001b[1;34m(event, x, y, flags, param)\u001b[0m\n\u001b[0;32m     10\u001b[0m \u001b[38;5;28;01melif\u001b[39;00m event \u001b[38;5;241m==\u001b[39m cv2\u001b[38;5;241m.\u001b[39mEVENT_RBUTTONDOWN:\n\u001b[0;32m     11\u001b[0m     cv2\u001b[38;5;241m.\u001b[39mcircle(img, (x,y), \u001b[38;5;241m10\u001b[39m, (\u001b[38;5;241m255\u001b[39m,\u001b[38;5;241m0\u001b[39m,\u001b[38;5;241m0\u001b[39m), \u001b[38;5;241m2\u001b[39m)\n\u001b[1;32m---> 12\u001b[0m \u001b[38;5;28;01melif\u001b[39;00m event \u001b[38;5;241m==\u001b[39m \u001b[43mcv2\u001b[49m\u001b[38;5;241;43m.\u001b[39;49m\u001b[43mEVENT_LBUTTONDBCLK\u001b[49m:\n\u001b[0;32m     13\u001b[0m     cv2\u001b[38;5;241m.\u001b[39mcircle(img, (x,y), \u001b[38;5;241m20\u001b[39m, (\u001b[38;5;241m255\u001b[39m,\u001b[38;5;241m0\u001b[39m,\u001b[38;5;241m0\u001b[39m), \u001b[38;5;241m-\u001b[39m\u001b[38;5;241m1\u001b[39m)\n",
      "\u001b[1;31mAttributeError\u001b[0m: module 'cv2' has no attribute 'EVENT_LBUTTONDBCLK'"
     ]
    },
    {
     "ename": "AttributeError",
     "evalue": "module 'cv2' has no attribute 'EVENT_LBUTTONDBCLK'",
     "output_type": "error",
     "traceback": [
      "\u001b[1;31m---------------------------------------------------------------------------\u001b[0m",
      "\u001b[1;31mAttributeError\u001b[0m                            Traceback (most recent call last)",
      "Cell \u001b[1;32mIn[6], line 12\u001b[0m, in \u001b[0;36mdraw_circle\u001b[1;34m(event, x, y, flags, param)\u001b[0m\n\u001b[0;32m     10\u001b[0m \u001b[38;5;28;01melif\u001b[39;00m event \u001b[38;5;241m==\u001b[39m cv2\u001b[38;5;241m.\u001b[39mEVENT_RBUTTONDOWN:\n\u001b[0;32m     11\u001b[0m     cv2\u001b[38;5;241m.\u001b[39mcircle(img, (x,y), \u001b[38;5;241m10\u001b[39m, (\u001b[38;5;241m255\u001b[39m,\u001b[38;5;241m0\u001b[39m,\u001b[38;5;241m0\u001b[39m), \u001b[38;5;241m2\u001b[39m)\n\u001b[1;32m---> 12\u001b[0m \u001b[38;5;28;01melif\u001b[39;00m event \u001b[38;5;241m==\u001b[39m \u001b[43mcv2\u001b[49m\u001b[38;5;241;43m.\u001b[39;49m\u001b[43mEVENT_LBUTTONDBCLK\u001b[49m:\n\u001b[0;32m     13\u001b[0m     cv2\u001b[38;5;241m.\u001b[39mcircle(img, (x,y), \u001b[38;5;241m20\u001b[39m, (\u001b[38;5;241m255\u001b[39m,\u001b[38;5;241m0\u001b[39m,\u001b[38;5;241m0\u001b[39m), \u001b[38;5;241m-\u001b[39m\u001b[38;5;241m1\u001b[39m)\n",
      "\u001b[1;31mAttributeError\u001b[0m: module 'cv2' has no attribute 'EVENT_LBUTTONDBCLK'"
     ]
    },
    {
     "ename": "AttributeError",
     "evalue": "module 'cv2' has no attribute 'EVENT_LBUTTONDBCLK'",
     "output_type": "error",
     "traceback": [
      "\u001b[1;31m---------------------------------------------------------------------------\u001b[0m",
      "\u001b[1;31mAttributeError\u001b[0m                            Traceback (most recent call last)",
      "Cell \u001b[1;32mIn[6], line 12\u001b[0m, in \u001b[0;36mdraw_circle\u001b[1;34m(event, x, y, flags, param)\u001b[0m\n\u001b[0;32m     10\u001b[0m \u001b[38;5;28;01melif\u001b[39;00m event \u001b[38;5;241m==\u001b[39m cv2\u001b[38;5;241m.\u001b[39mEVENT_RBUTTONDOWN:\n\u001b[0;32m     11\u001b[0m     cv2\u001b[38;5;241m.\u001b[39mcircle(img, (x,y), \u001b[38;5;241m10\u001b[39m, (\u001b[38;5;241m255\u001b[39m,\u001b[38;5;241m0\u001b[39m,\u001b[38;5;241m0\u001b[39m), \u001b[38;5;241m2\u001b[39m)\n\u001b[1;32m---> 12\u001b[0m \u001b[38;5;28;01melif\u001b[39;00m event \u001b[38;5;241m==\u001b[39m \u001b[43mcv2\u001b[49m\u001b[38;5;241;43m.\u001b[39;49m\u001b[43mEVENT_LBUTTONDBCLK\u001b[49m:\n\u001b[0;32m     13\u001b[0m     cv2\u001b[38;5;241m.\u001b[39mcircle(img, (x,y), \u001b[38;5;241m20\u001b[39m, (\u001b[38;5;241m255\u001b[39m,\u001b[38;5;241m0\u001b[39m,\u001b[38;5;241m0\u001b[39m), \u001b[38;5;241m-\u001b[39m\u001b[38;5;241m1\u001b[39m)\n",
      "\u001b[1;31mAttributeError\u001b[0m: module 'cv2' has no attribute 'EVENT_LBUTTONDBCLK'"
     ]
    },
    {
     "ename": "AttributeError",
     "evalue": "module 'cv2' has no attribute 'EVENT_LBUTTONDBCLK'",
     "output_type": "error",
     "traceback": [
      "\u001b[1;31m---------------------------------------------------------------------------\u001b[0m",
      "\u001b[1;31mAttributeError\u001b[0m                            Traceback (most recent call last)",
      "Cell \u001b[1;32mIn[6], line 12\u001b[0m, in \u001b[0;36mdraw_circle\u001b[1;34m(event, x, y, flags, param)\u001b[0m\n\u001b[0;32m     10\u001b[0m \u001b[38;5;28;01melif\u001b[39;00m event \u001b[38;5;241m==\u001b[39m cv2\u001b[38;5;241m.\u001b[39mEVENT_RBUTTONDOWN:\n\u001b[0;32m     11\u001b[0m     cv2\u001b[38;5;241m.\u001b[39mcircle(img, (x,y), \u001b[38;5;241m10\u001b[39m, (\u001b[38;5;241m255\u001b[39m,\u001b[38;5;241m0\u001b[39m,\u001b[38;5;241m0\u001b[39m), \u001b[38;5;241m2\u001b[39m)\n\u001b[1;32m---> 12\u001b[0m \u001b[38;5;28;01melif\u001b[39;00m event \u001b[38;5;241m==\u001b[39m \u001b[43mcv2\u001b[49m\u001b[38;5;241;43m.\u001b[39;49m\u001b[43mEVENT_LBUTTONDBCLK\u001b[49m:\n\u001b[0;32m     13\u001b[0m     cv2\u001b[38;5;241m.\u001b[39mcircle(img, (x,y), \u001b[38;5;241m20\u001b[39m, (\u001b[38;5;241m255\u001b[39m,\u001b[38;5;241m0\u001b[39m,\u001b[38;5;241m0\u001b[39m), \u001b[38;5;241m-\u001b[39m\u001b[38;5;241m1\u001b[39m)\n",
      "\u001b[1;31mAttributeError\u001b[0m: module 'cv2' has no attribute 'EVENT_LBUTTONDBCLK'"
     ]
    },
    {
     "ename": "AttributeError",
     "evalue": "module 'cv2' has no attribute 'EVENT_LBUTTONDBCLK'",
     "output_type": "error",
     "traceback": [
      "\u001b[1;31m---------------------------------------------------------------------------\u001b[0m",
      "\u001b[1;31mAttributeError\u001b[0m                            Traceback (most recent call last)",
      "Cell \u001b[1;32mIn[6], line 12\u001b[0m, in \u001b[0;36mdraw_circle\u001b[1;34m(event, x, y, flags, param)\u001b[0m\n\u001b[0;32m     10\u001b[0m \u001b[38;5;28;01melif\u001b[39;00m event \u001b[38;5;241m==\u001b[39m cv2\u001b[38;5;241m.\u001b[39mEVENT_RBUTTONDOWN:\n\u001b[0;32m     11\u001b[0m     cv2\u001b[38;5;241m.\u001b[39mcircle(img, (x,y), \u001b[38;5;241m10\u001b[39m, (\u001b[38;5;241m255\u001b[39m,\u001b[38;5;241m0\u001b[39m,\u001b[38;5;241m0\u001b[39m), \u001b[38;5;241m2\u001b[39m)\n\u001b[1;32m---> 12\u001b[0m \u001b[38;5;28;01melif\u001b[39;00m event \u001b[38;5;241m==\u001b[39m \u001b[43mcv2\u001b[49m\u001b[38;5;241;43m.\u001b[39;49m\u001b[43mEVENT_LBUTTONDBCLK\u001b[49m:\n\u001b[0;32m     13\u001b[0m     cv2\u001b[38;5;241m.\u001b[39mcircle(img, (x,y), \u001b[38;5;241m20\u001b[39m, (\u001b[38;5;241m255\u001b[39m,\u001b[38;5;241m0\u001b[39m,\u001b[38;5;241m0\u001b[39m), \u001b[38;5;241m-\u001b[39m\u001b[38;5;241m1\u001b[39m)\n",
      "\u001b[1;31mAttributeError\u001b[0m: module 'cv2' has no attribute 'EVENT_LBUTTONDBCLK'"
     ]
    },
    {
     "ename": "AttributeError",
     "evalue": "module 'cv2' has no attribute 'EVENT_LBUTTONDBCLK'",
     "output_type": "error",
     "traceback": [
      "\u001b[1;31m---------------------------------------------------------------------------\u001b[0m",
      "\u001b[1;31mAttributeError\u001b[0m                            Traceback (most recent call last)",
      "Cell \u001b[1;32mIn[6], line 12\u001b[0m, in \u001b[0;36mdraw_circle\u001b[1;34m(event, x, y, flags, param)\u001b[0m\n\u001b[0;32m     10\u001b[0m \u001b[38;5;28;01melif\u001b[39;00m event \u001b[38;5;241m==\u001b[39m cv2\u001b[38;5;241m.\u001b[39mEVENT_RBUTTONDOWN:\n\u001b[0;32m     11\u001b[0m     cv2\u001b[38;5;241m.\u001b[39mcircle(img, (x,y), \u001b[38;5;241m10\u001b[39m, (\u001b[38;5;241m255\u001b[39m,\u001b[38;5;241m0\u001b[39m,\u001b[38;5;241m0\u001b[39m), \u001b[38;5;241m2\u001b[39m)\n\u001b[1;32m---> 12\u001b[0m \u001b[38;5;28;01melif\u001b[39;00m event \u001b[38;5;241m==\u001b[39m \u001b[43mcv2\u001b[49m\u001b[38;5;241;43m.\u001b[39;49m\u001b[43mEVENT_LBUTTONDBCLK\u001b[49m:\n\u001b[0;32m     13\u001b[0m     cv2\u001b[38;5;241m.\u001b[39mcircle(img, (x,y), \u001b[38;5;241m20\u001b[39m, (\u001b[38;5;241m255\u001b[39m,\u001b[38;5;241m0\u001b[39m,\u001b[38;5;241m0\u001b[39m), \u001b[38;5;241m-\u001b[39m\u001b[38;5;241m1\u001b[39m)\n",
      "\u001b[1;31mAttributeError\u001b[0m: module 'cv2' has no attribute 'EVENT_LBUTTONDBCLK'"
     ]
    },
    {
     "ename": "AttributeError",
     "evalue": "module 'cv2' has no attribute 'EVENT_LBUTTONDBCLK'",
     "output_type": "error",
     "traceback": [
      "\u001b[1;31m---------------------------------------------------------------------------\u001b[0m",
      "\u001b[1;31mAttributeError\u001b[0m                            Traceback (most recent call last)",
      "Cell \u001b[1;32mIn[6], line 12\u001b[0m, in \u001b[0;36mdraw_circle\u001b[1;34m(event, x, y, flags, param)\u001b[0m\n\u001b[0;32m     10\u001b[0m \u001b[38;5;28;01melif\u001b[39;00m event \u001b[38;5;241m==\u001b[39m cv2\u001b[38;5;241m.\u001b[39mEVENT_RBUTTONDOWN:\n\u001b[0;32m     11\u001b[0m     cv2\u001b[38;5;241m.\u001b[39mcircle(img, (x,y), \u001b[38;5;241m10\u001b[39m, (\u001b[38;5;241m255\u001b[39m,\u001b[38;5;241m0\u001b[39m,\u001b[38;5;241m0\u001b[39m), \u001b[38;5;241m2\u001b[39m)\n\u001b[1;32m---> 12\u001b[0m \u001b[38;5;28;01melif\u001b[39;00m event \u001b[38;5;241m==\u001b[39m \u001b[43mcv2\u001b[49m\u001b[38;5;241;43m.\u001b[39;49m\u001b[43mEVENT_LBUTTONDBCLK\u001b[49m:\n\u001b[0;32m     13\u001b[0m     cv2\u001b[38;5;241m.\u001b[39mcircle(img, (x,y), \u001b[38;5;241m20\u001b[39m, (\u001b[38;5;241m255\u001b[39m,\u001b[38;5;241m0\u001b[39m,\u001b[38;5;241m0\u001b[39m), \u001b[38;5;241m-\u001b[39m\u001b[38;5;241m1\u001b[39m)\n",
      "\u001b[1;31mAttributeError\u001b[0m: module 'cv2' has no attribute 'EVENT_LBUTTONDBCLK'"
     ]
    },
    {
     "ename": "AttributeError",
     "evalue": "module 'cv2' has no attribute 'EVENT_LBUTTONDBCLK'",
     "output_type": "error",
     "traceback": [
      "\u001b[1;31m---------------------------------------------------------------------------\u001b[0m",
      "\u001b[1;31mAttributeError\u001b[0m                            Traceback (most recent call last)",
      "Cell \u001b[1;32mIn[6], line 12\u001b[0m, in \u001b[0;36mdraw_circle\u001b[1;34m(event, x, y, flags, param)\u001b[0m\n\u001b[0;32m     10\u001b[0m \u001b[38;5;28;01melif\u001b[39;00m event \u001b[38;5;241m==\u001b[39m cv2\u001b[38;5;241m.\u001b[39mEVENT_RBUTTONDOWN:\n\u001b[0;32m     11\u001b[0m     cv2\u001b[38;5;241m.\u001b[39mcircle(img, (x,y), \u001b[38;5;241m10\u001b[39m, (\u001b[38;5;241m255\u001b[39m,\u001b[38;5;241m0\u001b[39m,\u001b[38;5;241m0\u001b[39m), \u001b[38;5;241m2\u001b[39m)\n\u001b[1;32m---> 12\u001b[0m \u001b[38;5;28;01melif\u001b[39;00m event \u001b[38;5;241m==\u001b[39m \u001b[43mcv2\u001b[49m\u001b[38;5;241;43m.\u001b[39;49m\u001b[43mEVENT_LBUTTONDBCLK\u001b[49m:\n\u001b[0;32m     13\u001b[0m     cv2\u001b[38;5;241m.\u001b[39mcircle(img, (x,y), \u001b[38;5;241m20\u001b[39m, (\u001b[38;5;241m255\u001b[39m,\u001b[38;5;241m0\u001b[39m,\u001b[38;5;241m0\u001b[39m), \u001b[38;5;241m-\u001b[39m\u001b[38;5;241m1\u001b[39m)\n",
      "\u001b[1;31mAttributeError\u001b[0m: module 'cv2' has no attribute 'EVENT_LBUTTONDBCLK'"
     ]
    },
    {
     "ename": "AttributeError",
     "evalue": "module 'cv2' has no attribute 'EVENT_LBUTTONDBCLK'",
     "output_type": "error",
     "traceback": [
      "\u001b[1;31m---------------------------------------------------------------------------\u001b[0m",
      "\u001b[1;31mAttributeError\u001b[0m                            Traceback (most recent call last)",
      "Cell \u001b[1;32mIn[6], line 12\u001b[0m, in \u001b[0;36mdraw_circle\u001b[1;34m(event, x, y, flags, param)\u001b[0m\n\u001b[0;32m     10\u001b[0m \u001b[38;5;28;01melif\u001b[39;00m event \u001b[38;5;241m==\u001b[39m cv2\u001b[38;5;241m.\u001b[39mEVENT_RBUTTONDOWN:\n\u001b[0;32m     11\u001b[0m     cv2\u001b[38;5;241m.\u001b[39mcircle(img, (x,y), \u001b[38;5;241m10\u001b[39m, (\u001b[38;5;241m255\u001b[39m,\u001b[38;5;241m0\u001b[39m,\u001b[38;5;241m0\u001b[39m), \u001b[38;5;241m2\u001b[39m)\n\u001b[1;32m---> 12\u001b[0m \u001b[38;5;28;01melif\u001b[39;00m event \u001b[38;5;241m==\u001b[39m \u001b[43mcv2\u001b[49m\u001b[38;5;241;43m.\u001b[39;49m\u001b[43mEVENT_LBUTTONDBCLK\u001b[49m:\n\u001b[0;32m     13\u001b[0m     cv2\u001b[38;5;241m.\u001b[39mcircle(img, (x,y), \u001b[38;5;241m20\u001b[39m, (\u001b[38;5;241m255\u001b[39m,\u001b[38;5;241m0\u001b[39m,\u001b[38;5;241m0\u001b[39m), \u001b[38;5;241m-\u001b[39m\u001b[38;5;241m1\u001b[39m)\n",
      "\u001b[1;31mAttributeError\u001b[0m: module 'cv2' has no attribute 'EVENT_LBUTTONDBCLK'"
     ]
    },
    {
     "ename": "AttributeError",
     "evalue": "module 'cv2' has no attribute 'EVENT_LBUTTONDBCLK'",
     "output_type": "error",
     "traceback": [
      "\u001b[1;31m---------------------------------------------------------------------------\u001b[0m",
      "\u001b[1;31mAttributeError\u001b[0m                            Traceback (most recent call last)",
      "Cell \u001b[1;32mIn[6], line 12\u001b[0m, in \u001b[0;36mdraw_circle\u001b[1;34m(event, x, y, flags, param)\u001b[0m\n\u001b[0;32m     10\u001b[0m \u001b[38;5;28;01melif\u001b[39;00m event \u001b[38;5;241m==\u001b[39m cv2\u001b[38;5;241m.\u001b[39mEVENT_RBUTTONDOWN:\n\u001b[0;32m     11\u001b[0m     cv2\u001b[38;5;241m.\u001b[39mcircle(img, (x,y), \u001b[38;5;241m10\u001b[39m, (\u001b[38;5;241m255\u001b[39m,\u001b[38;5;241m0\u001b[39m,\u001b[38;5;241m0\u001b[39m), \u001b[38;5;241m2\u001b[39m)\n\u001b[1;32m---> 12\u001b[0m \u001b[38;5;28;01melif\u001b[39;00m event \u001b[38;5;241m==\u001b[39m \u001b[43mcv2\u001b[49m\u001b[38;5;241;43m.\u001b[39;49m\u001b[43mEVENT_LBUTTONDBCLK\u001b[49m:\n\u001b[0;32m     13\u001b[0m     cv2\u001b[38;5;241m.\u001b[39mcircle(img, (x,y), \u001b[38;5;241m20\u001b[39m, (\u001b[38;5;241m255\u001b[39m,\u001b[38;5;241m0\u001b[39m,\u001b[38;5;241m0\u001b[39m), \u001b[38;5;241m-\u001b[39m\u001b[38;5;241m1\u001b[39m)\n",
      "\u001b[1;31mAttributeError\u001b[0m: module 'cv2' has no attribute 'EVENT_LBUTTONDBCLK'"
     ]
    },
    {
     "ename": "AttributeError",
     "evalue": "module 'cv2' has no attribute 'EVENT_LBUTTONDBCLK'",
     "output_type": "error",
     "traceback": [
      "\u001b[1;31m---------------------------------------------------------------------------\u001b[0m",
      "\u001b[1;31mAttributeError\u001b[0m                            Traceback (most recent call last)",
      "Cell \u001b[1;32mIn[6], line 12\u001b[0m, in \u001b[0;36mdraw_circle\u001b[1;34m(event, x, y, flags, param)\u001b[0m\n\u001b[0;32m     10\u001b[0m \u001b[38;5;28;01melif\u001b[39;00m event \u001b[38;5;241m==\u001b[39m cv2\u001b[38;5;241m.\u001b[39mEVENT_RBUTTONDOWN:\n\u001b[0;32m     11\u001b[0m     cv2\u001b[38;5;241m.\u001b[39mcircle(img, (x,y), \u001b[38;5;241m10\u001b[39m, (\u001b[38;5;241m255\u001b[39m,\u001b[38;5;241m0\u001b[39m,\u001b[38;5;241m0\u001b[39m), \u001b[38;5;241m2\u001b[39m)\n\u001b[1;32m---> 12\u001b[0m \u001b[38;5;28;01melif\u001b[39;00m event \u001b[38;5;241m==\u001b[39m \u001b[43mcv2\u001b[49m\u001b[38;5;241;43m.\u001b[39;49m\u001b[43mEVENT_LBUTTONDBCLK\u001b[49m:\n\u001b[0;32m     13\u001b[0m     cv2\u001b[38;5;241m.\u001b[39mcircle(img, (x,y), \u001b[38;5;241m20\u001b[39m, (\u001b[38;5;241m255\u001b[39m,\u001b[38;5;241m0\u001b[39m,\u001b[38;5;241m0\u001b[39m), \u001b[38;5;241m-\u001b[39m\u001b[38;5;241m1\u001b[39m)\n",
      "\u001b[1;31mAttributeError\u001b[0m: module 'cv2' has no attribute 'EVENT_LBUTTONDBCLK'"
     ]
    },
    {
     "ename": "AttributeError",
     "evalue": "module 'cv2' has no attribute 'EVENT_LBUTTONDBCLK'",
     "output_type": "error",
     "traceback": [
      "\u001b[1;31m---------------------------------------------------------------------------\u001b[0m",
      "\u001b[1;31mAttributeError\u001b[0m                            Traceback (most recent call last)",
      "Cell \u001b[1;32mIn[6], line 12\u001b[0m, in \u001b[0;36mdraw_circle\u001b[1;34m(event, x, y, flags, param)\u001b[0m\n\u001b[0;32m     10\u001b[0m \u001b[38;5;28;01melif\u001b[39;00m event \u001b[38;5;241m==\u001b[39m cv2\u001b[38;5;241m.\u001b[39mEVENT_RBUTTONDOWN:\n\u001b[0;32m     11\u001b[0m     cv2\u001b[38;5;241m.\u001b[39mcircle(img, (x,y), \u001b[38;5;241m10\u001b[39m, (\u001b[38;5;241m255\u001b[39m,\u001b[38;5;241m0\u001b[39m,\u001b[38;5;241m0\u001b[39m), \u001b[38;5;241m2\u001b[39m)\n\u001b[1;32m---> 12\u001b[0m \u001b[38;5;28;01melif\u001b[39;00m event \u001b[38;5;241m==\u001b[39m \u001b[43mcv2\u001b[49m\u001b[38;5;241;43m.\u001b[39;49m\u001b[43mEVENT_LBUTTONDBCLK\u001b[49m:\n\u001b[0;32m     13\u001b[0m     cv2\u001b[38;5;241m.\u001b[39mcircle(img, (x,y), \u001b[38;5;241m20\u001b[39m, (\u001b[38;5;241m255\u001b[39m,\u001b[38;5;241m0\u001b[39m,\u001b[38;5;241m0\u001b[39m), \u001b[38;5;241m-\u001b[39m\u001b[38;5;241m1\u001b[39m)\n",
      "\u001b[1;31mAttributeError\u001b[0m: module 'cv2' has no attribute 'EVENT_LBUTTONDBCLK'"
     ]
    },
    {
     "ename": "AttributeError",
     "evalue": "module 'cv2' has no attribute 'EVENT_LBUTTONDBCLK'",
     "output_type": "error",
     "traceback": [
      "\u001b[1;31m---------------------------------------------------------------------------\u001b[0m",
      "\u001b[1;31mAttributeError\u001b[0m                            Traceback (most recent call last)",
      "Cell \u001b[1;32mIn[6], line 12\u001b[0m, in \u001b[0;36mdraw_circle\u001b[1;34m(event, x, y, flags, param)\u001b[0m\n\u001b[0;32m     10\u001b[0m \u001b[38;5;28;01melif\u001b[39;00m event \u001b[38;5;241m==\u001b[39m cv2\u001b[38;5;241m.\u001b[39mEVENT_RBUTTONDOWN:\n\u001b[0;32m     11\u001b[0m     cv2\u001b[38;5;241m.\u001b[39mcircle(img, (x,y), \u001b[38;5;241m10\u001b[39m, (\u001b[38;5;241m255\u001b[39m,\u001b[38;5;241m0\u001b[39m,\u001b[38;5;241m0\u001b[39m), \u001b[38;5;241m2\u001b[39m)\n\u001b[1;32m---> 12\u001b[0m \u001b[38;5;28;01melif\u001b[39;00m event \u001b[38;5;241m==\u001b[39m \u001b[43mcv2\u001b[49m\u001b[38;5;241;43m.\u001b[39;49m\u001b[43mEVENT_LBUTTONDBCLK\u001b[49m:\n\u001b[0;32m     13\u001b[0m     cv2\u001b[38;5;241m.\u001b[39mcircle(img, (x,y), \u001b[38;5;241m20\u001b[39m, (\u001b[38;5;241m255\u001b[39m,\u001b[38;5;241m0\u001b[39m,\u001b[38;5;241m0\u001b[39m), \u001b[38;5;241m-\u001b[39m\u001b[38;5;241m1\u001b[39m)\n",
      "\u001b[1;31mAttributeError\u001b[0m: module 'cv2' has no attribute 'EVENT_LBUTTONDBCLK'"
     ]
    },
    {
     "ename": "AttributeError",
     "evalue": "module 'cv2' has no attribute 'EVENT_LBUTTONDBCLK'",
     "output_type": "error",
     "traceback": [
      "\u001b[1;31m---------------------------------------------------------------------------\u001b[0m",
      "\u001b[1;31mAttributeError\u001b[0m                            Traceback (most recent call last)",
      "Cell \u001b[1;32mIn[6], line 12\u001b[0m, in \u001b[0;36mdraw_circle\u001b[1;34m(event, x, y, flags, param)\u001b[0m\n\u001b[0;32m     10\u001b[0m \u001b[38;5;28;01melif\u001b[39;00m event \u001b[38;5;241m==\u001b[39m cv2\u001b[38;5;241m.\u001b[39mEVENT_RBUTTONDOWN:\n\u001b[0;32m     11\u001b[0m     cv2\u001b[38;5;241m.\u001b[39mcircle(img, (x,y), \u001b[38;5;241m10\u001b[39m, (\u001b[38;5;241m255\u001b[39m,\u001b[38;5;241m0\u001b[39m,\u001b[38;5;241m0\u001b[39m), \u001b[38;5;241m2\u001b[39m)\n\u001b[1;32m---> 12\u001b[0m \u001b[38;5;28;01melif\u001b[39;00m event \u001b[38;5;241m==\u001b[39m \u001b[43mcv2\u001b[49m\u001b[38;5;241;43m.\u001b[39;49m\u001b[43mEVENT_LBUTTONDBCLK\u001b[49m:\n\u001b[0;32m     13\u001b[0m     cv2\u001b[38;5;241m.\u001b[39mcircle(img, (x,y), \u001b[38;5;241m20\u001b[39m, (\u001b[38;5;241m255\u001b[39m,\u001b[38;5;241m0\u001b[39m,\u001b[38;5;241m0\u001b[39m), \u001b[38;5;241m-\u001b[39m\u001b[38;5;241m1\u001b[39m)\n",
      "\u001b[1;31mAttributeError\u001b[0m: module 'cv2' has no attribute 'EVENT_LBUTTONDBCLK'"
     ]
    },
    {
     "ename": "AttributeError",
     "evalue": "module 'cv2' has no attribute 'EVENT_LBUTTONDBCLK'",
     "output_type": "error",
     "traceback": [
      "\u001b[1;31m---------------------------------------------------------------------------\u001b[0m",
      "\u001b[1;31mAttributeError\u001b[0m                            Traceback (most recent call last)",
      "Cell \u001b[1;32mIn[6], line 12\u001b[0m, in \u001b[0;36mdraw_circle\u001b[1;34m(event, x, y, flags, param)\u001b[0m\n\u001b[0;32m     10\u001b[0m \u001b[38;5;28;01melif\u001b[39;00m event \u001b[38;5;241m==\u001b[39m cv2\u001b[38;5;241m.\u001b[39mEVENT_RBUTTONDOWN:\n\u001b[0;32m     11\u001b[0m     cv2\u001b[38;5;241m.\u001b[39mcircle(img, (x,y), \u001b[38;5;241m10\u001b[39m, (\u001b[38;5;241m255\u001b[39m,\u001b[38;5;241m0\u001b[39m,\u001b[38;5;241m0\u001b[39m), \u001b[38;5;241m2\u001b[39m)\n\u001b[1;32m---> 12\u001b[0m \u001b[38;5;28;01melif\u001b[39;00m event \u001b[38;5;241m==\u001b[39m \u001b[43mcv2\u001b[49m\u001b[38;5;241;43m.\u001b[39;49m\u001b[43mEVENT_LBUTTONDBCLK\u001b[49m:\n\u001b[0;32m     13\u001b[0m     cv2\u001b[38;5;241m.\u001b[39mcircle(img, (x,y), \u001b[38;5;241m20\u001b[39m, (\u001b[38;5;241m255\u001b[39m,\u001b[38;5;241m0\u001b[39m,\u001b[38;5;241m0\u001b[39m), \u001b[38;5;241m-\u001b[39m\u001b[38;5;241m1\u001b[39m)\n",
      "\u001b[1;31mAttributeError\u001b[0m: module 'cv2' has no attribute 'EVENT_LBUTTONDBCLK'"
     ]
    },
    {
     "ename": "AttributeError",
     "evalue": "module 'cv2' has no attribute 'EVENT_LBUTTONDBCLK'",
     "output_type": "error",
     "traceback": [
      "\u001b[1;31m---------------------------------------------------------------------------\u001b[0m",
      "\u001b[1;31mAttributeError\u001b[0m                            Traceback (most recent call last)",
      "Cell \u001b[1;32mIn[6], line 12\u001b[0m, in \u001b[0;36mdraw_circle\u001b[1;34m(event, x, y, flags, param)\u001b[0m\n\u001b[0;32m     10\u001b[0m \u001b[38;5;28;01melif\u001b[39;00m event \u001b[38;5;241m==\u001b[39m cv2\u001b[38;5;241m.\u001b[39mEVENT_RBUTTONDOWN:\n\u001b[0;32m     11\u001b[0m     cv2\u001b[38;5;241m.\u001b[39mcircle(img, (x,y), \u001b[38;5;241m10\u001b[39m, (\u001b[38;5;241m255\u001b[39m,\u001b[38;5;241m0\u001b[39m,\u001b[38;5;241m0\u001b[39m), \u001b[38;5;241m2\u001b[39m)\n\u001b[1;32m---> 12\u001b[0m \u001b[38;5;28;01melif\u001b[39;00m event \u001b[38;5;241m==\u001b[39m \u001b[43mcv2\u001b[49m\u001b[38;5;241;43m.\u001b[39;49m\u001b[43mEVENT_LBUTTONDBCLK\u001b[49m:\n\u001b[0;32m     13\u001b[0m     cv2\u001b[38;5;241m.\u001b[39mcircle(img, (x,y), \u001b[38;5;241m20\u001b[39m, (\u001b[38;5;241m255\u001b[39m,\u001b[38;5;241m0\u001b[39m,\u001b[38;5;241m0\u001b[39m), \u001b[38;5;241m-\u001b[39m\u001b[38;5;241m1\u001b[39m)\n",
      "\u001b[1;31mAttributeError\u001b[0m: module 'cv2' has no attribute 'EVENT_LBUTTONDBCLK'"
     ]
    },
    {
     "ename": "AttributeError",
     "evalue": "module 'cv2' has no attribute 'EVENT_LBUTTONDBCLK'",
     "output_type": "error",
     "traceback": [
      "\u001b[1;31m---------------------------------------------------------------------------\u001b[0m",
      "\u001b[1;31mAttributeError\u001b[0m                            Traceback (most recent call last)",
      "Cell \u001b[1;32mIn[6], line 12\u001b[0m, in \u001b[0;36mdraw_circle\u001b[1;34m(event, x, y, flags, param)\u001b[0m\n\u001b[0;32m     10\u001b[0m \u001b[38;5;28;01melif\u001b[39;00m event \u001b[38;5;241m==\u001b[39m cv2\u001b[38;5;241m.\u001b[39mEVENT_RBUTTONDOWN:\n\u001b[0;32m     11\u001b[0m     cv2\u001b[38;5;241m.\u001b[39mcircle(img, (x,y), \u001b[38;5;241m10\u001b[39m, (\u001b[38;5;241m255\u001b[39m,\u001b[38;5;241m0\u001b[39m,\u001b[38;5;241m0\u001b[39m), \u001b[38;5;241m2\u001b[39m)\n\u001b[1;32m---> 12\u001b[0m \u001b[38;5;28;01melif\u001b[39;00m event \u001b[38;5;241m==\u001b[39m \u001b[43mcv2\u001b[49m\u001b[38;5;241;43m.\u001b[39;49m\u001b[43mEVENT_LBUTTONDBCLK\u001b[49m:\n\u001b[0;32m     13\u001b[0m     cv2\u001b[38;5;241m.\u001b[39mcircle(img, (x,y), \u001b[38;5;241m20\u001b[39m, (\u001b[38;5;241m255\u001b[39m,\u001b[38;5;241m0\u001b[39m,\u001b[38;5;241m0\u001b[39m), \u001b[38;5;241m-\u001b[39m\u001b[38;5;241m1\u001b[39m)\n",
      "\u001b[1;31mAttributeError\u001b[0m: module 'cv2' has no attribute 'EVENT_LBUTTONDBCLK'"
     ]
    },
    {
     "ename": "AttributeError",
     "evalue": "module 'cv2' has no attribute 'EVENT_LBUTTONDBCLK'",
     "output_type": "error",
     "traceback": [
      "\u001b[1;31m---------------------------------------------------------------------------\u001b[0m",
      "\u001b[1;31mAttributeError\u001b[0m                            Traceback (most recent call last)",
      "Cell \u001b[1;32mIn[6], line 12\u001b[0m, in \u001b[0;36mdraw_circle\u001b[1;34m(event, x, y, flags, param)\u001b[0m\n\u001b[0;32m     10\u001b[0m \u001b[38;5;28;01melif\u001b[39;00m event \u001b[38;5;241m==\u001b[39m cv2\u001b[38;5;241m.\u001b[39mEVENT_RBUTTONDOWN:\n\u001b[0;32m     11\u001b[0m     cv2\u001b[38;5;241m.\u001b[39mcircle(img, (x,y), \u001b[38;5;241m10\u001b[39m, (\u001b[38;5;241m255\u001b[39m,\u001b[38;5;241m0\u001b[39m,\u001b[38;5;241m0\u001b[39m), \u001b[38;5;241m2\u001b[39m)\n\u001b[1;32m---> 12\u001b[0m \u001b[38;5;28;01melif\u001b[39;00m event \u001b[38;5;241m==\u001b[39m \u001b[43mcv2\u001b[49m\u001b[38;5;241;43m.\u001b[39;49m\u001b[43mEVENT_LBUTTONDBCLK\u001b[49m:\n\u001b[0;32m     13\u001b[0m     cv2\u001b[38;5;241m.\u001b[39mcircle(img, (x,y), \u001b[38;5;241m20\u001b[39m, (\u001b[38;5;241m255\u001b[39m,\u001b[38;5;241m0\u001b[39m,\u001b[38;5;241m0\u001b[39m), \u001b[38;5;241m-\u001b[39m\u001b[38;5;241m1\u001b[39m)\n",
      "\u001b[1;31mAttributeError\u001b[0m: module 'cv2' has no attribute 'EVENT_LBUTTONDBCLK'"
     ]
    },
    {
     "ename": "AttributeError",
     "evalue": "module 'cv2' has no attribute 'EVENT_LBUTTONDBCLK'",
     "output_type": "error",
     "traceback": [
      "\u001b[1;31m---------------------------------------------------------------------------\u001b[0m",
      "\u001b[1;31mAttributeError\u001b[0m                            Traceback (most recent call last)",
      "Cell \u001b[1;32mIn[6], line 12\u001b[0m, in \u001b[0;36mdraw_circle\u001b[1;34m(event, x, y, flags, param)\u001b[0m\n\u001b[0;32m     10\u001b[0m \u001b[38;5;28;01melif\u001b[39;00m event \u001b[38;5;241m==\u001b[39m cv2\u001b[38;5;241m.\u001b[39mEVENT_RBUTTONDOWN:\n\u001b[0;32m     11\u001b[0m     cv2\u001b[38;5;241m.\u001b[39mcircle(img, (x,y), \u001b[38;5;241m10\u001b[39m, (\u001b[38;5;241m255\u001b[39m,\u001b[38;5;241m0\u001b[39m,\u001b[38;5;241m0\u001b[39m), \u001b[38;5;241m2\u001b[39m)\n\u001b[1;32m---> 12\u001b[0m \u001b[38;5;28;01melif\u001b[39;00m event \u001b[38;5;241m==\u001b[39m \u001b[43mcv2\u001b[49m\u001b[38;5;241;43m.\u001b[39;49m\u001b[43mEVENT_LBUTTONDBCLK\u001b[49m:\n\u001b[0;32m     13\u001b[0m     cv2\u001b[38;5;241m.\u001b[39mcircle(img, (x,y), \u001b[38;5;241m20\u001b[39m, (\u001b[38;5;241m255\u001b[39m,\u001b[38;5;241m0\u001b[39m,\u001b[38;5;241m0\u001b[39m), \u001b[38;5;241m-\u001b[39m\u001b[38;5;241m1\u001b[39m)\n",
      "\u001b[1;31mAttributeError\u001b[0m: module 'cv2' has no attribute 'EVENT_LBUTTONDBCLK'"
     ]
    },
    {
     "ename": "AttributeError",
     "evalue": "module 'cv2' has no attribute 'EVENT_LBUTTONDBCLK'",
     "output_type": "error",
     "traceback": [
      "\u001b[1;31m---------------------------------------------------------------------------\u001b[0m",
      "\u001b[1;31mAttributeError\u001b[0m                            Traceback (most recent call last)",
      "Cell \u001b[1;32mIn[6], line 12\u001b[0m, in \u001b[0;36mdraw_circle\u001b[1;34m(event, x, y, flags, param)\u001b[0m\n\u001b[0;32m     10\u001b[0m \u001b[38;5;28;01melif\u001b[39;00m event \u001b[38;5;241m==\u001b[39m cv2\u001b[38;5;241m.\u001b[39mEVENT_RBUTTONDOWN:\n\u001b[0;32m     11\u001b[0m     cv2\u001b[38;5;241m.\u001b[39mcircle(img, (x,y), \u001b[38;5;241m10\u001b[39m, (\u001b[38;5;241m255\u001b[39m,\u001b[38;5;241m0\u001b[39m,\u001b[38;5;241m0\u001b[39m), \u001b[38;5;241m2\u001b[39m)\n\u001b[1;32m---> 12\u001b[0m \u001b[38;5;28;01melif\u001b[39;00m event \u001b[38;5;241m==\u001b[39m \u001b[43mcv2\u001b[49m\u001b[38;5;241;43m.\u001b[39;49m\u001b[43mEVENT_LBUTTONDBCLK\u001b[49m:\n\u001b[0;32m     13\u001b[0m     cv2\u001b[38;5;241m.\u001b[39mcircle(img, (x,y), \u001b[38;5;241m20\u001b[39m, (\u001b[38;5;241m255\u001b[39m,\u001b[38;5;241m0\u001b[39m,\u001b[38;5;241m0\u001b[39m), \u001b[38;5;241m-\u001b[39m\u001b[38;5;241m1\u001b[39m)\n",
      "\u001b[1;31mAttributeError\u001b[0m: module 'cv2' has no attribute 'EVENT_LBUTTONDBCLK'"
     ]
    },
    {
     "ename": "AttributeError",
     "evalue": "module 'cv2' has no attribute 'EVENT_LBUTTONDBCLK'",
     "output_type": "error",
     "traceback": [
      "\u001b[1;31m---------------------------------------------------------------------------\u001b[0m",
      "\u001b[1;31mAttributeError\u001b[0m                            Traceback (most recent call last)",
      "Cell \u001b[1;32mIn[6], line 12\u001b[0m, in \u001b[0;36mdraw_circle\u001b[1;34m(event, x, y, flags, param)\u001b[0m\n\u001b[0;32m     10\u001b[0m \u001b[38;5;28;01melif\u001b[39;00m event \u001b[38;5;241m==\u001b[39m cv2\u001b[38;5;241m.\u001b[39mEVENT_RBUTTONDOWN:\n\u001b[0;32m     11\u001b[0m     cv2\u001b[38;5;241m.\u001b[39mcircle(img, (x,y), \u001b[38;5;241m10\u001b[39m, (\u001b[38;5;241m255\u001b[39m,\u001b[38;5;241m0\u001b[39m,\u001b[38;5;241m0\u001b[39m), \u001b[38;5;241m2\u001b[39m)\n\u001b[1;32m---> 12\u001b[0m \u001b[38;5;28;01melif\u001b[39;00m event \u001b[38;5;241m==\u001b[39m \u001b[43mcv2\u001b[49m\u001b[38;5;241;43m.\u001b[39;49m\u001b[43mEVENT_LBUTTONDBCLK\u001b[49m:\n\u001b[0;32m     13\u001b[0m     cv2\u001b[38;5;241m.\u001b[39mcircle(img, (x,y), \u001b[38;5;241m20\u001b[39m, (\u001b[38;5;241m255\u001b[39m,\u001b[38;5;241m0\u001b[39m,\u001b[38;5;241m0\u001b[39m), \u001b[38;5;241m-\u001b[39m\u001b[38;5;241m1\u001b[39m)\n",
      "\u001b[1;31mAttributeError\u001b[0m: module 'cv2' has no attribute 'EVENT_LBUTTONDBCLK'"
     ]
    },
    {
     "ename": "AttributeError",
     "evalue": "module 'cv2' has no attribute 'EVENT_LBUTTONDBCLK'",
     "output_type": "error",
     "traceback": [
      "\u001b[1;31m---------------------------------------------------------------------------\u001b[0m",
      "\u001b[1;31mAttributeError\u001b[0m                            Traceback (most recent call last)",
      "Cell \u001b[1;32mIn[6], line 12\u001b[0m, in \u001b[0;36mdraw_circle\u001b[1;34m(event, x, y, flags, param)\u001b[0m\n\u001b[0;32m     10\u001b[0m \u001b[38;5;28;01melif\u001b[39;00m event \u001b[38;5;241m==\u001b[39m cv2\u001b[38;5;241m.\u001b[39mEVENT_RBUTTONDOWN:\n\u001b[0;32m     11\u001b[0m     cv2\u001b[38;5;241m.\u001b[39mcircle(img, (x,y), \u001b[38;5;241m10\u001b[39m, (\u001b[38;5;241m255\u001b[39m,\u001b[38;5;241m0\u001b[39m,\u001b[38;5;241m0\u001b[39m), \u001b[38;5;241m2\u001b[39m)\n\u001b[1;32m---> 12\u001b[0m \u001b[38;5;28;01melif\u001b[39;00m event \u001b[38;5;241m==\u001b[39m \u001b[43mcv2\u001b[49m\u001b[38;5;241;43m.\u001b[39;49m\u001b[43mEVENT_LBUTTONDBCLK\u001b[49m:\n\u001b[0;32m     13\u001b[0m     cv2\u001b[38;5;241m.\u001b[39mcircle(img, (x,y), \u001b[38;5;241m20\u001b[39m, (\u001b[38;5;241m255\u001b[39m,\u001b[38;5;241m0\u001b[39m,\u001b[38;5;241m0\u001b[39m), \u001b[38;5;241m-\u001b[39m\u001b[38;5;241m1\u001b[39m)\n",
      "\u001b[1;31mAttributeError\u001b[0m: module 'cv2' has no attribute 'EVENT_LBUTTONDBCLK'"
     ]
    },
    {
     "ename": "AttributeError",
     "evalue": "module 'cv2' has no attribute 'EVENT_LBUTTONDBCLK'",
     "output_type": "error",
     "traceback": [
      "\u001b[1;31m---------------------------------------------------------------------------\u001b[0m",
      "\u001b[1;31mAttributeError\u001b[0m                            Traceback (most recent call last)",
      "Cell \u001b[1;32mIn[6], line 12\u001b[0m, in \u001b[0;36mdraw_circle\u001b[1;34m(event, x, y, flags, param)\u001b[0m\n\u001b[0;32m     10\u001b[0m \u001b[38;5;28;01melif\u001b[39;00m event \u001b[38;5;241m==\u001b[39m cv2\u001b[38;5;241m.\u001b[39mEVENT_RBUTTONDOWN:\n\u001b[0;32m     11\u001b[0m     cv2\u001b[38;5;241m.\u001b[39mcircle(img, (x,y), \u001b[38;5;241m10\u001b[39m, (\u001b[38;5;241m255\u001b[39m,\u001b[38;5;241m0\u001b[39m,\u001b[38;5;241m0\u001b[39m), \u001b[38;5;241m2\u001b[39m)\n\u001b[1;32m---> 12\u001b[0m \u001b[38;5;28;01melif\u001b[39;00m event \u001b[38;5;241m==\u001b[39m \u001b[43mcv2\u001b[49m\u001b[38;5;241;43m.\u001b[39;49m\u001b[43mEVENT_LBUTTONDBCLK\u001b[49m:\n\u001b[0;32m     13\u001b[0m     cv2\u001b[38;5;241m.\u001b[39mcircle(img, (x,y), \u001b[38;5;241m20\u001b[39m, (\u001b[38;5;241m255\u001b[39m,\u001b[38;5;241m0\u001b[39m,\u001b[38;5;241m0\u001b[39m), \u001b[38;5;241m-\u001b[39m\u001b[38;5;241m1\u001b[39m)\n",
      "\u001b[1;31mAttributeError\u001b[0m: module 'cv2' has no attribute 'EVENT_LBUTTONDBCLK'"
     ]
    },
    {
     "ename": "AttributeError",
     "evalue": "module 'cv2' has no attribute 'EVENT_LBUTTONDBCLK'",
     "output_type": "error",
     "traceback": [
      "\u001b[1;31m---------------------------------------------------------------------------\u001b[0m",
      "\u001b[1;31mAttributeError\u001b[0m                            Traceback (most recent call last)",
      "Cell \u001b[1;32mIn[6], line 12\u001b[0m, in \u001b[0;36mdraw_circle\u001b[1;34m(event, x, y, flags, param)\u001b[0m\n\u001b[0;32m     10\u001b[0m \u001b[38;5;28;01melif\u001b[39;00m event \u001b[38;5;241m==\u001b[39m cv2\u001b[38;5;241m.\u001b[39mEVENT_RBUTTONDOWN:\n\u001b[0;32m     11\u001b[0m     cv2\u001b[38;5;241m.\u001b[39mcircle(img, (x,y), \u001b[38;5;241m10\u001b[39m, (\u001b[38;5;241m255\u001b[39m,\u001b[38;5;241m0\u001b[39m,\u001b[38;5;241m0\u001b[39m), \u001b[38;5;241m2\u001b[39m)\n\u001b[1;32m---> 12\u001b[0m \u001b[38;5;28;01melif\u001b[39;00m event \u001b[38;5;241m==\u001b[39m \u001b[43mcv2\u001b[49m\u001b[38;5;241;43m.\u001b[39;49m\u001b[43mEVENT_LBUTTONDBCLK\u001b[49m:\n\u001b[0;32m     13\u001b[0m     cv2\u001b[38;5;241m.\u001b[39mcircle(img, (x,y), \u001b[38;5;241m20\u001b[39m, (\u001b[38;5;241m255\u001b[39m,\u001b[38;5;241m0\u001b[39m,\u001b[38;5;241m0\u001b[39m), \u001b[38;5;241m-\u001b[39m\u001b[38;5;241m1\u001b[39m)\n",
      "\u001b[1;31mAttributeError\u001b[0m: module 'cv2' has no attribute 'EVENT_LBUTTONDBCLK'"
     ]
    },
    {
     "ename": "AttributeError",
     "evalue": "module 'cv2' has no attribute 'EVENT_LBUTTONDBCLK'",
     "output_type": "error",
     "traceback": [
      "\u001b[1;31m---------------------------------------------------------------------------\u001b[0m",
      "\u001b[1;31mAttributeError\u001b[0m                            Traceback (most recent call last)",
      "Cell \u001b[1;32mIn[6], line 12\u001b[0m, in \u001b[0;36mdraw_circle\u001b[1;34m(event, x, y, flags, param)\u001b[0m\n\u001b[0;32m     10\u001b[0m \u001b[38;5;28;01melif\u001b[39;00m event \u001b[38;5;241m==\u001b[39m cv2\u001b[38;5;241m.\u001b[39mEVENT_RBUTTONDOWN:\n\u001b[0;32m     11\u001b[0m     cv2\u001b[38;5;241m.\u001b[39mcircle(img, (x,y), \u001b[38;5;241m10\u001b[39m, (\u001b[38;5;241m255\u001b[39m,\u001b[38;5;241m0\u001b[39m,\u001b[38;5;241m0\u001b[39m), \u001b[38;5;241m2\u001b[39m)\n\u001b[1;32m---> 12\u001b[0m \u001b[38;5;28;01melif\u001b[39;00m event \u001b[38;5;241m==\u001b[39m \u001b[43mcv2\u001b[49m\u001b[38;5;241;43m.\u001b[39;49m\u001b[43mEVENT_LBUTTONDBCLK\u001b[49m:\n\u001b[0;32m     13\u001b[0m     cv2\u001b[38;5;241m.\u001b[39mcircle(img, (x,y), \u001b[38;5;241m20\u001b[39m, (\u001b[38;5;241m255\u001b[39m,\u001b[38;5;241m0\u001b[39m,\u001b[38;5;241m0\u001b[39m), \u001b[38;5;241m-\u001b[39m\u001b[38;5;241m1\u001b[39m)\n",
      "\u001b[1;31mAttributeError\u001b[0m: module 'cv2' has no attribute 'EVENT_LBUTTONDBCLK'"
     ]
    },
    {
     "ename": "AttributeError",
     "evalue": "module 'cv2' has no attribute 'EVENT_LBUTTONDBCLK'",
     "output_type": "error",
     "traceback": [
      "\u001b[1;31m---------------------------------------------------------------------------\u001b[0m",
      "\u001b[1;31mAttributeError\u001b[0m                            Traceback (most recent call last)",
      "Cell \u001b[1;32mIn[6], line 12\u001b[0m, in \u001b[0;36mdraw_circle\u001b[1;34m(event, x, y, flags, param)\u001b[0m\n\u001b[0;32m     10\u001b[0m \u001b[38;5;28;01melif\u001b[39;00m event \u001b[38;5;241m==\u001b[39m cv2\u001b[38;5;241m.\u001b[39mEVENT_RBUTTONDOWN:\n\u001b[0;32m     11\u001b[0m     cv2\u001b[38;5;241m.\u001b[39mcircle(img, (x,y), \u001b[38;5;241m10\u001b[39m, (\u001b[38;5;241m255\u001b[39m,\u001b[38;5;241m0\u001b[39m,\u001b[38;5;241m0\u001b[39m), \u001b[38;5;241m2\u001b[39m)\n\u001b[1;32m---> 12\u001b[0m \u001b[38;5;28;01melif\u001b[39;00m event \u001b[38;5;241m==\u001b[39m \u001b[43mcv2\u001b[49m\u001b[38;5;241;43m.\u001b[39;49m\u001b[43mEVENT_LBUTTONDBCLK\u001b[49m:\n\u001b[0;32m     13\u001b[0m     cv2\u001b[38;5;241m.\u001b[39mcircle(img, (x,y), \u001b[38;5;241m20\u001b[39m, (\u001b[38;5;241m255\u001b[39m,\u001b[38;5;241m0\u001b[39m,\u001b[38;5;241m0\u001b[39m), \u001b[38;5;241m-\u001b[39m\u001b[38;5;241m1\u001b[39m)\n",
      "\u001b[1;31mAttributeError\u001b[0m: module 'cv2' has no attribute 'EVENT_LBUTTONDBCLK'"
     ]
    },
    {
     "ename": "AttributeError",
     "evalue": "module 'cv2' has no attribute 'EVENT_LBUTTONDBCLK'",
     "output_type": "error",
     "traceback": [
      "\u001b[1;31m---------------------------------------------------------------------------\u001b[0m",
      "\u001b[1;31mAttributeError\u001b[0m                            Traceback (most recent call last)",
      "Cell \u001b[1;32mIn[6], line 12\u001b[0m, in \u001b[0;36mdraw_circle\u001b[1;34m(event, x, y, flags, param)\u001b[0m\n\u001b[0;32m     10\u001b[0m \u001b[38;5;28;01melif\u001b[39;00m event \u001b[38;5;241m==\u001b[39m cv2\u001b[38;5;241m.\u001b[39mEVENT_RBUTTONDOWN:\n\u001b[0;32m     11\u001b[0m     cv2\u001b[38;5;241m.\u001b[39mcircle(img, (x,y), \u001b[38;5;241m10\u001b[39m, (\u001b[38;5;241m255\u001b[39m,\u001b[38;5;241m0\u001b[39m,\u001b[38;5;241m0\u001b[39m), \u001b[38;5;241m2\u001b[39m)\n\u001b[1;32m---> 12\u001b[0m \u001b[38;5;28;01melif\u001b[39;00m event \u001b[38;5;241m==\u001b[39m \u001b[43mcv2\u001b[49m\u001b[38;5;241;43m.\u001b[39;49m\u001b[43mEVENT_LBUTTONDBCLK\u001b[49m:\n\u001b[0;32m     13\u001b[0m     cv2\u001b[38;5;241m.\u001b[39mcircle(img, (x,y), \u001b[38;5;241m20\u001b[39m, (\u001b[38;5;241m255\u001b[39m,\u001b[38;5;241m0\u001b[39m,\u001b[38;5;241m0\u001b[39m), \u001b[38;5;241m-\u001b[39m\u001b[38;5;241m1\u001b[39m)\n",
      "\u001b[1;31mAttributeError\u001b[0m: module 'cv2' has no attribute 'EVENT_LBUTTONDBCLK'"
     ]
    },
    {
     "ename": "AttributeError",
     "evalue": "module 'cv2' has no attribute 'EVENT_LBUTTONDBCLK'",
     "output_type": "error",
     "traceback": [
      "\u001b[1;31m---------------------------------------------------------------------------\u001b[0m",
      "\u001b[1;31mAttributeError\u001b[0m                            Traceback (most recent call last)",
      "Cell \u001b[1;32mIn[6], line 12\u001b[0m, in \u001b[0;36mdraw_circle\u001b[1;34m(event, x, y, flags, param)\u001b[0m\n\u001b[0;32m     10\u001b[0m \u001b[38;5;28;01melif\u001b[39;00m event \u001b[38;5;241m==\u001b[39m cv2\u001b[38;5;241m.\u001b[39mEVENT_RBUTTONDOWN:\n\u001b[0;32m     11\u001b[0m     cv2\u001b[38;5;241m.\u001b[39mcircle(img, (x,y), \u001b[38;5;241m10\u001b[39m, (\u001b[38;5;241m255\u001b[39m,\u001b[38;5;241m0\u001b[39m,\u001b[38;5;241m0\u001b[39m), \u001b[38;5;241m2\u001b[39m)\n\u001b[1;32m---> 12\u001b[0m \u001b[38;5;28;01melif\u001b[39;00m event \u001b[38;5;241m==\u001b[39m \u001b[43mcv2\u001b[49m\u001b[38;5;241;43m.\u001b[39;49m\u001b[43mEVENT_LBUTTONDBCLK\u001b[49m:\n\u001b[0;32m     13\u001b[0m     cv2\u001b[38;5;241m.\u001b[39mcircle(img, (x,y), \u001b[38;5;241m20\u001b[39m, (\u001b[38;5;241m255\u001b[39m,\u001b[38;5;241m0\u001b[39m,\u001b[38;5;241m0\u001b[39m), \u001b[38;5;241m-\u001b[39m\u001b[38;5;241m1\u001b[39m)\n",
      "\u001b[1;31mAttributeError\u001b[0m: module 'cv2' has no attribute 'EVENT_LBUTTONDBCLK'"
     ]
    },
    {
     "ename": "AttributeError",
     "evalue": "module 'cv2' has no attribute 'EVENT_LBUTTONDBCLK'",
     "output_type": "error",
     "traceback": [
      "\u001b[1;31m---------------------------------------------------------------------------\u001b[0m",
      "\u001b[1;31mAttributeError\u001b[0m                            Traceback (most recent call last)",
      "Cell \u001b[1;32mIn[6], line 12\u001b[0m, in \u001b[0;36mdraw_circle\u001b[1;34m(event, x, y, flags, param)\u001b[0m\n\u001b[0;32m     10\u001b[0m \u001b[38;5;28;01melif\u001b[39;00m event \u001b[38;5;241m==\u001b[39m cv2\u001b[38;5;241m.\u001b[39mEVENT_RBUTTONDOWN:\n\u001b[0;32m     11\u001b[0m     cv2\u001b[38;5;241m.\u001b[39mcircle(img, (x,y), \u001b[38;5;241m10\u001b[39m, (\u001b[38;5;241m255\u001b[39m,\u001b[38;5;241m0\u001b[39m,\u001b[38;5;241m0\u001b[39m), \u001b[38;5;241m2\u001b[39m)\n\u001b[1;32m---> 12\u001b[0m \u001b[38;5;28;01melif\u001b[39;00m event \u001b[38;5;241m==\u001b[39m \u001b[43mcv2\u001b[49m\u001b[38;5;241;43m.\u001b[39;49m\u001b[43mEVENT_LBUTTONDBCLK\u001b[49m:\n\u001b[0;32m     13\u001b[0m     cv2\u001b[38;5;241m.\u001b[39mcircle(img, (x,y), \u001b[38;5;241m20\u001b[39m, (\u001b[38;5;241m255\u001b[39m,\u001b[38;5;241m0\u001b[39m,\u001b[38;5;241m0\u001b[39m), \u001b[38;5;241m-\u001b[39m\u001b[38;5;241m1\u001b[39m)\n",
      "\u001b[1;31mAttributeError\u001b[0m: module 'cv2' has no attribute 'EVENT_LBUTTONDBCLK'"
     ]
    },
    {
     "ename": "AttributeError",
     "evalue": "module 'cv2' has no attribute 'EVENT_LBUTTONDBCLK'",
     "output_type": "error",
     "traceback": [
      "\u001b[1;31m---------------------------------------------------------------------------\u001b[0m",
      "\u001b[1;31mAttributeError\u001b[0m                            Traceback (most recent call last)",
      "Cell \u001b[1;32mIn[6], line 12\u001b[0m, in \u001b[0;36mdraw_circle\u001b[1;34m(event, x, y, flags, param)\u001b[0m\n\u001b[0;32m     10\u001b[0m \u001b[38;5;28;01melif\u001b[39;00m event \u001b[38;5;241m==\u001b[39m cv2\u001b[38;5;241m.\u001b[39mEVENT_RBUTTONDOWN:\n\u001b[0;32m     11\u001b[0m     cv2\u001b[38;5;241m.\u001b[39mcircle(img, (x,y), \u001b[38;5;241m10\u001b[39m, (\u001b[38;5;241m255\u001b[39m,\u001b[38;5;241m0\u001b[39m,\u001b[38;5;241m0\u001b[39m), \u001b[38;5;241m2\u001b[39m)\n\u001b[1;32m---> 12\u001b[0m \u001b[38;5;28;01melif\u001b[39;00m event \u001b[38;5;241m==\u001b[39m \u001b[43mcv2\u001b[49m\u001b[38;5;241;43m.\u001b[39;49m\u001b[43mEVENT_LBUTTONDBCLK\u001b[49m:\n\u001b[0;32m     13\u001b[0m     cv2\u001b[38;5;241m.\u001b[39mcircle(img, (x,y), \u001b[38;5;241m20\u001b[39m, (\u001b[38;5;241m255\u001b[39m,\u001b[38;5;241m0\u001b[39m,\u001b[38;5;241m0\u001b[39m), \u001b[38;5;241m-\u001b[39m\u001b[38;5;241m1\u001b[39m)\n",
      "\u001b[1;31mAttributeError\u001b[0m: module 'cv2' has no attribute 'EVENT_LBUTTONDBCLK'"
     ]
    },
    {
     "ename": "AttributeError",
     "evalue": "module 'cv2' has no attribute 'EVENT_LBUTTONDBCLK'",
     "output_type": "error",
     "traceback": [
      "\u001b[1;31m---------------------------------------------------------------------------\u001b[0m",
      "\u001b[1;31mAttributeError\u001b[0m                            Traceback (most recent call last)",
      "Cell \u001b[1;32mIn[6], line 12\u001b[0m, in \u001b[0;36mdraw_circle\u001b[1;34m(event, x, y, flags, param)\u001b[0m\n\u001b[0;32m     10\u001b[0m \u001b[38;5;28;01melif\u001b[39;00m event \u001b[38;5;241m==\u001b[39m cv2\u001b[38;5;241m.\u001b[39mEVENT_RBUTTONDOWN:\n\u001b[0;32m     11\u001b[0m     cv2\u001b[38;5;241m.\u001b[39mcircle(img, (x,y), \u001b[38;5;241m10\u001b[39m, (\u001b[38;5;241m255\u001b[39m,\u001b[38;5;241m0\u001b[39m,\u001b[38;5;241m0\u001b[39m), \u001b[38;5;241m2\u001b[39m)\n\u001b[1;32m---> 12\u001b[0m \u001b[38;5;28;01melif\u001b[39;00m event \u001b[38;5;241m==\u001b[39m \u001b[43mcv2\u001b[49m\u001b[38;5;241;43m.\u001b[39;49m\u001b[43mEVENT_LBUTTONDBCLK\u001b[49m:\n\u001b[0;32m     13\u001b[0m     cv2\u001b[38;5;241m.\u001b[39mcircle(img, (x,y), \u001b[38;5;241m20\u001b[39m, (\u001b[38;5;241m255\u001b[39m,\u001b[38;5;241m0\u001b[39m,\u001b[38;5;241m0\u001b[39m), \u001b[38;5;241m-\u001b[39m\u001b[38;5;241m1\u001b[39m)\n",
      "\u001b[1;31mAttributeError\u001b[0m: module 'cv2' has no attribute 'EVENT_LBUTTONDBCLK'"
     ]
    },
    {
     "ename": "AttributeError",
     "evalue": "module 'cv2' has no attribute 'EVENT_LBUTTONDBCLK'",
     "output_type": "error",
     "traceback": [
      "\u001b[1;31m---------------------------------------------------------------------------\u001b[0m",
      "\u001b[1;31mAttributeError\u001b[0m                            Traceback (most recent call last)",
      "Cell \u001b[1;32mIn[6], line 12\u001b[0m, in \u001b[0;36mdraw_circle\u001b[1;34m(event, x, y, flags, param)\u001b[0m\n\u001b[0;32m     10\u001b[0m \u001b[38;5;28;01melif\u001b[39;00m event \u001b[38;5;241m==\u001b[39m cv2\u001b[38;5;241m.\u001b[39mEVENT_RBUTTONDOWN:\n\u001b[0;32m     11\u001b[0m     cv2\u001b[38;5;241m.\u001b[39mcircle(img, (x,y), \u001b[38;5;241m10\u001b[39m, (\u001b[38;5;241m255\u001b[39m,\u001b[38;5;241m0\u001b[39m,\u001b[38;5;241m0\u001b[39m), \u001b[38;5;241m2\u001b[39m)\n\u001b[1;32m---> 12\u001b[0m \u001b[38;5;28;01melif\u001b[39;00m event \u001b[38;5;241m==\u001b[39m \u001b[43mcv2\u001b[49m\u001b[38;5;241;43m.\u001b[39;49m\u001b[43mEVENT_LBUTTONDBCLK\u001b[49m:\n\u001b[0;32m     13\u001b[0m     cv2\u001b[38;5;241m.\u001b[39mcircle(img, (x,y), \u001b[38;5;241m20\u001b[39m, (\u001b[38;5;241m255\u001b[39m,\u001b[38;5;241m0\u001b[39m,\u001b[38;5;241m0\u001b[39m), \u001b[38;5;241m-\u001b[39m\u001b[38;5;241m1\u001b[39m)\n",
      "\u001b[1;31mAttributeError\u001b[0m: module 'cv2' has no attribute 'EVENT_LBUTTONDBCLK'"
     ]
    },
    {
     "ename": "AttributeError",
     "evalue": "module 'cv2' has no attribute 'EVENT_LBUTTONDBCLK'",
     "output_type": "error",
     "traceback": [
      "\u001b[1;31m---------------------------------------------------------------------------\u001b[0m",
      "\u001b[1;31mAttributeError\u001b[0m                            Traceback (most recent call last)",
      "Cell \u001b[1;32mIn[6], line 12\u001b[0m, in \u001b[0;36mdraw_circle\u001b[1;34m(event, x, y, flags, param)\u001b[0m\n\u001b[0;32m     10\u001b[0m \u001b[38;5;28;01melif\u001b[39;00m event \u001b[38;5;241m==\u001b[39m cv2\u001b[38;5;241m.\u001b[39mEVENT_RBUTTONDOWN:\n\u001b[0;32m     11\u001b[0m     cv2\u001b[38;5;241m.\u001b[39mcircle(img, (x,y), \u001b[38;5;241m10\u001b[39m, (\u001b[38;5;241m255\u001b[39m,\u001b[38;5;241m0\u001b[39m,\u001b[38;5;241m0\u001b[39m), \u001b[38;5;241m2\u001b[39m)\n\u001b[1;32m---> 12\u001b[0m \u001b[38;5;28;01melif\u001b[39;00m event \u001b[38;5;241m==\u001b[39m \u001b[43mcv2\u001b[49m\u001b[38;5;241;43m.\u001b[39;49m\u001b[43mEVENT_LBUTTONDBCLK\u001b[49m:\n\u001b[0;32m     13\u001b[0m     cv2\u001b[38;5;241m.\u001b[39mcircle(img, (x,y), \u001b[38;5;241m20\u001b[39m, (\u001b[38;5;241m255\u001b[39m,\u001b[38;5;241m0\u001b[39m,\u001b[38;5;241m0\u001b[39m), \u001b[38;5;241m-\u001b[39m\u001b[38;5;241m1\u001b[39m)\n",
      "\u001b[1;31mAttributeError\u001b[0m: module 'cv2' has no attribute 'EVENT_LBUTTONDBCLK'"
     ]
    },
    {
     "ename": "AttributeError",
     "evalue": "module 'cv2' has no attribute 'EVENT_LBUTTONDBCLK'",
     "output_type": "error",
     "traceback": [
      "\u001b[1;31m---------------------------------------------------------------------------\u001b[0m",
      "\u001b[1;31mAttributeError\u001b[0m                            Traceback (most recent call last)",
      "Cell \u001b[1;32mIn[6], line 12\u001b[0m, in \u001b[0;36mdraw_circle\u001b[1;34m(event, x, y, flags, param)\u001b[0m\n\u001b[0;32m     10\u001b[0m \u001b[38;5;28;01melif\u001b[39;00m event \u001b[38;5;241m==\u001b[39m cv2\u001b[38;5;241m.\u001b[39mEVENT_RBUTTONDOWN:\n\u001b[0;32m     11\u001b[0m     cv2\u001b[38;5;241m.\u001b[39mcircle(img, (x,y), \u001b[38;5;241m10\u001b[39m, (\u001b[38;5;241m255\u001b[39m,\u001b[38;5;241m0\u001b[39m,\u001b[38;5;241m0\u001b[39m), \u001b[38;5;241m2\u001b[39m)\n\u001b[1;32m---> 12\u001b[0m \u001b[38;5;28;01melif\u001b[39;00m event \u001b[38;5;241m==\u001b[39m \u001b[43mcv2\u001b[49m\u001b[38;5;241;43m.\u001b[39;49m\u001b[43mEVENT_LBUTTONDBCLK\u001b[49m:\n\u001b[0;32m     13\u001b[0m     cv2\u001b[38;5;241m.\u001b[39mcircle(img, (x,y), \u001b[38;5;241m20\u001b[39m, (\u001b[38;5;241m255\u001b[39m,\u001b[38;5;241m0\u001b[39m,\u001b[38;5;241m0\u001b[39m), \u001b[38;5;241m-\u001b[39m\u001b[38;5;241m1\u001b[39m)\n",
      "\u001b[1;31mAttributeError\u001b[0m: module 'cv2' has no attribute 'EVENT_LBUTTONDBCLK'"
     ]
    },
    {
     "ename": "AttributeError",
     "evalue": "module 'cv2' has no attribute 'EVENT_LBUTTONDBCLK'",
     "output_type": "error",
     "traceback": [
      "\u001b[1;31m---------------------------------------------------------------------------\u001b[0m",
      "\u001b[1;31mAttributeError\u001b[0m                            Traceback (most recent call last)",
      "Cell \u001b[1;32mIn[6], line 12\u001b[0m, in \u001b[0;36mdraw_circle\u001b[1;34m(event, x, y, flags, param)\u001b[0m\n\u001b[0;32m     10\u001b[0m \u001b[38;5;28;01melif\u001b[39;00m event \u001b[38;5;241m==\u001b[39m cv2\u001b[38;5;241m.\u001b[39mEVENT_RBUTTONDOWN:\n\u001b[0;32m     11\u001b[0m     cv2\u001b[38;5;241m.\u001b[39mcircle(img, (x,y), \u001b[38;5;241m10\u001b[39m, (\u001b[38;5;241m255\u001b[39m,\u001b[38;5;241m0\u001b[39m,\u001b[38;5;241m0\u001b[39m), \u001b[38;5;241m2\u001b[39m)\n\u001b[1;32m---> 12\u001b[0m \u001b[38;5;28;01melif\u001b[39;00m event \u001b[38;5;241m==\u001b[39m \u001b[43mcv2\u001b[49m\u001b[38;5;241;43m.\u001b[39;49m\u001b[43mEVENT_LBUTTONDBCLK\u001b[49m:\n\u001b[0;32m     13\u001b[0m     cv2\u001b[38;5;241m.\u001b[39mcircle(img, (x,y), \u001b[38;5;241m20\u001b[39m, (\u001b[38;5;241m255\u001b[39m,\u001b[38;5;241m0\u001b[39m,\u001b[38;5;241m0\u001b[39m), \u001b[38;5;241m-\u001b[39m\u001b[38;5;241m1\u001b[39m)\n",
      "\u001b[1;31mAttributeError\u001b[0m: module 'cv2' has no attribute 'EVENT_LBUTTONDBCLK'"
     ]
    },
    {
     "ename": "AttributeError",
     "evalue": "module 'cv2' has no attribute 'EVENT_LBUTTONDBCLK'",
     "output_type": "error",
     "traceback": [
      "\u001b[1;31m---------------------------------------------------------------------------\u001b[0m",
      "\u001b[1;31mAttributeError\u001b[0m                            Traceback (most recent call last)",
      "Cell \u001b[1;32mIn[6], line 12\u001b[0m, in \u001b[0;36mdraw_circle\u001b[1;34m(event, x, y, flags, param)\u001b[0m\n\u001b[0;32m     10\u001b[0m \u001b[38;5;28;01melif\u001b[39;00m event \u001b[38;5;241m==\u001b[39m cv2\u001b[38;5;241m.\u001b[39mEVENT_RBUTTONDOWN:\n\u001b[0;32m     11\u001b[0m     cv2\u001b[38;5;241m.\u001b[39mcircle(img, (x,y), \u001b[38;5;241m10\u001b[39m, (\u001b[38;5;241m255\u001b[39m,\u001b[38;5;241m0\u001b[39m,\u001b[38;5;241m0\u001b[39m), \u001b[38;5;241m2\u001b[39m)\n\u001b[1;32m---> 12\u001b[0m \u001b[38;5;28;01melif\u001b[39;00m event \u001b[38;5;241m==\u001b[39m \u001b[43mcv2\u001b[49m\u001b[38;5;241;43m.\u001b[39;49m\u001b[43mEVENT_LBUTTONDBCLK\u001b[49m:\n\u001b[0;32m     13\u001b[0m     cv2\u001b[38;5;241m.\u001b[39mcircle(img, (x,y), \u001b[38;5;241m20\u001b[39m, (\u001b[38;5;241m255\u001b[39m,\u001b[38;5;241m0\u001b[39m,\u001b[38;5;241m0\u001b[39m), \u001b[38;5;241m-\u001b[39m\u001b[38;5;241m1\u001b[39m)\n",
      "\u001b[1;31mAttributeError\u001b[0m: module 'cv2' has no attribute 'EVENT_LBUTTONDBCLK'"
     ]
    },
    {
     "ename": "AttributeError",
     "evalue": "module 'cv2' has no attribute 'EVENT_LBUTTONDBCLK'",
     "output_type": "error",
     "traceback": [
      "\u001b[1;31m---------------------------------------------------------------------------\u001b[0m",
      "\u001b[1;31mAttributeError\u001b[0m                            Traceback (most recent call last)",
      "Cell \u001b[1;32mIn[6], line 12\u001b[0m, in \u001b[0;36mdraw_circle\u001b[1;34m(event, x, y, flags, param)\u001b[0m\n\u001b[0;32m     10\u001b[0m \u001b[38;5;28;01melif\u001b[39;00m event \u001b[38;5;241m==\u001b[39m cv2\u001b[38;5;241m.\u001b[39mEVENT_RBUTTONDOWN:\n\u001b[0;32m     11\u001b[0m     cv2\u001b[38;5;241m.\u001b[39mcircle(img, (x,y), \u001b[38;5;241m10\u001b[39m, (\u001b[38;5;241m255\u001b[39m,\u001b[38;5;241m0\u001b[39m,\u001b[38;5;241m0\u001b[39m), \u001b[38;5;241m2\u001b[39m)\n\u001b[1;32m---> 12\u001b[0m \u001b[38;5;28;01melif\u001b[39;00m event \u001b[38;5;241m==\u001b[39m \u001b[43mcv2\u001b[49m\u001b[38;5;241;43m.\u001b[39;49m\u001b[43mEVENT_LBUTTONDBCLK\u001b[49m:\n\u001b[0;32m     13\u001b[0m     cv2\u001b[38;5;241m.\u001b[39mcircle(img, (x,y), \u001b[38;5;241m20\u001b[39m, (\u001b[38;5;241m255\u001b[39m,\u001b[38;5;241m0\u001b[39m,\u001b[38;5;241m0\u001b[39m), \u001b[38;5;241m-\u001b[39m\u001b[38;5;241m1\u001b[39m)\n",
      "\u001b[1;31mAttributeError\u001b[0m: module 'cv2' has no attribute 'EVENT_LBUTTONDBCLK'"
     ]
    },
    {
     "ename": "AttributeError",
     "evalue": "module 'cv2' has no attribute 'EVENT_LBUTTONDBCLK'",
     "output_type": "error",
     "traceback": [
      "\u001b[1;31m---------------------------------------------------------------------------\u001b[0m",
      "\u001b[1;31mAttributeError\u001b[0m                            Traceback (most recent call last)",
      "Cell \u001b[1;32mIn[6], line 12\u001b[0m, in \u001b[0;36mdraw_circle\u001b[1;34m(event, x, y, flags, param)\u001b[0m\n\u001b[0;32m     10\u001b[0m \u001b[38;5;28;01melif\u001b[39;00m event \u001b[38;5;241m==\u001b[39m cv2\u001b[38;5;241m.\u001b[39mEVENT_RBUTTONDOWN:\n\u001b[0;32m     11\u001b[0m     cv2\u001b[38;5;241m.\u001b[39mcircle(img, (x,y), \u001b[38;5;241m10\u001b[39m, (\u001b[38;5;241m255\u001b[39m,\u001b[38;5;241m0\u001b[39m,\u001b[38;5;241m0\u001b[39m), \u001b[38;5;241m2\u001b[39m)\n\u001b[1;32m---> 12\u001b[0m \u001b[38;5;28;01melif\u001b[39;00m event \u001b[38;5;241m==\u001b[39m \u001b[43mcv2\u001b[49m\u001b[38;5;241;43m.\u001b[39;49m\u001b[43mEVENT_LBUTTONDBCLK\u001b[49m:\n\u001b[0;32m     13\u001b[0m     cv2\u001b[38;5;241m.\u001b[39mcircle(img, (x,y), \u001b[38;5;241m20\u001b[39m, (\u001b[38;5;241m255\u001b[39m,\u001b[38;5;241m0\u001b[39m,\u001b[38;5;241m0\u001b[39m), \u001b[38;5;241m-\u001b[39m\u001b[38;5;241m1\u001b[39m)\n",
      "\u001b[1;31mAttributeError\u001b[0m: module 'cv2' has no attribute 'EVENT_LBUTTONDBCLK'"
     ]
    },
    {
     "ename": "AttributeError",
     "evalue": "module 'cv2' has no attribute 'EVENT_LBUTTONDBCLK'",
     "output_type": "error",
     "traceback": [
      "\u001b[1;31m---------------------------------------------------------------------------\u001b[0m",
      "\u001b[1;31mAttributeError\u001b[0m                            Traceback (most recent call last)",
      "Cell \u001b[1;32mIn[6], line 12\u001b[0m, in \u001b[0;36mdraw_circle\u001b[1;34m(event, x, y, flags, param)\u001b[0m\n\u001b[0;32m     10\u001b[0m \u001b[38;5;28;01melif\u001b[39;00m event \u001b[38;5;241m==\u001b[39m cv2\u001b[38;5;241m.\u001b[39mEVENT_RBUTTONDOWN:\n\u001b[0;32m     11\u001b[0m     cv2\u001b[38;5;241m.\u001b[39mcircle(img, (x,y), \u001b[38;5;241m10\u001b[39m, (\u001b[38;5;241m255\u001b[39m,\u001b[38;5;241m0\u001b[39m,\u001b[38;5;241m0\u001b[39m), \u001b[38;5;241m2\u001b[39m)\n\u001b[1;32m---> 12\u001b[0m \u001b[38;5;28;01melif\u001b[39;00m event \u001b[38;5;241m==\u001b[39m \u001b[43mcv2\u001b[49m\u001b[38;5;241;43m.\u001b[39;49m\u001b[43mEVENT_LBUTTONDBCLK\u001b[49m:\n\u001b[0;32m     13\u001b[0m     cv2\u001b[38;5;241m.\u001b[39mcircle(img, (x,y), \u001b[38;5;241m20\u001b[39m, (\u001b[38;5;241m255\u001b[39m,\u001b[38;5;241m0\u001b[39m,\u001b[38;5;241m0\u001b[39m), \u001b[38;5;241m-\u001b[39m\u001b[38;5;241m1\u001b[39m)\n",
      "\u001b[1;31mAttributeError\u001b[0m: module 'cv2' has no attribute 'EVENT_LBUTTONDBCLK'"
     ]
    },
    {
     "ename": "AttributeError",
     "evalue": "module 'cv2' has no attribute 'EVENT_LBUTTONDBCLK'",
     "output_type": "error",
     "traceback": [
      "\u001b[1;31m---------------------------------------------------------------------------\u001b[0m",
      "\u001b[1;31mAttributeError\u001b[0m                            Traceback (most recent call last)",
      "Cell \u001b[1;32mIn[6], line 12\u001b[0m, in \u001b[0;36mdraw_circle\u001b[1;34m(event, x, y, flags, param)\u001b[0m\n\u001b[0;32m     10\u001b[0m \u001b[38;5;28;01melif\u001b[39;00m event \u001b[38;5;241m==\u001b[39m cv2\u001b[38;5;241m.\u001b[39mEVENT_RBUTTONDOWN:\n\u001b[0;32m     11\u001b[0m     cv2\u001b[38;5;241m.\u001b[39mcircle(img, (x,y), \u001b[38;5;241m10\u001b[39m, (\u001b[38;5;241m255\u001b[39m,\u001b[38;5;241m0\u001b[39m,\u001b[38;5;241m0\u001b[39m), \u001b[38;5;241m2\u001b[39m)\n\u001b[1;32m---> 12\u001b[0m \u001b[38;5;28;01melif\u001b[39;00m event \u001b[38;5;241m==\u001b[39m \u001b[43mcv2\u001b[49m\u001b[38;5;241;43m.\u001b[39;49m\u001b[43mEVENT_LBUTTONDBCLK\u001b[49m:\n\u001b[0;32m     13\u001b[0m     cv2\u001b[38;5;241m.\u001b[39mcircle(img, (x,y), \u001b[38;5;241m20\u001b[39m, (\u001b[38;5;241m255\u001b[39m,\u001b[38;5;241m0\u001b[39m,\u001b[38;5;241m0\u001b[39m), \u001b[38;5;241m-\u001b[39m\u001b[38;5;241m1\u001b[39m)\n",
      "\u001b[1;31mAttributeError\u001b[0m: module 'cv2' has no attribute 'EVENT_LBUTTONDBCLK'"
     ]
    },
    {
     "ename": "AttributeError",
     "evalue": "module 'cv2' has no attribute 'EVENT_LBUTTONDBCLK'",
     "output_type": "error",
     "traceback": [
      "\u001b[1;31m---------------------------------------------------------------------------\u001b[0m",
      "\u001b[1;31mAttributeError\u001b[0m                            Traceback (most recent call last)",
      "Cell \u001b[1;32mIn[6], line 12\u001b[0m, in \u001b[0;36mdraw_circle\u001b[1;34m(event, x, y, flags, param)\u001b[0m\n\u001b[0;32m     10\u001b[0m \u001b[38;5;28;01melif\u001b[39;00m event \u001b[38;5;241m==\u001b[39m cv2\u001b[38;5;241m.\u001b[39mEVENT_RBUTTONDOWN:\n\u001b[0;32m     11\u001b[0m     cv2\u001b[38;5;241m.\u001b[39mcircle(img, (x,y), \u001b[38;5;241m10\u001b[39m, (\u001b[38;5;241m255\u001b[39m,\u001b[38;5;241m0\u001b[39m,\u001b[38;5;241m0\u001b[39m), \u001b[38;5;241m2\u001b[39m)\n\u001b[1;32m---> 12\u001b[0m \u001b[38;5;28;01melif\u001b[39;00m event \u001b[38;5;241m==\u001b[39m \u001b[43mcv2\u001b[49m\u001b[38;5;241;43m.\u001b[39;49m\u001b[43mEVENT_LBUTTONDBCLK\u001b[49m:\n\u001b[0;32m     13\u001b[0m     cv2\u001b[38;5;241m.\u001b[39mcircle(img, (x,y), \u001b[38;5;241m20\u001b[39m, (\u001b[38;5;241m255\u001b[39m,\u001b[38;5;241m0\u001b[39m,\u001b[38;5;241m0\u001b[39m), \u001b[38;5;241m-\u001b[39m\u001b[38;5;241m1\u001b[39m)\n",
      "\u001b[1;31mAttributeError\u001b[0m: module 'cv2' has no attribute 'EVENT_LBUTTONDBCLK'"
     ]
    },
    {
     "ename": "AttributeError",
     "evalue": "module 'cv2' has no attribute 'EVENT_LBUTTONDBCLK'",
     "output_type": "error",
     "traceback": [
      "\u001b[1;31m---------------------------------------------------------------------------\u001b[0m",
      "\u001b[1;31mAttributeError\u001b[0m                            Traceback (most recent call last)",
      "Cell \u001b[1;32mIn[6], line 12\u001b[0m, in \u001b[0;36mdraw_circle\u001b[1;34m(event, x, y, flags, param)\u001b[0m\n\u001b[0;32m     10\u001b[0m \u001b[38;5;28;01melif\u001b[39;00m event \u001b[38;5;241m==\u001b[39m cv2\u001b[38;5;241m.\u001b[39mEVENT_RBUTTONDOWN:\n\u001b[0;32m     11\u001b[0m     cv2\u001b[38;5;241m.\u001b[39mcircle(img, (x,y), \u001b[38;5;241m10\u001b[39m, (\u001b[38;5;241m255\u001b[39m,\u001b[38;5;241m0\u001b[39m,\u001b[38;5;241m0\u001b[39m), \u001b[38;5;241m2\u001b[39m)\n\u001b[1;32m---> 12\u001b[0m \u001b[38;5;28;01melif\u001b[39;00m event \u001b[38;5;241m==\u001b[39m \u001b[43mcv2\u001b[49m\u001b[38;5;241;43m.\u001b[39;49m\u001b[43mEVENT_LBUTTONDBCLK\u001b[49m:\n\u001b[0;32m     13\u001b[0m     cv2\u001b[38;5;241m.\u001b[39mcircle(img, (x,y), \u001b[38;5;241m20\u001b[39m, (\u001b[38;5;241m255\u001b[39m,\u001b[38;5;241m0\u001b[39m,\u001b[38;5;241m0\u001b[39m), \u001b[38;5;241m-\u001b[39m\u001b[38;5;241m1\u001b[39m)\n",
      "\u001b[1;31mAttributeError\u001b[0m: module 'cv2' has no attribute 'EVENT_LBUTTONDBCLK'"
     ]
    },
    {
     "ename": "AttributeError",
     "evalue": "module 'cv2' has no attribute 'EVENT_LBUTTONDBCLK'",
     "output_type": "error",
     "traceback": [
      "\u001b[1;31m---------------------------------------------------------------------------\u001b[0m",
      "\u001b[1;31mAttributeError\u001b[0m                            Traceback (most recent call last)",
      "Cell \u001b[1;32mIn[6], line 12\u001b[0m, in \u001b[0;36mdraw_circle\u001b[1;34m(event, x, y, flags, param)\u001b[0m\n\u001b[0;32m     10\u001b[0m \u001b[38;5;28;01melif\u001b[39;00m event \u001b[38;5;241m==\u001b[39m cv2\u001b[38;5;241m.\u001b[39mEVENT_RBUTTONDOWN:\n\u001b[0;32m     11\u001b[0m     cv2\u001b[38;5;241m.\u001b[39mcircle(img, (x,y), \u001b[38;5;241m10\u001b[39m, (\u001b[38;5;241m255\u001b[39m,\u001b[38;5;241m0\u001b[39m,\u001b[38;5;241m0\u001b[39m), \u001b[38;5;241m2\u001b[39m)\n\u001b[1;32m---> 12\u001b[0m \u001b[38;5;28;01melif\u001b[39;00m event \u001b[38;5;241m==\u001b[39m \u001b[43mcv2\u001b[49m\u001b[38;5;241;43m.\u001b[39;49m\u001b[43mEVENT_LBUTTONDBCLK\u001b[49m:\n\u001b[0;32m     13\u001b[0m     cv2\u001b[38;5;241m.\u001b[39mcircle(img, (x,y), \u001b[38;5;241m20\u001b[39m, (\u001b[38;5;241m255\u001b[39m,\u001b[38;5;241m0\u001b[39m,\u001b[38;5;241m0\u001b[39m), \u001b[38;5;241m-\u001b[39m\u001b[38;5;241m1\u001b[39m)\n",
      "\u001b[1;31mAttributeError\u001b[0m: module 'cv2' has no attribute 'EVENT_LBUTTONDBCLK'"
     ]
    },
    {
     "ename": "AttributeError",
     "evalue": "module 'cv2' has no attribute 'EVENT_LBUTTONDBCLK'",
     "output_type": "error",
     "traceback": [
      "\u001b[1;31m---------------------------------------------------------------------------\u001b[0m",
      "\u001b[1;31mAttributeError\u001b[0m                            Traceback (most recent call last)",
      "Cell \u001b[1;32mIn[6], line 12\u001b[0m, in \u001b[0;36mdraw_circle\u001b[1;34m(event, x, y, flags, param)\u001b[0m\n\u001b[0;32m     10\u001b[0m \u001b[38;5;28;01melif\u001b[39;00m event \u001b[38;5;241m==\u001b[39m cv2\u001b[38;5;241m.\u001b[39mEVENT_RBUTTONDOWN:\n\u001b[0;32m     11\u001b[0m     cv2\u001b[38;5;241m.\u001b[39mcircle(img, (x,y), \u001b[38;5;241m10\u001b[39m, (\u001b[38;5;241m255\u001b[39m,\u001b[38;5;241m0\u001b[39m,\u001b[38;5;241m0\u001b[39m), \u001b[38;5;241m2\u001b[39m)\n\u001b[1;32m---> 12\u001b[0m \u001b[38;5;28;01melif\u001b[39;00m event \u001b[38;5;241m==\u001b[39m \u001b[43mcv2\u001b[49m\u001b[38;5;241;43m.\u001b[39;49m\u001b[43mEVENT_LBUTTONDBCLK\u001b[49m:\n\u001b[0;32m     13\u001b[0m     cv2\u001b[38;5;241m.\u001b[39mcircle(img, (x,y), \u001b[38;5;241m20\u001b[39m, (\u001b[38;5;241m255\u001b[39m,\u001b[38;5;241m0\u001b[39m,\u001b[38;5;241m0\u001b[39m), \u001b[38;5;241m-\u001b[39m\u001b[38;5;241m1\u001b[39m)\n",
      "\u001b[1;31mAttributeError\u001b[0m: module 'cv2' has no attribute 'EVENT_LBUTTONDBCLK'"
     ]
    },
    {
     "ename": "AttributeError",
     "evalue": "module 'cv2' has no attribute 'EVENT_LBUTTONDBCLK'",
     "output_type": "error",
     "traceback": [
      "\u001b[1;31m---------------------------------------------------------------------------\u001b[0m",
      "\u001b[1;31mAttributeError\u001b[0m                            Traceback (most recent call last)",
      "Cell \u001b[1;32mIn[6], line 12\u001b[0m, in \u001b[0;36mdraw_circle\u001b[1;34m(event, x, y, flags, param)\u001b[0m\n\u001b[0;32m     10\u001b[0m \u001b[38;5;28;01melif\u001b[39;00m event \u001b[38;5;241m==\u001b[39m cv2\u001b[38;5;241m.\u001b[39mEVENT_RBUTTONDOWN:\n\u001b[0;32m     11\u001b[0m     cv2\u001b[38;5;241m.\u001b[39mcircle(img, (x,y), \u001b[38;5;241m10\u001b[39m, (\u001b[38;5;241m255\u001b[39m,\u001b[38;5;241m0\u001b[39m,\u001b[38;5;241m0\u001b[39m), \u001b[38;5;241m2\u001b[39m)\n\u001b[1;32m---> 12\u001b[0m \u001b[38;5;28;01melif\u001b[39;00m event \u001b[38;5;241m==\u001b[39m \u001b[43mcv2\u001b[49m\u001b[38;5;241;43m.\u001b[39;49m\u001b[43mEVENT_LBUTTONDBCLK\u001b[49m:\n\u001b[0;32m     13\u001b[0m     cv2\u001b[38;5;241m.\u001b[39mcircle(img, (x,y), \u001b[38;5;241m20\u001b[39m, (\u001b[38;5;241m255\u001b[39m,\u001b[38;5;241m0\u001b[39m,\u001b[38;5;241m0\u001b[39m), \u001b[38;5;241m-\u001b[39m\u001b[38;5;241m1\u001b[39m)\n",
      "\u001b[1;31mAttributeError\u001b[0m: module 'cv2' has no attribute 'EVENT_LBUTTONDBCLK'"
     ]
    },
    {
     "ename": "AttributeError",
     "evalue": "module 'cv2' has no attribute 'EVENT_LBUTTONDBCLK'",
     "output_type": "error",
     "traceback": [
      "\u001b[1;31m---------------------------------------------------------------------------\u001b[0m",
      "\u001b[1;31mAttributeError\u001b[0m                            Traceback (most recent call last)",
      "Cell \u001b[1;32mIn[6], line 12\u001b[0m, in \u001b[0;36mdraw_circle\u001b[1;34m(event, x, y, flags, param)\u001b[0m\n\u001b[0;32m     10\u001b[0m \u001b[38;5;28;01melif\u001b[39;00m event \u001b[38;5;241m==\u001b[39m cv2\u001b[38;5;241m.\u001b[39mEVENT_RBUTTONDOWN:\n\u001b[0;32m     11\u001b[0m     cv2\u001b[38;5;241m.\u001b[39mcircle(img, (x,y), \u001b[38;5;241m10\u001b[39m, (\u001b[38;5;241m255\u001b[39m,\u001b[38;5;241m0\u001b[39m,\u001b[38;5;241m0\u001b[39m), \u001b[38;5;241m2\u001b[39m)\n\u001b[1;32m---> 12\u001b[0m \u001b[38;5;28;01melif\u001b[39;00m event \u001b[38;5;241m==\u001b[39m \u001b[43mcv2\u001b[49m\u001b[38;5;241;43m.\u001b[39;49m\u001b[43mEVENT_LBUTTONDBCLK\u001b[49m:\n\u001b[0;32m     13\u001b[0m     cv2\u001b[38;5;241m.\u001b[39mcircle(img, (x,y), \u001b[38;5;241m20\u001b[39m, (\u001b[38;5;241m255\u001b[39m,\u001b[38;5;241m0\u001b[39m,\u001b[38;5;241m0\u001b[39m), \u001b[38;5;241m-\u001b[39m\u001b[38;5;241m1\u001b[39m)\n",
      "\u001b[1;31mAttributeError\u001b[0m: module 'cv2' has no attribute 'EVENT_LBUTTONDBCLK'"
     ]
    },
    {
     "ename": "AttributeError",
     "evalue": "module 'cv2' has no attribute 'EVENT_LBUTTONDBCLK'",
     "output_type": "error",
     "traceback": [
      "\u001b[1;31m---------------------------------------------------------------------------\u001b[0m",
      "\u001b[1;31mAttributeError\u001b[0m                            Traceback (most recent call last)",
      "Cell \u001b[1;32mIn[6], line 12\u001b[0m, in \u001b[0;36mdraw_circle\u001b[1;34m(event, x, y, flags, param)\u001b[0m\n\u001b[0;32m     10\u001b[0m \u001b[38;5;28;01melif\u001b[39;00m event \u001b[38;5;241m==\u001b[39m cv2\u001b[38;5;241m.\u001b[39mEVENT_RBUTTONDOWN:\n\u001b[0;32m     11\u001b[0m     cv2\u001b[38;5;241m.\u001b[39mcircle(img, (x,y), \u001b[38;5;241m10\u001b[39m, (\u001b[38;5;241m255\u001b[39m,\u001b[38;5;241m0\u001b[39m,\u001b[38;5;241m0\u001b[39m), \u001b[38;5;241m2\u001b[39m)\n\u001b[1;32m---> 12\u001b[0m \u001b[38;5;28;01melif\u001b[39;00m event \u001b[38;5;241m==\u001b[39m \u001b[43mcv2\u001b[49m\u001b[38;5;241;43m.\u001b[39;49m\u001b[43mEVENT_LBUTTONDBCLK\u001b[49m:\n\u001b[0;32m     13\u001b[0m     cv2\u001b[38;5;241m.\u001b[39mcircle(img, (x,y), \u001b[38;5;241m20\u001b[39m, (\u001b[38;5;241m255\u001b[39m,\u001b[38;5;241m0\u001b[39m,\u001b[38;5;241m0\u001b[39m), \u001b[38;5;241m-\u001b[39m\u001b[38;5;241m1\u001b[39m)\n",
      "\u001b[1;31mAttributeError\u001b[0m: module 'cv2' has no attribute 'EVENT_LBUTTONDBCLK'"
     ]
    },
    {
     "ename": "AttributeError",
     "evalue": "module 'cv2' has no attribute 'EVENT_LBUTTONDBCLK'",
     "output_type": "error",
     "traceback": [
      "\u001b[1;31m---------------------------------------------------------------------------\u001b[0m",
      "\u001b[1;31mAttributeError\u001b[0m                            Traceback (most recent call last)",
      "Cell \u001b[1;32mIn[6], line 12\u001b[0m, in \u001b[0;36mdraw_circle\u001b[1;34m(event, x, y, flags, param)\u001b[0m\n\u001b[0;32m     10\u001b[0m \u001b[38;5;28;01melif\u001b[39;00m event \u001b[38;5;241m==\u001b[39m cv2\u001b[38;5;241m.\u001b[39mEVENT_RBUTTONDOWN:\n\u001b[0;32m     11\u001b[0m     cv2\u001b[38;5;241m.\u001b[39mcircle(img, (x,y), \u001b[38;5;241m10\u001b[39m, (\u001b[38;5;241m255\u001b[39m,\u001b[38;5;241m0\u001b[39m,\u001b[38;5;241m0\u001b[39m), \u001b[38;5;241m2\u001b[39m)\n\u001b[1;32m---> 12\u001b[0m \u001b[38;5;28;01melif\u001b[39;00m event \u001b[38;5;241m==\u001b[39m \u001b[43mcv2\u001b[49m\u001b[38;5;241;43m.\u001b[39;49m\u001b[43mEVENT_LBUTTONDBCLK\u001b[49m:\n\u001b[0;32m     13\u001b[0m     cv2\u001b[38;5;241m.\u001b[39mcircle(img, (x,y), \u001b[38;5;241m20\u001b[39m, (\u001b[38;5;241m255\u001b[39m,\u001b[38;5;241m0\u001b[39m,\u001b[38;5;241m0\u001b[39m), \u001b[38;5;241m-\u001b[39m\u001b[38;5;241m1\u001b[39m)\n",
      "\u001b[1;31mAttributeError\u001b[0m: module 'cv2' has no attribute 'EVENT_LBUTTONDBCLK'"
     ]
    },
    {
     "ename": "AttributeError",
     "evalue": "module 'cv2' has no attribute 'EVENT_LBUTTONDBCLK'",
     "output_type": "error",
     "traceback": [
      "\u001b[1;31m---------------------------------------------------------------------------\u001b[0m",
      "\u001b[1;31mAttributeError\u001b[0m                            Traceback (most recent call last)",
      "Cell \u001b[1;32mIn[6], line 12\u001b[0m, in \u001b[0;36mdraw_circle\u001b[1;34m(event, x, y, flags, param)\u001b[0m\n\u001b[0;32m     10\u001b[0m \u001b[38;5;28;01melif\u001b[39;00m event \u001b[38;5;241m==\u001b[39m cv2\u001b[38;5;241m.\u001b[39mEVENT_RBUTTONDOWN:\n\u001b[0;32m     11\u001b[0m     cv2\u001b[38;5;241m.\u001b[39mcircle(img, (x,y), \u001b[38;5;241m10\u001b[39m, (\u001b[38;5;241m255\u001b[39m,\u001b[38;5;241m0\u001b[39m,\u001b[38;5;241m0\u001b[39m), \u001b[38;5;241m2\u001b[39m)\n\u001b[1;32m---> 12\u001b[0m \u001b[38;5;28;01melif\u001b[39;00m event \u001b[38;5;241m==\u001b[39m \u001b[43mcv2\u001b[49m\u001b[38;5;241;43m.\u001b[39;49m\u001b[43mEVENT_LBUTTONDBCLK\u001b[49m:\n\u001b[0;32m     13\u001b[0m     cv2\u001b[38;5;241m.\u001b[39mcircle(img, (x,y), \u001b[38;5;241m20\u001b[39m, (\u001b[38;5;241m255\u001b[39m,\u001b[38;5;241m0\u001b[39m,\u001b[38;5;241m0\u001b[39m), \u001b[38;5;241m-\u001b[39m\u001b[38;5;241m1\u001b[39m)\n",
      "\u001b[1;31mAttributeError\u001b[0m: module 'cv2' has no attribute 'EVENT_LBUTTONDBCLK'"
     ]
    },
    {
     "ename": "AttributeError",
     "evalue": "module 'cv2' has no attribute 'EVENT_LBUTTONDBCLK'",
     "output_type": "error",
     "traceback": [
      "\u001b[1;31m---------------------------------------------------------------------------\u001b[0m",
      "\u001b[1;31mAttributeError\u001b[0m                            Traceback (most recent call last)",
      "Cell \u001b[1;32mIn[6], line 12\u001b[0m, in \u001b[0;36mdraw_circle\u001b[1;34m(event, x, y, flags, param)\u001b[0m\n\u001b[0;32m     10\u001b[0m \u001b[38;5;28;01melif\u001b[39;00m event \u001b[38;5;241m==\u001b[39m cv2\u001b[38;5;241m.\u001b[39mEVENT_RBUTTONDOWN:\n\u001b[0;32m     11\u001b[0m     cv2\u001b[38;5;241m.\u001b[39mcircle(img, (x,y), \u001b[38;5;241m10\u001b[39m, (\u001b[38;5;241m255\u001b[39m,\u001b[38;5;241m0\u001b[39m,\u001b[38;5;241m0\u001b[39m), \u001b[38;5;241m2\u001b[39m)\n\u001b[1;32m---> 12\u001b[0m \u001b[38;5;28;01melif\u001b[39;00m event \u001b[38;5;241m==\u001b[39m \u001b[43mcv2\u001b[49m\u001b[38;5;241;43m.\u001b[39;49m\u001b[43mEVENT_LBUTTONDBCLK\u001b[49m:\n\u001b[0;32m     13\u001b[0m     cv2\u001b[38;5;241m.\u001b[39mcircle(img, (x,y), \u001b[38;5;241m20\u001b[39m, (\u001b[38;5;241m255\u001b[39m,\u001b[38;5;241m0\u001b[39m,\u001b[38;5;241m0\u001b[39m), \u001b[38;5;241m-\u001b[39m\u001b[38;5;241m1\u001b[39m)\n",
      "\u001b[1;31mAttributeError\u001b[0m: module 'cv2' has no attribute 'EVENT_LBUTTONDBCLK'"
     ]
    },
    {
     "ename": "AttributeError",
     "evalue": "module 'cv2' has no attribute 'EVENT_LBUTTONDBCLK'",
     "output_type": "error",
     "traceback": [
      "\u001b[1;31m---------------------------------------------------------------------------\u001b[0m",
      "\u001b[1;31mAttributeError\u001b[0m                            Traceback (most recent call last)",
      "Cell \u001b[1;32mIn[6], line 12\u001b[0m, in \u001b[0;36mdraw_circle\u001b[1;34m(event, x, y, flags, param)\u001b[0m\n\u001b[0;32m     10\u001b[0m \u001b[38;5;28;01melif\u001b[39;00m event \u001b[38;5;241m==\u001b[39m cv2\u001b[38;5;241m.\u001b[39mEVENT_RBUTTONDOWN:\n\u001b[0;32m     11\u001b[0m     cv2\u001b[38;5;241m.\u001b[39mcircle(img, (x,y), \u001b[38;5;241m10\u001b[39m, (\u001b[38;5;241m255\u001b[39m,\u001b[38;5;241m0\u001b[39m,\u001b[38;5;241m0\u001b[39m), \u001b[38;5;241m2\u001b[39m)\n\u001b[1;32m---> 12\u001b[0m \u001b[38;5;28;01melif\u001b[39;00m event \u001b[38;5;241m==\u001b[39m \u001b[43mcv2\u001b[49m\u001b[38;5;241;43m.\u001b[39;49m\u001b[43mEVENT_LBUTTONDBCLK\u001b[49m:\n\u001b[0;32m     13\u001b[0m     cv2\u001b[38;5;241m.\u001b[39mcircle(img, (x,y), \u001b[38;5;241m20\u001b[39m, (\u001b[38;5;241m255\u001b[39m,\u001b[38;5;241m0\u001b[39m,\u001b[38;5;241m0\u001b[39m), \u001b[38;5;241m-\u001b[39m\u001b[38;5;241m1\u001b[39m)\n",
      "\u001b[1;31mAttributeError\u001b[0m: module 'cv2' has no attribute 'EVENT_LBUTTONDBCLK'"
     ]
    },
    {
     "ename": "AttributeError",
     "evalue": "module 'cv2' has no attribute 'EVENT_LBUTTONDBCLK'",
     "output_type": "error",
     "traceback": [
      "\u001b[1;31m---------------------------------------------------------------------------\u001b[0m",
      "\u001b[1;31mAttributeError\u001b[0m                            Traceback (most recent call last)",
      "Cell \u001b[1;32mIn[6], line 12\u001b[0m, in \u001b[0;36mdraw_circle\u001b[1;34m(event, x, y, flags, param)\u001b[0m\n\u001b[0;32m     10\u001b[0m \u001b[38;5;28;01melif\u001b[39;00m event \u001b[38;5;241m==\u001b[39m cv2\u001b[38;5;241m.\u001b[39mEVENT_RBUTTONDOWN:\n\u001b[0;32m     11\u001b[0m     cv2\u001b[38;5;241m.\u001b[39mcircle(img, (x,y), \u001b[38;5;241m10\u001b[39m, (\u001b[38;5;241m255\u001b[39m,\u001b[38;5;241m0\u001b[39m,\u001b[38;5;241m0\u001b[39m), \u001b[38;5;241m2\u001b[39m)\n\u001b[1;32m---> 12\u001b[0m \u001b[38;5;28;01melif\u001b[39;00m event \u001b[38;5;241m==\u001b[39m \u001b[43mcv2\u001b[49m\u001b[38;5;241;43m.\u001b[39;49m\u001b[43mEVENT_LBUTTONDBCLK\u001b[49m:\n\u001b[0;32m     13\u001b[0m     cv2\u001b[38;5;241m.\u001b[39mcircle(img, (x,y), \u001b[38;5;241m20\u001b[39m, (\u001b[38;5;241m255\u001b[39m,\u001b[38;5;241m0\u001b[39m,\u001b[38;5;241m0\u001b[39m), \u001b[38;5;241m-\u001b[39m\u001b[38;5;241m1\u001b[39m)\n",
      "\u001b[1;31mAttributeError\u001b[0m: module 'cv2' has no attribute 'EVENT_LBUTTONDBCLK'"
     ]
    },
    {
     "ename": "AttributeError",
     "evalue": "module 'cv2' has no attribute 'EVENT_LBUTTONDBCLK'",
     "output_type": "error",
     "traceback": [
      "\u001b[1;31m---------------------------------------------------------------------------\u001b[0m",
      "\u001b[1;31mAttributeError\u001b[0m                            Traceback (most recent call last)",
      "Cell \u001b[1;32mIn[6], line 12\u001b[0m, in \u001b[0;36mdraw_circle\u001b[1;34m(event, x, y, flags, param)\u001b[0m\n\u001b[0;32m     10\u001b[0m \u001b[38;5;28;01melif\u001b[39;00m event \u001b[38;5;241m==\u001b[39m cv2\u001b[38;5;241m.\u001b[39mEVENT_RBUTTONDOWN:\n\u001b[0;32m     11\u001b[0m     cv2\u001b[38;5;241m.\u001b[39mcircle(img, (x,y), \u001b[38;5;241m10\u001b[39m, (\u001b[38;5;241m255\u001b[39m,\u001b[38;5;241m0\u001b[39m,\u001b[38;5;241m0\u001b[39m), \u001b[38;5;241m2\u001b[39m)\n\u001b[1;32m---> 12\u001b[0m \u001b[38;5;28;01melif\u001b[39;00m event \u001b[38;5;241m==\u001b[39m \u001b[43mcv2\u001b[49m\u001b[38;5;241;43m.\u001b[39;49m\u001b[43mEVENT_LBUTTONDBCLK\u001b[49m:\n\u001b[0;32m     13\u001b[0m     cv2\u001b[38;5;241m.\u001b[39mcircle(img, (x,y), \u001b[38;5;241m20\u001b[39m, (\u001b[38;5;241m255\u001b[39m,\u001b[38;5;241m0\u001b[39m,\u001b[38;5;241m0\u001b[39m), \u001b[38;5;241m-\u001b[39m\u001b[38;5;241m1\u001b[39m)\n",
      "\u001b[1;31mAttributeError\u001b[0m: module 'cv2' has no attribute 'EVENT_LBUTTONDBCLK'"
     ]
    },
    {
     "ename": "AttributeError",
     "evalue": "module 'cv2' has no attribute 'EVENT_LBUTTONDBCLK'",
     "output_type": "error",
     "traceback": [
      "\u001b[1;31m---------------------------------------------------------------------------\u001b[0m",
      "\u001b[1;31mAttributeError\u001b[0m                            Traceback (most recent call last)",
      "Cell \u001b[1;32mIn[6], line 12\u001b[0m, in \u001b[0;36mdraw_circle\u001b[1;34m(event, x, y, flags, param)\u001b[0m\n\u001b[0;32m     10\u001b[0m \u001b[38;5;28;01melif\u001b[39;00m event \u001b[38;5;241m==\u001b[39m cv2\u001b[38;5;241m.\u001b[39mEVENT_RBUTTONDOWN:\n\u001b[0;32m     11\u001b[0m     cv2\u001b[38;5;241m.\u001b[39mcircle(img, (x,y), \u001b[38;5;241m10\u001b[39m, (\u001b[38;5;241m255\u001b[39m,\u001b[38;5;241m0\u001b[39m,\u001b[38;5;241m0\u001b[39m), \u001b[38;5;241m2\u001b[39m)\n\u001b[1;32m---> 12\u001b[0m \u001b[38;5;28;01melif\u001b[39;00m event \u001b[38;5;241m==\u001b[39m \u001b[43mcv2\u001b[49m\u001b[38;5;241;43m.\u001b[39;49m\u001b[43mEVENT_LBUTTONDBCLK\u001b[49m:\n\u001b[0;32m     13\u001b[0m     cv2\u001b[38;5;241m.\u001b[39mcircle(img, (x,y), \u001b[38;5;241m20\u001b[39m, (\u001b[38;5;241m255\u001b[39m,\u001b[38;5;241m0\u001b[39m,\u001b[38;5;241m0\u001b[39m), \u001b[38;5;241m-\u001b[39m\u001b[38;5;241m1\u001b[39m)\n",
      "\u001b[1;31mAttributeError\u001b[0m: module 'cv2' has no attribute 'EVENT_LBUTTONDBCLK'"
     ]
    },
    {
     "ename": "AttributeError",
     "evalue": "module 'cv2' has no attribute 'EVENT_LBUTTONDBCLK'",
     "output_type": "error",
     "traceback": [
      "\u001b[1;31m---------------------------------------------------------------------------\u001b[0m",
      "\u001b[1;31mAttributeError\u001b[0m                            Traceback (most recent call last)",
      "Cell \u001b[1;32mIn[6], line 12\u001b[0m, in \u001b[0;36mdraw_circle\u001b[1;34m(event, x, y, flags, param)\u001b[0m\n\u001b[0;32m     10\u001b[0m \u001b[38;5;28;01melif\u001b[39;00m event \u001b[38;5;241m==\u001b[39m cv2\u001b[38;5;241m.\u001b[39mEVENT_RBUTTONDOWN:\n\u001b[0;32m     11\u001b[0m     cv2\u001b[38;5;241m.\u001b[39mcircle(img, (x,y), \u001b[38;5;241m10\u001b[39m, (\u001b[38;5;241m255\u001b[39m,\u001b[38;5;241m0\u001b[39m,\u001b[38;5;241m0\u001b[39m), \u001b[38;5;241m2\u001b[39m)\n\u001b[1;32m---> 12\u001b[0m \u001b[38;5;28;01melif\u001b[39;00m event \u001b[38;5;241m==\u001b[39m \u001b[43mcv2\u001b[49m\u001b[38;5;241;43m.\u001b[39;49m\u001b[43mEVENT_LBUTTONDBCLK\u001b[49m:\n\u001b[0;32m     13\u001b[0m     cv2\u001b[38;5;241m.\u001b[39mcircle(img, (x,y), \u001b[38;5;241m20\u001b[39m, (\u001b[38;5;241m255\u001b[39m,\u001b[38;5;241m0\u001b[39m,\u001b[38;5;241m0\u001b[39m), \u001b[38;5;241m-\u001b[39m\u001b[38;5;241m1\u001b[39m)\n",
      "\u001b[1;31mAttributeError\u001b[0m: module 'cv2' has no attribute 'EVENT_LBUTTONDBCLK'"
     ]
    },
    {
     "ename": "AttributeError",
     "evalue": "module 'cv2' has no attribute 'EVENT_LBUTTONDBCLK'",
     "output_type": "error",
     "traceback": [
      "\u001b[1;31m---------------------------------------------------------------------------\u001b[0m",
      "\u001b[1;31mAttributeError\u001b[0m                            Traceback (most recent call last)",
      "Cell \u001b[1;32mIn[6], line 12\u001b[0m, in \u001b[0;36mdraw_circle\u001b[1;34m(event, x, y, flags, param)\u001b[0m\n\u001b[0;32m     10\u001b[0m \u001b[38;5;28;01melif\u001b[39;00m event \u001b[38;5;241m==\u001b[39m cv2\u001b[38;5;241m.\u001b[39mEVENT_RBUTTONDOWN:\n\u001b[0;32m     11\u001b[0m     cv2\u001b[38;5;241m.\u001b[39mcircle(img, (x,y), \u001b[38;5;241m10\u001b[39m, (\u001b[38;5;241m255\u001b[39m,\u001b[38;5;241m0\u001b[39m,\u001b[38;5;241m0\u001b[39m), \u001b[38;5;241m2\u001b[39m)\n\u001b[1;32m---> 12\u001b[0m \u001b[38;5;28;01melif\u001b[39;00m event \u001b[38;5;241m==\u001b[39m \u001b[43mcv2\u001b[49m\u001b[38;5;241;43m.\u001b[39;49m\u001b[43mEVENT_LBUTTONDBCLK\u001b[49m:\n\u001b[0;32m     13\u001b[0m     cv2\u001b[38;5;241m.\u001b[39mcircle(img, (x,y), \u001b[38;5;241m20\u001b[39m, (\u001b[38;5;241m255\u001b[39m,\u001b[38;5;241m0\u001b[39m,\u001b[38;5;241m0\u001b[39m), \u001b[38;5;241m-\u001b[39m\u001b[38;5;241m1\u001b[39m)\n",
      "\u001b[1;31mAttributeError\u001b[0m: module 'cv2' has no attribute 'EVENT_LBUTTONDBCLK'"
     ]
    },
    {
     "ename": "AttributeError",
     "evalue": "module 'cv2' has no attribute 'EVENT_LBUTTONDBCLK'",
     "output_type": "error",
     "traceback": [
      "\u001b[1;31m---------------------------------------------------------------------------\u001b[0m",
      "\u001b[1;31mAttributeError\u001b[0m                            Traceback (most recent call last)",
      "Cell \u001b[1;32mIn[6], line 12\u001b[0m, in \u001b[0;36mdraw_circle\u001b[1;34m(event, x, y, flags, param)\u001b[0m\n\u001b[0;32m     10\u001b[0m \u001b[38;5;28;01melif\u001b[39;00m event \u001b[38;5;241m==\u001b[39m cv2\u001b[38;5;241m.\u001b[39mEVENT_RBUTTONDOWN:\n\u001b[0;32m     11\u001b[0m     cv2\u001b[38;5;241m.\u001b[39mcircle(img, (x,y), \u001b[38;5;241m10\u001b[39m, (\u001b[38;5;241m255\u001b[39m,\u001b[38;5;241m0\u001b[39m,\u001b[38;5;241m0\u001b[39m), \u001b[38;5;241m2\u001b[39m)\n\u001b[1;32m---> 12\u001b[0m \u001b[38;5;28;01melif\u001b[39;00m event \u001b[38;5;241m==\u001b[39m \u001b[43mcv2\u001b[49m\u001b[38;5;241;43m.\u001b[39;49m\u001b[43mEVENT_LBUTTONDBCLK\u001b[49m:\n\u001b[0;32m     13\u001b[0m     cv2\u001b[38;5;241m.\u001b[39mcircle(img, (x,y), \u001b[38;5;241m20\u001b[39m, (\u001b[38;5;241m255\u001b[39m,\u001b[38;5;241m0\u001b[39m,\u001b[38;5;241m0\u001b[39m), \u001b[38;5;241m-\u001b[39m\u001b[38;5;241m1\u001b[39m)\n",
      "\u001b[1;31mAttributeError\u001b[0m: module 'cv2' has no attribute 'EVENT_LBUTTONDBCLK'"
     ]
    },
    {
     "ename": "AttributeError",
     "evalue": "module 'cv2' has no attribute 'EVENT_LBUTTONDBCLK'",
     "output_type": "error",
     "traceback": [
      "\u001b[1;31m---------------------------------------------------------------------------\u001b[0m",
      "\u001b[1;31mAttributeError\u001b[0m                            Traceback (most recent call last)",
      "Cell \u001b[1;32mIn[6], line 12\u001b[0m, in \u001b[0;36mdraw_circle\u001b[1;34m(event, x, y, flags, param)\u001b[0m\n\u001b[0;32m     10\u001b[0m \u001b[38;5;28;01melif\u001b[39;00m event \u001b[38;5;241m==\u001b[39m cv2\u001b[38;5;241m.\u001b[39mEVENT_RBUTTONDOWN:\n\u001b[0;32m     11\u001b[0m     cv2\u001b[38;5;241m.\u001b[39mcircle(img, (x,y), \u001b[38;5;241m10\u001b[39m, (\u001b[38;5;241m255\u001b[39m,\u001b[38;5;241m0\u001b[39m,\u001b[38;5;241m0\u001b[39m), \u001b[38;5;241m2\u001b[39m)\n\u001b[1;32m---> 12\u001b[0m \u001b[38;5;28;01melif\u001b[39;00m event \u001b[38;5;241m==\u001b[39m \u001b[43mcv2\u001b[49m\u001b[38;5;241;43m.\u001b[39;49m\u001b[43mEVENT_LBUTTONDBCLK\u001b[49m:\n\u001b[0;32m     13\u001b[0m     cv2\u001b[38;5;241m.\u001b[39mcircle(img, (x,y), \u001b[38;5;241m20\u001b[39m, (\u001b[38;5;241m255\u001b[39m,\u001b[38;5;241m0\u001b[39m,\u001b[38;5;241m0\u001b[39m), \u001b[38;5;241m-\u001b[39m\u001b[38;5;241m1\u001b[39m)\n",
      "\u001b[1;31mAttributeError\u001b[0m: module 'cv2' has no attribute 'EVENT_LBUTTONDBCLK'"
     ]
    },
    {
     "ename": "AttributeError",
     "evalue": "module 'cv2' has no attribute 'EVENT_LBUTTONDBCLK'",
     "output_type": "error",
     "traceback": [
      "\u001b[1;31m---------------------------------------------------------------------------\u001b[0m",
      "\u001b[1;31mAttributeError\u001b[0m                            Traceback (most recent call last)",
      "Cell \u001b[1;32mIn[6], line 12\u001b[0m, in \u001b[0;36mdraw_circle\u001b[1;34m(event, x, y, flags, param)\u001b[0m\n\u001b[0;32m     10\u001b[0m \u001b[38;5;28;01melif\u001b[39;00m event \u001b[38;5;241m==\u001b[39m cv2\u001b[38;5;241m.\u001b[39mEVENT_RBUTTONDOWN:\n\u001b[0;32m     11\u001b[0m     cv2\u001b[38;5;241m.\u001b[39mcircle(img, (x,y), \u001b[38;5;241m10\u001b[39m, (\u001b[38;5;241m255\u001b[39m,\u001b[38;5;241m0\u001b[39m,\u001b[38;5;241m0\u001b[39m), \u001b[38;5;241m2\u001b[39m)\n\u001b[1;32m---> 12\u001b[0m \u001b[38;5;28;01melif\u001b[39;00m event \u001b[38;5;241m==\u001b[39m \u001b[43mcv2\u001b[49m\u001b[38;5;241;43m.\u001b[39;49m\u001b[43mEVENT_LBUTTONDBCLK\u001b[49m:\n\u001b[0;32m     13\u001b[0m     cv2\u001b[38;5;241m.\u001b[39mcircle(img, (x,y), \u001b[38;5;241m20\u001b[39m, (\u001b[38;5;241m255\u001b[39m,\u001b[38;5;241m0\u001b[39m,\u001b[38;5;241m0\u001b[39m), \u001b[38;5;241m-\u001b[39m\u001b[38;5;241m1\u001b[39m)\n",
      "\u001b[1;31mAttributeError\u001b[0m: module 'cv2' has no attribute 'EVENT_LBUTTONDBCLK'"
     ]
    },
    {
     "ename": "AttributeError",
     "evalue": "module 'cv2' has no attribute 'EVENT_LBUTTONDBCLK'",
     "output_type": "error",
     "traceback": [
      "\u001b[1;31m---------------------------------------------------------------------------\u001b[0m",
      "\u001b[1;31mAttributeError\u001b[0m                            Traceback (most recent call last)",
      "Cell \u001b[1;32mIn[6], line 12\u001b[0m, in \u001b[0;36mdraw_circle\u001b[1;34m(event, x, y, flags, param)\u001b[0m\n\u001b[0;32m     10\u001b[0m \u001b[38;5;28;01melif\u001b[39;00m event \u001b[38;5;241m==\u001b[39m cv2\u001b[38;5;241m.\u001b[39mEVENT_RBUTTONDOWN:\n\u001b[0;32m     11\u001b[0m     cv2\u001b[38;5;241m.\u001b[39mcircle(img, (x,y), \u001b[38;5;241m10\u001b[39m, (\u001b[38;5;241m255\u001b[39m,\u001b[38;5;241m0\u001b[39m,\u001b[38;5;241m0\u001b[39m), \u001b[38;5;241m2\u001b[39m)\n\u001b[1;32m---> 12\u001b[0m \u001b[38;5;28;01melif\u001b[39;00m event \u001b[38;5;241m==\u001b[39m \u001b[43mcv2\u001b[49m\u001b[38;5;241;43m.\u001b[39;49m\u001b[43mEVENT_LBUTTONDBCLK\u001b[49m:\n\u001b[0;32m     13\u001b[0m     cv2\u001b[38;5;241m.\u001b[39mcircle(img, (x,y), \u001b[38;5;241m20\u001b[39m, (\u001b[38;5;241m255\u001b[39m,\u001b[38;5;241m0\u001b[39m,\u001b[38;5;241m0\u001b[39m), \u001b[38;5;241m-\u001b[39m\u001b[38;5;241m1\u001b[39m)\n",
      "\u001b[1;31mAttributeError\u001b[0m: module 'cv2' has no attribute 'EVENT_LBUTTONDBCLK'"
     ]
    },
    {
     "ename": "AttributeError",
     "evalue": "module 'cv2' has no attribute 'EVENT_LBUTTONDBCLK'",
     "output_type": "error",
     "traceback": [
      "\u001b[1;31m---------------------------------------------------------------------------\u001b[0m",
      "\u001b[1;31mAttributeError\u001b[0m                            Traceback (most recent call last)",
      "Cell \u001b[1;32mIn[6], line 12\u001b[0m, in \u001b[0;36mdraw_circle\u001b[1;34m(event, x, y, flags, param)\u001b[0m\n\u001b[0;32m     10\u001b[0m \u001b[38;5;28;01melif\u001b[39;00m event \u001b[38;5;241m==\u001b[39m cv2\u001b[38;5;241m.\u001b[39mEVENT_RBUTTONDOWN:\n\u001b[0;32m     11\u001b[0m     cv2\u001b[38;5;241m.\u001b[39mcircle(img, (x,y), \u001b[38;5;241m10\u001b[39m, (\u001b[38;5;241m255\u001b[39m,\u001b[38;5;241m0\u001b[39m,\u001b[38;5;241m0\u001b[39m), \u001b[38;5;241m2\u001b[39m)\n\u001b[1;32m---> 12\u001b[0m \u001b[38;5;28;01melif\u001b[39;00m event \u001b[38;5;241m==\u001b[39m \u001b[43mcv2\u001b[49m\u001b[38;5;241;43m.\u001b[39;49m\u001b[43mEVENT_LBUTTONDBCLK\u001b[49m:\n\u001b[0;32m     13\u001b[0m     cv2\u001b[38;5;241m.\u001b[39mcircle(img, (x,y), \u001b[38;5;241m20\u001b[39m, (\u001b[38;5;241m255\u001b[39m,\u001b[38;5;241m0\u001b[39m,\u001b[38;5;241m0\u001b[39m), \u001b[38;5;241m-\u001b[39m\u001b[38;5;241m1\u001b[39m)\n",
      "\u001b[1;31mAttributeError\u001b[0m: module 'cv2' has no attribute 'EVENT_LBUTTONDBCLK'"
     ]
    },
    {
     "ename": "AttributeError",
     "evalue": "module 'cv2' has no attribute 'EVENT_LBUTTONDBCLK'",
     "output_type": "error",
     "traceback": [
      "\u001b[1;31m---------------------------------------------------------------------------\u001b[0m",
      "\u001b[1;31mAttributeError\u001b[0m                            Traceback (most recent call last)",
      "Cell \u001b[1;32mIn[6], line 12\u001b[0m, in \u001b[0;36mdraw_circle\u001b[1;34m(event, x, y, flags, param)\u001b[0m\n\u001b[0;32m     10\u001b[0m \u001b[38;5;28;01melif\u001b[39;00m event \u001b[38;5;241m==\u001b[39m cv2\u001b[38;5;241m.\u001b[39mEVENT_RBUTTONDOWN:\n\u001b[0;32m     11\u001b[0m     cv2\u001b[38;5;241m.\u001b[39mcircle(img, (x,y), \u001b[38;5;241m10\u001b[39m, (\u001b[38;5;241m255\u001b[39m,\u001b[38;5;241m0\u001b[39m,\u001b[38;5;241m0\u001b[39m), \u001b[38;5;241m2\u001b[39m)\n\u001b[1;32m---> 12\u001b[0m \u001b[38;5;28;01melif\u001b[39;00m event \u001b[38;5;241m==\u001b[39m \u001b[43mcv2\u001b[49m\u001b[38;5;241;43m.\u001b[39;49m\u001b[43mEVENT_LBUTTONDBCLK\u001b[49m:\n\u001b[0;32m     13\u001b[0m     cv2\u001b[38;5;241m.\u001b[39mcircle(img, (x,y), \u001b[38;5;241m20\u001b[39m, (\u001b[38;5;241m255\u001b[39m,\u001b[38;5;241m0\u001b[39m,\u001b[38;5;241m0\u001b[39m), \u001b[38;5;241m-\u001b[39m\u001b[38;5;241m1\u001b[39m)\n",
      "\u001b[1;31mAttributeError\u001b[0m: module 'cv2' has no attribute 'EVENT_LBUTTONDBCLK'"
     ]
    },
    {
     "ename": "AttributeError",
     "evalue": "module 'cv2' has no attribute 'EVENT_LBUTTONDBCLK'",
     "output_type": "error",
     "traceback": [
      "\u001b[1;31m---------------------------------------------------------------------------\u001b[0m",
      "\u001b[1;31mAttributeError\u001b[0m                            Traceback (most recent call last)",
      "Cell \u001b[1;32mIn[6], line 12\u001b[0m, in \u001b[0;36mdraw_circle\u001b[1;34m(event, x, y, flags, param)\u001b[0m\n\u001b[0;32m     10\u001b[0m \u001b[38;5;28;01melif\u001b[39;00m event \u001b[38;5;241m==\u001b[39m cv2\u001b[38;5;241m.\u001b[39mEVENT_RBUTTONDOWN:\n\u001b[0;32m     11\u001b[0m     cv2\u001b[38;5;241m.\u001b[39mcircle(img, (x,y), \u001b[38;5;241m10\u001b[39m, (\u001b[38;5;241m255\u001b[39m,\u001b[38;5;241m0\u001b[39m,\u001b[38;5;241m0\u001b[39m), \u001b[38;5;241m2\u001b[39m)\n\u001b[1;32m---> 12\u001b[0m \u001b[38;5;28;01melif\u001b[39;00m event \u001b[38;5;241m==\u001b[39m \u001b[43mcv2\u001b[49m\u001b[38;5;241;43m.\u001b[39;49m\u001b[43mEVENT_LBUTTONDBCLK\u001b[49m:\n\u001b[0;32m     13\u001b[0m     cv2\u001b[38;5;241m.\u001b[39mcircle(img, (x,y), \u001b[38;5;241m20\u001b[39m, (\u001b[38;5;241m255\u001b[39m,\u001b[38;5;241m0\u001b[39m,\u001b[38;5;241m0\u001b[39m), \u001b[38;5;241m-\u001b[39m\u001b[38;5;241m1\u001b[39m)\n",
      "\u001b[1;31mAttributeError\u001b[0m: module 'cv2' has no attribute 'EVENT_LBUTTONDBCLK'"
     ]
    },
    {
     "ename": "AttributeError",
     "evalue": "module 'cv2' has no attribute 'EVENT_LBUTTONDBCLK'",
     "output_type": "error",
     "traceback": [
      "\u001b[1;31m---------------------------------------------------------------------------\u001b[0m",
      "\u001b[1;31mAttributeError\u001b[0m                            Traceback (most recent call last)",
      "Cell \u001b[1;32mIn[6], line 12\u001b[0m, in \u001b[0;36mdraw_circle\u001b[1;34m(event, x, y, flags, param)\u001b[0m\n\u001b[0;32m     10\u001b[0m \u001b[38;5;28;01melif\u001b[39;00m event \u001b[38;5;241m==\u001b[39m cv2\u001b[38;5;241m.\u001b[39mEVENT_RBUTTONDOWN:\n\u001b[0;32m     11\u001b[0m     cv2\u001b[38;5;241m.\u001b[39mcircle(img, (x,y), \u001b[38;5;241m10\u001b[39m, (\u001b[38;5;241m255\u001b[39m,\u001b[38;5;241m0\u001b[39m,\u001b[38;5;241m0\u001b[39m), \u001b[38;5;241m2\u001b[39m)\n\u001b[1;32m---> 12\u001b[0m \u001b[38;5;28;01melif\u001b[39;00m event \u001b[38;5;241m==\u001b[39m \u001b[43mcv2\u001b[49m\u001b[38;5;241;43m.\u001b[39;49m\u001b[43mEVENT_LBUTTONDBCLK\u001b[49m:\n\u001b[0;32m     13\u001b[0m     cv2\u001b[38;5;241m.\u001b[39mcircle(img, (x,y), \u001b[38;5;241m20\u001b[39m, (\u001b[38;5;241m255\u001b[39m,\u001b[38;5;241m0\u001b[39m,\u001b[38;5;241m0\u001b[39m), \u001b[38;5;241m-\u001b[39m\u001b[38;5;241m1\u001b[39m)\n",
      "\u001b[1;31mAttributeError\u001b[0m: module 'cv2' has no attribute 'EVENT_LBUTTONDBCLK'"
     ]
    },
    {
     "ename": "AttributeError",
     "evalue": "module 'cv2' has no attribute 'EVENT_LBUTTONDBCLK'",
     "output_type": "error",
     "traceback": [
      "\u001b[1;31m---------------------------------------------------------------------------\u001b[0m",
      "\u001b[1;31mAttributeError\u001b[0m                            Traceback (most recent call last)",
      "Cell \u001b[1;32mIn[6], line 12\u001b[0m, in \u001b[0;36mdraw_circle\u001b[1;34m(event, x, y, flags, param)\u001b[0m\n\u001b[0;32m     10\u001b[0m \u001b[38;5;28;01melif\u001b[39;00m event \u001b[38;5;241m==\u001b[39m cv2\u001b[38;5;241m.\u001b[39mEVENT_RBUTTONDOWN:\n\u001b[0;32m     11\u001b[0m     cv2\u001b[38;5;241m.\u001b[39mcircle(img, (x,y), \u001b[38;5;241m10\u001b[39m, (\u001b[38;5;241m255\u001b[39m,\u001b[38;5;241m0\u001b[39m,\u001b[38;5;241m0\u001b[39m), \u001b[38;5;241m2\u001b[39m)\n\u001b[1;32m---> 12\u001b[0m \u001b[38;5;28;01melif\u001b[39;00m event \u001b[38;5;241m==\u001b[39m \u001b[43mcv2\u001b[49m\u001b[38;5;241;43m.\u001b[39;49m\u001b[43mEVENT_LBUTTONDBCLK\u001b[49m:\n\u001b[0;32m     13\u001b[0m     cv2\u001b[38;5;241m.\u001b[39mcircle(img, (x,y), \u001b[38;5;241m20\u001b[39m, (\u001b[38;5;241m255\u001b[39m,\u001b[38;5;241m0\u001b[39m,\u001b[38;5;241m0\u001b[39m), \u001b[38;5;241m-\u001b[39m\u001b[38;5;241m1\u001b[39m)\n",
      "\u001b[1;31mAttributeError\u001b[0m: module 'cv2' has no attribute 'EVENT_LBUTTONDBCLK'"
     ]
    },
    {
     "ename": "AttributeError",
     "evalue": "module 'cv2' has no attribute 'EVENT_LBUTTONDBCLK'",
     "output_type": "error",
     "traceback": [
      "\u001b[1;31m---------------------------------------------------------------------------\u001b[0m",
      "\u001b[1;31mAttributeError\u001b[0m                            Traceback (most recent call last)",
      "Cell \u001b[1;32mIn[6], line 12\u001b[0m, in \u001b[0;36mdraw_circle\u001b[1;34m(event, x, y, flags, param)\u001b[0m\n\u001b[0;32m     10\u001b[0m \u001b[38;5;28;01melif\u001b[39;00m event \u001b[38;5;241m==\u001b[39m cv2\u001b[38;5;241m.\u001b[39mEVENT_RBUTTONDOWN:\n\u001b[0;32m     11\u001b[0m     cv2\u001b[38;5;241m.\u001b[39mcircle(img, (x,y), \u001b[38;5;241m10\u001b[39m, (\u001b[38;5;241m255\u001b[39m,\u001b[38;5;241m0\u001b[39m,\u001b[38;5;241m0\u001b[39m), \u001b[38;5;241m2\u001b[39m)\n\u001b[1;32m---> 12\u001b[0m \u001b[38;5;28;01melif\u001b[39;00m event \u001b[38;5;241m==\u001b[39m \u001b[43mcv2\u001b[49m\u001b[38;5;241;43m.\u001b[39;49m\u001b[43mEVENT_LBUTTONDBCLK\u001b[49m:\n\u001b[0;32m     13\u001b[0m     cv2\u001b[38;5;241m.\u001b[39mcircle(img, (x,y), \u001b[38;5;241m20\u001b[39m, (\u001b[38;5;241m255\u001b[39m,\u001b[38;5;241m0\u001b[39m,\u001b[38;5;241m0\u001b[39m), \u001b[38;5;241m-\u001b[39m\u001b[38;5;241m1\u001b[39m)\n",
      "\u001b[1;31mAttributeError\u001b[0m: module 'cv2' has no attribute 'EVENT_LBUTTONDBCLK'"
     ]
    },
    {
     "ename": "AttributeError",
     "evalue": "module 'cv2' has no attribute 'EVENT_LBUTTONDBCLK'",
     "output_type": "error",
     "traceback": [
      "\u001b[1;31m---------------------------------------------------------------------------\u001b[0m",
      "\u001b[1;31mAttributeError\u001b[0m                            Traceback (most recent call last)",
      "Cell \u001b[1;32mIn[6], line 12\u001b[0m, in \u001b[0;36mdraw_circle\u001b[1;34m(event, x, y, flags, param)\u001b[0m\n\u001b[0;32m     10\u001b[0m \u001b[38;5;28;01melif\u001b[39;00m event \u001b[38;5;241m==\u001b[39m cv2\u001b[38;5;241m.\u001b[39mEVENT_RBUTTONDOWN:\n\u001b[0;32m     11\u001b[0m     cv2\u001b[38;5;241m.\u001b[39mcircle(img, (x,y), \u001b[38;5;241m10\u001b[39m, (\u001b[38;5;241m255\u001b[39m,\u001b[38;5;241m0\u001b[39m,\u001b[38;5;241m0\u001b[39m), \u001b[38;5;241m2\u001b[39m)\n\u001b[1;32m---> 12\u001b[0m \u001b[38;5;28;01melif\u001b[39;00m event \u001b[38;5;241m==\u001b[39m \u001b[43mcv2\u001b[49m\u001b[38;5;241;43m.\u001b[39;49m\u001b[43mEVENT_LBUTTONDBCLK\u001b[49m:\n\u001b[0;32m     13\u001b[0m     cv2\u001b[38;5;241m.\u001b[39mcircle(img, (x,y), \u001b[38;5;241m20\u001b[39m, (\u001b[38;5;241m255\u001b[39m,\u001b[38;5;241m0\u001b[39m,\u001b[38;5;241m0\u001b[39m), \u001b[38;5;241m-\u001b[39m\u001b[38;5;241m1\u001b[39m)\n",
      "\u001b[1;31mAttributeError\u001b[0m: module 'cv2' has no attribute 'EVENT_LBUTTONDBCLK'"
     ]
    },
    {
     "ename": "AttributeError",
     "evalue": "module 'cv2' has no attribute 'EVENT_LBUTTONDBCLK'",
     "output_type": "error",
     "traceback": [
      "\u001b[1;31m---------------------------------------------------------------------------\u001b[0m",
      "\u001b[1;31mAttributeError\u001b[0m                            Traceback (most recent call last)",
      "Cell \u001b[1;32mIn[6], line 12\u001b[0m, in \u001b[0;36mdraw_circle\u001b[1;34m(event, x, y, flags, param)\u001b[0m\n\u001b[0;32m     10\u001b[0m \u001b[38;5;28;01melif\u001b[39;00m event \u001b[38;5;241m==\u001b[39m cv2\u001b[38;5;241m.\u001b[39mEVENT_RBUTTONDOWN:\n\u001b[0;32m     11\u001b[0m     cv2\u001b[38;5;241m.\u001b[39mcircle(img, (x,y), \u001b[38;5;241m10\u001b[39m, (\u001b[38;5;241m255\u001b[39m,\u001b[38;5;241m0\u001b[39m,\u001b[38;5;241m0\u001b[39m), \u001b[38;5;241m2\u001b[39m)\n\u001b[1;32m---> 12\u001b[0m \u001b[38;5;28;01melif\u001b[39;00m event \u001b[38;5;241m==\u001b[39m \u001b[43mcv2\u001b[49m\u001b[38;5;241;43m.\u001b[39;49m\u001b[43mEVENT_LBUTTONDBCLK\u001b[49m:\n\u001b[0;32m     13\u001b[0m     cv2\u001b[38;5;241m.\u001b[39mcircle(img, (x,y), \u001b[38;5;241m20\u001b[39m, (\u001b[38;5;241m255\u001b[39m,\u001b[38;5;241m0\u001b[39m,\u001b[38;5;241m0\u001b[39m), \u001b[38;5;241m-\u001b[39m\u001b[38;5;241m1\u001b[39m)\n",
      "\u001b[1;31mAttributeError\u001b[0m: module 'cv2' has no attribute 'EVENT_LBUTTONDBCLK'"
     ]
    },
    {
     "ename": "AttributeError",
     "evalue": "module 'cv2' has no attribute 'EVENT_LBUTTONDBCLK'",
     "output_type": "error",
     "traceback": [
      "\u001b[1;31m---------------------------------------------------------------------------\u001b[0m",
      "\u001b[1;31mAttributeError\u001b[0m                            Traceback (most recent call last)",
      "Cell \u001b[1;32mIn[6], line 12\u001b[0m, in \u001b[0;36mdraw_circle\u001b[1;34m(event, x, y, flags, param)\u001b[0m\n\u001b[0;32m     10\u001b[0m \u001b[38;5;28;01melif\u001b[39;00m event \u001b[38;5;241m==\u001b[39m cv2\u001b[38;5;241m.\u001b[39mEVENT_RBUTTONDOWN:\n\u001b[0;32m     11\u001b[0m     cv2\u001b[38;5;241m.\u001b[39mcircle(img, (x,y), \u001b[38;5;241m10\u001b[39m, (\u001b[38;5;241m255\u001b[39m,\u001b[38;5;241m0\u001b[39m,\u001b[38;5;241m0\u001b[39m), \u001b[38;5;241m2\u001b[39m)\n\u001b[1;32m---> 12\u001b[0m \u001b[38;5;28;01melif\u001b[39;00m event \u001b[38;5;241m==\u001b[39m \u001b[43mcv2\u001b[49m\u001b[38;5;241;43m.\u001b[39;49m\u001b[43mEVENT_LBUTTONDBCLK\u001b[49m:\n\u001b[0;32m     13\u001b[0m     cv2\u001b[38;5;241m.\u001b[39mcircle(img, (x,y), \u001b[38;5;241m20\u001b[39m, (\u001b[38;5;241m255\u001b[39m,\u001b[38;5;241m0\u001b[39m,\u001b[38;5;241m0\u001b[39m), \u001b[38;5;241m-\u001b[39m\u001b[38;5;241m1\u001b[39m)\n",
      "\u001b[1;31mAttributeError\u001b[0m: module 'cv2' has no attribute 'EVENT_LBUTTONDBCLK'"
     ]
    },
    {
     "ename": "AttributeError",
     "evalue": "module 'cv2' has no attribute 'EVENT_LBUTTONDBCLK'",
     "output_type": "error",
     "traceback": [
      "\u001b[1;31m---------------------------------------------------------------------------\u001b[0m",
      "\u001b[1;31mAttributeError\u001b[0m                            Traceback (most recent call last)",
      "Cell \u001b[1;32mIn[6], line 12\u001b[0m, in \u001b[0;36mdraw_circle\u001b[1;34m(event, x, y, flags, param)\u001b[0m\n\u001b[0;32m     10\u001b[0m \u001b[38;5;28;01melif\u001b[39;00m event \u001b[38;5;241m==\u001b[39m cv2\u001b[38;5;241m.\u001b[39mEVENT_RBUTTONDOWN:\n\u001b[0;32m     11\u001b[0m     cv2\u001b[38;5;241m.\u001b[39mcircle(img, (x,y), \u001b[38;5;241m10\u001b[39m, (\u001b[38;5;241m255\u001b[39m,\u001b[38;5;241m0\u001b[39m,\u001b[38;5;241m0\u001b[39m), \u001b[38;5;241m2\u001b[39m)\n\u001b[1;32m---> 12\u001b[0m \u001b[38;5;28;01melif\u001b[39;00m event \u001b[38;5;241m==\u001b[39m \u001b[43mcv2\u001b[49m\u001b[38;5;241;43m.\u001b[39;49m\u001b[43mEVENT_LBUTTONDBCLK\u001b[49m:\n\u001b[0;32m     13\u001b[0m     cv2\u001b[38;5;241m.\u001b[39mcircle(img, (x,y), \u001b[38;5;241m20\u001b[39m, (\u001b[38;5;241m255\u001b[39m,\u001b[38;5;241m0\u001b[39m,\u001b[38;5;241m0\u001b[39m), \u001b[38;5;241m-\u001b[39m\u001b[38;5;241m1\u001b[39m)\n",
      "\u001b[1;31mAttributeError\u001b[0m: module 'cv2' has no attribute 'EVENT_LBUTTONDBCLK'"
     ]
    },
    {
     "ename": "AttributeError",
     "evalue": "module 'cv2' has no attribute 'EVENT_LBUTTONDBCLK'",
     "output_type": "error",
     "traceback": [
      "\u001b[1;31m---------------------------------------------------------------------------\u001b[0m",
      "\u001b[1;31mAttributeError\u001b[0m                            Traceback (most recent call last)",
      "Cell \u001b[1;32mIn[6], line 12\u001b[0m, in \u001b[0;36mdraw_circle\u001b[1;34m(event, x, y, flags, param)\u001b[0m\n\u001b[0;32m     10\u001b[0m \u001b[38;5;28;01melif\u001b[39;00m event \u001b[38;5;241m==\u001b[39m cv2\u001b[38;5;241m.\u001b[39mEVENT_RBUTTONDOWN:\n\u001b[0;32m     11\u001b[0m     cv2\u001b[38;5;241m.\u001b[39mcircle(img, (x,y), \u001b[38;5;241m10\u001b[39m, (\u001b[38;5;241m255\u001b[39m,\u001b[38;5;241m0\u001b[39m,\u001b[38;5;241m0\u001b[39m), \u001b[38;5;241m2\u001b[39m)\n\u001b[1;32m---> 12\u001b[0m \u001b[38;5;28;01melif\u001b[39;00m event \u001b[38;5;241m==\u001b[39m \u001b[43mcv2\u001b[49m\u001b[38;5;241;43m.\u001b[39;49m\u001b[43mEVENT_LBUTTONDBCLK\u001b[49m:\n\u001b[0;32m     13\u001b[0m     cv2\u001b[38;5;241m.\u001b[39mcircle(img, (x,y), \u001b[38;5;241m20\u001b[39m, (\u001b[38;5;241m255\u001b[39m,\u001b[38;5;241m0\u001b[39m,\u001b[38;5;241m0\u001b[39m), \u001b[38;5;241m-\u001b[39m\u001b[38;5;241m1\u001b[39m)\n",
      "\u001b[1;31mAttributeError\u001b[0m: module 'cv2' has no attribute 'EVENT_LBUTTONDBCLK'"
     ]
    },
    {
     "ename": "AttributeError",
     "evalue": "module 'cv2' has no attribute 'EVENT_LBUTTONDBCLK'",
     "output_type": "error",
     "traceback": [
      "\u001b[1;31m---------------------------------------------------------------------------\u001b[0m",
      "\u001b[1;31mAttributeError\u001b[0m                            Traceback (most recent call last)",
      "Cell \u001b[1;32mIn[6], line 12\u001b[0m, in \u001b[0;36mdraw_circle\u001b[1;34m(event, x, y, flags, param)\u001b[0m\n\u001b[0;32m     10\u001b[0m \u001b[38;5;28;01melif\u001b[39;00m event \u001b[38;5;241m==\u001b[39m cv2\u001b[38;5;241m.\u001b[39mEVENT_RBUTTONDOWN:\n\u001b[0;32m     11\u001b[0m     cv2\u001b[38;5;241m.\u001b[39mcircle(img, (x,y), \u001b[38;5;241m10\u001b[39m, (\u001b[38;5;241m255\u001b[39m,\u001b[38;5;241m0\u001b[39m,\u001b[38;5;241m0\u001b[39m), \u001b[38;5;241m2\u001b[39m)\n\u001b[1;32m---> 12\u001b[0m \u001b[38;5;28;01melif\u001b[39;00m event \u001b[38;5;241m==\u001b[39m \u001b[43mcv2\u001b[49m\u001b[38;5;241;43m.\u001b[39;49m\u001b[43mEVENT_LBUTTONDBCLK\u001b[49m:\n\u001b[0;32m     13\u001b[0m     cv2\u001b[38;5;241m.\u001b[39mcircle(img, (x,y), \u001b[38;5;241m20\u001b[39m, (\u001b[38;5;241m255\u001b[39m,\u001b[38;5;241m0\u001b[39m,\u001b[38;5;241m0\u001b[39m), \u001b[38;5;241m-\u001b[39m\u001b[38;5;241m1\u001b[39m)\n",
      "\u001b[1;31mAttributeError\u001b[0m: module 'cv2' has no attribute 'EVENT_LBUTTONDBCLK'"
     ]
    },
    {
     "ename": "AttributeError",
     "evalue": "module 'cv2' has no attribute 'EVENT_LBUTTONDBCLK'",
     "output_type": "error",
     "traceback": [
      "\u001b[1;31m---------------------------------------------------------------------------\u001b[0m",
      "\u001b[1;31mAttributeError\u001b[0m                            Traceback (most recent call last)",
      "Cell \u001b[1;32mIn[6], line 12\u001b[0m, in \u001b[0;36mdraw_circle\u001b[1;34m(event, x, y, flags, param)\u001b[0m\n\u001b[0;32m     10\u001b[0m \u001b[38;5;28;01melif\u001b[39;00m event \u001b[38;5;241m==\u001b[39m cv2\u001b[38;5;241m.\u001b[39mEVENT_RBUTTONDOWN:\n\u001b[0;32m     11\u001b[0m     cv2\u001b[38;5;241m.\u001b[39mcircle(img, (x,y), \u001b[38;5;241m10\u001b[39m, (\u001b[38;5;241m255\u001b[39m,\u001b[38;5;241m0\u001b[39m,\u001b[38;5;241m0\u001b[39m), \u001b[38;5;241m2\u001b[39m)\n\u001b[1;32m---> 12\u001b[0m \u001b[38;5;28;01melif\u001b[39;00m event \u001b[38;5;241m==\u001b[39m \u001b[43mcv2\u001b[49m\u001b[38;5;241;43m.\u001b[39;49m\u001b[43mEVENT_LBUTTONDBCLK\u001b[49m:\n\u001b[0;32m     13\u001b[0m     cv2\u001b[38;5;241m.\u001b[39mcircle(img, (x,y), \u001b[38;5;241m20\u001b[39m, (\u001b[38;5;241m255\u001b[39m,\u001b[38;5;241m0\u001b[39m,\u001b[38;5;241m0\u001b[39m), \u001b[38;5;241m-\u001b[39m\u001b[38;5;241m1\u001b[39m)\n",
      "\u001b[1;31mAttributeError\u001b[0m: module 'cv2' has no attribute 'EVENT_LBUTTONDBCLK'"
     ]
    },
    {
     "ename": "AttributeError",
     "evalue": "module 'cv2' has no attribute 'EVENT_LBUTTONDBCLK'",
     "output_type": "error",
     "traceback": [
      "\u001b[1;31m---------------------------------------------------------------------------\u001b[0m",
      "\u001b[1;31mAttributeError\u001b[0m                            Traceback (most recent call last)",
      "Cell \u001b[1;32mIn[6], line 12\u001b[0m, in \u001b[0;36mdraw_circle\u001b[1;34m(event, x, y, flags, param)\u001b[0m\n\u001b[0;32m     10\u001b[0m \u001b[38;5;28;01melif\u001b[39;00m event \u001b[38;5;241m==\u001b[39m cv2\u001b[38;5;241m.\u001b[39mEVENT_RBUTTONDOWN:\n\u001b[0;32m     11\u001b[0m     cv2\u001b[38;5;241m.\u001b[39mcircle(img, (x,y), \u001b[38;5;241m10\u001b[39m, (\u001b[38;5;241m255\u001b[39m,\u001b[38;5;241m0\u001b[39m,\u001b[38;5;241m0\u001b[39m), \u001b[38;5;241m2\u001b[39m)\n\u001b[1;32m---> 12\u001b[0m \u001b[38;5;28;01melif\u001b[39;00m event \u001b[38;5;241m==\u001b[39m \u001b[43mcv2\u001b[49m\u001b[38;5;241;43m.\u001b[39;49m\u001b[43mEVENT_LBUTTONDBCLK\u001b[49m:\n\u001b[0;32m     13\u001b[0m     cv2\u001b[38;5;241m.\u001b[39mcircle(img, (x,y), \u001b[38;5;241m20\u001b[39m, (\u001b[38;5;241m255\u001b[39m,\u001b[38;5;241m0\u001b[39m,\u001b[38;5;241m0\u001b[39m), \u001b[38;5;241m-\u001b[39m\u001b[38;5;241m1\u001b[39m)\n",
      "\u001b[1;31mAttributeError\u001b[0m: module 'cv2' has no attribute 'EVENT_LBUTTONDBCLK'"
     ]
    },
    {
     "ename": "AttributeError",
     "evalue": "module 'cv2' has no attribute 'EVENT_LBUTTONDBCLK'",
     "output_type": "error",
     "traceback": [
      "\u001b[1;31m---------------------------------------------------------------------------\u001b[0m",
      "\u001b[1;31mAttributeError\u001b[0m                            Traceback (most recent call last)",
      "Cell \u001b[1;32mIn[6], line 12\u001b[0m, in \u001b[0;36mdraw_circle\u001b[1;34m(event, x, y, flags, param)\u001b[0m\n\u001b[0;32m     10\u001b[0m \u001b[38;5;28;01melif\u001b[39;00m event \u001b[38;5;241m==\u001b[39m cv2\u001b[38;5;241m.\u001b[39mEVENT_RBUTTONDOWN:\n\u001b[0;32m     11\u001b[0m     cv2\u001b[38;5;241m.\u001b[39mcircle(img, (x,y), \u001b[38;5;241m10\u001b[39m, (\u001b[38;5;241m255\u001b[39m,\u001b[38;5;241m0\u001b[39m,\u001b[38;5;241m0\u001b[39m), \u001b[38;5;241m2\u001b[39m)\n\u001b[1;32m---> 12\u001b[0m \u001b[38;5;28;01melif\u001b[39;00m event \u001b[38;5;241m==\u001b[39m \u001b[43mcv2\u001b[49m\u001b[38;5;241;43m.\u001b[39;49m\u001b[43mEVENT_LBUTTONDBCLK\u001b[49m:\n\u001b[0;32m     13\u001b[0m     cv2\u001b[38;5;241m.\u001b[39mcircle(img, (x,y), \u001b[38;5;241m20\u001b[39m, (\u001b[38;5;241m255\u001b[39m,\u001b[38;5;241m0\u001b[39m,\u001b[38;5;241m0\u001b[39m), \u001b[38;5;241m-\u001b[39m\u001b[38;5;241m1\u001b[39m)\n",
      "\u001b[1;31mAttributeError\u001b[0m: module 'cv2' has no attribute 'EVENT_LBUTTONDBCLK'"
     ]
    },
    {
     "ename": "AttributeError",
     "evalue": "module 'cv2' has no attribute 'EVENT_LBUTTONDBCLK'",
     "output_type": "error",
     "traceback": [
      "\u001b[1;31m---------------------------------------------------------------------------\u001b[0m",
      "\u001b[1;31mAttributeError\u001b[0m                            Traceback (most recent call last)",
      "Cell \u001b[1;32mIn[6], line 12\u001b[0m, in \u001b[0;36mdraw_circle\u001b[1;34m(event, x, y, flags, param)\u001b[0m\n\u001b[0;32m     10\u001b[0m \u001b[38;5;28;01melif\u001b[39;00m event \u001b[38;5;241m==\u001b[39m cv2\u001b[38;5;241m.\u001b[39mEVENT_RBUTTONDOWN:\n\u001b[0;32m     11\u001b[0m     cv2\u001b[38;5;241m.\u001b[39mcircle(img, (x,y), \u001b[38;5;241m10\u001b[39m, (\u001b[38;5;241m255\u001b[39m,\u001b[38;5;241m0\u001b[39m,\u001b[38;5;241m0\u001b[39m), \u001b[38;5;241m2\u001b[39m)\n\u001b[1;32m---> 12\u001b[0m \u001b[38;5;28;01melif\u001b[39;00m event \u001b[38;5;241m==\u001b[39m \u001b[43mcv2\u001b[49m\u001b[38;5;241;43m.\u001b[39;49m\u001b[43mEVENT_LBUTTONDBCLK\u001b[49m:\n\u001b[0;32m     13\u001b[0m     cv2\u001b[38;5;241m.\u001b[39mcircle(img, (x,y), \u001b[38;5;241m20\u001b[39m, (\u001b[38;5;241m255\u001b[39m,\u001b[38;5;241m0\u001b[39m,\u001b[38;5;241m0\u001b[39m), \u001b[38;5;241m-\u001b[39m\u001b[38;5;241m1\u001b[39m)\n",
      "\u001b[1;31mAttributeError\u001b[0m: module 'cv2' has no attribute 'EVENT_LBUTTONDBCLK'"
     ]
    },
    {
     "ename": "AttributeError",
     "evalue": "module 'cv2' has no attribute 'EVENT_LBUTTONDBCLK'",
     "output_type": "error",
     "traceback": [
      "\u001b[1;31m---------------------------------------------------------------------------\u001b[0m",
      "\u001b[1;31mAttributeError\u001b[0m                            Traceback (most recent call last)",
      "Cell \u001b[1;32mIn[6], line 12\u001b[0m, in \u001b[0;36mdraw_circle\u001b[1;34m(event, x, y, flags, param)\u001b[0m\n\u001b[0;32m     10\u001b[0m \u001b[38;5;28;01melif\u001b[39;00m event \u001b[38;5;241m==\u001b[39m cv2\u001b[38;5;241m.\u001b[39mEVENT_RBUTTONDOWN:\n\u001b[0;32m     11\u001b[0m     cv2\u001b[38;5;241m.\u001b[39mcircle(img, (x,y), \u001b[38;5;241m10\u001b[39m, (\u001b[38;5;241m255\u001b[39m,\u001b[38;5;241m0\u001b[39m,\u001b[38;5;241m0\u001b[39m), \u001b[38;5;241m2\u001b[39m)\n\u001b[1;32m---> 12\u001b[0m \u001b[38;5;28;01melif\u001b[39;00m event \u001b[38;5;241m==\u001b[39m \u001b[43mcv2\u001b[49m\u001b[38;5;241;43m.\u001b[39;49m\u001b[43mEVENT_LBUTTONDBCLK\u001b[49m:\n\u001b[0;32m     13\u001b[0m     cv2\u001b[38;5;241m.\u001b[39mcircle(img, (x,y), \u001b[38;5;241m20\u001b[39m, (\u001b[38;5;241m255\u001b[39m,\u001b[38;5;241m0\u001b[39m,\u001b[38;5;241m0\u001b[39m), \u001b[38;5;241m-\u001b[39m\u001b[38;5;241m1\u001b[39m)\n",
      "\u001b[1;31mAttributeError\u001b[0m: module 'cv2' has no attribute 'EVENT_LBUTTONDBCLK'"
     ]
    },
    {
     "ename": "AttributeError",
     "evalue": "module 'cv2' has no attribute 'EVENT_LBUTTONDBCLK'",
     "output_type": "error",
     "traceback": [
      "\u001b[1;31m---------------------------------------------------------------------------\u001b[0m",
      "\u001b[1;31mAttributeError\u001b[0m                            Traceback (most recent call last)",
      "Cell \u001b[1;32mIn[6], line 12\u001b[0m, in \u001b[0;36mdraw_circle\u001b[1;34m(event, x, y, flags, param)\u001b[0m\n\u001b[0;32m     10\u001b[0m \u001b[38;5;28;01melif\u001b[39;00m event \u001b[38;5;241m==\u001b[39m cv2\u001b[38;5;241m.\u001b[39mEVENT_RBUTTONDOWN:\n\u001b[0;32m     11\u001b[0m     cv2\u001b[38;5;241m.\u001b[39mcircle(img, (x,y), \u001b[38;5;241m10\u001b[39m, (\u001b[38;5;241m255\u001b[39m,\u001b[38;5;241m0\u001b[39m,\u001b[38;5;241m0\u001b[39m), \u001b[38;5;241m2\u001b[39m)\n\u001b[1;32m---> 12\u001b[0m \u001b[38;5;28;01melif\u001b[39;00m event \u001b[38;5;241m==\u001b[39m \u001b[43mcv2\u001b[49m\u001b[38;5;241;43m.\u001b[39;49m\u001b[43mEVENT_LBUTTONDBCLK\u001b[49m:\n\u001b[0;32m     13\u001b[0m     cv2\u001b[38;5;241m.\u001b[39mcircle(img, (x,y), \u001b[38;5;241m20\u001b[39m, (\u001b[38;5;241m255\u001b[39m,\u001b[38;5;241m0\u001b[39m,\u001b[38;5;241m0\u001b[39m), \u001b[38;5;241m-\u001b[39m\u001b[38;5;241m1\u001b[39m)\n",
      "\u001b[1;31mAttributeError\u001b[0m: module 'cv2' has no attribute 'EVENT_LBUTTONDBCLK'"
     ]
    },
    {
     "ename": "AttributeError",
     "evalue": "module 'cv2' has no attribute 'EVENT_LBUTTONDBCLK'",
     "output_type": "error",
     "traceback": [
      "\u001b[1;31m---------------------------------------------------------------------------\u001b[0m",
      "\u001b[1;31mAttributeError\u001b[0m                            Traceback (most recent call last)",
      "Cell \u001b[1;32mIn[6], line 12\u001b[0m, in \u001b[0;36mdraw_circle\u001b[1;34m(event, x, y, flags, param)\u001b[0m\n\u001b[0;32m     10\u001b[0m \u001b[38;5;28;01melif\u001b[39;00m event \u001b[38;5;241m==\u001b[39m cv2\u001b[38;5;241m.\u001b[39mEVENT_RBUTTONDOWN:\n\u001b[0;32m     11\u001b[0m     cv2\u001b[38;5;241m.\u001b[39mcircle(img, (x,y), \u001b[38;5;241m10\u001b[39m, (\u001b[38;5;241m255\u001b[39m,\u001b[38;5;241m0\u001b[39m,\u001b[38;5;241m0\u001b[39m), \u001b[38;5;241m2\u001b[39m)\n\u001b[1;32m---> 12\u001b[0m \u001b[38;5;28;01melif\u001b[39;00m event \u001b[38;5;241m==\u001b[39m \u001b[43mcv2\u001b[49m\u001b[38;5;241;43m.\u001b[39;49m\u001b[43mEVENT_LBUTTONDBCLK\u001b[49m:\n\u001b[0;32m     13\u001b[0m     cv2\u001b[38;5;241m.\u001b[39mcircle(img, (x,y), \u001b[38;5;241m20\u001b[39m, (\u001b[38;5;241m255\u001b[39m,\u001b[38;5;241m0\u001b[39m,\u001b[38;5;241m0\u001b[39m), \u001b[38;5;241m-\u001b[39m\u001b[38;5;241m1\u001b[39m)\n",
      "\u001b[1;31mAttributeError\u001b[0m: module 'cv2' has no attribute 'EVENT_LBUTTONDBCLK'"
     ]
    },
    {
     "ename": "AttributeError",
     "evalue": "module 'cv2' has no attribute 'EVENT_LBUTTONDBCLK'",
     "output_type": "error",
     "traceback": [
      "\u001b[1;31m---------------------------------------------------------------------------\u001b[0m",
      "\u001b[1;31mAttributeError\u001b[0m                            Traceback (most recent call last)",
      "Cell \u001b[1;32mIn[6], line 12\u001b[0m, in \u001b[0;36mdraw_circle\u001b[1;34m(event, x, y, flags, param)\u001b[0m\n\u001b[0;32m     10\u001b[0m \u001b[38;5;28;01melif\u001b[39;00m event \u001b[38;5;241m==\u001b[39m cv2\u001b[38;5;241m.\u001b[39mEVENT_RBUTTONDOWN:\n\u001b[0;32m     11\u001b[0m     cv2\u001b[38;5;241m.\u001b[39mcircle(img, (x,y), \u001b[38;5;241m10\u001b[39m, (\u001b[38;5;241m255\u001b[39m,\u001b[38;5;241m0\u001b[39m,\u001b[38;5;241m0\u001b[39m), \u001b[38;5;241m2\u001b[39m)\n\u001b[1;32m---> 12\u001b[0m \u001b[38;5;28;01melif\u001b[39;00m event \u001b[38;5;241m==\u001b[39m \u001b[43mcv2\u001b[49m\u001b[38;5;241;43m.\u001b[39;49m\u001b[43mEVENT_LBUTTONDBCLK\u001b[49m:\n\u001b[0;32m     13\u001b[0m     cv2\u001b[38;5;241m.\u001b[39mcircle(img, (x,y), \u001b[38;5;241m20\u001b[39m, (\u001b[38;5;241m255\u001b[39m,\u001b[38;5;241m0\u001b[39m,\u001b[38;5;241m0\u001b[39m), \u001b[38;5;241m-\u001b[39m\u001b[38;5;241m1\u001b[39m)\n",
      "\u001b[1;31mAttributeError\u001b[0m: module 'cv2' has no attribute 'EVENT_LBUTTONDBCLK'"
     ]
    },
    {
     "ename": "AttributeError",
     "evalue": "module 'cv2' has no attribute 'EVENT_LBUTTONDBCLK'",
     "output_type": "error",
     "traceback": [
      "\u001b[1;31m---------------------------------------------------------------------------\u001b[0m",
      "\u001b[1;31mAttributeError\u001b[0m                            Traceback (most recent call last)",
      "Cell \u001b[1;32mIn[6], line 12\u001b[0m, in \u001b[0;36mdraw_circle\u001b[1;34m(event, x, y, flags, param)\u001b[0m\n\u001b[0;32m     10\u001b[0m \u001b[38;5;28;01melif\u001b[39;00m event \u001b[38;5;241m==\u001b[39m cv2\u001b[38;5;241m.\u001b[39mEVENT_RBUTTONDOWN:\n\u001b[0;32m     11\u001b[0m     cv2\u001b[38;5;241m.\u001b[39mcircle(img, (x,y), \u001b[38;5;241m10\u001b[39m, (\u001b[38;5;241m255\u001b[39m,\u001b[38;5;241m0\u001b[39m,\u001b[38;5;241m0\u001b[39m), \u001b[38;5;241m2\u001b[39m)\n\u001b[1;32m---> 12\u001b[0m \u001b[38;5;28;01melif\u001b[39;00m event \u001b[38;5;241m==\u001b[39m \u001b[43mcv2\u001b[49m\u001b[38;5;241;43m.\u001b[39;49m\u001b[43mEVENT_LBUTTONDBCLK\u001b[49m:\n\u001b[0;32m     13\u001b[0m     cv2\u001b[38;5;241m.\u001b[39mcircle(img, (x,y), \u001b[38;5;241m20\u001b[39m, (\u001b[38;5;241m255\u001b[39m,\u001b[38;5;241m0\u001b[39m,\u001b[38;5;241m0\u001b[39m), \u001b[38;5;241m-\u001b[39m\u001b[38;5;241m1\u001b[39m)\n",
      "\u001b[1;31mAttributeError\u001b[0m: module 'cv2' has no attribute 'EVENT_LBUTTONDBCLK'"
     ]
    },
    {
     "ename": "AttributeError",
     "evalue": "module 'cv2' has no attribute 'EVENT_LBUTTONDBCLK'",
     "output_type": "error",
     "traceback": [
      "\u001b[1;31m---------------------------------------------------------------------------\u001b[0m",
      "\u001b[1;31mAttributeError\u001b[0m                            Traceback (most recent call last)",
      "Cell \u001b[1;32mIn[6], line 12\u001b[0m, in \u001b[0;36mdraw_circle\u001b[1;34m(event, x, y, flags, param)\u001b[0m\n\u001b[0;32m     10\u001b[0m \u001b[38;5;28;01melif\u001b[39;00m event \u001b[38;5;241m==\u001b[39m cv2\u001b[38;5;241m.\u001b[39mEVENT_RBUTTONDOWN:\n\u001b[0;32m     11\u001b[0m     cv2\u001b[38;5;241m.\u001b[39mcircle(img, (x,y), \u001b[38;5;241m10\u001b[39m, (\u001b[38;5;241m255\u001b[39m,\u001b[38;5;241m0\u001b[39m,\u001b[38;5;241m0\u001b[39m), \u001b[38;5;241m2\u001b[39m)\n\u001b[1;32m---> 12\u001b[0m \u001b[38;5;28;01melif\u001b[39;00m event \u001b[38;5;241m==\u001b[39m \u001b[43mcv2\u001b[49m\u001b[38;5;241;43m.\u001b[39;49m\u001b[43mEVENT_LBUTTONDBCLK\u001b[49m:\n\u001b[0;32m     13\u001b[0m     cv2\u001b[38;5;241m.\u001b[39mcircle(img, (x,y), \u001b[38;5;241m20\u001b[39m, (\u001b[38;5;241m255\u001b[39m,\u001b[38;5;241m0\u001b[39m,\u001b[38;5;241m0\u001b[39m), \u001b[38;5;241m-\u001b[39m\u001b[38;5;241m1\u001b[39m)\n",
      "\u001b[1;31mAttributeError\u001b[0m: module 'cv2' has no attribute 'EVENT_LBUTTONDBCLK'"
     ]
    },
    {
     "ename": "AttributeError",
     "evalue": "module 'cv2' has no attribute 'EVENT_LBUTTONDBCLK'",
     "output_type": "error",
     "traceback": [
      "\u001b[1;31m---------------------------------------------------------------------------\u001b[0m",
      "\u001b[1;31mAttributeError\u001b[0m                            Traceback (most recent call last)",
      "Cell \u001b[1;32mIn[6], line 12\u001b[0m, in \u001b[0;36mdraw_circle\u001b[1;34m(event, x, y, flags, param)\u001b[0m\n\u001b[0;32m     10\u001b[0m \u001b[38;5;28;01melif\u001b[39;00m event \u001b[38;5;241m==\u001b[39m cv2\u001b[38;5;241m.\u001b[39mEVENT_RBUTTONDOWN:\n\u001b[0;32m     11\u001b[0m     cv2\u001b[38;5;241m.\u001b[39mcircle(img, (x,y), \u001b[38;5;241m10\u001b[39m, (\u001b[38;5;241m255\u001b[39m,\u001b[38;5;241m0\u001b[39m,\u001b[38;5;241m0\u001b[39m), \u001b[38;5;241m2\u001b[39m)\n\u001b[1;32m---> 12\u001b[0m \u001b[38;5;28;01melif\u001b[39;00m event \u001b[38;5;241m==\u001b[39m \u001b[43mcv2\u001b[49m\u001b[38;5;241;43m.\u001b[39;49m\u001b[43mEVENT_LBUTTONDBCLK\u001b[49m:\n\u001b[0;32m     13\u001b[0m     cv2\u001b[38;5;241m.\u001b[39mcircle(img, (x,y), \u001b[38;5;241m20\u001b[39m, (\u001b[38;5;241m255\u001b[39m,\u001b[38;5;241m0\u001b[39m,\u001b[38;5;241m0\u001b[39m), \u001b[38;5;241m-\u001b[39m\u001b[38;5;241m1\u001b[39m)\n",
      "\u001b[1;31mAttributeError\u001b[0m: module 'cv2' has no attribute 'EVENT_LBUTTONDBCLK'"
     ]
    },
    {
     "ename": "AttributeError",
     "evalue": "module 'cv2' has no attribute 'EVENT_LBUTTONDBCLK'",
     "output_type": "error",
     "traceback": [
      "\u001b[1;31m---------------------------------------------------------------------------\u001b[0m",
      "\u001b[1;31mAttributeError\u001b[0m                            Traceback (most recent call last)",
      "Cell \u001b[1;32mIn[6], line 12\u001b[0m, in \u001b[0;36mdraw_circle\u001b[1;34m(event, x, y, flags, param)\u001b[0m\n\u001b[0;32m     10\u001b[0m \u001b[38;5;28;01melif\u001b[39;00m event \u001b[38;5;241m==\u001b[39m cv2\u001b[38;5;241m.\u001b[39mEVENT_RBUTTONDOWN:\n\u001b[0;32m     11\u001b[0m     cv2\u001b[38;5;241m.\u001b[39mcircle(img, (x,y), \u001b[38;5;241m10\u001b[39m, (\u001b[38;5;241m255\u001b[39m,\u001b[38;5;241m0\u001b[39m,\u001b[38;5;241m0\u001b[39m), \u001b[38;5;241m2\u001b[39m)\n\u001b[1;32m---> 12\u001b[0m \u001b[38;5;28;01melif\u001b[39;00m event \u001b[38;5;241m==\u001b[39m \u001b[43mcv2\u001b[49m\u001b[38;5;241;43m.\u001b[39;49m\u001b[43mEVENT_LBUTTONDBCLK\u001b[49m:\n\u001b[0;32m     13\u001b[0m     cv2\u001b[38;5;241m.\u001b[39mcircle(img, (x,y), \u001b[38;5;241m20\u001b[39m, (\u001b[38;5;241m255\u001b[39m,\u001b[38;5;241m0\u001b[39m,\u001b[38;5;241m0\u001b[39m), \u001b[38;5;241m-\u001b[39m\u001b[38;5;241m1\u001b[39m)\n",
      "\u001b[1;31mAttributeError\u001b[0m: module 'cv2' has no attribute 'EVENT_LBUTTONDBCLK'"
     ]
    },
    {
     "ename": "AttributeError",
     "evalue": "module 'cv2' has no attribute 'EVENT_LBUTTONDBCLK'",
     "output_type": "error",
     "traceback": [
      "\u001b[1;31m---------------------------------------------------------------------------\u001b[0m",
      "\u001b[1;31mAttributeError\u001b[0m                            Traceback (most recent call last)",
      "Cell \u001b[1;32mIn[6], line 12\u001b[0m, in \u001b[0;36mdraw_circle\u001b[1;34m(event, x, y, flags, param)\u001b[0m\n\u001b[0;32m     10\u001b[0m \u001b[38;5;28;01melif\u001b[39;00m event \u001b[38;5;241m==\u001b[39m cv2\u001b[38;5;241m.\u001b[39mEVENT_RBUTTONDOWN:\n\u001b[0;32m     11\u001b[0m     cv2\u001b[38;5;241m.\u001b[39mcircle(img, (x,y), \u001b[38;5;241m10\u001b[39m, (\u001b[38;5;241m255\u001b[39m,\u001b[38;5;241m0\u001b[39m,\u001b[38;5;241m0\u001b[39m), \u001b[38;5;241m2\u001b[39m)\n\u001b[1;32m---> 12\u001b[0m \u001b[38;5;28;01melif\u001b[39;00m event \u001b[38;5;241m==\u001b[39m \u001b[43mcv2\u001b[49m\u001b[38;5;241;43m.\u001b[39;49m\u001b[43mEVENT_LBUTTONDBCLK\u001b[49m:\n\u001b[0;32m     13\u001b[0m     cv2\u001b[38;5;241m.\u001b[39mcircle(img, (x,y), \u001b[38;5;241m20\u001b[39m, (\u001b[38;5;241m255\u001b[39m,\u001b[38;5;241m0\u001b[39m,\u001b[38;5;241m0\u001b[39m), \u001b[38;5;241m-\u001b[39m\u001b[38;5;241m1\u001b[39m)\n",
      "\u001b[1;31mAttributeError\u001b[0m: module 'cv2' has no attribute 'EVENT_LBUTTONDBCLK'"
     ]
    },
    {
     "ename": "AttributeError",
     "evalue": "module 'cv2' has no attribute 'EVENT_LBUTTONDBCLK'",
     "output_type": "error",
     "traceback": [
      "\u001b[1;31m---------------------------------------------------------------------------\u001b[0m",
      "\u001b[1;31mAttributeError\u001b[0m                            Traceback (most recent call last)",
      "Cell \u001b[1;32mIn[6], line 12\u001b[0m, in \u001b[0;36mdraw_circle\u001b[1;34m(event, x, y, flags, param)\u001b[0m\n\u001b[0;32m     10\u001b[0m \u001b[38;5;28;01melif\u001b[39;00m event \u001b[38;5;241m==\u001b[39m cv2\u001b[38;5;241m.\u001b[39mEVENT_RBUTTONDOWN:\n\u001b[0;32m     11\u001b[0m     cv2\u001b[38;5;241m.\u001b[39mcircle(img, (x,y), \u001b[38;5;241m10\u001b[39m, (\u001b[38;5;241m255\u001b[39m,\u001b[38;5;241m0\u001b[39m,\u001b[38;5;241m0\u001b[39m), \u001b[38;5;241m2\u001b[39m)\n\u001b[1;32m---> 12\u001b[0m \u001b[38;5;28;01melif\u001b[39;00m event \u001b[38;5;241m==\u001b[39m \u001b[43mcv2\u001b[49m\u001b[38;5;241;43m.\u001b[39;49m\u001b[43mEVENT_LBUTTONDBCLK\u001b[49m:\n\u001b[0;32m     13\u001b[0m     cv2\u001b[38;5;241m.\u001b[39mcircle(img, (x,y), \u001b[38;5;241m20\u001b[39m, (\u001b[38;5;241m255\u001b[39m,\u001b[38;5;241m0\u001b[39m,\u001b[38;5;241m0\u001b[39m), \u001b[38;5;241m-\u001b[39m\u001b[38;5;241m1\u001b[39m)\n",
      "\u001b[1;31mAttributeError\u001b[0m: module 'cv2' has no attribute 'EVENT_LBUTTONDBCLK'"
     ]
    },
    {
     "ename": "AttributeError",
     "evalue": "module 'cv2' has no attribute 'EVENT_LBUTTONDBCLK'",
     "output_type": "error",
     "traceback": [
      "\u001b[1;31m---------------------------------------------------------------------------\u001b[0m",
      "\u001b[1;31mAttributeError\u001b[0m                            Traceback (most recent call last)",
      "Cell \u001b[1;32mIn[6], line 12\u001b[0m, in \u001b[0;36mdraw_circle\u001b[1;34m(event, x, y, flags, param)\u001b[0m\n\u001b[0;32m     10\u001b[0m \u001b[38;5;28;01melif\u001b[39;00m event \u001b[38;5;241m==\u001b[39m cv2\u001b[38;5;241m.\u001b[39mEVENT_RBUTTONDOWN:\n\u001b[0;32m     11\u001b[0m     cv2\u001b[38;5;241m.\u001b[39mcircle(img, (x,y), \u001b[38;5;241m10\u001b[39m, (\u001b[38;5;241m255\u001b[39m,\u001b[38;5;241m0\u001b[39m,\u001b[38;5;241m0\u001b[39m), \u001b[38;5;241m2\u001b[39m)\n\u001b[1;32m---> 12\u001b[0m \u001b[38;5;28;01melif\u001b[39;00m event \u001b[38;5;241m==\u001b[39m \u001b[43mcv2\u001b[49m\u001b[38;5;241;43m.\u001b[39;49m\u001b[43mEVENT_LBUTTONDBCLK\u001b[49m:\n\u001b[0;32m     13\u001b[0m     cv2\u001b[38;5;241m.\u001b[39mcircle(img, (x,y), \u001b[38;5;241m20\u001b[39m, (\u001b[38;5;241m255\u001b[39m,\u001b[38;5;241m0\u001b[39m,\u001b[38;5;241m0\u001b[39m), \u001b[38;5;241m-\u001b[39m\u001b[38;5;241m1\u001b[39m)\n",
      "\u001b[1;31mAttributeError\u001b[0m: module 'cv2' has no attribute 'EVENT_LBUTTONDBCLK'"
     ]
    },
    {
     "ename": "AttributeError",
     "evalue": "module 'cv2' has no attribute 'EVENT_LBUTTONDBCLK'",
     "output_type": "error",
     "traceback": [
      "\u001b[1;31m---------------------------------------------------------------------------\u001b[0m",
      "\u001b[1;31mAttributeError\u001b[0m                            Traceback (most recent call last)",
      "Cell \u001b[1;32mIn[6], line 12\u001b[0m, in \u001b[0;36mdraw_circle\u001b[1;34m(event, x, y, flags, param)\u001b[0m\n\u001b[0;32m     10\u001b[0m \u001b[38;5;28;01melif\u001b[39;00m event \u001b[38;5;241m==\u001b[39m cv2\u001b[38;5;241m.\u001b[39mEVENT_RBUTTONDOWN:\n\u001b[0;32m     11\u001b[0m     cv2\u001b[38;5;241m.\u001b[39mcircle(img, (x,y), \u001b[38;5;241m10\u001b[39m, (\u001b[38;5;241m255\u001b[39m,\u001b[38;5;241m0\u001b[39m,\u001b[38;5;241m0\u001b[39m), \u001b[38;5;241m2\u001b[39m)\n\u001b[1;32m---> 12\u001b[0m \u001b[38;5;28;01melif\u001b[39;00m event \u001b[38;5;241m==\u001b[39m \u001b[43mcv2\u001b[49m\u001b[38;5;241;43m.\u001b[39;49m\u001b[43mEVENT_LBUTTONDBCLK\u001b[49m:\n\u001b[0;32m     13\u001b[0m     cv2\u001b[38;5;241m.\u001b[39mcircle(img, (x,y), \u001b[38;5;241m20\u001b[39m, (\u001b[38;5;241m255\u001b[39m,\u001b[38;5;241m0\u001b[39m,\u001b[38;5;241m0\u001b[39m), \u001b[38;5;241m-\u001b[39m\u001b[38;5;241m1\u001b[39m)\n",
      "\u001b[1;31mAttributeError\u001b[0m: module 'cv2' has no attribute 'EVENT_LBUTTONDBCLK'"
     ]
    },
    {
     "ename": "AttributeError",
     "evalue": "module 'cv2' has no attribute 'EVENT_LBUTTONDBCLK'",
     "output_type": "error",
     "traceback": [
      "\u001b[1;31m---------------------------------------------------------------------------\u001b[0m",
      "\u001b[1;31mAttributeError\u001b[0m                            Traceback (most recent call last)",
      "Cell \u001b[1;32mIn[6], line 12\u001b[0m, in \u001b[0;36mdraw_circle\u001b[1;34m(event, x, y, flags, param)\u001b[0m\n\u001b[0;32m     10\u001b[0m \u001b[38;5;28;01melif\u001b[39;00m event \u001b[38;5;241m==\u001b[39m cv2\u001b[38;5;241m.\u001b[39mEVENT_RBUTTONDOWN:\n\u001b[0;32m     11\u001b[0m     cv2\u001b[38;5;241m.\u001b[39mcircle(img, (x,y), \u001b[38;5;241m10\u001b[39m, (\u001b[38;5;241m255\u001b[39m,\u001b[38;5;241m0\u001b[39m,\u001b[38;5;241m0\u001b[39m), \u001b[38;5;241m2\u001b[39m)\n\u001b[1;32m---> 12\u001b[0m \u001b[38;5;28;01melif\u001b[39;00m event \u001b[38;5;241m==\u001b[39m \u001b[43mcv2\u001b[49m\u001b[38;5;241;43m.\u001b[39;49m\u001b[43mEVENT_LBUTTONDBCLK\u001b[49m:\n\u001b[0;32m     13\u001b[0m     cv2\u001b[38;5;241m.\u001b[39mcircle(img, (x,y), \u001b[38;5;241m20\u001b[39m, (\u001b[38;5;241m255\u001b[39m,\u001b[38;5;241m0\u001b[39m,\u001b[38;5;241m0\u001b[39m), \u001b[38;5;241m-\u001b[39m\u001b[38;5;241m1\u001b[39m)\n",
      "\u001b[1;31mAttributeError\u001b[0m: module 'cv2' has no attribute 'EVENT_LBUTTONDBCLK'"
     ]
    },
    {
     "ename": "AttributeError",
     "evalue": "module 'cv2' has no attribute 'EVENT_LBUTTONDBCLK'",
     "output_type": "error",
     "traceback": [
      "\u001b[1;31m---------------------------------------------------------------------------\u001b[0m",
      "\u001b[1;31mAttributeError\u001b[0m                            Traceback (most recent call last)",
      "Cell \u001b[1;32mIn[6], line 12\u001b[0m, in \u001b[0;36mdraw_circle\u001b[1;34m(event, x, y, flags, param)\u001b[0m\n\u001b[0;32m     10\u001b[0m \u001b[38;5;28;01melif\u001b[39;00m event \u001b[38;5;241m==\u001b[39m cv2\u001b[38;5;241m.\u001b[39mEVENT_RBUTTONDOWN:\n\u001b[0;32m     11\u001b[0m     cv2\u001b[38;5;241m.\u001b[39mcircle(img, (x,y), \u001b[38;5;241m10\u001b[39m, (\u001b[38;5;241m255\u001b[39m,\u001b[38;5;241m0\u001b[39m,\u001b[38;5;241m0\u001b[39m), \u001b[38;5;241m2\u001b[39m)\n\u001b[1;32m---> 12\u001b[0m \u001b[38;5;28;01melif\u001b[39;00m event \u001b[38;5;241m==\u001b[39m \u001b[43mcv2\u001b[49m\u001b[38;5;241;43m.\u001b[39;49m\u001b[43mEVENT_LBUTTONDBCLK\u001b[49m:\n\u001b[0;32m     13\u001b[0m     cv2\u001b[38;5;241m.\u001b[39mcircle(img, (x,y), \u001b[38;5;241m20\u001b[39m, (\u001b[38;5;241m255\u001b[39m,\u001b[38;5;241m0\u001b[39m,\u001b[38;5;241m0\u001b[39m), \u001b[38;5;241m-\u001b[39m\u001b[38;5;241m1\u001b[39m)\n",
      "\u001b[1;31mAttributeError\u001b[0m: module 'cv2' has no attribute 'EVENT_LBUTTONDBCLK'"
     ]
    },
    {
     "ename": "AttributeError",
     "evalue": "module 'cv2' has no attribute 'EVENT_LBUTTONDBCLK'",
     "output_type": "error",
     "traceback": [
      "\u001b[1;31m---------------------------------------------------------------------------\u001b[0m",
      "\u001b[1;31mAttributeError\u001b[0m                            Traceback (most recent call last)",
      "Cell \u001b[1;32mIn[6], line 12\u001b[0m, in \u001b[0;36mdraw_circle\u001b[1;34m(event, x, y, flags, param)\u001b[0m\n\u001b[0;32m     10\u001b[0m \u001b[38;5;28;01melif\u001b[39;00m event \u001b[38;5;241m==\u001b[39m cv2\u001b[38;5;241m.\u001b[39mEVENT_RBUTTONDOWN:\n\u001b[0;32m     11\u001b[0m     cv2\u001b[38;5;241m.\u001b[39mcircle(img, (x,y), \u001b[38;5;241m10\u001b[39m, (\u001b[38;5;241m255\u001b[39m,\u001b[38;5;241m0\u001b[39m,\u001b[38;5;241m0\u001b[39m), \u001b[38;5;241m2\u001b[39m)\n\u001b[1;32m---> 12\u001b[0m \u001b[38;5;28;01melif\u001b[39;00m event \u001b[38;5;241m==\u001b[39m \u001b[43mcv2\u001b[49m\u001b[38;5;241;43m.\u001b[39;49m\u001b[43mEVENT_LBUTTONDBCLK\u001b[49m:\n\u001b[0;32m     13\u001b[0m     cv2\u001b[38;5;241m.\u001b[39mcircle(img, (x,y), \u001b[38;5;241m20\u001b[39m, (\u001b[38;5;241m255\u001b[39m,\u001b[38;5;241m0\u001b[39m,\u001b[38;5;241m0\u001b[39m), \u001b[38;5;241m-\u001b[39m\u001b[38;5;241m1\u001b[39m)\n",
      "\u001b[1;31mAttributeError\u001b[0m: module 'cv2' has no attribute 'EVENT_LBUTTONDBCLK'"
     ]
    },
    {
     "ename": "AttributeError",
     "evalue": "module 'cv2' has no attribute 'EVENT_LBUTTONDBCLK'",
     "output_type": "error",
     "traceback": [
      "\u001b[1;31m---------------------------------------------------------------------------\u001b[0m",
      "\u001b[1;31mAttributeError\u001b[0m                            Traceback (most recent call last)",
      "Cell \u001b[1;32mIn[6], line 12\u001b[0m, in \u001b[0;36mdraw_circle\u001b[1;34m(event, x, y, flags, param)\u001b[0m\n\u001b[0;32m     10\u001b[0m \u001b[38;5;28;01melif\u001b[39;00m event \u001b[38;5;241m==\u001b[39m cv2\u001b[38;5;241m.\u001b[39mEVENT_RBUTTONDOWN:\n\u001b[0;32m     11\u001b[0m     cv2\u001b[38;5;241m.\u001b[39mcircle(img, (x,y), \u001b[38;5;241m10\u001b[39m, (\u001b[38;5;241m255\u001b[39m,\u001b[38;5;241m0\u001b[39m,\u001b[38;5;241m0\u001b[39m), \u001b[38;5;241m2\u001b[39m)\n\u001b[1;32m---> 12\u001b[0m \u001b[38;5;28;01melif\u001b[39;00m event \u001b[38;5;241m==\u001b[39m \u001b[43mcv2\u001b[49m\u001b[38;5;241;43m.\u001b[39;49m\u001b[43mEVENT_LBUTTONDBCLK\u001b[49m:\n\u001b[0;32m     13\u001b[0m     cv2\u001b[38;5;241m.\u001b[39mcircle(img, (x,y), \u001b[38;5;241m20\u001b[39m, (\u001b[38;5;241m255\u001b[39m,\u001b[38;5;241m0\u001b[39m,\u001b[38;5;241m0\u001b[39m), \u001b[38;5;241m-\u001b[39m\u001b[38;5;241m1\u001b[39m)\n",
      "\u001b[1;31mAttributeError\u001b[0m: module 'cv2' has no attribute 'EVENT_LBUTTONDBCLK'"
     ]
    },
    {
     "ename": "AttributeError",
     "evalue": "module 'cv2' has no attribute 'EVENT_LBUTTONDBCLK'",
     "output_type": "error",
     "traceback": [
      "\u001b[1;31m---------------------------------------------------------------------------\u001b[0m",
      "\u001b[1;31mAttributeError\u001b[0m                            Traceback (most recent call last)",
      "Cell \u001b[1;32mIn[6], line 12\u001b[0m, in \u001b[0;36mdraw_circle\u001b[1;34m(event, x, y, flags, param)\u001b[0m\n\u001b[0;32m     10\u001b[0m \u001b[38;5;28;01melif\u001b[39;00m event \u001b[38;5;241m==\u001b[39m cv2\u001b[38;5;241m.\u001b[39mEVENT_RBUTTONDOWN:\n\u001b[0;32m     11\u001b[0m     cv2\u001b[38;5;241m.\u001b[39mcircle(img, (x,y), \u001b[38;5;241m10\u001b[39m, (\u001b[38;5;241m255\u001b[39m,\u001b[38;5;241m0\u001b[39m,\u001b[38;5;241m0\u001b[39m), \u001b[38;5;241m2\u001b[39m)\n\u001b[1;32m---> 12\u001b[0m \u001b[38;5;28;01melif\u001b[39;00m event \u001b[38;5;241m==\u001b[39m \u001b[43mcv2\u001b[49m\u001b[38;5;241;43m.\u001b[39;49m\u001b[43mEVENT_LBUTTONDBCLK\u001b[49m:\n\u001b[0;32m     13\u001b[0m     cv2\u001b[38;5;241m.\u001b[39mcircle(img, (x,y), \u001b[38;5;241m20\u001b[39m, (\u001b[38;5;241m255\u001b[39m,\u001b[38;5;241m0\u001b[39m,\u001b[38;5;241m0\u001b[39m), \u001b[38;5;241m-\u001b[39m\u001b[38;5;241m1\u001b[39m)\n",
      "\u001b[1;31mAttributeError\u001b[0m: module 'cv2' has no attribute 'EVENT_LBUTTONDBCLK'"
     ]
    },
    {
     "ename": "AttributeError",
     "evalue": "module 'cv2' has no attribute 'EVENT_LBUTTONDBCLK'",
     "output_type": "error",
     "traceback": [
      "\u001b[1;31m---------------------------------------------------------------------------\u001b[0m",
      "\u001b[1;31mAttributeError\u001b[0m                            Traceback (most recent call last)",
      "Cell \u001b[1;32mIn[6], line 12\u001b[0m, in \u001b[0;36mdraw_circle\u001b[1;34m(event, x, y, flags, param)\u001b[0m\n\u001b[0;32m     10\u001b[0m \u001b[38;5;28;01melif\u001b[39;00m event \u001b[38;5;241m==\u001b[39m cv2\u001b[38;5;241m.\u001b[39mEVENT_RBUTTONDOWN:\n\u001b[0;32m     11\u001b[0m     cv2\u001b[38;5;241m.\u001b[39mcircle(img, (x,y), \u001b[38;5;241m10\u001b[39m, (\u001b[38;5;241m255\u001b[39m,\u001b[38;5;241m0\u001b[39m,\u001b[38;5;241m0\u001b[39m), \u001b[38;5;241m2\u001b[39m)\n\u001b[1;32m---> 12\u001b[0m \u001b[38;5;28;01melif\u001b[39;00m event \u001b[38;5;241m==\u001b[39m \u001b[43mcv2\u001b[49m\u001b[38;5;241;43m.\u001b[39;49m\u001b[43mEVENT_LBUTTONDBCLK\u001b[49m:\n\u001b[0;32m     13\u001b[0m     cv2\u001b[38;5;241m.\u001b[39mcircle(img, (x,y), \u001b[38;5;241m20\u001b[39m, (\u001b[38;5;241m255\u001b[39m,\u001b[38;5;241m0\u001b[39m,\u001b[38;5;241m0\u001b[39m), \u001b[38;5;241m-\u001b[39m\u001b[38;5;241m1\u001b[39m)\n",
      "\u001b[1;31mAttributeError\u001b[0m: module 'cv2' has no attribute 'EVENT_LBUTTONDBCLK'"
     ]
    },
    {
     "ename": "AttributeError",
     "evalue": "module 'cv2' has no attribute 'EVENT_LBUTTONDBCLK'",
     "output_type": "error",
     "traceback": [
      "\u001b[1;31m---------------------------------------------------------------------------\u001b[0m",
      "\u001b[1;31mAttributeError\u001b[0m                            Traceback (most recent call last)",
      "Cell \u001b[1;32mIn[6], line 12\u001b[0m, in \u001b[0;36mdraw_circle\u001b[1;34m(event, x, y, flags, param)\u001b[0m\n\u001b[0;32m     10\u001b[0m \u001b[38;5;28;01melif\u001b[39;00m event \u001b[38;5;241m==\u001b[39m cv2\u001b[38;5;241m.\u001b[39mEVENT_RBUTTONDOWN:\n\u001b[0;32m     11\u001b[0m     cv2\u001b[38;5;241m.\u001b[39mcircle(img, (x,y), \u001b[38;5;241m10\u001b[39m, (\u001b[38;5;241m255\u001b[39m,\u001b[38;5;241m0\u001b[39m,\u001b[38;5;241m0\u001b[39m), \u001b[38;5;241m2\u001b[39m)\n\u001b[1;32m---> 12\u001b[0m \u001b[38;5;28;01melif\u001b[39;00m event \u001b[38;5;241m==\u001b[39m \u001b[43mcv2\u001b[49m\u001b[38;5;241;43m.\u001b[39;49m\u001b[43mEVENT_LBUTTONDBCLK\u001b[49m:\n\u001b[0;32m     13\u001b[0m     cv2\u001b[38;5;241m.\u001b[39mcircle(img, (x,y), \u001b[38;5;241m20\u001b[39m, (\u001b[38;5;241m255\u001b[39m,\u001b[38;5;241m0\u001b[39m,\u001b[38;5;241m0\u001b[39m), \u001b[38;5;241m-\u001b[39m\u001b[38;5;241m1\u001b[39m)\n",
      "\u001b[1;31mAttributeError\u001b[0m: module 'cv2' has no attribute 'EVENT_LBUTTONDBCLK'"
     ]
    },
    {
     "ename": "AttributeError",
     "evalue": "module 'cv2' has no attribute 'EVENT_LBUTTONDBCLK'",
     "output_type": "error",
     "traceback": [
      "\u001b[1;31m---------------------------------------------------------------------------\u001b[0m",
      "\u001b[1;31mAttributeError\u001b[0m                            Traceback (most recent call last)",
      "Cell \u001b[1;32mIn[6], line 12\u001b[0m, in \u001b[0;36mdraw_circle\u001b[1;34m(event, x, y, flags, param)\u001b[0m\n\u001b[0;32m     10\u001b[0m \u001b[38;5;28;01melif\u001b[39;00m event \u001b[38;5;241m==\u001b[39m cv2\u001b[38;5;241m.\u001b[39mEVENT_RBUTTONDOWN:\n\u001b[0;32m     11\u001b[0m     cv2\u001b[38;5;241m.\u001b[39mcircle(img, (x,y), \u001b[38;5;241m10\u001b[39m, (\u001b[38;5;241m255\u001b[39m,\u001b[38;5;241m0\u001b[39m,\u001b[38;5;241m0\u001b[39m), \u001b[38;5;241m2\u001b[39m)\n\u001b[1;32m---> 12\u001b[0m \u001b[38;5;28;01melif\u001b[39;00m event \u001b[38;5;241m==\u001b[39m \u001b[43mcv2\u001b[49m\u001b[38;5;241;43m.\u001b[39;49m\u001b[43mEVENT_LBUTTONDBCLK\u001b[49m:\n\u001b[0;32m     13\u001b[0m     cv2\u001b[38;5;241m.\u001b[39mcircle(img, (x,y), \u001b[38;5;241m20\u001b[39m, (\u001b[38;5;241m255\u001b[39m,\u001b[38;5;241m0\u001b[39m,\u001b[38;5;241m0\u001b[39m), \u001b[38;5;241m-\u001b[39m\u001b[38;5;241m1\u001b[39m)\n",
      "\u001b[1;31mAttributeError\u001b[0m: module 'cv2' has no attribute 'EVENT_LBUTTONDBCLK'"
     ]
    },
    {
     "ename": "AttributeError",
     "evalue": "module 'cv2' has no attribute 'EVENT_LBUTTONDBCLK'",
     "output_type": "error",
     "traceback": [
      "\u001b[1;31m---------------------------------------------------------------------------\u001b[0m",
      "\u001b[1;31mAttributeError\u001b[0m                            Traceback (most recent call last)",
      "Cell \u001b[1;32mIn[6], line 12\u001b[0m, in \u001b[0;36mdraw_circle\u001b[1;34m(event, x, y, flags, param)\u001b[0m\n\u001b[0;32m     10\u001b[0m \u001b[38;5;28;01melif\u001b[39;00m event \u001b[38;5;241m==\u001b[39m cv2\u001b[38;5;241m.\u001b[39mEVENT_RBUTTONDOWN:\n\u001b[0;32m     11\u001b[0m     cv2\u001b[38;5;241m.\u001b[39mcircle(img, (x,y), \u001b[38;5;241m10\u001b[39m, (\u001b[38;5;241m255\u001b[39m,\u001b[38;5;241m0\u001b[39m,\u001b[38;5;241m0\u001b[39m), \u001b[38;5;241m2\u001b[39m)\n\u001b[1;32m---> 12\u001b[0m \u001b[38;5;28;01melif\u001b[39;00m event \u001b[38;5;241m==\u001b[39m \u001b[43mcv2\u001b[49m\u001b[38;5;241;43m.\u001b[39;49m\u001b[43mEVENT_LBUTTONDBCLK\u001b[49m:\n\u001b[0;32m     13\u001b[0m     cv2\u001b[38;5;241m.\u001b[39mcircle(img, (x,y), \u001b[38;5;241m20\u001b[39m, (\u001b[38;5;241m255\u001b[39m,\u001b[38;5;241m0\u001b[39m,\u001b[38;5;241m0\u001b[39m), \u001b[38;5;241m-\u001b[39m\u001b[38;5;241m1\u001b[39m)\n",
      "\u001b[1;31mAttributeError\u001b[0m: module 'cv2' has no attribute 'EVENT_LBUTTONDBCLK'"
     ]
    },
    {
     "ename": "AttributeError",
     "evalue": "module 'cv2' has no attribute 'EVENT_LBUTTONDBCLK'",
     "output_type": "error",
     "traceback": [
      "\u001b[1;31m---------------------------------------------------------------------------\u001b[0m",
      "\u001b[1;31mAttributeError\u001b[0m                            Traceback (most recent call last)",
      "Cell \u001b[1;32mIn[6], line 12\u001b[0m, in \u001b[0;36mdraw_circle\u001b[1;34m(event, x, y, flags, param)\u001b[0m\n\u001b[0;32m     10\u001b[0m \u001b[38;5;28;01melif\u001b[39;00m event \u001b[38;5;241m==\u001b[39m cv2\u001b[38;5;241m.\u001b[39mEVENT_RBUTTONDOWN:\n\u001b[0;32m     11\u001b[0m     cv2\u001b[38;5;241m.\u001b[39mcircle(img, (x,y), \u001b[38;5;241m10\u001b[39m, (\u001b[38;5;241m255\u001b[39m,\u001b[38;5;241m0\u001b[39m,\u001b[38;5;241m0\u001b[39m), \u001b[38;5;241m2\u001b[39m)\n\u001b[1;32m---> 12\u001b[0m \u001b[38;5;28;01melif\u001b[39;00m event \u001b[38;5;241m==\u001b[39m \u001b[43mcv2\u001b[49m\u001b[38;5;241;43m.\u001b[39;49m\u001b[43mEVENT_LBUTTONDBCLK\u001b[49m:\n\u001b[0;32m     13\u001b[0m     cv2\u001b[38;5;241m.\u001b[39mcircle(img, (x,y), \u001b[38;5;241m20\u001b[39m, (\u001b[38;5;241m255\u001b[39m,\u001b[38;5;241m0\u001b[39m,\u001b[38;5;241m0\u001b[39m), \u001b[38;5;241m-\u001b[39m\u001b[38;5;241m1\u001b[39m)\n",
      "\u001b[1;31mAttributeError\u001b[0m: module 'cv2' has no attribute 'EVENT_LBUTTONDBCLK'"
     ]
    },
    {
     "ename": "AttributeError",
     "evalue": "module 'cv2' has no attribute 'EVENT_LBUTTONDBCLK'",
     "output_type": "error",
     "traceback": [
      "\u001b[1;31m---------------------------------------------------------------------------\u001b[0m",
      "\u001b[1;31mAttributeError\u001b[0m                            Traceback (most recent call last)",
      "Cell \u001b[1;32mIn[6], line 12\u001b[0m, in \u001b[0;36mdraw_circle\u001b[1;34m(event, x, y, flags, param)\u001b[0m\n\u001b[0;32m     10\u001b[0m \u001b[38;5;28;01melif\u001b[39;00m event \u001b[38;5;241m==\u001b[39m cv2\u001b[38;5;241m.\u001b[39mEVENT_RBUTTONDOWN:\n\u001b[0;32m     11\u001b[0m     cv2\u001b[38;5;241m.\u001b[39mcircle(img, (x,y), \u001b[38;5;241m10\u001b[39m, (\u001b[38;5;241m255\u001b[39m,\u001b[38;5;241m0\u001b[39m,\u001b[38;5;241m0\u001b[39m), \u001b[38;5;241m2\u001b[39m)\n\u001b[1;32m---> 12\u001b[0m \u001b[38;5;28;01melif\u001b[39;00m event \u001b[38;5;241m==\u001b[39m \u001b[43mcv2\u001b[49m\u001b[38;5;241;43m.\u001b[39;49m\u001b[43mEVENT_LBUTTONDBCLK\u001b[49m:\n\u001b[0;32m     13\u001b[0m     cv2\u001b[38;5;241m.\u001b[39mcircle(img, (x,y), \u001b[38;5;241m20\u001b[39m, (\u001b[38;5;241m255\u001b[39m,\u001b[38;5;241m0\u001b[39m,\u001b[38;5;241m0\u001b[39m), \u001b[38;5;241m-\u001b[39m\u001b[38;5;241m1\u001b[39m)\n",
      "\u001b[1;31mAttributeError\u001b[0m: module 'cv2' has no attribute 'EVENT_LBUTTONDBCLK'"
     ]
    },
    {
     "ename": "AttributeError",
     "evalue": "module 'cv2' has no attribute 'EVENT_LBUTTONDBCLK'",
     "output_type": "error",
     "traceback": [
      "\u001b[1;31m---------------------------------------------------------------------------\u001b[0m",
      "\u001b[1;31mAttributeError\u001b[0m                            Traceback (most recent call last)",
      "Cell \u001b[1;32mIn[6], line 12\u001b[0m, in \u001b[0;36mdraw_circle\u001b[1;34m(event, x, y, flags, param)\u001b[0m\n\u001b[0;32m     10\u001b[0m \u001b[38;5;28;01melif\u001b[39;00m event \u001b[38;5;241m==\u001b[39m cv2\u001b[38;5;241m.\u001b[39mEVENT_RBUTTONDOWN:\n\u001b[0;32m     11\u001b[0m     cv2\u001b[38;5;241m.\u001b[39mcircle(img, (x,y), \u001b[38;5;241m10\u001b[39m, (\u001b[38;5;241m255\u001b[39m,\u001b[38;5;241m0\u001b[39m,\u001b[38;5;241m0\u001b[39m), \u001b[38;5;241m2\u001b[39m)\n\u001b[1;32m---> 12\u001b[0m \u001b[38;5;28;01melif\u001b[39;00m event \u001b[38;5;241m==\u001b[39m \u001b[43mcv2\u001b[49m\u001b[38;5;241;43m.\u001b[39;49m\u001b[43mEVENT_LBUTTONDBCLK\u001b[49m:\n\u001b[0;32m     13\u001b[0m     cv2\u001b[38;5;241m.\u001b[39mcircle(img, (x,y), \u001b[38;5;241m20\u001b[39m, (\u001b[38;5;241m255\u001b[39m,\u001b[38;5;241m0\u001b[39m,\u001b[38;5;241m0\u001b[39m), \u001b[38;5;241m-\u001b[39m\u001b[38;5;241m1\u001b[39m)\n",
      "\u001b[1;31mAttributeError\u001b[0m: module 'cv2' has no attribute 'EVENT_LBUTTONDBCLK'"
     ]
    },
    {
     "ename": "AttributeError",
     "evalue": "module 'cv2' has no attribute 'EVENT_LBUTTONDBCLK'",
     "output_type": "error",
     "traceback": [
      "\u001b[1;31m---------------------------------------------------------------------------\u001b[0m",
      "\u001b[1;31mAttributeError\u001b[0m                            Traceback (most recent call last)",
      "Cell \u001b[1;32mIn[6], line 12\u001b[0m, in \u001b[0;36mdraw_circle\u001b[1;34m(event, x, y, flags, param)\u001b[0m\n\u001b[0;32m     10\u001b[0m \u001b[38;5;28;01melif\u001b[39;00m event \u001b[38;5;241m==\u001b[39m cv2\u001b[38;5;241m.\u001b[39mEVENT_RBUTTONDOWN:\n\u001b[0;32m     11\u001b[0m     cv2\u001b[38;5;241m.\u001b[39mcircle(img, (x,y), \u001b[38;5;241m10\u001b[39m, (\u001b[38;5;241m255\u001b[39m,\u001b[38;5;241m0\u001b[39m,\u001b[38;5;241m0\u001b[39m), \u001b[38;5;241m2\u001b[39m)\n\u001b[1;32m---> 12\u001b[0m \u001b[38;5;28;01melif\u001b[39;00m event \u001b[38;5;241m==\u001b[39m \u001b[43mcv2\u001b[49m\u001b[38;5;241;43m.\u001b[39;49m\u001b[43mEVENT_LBUTTONDBCLK\u001b[49m:\n\u001b[0;32m     13\u001b[0m     cv2\u001b[38;5;241m.\u001b[39mcircle(img, (x,y), \u001b[38;5;241m20\u001b[39m, (\u001b[38;5;241m255\u001b[39m,\u001b[38;5;241m0\u001b[39m,\u001b[38;5;241m0\u001b[39m), \u001b[38;5;241m-\u001b[39m\u001b[38;5;241m1\u001b[39m)\n",
      "\u001b[1;31mAttributeError\u001b[0m: module 'cv2' has no attribute 'EVENT_LBUTTONDBCLK'"
     ]
    },
    {
     "ename": "AttributeError",
     "evalue": "module 'cv2' has no attribute 'EVENT_LBUTTONDBCLK'",
     "output_type": "error",
     "traceback": [
      "\u001b[1;31m---------------------------------------------------------------------------\u001b[0m",
      "\u001b[1;31mAttributeError\u001b[0m                            Traceback (most recent call last)",
      "Cell \u001b[1;32mIn[6], line 12\u001b[0m, in \u001b[0;36mdraw_circle\u001b[1;34m(event, x, y, flags, param)\u001b[0m\n\u001b[0;32m     10\u001b[0m \u001b[38;5;28;01melif\u001b[39;00m event \u001b[38;5;241m==\u001b[39m cv2\u001b[38;5;241m.\u001b[39mEVENT_RBUTTONDOWN:\n\u001b[0;32m     11\u001b[0m     cv2\u001b[38;5;241m.\u001b[39mcircle(img, (x,y), \u001b[38;5;241m10\u001b[39m, (\u001b[38;5;241m255\u001b[39m,\u001b[38;5;241m0\u001b[39m,\u001b[38;5;241m0\u001b[39m), \u001b[38;5;241m2\u001b[39m)\n\u001b[1;32m---> 12\u001b[0m \u001b[38;5;28;01melif\u001b[39;00m event \u001b[38;5;241m==\u001b[39m \u001b[43mcv2\u001b[49m\u001b[38;5;241;43m.\u001b[39;49m\u001b[43mEVENT_LBUTTONDBCLK\u001b[49m:\n\u001b[0;32m     13\u001b[0m     cv2\u001b[38;5;241m.\u001b[39mcircle(img, (x,y), \u001b[38;5;241m20\u001b[39m, (\u001b[38;5;241m255\u001b[39m,\u001b[38;5;241m0\u001b[39m,\u001b[38;5;241m0\u001b[39m), \u001b[38;5;241m-\u001b[39m\u001b[38;5;241m1\u001b[39m)\n",
      "\u001b[1;31mAttributeError\u001b[0m: module 'cv2' has no attribute 'EVENT_LBUTTONDBCLK'"
     ]
    },
    {
     "ename": "AttributeError",
     "evalue": "module 'cv2' has no attribute 'EVENT_LBUTTONDBCLK'",
     "output_type": "error",
     "traceback": [
      "\u001b[1;31m---------------------------------------------------------------------------\u001b[0m",
      "\u001b[1;31mAttributeError\u001b[0m                            Traceback (most recent call last)",
      "Cell \u001b[1;32mIn[6], line 12\u001b[0m, in \u001b[0;36mdraw_circle\u001b[1;34m(event, x, y, flags, param)\u001b[0m\n\u001b[0;32m     10\u001b[0m \u001b[38;5;28;01melif\u001b[39;00m event \u001b[38;5;241m==\u001b[39m cv2\u001b[38;5;241m.\u001b[39mEVENT_RBUTTONDOWN:\n\u001b[0;32m     11\u001b[0m     cv2\u001b[38;5;241m.\u001b[39mcircle(img, (x,y), \u001b[38;5;241m10\u001b[39m, (\u001b[38;5;241m255\u001b[39m,\u001b[38;5;241m0\u001b[39m,\u001b[38;5;241m0\u001b[39m), \u001b[38;5;241m2\u001b[39m)\n\u001b[1;32m---> 12\u001b[0m \u001b[38;5;28;01melif\u001b[39;00m event \u001b[38;5;241m==\u001b[39m \u001b[43mcv2\u001b[49m\u001b[38;5;241;43m.\u001b[39;49m\u001b[43mEVENT_LBUTTONDBCLK\u001b[49m:\n\u001b[0;32m     13\u001b[0m     cv2\u001b[38;5;241m.\u001b[39mcircle(img, (x,y), \u001b[38;5;241m20\u001b[39m, (\u001b[38;5;241m255\u001b[39m,\u001b[38;5;241m0\u001b[39m,\u001b[38;5;241m0\u001b[39m), \u001b[38;5;241m-\u001b[39m\u001b[38;5;241m1\u001b[39m)\n",
      "\u001b[1;31mAttributeError\u001b[0m: module 'cv2' has no attribute 'EVENT_LBUTTONDBCLK'"
     ]
    },
    {
     "ename": "AttributeError",
     "evalue": "module 'cv2' has no attribute 'EVENT_LBUTTONDBCLK'",
     "output_type": "error",
     "traceback": [
      "\u001b[1;31m---------------------------------------------------------------------------\u001b[0m",
      "\u001b[1;31mAttributeError\u001b[0m                            Traceback (most recent call last)",
      "Cell \u001b[1;32mIn[6], line 12\u001b[0m, in \u001b[0;36mdraw_circle\u001b[1;34m(event, x, y, flags, param)\u001b[0m\n\u001b[0;32m     10\u001b[0m \u001b[38;5;28;01melif\u001b[39;00m event \u001b[38;5;241m==\u001b[39m cv2\u001b[38;5;241m.\u001b[39mEVENT_RBUTTONDOWN:\n\u001b[0;32m     11\u001b[0m     cv2\u001b[38;5;241m.\u001b[39mcircle(img, (x,y), \u001b[38;5;241m10\u001b[39m, (\u001b[38;5;241m255\u001b[39m,\u001b[38;5;241m0\u001b[39m,\u001b[38;5;241m0\u001b[39m), \u001b[38;5;241m2\u001b[39m)\n\u001b[1;32m---> 12\u001b[0m \u001b[38;5;28;01melif\u001b[39;00m event \u001b[38;5;241m==\u001b[39m \u001b[43mcv2\u001b[49m\u001b[38;5;241;43m.\u001b[39;49m\u001b[43mEVENT_LBUTTONDBCLK\u001b[49m:\n\u001b[0;32m     13\u001b[0m     cv2\u001b[38;5;241m.\u001b[39mcircle(img, (x,y), \u001b[38;5;241m20\u001b[39m, (\u001b[38;5;241m255\u001b[39m,\u001b[38;5;241m0\u001b[39m,\u001b[38;5;241m0\u001b[39m), \u001b[38;5;241m-\u001b[39m\u001b[38;5;241m1\u001b[39m)\n",
      "\u001b[1;31mAttributeError\u001b[0m: module 'cv2' has no attribute 'EVENT_LBUTTONDBCLK'"
     ]
    },
    {
     "ename": "AttributeError",
     "evalue": "module 'cv2' has no attribute 'EVENT_LBUTTONDBCLK'",
     "output_type": "error",
     "traceback": [
      "\u001b[1;31m---------------------------------------------------------------------------\u001b[0m",
      "\u001b[1;31mAttributeError\u001b[0m                            Traceback (most recent call last)",
      "Cell \u001b[1;32mIn[6], line 12\u001b[0m, in \u001b[0;36mdraw_circle\u001b[1;34m(event, x, y, flags, param)\u001b[0m\n\u001b[0;32m     10\u001b[0m \u001b[38;5;28;01melif\u001b[39;00m event \u001b[38;5;241m==\u001b[39m cv2\u001b[38;5;241m.\u001b[39mEVENT_RBUTTONDOWN:\n\u001b[0;32m     11\u001b[0m     cv2\u001b[38;5;241m.\u001b[39mcircle(img, (x,y), \u001b[38;5;241m10\u001b[39m, (\u001b[38;5;241m255\u001b[39m,\u001b[38;5;241m0\u001b[39m,\u001b[38;5;241m0\u001b[39m), \u001b[38;5;241m2\u001b[39m)\n\u001b[1;32m---> 12\u001b[0m \u001b[38;5;28;01melif\u001b[39;00m event \u001b[38;5;241m==\u001b[39m \u001b[43mcv2\u001b[49m\u001b[38;5;241;43m.\u001b[39;49m\u001b[43mEVENT_LBUTTONDBCLK\u001b[49m:\n\u001b[0;32m     13\u001b[0m     cv2\u001b[38;5;241m.\u001b[39mcircle(img, (x,y), \u001b[38;5;241m20\u001b[39m, (\u001b[38;5;241m255\u001b[39m,\u001b[38;5;241m0\u001b[39m,\u001b[38;5;241m0\u001b[39m), \u001b[38;5;241m-\u001b[39m\u001b[38;5;241m1\u001b[39m)\n",
      "\u001b[1;31mAttributeError\u001b[0m: module 'cv2' has no attribute 'EVENT_LBUTTONDBCLK'"
     ]
    },
    {
     "ename": "AttributeError",
     "evalue": "module 'cv2' has no attribute 'EVENT_LBUTTONDBCLK'",
     "output_type": "error",
     "traceback": [
      "\u001b[1;31m---------------------------------------------------------------------------\u001b[0m",
      "\u001b[1;31mAttributeError\u001b[0m                            Traceback (most recent call last)",
      "Cell \u001b[1;32mIn[6], line 12\u001b[0m, in \u001b[0;36mdraw_circle\u001b[1;34m(event, x, y, flags, param)\u001b[0m\n\u001b[0;32m     10\u001b[0m \u001b[38;5;28;01melif\u001b[39;00m event \u001b[38;5;241m==\u001b[39m cv2\u001b[38;5;241m.\u001b[39mEVENT_RBUTTONDOWN:\n\u001b[0;32m     11\u001b[0m     cv2\u001b[38;5;241m.\u001b[39mcircle(img, (x,y), \u001b[38;5;241m10\u001b[39m, (\u001b[38;5;241m255\u001b[39m,\u001b[38;5;241m0\u001b[39m,\u001b[38;5;241m0\u001b[39m), \u001b[38;5;241m2\u001b[39m)\n\u001b[1;32m---> 12\u001b[0m \u001b[38;5;28;01melif\u001b[39;00m event \u001b[38;5;241m==\u001b[39m \u001b[43mcv2\u001b[49m\u001b[38;5;241;43m.\u001b[39;49m\u001b[43mEVENT_LBUTTONDBCLK\u001b[49m:\n\u001b[0;32m     13\u001b[0m     cv2\u001b[38;5;241m.\u001b[39mcircle(img, (x,y), \u001b[38;5;241m20\u001b[39m, (\u001b[38;5;241m255\u001b[39m,\u001b[38;5;241m0\u001b[39m,\u001b[38;5;241m0\u001b[39m), \u001b[38;5;241m-\u001b[39m\u001b[38;5;241m1\u001b[39m)\n",
      "\u001b[1;31mAttributeError\u001b[0m: module 'cv2' has no attribute 'EVENT_LBUTTONDBCLK'"
     ]
    },
    {
     "ename": "AttributeError",
     "evalue": "module 'cv2' has no attribute 'EVENT_LBUTTONDBCLK'",
     "output_type": "error",
     "traceback": [
      "\u001b[1;31m---------------------------------------------------------------------------\u001b[0m",
      "\u001b[1;31mAttributeError\u001b[0m                            Traceback (most recent call last)",
      "Cell \u001b[1;32mIn[6], line 12\u001b[0m, in \u001b[0;36mdraw_circle\u001b[1;34m(event, x, y, flags, param)\u001b[0m\n\u001b[0;32m     10\u001b[0m \u001b[38;5;28;01melif\u001b[39;00m event \u001b[38;5;241m==\u001b[39m cv2\u001b[38;5;241m.\u001b[39mEVENT_RBUTTONDOWN:\n\u001b[0;32m     11\u001b[0m     cv2\u001b[38;5;241m.\u001b[39mcircle(img, (x,y), \u001b[38;5;241m10\u001b[39m, (\u001b[38;5;241m255\u001b[39m,\u001b[38;5;241m0\u001b[39m,\u001b[38;5;241m0\u001b[39m), \u001b[38;5;241m2\u001b[39m)\n\u001b[1;32m---> 12\u001b[0m \u001b[38;5;28;01melif\u001b[39;00m event \u001b[38;5;241m==\u001b[39m \u001b[43mcv2\u001b[49m\u001b[38;5;241;43m.\u001b[39;49m\u001b[43mEVENT_LBUTTONDBCLK\u001b[49m:\n\u001b[0;32m     13\u001b[0m     cv2\u001b[38;5;241m.\u001b[39mcircle(img, (x,y), \u001b[38;5;241m20\u001b[39m, (\u001b[38;5;241m255\u001b[39m,\u001b[38;5;241m0\u001b[39m,\u001b[38;5;241m0\u001b[39m), \u001b[38;5;241m-\u001b[39m\u001b[38;5;241m1\u001b[39m)\n",
      "\u001b[1;31mAttributeError\u001b[0m: module 'cv2' has no attribute 'EVENT_LBUTTONDBCLK'"
     ]
    },
    {
     "ename": "AttributeError",
     "evalue": "module 'cv2' has no attribute 'EVENT_LBUTTONDBCLK'",
     "output_type": "error",
     "traceback": [
      "\u001b[1;31m---------------------------------------------------------------------------\u001b[0m",
      "\u001b[1;31mAttributeError\u001b[0m                            Traceback (most recent call last)",
      "Cell \u001b[1;32mIn[6], line 12\u001b[0m, in \u001b[0;36mdraw_circle\u001b[1;34m(event, x, y, flags, param)\u001b[0m\n\u001b[0;32m     10\u001b[0m \u001b[38;5;28;01melif\u001b[39;00m event \u001b[38;5;241m==\u001b[39m cv2\u001b[38;5;241m.\u001b[39mEVENT_RBUTTONDOWN:\n\u001b[0;32m     11\u001b[0m     cv2\u001b[38;5;241m.\u001b[39mcircle(img, (x,y), \u001b[38;5;241m10\u001b[39m, (\u001b[38;5;241m255\u001b[39m,\u001b[38;5;241m0\u001b[39m,\u001b[38;5;241m0\u001b[39m), \u001b[38;5;241m2\u001b[39m)\n\u001b[1;32m---> 12\u001b[0m \u001b[38;5;28;01melif\u001b[39;00m event \u001b[38;5;241m==\u001b[39m \u001b[43mcv2\u001b[49m\u001b[38;5;241;43m.\u001b[39;49m\u001b[43mEVENT_LBUTTONDBCLK\u001b[49m:\n\u001b[0;32m     13\u001b[0m     cv2\u001b[38;5;241m.\u001b[39mcircle(img, (x,y), \u001b[38;5;241m20\u001b[39m, (\u001b[38;5;241m255\u001b[39m,\u001b[38;5;241m0\u001b[39m,\u001b[38;5;241m0\u001b[39m), \u001b[38;5;241m-\u001b[39m\u001b[38;5;241m1\u001b[39m)\n",
      "\u001b[1;31mAttributeError\u001b[0m: module 'cv2' has no attribute 'EVENT_LBUTTONDBCLK'"
     ]
    },
    {
     "ename": "AttributeError",
     "evalue": "module 'cv2' has no attribute 'EVENT_LBUTTONDBCLK'",
     "output_type": "error",
     "traceback": [
      "\u001b[1;31m---------------------------------------------------------------------------\u001b[0m",
      "\u001b[1;31mAttributeError\u001b[0m                            Traceback (most recent call last)",
      "Cell \u001b[1;32mIn[6], line 12\u001b[0m, in \u001b[0;36mdraw_circle\u001b[1;34m(event, x, y, flags, param)\u001b[0m\n\u001b[0;32m     10\u001b[0m \u001b[38;5;28;01melif\u001b[39;00m event \u001b[38;5;241m==\u001b[39m cv2\u001b[38;5;241m.\u001b[39mEVENT_RBUTTONDOWN:\n\u001b[0;32m     11\u001b[0m     cv2\u001b[38;5;241m.\u001b[39mcircle(img, (x,y), \u001b[38;5;241m10\u001b[39m, (\u001b[38;5;241m255\u001b[39m,\u001b[38;5;241m0\u001b[39m,\u001b[38;5;241m0\u001b[39m), \u001b[38;5;241m2\u001b[39m)\n\u001b[1;32m---> 12\u001b[0m \u001b[38;5;28;01melif\u001b[39;00m event \u001b[38;5;241m==\u001b[39m \u001b[43mcv2\u001b[49m\u001b[38;5;241;43m.\u001b[39;49m\u001b[43mEVENT_LBUTTONDBCLK\u001b[49m:\n\u001b[0;32m     13\u001b[0m     cv2\u001b[38;5;241m.\u001b[39mcircle(img, (x,y), \u001b[38;5;241m20\u001b[39m, (\u001b[38;5;241m255\u001b[39m,\u001b[38;5;241m0\u001b[39m,\u001b[38;5;241m0\u001b[39m), \u001b[38;5;241m-\u001b[39m\u001b[38;5;241m1\u001b[39m)\n",
      "\u001b[1;31mAttributeError\u001b[0m: module 'cv2' has no attribute 'EVENT_LBUTTONDBCLK'"
     ]
    },
    {
     "ename": "AttributeError",
     "evalue": "module 'cv2' has no attribute 'EVENT_LBUTTONDBCLK'",
     "output_type": "error",
     "traceback": [
      "\u001b[1;31m---------------------------------------------------------------------------\u001b[0m",
      "\u001b[1;31mAttributeError\u001b[0m                            Traceback (most recent call last)",
      "Cell \u001b[1;32mIn[6], line 12\u001b[0m, in \u001b[0;36mdraw_circle\u001b[1;34m(event, x, y, flags, param)\u001b[0m\n\u001b[0;32m     10\u001b[0m \u001b[38;5;28;01melif\u001b[39;00m event \u001b[38;5;241m==\u001b[39m cv2\u001b[38;5;241m.\u001b[39mEVENT_RBUTTONDOWN:\n\u001b[0;32m     11\u001b[0m     cv2\u001b[38;5;241m.\u001b[39mcircle(img, (x,y), \u001b[38;5;241m10\u001b[39m, (\u001b[38;5;241m255\u001b[39m,\u001b[38;5;241m0\u001b[39m,\u001b[38;5;241m0\u001b[39m), \u001b[38;5;241m2\u001b[39m)\n\u001b[1;32m---> 12\u001b[0m \u001b[38;5;28;01melif\u001b[39;00m event \u001b[38;5;241m==\u001b[39m \u001b[43mcv2\u001b[49m\u001b[38;5;241;43m.\u001b[39;49m\u001b[43mEVENT_LBUTTONDBCLK\u001b[49m:\n\u001b[0;32m     13\u001b[0m     cv2\u001b[38;5;241m.\u001b[39mcircle(img, (x,y), \u001b[38;5;241m20\u001b[39m, (\u001b[38;5;241m255\u001b[39m,\u001b[38;5;241m0\u001b[39m,\u001b[38;5;241m0\u001b[39m), \u001b[38;5;241m-\u001b[39m\u001b[38;5;241m1\u001b[39m)\n",
      "\u001b[1;31mAttributeError\u001b[0m: module 'cv2' has no attribute 'EVENT_LBUTTONDBCLK'"
     ]
    },
    {
     "ename": "AttributeError",
     "evalue": "module 'cv2' has no attribute 'EVENT_LBUTTONDBCLK'",
     "output_type": "error",
     "traceback": [
      "\u001b[1;31m---------------------------------------------------------------------------\u001b[0m",
      "\u001b[1;31mAttributeError\u001b[0m                            Traceback (most recent call last)",
      "Cell \u001b[1;32mIn[6], line 12\u001b[0m, in \u001b[0;36mdraw_circle\u001b[1;34m(event, x, y, flags, param)\u001b[0m\n\u001b[0;32m     10\u001b[0m \u001b[38;5;28;01melif\u001b[39;00m event \u001b[38;5;241m==\u001b[39m cv2\u001b[38;5;241m.\u001b[39mEVENT_RBUTTONDOWN:\n\u001b[0;32m     11\u001b[0m     cv2\u001b[38;5;241m.\u001b[39mcircle(img, (x,y), \u001b[38;5;241m10\u001b[39m, (\u001b[38;5;241m255\u001b[39m,\u001b[38;5;241m0\u001b[39m,\u001b[38;5;241m0\u001b[39m), \u001b[38;5;241m2\u001b[39m)\n\u001b[1;32m---> 12\u001b[0m \u001b[38;5;28;01melif\u001b[39;00m event \u001b[38;5;241m==\u001b[39m \u001b[43mcv2\u001b[49m\u001b[38;5;241;43m.\u001b[39;49m\u001b[43mEVENT_LBUTTONDBCLK\u001b[49m:\n\u001b[0;32m     13\u001b[0m     cv2\u001b[38;5;241m.\u001b[39mcircle(img, (x,y), \u001b[38;5;241m20\u001b[39m, (\u001b[38;5;241m255\u001b[39m,\u001b[38;5;241m0\u001b[39m,\u001b[38;5;241m0\u001b[39m), \u001b[38;5;241m-\u001b[39m\u001b[38;5;241m1\u001b[39m)\n",
      "\u001b[1;31mAttributeError\u001b[0m: module 'cv2' has no attribute 'EVENT_LBUTTONDBCLK'"
     ]
    },
    {
     "ename": "AttributeError",
     "evalue": "module 'cv2' has no attribute 'EVENT_LBUTTONDBCLK'",
     "output_type": "error",
     "traceback": [
      "\u001b[1;31m---------------------------------------------------------------------------\u001b[0m",
      "\u001b[1;31mAttributeError\u001b[0m                            Traceback (most recent call last)",
      "Cell \u001b[1;32mIn[6], line 12\u001b[0m, in \u001b[0;36mdraw_circle\u001b[1;34m(event, x, y, flags, param)\u001b[0m\n\u001b[0;32m     10\u001b[0m \u001b[38;5;28;01melif\u001b[39;00m event \u001b[38;5;241m==\u001b[39m cv2\u001b[38;5;241m.\u001b[39mEVENT_RBUTTONDOWN:\n\u001b[0;32m     11\u001b[0m     cv2\u001b[38;5;241m.\u001b[39mcircle(img, (x,y), \u001b[38;5;241m10\u001b[39m, (\u001b[38;5;241m255\u001b[39m,\u001b[38;5;241m0\u001b[39m,\u001b[38;5;241m0\u001b[39m), \u001b[38;5;241m2\u001b[39m)\n\u001b[1;32m---> 12\u001b[0m \u001b[38;5;28;01melif\u001b[39;00m event \u001b[38;5;241m==\u001b[39m \u001b[43mcv2\u001b[49m\u001b[38;5;241;43m.\u001b[39;49m\u001b[43mEVENT_LBUTTONDBCLK\u001b[49m:\n\u001b[0;32m     13\u001b[0m     cv2\u001b[38;5;241m.\u001b[39mcircle(img, (x,y), \u001b[38;5;241m20\u001b[39m, (\u001b[38;5;241m255\u001b[39m,\u001b[38;5;241m0\u001b[39m,\u001b[38;5;241m0\u001b[39m), \u001b[38;5;241m-\u001b[39m\u001b[38;5;241m1\u001b[39m)\n",
      "\u001b[1;31mAttributeError\u001b[0m: module 'cv2' has no attribute 'EVENT_LBUTTONDBCLK'"
     ]
    },
    {
     "ename": "AttributeError",
     "evalue": "module 'cv2' has no attribute 'EVENT_LBUTTONDBCLK'",
     "output_type": "error",
     "traceback": [
      "\u001b[1;31m---------------------------------------------------------------------------\u001b[0m",
      "\u001b[1;31mAttributeError\u001b[0m                            Traceback (most recent call last)",
      "Cell \u001b[1;32mIn[6], line 12\u001b[0m, in \u001b[0;36mdraw_circle\u001b[1;34m(event, x, y, flags, param)\u001b[0m\n\u001b[0;32m     10\u001b[0m \u001b[38;5;28;01melif\u001b[39;00m event \u001b[38;5;241m==\u001b[39m cv2\u001b[38;5;241m.\u001b[39mEVENT_RBUTTONDOWN:\n\u001b[0;32m     11\u001b[0m     cv2\u001b[38;5;241m.\u001b[39mcircle(img, (x,y), \u001b[38;5;241m10\u001b[39m, (\u001b[38;5;241m255\u001b[39m,\u001b[38;5;241m0\u001b[39m,\u001b[38;5;241m0\u001b[39m), \u001b[38;5;241m2\u001b[39m)\n\u001b[1;32m---> 12\u001b[0m \u001b[38;5;28;01melif\u001b[39;00m event \u001b[38;5;241m==\u001b[39m \u001b[43mcv2\u001b[49m\u001b[38;5;241;43m.\u001b[39;49m\u001b[43mEVENT_LBUTTONDBCLK\u001b[49m:\n\u001b[0;32m     13\u001b[0m     cv2\u001b[38;5;241m.\u001b[39mcircle(img, (x,y), \u001b[38;5;241m20\u001b[39m, (\u001b[38;5;241m255\u001b[39m,\u001b[38;5;241m0\u001b[39m,\u001b[38;5;241m0\u001b[39m), \u001b[38;5;241m-\u001b[39m\u001b[38;5;241m1\u001b[39m)\n",
      "\u001b[1;31mAttributeError\u001b[0m: module 'cv2' has no attribute 'EVENT_LBUTTONDBCLK'"
     ]
    },
    {
     "ename": "AttributeError",
     "evalue": "module 'cv2' has no attribute 'EVENT_LBUTTONDBCLK'",
     "output_type": "error",
     "traceback": [
      "\u001b[1;31m---------------------------------------------------------------------------\u001b[0m",
      "\u001b[1;31mAttributeError\u001b[0m                            Traceback (most recent call last)",
      "Cell \u001b[1;32mIn[6], line 12\u001b[0m, in \u001b[0;36mdraw_circle\u001b[1;34m(event, x, y, flags, param)\u001b[0m\n\u001b[0;32m     10\u001b[0m \u001b[38;5;28;01melif\u001b[39;00m event \u001b[38;5;241m==\u001b[39m cv2\u001b[38;5;241m.\u001b[39mEVENT_RBUTTONDOWN:\n\u001b[0;32m     11\u001b[0m     cv2\u001b[38;5;241m.\u001b[39mcircle(img, (x,y), \u001b[38;5;241m10\u001b[39m, (\u001b[38;5;241m255\u001b[39m,\u001b[38;5;241m0\u001b[39m,\u001b[38;5;241m0\u001b[39m), \u001b[38;5;241m2\u001b[39m)\n\u001b[1;32m---> 12\u001b[0m \u001b[38;5;28;01melif\u001b[39;00m event \u001b[38;5;241m==\u001b[39m \u001b[43mcv2\u001b[49m\u001b[38;5;241;43m.\u001b[39;49m\u001b[43mEVENT_LBUTTONDBCLK\u001b[49m:\n\u001b[0;32m     13\u001b[0m     cv2\u001b[38;5;241m.\u001b[39mcircle(img, (x,y), \u001b[38;5;241m20\u001b[39m, (\u001b[38;5;241m255\u001b[39m,\u001b[38;5;241m0\u001b[39m,\u001b[38;5;241m0\u001b[39m), \u001b[38;5;241m-\u001b[39m\u001b[38;5;241m1\u001b[39m)\n",
      "\u001b[1;31mAttributeError\u001b[0m: module 'cv2' has no attribute 'EVENT_LBUTTONDBCLK'"
     ]
    },
    {
     "ename": "AttributeError",
     "evalue": "module 'cv2' has no attribute 'EVENT_LBUTTONDBCLK'",
     "output_type": "error",
     "traceback": [
      "\u001b[1;31m---------------------------------------------------------------------------\u001b[0m",
      "\u001b[1;31mAttributeError\u001b[0m                            Traceback (most recent call last)",
      "Cell \u001b[1;32mIn[6], line 12\u001b[0m, in \u001b[0;36mdraw_circle\u001b[1;34m(event, x, y, flags, param)\u001b[0m\n\u001b[0;32m     10\u001b[0m \u001b[38;5;28;01melif\u001b[39;00m event \u001b[38;5;241m==\u001b[39m cv2\u001b[38;5;241m.\u001b[39mEVENT_RBUTTONDOWN:\n\u001b[0;32m     11\u001b[0m     cv2\u001b[38;5;241m.\u001b[39mcircle(img, (x,y), \u001b[38;5;241m10\u001b[39m, (\u001b[38;5;241m255\u001b[39m,\u001b[38;5;241m0\u001b[39m,\u001b[38;5;241m0\u001b[39m), \u001b[38;5;241m2\u001b[39m)\n\u001b[1;32m---> 12\u001b[0m \u001b[38;5;28;01melif\u001b[39;00m event \u001b[38;5;241m==\u001b[39m \u001b[43mcv2\u001b[49m\u001b[38;5;241;43m.\u001b[39;49m\u001b[43mEVENT_LBUTTONDBCLK\u001b[49m:\n\u001b[0;32m     13\u001b[0m     cv2\u001b[38;5;241m.\u001b[39mcircle(img, (x,y), \u001b[38;5;241m20\u001b[39m, (\u001b[38;5;241m255\u001b[39m,\u001b[38;5;241m0\u001b[39m,\u001b[38;5;241m0\u001b[39m), \u001b[38;5;241m-\u001b[39m\u001b[38;5;241m1\u001b[39m)\n",
      "\u001b[1;31mAttributeError\u001b[0m: module 'cv2' has no attribute 'EVENT_LBUTTONDBCLK'"
     ]
    },
    {
     "ename": "AttributeError",
     "evalue": "module 'cv2' has no attribute 'EVENT_LBUTTONDBCLK'",
     "output_type": "error",
     "traceback": [
      "\u001b[1;31m---------------------------------------------------------------------------\u001b[0m",
      "\u001b[1;31mAttributeError\u001b[0m                            Traceback (most recent call last)",
      "Cell \u001b[1;32mIn[6], line 12\u001b[0m, in \u001b[0;36mdraw_circle\u001b[1;34m(event, x, y, flags, param)\u001b[0m\n\u001b[0;32m     10\u001b[0m \u001b[38;5;28;01melif\u001b[39;00m event \u001b[38;5;241m==\u001b[39m cv2\u001b[38;5;241m.\u001b[39mEVENT_RBUTTONDOWN:\n\u001b[0;32m     11\u001b[0m     cv2\u001b[38;5;241m.\u001b[39mcircle(img, (x,y), \u001b[38;5;241m10\u001b[39m, (\u001b[38;5;241m255\u001b[39m,\u001b[38;5;241m0\u001b[39m,\u001b[38;5;241m0\u001b[39m), \u001b[38;5;241m2\u001b[39m)\n\u001b[1;32m---> 12\u001b[0m \u001b[38;5;28;01melif\u001b[39;00m event \u001b[38;5;241m==\u001b[39m \u001b[43mcv2\u001b[49m\u001b[38;5;241;43m.\u001b[39;49m\u001b[43mEVENT_LBUTTONDBCLK\u001b[49m:\n\u001b[0;32m     13\u001b[0m     cv2\u001b[38;5;241m.\u001b[39mcircle(img, (x,y), \u001b[38;5;241m20\u001b[39m, (\u001b[38;5;241m255\u001b[39m,\u001b[38;5;241m0\u001b[39m,\u001b[38;5;241m0\u001b[39m), \u001b[38;5;241m-\u001b[39m\u001b[38;5;241m1\u001b[39m)\n",
      "\u001b[1;31mAttributeError\u001b[0m: module 'cv2' has no attribute 'EVENT_LBUTTONDBCLK'"
     ]
    },
    {
     "ename": "AttributeError",
     "evalue": "module 'cv2' has no attribute 'EVENT_LBUTTONDBCLK'",
     "output_type": "error",
     "traceback": [
      "\u001b[1;31m---------------------------------------------------------------------------\u001b[0m",
      "\u001b[1;31mAttributeError\u001b[0m                            Traceback (most recent call last)",
      "Cell \u001b[1;32mIn[6], line 12\u001b[0m, in \u001b[0;36mdraw_circle\u001b[1;34m(event, x, y, flags, param)\u001b[0m\n\u001b[0;32m     10\u001b[0m \u001b[38;5;28;01melif\u001b[39;00m event \u001b[38;5;241m==\u001b[39m cv2\u001b[38;5;241m.\u001b[39mEVENT_RBUTTONDOWN:\n\u001b[0;32m     11\u001b[0m     cv2\u001b[38;5;241m.\u001b[39mcircle(img, (x,y), \u001b[38;5;241m10\u001b[39m, (\u001b[38;5;241m255\u001b[39m,\u001b[38;5;241m0\u001b[39m,\u001b[38;5;241m0\u001b[39m), \u001b[38;5;241m2\u001b[39m)\n\u001b[1;32m---> 12\u001b[0m \u001b[38;5;28;01melif\u001b[39;00m event \u001b[38;5;241m==\u001b[39m \u001b[43mcv2\u001b[49m\u001b[38;5;241;43m.\u001b[39;49m\u001b[43mEVENT_LBUTTONDBCLK\u001b[49m:\n\u001b[0;32m     13\u001b[0m     cv2\u001b[38;5;241m.\u001b[39mcircle(img, (x,y), \u001b[38;5;241m20\u001b[39m, (\u001b[38;5;241m255\u001b[39m,\u001b[38;5;241m0\u001b[39m,\u001b[38;5;241m0\u001b[39m), \u001b[38;5;241m-\u001b[39m\u001b[38;5;241m1\u001b[39m)\n",
      "\u001b[1;31mAttributeError\u001b[0m: module 'cv2' has no attribute 'EVENT_LBUTTONDBCLK'"
     ]
    },
    {
     "ename": "AttributeError",
     "evalue": "module 'cv2' has no attribute 'EVENT_LBUTTONDBCLK'",
     "output_type": "error",
     "traceback": [
      "\u001b[1;31m---------------------------------------------------------------------------\u001b[0m",
      "\u001b[1;31mAttributeError\u001b[0m                            Traceback (most recent call last)",
      "Cell \u001b[1;32mIn[6], line 12\u001b[0m, in \u001b[0;36mdraw_circle\u001b[1;34m(event, x, y, flags, param)\u001b[0m\n\u001b[0;32m     10\u001b[0m \u001b[38;5;28;01melif\u001b[39;00m event \u001b[38;5;241m==\u001b[39m cv2\u001b[38;5;241m.\u001b[39mEVENT_RBUTTONDOWN:\n\u001b[0;32m     11\u001b[0m     cv2\u001b[38;5;241m.\u001b[39mcircle(img, (x,y), \u001b[38;5;241m10\u001b[39m, (\u001b[38;5;241m255\u001b[39m,\u001b[38;5;241m0\u001b[39m,\u001b[38;5;241m0\u001b[39m), \u001b[38;5;241m2\u001b[39m)\n\u001b[1;32m---> 12\u001b[0m \u001b[38;5;28;01melif\u001b[39;00m event \u001b[38;5;241m==\u001b[39m \u001b[43mcv2\u001b[49m\u001b[38;5;241;43m.\u001b[39;49m\u001b[43mEVENT_LBUTTONDBCLK\u001b[49m:\n\u001b[0;32m     13\u001b[0m     cv2\u001b[38;5;241m.\u001b[39mcircle(img, (x,y), \u001b[38;5;241m20\u001b[39m, (\u001b[38;5;241m255\u001b[39m,\u001b[38;5;241m0\u001b[39m,\u001b[38;5;241m0\u001b[39m), \u001b[38;5;241m-\u001b[39m\u001b[38;5;241m1\u001b[39m)\n",
      "\u001b[1;31mAttributeError\u001b[0m: module 'cv2' has no attribute 'EVENT_LBUTTONDBCLK'"
     ]
    },
    {
     "ename": "AttributeError",
     "evalue": "module 'cv2' has no attribute 'EVENT_LBUTTONDBCLK'",
     "output_type": "error",
     "traceback": [
      "\u001b[1;31m---------------------------------------------------------------------------\u001b[0m",
      "\u001b[1;31mAttributeError\u001b[0m                            Traceback (most recent call last)",
      "Cell \u001b[1;32mIn[6], line 12\u001b[0m, in \u001b[0;36mdraw_circle\u001b[1;34m(event, x, y, flags, param)\u001b[0m\n\u001b[0;32m     10\u001b[0m \u001b[38;5;28;01melif\u001b[39;00m event \u001b[38;5;241m==\u001b[39m cv2\u001b[38;5;241m.\u001b[39mEVENT_RBUTTONDOWN:\n\u001b[0;32m     11\u001b[0m     cv2\u001b[38;5;241m.\u001b[39mcircle(img, (x,y), \u001b[38;5;241m10\u001b[39m, (\u001b[38;5;241m255\u001b[39m,\u001b[38;5;241m0\u001b[39m,\u001b[38;5;241m0\u001b[39m), \u001b[38;5;241m2\u001b[39m)\n\u001b[1;32m---> 12\u001b[0m \u001b[38;5;28;01melif\u001b[39;00m event \u001b[38;5;241m==\u001b[39m \u001b[43mcv2\u001b[49m\u001b[38;5;241;43m.\u001b[39;49m\u001b[43mEVENT_LBUTTONDBCLK\u001b[49m:\n\u001b[0;32m     13\u001b[0m     cv2\u001b[38;5;241m.\u001b[39mcircle(img, (x,y), \u001b[38;5;241m20\u001b[39m, (\u001b[38;5;241m255\u001b[39m,\u001b[38;5;241m0\u001b[39m,\u001b[38;5;241m0\u001b[39m), \u001b[38;5;241m-\u001b[39m\u001b[38;5;241m1\u001b[39m)\n",
      "\u001b[1;31mAttributeError\u001b[0m: module 'cv2' has no attribute 'EVENT_LBUTTONDBCLK'"
     ]
    },
    {
     "ename": "AttributeError",
     "evalue": "module 'cv2' has no attribute 'EVENT_LBUTTONDBCLK'",
     "output_type": "error",
     "traceback": [
      "\u001b[1;31m---------------------------------------------------------------------------\u001b[0m",
      "\u001b[1;31mAttributeError\u001b[0m                            Traceback (most recent call last)",
      "Cell \u001b[1;32mIn[6], line 12\u001b[0m, in \u001b[0;36mdraw_circle\u001b[1;34m(event, x, y, flags, param)\u001b[0m\n\u001b[0;32m     10\u001b[0m \u001b[38;5;28;01melif\u001b[39;00m event \u001b[38;5;241m==\u001b[39m cv2\u001b[38;5;241m.\u001b[39mEVENT_RBUTTONDOWN:\n\u001b[0;32m     11\u001b[0m     cv2\u001b[38;5;241m.\u001b[39mcircle(img, (x,y), \u001b[38;5;241m10\u001b[39m, (\u001b[38;5;241m255\u001b[39m,\u001b[38;5;241m0\u001b[39m,\u001b[38;5;241m0\u001b[39m), \u001b[38;5;241m2\u001b[39m)\n\u001b[1;32m---> 12\u001b[0m \u001b[38;5;28;01melif\u001b[39;00m event \u001b[38;5;241m==\u001b[39m \u001b[43mcv2\u001b[49m\u001b[38;5;241;43m.\u001b[39;49m\u001b[43mEVENT_LBUTTONDBCLK\u001b[49m:\n\u001b[0;32m     13\u001b[0m     cv2\u001b[38;5;241m.\u001b[39mcircle(img, (x,y), \u001b[38;5;241m20\u001b[39m, (\u001b[38;5;241m255\u001b[39m,\u001b[38;5;241m0\u001b[39m,\u001b[38;5;241m0\u001b[39m), \u001b[38;5;241m-\u001b[39m\u001b[38;5;241m1\u001b[39m)\n",
      "\u001b[1;31mAttributeError\u001b[0m: module 'cv2' has no attribute 'EVENT_LBUTTONDBCLK'"
     ]
    },
    {
     "ename": "AttributeError",
     "evalue": "module 'cv2' has no attribute 'EVENT_LBUTTONDBCLK'",
     "output_type": "error",
     "traceback": [
      "\u001b[1;31m---------------------------------------------------------------------------\u001b[0m",
      "\u001b[1;31mAttributeError\u001b[0m                            Traceback (most recent call last)",
      "Cell \u001b[1;32mIn[6], line 12\u001b[0m, in \u001b[0;36mdraw_circle\u001b[1;34m(event, x, y, flags, param)\u001b[0m\n\u001b[0;32m     10\u001b[0m \u001b[38;5;28;01melif\u001b[39;00m event \u001b[38;5;241m==\u001b[39m cv2\u001b[38;5;241m.\u001b[39mEVENT_RBUTTONDOWN:\n\u001b[0;32m     11\u001b[0m     cv2\u001b[38;5;241m.\u001b[39mcircle(img, (x,y), \u001b[38;5;241m10\u001b[39m, (\u001b[38;5;241m255\u001b[39m,\u001b[38;5;241m0\u001b[39m,\u001b[38;5;241m0\u001b[39m), \u001b[38;5;241m2\u001b[39m)\n\u001b[1;32m---> 12\u001b[0m \u001b[38;5;28;01melif\u001b[39;00m event \u001b[38;5;241m==\u001b[39m \u001b[43mcv2\u001b[49m\u001b[38;5;241;43m.\u001b[39;49m\u001b[43mEVENT_LBUTTONDBCLK\u001b[49m:\n\u001b[0;32m     13\u001b[0m     cv2\u001b[38;5;241m.\u001b[39mcircle(img, (x,y), \u001b[38;5;241m20\u001b[39m, (\u001b[38;5;241m255\u001b[39m,\u001b[38;5;241m0\u001b[39m,\u001b[38;5;241m0\u001b[39m), \u001b[38;5;241m-\u001b[39m\u001b[38;5;241m1\u001b[39m)\n",
      "\u001b[1;31mAttributeError\u001b[0m: module 'cv2' has no attribute 'EVENT_LBUTTONDBCLK'"
     ]
    },
    {
     "ename": "AttributeError",
     "evalue": "module 'cv2' has no attribute 'EVENT_LBUTTONDBCLK'",
     "output_type": "error",
     "traceback": [
      "\u001b[1;31m---------------------------------------------------------------------------\u001b[0m",
      "\u001b[1;31mAttributeError\u001b[0m                            Traceback (most recent call last)",
      "Cell \u001b[1;32mIn[6], line 12\u001b[0m, in \u001b[0;36mdraw_circle\u001b[1;34m(event, x, y, flags, param)\u001b[0m\n\u001b[0;32m     10\u001b[0m \u001b[38;5;28;01melif\u001b[39;00m event \u001b[38;5;241m==\u001b[39m cv2\u001b[38;5;241m.\u001b[39mEVENT_RBUTTONDOWN:\n\u001b[0;32m     11\u001b[0m     cv2\u001b[38;5;241m.\u001b[39mcircle(img, (x,y), \u001b[38;5;241m10\u001b[39m, (\u001b[38;5;241m255\u001b[39m,\u001b[38;5;241m0\u001b[39m,\u001b[38;5;241m0\u001b[39m), \u001b[38;5;241m2\u001b[39m)\n\u001b[1;32m---> 12\u001b[0m \u001b[38;5;28;01melif\u001b[39;00m event \u001b[38;5;241m==\u001b[39m \u001b[43mcv2\u001b[49m\u001b[38;5;241;43m.\u001b[39;49m\u001b[43mEVENT_LBUTTONDBCLK\u001b[49m:\n\u001b[0;32m     13\u001b[0m     cv2\u001b[38;5;241m.\u001b[39mcircle(img, (x,y), \u001b[38;5;241m20\u001b[39m, (\u001b[38;5;241m255\u001b[39m,\u001b[38;5;241m0\u001b[39m,\u001b[38;5;241m0\u001b[39m), \u001b[38;5;241m-\u001b[39m\u001b[38;5;241m1\u001b[39m)\n",
      "\u001b[1;31mAttributeError\u001b[0m: module 'cv2' has no attribute 'EVENT_LBUTTONDBCLK'"
     ]
    },
    {
     "ename": "AttributeError",
     "evalue": "module 'cv2' has no attribute 'EVENT_LBUTTONDBCLK'",
     "output_type": "error",
     "traceback": [
      "\u001b[1;31m---------------------------------------------------------------------------\u001b[0m",
      "\u001b[1;31mAttributeError\u001b[0m                            Traceback (most recent call last)",
      "Cell \u001b[1;32mIn[6], line 12\u001b[0m, in \u001b[0;36mdraw_circle\u001b[1;34m(event, x, y, flags, param)\u001b[0m\n\u001b[0;32m     10\u001b[0m \u001b[38;5;28;01melif\u001b[39;00m event \u001b[38;5;241m==\u001b[39m cv2\u001b[38;5;241m.\u001b[39mEVENT_RBUTTONDOWN:\n\u001b[0;32m     11\u001b[0m     cv2\u001b[38;5;241m.\u001b[39mcircle(img, (x,y), \u001b[38;5;241m10\u001b[39m, (\u001b[38;5;241m255\u001b[39m,\u001b[38;5;241m0\u001b[39m,\u001b[38;5;241m0\u001b[39m), \u001b[38;5;241m2\u001b[39m)\n\u001b[1;32m---> 12\u001b[0m \u001b[38;5;28;01melif\u001b[39;00m event \u001b[38;5;241m==\u001b[39m \u001b[43mcv2\u001b[49m\u001b[38;5;241;43m.\u001b[39;49m\u001b[43mEVENT_LBUTTONDBCLK\u001b[49m:\n\u001b[0;32m     13\u001b[0m     cv2\u001b[38;5;241m.\u001b[39mcircle(img, (x,y), \u001b[38;5;241m20\u001b[39m, (\u001b[38;5;241m255\u001b[39m,\u001b[38;5;241m0\u001b[39m,\u001b[38;5;241m0\u001b[39m), \u001b[38;5;241m-\u001b[39m\u001b[38;5;241m1\u001b[39m)\n",
      "\u001b[1;31mAttributeError\u001b[0m: module 'cv2' has no attribute 'EVENT_LBUTTONDBCLK'"
     ]
    },
    {
     "ename": "AttributeError",
     "evalue": "module 'cv2' has no attribute 'EVENT_LBUTTONDBCLK'",
     "output_type": "error",
     "traceback": [
      "\u001b[1;31m---------------------------------------------------------------------------\u001b[0m",
      "\u001b[1;31mAttributeError\u001b[0m                            Traceback (most recent call last)",
      "Cell \u001b[1;32mIn[6], line 12\u001b[0m, in \u001b[0;36mdraw_circle\u001b[1;34m(event, x, y, flags, param)\u001b[0m\n\u001b[0;32m     10\u001b[0m \u001b[38;5;28;01melif\u001b[39;00m event \u001b[38;5;241m==\u001b[39m cv2\u001b[38;5;241m.\u001b[39mEVENT_RBUTTONDOWN:\n\u001b[0;32m     11\u001b[0m     cv2\u001b[38;5;241m.\u001b[39mcircle(img, (x,y), \u001b[38;5;241m10\u001b[39m, (\u001b[38;5;241m255\u001b[39m,\u001b[38;5;241m0\u001b[39m,\u001b[38;5;241m0\u001b[39m), \u001b[38;5;241m2\u001b[39m)\n\u001b[1;32m---> 12\u001b[0m \u001b[38;5;28;01melif\u001b[39;00m event \u001b[38;5;241m==\u001b[39m \u001b[43mcv2\u001b[49m\u001b[38;5;241;43m.\u001b[39;49m\u001b[43mEVENT_LBUTTONDBCLK\u001b[49m:\n\u001b[0;32m     13\u001b[0m     cv2\u001b[38;5;241m.\u001b[39mcircle(img, (x,y), \u001b[38;5;241m20\u001b[39m, (\u001b[38;5;241m255\u001b[39m,\u001b[38;5;241m0\u001b[39m,\u001b[38;5;241m0\u001b[39m), \u001b[38;5;241m-\u001b[39m\u001b[38;5;241m1\u001b[39m)\n",
      "\u001b[1;31mAttributeError\u001b[0m: module 'cv2' has no attribute 'EVENT_LBUTTONDBCLK'"
     ]
    },
    {
     "ename": "AttributeError",
     "evalue": "module 'cv2' has no attribute 'EVENT_LBUTTONDBCLK'",
     "output_type": "error",
     "traceback": [
      "\u001b[1;31m---------------------------------------------------------------------------\u001b[0m",
      "\u001b[1;31mAttributeError\u001b[0m                            Traceback (most recent call last)",
      "Cell \u001b[1;32mIn[6], line 12\u001b[0m, in \u001b[0;36mdraw_circle\u001b[1;34m(event, x, y, flags, param)\u001b[0m\n\u001b[0;32m     10\u001b[0m \u001b[38;5;28;01melif\u001b[39;00m event \u001b[38;5;241m==\u001b[39m cv2\u001b[38;5;241m.\u001b[39mEVENT_RBUTTONDOWN:\n\u001b[0;32m     11\u001b[0m     cv2\u001b[38;5;241m.\u001b[39mcircle(img, (x,y), \u001b[38;5;241m10\u001b[39m, (\u001b[38;5;241m255\u001b[39m,\u001b[38;5;241m0\u001b[39m,\u001b[38;5;241m0\u001b[39m), \u001b[38;5;241m2\u001b[39m)\n\u001b[1;32m---> 12\u001b[0m \u001b[38;5;28;01melif\u001b[39;00m event \u001b[38;5;241m==\u001b[39m \u001b[43mcv2\u001b[49m\u001b[38;5;241;43m.\u001b[39;49m\u001b[43mEVENT_LBUTTONDBCLK\u001b[49m:\n\u001b[0;32m     13\u001b[0m     cv2\u001b[38;5;241m.\u001b[39mcircle(img, (x,y), \u001b[38;5;241m20\u001b[39m, (\u001b[38;5;241m255\u001b[39m,\u001b[38;5;241m0\u001b[39m,\u001b[38;5;241m0\u001b[39m), \u001b[38;5;241m-\u001b[39m\u001b[38;5;241m1\u001b[39m)\n",
      "\u001b[1;31mAttributeError\u001b[0m: module 'cv2' has no attribute 'EVENT_LBUTTONDBCLK'"
     ]
    },
    {
     "ename": "AttributeError",
     "evalue": "module 'cv2' has no attribute 'EVENT_LBUTTONDBCLK'",
     "output_type": "error",
     "traceback": [
      "\u001b[1;31m---------------------------------------------------------------------------\u001b[0m",
      "\u001b[1;31mAttributeError\u001b[0m                            Traceback (most recent call last)",
      "Cell \u001b[1;32mIn[6], line 12\u001b[0m, in \u001b[0;36mdraw_circle\u001b[1;34m(event, x, y, flags, param)\u001b[0m\n\u001b[0;32m     10\u001b[0m \u001b[38;5;28;01melif\u001b[39;00m event \u001b[38;5;241m==\u001b[39m cv2\u001b[38;5;241m.\u001b[39mEVENT_RBUTTONDOWN:\n\u001b[0;32m     11\u001b[0m     cv2\u001b[38;5;241m.\u001b[39mcircle(img, (x,y), \u001b[38;5;241m10\u001b[39m, (\u001b[38;5;241m255\u001b[39m,\u001b[38;5;241m0\u001b[39m,\u001b[38;5;241m0\u001b[39m), \u001b[38;5;241m2\u001b[39m)\n\u001b[1;32m---> 12\u001b[0m \u001b[38;5;28;01melif\u001b[39;00m event \u001b[38;5;241m==\u001b[39m \u001b[43mcv2\u001b[49m\u001b[38;5;241;43m.\u001b[39;49m\u001b[43mEVENT_LBUTTONDBCLK\u001b[49m:\n\u001b[0;32m     13\u001b[0m     cv2\u001b[38;5;241m.\u001b[39mcircle(img, (x,y), \u001b[38;5;241m20\u001b[39m, (\u001b[38;5;241m255\u001b[39m,\u001b[38;5;241m0\u001b[39m,\u001b[38;5;241m0\u001b[39m), \u001b[38;5;241m-\u001b[39m\u001b[38;5;241m1\u001b[39m)\n",
      "\u001b[1;31mAttributeError\u001b[0m: module 'cv2' has no attribute 'EVENT_LBUTTONDBCLK'"
     ]
    },
    {
     "ename": "AttributeError",
     "evalue": "module 'cv2' has no attribute 'EVENT_LBUTTONDBCLK'",
     "output_type": "error",
     "traceback": [
      "\u001b[1;31m---------------------------------------------------------------------------\u001b[0m",
      "\u001b[1;31mAttributeError\u001b[0m                            Traceback (most recent call last)",
      "Cell \u001b[1;32mIn[6], line 12\u001b[0m, in \u001b[0;36mdraw_circle\u001b[1;34m(event, x, y, flags, param)\u001b[0m\n\u001b[0;32m     10\u001b[0m \u001b[38;5;28;01melif\u001b[39;00m event \u001b[38;5;241m==\u001b[39m cv2\u001b[38;5;241m.\u001b[39mEVENT_RBUTTONDOWN:\n\u001b[0;32m     11\u001b[0m     cv2\u001b[38;5;241m.\u001b[39mcircle(img, (x,y), \u001b[38;5;241m10\u001b[39m, (\u001b[38;5;241m255\u001b[39m,\u001b[38;5;241m0\u001b[39m,\u001b[38;5;241m0\u001b[39m), \u001b[38;5;241m2\u001b[39m)\n\u001b[1;32m---> 12\u001b[0m \u001b[38;5;28;01melif\u001b[39;00m event \u001b[38;5;241m==\u001b[39m \u001b[43mcv2\u001b[49m\u001b[38;5;241;43m.\u001b[39;49m\u001b[43mEVENT_LBUTTONDBCLK\u001b[49m:\n\u001b[0;32m     13\u001b[0m     cv2\u001b[38;5;241m.\u001b[39mcircle(img, (x,y), \u001b[38;5;241m20\u001b[39m, (\u001b[38;5;241m255\u001b[39m,\u001b[38;5;241m0\u001b[39m,\u001b[38;5;241m0\u001b[39m), \u001b[38;5;241m-\u001b[39m\u001b[38;5;241m1\u001b[39m)\n",
      "\u001b[1;31mAttributeError\u001b[0m: module 'cv2' has no attribute 'EVENT_LBUTTONDBCLK'"
     ]
    },
    {
     "ename": "AttributeError",
     "evalue": "module 'cv2' has no attribute 'EVENT_LBUTTONDBCLK'",
     "output_type": "error",
     "traceback": [
      "\u001b[1;31m---------------------------------------------------------------------------\u001b[0m",
      "\u001b[1;31mAttributeError\u001b[0m                            Traceback (most recent call last)",
      "Cell \u001b[1;32mIn[6], line 12\u001b[0m, in \u001b[0;36mdraw_circle\u001b[1;34m(event, x, y, flags, param)\u001b[0m\n\u001b[0;32m     10\u001b[0m \u001b[38;5;28;01melif\u001b[39;00m event \u001b[38;5;241m==\u001b[39m cv2\u001b[38;5;241m.\u001b[39mEVENT_RBUTTONDOWN:\n\u001b[0;32m     11\u001b[0m     cv2\u001b[38;5;241m.\u001b[39mcircle(img, (x,y), \u001b[38;5;241m10\u001b[39m, (\u001b[38;5;241m255\u001b[39m,\u001b[38;5;241m0\u001b[39m,\u001b[38;5;241m0\u001b[39m), \u001b[38;5;241m2\u001b[39m)\n\u001b[1;32m---> 12\u001b[0m \u001b[38;5;28;01melif\u001b[39;00m event \u001b[38;5;241m==\u001b[39m \u001b[43mcv2\u001b[49m\u001b[38;5;241;43m.\u001b[39;49m\u001b[43mEVENT_LBUTTONDBCLK\u001b[49m:\n\u001b[0;32m     13\u001b[0m     cv2\u001b[38;5;241m.\u001b[39mcircle(img, (x,y), \u001b[38;5;241m20\u001b[39m, (\u001b[38;5;241m255\u001b[39m,\u001b[38;5;241m0\u001b[39m,\u001b[38;5;241m0\u001b[39m), \u001b[38;5;241m-\u001b[39m\u001b[38;5;241m1\u001b[39m)\n",
      "\u001b[1;31mAttributeError\u001b[0m: module 'cv2' has no attribute 'EVENT_LBUTTONDBCLK'"
     ]
    },
    {
     "ename": "AttributeError",
     "evalue": "module 'cv2' has no attribute 'EVENT_LBUTTONDBCLK'",
     "output_type": "error",
     "traceback": [
      "\u001b[1;31m---------------------------------------------------------------------------\u001b[0m",
      "\u001b[1;31mAttributeError\u001b[0m                            Traceback (most recent call last)",
      "Cell \u001b[1;32mIn[6], line 12\u001b[0m, in \u001b[0;36mdraw_circle\u001b[1;34m(event, x, y, flags, param)\u001b[0m\n\u001b[0;32m     10\u001b[0m \u001b[38;5;28;01melif\u001b[39;00m event \u001b[38;5;241m==\u001b[39m cv2\u001b[38;5;241m.\u001b[39mEVENT_RBUTTONDOWN:\n\u001b[0;32m     11\u001b[0m     cv2\u001b[38;5;241m.\u001b[39mcircle(img, (x,y), \u001b[38;5;241m10\u001b[39m, (\u001b[38;5;241m255\u001b[39m,\u001b[38;5;241m0\u001b[39m,\u001b[38;5;241m0\u001b[39m), \u001b[38;5;241m2\u001b[39m)\n\u001b[1;32m---> 12\u001b[0m \u001b[38;5;28;01melif\u001b[39;00m event \u001b[38;5;241m==\u001b[39m \u001b[43mcv2\u001b[49m\u001b[38;5;241;43m.\u001b[39;49m\u001b[43mEVENT_LBUTTONDBCLK\u001b[49m:\n\u001b[0;32m     13\u001b[0m     cv2\u001b[38;5;241m.\u001b[39mcircle(img, (x,y), \u001b[38;5;241m20\u001b[39m, (\u001b[38;5;241m255\u001b[39m,\u001b[38;5;241m0\u001b[39m,\u001b[38;5;241m0\u001b[39m), \u001b[38;5;241m-\u001b[39m\u001b[38;5;241m1\u001b[39m)\n",
      "\u001b[1;31mAttributeError\u001b[0m: module 'cv2' has no attribute 'EVENT_LBUTTONDBCLK'"
     ]
    },
    {
     "ename": "AttributeError",
     "evalue": "module 'cv2' has no attribute 'EVENT_LBUTTONDBCLK'",
     "output_type": "error",
     "traceback": [
      "\u001b[1;31m---------------------------------------------------------------------------\u001b[0m",
      "\u001b[1;31mAttributeError\u001b[0m                            Traceback (most recent call last)",
      "Cell \u001b[1;32mIn[6], line 12\u001b[0m, in \u001b[0;36mdraw_circle\u001b[1;34m(event, x, y, flags, param)\u001b[0m\n\u001b[0;32m     10\u001b[0m \u001b[38;5;28;01melif\u001b[39;00m event \u001b[38;5;241m==\u001b[39m cv2\u001b[38;5;241m.\u001b[39mEVENT_RBUTTONDOWN:\n\u001b[0;32m     11\u001b[0m     cv2\u001b[38;5;241m.\u001b[39mcircle(img, (x,y), \u001b[38;5;241m10\u001b[39m, (\u001b[38;5;241m255\u001b[39m,\u001b[38;5;241m0\u001b[39m,\u001b[38;5;241m0\u001b[39m), \u001b[38;5;241m2\u001b[39m)\n\u001b[1;32m---> 12\u001b[0m \u001b[38;5;28;01melif\u001b[39;00m event \u001b[38;5;241m==\u001b[39m \u001b[43mcv2\u001b[49m\u001b[38;5;241;43m.\u001b[39;49m\u001b[43mEVENT_LBUTTONDBCLK\u001b[49m:\n\u001b[0;32m     13\u001b[0m     cv2\u001b[38;5;241m.\u001b[39mcircle(img, (x,y), \u001b[38;5;241m20\u001b[39m, (\u001b[38;5;241m255\u001b[39m,\u001b[38;5;241m0\u001b[39m,\u001b[38;5;241m0\u001b[39m), \u001b[38;5;241m-\u001b[39m\u001b[38;5;241m1\u001b[39m)\n",
      "\u001b[1;31mAttributeError\u001b[0m: module 'cv2' has no attribute 'EVENT_LBUTTONDBCLK'"
     ]
    },
    {
     "ename": "AttributeError",
     "evalue": "module 'cv2' has no attribute 'EVENT_LBUTTONDBCLK'",
     "output_type": "error",
     "traceback": [
      "\u001b[1;31m---------------------------------------------------------------------------\u001b[0m",
      "\u001b[1;31mAttributeError\u001b[0m                            Traceback (most recent call last)",
      "Cell \u001b[1;32mIn[6], line 12\u001b[0m, in \u001b[0;36mdraw_circle\u001b[1;34m(event, x, y, flags, param)\u001b[0m\n\u001b[0;32m     10\u001b[0m \u001b[38;5;28;01melif\u001b[39;00m event \u001b[38;5;241m==\u001b[39m cv2\u001b[38;5;241m.\u001b[39mEVENT_RBUTTONDOWN:\n\u001b[0;32m     11\u001b[0m     cv2\u001b[38;5;241m.\u001b[39mcircle(img, (x,y), \u001b[38;5;241m10\u001b[39m, (\u001b[38;5;241m255\u001b[39m,\u001b[38;5;241m0\u001b[39m,\u001b[38;5;241m0\u001b[39m), \u001b[38;5;241m2\u001b[39m)\n\u001b[1;32m---> 12\u001b[0m \u001b[38;5;28;01melif\u001b[39;00m event \u001b[38;5;241m==\u001b[39m \u001b[43mcv2\u001b[49m\u001b[38;5;241;43m.\u001b[39;49m\u001b[43mEVENT_LBUTTONDBCLK\u001b[49m:\n\u001b[0;32m     13\u001b[0m     cv2\u001b[38;5;241m.\u001b[39mcircle(img, (x,y), \u001b[38;5;241m20\u001b[39m, (\u001b[38;5;241m255\u001b[39m,\u001b[38;5;241m0\u001b[39m,\u001b[38;5;241m0\u001b[39m), \u001b[38;5;241m-\u001b[39m\u001b[38;5;241m1\u001b[39m)\n",
      "\u001b[1;31mAttributeError\u001b[0m: module 'cv2' has no attribute 'EVENT_LBUTTONDBCLK'"
     ]
    },
    {
     "ename": "AttributeError",
     "evalue": "module 'cv2' has no attribute 'EVENT_LBUTTONDBCLK'",
     "output_type": "error",
     "traceback": [
      "\u001b[1;31m---------------------------------------------------------------------------\u001b[0m",
      "\u001b[1;31mAttributeError\u001b[0m                            Traceback (most recent call last)",
      "Cell \u001b[1;32mIn[6], line 12\u001b[0m, in \u001b[0;36mdraw_circle\u001b[1;34m(event, x, y, flags, param)\u001b[0m\n\u001b[0;32m     10\u001b[0m \u001b[38;5;28;01melif\u001b[39;00m event \u001b[38;5;241m==\u001b[39m cv2\u001b[38;5;241m.\u001b[39mEVENT_RBUTTONDOWN:\n\u001b[0;32m     11\u001b[0m     cv2\u001b[38;5;241m.\u001b[39mcircle(img, (x,y), \u001b[38;5;241m10\u001b[39m, (\u001b[38;5;241m255\u001b[39m,\u001b[38;5;241m0\u001b[39m,\u001b[38;5;241m0\u001b[39m), \u001b[38;5;241m2\u001b[39m)\n\u001b[1;32m---> 12\u001b[0m \u001b[38;5;28;01melif\u001b[39;00m event \u001b[38;5;241m==\u001b[39m \u001b[43mcv2\u001b[49m\u001b[38;5;241;43m.\u001b[39;49m\u001b[43mEVENT_LBUTTONDBCLK\u001b[49m:\n\u001b[0;32m     13\u001b[0m     cv2\u001b[38;5;241m.\u001b[39mcircle(img, (x,y), \u001b[38;5;241m20\u001b[39m, (\u001b[38;5;241m255\u001b[39m,\u001b[38;5;241m0\u001b[39m,\u001b[38;5;241m0\u001b[39m), \u001b[38;5;241m-\u001b[39m\u001b[38;5;241m1\u001b[39m)\n",
      "\u001b[1;31mAttributeError\u001b[0m: module 'cv2' has no attribute 'EVENT_LBUTTONDBCLK'"
     ]
    },
    {
     "ename": "AttributeError",
     "evalue": "module 'cv2' has no attribute 'EVENT_LBUTTONDBCLK'",
     "output_type": "error",
     "traceback": [
      "\u001b[1;31m---------------------------------------------------------------------------\u001b[0m",
      "\u001b[1;31mAttributeError\u001b[0m                            Traceback (most recent call last)",
      "Cell \u001b[1;32mIn[6], line 12\u001b[0m, in \u001b[0;36mdraw_circle\u001b[1;34m(event, x, y, flags, param)\u001b[0m\n\u001b[0;32m     10\u001b[0m \u001b[38;5;28;01melif\u001b[39;00m event \u001b[38;5;241m==\u001b[39m cv2\u001b[38;5;241m.\u001b[39mEVENT_RBUTTONDOWN:\n\u001b[0;32m     11\u001b[0m     cv2\u001b[38;5;241m.\u001b[39mcircle(img, (x,y), \u001b[38;5;241m10\u001b[39m, (\u001b[38;5;241m255\u001b[39m,\u001b[38;5;241m0\u001b[39m,\u001b[38;5;241m0\u001b[39m), \u001b[38;5;241m2\u001b[39m)\n\u001b[1;32m---> 12\u001b[0m \u001b[38;5;28;01melif\u001b[39;00m event \u001b[38;5;241m==\u001b[39m \u001b[43mcv2\u001b[49m\u001b[38;5;241;43m.\u001b[39;49m\u001b[43mEVENT_LBUTTONDBCLK\u001b[49m:\n\u001b[0;32m     13\u001b[0m     cv2\u001b[38;5;241m.\u001b[39mcircle(img, (x,y), \u001b[38;5;241m20\u001b[39m, (\u001b[38;5;241m255\u001b[39m,\u001b[38;5;241m0\u001b[39m,\u001b[38;5;241m0\u001b[39m), \u001b[38;5;241m-\u001b[39m\u001b[38;5;241m1\u001b[39m)\n",
      "\u001b[1;31mAttributeError\u001b[0m: module 'cv2' has no attribute 'EVENT_LBUTTONDBCLK'"
     ]
    },
    {
     "ename": "AttributeError",
     "evalue": "module 'cv2' has no attribute 'EVENT_LBUTTONDBCLK'",
     "output_type": "error",
     "traceback": [
      "\u001b[1;31m---------------------------------------------------------------------------\u001b[0m",
      "\u001b[1;31mAttributeError\u001b[0m                            Traceback (most recent call last)",
      "Cell \u001b[1;32mIn[6], line 12\u001b[0m, in \u001b[0;36mdraw_circle\u001b[1;34m(event, x, y, flags, param)\u001b[0m\n\u001b[0;32m     10\u001b[0m \u001b[38;5;28;01melif\u001b[39;00m event \u001b[38;5;241m==\u001b[39m cv2\u001b[38;5;241m.\u001b[39mEVENT_RBUTTONDOWN:\n\u001b[0;32m     11\u001b[0m     cv2\u001b[38;5;241m.\u001b[39mcircle(img, (x,y), \u001b[38;5;241m10\u001b[39m, (\u001b[38;5;241m255\u001b[39m,\u001b[38;5;241m0\u001b[39m,\u001b[38;5;241m0\u001b[39m), \u001b[38;5;241m2\u001b[39m)\n\u001b[1;32m---> 12\u001b[0m \u001b[38;5;28;01melif\u001b[39;00m event \u001b[38;5;241m==\u001b[39m \u001b[43mcv2\u001b[49m\u001b[38;5;241;43m.\u001b[39;49m\u001b[43mEVENT_LBUTTONDBCLK\u001b[49m:\n\u001b[0;32m     13\u001b[0m     cv2\u001b[38;5;241m.\u001b[39mcircle(img, (x,y), \u001b[38;5;241m20\u001b[39m, (\u001b[38;5;241m255\u001b[39m,\u001b[38;5;241m0\u001b[39m,\u001b[38;5;241m0\u001b[39m), \u001b[38;5;241m-\u001b[39m\u001b[38;5;241m1\u001b[39m)\n",
      "\u001b[1;31mAttributeError\u001b[0m: module 'cv2' has no attribute 'EVENT_LBUTTONDBCLK'"
     ]
    },
    {
     "ename": "AttributeError",
     "evalue": "module 'cv2' has no attribute 'EVENT_LBUTTONDBCLK'",
     "output_type": "error",
     "traceback": [
      "\u001b[1;31m---------------------------------------------------------------------------\u001b[0m",
      "\u001b[1;31mAttributeError\u001b[0m                            Traceback (most recent call last)",
      "Cell \u001b[1;32mIn[6], line 12\u001b[0m, in \u001b[0;36mdraw_circle\u001b[1;34m(event, x, y, flags, param)\u001b[0m\n\u001b[0;32m     10\u001b[0m \u001b[38;5;28;01melif\u001b[39;00m event \u001b[38;5;241m==\u001b[39m cv2\u001b[38;5;241m.\u001b[39mEVENT_RBUTTONDOWN:\n\u001b[0;32m     11\u001b[0m     cv2\u001b[38;5;241m.\u001b[39mcircle(img, (x,y), \u001b[38;5;241m10\u001b[39m, (\u001b[38;5;241m255\u001b[39m,\u001b[38;5;241m0\u001b[39m,\u001b[38;5;241m0\u001b[39m), \u001b[38;5;241m2\u001b[39m)\n\u001b[1;32m---> 12\u001b[0m \u001b[38;5;28;01melif\u001b[39;00m event \u001b[38;5;241m==\u001b[39m \u001b[43mcv2\u001b[49m\u001b[38;5;241;43m.\u001b[39;49m\u001b[43mEVENT_LBUTTONDBCLK\u001b[49m:\n\u001b[0;32m     13\u001b[0m     cv2\u001b[38;5;241m.\u001b[39mcircle(img, (x,y), \u001b[38;5;241m20\u001b[39m, (\u001b[38;5;241m255\u001b[39m,\u001b[38;5;241m0\u001b[39m,\u001b[38;5;241m0\u001b[39m), \u001b[38;5;241m-\u001b[39m\u001b[38;5;241m1\u001b[39m)\n",
      "\u001b[1;31mAttributeError\u001b[0m: module 'cv2' has no attribute 'EVENT_LBUTTONDBCLK'"
     ]
    },
    {
     "ename": "AttributeError",
     "evalue": "module 'cv2' has no attribute 'EVENT_LBUTTONDBCLK'",
     "output_type": "error",
     "traceback": [
      "\u001b[1;31m---------------------------------------------------------------------------\u001b[0m",
      "\u001b[1;31mAttributeError\u001b[0m                            Traceback (most recent call last)",
      "Cell \u001b[1;32mIn[6], line 12\u001b[0m, in \u001b[0;36mdraw_circle\u001b[1;34m(event, x, y, flags, param)\u001b[0m\n\u001b[0;32m     10\u001b[0m \u001b[38;5;28;01melif\u001b[39;00m event \u001b[38;5;241m==\u001b[39m cv2\u001b[38;5;241m.\u001b[39mEVENT_RBUTTONDOWN:\n\u001b[0;32m     11\u001b[0m     cv2\u001b[38;5;241m.\u001b[39mcircle(img, (x,y), \u001b[38;5;241m10\u001b[39m, (\u001b[38;5;241m255\u001b[39m,\u001b[38;5;241m0\u001b[39m,\u001b[38;5;241m0\u001b[39m), \u001b[38;5;241m2\u001b[39m)\n\u001b[1;32m---> 12\u001b[0m \u001b[38;5;28;01melif\u001b[39;00m event \u001b[38;5;241m==\u001b[39m \u001b[43mcv2\u001b[49m\u001b[38;5;241;43m.\u001b[39;49m\u001b[43mEVENT_LBUTTONDBCLK\u001b[49m:\n\u001b[0;32m     13\u001b[0m     cv2\u001b[38;5;241m.\u001b[39mcircle(img, (x,y), \u001b[38;5;241m20\u001b[39m, (\u001b[38;5;241m255\u001b[39m,\u001b[38;5;241m0\u001b[39m,\u001b[38;5;241m0\u001b[39m), \u001b[38;5;241m-\u001b[39m\u001b[38;5;241m1\u001b[39m)\n",
      "\u001b[1;31mAttributeError\u001b[0m: module 'cv2' has no attribute 'EVENT_LBUTTONDBCLK'"
     ]
    },
    {
     "ename": "AttributeError",
     "evalue": "module 'cv2' has no attribute 'EVENT_LBUTTONDBCLK'",
     "output_type": "error",
     "traceback": [
      "\u001b[1;31m---------------------------------------------------------------------------\u001b[0m",
      "\u001b[1;31mAttributeError\u001b[0m                            Traceback (most recent call last)",
      "Cell \u001b[1;32mIn[6], line 12\u001b[0m, in \u001b[0;36mdraw_circle\u001b[1;34m(event, x, y, flags, param)\u001b[0m\n\u001b[0;32m     10\u001b[0m \u001b[38;5;28;01melif\u001b[39;00m event \u001b[38;5;241m==\u001b[39m cv2\u001b[38;5;241m.\u001b[39mEVENT_RBUTTONDOWN:\n\u001b[0;32m     11\u001b[0m     cv2\u001b[38;5;241m.\u001b[39mcircle(img, (x,y), \u001b[38;5;241m10\u001b[39m, (\u001b[38;5;241m255\u001b[39m,\u001b[38;5;241m0\u001b[39m,\u001b[38;5;241m0\u001b[39m), \u001b[38;5;241m2\u001b[39m)\n\u001b[1;32m---> 12\u001b[0m \u001b[38;5;28;01melif\u001b[39;00m event \u001b[38;5;241m==\u001b[39m \u001b[43mcv2\u001b[49m\u001b[38;5;241;43m.\u001b[39;49m\u001b[43mEVENT_LBUTTONDBCLK\u001b[49m:\n\u001b[0;32m     13\u001b[0m     cv2\u001b[38;5;241m.\u001b[39mcircle(img, (x,y), \u001b[38;5;241m20\u001b[39m, (\u001b[38;5;241m255\u001b[39m,\u001b[38;5;241m0\u001b[39m,\u001b[38;5;241m0\u001b[39m), \u001b[38;5;241m-\u001b[39m\u001b[38;5;241m1\u001b[39m)\n",
      "\u001b[1;31mAttributeError\u001b[0m: module 'cv2' has no attribute 'EVENT_LBUTTONDBCLK'"
     ]
    },
    {
     "ename": "AttributeError",
     "evalue": "module 'cv2' has no attribute 'EVENT_LBUTTONDBCLK'",
     "output_type": "error",
     "traceback": [
      "\u001b[1;31m---------------------------------------------------------------------------\u001b[0m",
      "\u001b[1;31mAttributeError\u001b[0m                            Traceback (most recent call last)",
      "Cell \u001b[1;32mIn[6], line 12\u001b[0m, in \u001b[0;36mdraw_circle\u001b[1;34m(event, x, y, flags, param)\u001b[0m\n\u001b[0;32m     10\u001b[0m \u001b[38;5;28;01melif\u001b[39;00m event \u001b[38;5;241m==\u001b[39m cv2\u001b[38;5;241m.\u001b[39mEVENT_RBUTTONDOWN:\n\u001b[0;32m     11\u001b[0m     cv2\u001b[38;5;241m.\u001b[39mcircle(img, (x,y), \u001b[38;5;241m10\u001b[39m, (\u001b[38;5;241m255\u001b[39m,\u001b[38;5;241m0\u001b[39m,\u001b[38;5;241m0\u001b[39m), \u001b[38;5;241m2\u001b[39m)\n\u001b[1;32m---> 12\u001b[0m \u001b[38;5;28;01melif\u001b[39;00m event \u001b[38;5;241m==\u001b[39m \u001b[43mcv2\u001b[49m\u001b[38;5;241;43m.\u001b[39;49m\u001b[43mEVENT_LBUTTONDBCLK\u001b[49m:\n\u001b[0;32m     13\u001b[0m     cv2\u001b[38;5;241m.\u001b[39mcircle(img, (x,y), \u001b[38;5;241m20\u001b[39m, (\u001b[38;5;241m255\u001b[39m,\u001b[38;5;241m0\u001b[39m,\u001b[38;5;241m0\u001b[39m), \u001b[38;5;241m-\u001b[39m\u001b[38;5;241m1\u001b[39m)\n",
      "\u001b[1;31mAttributeError\u001b[0m: module 'cv2' has no attribute 'EVENT_LBUTTONDBCLK'"
     ]
    },
    {
     "ename": "AttributeError",
     "evalue": "module 'cv2' has no attribute 'EVENT_LBUTTONDBCLK'",
     "output_type": "error",
     "traceback": [
      "\u001b[1;31m---------------------------------------------------------------------------\u001b[0m",
      "\u001b[1;31mAttributeError\u001b[0m                            Traceback (most recent call last)",
      "Cell \u001b[1;32mIn[6], line 12\u001b[0m, in \u001b[0;36mdraw_circle\u001b[1;34m(event, x, y, flags, param)\u001b[0m\n\u001b[0;32m     10\u001b[0m \u001b[38;5;28;01melif\u001b[39;00m event \u001b[38;5;241m==\u001b[39m cv2\u001b[38;5;241m.\u001b[39mEVENT_RBUTTONDOWN:\n\u001b[0;32m     11\u001b[0m     cv2\u001b[38;5;241m.\u001b[39mcircle(img, (x,y), \u001b[38;5;241m10\u001b[39m, (\u001b[38;5;241m255\u001b[39m,\u001b[38;5;241m0\u001b[39m,\u001b[38;5;241m0\u001b[39m), \u001b[38;5;241m2\u001b[39m)\n\u001b[1;32m---> 12\u001b[0m \u001b[38;5;28;01melif\u001b[39;00m event \u001b[38;5;241m==\u001b[39m \u001b[43mcv2\u001b[49m\u001b[38;5;241;43m.\u001b[39;49m\u001b[43mEVENT_LBUTTONDBCLK\u001b[49m:\n\u001b[0;32m     13\u001b[0m     cv2\u001b[38;5;241m.\u001b[39mcircle(img, (x,y), \u001b[38;5;241m20\u001b[39m, (\u001b[38;5;241m255\u001b[39m,\u001b[38;5;241m0\u001b[39m,\u001b[38;5;241m0\u001b[39m), \u001b[38;5;241m-\u001b[39m\u001b[38;5;241m1\u001b[39m)\n",
      "\u001b[1;31mAttributeError\u001b[0m: module 'cv2' has no attribute 'EVENT_LBUTTONDBCLK'"
     ]
    },
    {
     "ename": "AttributeError",
     "evalue": "module 'cv2' has no attribute 'EVENT_LBUTTONDBCLK'",
     "output_type": "error",
     "traceback": [
      "\u001b[1;31m---------------------------------------------------------------------------\u001b[0m",
      "\u001b[1;31mAttributeError\u001b[0m                            Traceback (most recent call last)",
      "Cell \u001b[1;32mIn[6], line 12\u001b[0m, in \u001b[0;36mdraw_circle\u001b[1;34m(event, x, y, flags, param)\u001b[0m\n\u001b[0;32m     10\u001b[0m \u001b[38;5;28;01melif\u001b[39;00m event \u001b[38;5;241m==\u001b[39m cv2\u001b[38;5;241m.\u001b[39mEVENT_RBUTTONDOWN:\n\u001b[0;32m     11\u001b[0m     cv2\u001b[38;5;241m.\u001b[39mcircle(img, (x,y), \u001b[38;5;241m10\u001b[39m, (\u001b[38;5;241m255\u001b[39m,\u001b[38;5;241m0\u001b[39m,\u001b[38;5;241m0\u001b[39m), \u001b[38;5;241m2\u001b[39m)\n\u001b[1;32m---> 12\u001b[0m \u001b[38;5;28;01melif\u001b[39;00m event \u001b[38;5;241m==\u001b[39m \u001b[43mcv2\u001b[49m\u001b[38;5;241;43m.\u001b[39;49m\u001b[43mEVENT_LBUTTONDBCLK\u001b[49m:\n\u001b[0;32m     13\u001b[0m     cv2\u001b[38;5;241m.\u001b[39mcircle(img, (x,y), \u001b[38;5;241m20\u001b[39m, (\u001b[38;5;241m255\u001b[39m,\u001b[38;5;241m0\u001b[39m,\u001b[38;5;241m0\u001b[39m), \u001b[38;5;241m-\u001b[39m\u001b[38;5;241m1\u001b[39m)\n",
      "\u001b[1;31mAttributeError\u001b[0m: module 'cv2' has no attribute 'EVENT_LBUTTONDBCLK'"
     ]
    },
    {
     "ename": "AttributeError",
     "evalue": "module 'cv2' has no attribute 'EVENT_LBUTTONDBCLK'",
     "output_type": "error",
     "traceback": [
      "\u001b[1;31m---------------------------------------------------------------------------\u001b[0m",
      "\u001b[1;31mAttributeError\u001b[0m                            Traceback (most recent call last)",
      "Cell \u001b[1;32mIn[6], line 12\u001b[0m, in \u001b[0;36mdraw_circle\u001b[1;34m(event, x, y, flags, param)\u001b[0m\n\u001b[0;32m     10\u001b[0m \u001b[38;5;28;01melif\u001b[39;00m event \u001b[38;5;241m==\u001b[39m cv2\u001b[38;5;241m.\u001b[39mEVENT_RBUTTONDOWN:\n\u001b[0;32m     11\u001b[0m     cv2\u001b[38;5;241m.\u001b[39mcircle(img, (x,y), \u001b[38;5;241m10\u001b[39m, (\u001b[38;5;241m255\u001b[39m,\u001b[38;5;241m0\u001b[39m,\u001b[38;5;241m0\u001b[39m), \u001b[38;5;241m2\u001b[39m)\n\u001b[1;32m---> 12\u001b[0m \u001b[38;5;28;01melif\u001b[39;00m event \u001b[38;5;241m==\u001b[39m \u001b[43mcv2\u001b[49m\u001b[38;5;241;43m.\u001b[39;49m\u001b[43mEVENT_LBUTTONDBCLK\u001b[49m:\n\u001b[0;32m     13\u001b[0m     cv2\u001b[38;5;241m.\u001b[39mcircle(img, (x,y), \u001b[38;5;241m20\u001b[39m, (\u001b[38;5;241m255\u001b[39m,\u001b[38;5;241m0\u001b[39m,\u001b[38;5;241m0\u001b[39m), \u001b[38;5;241m-\u001b[39m\u001b[38;5;241m1\u001b[39m)\n",
      "\u001b[1;31mAttributeError\u001b[0m: module 'cv2' has no attribute 'EVENT_LBUTTONDBCLK'"
     ]
    },
    {
     "ename": "AttributeError",
     "evalue": "module 'cv2' has no attribute 'EVENT_LBUTTONDBCLK'",
     "output_type": "error",
     "traceback": [
      "\u001b[1;31m---------------------------------------------------------------------------\u001b[0m",
      "\u001b[1;31mAttributeError\u001b[0m                            Traceback (most recent call last)",
      "Cell \u001b[1;32mIn[6], line 12\u001b[0m, in \u001b[0;36mdraw_circle\u001b[1;34m(event, x, y, flags, param)\u001b[0m\n\u001b[0;32m     10\u001b[0m \u001b[38;5;28;01melif\u001b[39;00m event \u001b[38;5;241m==\u001b[39m cv2\u001b[38;5;241m.\u001b[39mEVENT_RBUTTONDOWN:\n\u001b[0;32m     11\u001b[0m     cv2\u001b[38;5;241m.\u001b[39mcircle(img, (x,y), \u001b[38;5;241m10\u001b[39m, (\u001b[38;5;241m255\u001b[39m,\u001b[38;5;241m0\u001b[39m,\u001b[38;5;241m0\u001b[39m), \u001b[38;5;241m2\u001b[39m)\n\u001b[1;32m---> 12\u001b[0m \u001b[38;5;28;01melif\u001b[39;00m event \u001b[38;5;241m==\u001b[39m \u001b[43mcv2\u001b[49m\u001b[38;5;241;43m.\u001b[39;49m\u001b[43mEVENT_LBUTTONDBCLK\u001b[49m:\n\u001b[0;32m     13\u001b[0m     cv2\u001b[38;5;241m.\u001b[39mcircle(img, (x,y), \u001b[38;5;241m20\u001b[39m, (\u001b[38;5;241m255\u001b[39m,\u001b[38;5;241m0\u001b[39m,\u001b[38;5;241m0\u001b[39m), \u001b[38;5;241m-\u001b[39m\u001b[38;5;241m1\u001b[39m)\n",
      "\u001b[1;31mAttributeError\u001b[0m: module 'cv2' has no attribute 'EVENT_LBUTTONDBCLK'"
     ]
    },
    {
     "ename": "AttributeError",
     "evalue": "module 'cv2' has no attribute 'EVENT_LBUTTONDBCLK'",
     "output_type": "error",
     "traceback": [
      "\u001b[1;31m---------------------------------------------------------------------------\u001b[0m",
      "\u001b[1;31mAttributeError\u001b[0m                            Traceback (most recent call last)",
      "Cell \u001b[1;32mIn[6], line 12\u001b[0m, in \u001b[0;36mdraw_circle\u001b[1;34m(event, x, y, flags, param)\u001b[0m\n\u001b[0;32m     10\u001b[0m \u001b[38;5;28;01melif\u001b[39;00m event \u001b[38;5;241m==\u001b[39m cv2\u001b[38;5;241m.\u001b[39mEVENT_RBUTTONDOWN:\n\u001b[0;32m     11\u001b[0m     cv2\u001b[38;5;241m.\u001b[39mcircle(img, (x,y), \u001b[38;5;241m10\u001b[39m, (\u001b[38;5;241m255\u001b[39m,\u001b[38;5;241m0\u001b[39m,\u001b[38;5;241m0\u001b[39m), \u001b[38;5;241m2\u001b[39m)\n\u001b[1;32m---> 12\u001b[0m \u001b[38;5;28;01melif\u001b[39;00m event \u001b[38;5;241m==\u001b[39m \u001b[43mcv2\u001b[49m\u001b[38;5;241;43m.\u001b[39;49m\u001b[43mEVENT_LBUTTONDBCLK\u001b[49m:\n\u001b[0;32m     13\u001b[0m     cv2\u001b[38;5;241m.\u001b[39mcircle(img, (x,y), \u001b[38;5;241m20\u001b[39m, (\u001b[38;5;241m255\u001b[39m,\u001b[38;5;241m0\u001b[39m,\u001b[38;5;241m0\u001b[39m), \u001b[38;5;241m-\u001b[39m\u001b[38;5;241m1\u001b[39m)\n",
      "\u001b[1;31mAttributeError\u001b[0m: module 'cv2' has no attribute 'EVENT_LBUTTONDBCLK'"
     ]
    },
    {
     "ename": "AttributeError",
     "evalue": "module 'cv2' has no attribute 'EVENT_LBUTTONDBCLK'",
     "output_type": "error",
     "traceback": [
      "\u001b[1;31m---------------------------------------------------------------------------\u001b[0m",
      "\u001b[1;31mAttributeError\u001b[0m                            Traceback (most recent call last)",
      "Cell \u001b[1;32mIn[6], line 12\u001b[0m, in \u001b[0;36mdraw_circle\u001b[1;34m(event, x, y, flags, param)\u001b[0m\n\u001b[0;32m     10\u001b[0m \u001b[38;5;28;01melif\u001b[39;00m event \u001b[38;5;241m==\u001b[39m cv2\u001b[38;5;241m.\u001b[39mEVENT_RBUTTONDOWN:\n\u001b[0;32m     11\u001b[0m     cv2\u001b[38;5;241m.\u001b[39mcircle(img, (x,y), \u001b[38;5;241m10\u001b[39m, (\u001b[38;5;241m255\u001b[39m,\u001b[38;5;241m0\u001b[39m,\u001b[38;5;241m0\u001b[39m), \u001b[38;5;241m2\u001b[39m)\n\u001b[1;32m---> 12\u001b[0m \u001b[38;5;28;01melif\u001b[39;00m event \u001b[38;5;241m==\u001b[39m \u001b[43mcv2\u001b[49m\u001b[38;5;241;43m.\u001b[39;49m\u001b[43mEVENT_LBUTTONDBCLK\u001b[49m:\n\u001b[0;32m     13\u001b[0m     cv2\u001b[38;5;241m.\u001b[39mcircle(img, (x,y), \u001b[38;5;241m20\u001b[39m, (\u001b[38;5;241m255\u001b[39m,\u001b[38;5;241m0\u001b[39m,\u001b[38;5;241m0\u001b[39m), \u001b[38;5;241m-\u001b[39m\u001b[38;5;241m1\u001b[39m)\n",
      "\u001b[1;31mAttributeError\u001b[0m: module 'cv2' has no attribute 'EVENT_LBUTTONDBCLK'"
     ]
    },
    {
     "ename": "AttributeError",
     "evalue": "module 'cv2' has no attribute 'EVENT_LBUTTONDBCLK'",
     "output_type": "error",
     "traceback": [
      "\u001b[1;31m---------------------------------------------------------------------------\u001b[0m",
      "\u001b[1;31mAttributeError\u001b[0m                            Traceback (most recent call last)",
      "Cell \u001b[1;32mIn[6], line 12\u001b[0m, in \u001b[0;36mdraw_circle\u001b[1;34m(event, x, y, flags, param)\u001b[0m\n\u001b[0;32m     10\u001b[0m \u001b[38;5;28;01melif\u001b[39;00m event \u001b[38;5;241m==\u001b[39m cv2\u001b[38;5;241m.\u001b[39mEVENT_RBUTTONDOWN:\n\u001b[0;32m     11\u001b[0m     cv2\u001b[38;5;241m.\u001b[39mcircle(img, (x,y), \u001b[38;5;241m10\u001b[39m, (\u001b[38;5;241m255\u001b[39m,\u001b[38;5;241m0\u001b[39m,\u001b[38;5;241m0\u001b[39m), \u001b[38;5;241m2\u001b[39m)\n\u001b[1;32m---> 12\u001b[0m \u001b[38;5;28;01melif\u001b[39;00m event \u001b[38;5;241m==\u001b[39m \u001b[43mcv2\u001b[49m\u001b[38;5;241;43m.\u001b[39;49m\u001b[43mEVENT_LBUTTONDBCLK\u001b[49m:\n\u001b[0;32m     13\u001b[0m     cv2\u001b[38;5;241m.\u001b[39mcircle(img, (x,y), \u001b[38;5;241m20\u001b[39m, (\u001b[38;5;241m255\u001b[39m,\u001b[38;5;241m0\u001b[39m,\u001b[38;5;241m0\u001b[39m), \u001b[38;5;241m-\u001b[39m\u001b[38;5;241m1\u001b[39m)\n",
      "\u001b[1;31mAttributeError\u001b[0m: module 'cv2' has no attribute 'EVENT_LBUTTONDBCLK'"
     ]
    },
    {
     "ename": "AttributeError",
     "evalue": "module 'cv2' has no attribute 'EVENT_LBUTTONDBCLK'",
     "output_type": "error",
     "traceback": [
      "\u001b[1;31m---------------------------------------------------------------------------\u001b[0m",
      "\u001b[1;31mAttributeError\u001b[0m                            Traceback (most recent call last)",
      "Cell \u001b[1;32mIn[6], line 12\u001b[0m, in \u001b[0;36mdraw_circle\u001b[1;34m(event, x, y, flags, param)\u001b[0m\n\u001b[0;32m     10\u001b[0m \u001b[38;5;28;01melif\u001b[39;00m event \u001b[38;5;241m==\u001b[39m cv2\u001b[38;5;241m.\u001b[39mEVENT_RBUTTONDOWN:\n\u001b[0;32m     11\u001b[0m     cv2\u001b[38;5;241m.\u001b[39mcircle(img, (x,y), \u001b[38;5;241m10\u001b[39m, (\u001b[38;5;241m255\u001b[39m,\u001b[38;5;241m0\u001b[39m,\u001b[38;5;241m0\u001b[39m), \u001b[38;5;241m2\u001b[39m)\n\u001b[1;32m---> 12\u001b[0m \u001b[38;5;28;01melif\u001b[39;00m event \u001b[38;5;241m==\u001b[39m \u001b[43mcv2\u001b[49m\u001b[38;5;241;43m.\u001b[39;49m\u001b[43mEVENT_LBUTTONDBCLK\u001b[49m:\n\u001b[0;32m     13\u001b[0m     cv2\u001b[38;5;241m.\u001b[39mcircle(img, (x,y), \u001b[38;5;241m20\u001b[39m, (\u001b[38;5;241m255\u001b[39m,\u001b[38;5;241m0\u001b[39m,\u001b[38;5;241m0\u001b[39m), \u001b[38;5;241m-\u001b[39m\u001b[38;5;241m1\u001b[39m)\n",
      "\u001b[1;31mAttributeError\u001b[0m: module 'cv2' has no attribute 'EVENT_LBUTTONDBCLK'"
     ]
    },
    {
     "ename": "AttributeError",
     "evalue": "module 'cv2' has no attribute 'EVENT_LBUTTONDBCLK'",
     "output_type": "error",
     "traceback": [
      "\u001b[1;31m---------------------------------------------------------------------------\u001b[0m",
      "\u001b[1;31mAttributeError\u001b[0m                            Traceback (most recent call last)",
      "Cell \u001b[1;32mIn[6], line 12\u001b[0m, in \u001b[0;36mdraw_circle\u001b[1;34m(event, x, y, flags, param)\u001b[0m\n\u001b[0;32m     10\u001b[0m \u001b[38;5;28;01melif\u001b[39;00m event \u001b[38;5;241m==\u001b[39m cv2\u001b[38;5;241m.\u001b[39mEVENT_RBUTTONDOWN:\n\u001b[0;32m     11\u001b[0m     cv2\u001b[38;5;241m.\u001b[39mcircle(img, (x,y), \u001b[38;5;241m10\u001b[39m, (\u001b[38;5;241m255\u001b[39m,\u001b[38;5;241m0\u001b[39m,\u001b[38;5;241m0\u001b[39m), \u001b[38;5;241m2\u001b[39m)\n\u001b[1;32m---> 12\u001b[0m \u001b[38;5;28;01melif\u001b[39;00m event \u001b[38;5;241m==\u001b[39m \u001b[43mcv2\u001b[49m\u001b[38;5;241;43m.\u001b[39;49m\u001b[43mEVENT_LBUTTONDBCLK\u001b[49m:\n\u001b[0;32m     13\u001b[0m     cv2\u001b[38;5;241m.\u001b[39mcircle(img, (x,y), \u001b[38;5;241m20\u001b[39m, (\u001b[38;5;241m255\u001b[39m,\u001b[38;5;241m0\u001b[39m,\u001b[38;5;241m0\u001b[39m), \u001b[38;5;241m-\u001b[39m\u001b[38;5;241m1\u001b[39m)\n",
      "\u001b[1;31mAttributeError\u001b[0m: module 'cv2' has no attribute 'EVENT_LBUTTONDBCLK'"
     ]
    },
    {
     "ename": "AttributeError",
     "evalue": "module 'cv2' has no attribute 'EVENT_LBUTTONDBCLK'",
     "output_type": "error",
     "traceback": [
      "\u001b[1;31m---------------------------------------------------------------------------\u001b[0m",
      "\u001b[1;31mAttributeError\u001b[0m                            Traceback (most recent call last)",
      "Cell \u001b[1;32mIn[6], line 12\u001b[0m, in \u001b[0;36mdraw_circle\u001b[1;34m(event, x, y, flags, param)\u001b[0m\n\u001b[0;32m     10\u001b[0m \u001b[38;5;28;01melif\u001b[39;00m event \u001b[38;5;241m==\u001b[39m cv2\u001b[38;5;241m.\u001b[39mEVENT_RBUTTONDOWN:\n\u001b[0;32m     11\u001b[0m     cv2\u001b[38;5;241m.\u001b[39mcircle(img, (x,y), \u001b[38;5;241m10\u001b[39m, (\u001b[38;5;241m255\u001b[39m,\u001b[38;5;241m0\u001b[39m,\u001b[38;5;241m0\u001b[39m), \u001b[38;5;241m2\u001b[39m)\n\u001b[1;32m---> 12\u001b[0m \u001b[38;5;28;01melif\u001b[39;00m event \u001b[38;5;241m==\u001b[39m \u001b[43mcv2\u001b[49m\u001b[38;5;241;43m.\u001b[39;49m\u001b[43mEVENT_LBUTTONDBCLK\u001b[49m:\n\u001b[0;32m     13\u001b[0m     cv2\u001b[38;5;241m.\u001b[39mcircle(img, (x,y), \u001b[38;5;241m20\u001b[39m, (\u001b[38;5;241m255\u001b[39m,\u001b[38;5;241m0\u001b[39m,\u001b[38;5;241m0\u001b[39m), \u001b[38;5;241m-\u001b[39m\u001b[38;5;241m1\u001b[39m)\n",
      "\u001b[1;31mAttributeError\u001b[0m: module 'cv2' has no attribute 'EVENT_LBUTTONDBCLK'"
     ]
    },
    {
     "ename": "AttributeError",
     "evalue": "module 'cv2' has no attribute 'EVENT_LBUTTONDBCLK'",
     "output_type": "error",
     "traceback": [
      "\u001b[1;31m---------------------------------------------------------------------------\u001b[0m",
      "\u001b[1;31mAttributeError\u001b[0m                            Traceback (most recent call last)",
      "Cell \u001b[1;32mIn[6], line 12\u001b[0m, in \u001b[0;36mdraw_circle\u001b[1;34m(event, x, y, flags, param)\u001b[0m\n\u001b[0;32m     10\u001b[0m \u001b[38;5;28;01melif\u001b[39;00m event \u001b[38;5;241m==\u001b[39m cv2\u001b[38;5;241m.\u001b[39mEVENT_RBUTTONDOWN:\n\u001b[0;32m     11\u001b[0m     cv2\u001b[38;5;241m.\u001b[39mcircle(img, (x,y), \u001b[38;5;241m10\u001b[39m, (\u001b[38;5;241m255\u001b[39m,\u001b[38;5;241m0\u001b[39m,\u001b[38;5;241m0\u001b[39m), \u001b[38;5;241m2\u001b[39m)\n\u001b[1;32m---> 12\u001b[0m \u001b[38;5;28;01melif\u001b[39;00m event \u001b[38;5;241m==\u001b[39m \u001b[43mcv2\u001b[49m\u001b[38;5;241;43m.\u001b[39;49m\u001b[43mEVENT_LBUTTONDBCLK\u001b[49m:\n\u001b[0;32m     13\u001b[0m     cv2\u001b[38;5;241m.\u001b[39mcircle(img, (x,y), \u001b[38;5;241m20\u001b[39m, (\u001b[38;5;241m255\u001b[39m,\u001b[38;5;241m0\u001b[39m,\u001b[38;5;241m0\u001b[39m), \u001b[38;5;241m-\u001b[39m\u001b[38;5;241m1\u001b[39m)\n",
      "\u001b[1;31mAttributeError\u001b[0m: module 'cv2' has no attribute 'EVENT_LBUTTONDBCLK'"
     ]
    },
    {
     "ename": "AttributeError",
     "evalue": "module 'cv2' has no attribute 'EVENT_LBUTTONDBCLK'",
     "output_type": "error",
     "traceback": [
      "\u001b[1;31m---------------------------------------------------------------------------\u001b[0m",
      "\u001b[1;31mAttributeError\u001b[0m                            Traceback (most recent call last)",
      "Cell \u001b[1;32mIn[6], line 12\u001b[0m, in \u001b[0;36mdraw_circle\u001b[1;34m(event, x, y, flags, param)\u001b[0m\n\u001b[0;32m     10\u001b[0m \u001b[38;5;28;01melif\u001b[39;00m event \u001b[38;5;241m==\u001b[39m cv2\u001b[38;5;241m.\u001b[39mEVENT_RBUTTONDOWN:\n\u001b[0;32m     11\u001b[0m     cv2\u001b[38;5;241m.\u001b[39mcircle(img, (x,y), \u001b[38;5;241m10\u001b[39m, (\u001b[38;5;241m255\u001b[39m,\u001b[38;5;241m0\u001b[39m,\u001b[38;5;241m0\u001b[39m), \u001b[38;5;241m2\u001b[39m)\n\u001b[1;32m---> 12\u001b[0m \u001b[38;5;28;01melif\u001b[39;00m event \u001b[38;5;241m==\u001b[39m \u001b[43mcv2\u001b[49m\u001b[38;5;241;43m.\u001b[39;49m\u001b[43mEVENT_LBUTTONDBCLK\u001b[49m:\n\u001b[0;32m     13\u001b[0m     cv2\u001b[38;5;241m.\u001b[39mcircle(img, (x,y), \u001b[38;5;241m20\u001b[39m, (\u001b[38;5;241m255\u001b[39m,\u001b[38;5;241m0\u001b[39m,\u001b[38;5;241m0\u001b[39m), \u001b[38;5;241m-\u001b[39m\u001b[38;5;241m1\u001b[39m)\n",
      "\u001b[1;31mAttributeError\u001b[0m: module 'cv2' has no attribute 'EVENT_LBUTTONDBCLK'"
     ]
    },
    {
     "ename": "AttributeError",
     "evalue": "module 'cv2' has no attribute 'EVENT_LBUTTONDBCLK'",
     "output_type": "error",
     "traceback": [
      "\u001b[1;31m---------------------------------------------------------------------------\u001b[0m",
      "\u001b[1;31mAttributeError\u001b[0m                            Traceback (most recent call last)",
      "Cell \u001b[1;32mIn[6], line 12\u001b[0m, in \u001b[0;36mdraw_circle\u001b[1;34m(event, x, y, flags, param)\u001b[0m\n\u001b[0;32m     10\u001b[0m \u001b[38;5;28;01melif\u001b[39;00m event \u001b[38;5;241m==\u001b[39m cv2\u001b[38;5;241m.\u001b[39mEVENT_RBUTTONDOWN:\n\u001b[0;32m     11\u001b[0m     cv2\u001b[38;5;241m.\u001b[39mcircle(img, (x,y), \u001b[38;5;241m10\u001b[39m, (\u001b[38;5;241m255\u001b[39m,\u001b[38;5;241m0\u001b[39m,\u001b[38;5;241m0\u001b[39m), \u001b[38;5;241m2\u001b[39m)\n\u001b[1;32m---> 12\u001b[0m \u001b[38;5;28;01melif\u001b[39;00m event \u001b[38;5;241m==\u001b[39m \u001b[43mcv2\u001b[49m\u001b[38;5;241;43m.\u001b[39;49m\u001b[43mEVENT_LBUTTONDBCLK\u001b[49m:\n\u001b[0;32m     13\u001b[0m     cv2\u001b[38;5;241m.\u001b[39mcircle(img, (x,y), \u001b[38;5;241m20\u001b[39m, (\u001b[38;5;241m255\u001b[39m,\u001b[38;5;241m0\u001b[39m,\u001b[38;5;241m0\u001b[39m), \u001b[38;5;241m-\u001b[39m\u001b[38;5;241m1\u001b[39m)\n",
      "\u001b[1;31mAttributeError\u001b[0m: module 'cv2' has no attribute 'EVENT_LBUTTONDBCLK'"
     ]
    },
    {
     "ename": "AttributeError",
     "evalue": "module 'cv2' has no attribute 'EVENT_LBUTTONDBCLK'",
     "output_type": "error",
     "traceback": [
      "\u001b[1;31m---------------------------------------------------------------------------\u001b[0m",
      "\u001b[1;31mAttributeError\u001b[0m                            Traceback (most recent call last)",
      "Cell \u001b[1;32mIn[6], line 12\u001b[0m, in \u001b[0;36mdraw_circle\u001b[1;34m(event, x, y, flags, param)\u001b[0m\n\u001b[0;32m     10\u001b[0m \u001b[38;5;28;01melif\u001b[39;00m event \u001b[38;5;241m==\u001b[39m cv2\u001b[38;5;241m.\u001b[39mEVENT_RBUTTONDOWN:\n\u001b[0;32m     11\u001b[0m     cv2\u001b[38;5;241m.\u001b[39mcircle(img, (x,y), \u001b[38;5;241m10\u001b[39m, (\u001b[38;5;241m255\u001b[39m,\u001b[38;5;241m0\u001b[39m,\u001b[38;5;241m0\u001b[39m), \u001b[38;5;241m2\u001b[39m)\n\u001b[1;32m---> 12\u001b[0m \u001b[38;5;28;01melif\u001b[39;00m event \u001b[38;5;241m==\u001b[39m \u001b[43mcv2\u001b[49m\u001b[38;5;241;43m.\u001b[39;49m\u001b[43mEVENT_LBUTTONDBCLK\u001b[49m:\n\u001b[0;32m     13\u001b[0m     cv2\u001b[38;5;241m.\u001b[39mcircle(img, (x,y), \u001b[38;5;241m20\u001b[39m, (\u001b[38;5;241m255\u001b[39m,\u001b[38;5;241m0\u001b[39m,\u001b[38;5;241m0\u001b[39m), \u001b[38;5;241m-\u001b[39m\u001b[38;5;241m1\u001b[39m)\n",
      "\u001b[1;31mAttributeError\u001b[0m: module 'cv2' has no attribute 'EVENT_LBUTTONDBCLK'"
     ]
    },
    {
     "ename": "AttributeError",
     "evalue": "module 'cv2' has no attribute 'EVENT_LBUTTONDBCLK'",
     "output_type": "error",
     "traceback": [
      "\u001b[1;31m---------------------------------------------------------------------------\u001b[0m",
      "\u001b[1;31mAttributeError\u001b[0m                            Traceback (most recent call last)",
      "Cell \u001b[1;32mIn[6], line 12\u001b[0m, in \u001b[0;36mdraw_circle\u001b[1;34m(event, x, y, flags, param)\u001b[0m\n\u001b[0;32m     10\u001b[0m \u001b[38;5;28;01melif\u001b[39;00m event \u001b[38;5;241m==\u001b[39m cv2\u001b[38;5;241m.\u001b[39mEVENT_RBUTTONDOWN:\n\u001b[0;32m     11\u001b[0m     cv2\u001b[38;5;241m.\u001b[39mcircle(img, (x,y), \u001b[38;5;241m10\u001b[39m, (\u001b[38;5;241m255\u001b[39m,\u001b[38;5;241m0\u001b[39m,\u001b[38;5;241m0\u001b[39m), \u001b[38;5;241m2\u001b[39m)\n\u001b[1;32m---> 12\u001b[0m \u001b[38;5;28;01melif\u001b[39;00m event \u001b[38;5;241m==\u001b[39m \u001b[43mcv2\u001b[49m\u001b[38;5;241;43m.\u001b[39;49m\u001b[43mEVENT_LBUTTONDBCLK\u001b[49m:\n\u001b[0;32m     13\u001b[0m     cv2\u001b[38;5;241m.\u001b[39mcircle(img, (x,y), \u001b[38;5;241m20\u001b[39m, (\u001b[38;5;241m255\u001b[39m,\u001b[38;5;241m0\u001b[39m,\u001b[38;5;241m0\u001b[39m), \u001b[38;5;241m-\u001b[39m\u001b[38;5;241m1\u001b[39m)\n",
      "\u001b[1;31mAttributeError\u001b[0m: module 'cv2' has no attribute 'EVENT_LBUTTONDBCLK'"
     ]
    },
    {
     "ename": "AttributeError",
     "evalue": "module 'cv2' has no attribute 'EVENT_LBUTTONDBCLK'",
     "output_type": "error",
     "traceback": [
      "\u001b[1;31m---------------------------------------------------------------------------\u001b[0m",
      "\u001b[1;31mAttributeError\u001b[0m                            Traceback (most recent call last)",
      "Cell \u001b[1;32mIn[6], line 12\u001b[0m, in \u001b[0;36mdraw_circle\u001b[1;34m(event, x, y, flags, param)\u001b[0m\n\u001b[0;32m     10\u001b[0m \u001b[38;5;28;01melif\u001b[39;00m event \u001b[38;5;241m==\u001b[39m cv2\u001b[38;5;241m.\u001b[39mEVENT_RBUTTONDOWN:\n\u001b[0;32m     11\u001b[0m     cv2\u001b[38;5;241m.\u001b[39mcircle(img, (x,y), \u001b[38;5;241m10\u001b[39m, (\u001b[38;5;241m255\u001b[39m,\u001b[38;5;241m0\u001b[39m,\u001b[38;5;241m0\u001b[39m), \u001b[38;5;241m2\u001b[39m)\n\u001b[1;32m---> 12\u001b[0m \u001b[38;5;28;01melif\u001b[39;00m event \u001b[38;5;241m==\u001b[39m \u001b[43mcv2\u001b[49m\u001b[38;5;241;43m.\u001b[39;49m\u001b[43mEVENT_LBUTTONDBCLK\u001b[49m:\n\u001b[0;32m     13\u001b[0m     cv2\u001b[38;5;241m.\u001b[39mcircle(img, (x,y), \u001b[38;5;241m20\u001b[39m, (\u001b[38;5;241m255\u001b[39m,\u001b[38;5;241m0\u001b[39m,\u001b[38;5;241m0\u001b[39m), \u001b[38;5;241m-\u001b[39m\u001b[38;5;241m1\u001b[39m)\n",
      "\u001b[1;31mAttributeError\u001b[0m: module 'cv2' has no attribute 'EVENT_LBUTTONDBCLK'"
     ]
    },
    {
     "ename": "AttributeError",
     "evalue": "module 'cv2' has no attribute 'EVENT_LBUTTONDBCLK'",
     "output_type": "error",
     "traceback": [
      "\u001b[1;31m---------------------------------------------------------------------------\u001b[0m",
      "\u001b[1;31mAttributeError\u001b[0m                            Traceback (most recent call last)",
      "Cell \u001b[1;32mIn[6], line 12\u001b[0m, in \u001b[0;36mdraw_circle\u001b[1;34m(event, x, y, flags, param)\u001b[0m\n\u001b[0;32m     10\u001b[0m \u001b[38;5;28;01melif\u001b[39;00m event \u001b[38;5;241m==\u001b[39m cv2\u001b[38;5;241m.\u001b[39mEVENT_RBUTTONDOWN:\n\u001b[0;32m     11\u001b[0m     cv2\u001b[38;5;241m.\u001b[39mcircle(img, (x,y), \u001b[38;5;241m10\u001b[39m, (\u001b[38;5;241m255\u001b[39m,\u001b[38;5;241m0\u001b[39m,\u001b[38;5;241m0\u001b[39m), \u001b[38;5;241m2\u001b[39m)\n\u001b[1;32m---> 12\u001b[0m \u001b[38;5;28;01melif\u001b[39;00m event \u001b[38;5;241m==\u001b[39m \u001b[43mcv2\u001b[49m\u001b[38;5;241;43m.\u001b[39;49m\u001b[43mEVENT_LBUTTONDBCLK\u001b[49m:\n\u001b[0;32m     13\u001b[0m     cv2\u001b[38;5;241m.\u001b[39mcircle(img, (x,y), \u001b[38;5;241m20\u001b[39m, (\u001b[38;5;241m255\u001b[39m,\u001b[38;5;241m0\u001b[39m,\u001b[38;5;241m0\u001b[39m), \u001b[38;5;241m-\u001b[39m\u001b[38;5;241m1\u001b[39m)\n",
      "\u001b[1;31mAttributeError\u001b[0m: module 'cv2' has no attribute 'EVENT_LBUTTONDBCLK'"
     ]
    },
    {
     "ename": "AttributeError",
     "evalue": "module 'cv2' has no attribute 'EVENT_LBUTTONDBCLK'",
     "output_type": "error",
     "traceback": [
      "\u001b[1;31m---------------------------------------------------------------------------\u001b[0m",
      "\u001b[1;31mAttributeError\u001b[0m                            Traceback (most recent call last)",
      "Cell \u001b[1;32mIn[6], line 12\u001b[0m, in \u001b[0;36mdraw_circle\u001b[1;34m(event, x, y, flags, param)\u001b[0m\n\u001b[0;32m     10\u001b[0m \u001b[38;5;28;01melif\u001b[39;00m event \u001b[38;5;241m==\u001b[39m cv2\u001b[38;5;241m.\u001b[39mEVENT_RBUTTONDOWN:\n\u001b[0;32m     11\u001b[0m     cv2\u001b[38;5;241m.\u001b[39mcircle(img, (x,y), \u001b[38;5;241m10\u001b[39m, (\u001b[38;5;241m255\u001b[39m,\u001b[38;5;241m0\u001b[39m,\u001b[38;5;241m0\u001b[39m), \u001b[38;5;241m2\u001b[39m)\n\u001b[1;32m---> 12\u001b[0m \u001b[38;5;28;01melif\u001b[39;00m event \u001b[38;5;241m==\u001b[39m \u001b[43mcv2\u001b[49m\u001b[38;5;241;43m.\u001b[39;49m\u001b[43mEVENT_LBUTTONDBCLK\u001b[49m:\n\u001b[0;32m     13\u001b[0m     cv2\u001b[38;5;241m.\u001b[39mcircle(img, (x,y), \u001b[38;5;241m20\u001b[39m, (\u001b[38;5;241m255\u001b[39m,\u001b[38;5;241m0\u001b[39m,\u001b[38;5;241m0\u001b[39m), \u001b[38;5;241m-\u001b[39m\u001b[38;5;241m1\u001b[39m)\n",
      "\u001b[1;31mAttributeError\u001b[0m: module 'cv2' has no attribute 'EVENT_LBUTTONDBCLK'"
     ]
    },
    {
     "ename": "AttributeError",
     "evalue": "module 'cv2' has no attribute 'EVENT_LBUTTONDBCLK'",
     "output_type": "error",
     "traceback": [
      "\u001b[1;31m---------------------------------------------------------------------------\u001b[0m",
      "\u001b[1;31mAttributeError\u001b[0m                            Traceback (most recent call last)",
      "Cell \u001b[1;32mIn[6], line 12\u001b[0m, in \u001b[0;36mdraw_circle\u001b[1;34m(event, x, y, flags, param)\u001b[0m\n\u001b[0;32m     10\u001b[0m \u001b[38;5;28;01melif\u001b[39;00m event \u001b[38;5;241m==\u001b[39m cv2\u001b[38;5;241m.\u001b[39mEVENT_RBUTTONDOWN:\n\u001b[0;32m     11\u001b[0m     cv2\u001b[38;5;241m.\u001b[39mcircle(img, (x,y), \u001b[38;5;241m10\u001b[39m, (\u001b[38;5;241m255\u001b[39m,\u001b[38;5;241m0\u001b[39m,\u001b[38;5;241m0\u001b[39m), \u001b[38;5;241m2\u001b[39m)\n\u001b[1;32m---> 12\u001b[0m \u001b[38;5;28;01melif\u001b[39;00m event \u001b[38;5;241m==\u001b[39m \u001b[43mcv2\u001b[49m\u001b[38;5;241;43m.\u001b[39;49m\u001b[43mEVENT_LBUTTONDBCLK\u001b[49m:\n\u001b[0;32m     13\u001b[0m     cv2\u001b[38;5;241m.\u001b[39mcircle(img, (x,y), \u001b[38;5;241m20\u001b[39m, (\u001b[38;5;241m255\u001b[39m,\u001b[38;5;241m0\u001b[39m,\u001b[38;5;241m0\u001b[39m), \u001b[38;5;241m-\u001b[39m\u001b[38;5;241m1\u001b[39m)\n",
      "\u001b[1;31mAttributeError\u001b[0m: module 'cv2' has no attribute 'EVENT_LBUTTONDBCLK'"
     ]
    },
    {
     "ename": "AttributeError",
     "evalue": "module 'cv2' has no attribute 'EVENT_LBUTTONDBCLK'",
     "output_type": "error",
     "traceback": [
      "\u001b[1;31m---------------------------------------------------------------------------\u001b[0m",
      "\u001b[1;31mAttributeError\u001b[0m                            Traceback (most recent call last)",
      "Cell \u001b[1;32mIn[6], line 12\u001b[0m, in \u001b[0;36mdraw_circle\u001b[1;34m(event, x, y, flags, param)\u001b[0m\n\u001b[0;32m     10\u001b[0m \u001b[38;5;28;01melif\u001b[39;00m event \u001b[38;5;241m==\u001b[39m cv2\u001b[38;5;241m.\u001b[39mEVENT_RBUTTONDOWN:\n\u001b[0;32m     11\u001b[0m     cv2\u001b[38;5;241m.\u001b[39mcircle(img, (x,y), \u001b[38;5;241m10\u001b[39m, (\u001b[38;5;241m255\u001b[39m,\u001b[38;5;241m0\u001b[39m,\u001b[38;5;241m0\u001b[39m), \u001b[38;5;241m2\u001b[39m)\n\u001b[1;32m---> 12\u001b[0m \u001b[38;5;28;01melif\u001b[39;00m event \u001b[38;5;241m==\u001b[39m \u001b[43mcv2\u001b[49m\u001b[38;5;241;43m.\u001b[39;49m\u001b[43mEVENT_LBUTTONDBCLK\u001b[49m:\n\u001b[0;32m     13\u001b[0m     cv2\u001b[38;5;241m.\u001b[39mcircle(img, (x,y), \u001b[38;5;241m20\u001b[39m, (\u001b[38;5;241m255\u001b[39m,\u001b[38;5;241m0\u001b[39m,\u001b[38;5;241m0\u001b[39m), \u001b[38;5;241m-\u001b[39m\u001b[38;5;241m1\u001b[39m)\n",
      "\u001b[1;31mAttributeError\u001b[0m: module 'cv2' has no attribute 'EVENT_LBUTTONDBCLK'"
     ]
    },
    {
     "ename": "AttributeError",
     "evalue": "module 'cv2' has no attribute 'EVENT_LBUTTONDBCLK'",
     "output_type": "error",
     "traceback": [
      "\u001b[1;31m---------------------------------------------------------------------------\u001b[0m",
      "\u001b[1;31mAttributeError\u001b[0m                            Traceback (most recent call last)",
      "Cell \u001b[1;32mIn[6], line 12\u001b[0m, in \u001b[0;36mdraw_circle\u001b[1;34m(event, x, y, flags, param)\u001b[0m\n\u001b[0;32m     10\u001b[0m \u001b[38;5;28;01melif\u001b[39;00m event \u001b[38;5;241m==\u001b[39m cv2\u001b[38;5;241m.\u001b[39mEVENT_RBUTTONDOWN:\n\u001b[0;32m     11\u001b[0m     cv2\u001b[38;5;241m.\u001b[39mcircle(img, (x,y), \u001b[38;5;241m10\u001b[39m, (\u001b[38;5;241m255\u001b[39m,\u001b[38;5;241m0\u001b[39m,\u001b[38;5;241m0\u001b[39m), \u001b[38;5;241m2\u001b[39m)\n\u001b[1;32m---> 12\u001b[0m \u001b[38;5;28;01melif\u001b[39;00m event \u001b[38;5;241m==\u001b[39m \u001b[43mcv2\u001b[49m\u001b[38;5;241;43m.\u001b[39;49m\u001b[43mEVENT_LBUTTONDBCLK\u001b[49m:\n\u001b[0;32m     13\u001b[0m     cv2\u001b[38;5;241m.\u001b[39mcircle(img, (x,y), \u001b[38;5;241m20\u001b[39m, (\u001b[38;5;241m255\u001b[39m,\u001b[38;5;241m0\u001b[39m,\u001b[38;5;241m0\u001b[39m), \u001b[38;5;241m-\u001b[39m\u001b[38;5;241m1\u001b[39m)\n",
      "\u001b[1;31mAttributeError\u001b[0m: module 'cv2' has no attribute 'EVENT_LBUTTONDBCLK'"
     ]
    },
    {
     "ename": "AttributeError",
     "evalue": "module 'cv2' has no attribute 'EVENT_LBUTTONDBCLK'",
     "output_type": "error",
     "traceback": [
      "\u001b[1;31m---------------------------------------------------------------------------\u001b[0m",
      "\u001b[1;31mAttributeError\u001b[0m                            Traceback (most recent call last)",
      "Cell \u001b[1;32mIn[6], line 12\u001b[0m, in \u001b[0;36mdraw_circle\u001b[1;34m(event, x, y, flags, param)\u001b[0m\n\u001b[0;32m     10\u001b[0m \u001b[38;5;28;01melif\u001b[39;00m event \u001b[38;5;241m==\u001b[39m cv2\u001b[38;5;241m.\u001b[39mEVENT_RBUTTONDOWN:\n\u001b[0;32m     11\u001b[0m     cv2\u001b[38;5;241m.\u001b[39mcircle(img, (x,y), \u001b[38;5;241m10\u001b[39m, (\u001b[38;5;241m255\u001b[39m,\u001b[38;5;241m0\u001b[39m,\u001b[38;5;241m0\u001b[39m), \u001b[38;5;241m2\u001b[39m)\n\u001b[1;32m---> 12\u001b[0m \u001b[38;5;28;01melif\u001b[39;00m event \u001b[38;5;241m==\u001b[39m \u001b[43mcv2\u001b[49m\u001b[38;5;241;43m.\u001b[39;49m\u001b[43mEVENT_LBUTTONDBCLK\u001b[49m:\n\u001b[0;32m     13\u001b[0m     cv2\u001b[38;5;241m.\u001b[39mcircle(img, (x,y), \u001b[38;5;241m20\u001b[39m, (\u001b[38;5;241m255\u001b[39m,\u001b[38;5;241m0\u001b[39m,\u001b[38;5;241m0\u001b[39m), \u001b[38;5;241m-\u001b[39m\u001b[38;5;241m1\u001b[39m)\n",
      "\u001b[1;31mAttributeError\u001b[0m: module 'cv2' has no attribute 'EVENT_LBUTTONDBCLK'"
     ]
    },
    {
     "ename": "AttributeError",
     "evalue": "module 'cv2' has no attribute 'EVENT_LBUTTONDBCLK'",
     "output_type": "error",
     "traceback": [
      "\u001b[1;31m---------------------------------------------------------------------------\u001b[0m",
      "\u001b[1;31mAttributeError\u001b[0m                            Traceback (most recent call last)",
      "Cell \u001b[1;32mIn[6], line 12\u001b[0m, in \u001b[0;36mdraw_circle\u001b[1;34m(event, x, y, flags, param)\u001b[0m\n\u001b[0;32m     10\u001b[0m \u001b[38;5;28;01melif\u001b[39;00m event \u001b[38;5;241m==\u001b[39m cv2\u001b[38;5;241m.\u001b[39mEVENT_RBUTTONDOWN:\n\u001b[0;32m     11\u001b[0m     cv2\u001b[38;5;241m.\u001b[39mcircle(img, (x,y), \u001b[38;5;241m10\u001b[39m, (\u001b[38;5;241m255\u001b[39m,\u001b[38;5;241m0\u001b[39m,\u001b[38;5;241m0\u001b[39m), \u001b[38;5;241m2\u001b[39m)\n\u001b[1;32m---> 12\u001b[0m \u001b[38;5;28;01melif\u001b[39;00m event \u001b[38;5;241m==\u001b[39m \u001b[43mcv2\u001b[49m\u001b[38;5;241;43m.\u001b[39;49m\u001b[43mEVENT_LBUTTONDBCLK\u001b[49m:\n\u001b[0;32m     13\u001b[0m     cv2\u001b[38;5;241m.\u001b[39mcircle(img, (x,y), \u001b[38;5;241m20\u001b[39m, (\u001b[38;5;241m255\u001b[39m,\u001b[38;5;241m0\u001b[39m,\u001b[38;5;241m0\u001b[39m), \u001b[38;5;241m-\u001b[39m\u001b[38;5;241m1\u001b[39m)\n",
      "\u001b[1;31mAttributeError\u001b[0m: module 'cv2' has no attribute 'EVENT_LBUTTONDBCLK'"
     ]
    },
    {
     "ename": "AttributeError",
     "evalue": "module 'cv2' has no attribute 'EVENT_LBUTTONDBCLK'",
     "output_type": "error",
     "traceback": [
      "\u001b[1;31m---------------------------------------------------------------------------\u001b[0m",
      "\u001b[1;31mAttributeError\u001b[0m                            Traceback (most recent call last)",
      "Cell \u001b[1;32mIn[6], line 12\u001b[0m, in \u001b[0;36mdraw_circle\u001b[1;34m(event, x, y, flags, param)\u001b[0m\n\u001b[0;32m     10\u001b[0m \u001b[38;5;28;01melif\u001b[39;00m event \u001b[38;5;241m==\u001b[39m cv2\u001b[38;5;241m.\u001b[39mEVENT_RBUTTONDOWN:\n\u001b[0;32m     11\u001b[0m     cv2\u001b[38;5;241m.\u001b[39mcircle(img, (x,y), \u001b[38;5;241m10\u001b[39m, (\u001b[38;5;241m255\u001b[39m,\u001b[38;5;241m0\u001b[39m,\u001b[38;5;241m0\u001b[39m), \u001b[38;5;241m2\u001b[39m)\n\u001b[1;32m---> 12\u001b[0m \u001b[38;5;28;01melif\u001b[39;00m event \u001b[38;5;241m==\u001b[39m \u001b[43mcv2\u001b[49m\u001b[38;5;241;43m.\u001b[39;49m\u001b[43mEVENT_LBUTTONDBCLK\u001b[49m:\n\u001b[0;32m     13\u001b[0m     cv2\u001b[38;5;241m.\u001b[39mcircle(img, (x,y), \u001b[38;5;241m20\u001b[39m, (\u001b[38;5;241m255\u001b[39m,\u001b[38;5;241m0\u001b[39m,\u001b[38;5;241m0\u001b[39m), \u001b[38;5;241m-\u001b[39m\u001b[38;5;241m1\u001b[39m)\n",
      "\u001b[1;31mAttributeError\u001b[0m: module 'cv2' has no attribute 'EVENT_LBUTTONDBCLK'"
     ]
    },
    {
     "ename": "AttributeError",
     "evalue": "module 'cv2' has no attribute 'EVENT_LBUTTONDBCLK'",
     "output_type": "error",
     "traceback": [
      "\u001b[1;31m---------------------------------------------------------------------------\u001b[0m",
      "\u001b[1;31mAttributeError\u001b[0m                            Traceback (most recent call last)",
      "Cell \u001b[1;32mIn[6], line 12\u001b[0m, in \u001b[0;36mdraw_circle\u001b[1;34m(event, x, y, flags, param)\u001b[0m\n\u001b[0;32m     10\u001b[0m \u001b[38;5;28;01melif\u001b[39;00m event \u001b[38;5;241m==\u001b[39m cv2\u001b[38;5;241m.\u001b[39mEVENT_RBUTTONDOWN:\n\u001b[0;32m     11\u001b[0m     cv2\u001b[38;5;241m.\u001b[39mcircle(img, (x,y), \u001b[38;5;241m10\u001b[39m, (\u001b[38;5;241m255\u001b[39m,\u001b[38;5;241m0\u001b[39m,\u001b[38;5;241m0\u001b[39m), \u001b[38;5;241m2\u001b[39m)\n\u001b[1;32m---> 12\u001b[0m \u001b[38;5;28;01melif\u001b[39;00m event \u001b[38;5;241m==\u001b[39m \u001b[43mcv2\u001b[49m\u001b[38;5;241;43m.\u001b[39;49m\u001b[43mEVENT_LBUTTONDBCLK\u001b[49m:\n\u001b[0;32m     13\u001b[0m     cv2\u001b[38;5;241m.\u001b[39mcircle(img, (x,y), \u001b[38;5;241m20\u001b[39m, (\u001b[38;5;241m255\u001b[39m,\u001b[38;5;241m0\u001b[39m,\u001b[38;5;241m0\u001b[39m), \u001b[38;5;241m-\u001b[39m\u001b[38;5;241m1\u001b[39m)\n",
      "\u001b[1;31mAttributeError\u001b[0m: module 'cv2' has no attribute 'EVENT_LBUTTONDBCLK'"
     ]
    },
    {
     "ename": "AttributeError",
     "evalue": "module 'cv2' has no attribute 'EVENT_LBUTTONDBCLK'",
     "output_type": "error",
     "traceback": [
      "\u001b[1;31m---------------------------------------------------------------------------\u001b[0m",
      "\u001b[1;31mAttributeError\u001b[0m                            Traceback (most recent call last)",
      "Cell \u001b[1;32mIn[6], line 12\u001b[0m, in \u001b[0;36mdraw_circle\u001b[1;34m(event, x, y, flags, param)\u001b[0m\n\u001b[0;32m     10\u001b[0m \u001b[38;5;28;01melif\u001b[39;00m event \u001b[38;5;241m==\u001b[39m cv2\u001b[38;5;241m.\u001b[39mEVENT_RBUTTONDOWN:\n\u001b[0;32m     11\u001b[0m     cv2\u001b[38;5;241m.\u001b[39mcircle(img, (x,y), \u001b[38;5;241m10\u001b[39m, (\u001b[38;5;241m255\u001b[39m,\u001b[38;5;241m0\u001b[39m,\u001b[38;5;241m0\u001b[39m), \u001b[38;5;241m2\u001b[39m)\n\u001b[1;32m---> 12\u001b[0m \u001b[38;5;28;01melif\u001b[39;00m event \u001b[38;5;241m==\u001b[39m \u001b[43mcv2\u001b[49m\u001b[38;5;241;43m.\u001b[39;49m\u001b[43mEVENT_LBUTTONDBCLK\u001b[49m:\n\u001b[0;32m     13\u001b[0m     cv2\u001b[38;5;241m.\u001b[39mcircle(img, (x,y), \u001b[38;5;241m20\u001b[39m, (\u001b[38;5;241m255\u001b[39m,\u001b[38;5;241m0\u001b[39m,\u001b[38;5;241m0\u001b[39m), \u001b[38;5;241m-\u001b[39m\u001b[38;5;241m1\u001b[39m)\n",
      "\u001b[1;31mAttributeError\u001b[0m: module 'cv2' has no attribute 'EVENT_LBUTTONDBCLK'"
     ]
    },
    {
     "ename": "AttributeError",
     "evalue": "module 'cv2' has no attribute 'EVENT_LBUTTONDBCLK'",
     "output_type": "error",
     "traceback": [
      "\u001b[1;31m---------------------------------------------------------------------------\u001b[0m",
      "\u001b[1;31mAttributeError\u001b[0m                            Traceback (most recent call last)",
      "Cell \u001b[1;32mIn[6], line 12\u001b[0m, in \u001b[0;36mdraw_circle\u001b[1;34m(event, x, y, flags, param)\u001b[0m\n\u001b[0;32m     10\u001b[0m \u001b[38;5;28;01melif\u001b[39;00m event \u001b[38;5;241m==\u001b[39m cv2\u001b[38;5;241m.\u001b[39mEVENT_RBUTTONDOWN:\n\u001b[0;32m     11\u001b[0m     cv2\u001b[38;5;241m.\u001b[39mcircle(img, (x,y), \u001b[38;5;241m10\u001b[39m, (\u001b[38;5;241m255\u001b[39m,\u001b[38;5;241m0\u001b[39m,\u001b[38;5;241m0\u001b[39m), \u001b[38;5;241m2\u001b[39m)\n\u001b[1;32m---> 12\u001b[0m \u001b[38;5;28;01melif\u001b[39;00m event \u001b[38;5;241m==\u001b[39m \u001b[43mcv2\u001b[49m\u001b[38;5;241;43m.\u001b[39;49m\u001b[43mEVENT_LBUTTONDBCLK\u001b[49m:\n\u001b[0;32m     13\u001b[0m     cv2\u001b[38;5;241m.\u001b[39mcircle(img, (x,y), \u001b[38;5;241m20\u001b[39m, (\u001b[38;5;241m255\u001b[39m,\u001b[38;5;241m0\u001b[39m,\u001b[38;5;241m0\u001b[39m), \u001b[38;5;241m-\u001b[39m\u001b[38;5;241m1\u001b[39m)\n",
      "\u001b[1;31mAttributeError\u001b[0m: module 'cv2' has no attribute 'EVENT_LBUTTONDBCLK'"
     ]
    },
    {
     "ename": "AttributeError",
     "evalue": "module 'cv2' has no attribute 'EVENT_LBUTTONDBCLK'",
     "output_type": "error",
     "traceback": [
      "\u001b[1;31m---------------------------------------------------------------------------\u001b[0m",
      "\u001b[1;31mAttributeError\u001b[0m                            Traceback (most recent call last)",
      "Cell \u001b[1;32mIn[6], line 12\u001b[0m, in \u001b[0;36mdraw_circle\u001b[1;34m(event, x, y, flags, param)\u001b[0m\n\u001b[0;32m     10\u001b[0m \u001b[38;5;28;01melif\u001b[39;00m event \u001b[38;5;241m==\u001b[39m cv2\u001b[38;5;241m.\u001b[39mEVENT_RBUTTONDOWN:\n\u001b[0;32m     11\u001b[0m     cv2\u001b[38;5;241m.\u001b[39mcircle(img, (x,y), \u001b[38;5;241m10\u001b[39m, (\u001b[38;5;241m255\u001b[39m,\u001b[38;5;241m0\u001b[39m,\u001b[38;5;241m0\u001b[39m), \u001b[38;5;241m2\u001b[39m)\n\u001b[1;32m---> 12\u001b[0m \u001b[38;5;28;01melif\u001b[39;00m event \u001b[38;5;241m==\u001b[39m \u001b[43mcv2\u001b[49m\u001b[38;5;241;43m.\u001b[39;49m\u001b[43mEVENT_LBUTTONDBCLK\u001b[49m:\n\u001b[0;32m     13\u001b[0m     cv2\u001b[38;5;241m.\u001b[39mcircle(img, (x,y), \u001b[38;5;241m20\u001b[39m, (\u001b[38;5;241m255\u001b[39m,\u001b[38;5;241m0\u001b[39m,\u001b[38;5;241m0\u001b[39m), \u001b[38;5;241m-\u001b[39m\u001b[38;5;241m1\u001b[39m)\n",
      "\u001b[1;31mAttributeError\u001b[0m: module 'cv2' has no attribute 'EVENT_LBUTTONDBCLK'"
     ]
    },
    {
     "ename": "AttributeError",
     "evalue": "module 'cv2' has no attribute 'EVENT_LBUTTONDBCLK'",
     "output_type": "error",
     "traceback": [
      "\u001b[1;31m---------------------------------------------------------------------------\u001b[0m",
      "\u001b[1;31mAttributeError\u001b[0m                            Traceback (most recent call last)",
      "Cell \u001b[1;32mIn[6], line 12\u001b[0m, in \u001b[0;36mdraw_circle\u001b[1;34m(event, x, y, flags, param)\u001b[0m\n\u001b[0;32m     10\u001b[0m \u001b[38;5;28;01melif\u001b[39;00m event \u001b[38;5;241m==\u001b[39m cv2\u001b[38;5;241m.\u001b[39mEVENT_RBUTTONDOWN:\n\u001b[0;32m     11\u001b[0m     cv2\u001b[38;5;241m.\u001b[39mcircle(img, (x,y), \u001b[38;5;241m10\u001b[39m, (\u001b[38;5;241m255\u001b[39m,\u001b[38;5;241m0\u001b[39m,\u001b[38;5;241m0\u001b[39m), \u001b[38;5;241m2\u001b[39m)\n\u001b[1;32m---> 12\u001b[0m \u001b[38;5;28;01melif\u001b[39;00m event \u001b[38;5;241m==\u001b[39m \u001b[43mcv2\u001b[49m\u001b[38;5;241;43m.\u001b[39;49m\u001b[43mEVENT_LBUTTONDBCLK\u001b[49m:\n\u001b[0;32m     13\u001b[0m     cv2\u001b[38;5;241m.\u001b[39mcircle(img, (x,y), \u001b[38;5;241m20\u001b[39m, (\u001b[38;5;241m255\u001b[39m,\u001b[38;5;241m0\u001b[39m,\u001b[38;5;241m0\u001b[39m), \u001b[38;5;241m-\u001b[39m\u001b[38;5;241m1\u001b[39m)\n",
      "\u001b[1;31mAttributeError\u001b[0m: module 'cv2' has no attribute 'EVENT_LBUTTONDBCLK'"
     ]
    },
    {
     "ename": "AttributeError",
     "evalue": "module 'cv2' has no attribute 'EVENT_LBUTTONDBCLK'",
     "output_type": "error",
     "traceback": [
      "\u001b[1;31m---------------------------------------------------------------------------\u001b[0m",
      "\u001b[1;31mAttributeError\u001b[0m                            Traceback (most recent call last)",
      "Cell \u001b[1;32mIn[6], line 12\u001b[0m, in \u001b[0;36mdraw_circle\u001b[1;34m(event, x, y, flags, param)\u001b[0m\n\u001b[0;32m     10\u001b[0m \u001b[38;5;28;01melif\u001b[39;00m event \u001b[38;5;241m==\u001b[39m cv2\u001b[38;5;241m.\u001b[39mEVENT_RBUTTONDOWN:\n\u001b[0;32m     11\u001b[0m     cv2\u001b[38;5;241m.\u001b[39mcircle(img, (x,y), \u001b[38;5;241m10\u001b[39m, (\u001b[38;5;241m255\u001b[39m,\u001b[38;5;241m0\u001b[39m,\u001b[38;5;241m0\u001b[39m), \u001b[38;5;241m2\u001b[39m)\n\u001b[1;32m---> 12\u001b[0m \u001b[38;5;28;01melif\u001b[39;00m event \u001b[38;5;241m==\u001b[39m \u001b[43mcv2\u001b[49m\u001b[38;5;241;43m.\u001b[39;49m\u001b[43mEVENT_LBUTTONDBCLK\u001b[49m:\n\u001b[0;32m     13\u001b[0m     cv2\u001b[38;5;241m.\u001b[39mcircle(img, (x,y), \u001b[38;5;241m20\u001b[39m, (\u001b[38;5;241m255\u001b[39m,\u001b[38;5;241m0\u001b[39m,\u001b[38;5;241m0\u001b[39m), \u001b[38;5;241m-\u001b[39m\u001b[38;5;241m1\u001b[39m)\n",
      "\u001b[1;31mAttributeError\u001b[0m: module 'cv2' has no attribute 'EVENT_LBUTTONDBCLK'"
     ]
    },
    {
     "ename": "AttributeError",
     "evalue": "module 'cv2' has no attribute 'EVENT_LBUTTONDBCLK'",
     "output_type": "error",
     "traceback": [
      "\u001b[1;31m---------------------------------------------------------------------------\u001b[0m",
      "\u001b[1;31mAttributeError\u001b[0m                            Traceback (most recent call last)",
      "Cell \u001b[1;32mIn[6], line 12\u001b[0m, in \u001b[0;36mdraw_circle\u001b[1;34m(event, x, y, flags, param)\u001b[0m\n\u001b[0;32m     10\u001b[0m \u001b[38;5;28;01melif\u001b[39;00m event \u001b[38;5;241m==\u001b[39m cv2\u001b[38;5;241m.\u001b[39mEVENT_RBUTTONDOWN:\n\u001b[0;32m     11\u001b[0m     cv2\u001b[38;5;241m.\u001b[39mcircle(img, (x,y), \u001b[38;5;241m10\u001b[39m, (\u001b[38;5;241m255\u001b[39m,\u001b[38;5;241m0\u001b[39m,\u001b[38;5;241m0\u001b[39m), \u001b[38;5;241m2\u001b[39m)\n\u001b[1;32m---> 12\u001b[0m \u001b[38;5;28;01melif\u001b[39;00m event \u001b[38;5;241m==\u001b[39m \u001b[43mcv2\u001b[49m\u001b[38;5;241;43m.\u001b[39;49m\u001b[43mEVENT_LBUTTONDBCLK\u001b[49m:\n\u001b[0;32m     13\u001b[0m     cv2\u001b[38;5;241m.\u001b[39mcircle(img, (x,y), \u001b[38;5;241m20\u001b[39m, (\u001b[38;5;241m255\u001b[39m,\u001b[38;5;241m0\u001b[39m,\u001b[38;5;241m0\u001b[39m), \u001b[38;5;241m-\u001b[39m\u001b[38;5;241m1\u001b[39m)\n",
      "\u001b[1;31mAttributeError\u001b[0m: module 'cv2' has no attribute 'EVENT_LBUTTONDBCLK'"
     ]
    },
    {
     "ename": "AttributeError",
     "evalue": "module 'cv2' has no attribute 'EVENT_LBUTTONDBCLK'",
     "output_type": "error",
     "traceback": [
      "\u001b[1;31m---------------------------------------------------------------------------\u001b[0m",
      "\u001b[1;31mAttributeError\u001b[0m                            Traceback (most recent call last)",
      "Cell \u001b[1;32mIn[6], line 12\u001b[0m, in \u001b[0;36mdraw_circle\u001b[1;34m(event, x, y, flags, param)\u001b[0m\n\u001b[0;32m     10\u001b[0m \u001b[38;5;28;01melif\u001b[39;00m event \u001b[38;5;241m==\u001b[39m cv2\u001b[38;5;241m.\u001b[39mEVENT_RBUTTONDOWN:\n\u001b[0;32m     11\u001b[0m     cv2\u001b[38;5;241m.\u001b[39mcircle(img, (x,y), \u001b[38;5;241m10\u001b[39m, (\u001b[38;5;241m255\u001b[39m,\u001b[38;5;241m0\u001b[39m,\u001b[38;5;241m0\u001b[39m), \u001b[38;5;241m2\u001b[39m)\n\u001b[1;32m---> 12\u001b[0m \u001b[38;5;28;01melif\u001b[39;00m event \u001b[38;5;241m==\u001b[39m \u001b[43mcv2\u001b[49m\u001b[38;5;241;43m.\u001b[39;49m\u001b[43mEVENT_LBUTTONDBCLK\u001b[49m:\n\u001b[0;32m     13\u001b[0m     cv2\u001b[38;5;241m.\u001b[39mcircle(img, (x,y), \u001b[38;5;241m20\u001b[39m, (\u001b[38;5;241m255\u001b[39m,\u001b[38;5;241m0\u001b[39m,\u001b[38;5;241m0\u001b[39m), \u001b[38;5;241m-\u001b[39m\u001b[38;5;241m1\u001b[39m)\n",
      "\u001b[1;31mAttributeError\u001b[0m: module 'cv2' has no attribute 'EVENT_LBUTTONDBCLK'"
     ]
    },
    {
     "ename": "AttributeError",
     "evalue": "module 'cv2' has no attribute 'EVENT_LBUTTONDBCLK'",
     "output_type": "error",
     "traceback": [
      "\u001b[1;31m---------------------------------------------------------------------------\u001b[0m",
      "\u001b[1;31mAttributeError\u001b[0m                            Traceback (most recent call last)",
      "Cell \u001b[1;32mIn[6], line 12\u001b[0m, in \u001b[0;36mdraw_circle\u001b[1;34m(event, x, y, flags, param)\u001b[0m\n\u001b[0;32m     10\u001b[0m \u001b[38;5;28;01melif\u001b[39;00m event \u001b[38;5;241m==\u001b[39m cv2\u001b[38;5;241m.\u001b[39mEVENT_RBUTTONDOWN:\n\u001b[0;32m     11\u001b[0m     cv2\u001b[38;5;241m.\u001b[39mcircle(img, (x,y), \u001b[38;5;241m10\u001b[39m, (\u001b[38;5;241m255\u001b[39m,\u001b[38;5;241m0\u001b[39m,\u001b[38;5;241m0\u001b[39m), \u001b[38;5;241m2\u001b[39m)\n\u001b[1;32m---> 12\u001b[0m \u001b[38;5;28;01melif\u001b[39;00m event \u001b[38;5;241m==\u001b[39m \u001b[43mcv2\u001b[49m\u001b[38;5;241;43m.\u001b[39;49m\u001b[43mEVENT_LBUTTONDBCLK\u001b[49m:\n\u001b[0;32m     13\u001b[0m     cv2\u001b[38;5;241m.\u001b[39mcircle(img, (x,y), \u001b[38;5;241m20\u001b[39m, (\u001b[38;5;241m255\u001b[39m,\u001b[38;5;241m0\u001b[39m,\u001b[38;5;241m0\u001b[39m), \u001b[38;5;241m-\u001b[39m\u001b[38;5;241m1\u001b[39m)\n",
      "\u001b[1;31mAttributeError\u001b[0m: module 'cv2' has no attribute 'EVENT_LBUTTONDBCLK'"
     ]
    },
    {
     "ename": "AttributeError",
     "evalue": "module 'cv2' has no attribute 'EVENT_LBUTTONDBCLK'",
     "output_type": "error",
     "traceback": [
      "\u001b[1;31m---------------------------------------------------------------------------\u001b[0m",
      "\u001b[1;31mAttributeError\u001b[0m                            Traceback (most recent call last)",
      "Cell \u001b[1;32mIn[6], line 12\u001b[0m, in \u001b[0;36mdraw_circle\u001b[1;34m(event, x, y, flags, param)\u001b[0m\n\u001b[0;32m     10\u001b[0m \u001b[38;5;28;01melif\u001b[39;00m event \u001b[38;5;241m==\u001b[39m cv2\u001b[38;5;241m.\u001b[39mEVENT_RBUTTONDOWN:\n\u001b[0;32m     11\u001b[0m     cv2\u001b[38;5;241m.\u001b[39mcircle(img, (x,y), \u001b[38;5;241m10\u001b[39m, (\u001b[38;5;241m255\u001b[39m,\u001b[38;5;241m0\u001b[39m,\u001b[38;5;241m0\u001b[39m), \u001b[38;5;241m2\u001b[39m)\n\u001b[1;32m---> 12\u001b[0m \u001b[38;5;28;01melif\u001b[39;00m event \u001b[38;5;241m==\u001b[39m \u001b[43mcv2\u001b[49m\u001b[38;5;241;43m.\u001b[39;49m\u001b[43mEVENT_LBUTTONDBCLK\u001b[49m:\n\u001b[0;32m     13\u001b[0m     cv2\u001b[38;5;241m.\u001b[39mcircle(img, (x,y), \u001b[38;5;241m20\u001b[39m, (\u001b[38;5;241m255\u001b[39m,\u001b[38;5;241m0\u001b[39m,\u001b[38;5;241m0\u001b[39m), \u001b[38;5;241m-\u001b[39m\u001b[38;5;241m1\u001b[39m)\n",
      "\u001b[1;31mAttributeError\u001b[0m: module 'cv2' has no attribute 'EVENT_LBUTTONDBCLK'"
     ]
    },
    {
     "ename": "AttributeError",
     "evalue": "module 'cv2' has no attribute 'EVENT_LBUTTONDBCLK'",
     "output_type": "error",
     "traceback": [
      "\u001b[1;31m---------------------------------------------------------------------------\u001b[0m",
      "\u001b[1;31mAttributeError\u001b[0m                            Traceback (most recent call last)",
      "Cell \u001b[1;32mIn[6], line 12\u001b[0m, in \u001b[0;36mdraw_circle\u001b[1;34m(event, x, y, flags, param)\u001b[0m\n\u001b[0;32m     10\u001b[0m \u001b[38;5;28;01melif\u001b[39;00m event \u001b[38;5;241m==\u001b[39m cv2\u001b[38;5;241m.\u001b[39mEVENT_RBUTTONDOWN:\n\u001b[0;32m     11\u001b[0m     cv2\u001b[38;5;241m.\u001b[39mcircle(img, (x,y), \u001b[38;5;241m10\u001b[39m, (\u001b[38;5;241m255\u001b[39m,\u001b[38;5;241m0\u001b[39m,\u001b[38;5;241m0\u001b[39m), \u001b[38;5;241m2\u001b[39m)\n\u001b[1;32m---> 12\u001b[0m \u001b[38;5;28;01melif\u001b[39;00m event \u001b[38;5;241m==\u001b[39m \u001b[43mcv2\u001b[49m\u001b[38;5;241;43m.\u001b[39;49m\u001b[43mEVENT_LBUTTONDBCLK\u001b[49m:\n\u001b[0;32m     13\u001b[0m     cv2\u001b[38;5;241m.\u001b[39mcircle(img, (x,y), \u001b[38;5;241m20\u001b[39m, (\u001b[38;5;241m255\u001b[39m,\u001b[38;5;241m0\u001b[39m,\u001b[38;5;241m0\u001b[39m), \u001b[38;5;241m-\u001b[39m\u001b[38;5;241m1\u001b[39m)\n",
      "\u001b[1;31mAttributeError\u001b[0m: module 'cv2' has no attribute 'EVENT_LBUTTONDBCLK'"
     ]
    },
    {
     "ename": "AttributeError",
     "evalue": "module 'cv2' has no attribute 'EVENT_LBUTTONDBCLK'",
     "output_type": "error",
     "traceback": [
      "\u001b[1;31m---------------------------------------------------------------------------\u001b[0m",
      "\u001b[1;31mAttributeError\u001b[0m                            Traceback (most recent call last)",
      "Cell \u001b[1;32mIn[6], line 12\u001b[0m, in \u001b[0;36mdraw_circle\u001b[1;34m(event, x, y, flags, param)\u001b[0m\n\u001b[0;32m     10\u001b[0m \u001b[38;5;28;01melif\u001b[39;00m event \u001b[38;5;241m==\u001b[39m cv2\u001b[38;5;241m.\u001b[39mEVENT_RBUTTONDOWN:\n\u001b[0;32m     11\u001b[0m     cv2\u001b[38;5;241m.\u001b[39mcircle(img, (x,y), \u001b[38;5;241m10\u001b[39m, (\u001b[38;5;241m255\u001b[39m,\u001b[38;5;241m0\u001b[39m,\u001b[38;5;241m0\u001b[39m), \u001b[38;5;241m2\u001b[39m)\n\u001b[1;32m---> 12\u001b[0m \u001b[38;5;28;01melif\u001b[39;00m event \u001b[38;5;241m==\u001b[39m \u001b[43mcv2\u001b[49m\u001b[38;5;241;43m.\u001b[39;49m\u001b[43mEVENT_LBUTTONDBCLK\u001b[49m:\n\u001b[0;32m     13\u001b[0m     cv2\u001b[38;5;241m.\u001b[39mcircle(img, (x,y), \u001b[38;5;241m20\u001b[39m, (\u001b[38;5;241m255\u001b[39m,\u001b[38;5;241m0\u001b[39m,\u001b[38;5;241m0\u001b[39m), \u001b[38;5;241m-\u001b[39m\u001b[38;5;241m1\u001b[39m)\n",
      "\u001b[1;31mAttributeError\u001b[0m: module 'cv2' has no attribute 'EVENT_LBUTTONDBCLK'"
     ]
    },
    {
     "ename": "AttributeError",
     "evalue": "module 'cv2' has no attribute 'EVENT_LBUTTONDBCLK'",
     "output_type": "error",
     "traceback": [
      "\u001b[1;31m---------------------------------------------------------------------------\u001b[0m",
      "\u001b[1;31mAttributeError\u001b[0m                            Traceback (most recent call last)",
      "Cell \u001b[1;32mIn[6], line 12\u001b[0m, in \u001b[0;36mdraw_circle\u001b[1;34m(event, x, y, flags, param)\u001b[0m\n\u001b[0;32m     10\u001b[0m \u001b[38;5;28;01melif\u001b[39;00m event \u001b[38;5;241m==\u001b[39m cv2\u001b[38;5;241m.\u001b[39mEVENT_RBUTTONDOWN:\n\u001b[0;32m     11\u001b[0m     cv2\u001b[38;5;241m.\u001b[39mcircle(img, (x,y), \u001b[38;5;241m10\u001b[39m, (\u001b[38;5;241m255\u001b[39m,\u001b[38;5;241m0\u001b[39m,\u001b[38;5;241m0\u001b[39m), \u001b[38;5;241m2\u001b[39m)\n\u001b[1;32m---> 12\u001b[0m \u001b[38;5;28;01melif\u001b[39;00m event \u001b[38;5;241m==\u001b[39m \u001b[43mcv2\u001b[49m\u001b[38;5;241;43m.\u001b[39;49m\u001b[43mEVENT_LBUTTONDBCLK\u001b[49m:\n\u001b[0;32m     13\u001b[0m     cv2\u001b[38;5;241m.\u001b[39mcircle(img, (x,y), \u001b[38;5;241m20\u001b[39m, (\u001b[38;5;241m255\u001b[39m,\u001b[38;5;241m0\u001b[39m,\u001b[38;5;241m0\u001b[39m), \u001b[38;5;241m-\u001b[39m\u001b[38;5;241m1\u001b[39m)\n",
      "\u001b[1;31mAttributeError\u001b[0m: module 'cv2' has no attribute 'EVENT_LBUTTONDBCLK'"
     ]
    },
    {
     "ename": "AttributeError",
     "evalue": "module 'cv2' has no attribute 'EVENT_LBUTTONDBCLK'",
     "output_type": "error",
     "traceback": [
      "\u001b[1;31m---------------------------------------------------------------------------\u001b[0m",
      "\u001b[1;31mAttributeError\u001b[0m                            Traceback (most recent call last)",
      "Cell \u001b[1;32mIn[6], line 12\u001b[0m, in \u001b[0;36mdraw_circle\u001b[1;34m(event, x, y, flags, param)\u001b[0m\n\u001b[0;32m     10\u001b[0m \u001b[38;5;28;01melif\u001b[39;00m event \u001b[38;5;241m==\u001b[39m cv2\u001b[38;5;241m.\u001b[39mEVENT_RBUTTONDOWN:\n\u001b[0;32m     11\u001b[0m     cv2\u001b[38;5;241m.\u001b[39mcircle(img, (x,y), \u001b[38;5;241m10\u001b[39m, (\u001b[38;5;241m255\u001b[39m,\u001b[38;5;241m0\u001b[39m,\u001b[38;5;241m0\u001b[39m), \u001b[38;5;241m2\u001b[39m)\n\u001b[1;32m---> 12\u001b[0m \u001b[38;5;28;01melif\u001b[39;00m event \u001b[38;5;241m==\u001b[39m \u001b[43mcv2\u001b[49m\u001b[38;5;241;43m.\u001b[39;49m\u001b[43mEVENT_LBUTTONDBCLK\u001b[49m:\n\u001b[0;32m     13\u001b[0m     cv2\u001b[38;5;241m.\u001b[39mcircle(img, (x,y), \u001b[38;5;241m20\u001b[39m, (\u001b[38;5;241m255\u001b[39m,\u001b[38;5;241m0\u001b[39m,\u001b[38;5;241m0\u001b[39m), \u001b[38;5;241m-\u001b[39m\u001b[38;5;241m1\u001b[39m)\n",
      "\u001b[1;31mAttributeError\u001b[0m: module 'cv2' has no attribute 'EVENT_LBUTTONDBCLK'"
     ]
    },
    {
     "ename": "AttributeError",
     "evalue": "module 'cv2' has no attribute 'EVENT_LBUTTONDBCLK'",
     "output_type": "error",
     "traceback": [
      "\u001b[1;31m---------------------------------------------------------------------------\u001b[0m",
      "\u001b[1;31mAttributeError\u001b[0m                            Traceback (most recent call last)",
      "Cell \u001b[1;32mIn[6], line 12\u001b[0m, in \u001b[0;36mdraw_circle\u001b[1;34m(event, x, y, flags, param)\u001b[0m\n\u001b[0;32m     10\u001b[0m \u001b[38;5;28;01melif\u001b[39;00m event \u001b[38;5;241m==\u001b[39m cv2\u001b[38;5;241m.\u001b[39mEVENT_RBUTTONDOWN:\n\u001b[0;32m     11\u001b[0m     cv2\u001b[38;5;241m.\u001b[39mcircle(img, (x,y), \u001b[38;5;241m10\u001b[39m, (\u001b[38;5;241m255\u001b[39m,\u001b[38;5;241m0\u001b[39m,\u001b[38;5;241m0\u001b[39m), \u001b[38;5;241m2\u001b[39m)\n\u001b[1;32m---> 12\u001b[0m \u001b[38;5;28;01melif\u001b[39;00m event \u001b[38;5;241m==\u001b[39m \u001b[43mcv2\u001b[49m\u001b[38;5;241;43m.\u001b[39;49m\u001b[43mEVENT_LBUTTONDBCLK\u001b[49m:\n\u001b[0;32m     13\u001b[0m     cv2\u001b[38;5;241m.\u001b[39mcircle(img, (x,y), \u001b[38;5;241m20\u001b[39m, (\u001b[38;5;241m255\u001b[39m,\u001b[38;5;241m0\u001b[39m,\u001b[38;5;241m0\u001b[39m), \u001b[38;5;241m-\u001b[39m\u001b[38;5;241m1\u001b[39m)\n",
      "\u001b[1;31mAttributeError\u001b[0m: module 'cv2' has no attribute 'EVENT_LBUTTONDBCLK'"
     ]
    },
    {
     "ename": "AttributeError",
     "evalue": "module 'cv2' has no attribute 'EVENT_LBUTTONDBCLK'",
     "output_type": "error",
     "traceback": [
      "\u001b[1;31m---------------------------------------------------------------------------\u001b[0m",
      "\u001b[1;31mAttributeError\u001b[0m                            Traceback (most recent call last)",
      "Cell \u001b[1;32mIn[6], line 12\u001b[0m, in \u001b[0;36mdraw_circle\u001b[1;34m(event, x, y, flags, param)\u001b[0m\n\u001b[0;32m     10\u001b[0m \u001b[38;5;28;01melif\u001b[39;00m event \u001b[38;5;241m==\u001b[39m cv2\u001b[38;5;241m.\u001b[39mEVENT_RBUTTONDOWN:\n\u001b[0;32m     11\u001b[0m     cv2\u001b[38;5;241m.\u001b[39mcircle(img, (x,y), \u001b[38;5;241m10\u001b[39m, (\u001b[38;5;241m255\u001b[39m,\u001b[38;5;241m0\u001b[39m,\u001b[38;5;241m0\u001b[39m), \u001b[38;5;241m2\u001b[39m)\n\u001b[1;32m---> 12\u001b[0m \u001b[38;5;28;01melif\u001b[39;00m event \u001b[38;5;241m==\u001b[39m \u001b[43mcv2\u001b[49m\u001b[38;5;241;43m.\u001b[39;49m\u001b[43mEVENT_LBUTTONDBCLK\u001b[49m:\n\u001b[0;32m     13\u001b[0m     cv2\u001b[38;5;241m.\u001b[39mcircle(img, (x,y), \u001b[38;5;241m20\u001b[39m, (\u001b[38;5;241m255\u001b[39m,\u001b[38;5;241m0\u001b[39m,\u001b[38;5;241m0\u001b[39m), \u001b[38;5;241m-\u001b[39m\u001b[38;5;241m1\u001b[39m)\n",
      "\u001b[1;31mAttributeError\u001b[0m: module 'cv2' has no attribute 'EVENT_LBUTTONDBCLK'"
     ]
    },
    {
     "ename": "AttributeError",
     "evalue": "module 'cv2' has no attribute 'EVENT_LBUTTONDBCLK'",
     "output_type": "error",
     "traceback": [
      "\u001b[1;31m---------------------------------------------------------------------------\u001b[0m",
      "\u001b[1;31mAttributeError\u001b[0m                            Traceback (most recent call last)",
      "Cell \u001b[1;32mIn[6], line 12\u001b[0m, in \u001b[0;36mdraw_circle\u001b[1;34m(event, x, y, flags, param)\u001b[0m\n\u001b[0;32m     10\u001b[0m \u001b[38;5;28;01melif\u001b[39;00m event \u001b[38;5;241m==\u001b[39m cv2\u001b[38;5;241m.\u001b[39mEVENT_RBUTTONDOWN:\n\u001b[0;32m     11\u001b[0m     cv2\u001b[38;5;241m.\u001b[39mcircle(img, (x,y), \u001b[38;5;241m10\u001b[39m, (\u001b[38;5;241m255\u001b[39m,\u001b[38;5;241m0\u001b[39m,\u001b[38;5;241m0\u001b[39m), \u001b[38;5;241m2\u001b[39m)\n\u001b[1;32m---> 12\u001b[0m \u001b[38;5;28;01melif\u001b[39;00m event \u001b[38;5;241m==\u001b[39m \u001b[43mcv2\u001b[49m\u001b[38;5;241;43m.\u001b[39;49m\u001b[43mEVENT_LBUTTONDBCLK\u001b[49m:\n\u001b[0;32m     13\u001b[0m     cv2\u001b[38;5;241m.\u001b[39mcircle(img, (x,y), \u001b[38;5;241m20\u001b[39m, (\u001b[38;5;241m255\u001b[39m,\u001b[38;5;241m0\u001b[39m,\u001b[38;5;241m0\u001b[39m), \u001b[38;5;241m-\u001b[39m\u001b[38;5;241m1\u001b[39m)\n",
      "\u001b[1;31mAttributeError\u001b[0m: module 'cv2' has no attribute 'EVENT_LBUTTONDBCLK'"
     ]
    },
    {
     "ename": "AttributeError",
     "evalue": "module 'cv2' has no attribute 'EVENT_LBUTTONDBCLK'",
     "output_type": "error",
     "traceback": [
      "\u001b[1;31m---------------------------------------------------------------------------\u001b[0m",
      "\u001b[1;31mAttributeError\u001b[0m                            Traceback (most recent call last)",
      "Cell \u001b[1;32mIn[6], line 12\u001b[0m, in \u001b[0;36mdraw_circle\u001b[1;34m(event, x, y, flags, param)\u001b[0m\n\u001b[0;32m     10\u001b[0m \u001b[38;5;28;01melif\u001b[39;00m event \u001b[38;5;241m==\u001b[39m cv2\u001b[38;5;241m.\u001b[39mEVENT_RBUTTONDOWN:\n\u001b[0;32m     11\u001b[0m     cv2\u001b[38;5;241m.\u001b[39mcircle(img, (x,y), \u001b[38;5;241m10\u001b[39m, (\u001b[38;5;241m255\u001b[39m,\u001b[38;5;241m0\u001b[39m,\u001b[38;5;241m0\u001b[39m), \u001b[38;5;241m2\u001b[39m)\n\u001b[1;32m---> 12\u001b[0m \u001b[38;5;28;01melif\u001b[39;00m event \u001b[38;5;241m==\u001b[39m \u001b[43mcv2\u001b[49m\u001b[38;5;241;43m.\u001b[39;49m\u001b[43mEVENT_LBUTTONDBCLK\u001b[49m:\n\u001b[0;32m     13\u001b[0m     cv2\u001b[38;5;241m.\u001b[39mcircle(img, (x,y), \u001b[38;5;241m20\u001b[39m, (\u001b[38;5;241m255\u001b[39m,\u001b[38;5;241m0\u001b[39m,\u001b[38;5;241m0\u001b[39m), \u001b[38;5;241m-\u001b[39m\u001b[38;5;241m1\u001b[39m)\n",
      "\u001b[1;31mAttributeError\u001b[0m: module 'cv2' has no attribute 'EVENT_LBUTTONDBCLK'"
     ]
    },
    {
     "ename": "AttributeError",
     "evalue": "module 'cv2' has no attribute 'EVENT_LBUTTONDBCLK'",
     "output_type": "error",
     "traceback": [
      "\u001b[1;31m---------------------------------------------------------------------------\u001b[0m",
      "\u001b[1;31mAttributeError\u001b[0m                            Traceback (most recent call last)",
      "Cell \u001b[1;32mIn[6], line 12\u001b[0m, in \u001b[0;36mdraw_circle\u001b[1;34m(event, x, y, flags, param)\u001b[0m\n\u001b[0;32m     10\u001b[0m \u001b[38;5;28;01melif\u001b[39;00m event \u001b[38;5;241m==\u001b[39m cv2\u001b[38;5;241m.\u001b[39mEVENT_RBUTTONDOWN:\n\u001b[0;32m     11\u001b[0m     cv2\u001b[38;5;241m.\u001b[39mcircle(img, (x,y), \u001b[38;5;241m10\u001b[39m, (\u001b[38;5;241m255\u001b[39m,\u001b[38;5;241m0\u001b[39m,\u001b[38;5;241m0\u001b[39m), \u001b[38;5;241m2\u001b[39m)\n\u001b[1;32m---> 12\u001b[0m \u001b[38;5;28;01melif\u001b[39;00m event \u001b[38;5;241m==\u001b[39m \u001b[43mcv2\u001b[49m\u001b[38;5;241;43m.\u001b[39;49m\u001b[43mEVENT_LBUTTONDBCLK\u001b[49m:\n\u001b[0;32m     13\u001b[0m     cv2\u001b[38;5;241m.\u001b[39mcircle(img, (x,y), \u001b[38;5;241m20\u001b[39m, (\u001b[38;5;241m255\u001b[39m,\u001b[38;5;241m0\u001b[39m,\u001b[38;5;241m0\u001b[39m), \u001b[38;5;241m-\u001b[39m\u001b[38;5;241m1\u001b[39m)\n",
      "\u001b[1;31mAttributeError\u001b[0m: module 'cv2' has no attribute 'EVENT_LBUTTONDBCLK'"
     ]
    },
    {
     "ename": "AttributeError",
     "evalue": "module 'cv2' has no attribute 'EVENT_LBUTTONDBCLK'",
     "output_type": "error",
     "traceback": [
      "\u001b[1;31m---------------------------------------------------------------------------\u001b[0m",
      "\u001b[1;31mAttributeError\u001b[0m                            Traceback (most recent call last)",
      "Cell \u001b[1;32mIn[6], line 12\u001b[0m, in \u001b[0;36mdraw_circle\u001b[1;34m(event, x, y, flags, param)\u001b[0m\n\u001b[0;32m     10\u001b[0m \u001b[38;5;28;01melif\u001b[39;00m event \u001b[38;5;241m==\u001b[39m cv2\u001b[38;5;241m.\u001b[39mEVENT_RBUTTONDOWN:\n\u001b[0;32m     11\u001b[0m     cv2\u001b[38;5;241m.\u001b[39mcircle(img, (x,y), \u001b[38;5;241m10\u001b[39m, (\u001b[38;5;241m255\u001b[39m,\u001b[38;5;241m0\u001b[39m,\u001b[38;5;241m0\u001b[39m), \u001b[38;5;241m2\u001b[39m)\n\u001b[1;32m---> 12\u001b[0m \u001b[38;5;28;01melif\u001b[39;00m event \u001b[38;5;241m==\u001b[39m \u001b[43mcv2\u001b[49m\u001b[38;5;241;43m.\u001b[39;49m\u001b[43mEVENT_LBUTTONDBCLK\u001b[49m:\n\u001b[0;32m     13\u001b[0m     cv2\u001b[38;5;241m.\u001b[39mcircle(img, (x,y), \u001b[38;5;241m20\u001b[39m, (\u001b[38;5;241m255\u001b[39m,\u001b[38;5;241m0\u001b[39m,\u001b[38;5;241m0\u001b[39m), \u001b[38;5;241m-\u001b[39m\u001b[38;5;241m1\u001b[39m)\n",
      "\u001b[1;31mAttributeError\u001b[0m: module 'cv2' has no attribute 'EVENT_LBUTTONDBCLK'"
     ]
    },
    {
     "ename": "AttributeError",
     "evalue": "module 'cv2' has no attribute 'EVENT_LBUTTONDBCLK'",
     "output_type": "error",
     "traceback": [
      "\u001b[1;31m---------------------------------------------------------------------------\u001b[0m",
      "\u001b[1;31mAttributeError\u001b[0m                            Traceback (most recent call last)",
      "Cell \u001b[1;32mIn[6], line 12\u001b[0m, in \u001b[0;36mdraw_circle\u001b[1;34m(event, x, y, flags, param)\u001b[0m\n\u001b[0;32m     10\u001b[0m \u001b[38;5;28;01melif\u001b[39;00m event \u001b[38;5;241m==\u001b[39m cv2\u001b[38;5;241m.\u001b[39mEVENT_RBUTTONDOWN:\n\u001b[0;32m     11\u001b[0m     cv2\u001b[38;5;241m.\u001b[39mcircle(img, (x,y), \u001b[38;5;241m10\u001b[39m, (\u001b[38;5;241m255\u001b[39m,\u001b[38;5;241m0\u001b[39m,\u001b[38;5;241m0\u001b[39m), \u001b[38;5;241m2\u001b[39m)\n\u001b[1;32m---> 12\u001b[0m \u001b[38;5;28;01melif\u001b[39;00m event \u001b[38;5;241m==\u001b[39m \u001b[43mcv2\u001b[49m\u001b[38;5;241;43m.\u001b[39;49m\u001b[43mEVENT_LBUTTONDBCLK\u001b[49m:\n\u001b[0;32m     13\u001b[0m     cv2\u001b[38;5;241m.\u001b[39mcircle(img, (x,y), \u001b[38;5;241m20\u001b[39m, (\u001b[38;5;241m255\u001b[39m,\u001b[38;5;241m0\u001b[39m,\u001b[38;5;241m0\u001b[39m), \u001b[38;5;241m-\u001b[39m\u001b[38;5;241m1\u001b[39m)\n",
      "\u001b[1;31mAttributeError\u001b[0m: module 'cv2' has no attribute 'EVENT_LBUTTONDBCLK'"
     ]
    },
    {
     "ename": "AttributeError",
     "evalue": "module 'cv2' has no attribute 'EVENT_LBUTTONDBCLK'",
     "output_type": "error",
     "traceback": [
      "\u001b[1;31m---------------------------------------------------------------------------\u001b[0m",
      "\u001b[1;31mAttributeError\u001b[0m                            Traceback (most recent call last)",
      "Cell \u001b[1;32mIn[6], line 12\u001b[0m, in \u001b[0;36mdraw_circle\u001b[1;34m(event, x, y, flags, param)\u001b[0m\n\u001b[0;32m     10\u001b[0m \u001b[38;5;28;01melif\u001b[39;00m event \u001b[38;5;241m==\u001b[39m cv2\u001b[38;5;241m.\u001b[39mEVENT_RBUTTONDOWN:\n\u001b[0;32m     11\u001b[0m     cv2\u001b[38;5;241m.\u001b[39mcircle(img, (x,y), \u001b[38;5;241m10\u001b[39m, (\u001b[38;5;241m255\u001b[39m,\u001b[38;5;241m0\u001b[39m,\u001b[38;5;241m0\u001b[39m), \u001b[38;5;241m2\u001b[39m)\n\u001b[1;32m---> 12\u001b[0m \u001b[38;5;28;01melif\u001b[39;00m event \u001b[38;5;241m==\u001b[39m \u001b[43mcv2\u001b[49m\u001b[38;5;241;43m.\u001b[39;49m\u001b[43mEVENT_LBUTTONDBCLK\u001b[49m:\n\u001b[0;32m     13\u001b[0m     cv2\u001b[38;5;241m.\u001b[39mcircle(img, (x,y), \u001b[38;5;241m20\u001b[39m, (\u001b[38;5;241m255\u001b[39m,\u001b[38;5;241m0\u001b[39m,\u001b[38;5;241m0\u001b[39m), \u001b[38;5;241m-\u001b[39m\u001b[38;5;241m1\u001b[39m)\n",
      "\u001b[1;31mAttributeError\u001b[0m: module 'cv2' has no attribute 'EVENT_LBUTTONDBCLK'"
     ]
    },
    {
     "ename": "AttributeError",
     "evalue": "module 'cv2' has no attribute 'EVENT_LBUTTONDBCLK'",
     "output_type": "error",
     "traceback": [
      "\u001b[1;31m---------------------------------------------------------------------------\u001b[0m",
      "\u001b[1;31mAttributeError\u001b[0m                            Traceback (most recent call last)",
      "Cell \u001b[1;32mIn[6], line 12\u001b[0m, in \u001b[0;36mdraw_circle\u001b[1;34m(event, x, y, flags, param)\u001b[0m\n\u001b[0;32m     10\u001b[0m \u001b[38;5;28;01melif\u001b[39;00m event \u001b[38;5;241m==\u001b[39m cv2\u001b[38;5;241m.\u001b[39mEVENT_RBUTTONDOWN:\n\u001b[0;32m     11\u001b[0m     cv2\u001b[38;5;241m.\u001b[39mcircle(img, (x,y), \u001b[38;5;241m10\u001b[39m, (\u001b[38;5;241m255\u001b[39m,\u001b[38;5;241m0\u001b[39m,\u001b[38;5;241m0\u001b[39m), \u001b[38;5;241m2\u001b[39m)\n\u001b[1;32m---> 12\u001b[0m \u001b[38;5;28;01melif\u001b[39;00m event \u001b[38;5;241m==\u001b[39m \u001b[43mcv2\u001b[49m\u001b[38;5;241;43m.\u001b[39;49m\u001b[43mEVENT_LBUTTONDBCLK\u001b[49m:\n\u001b[0;32m     13\u001b[0m     cv2\u001b[38;5;241m.\u001b[39mcircle(img, (x,y), \u001b[38;5;241m20\u001b[39m, (\u001b[38;5;241m255\u001b[39m,\u001b[38;5;241m0\u001b[39m,\u001b[38;5;241m0\u001b[39m), \u001b[38;5;241m-\u001b[39m\u001b[38;5;241m1\u001b[39m)\n",
      "\u001b[1;31mAttributeError\u001b[0m: module 'cv2' has no attribute 'EVENT_LBUTTONDBCLK'"
     ]
    },
    {
     "ename": "AttributeError",
     "evalue": "module 'cv2' has no attribute 'EVENT_LBUTTONDBCLK'",
     "output_type": "error",
     "traceback": [
      "\u001b[1;31m---------------------------------------------------------------------------\u001b[0m",
      "\u001b[1;31mAttributeError\u001b[0m                            Traceback (most recent call last)",
      "Cell \u001b[1;32mIn[6], line 12\u001b[0m, in \u001b[0;36mdraw_circle\u001b[1;34m(event, x, y, flags, param)\u001b[0m\n\u001b[0;32m     10\u001b[0m \u001b[38;5;28;01melif\u001b[39;00m event \u001b[38;5;241m==\u001b[39m cv2\u001b[38;5;241m.\u001b[39mEVENT_RBUTTONDOWN:\n\u001b[0;32m     11\u001b[0m     cv2\u001b[38;5;241m.\u001b[39mcircle(img, (x,y), \u001b[38;5;241m10\u001b[39m, (\u001b[38;5;241m255\u001b[39m,\u001b[38;5;241m0\u001b[39m,\u001b[38;5;241m0\u001b[39m), \u001b[38;5;241m2\u001b[39m)\n\u001b[1;32m---> 12\u001b[0m \u001b[38;5;28;01melif\u001b[39;00m event \u001b[38;5;241m==\u001b[39m \u001b[43mcv2\u001b[49m\u001b[38;5;241;43m.\u001b[39;49m\u001b[43mEVENT_LBUTTONDBCLK\u001b[49m:\n\u001b[0;32m     13\u001b[0m     cv2\u001b[38;5;241m.\u001b[39mcircle(img, (x,y), \u001b[38;5;241m20\u001b[39m, (\u001b[38;5;241m255\u001b[39m,\u001b[38;5;241m0\u001b[39m,\u001b[38;5;241m0\u001b[39m), \u001b[38;5;241m-\u001b[39m\u001b[38;5;241m1\u001b[39m)\n",
      "\u001b[1;31mAttributeError\u001b[0m: module 'cv2' has no attribute 'EVENT_LBUTTONDBCLK'"
     ]
    },
    {
     "ename": "AttributeError",
     "evalue": "module 'cv2' has no attribute 'EVENT_LBUTTONDBCLK'",
     "output_type": "error",
     "traceback": [
      "\u001b[1;31m---------------------------------------------------------------------------\u001b[0m",
      "\u001b[1;31mAttributeError\u001b[0m                            Traceback (most recent call last)",
      "Cell \u001b[1;32mIn[6], line 12\u001b[0m, in \u001b[0;36mdraw_circle\u001b[1;34m(event, x, y, flags, param)\u001b[0m\n\u001b[0;32m     10\u001b[0m \u001b[38;5;28;01melif\u001b[39;00m event \u001b[38;5;241m==\u001b[39m cv2\u001b[38;5;241m.\u001b[39mEVENT_RBUTTONDOWN:\n\u001b[0;32m     11\u001b[0m     cv2\u001b[38;5;241m.\u001b[39mcircle(img, (x,y), \u001b[38;5;241m10\u001b[39m, (\u001b[38;5;241m255\u001b[39m,\u001b[38;5;241m0\u001b[39m,\u001b[38;5;241m0\u001b[39m), \u001b[38;5;241m2\u001b[39m)\n\u001b[1;32m---> 12\u001b[0m \u001b[38;5;28;01melif\u001b[39;00m event \u001b[38;5;241m==\u001b[39m \u001b[43mcv2\u001b[49m\u001b[38;5;241;43m.\u001b[39;49m\u001b[43mEVENT_LBUTTONDBCLK\u001b[49m:\n\u001b[0;32m     13\u001b[0m     cv2\u001b[38;5;241m.\u001b[39mcircle(img, (x,y), \u001b[38;5;241m20\u001b[39m, (\u001b[38;5;241m255\u001b[39m,\u001b[38;5;241m0\u001b[39m,\u001b[38;5;241m0\u001b[39m), \u001b[38;5;241m-\u001b[39m\u001b[38;5;241m1\u001b[39m)\n",
      "\u001b[1;31mAttributeError\u001b[0m: module 'cv2' has no attribute 'EVENT_LBUTTONDBCLK'"
     ]
    },
    {
     "ename": "AttributeError",
     "evalue": "module 'cv2' has no attribute 'EVENT_LBUTTONDBCLK'",
     "output_type": "error",
     "traceback": [
      "\u001b[1;31m---------------------------------------------------------------------------\u001b[0m",
      "\u001b[1;31mAttributeError\u001b[0m                            Traceback (most recent call last)",
      "Cell \u001b[1;32mIn[6], line 12\u001b[0m, in \u001b[0;36mdraw_circle\u001b[1;34m(event, x, y, flags, param)\u001b[0m\n\u001b[0;32m     10\u001b[0m \u001b[38;5;28;01melif\u001b[39;00m event \u001b[38;5;241m==\u001b[39m cv2\u001b[38;5;241m.\u001b[39mEVENT_RBUTTONDOWN:\n\u001b[0;32m     11\u001b[0m     cv2\u001b[38;5;241m.\u001b[39mcircle(img, (x,y), \u001b[38;5;241m10\u001b[39m, (\u001b[38;5;241m255\u001b[39m,\u001b[38;5;241m0\u001b[39m,\u001b[38;5;241m0\u001b[39m), \u001b[38;5;241m2\u001b[39m)\n\u001b[1;32m---> 12\u001b[0m \u001b[38;5;28;01melif\u001b[39;00m event \u001b[38;5;241m==\u001b[39m \u001b[43mcv2\u001b[49m\u001b[38;5;241;43m.\u001b[39;49m\u001b[43mEVENT_LBUTTONDBCLK\u001b[49m:\n\u001b[0;32m     13\u001b[0m     cv2\u001b[38;5;241m.\u001b[39mcircle(img, (x,y), \u001b[38;5;241m20\u001b[39m, (\u001b[38;5;241m255\u001b[39m,\u001b[38;5;241m0\u001b[39m,\u001b[38;5;241m0\u001b[39m), \u001b[38;5;241m-\u001b[39m\u001b[38;5;241m1\u001b[39m)\n",
      "\u001b[1;31mAttributeError\u001b[0m: module 'cv2' has no attribute 'EVENT_LBUTTONDBCLK'"
     ]
    },
    {
     "ename": "AttributeError",
     "evalue": "module 'cv2' has no attribute 'EVENT_LBUTTONDBCLK'",
     "output_type": "error",
     "traceback": [
      "\u001b[1;31m---------------------------------------------------------------------------\u001b[0m",
      "\u001b[1;31mAttributeError\u001b[0m                            Traceback (most recent call last)",
      "Cell \u001b[1;32mIn[6], line 12\u001b[0m, in \u001b[0;36mdraw_circle\u001b[1;34m(event, x, y, flags, param)\u001b[0m\n\u001b[0;32m     10\u001b[0m \u001b[38;5;28;01melif\u001b[39;00m event \u001b[38;5;241m==\u001b[39m cv2\u001b[38;5;241m.\u001b[39mEVENT_RBUTTONDOWN:\n\u001b[0;32m     11\u001b[0m     cv2\u001b[38;5;241m.\u001b[39mcircle(img, (x,y), \u001b[38;5;241m10\u001b[39m, (\u001b[38;5;241m255\u001b[39m,\u001b[38;5;241m0\u001b[39m,\u001b[38;5;241m0\u001b[39m), \u001b[38;5;241m2\u001b[39m)\n\u001b[1;32m---> 12\u001b[0m \u001b[38;5;28;01melif\u001b[39;00m event \u001b[38;5;241m==\u001b[39m \u001b[43mcv2\u001b[49m\u001b[38;5;241;43m.\u001b[39;49m\u001b[43mEVENT_LBUTTONDBCLK\u001b[49m:\n\u001b[0;32m     13\u001b[0m     cv2\u001b[38;5;241m.\u001b[39mcircle(img, (x,y), \u001b[38;5;241m20\u001b[39m, (\u001b[38;5;241m255\u001b[39m,\u001b[38;5;241m0\u001b[39m,\u001b[38;5;241m0\u001b[39m), \u001b[38;5;241m-\u001b[39m\u001b[38;5;241m1\u001b[39m)\n",
      "\u001b[1;31mAttributeError\u001b[0m: module 'cv2' has no attribute 'EVENT_LBUTTONDBCLK'"
     ]
    },
    {
     "ename": "AttributeError",
     "evalue": "module 'cv2' has no attribute 'EVENT_LBUTTONDBCLK'",
     "output_type": "error",
     "traceback": [
      "\u001b[1;31m---------------------------------------------------------------------------\u001b[0m",
      "\u001b[1;31mAttributeError\u001b[0m                            Traceback (most recent call last)",
      "Cell \u001b[1;32mIn[6], line 12\u001b[0m, in \u001b[0;36mdraw_circle\u001b[1;34m(event, x, y, flags, param)\u001b[0m\n\u001b[0;32m     10\u001b[0m \u001b[38;5;28;01melif\u001b[39;00m event \u001b[38;5;241m==\u001b[39m cv2\u001b[38;5;241m.\u001b[39mEVENT_RBUTTONDOWN:\n\u001b[0;32m     11\u001b[0m     cv2\u001b[38;5;241m.\u001b[39mcircle(img, (x,y), \u001b[38;5;241m10\u001b[39m, (\u001b[38;5;241m255\u001b[39m,\u001b[38;5;241m0\u001b[39m,\u001b[38;5;241m0\u001b[39m), \u001b[38;5;241m2\u001b[39m)\n\u001b[1;32m---> 12\u001b[0m \u001b[38;5;28;01melif\u001b[39;00m event \u001b[38;5;241m==\u001b[39m \u001b[43mcv2\u001b[49m\u001b[38;5;241;43m.\u001b[39;49m\u001b[43mEVENT_LBUTTONDBCLK\u001b[49m:\n\u001b[0;32m     13\u001b[0m     cv2\u001b[38;5;241m.\u001b[39mcircle(img, (x,y), \u001b[38;5;241m20\u001b[39m, (\u001b[38;5;241m255\u001b[39m,\u001b[38;5;241m0\u001b[39m,\u001b[38;5;241m0\u001b[39m), \u001b[38;5;241m-\u001b[39m\u001b[38;5;241m1\u001b[39m)\n",
      "\u001b[1;31mAttributeError\u001b[0m: module 'cv2' has no attribute 'EVENT_LBUTTONDBCLK'"
     ]
    },
    {
     "ename": "AttributeError",
     "evalue": "module 'cv2' has no attribute 'EVENT_LBUTTONDBCLK'",
     "output_type": "error",
     "traceback": [
      "\u001b[1;31m---------------------------------------------------------------------------\u001b[0m",
      "\u001b[1;31mAttributeError\u001b[0m                            Traceback (most recent call last)",
      "Cell \u001b[1;32mIn[6], line 12\u001b[0m, in \u001b[0;36mdraw_circle\u001b[1;34m(event, x, y, flags, param)\u001b[0m\n\u001b[0;32m     10\u001b[0m \u001b[38;5;28;01melif\u001b[39;00m event \u001b[38;5;241m==\u001b[39m cv2\u001b[38;5;241m.\u001b[39mEVENT_RBUTTONDOWN:\n\u001b[0;32m     11\u001b[0m     cv2\u001b[38;5;241m.\u001b[39mcircle(img, (x,y), \u001b[38;5;241m10\u001b[39m, (\u001b[38;5;241m255\u001b[39m,\u001b[38;5;241m0\u001b[39m,\u001b[38;5;241m0\u001b[39m), \u001b[38;5;241m2\u001b[39m)\n\u001b[1;32m---> 12\u001b[0m \u001b[38;5;28;01melif\u001b[39;00m event \u001b[38;5;241m==\u001b[39m \u001b[43mcv2\u001b[49m\u001b[38;5;241;43m.\u001b[39;49m\u001b[43mEVENT_LBUTTONDBCLK\u001b[49m:\n\u001b[0;32m     13\u001b[0m     cv2\u001b[38;5;241m.\u001b[39mcircle(img, (x,y), \u001b[38;5;241m20\u001b[39m, (\u001b[38;5;241m255\u001b[39m,\u001b[38;5;241m0\u001b[39m,\u001b[38;5;241m0\u001b[39m), \u001b[38;5;241m-\u001b[39m\u001b[38;5;241m1\u001b[39m)\n",
      "\u001b[1;31mAttributeError\u001b[0m: module 'cv2' has no attribute 'EVENT_LBUTTONDBCLK'"
     ]
    },
    {
     "ename": "AttributeError",
     "evalue": "module 'cv2' has no attribute 'EVENT_LBUTTONDBCLK'",
     "output_type": "error",
     "traceback": [
      "\u001b[1;31m---------------------------------------------------------------------------\u001b[0m",
      "\u001b[1;31mAttributeError\u001b[0m                            Traceback (most recent call last)",
      "Cell \u001b[1;32mIn[6], line 12\u001b[0m, in \u001b[0;36mdraw_circle\u001b[1;34m(event, x, y, flags, param)\u001b[0m\n\u001b[0;32m     10\u001b[0m \u001b[38;5;28;01melif\u001b[39;00m event \u001b[38;5;241m==\u001b[39m cv2\u001b[38;5;241m.\u001b[39mEVENT_RBUTTONDOWN:\n\u001b[0;32m     11\u001b[0m     cv2\u001b[38;5;241m.\u001b[39mcircle(img, (x,y), \u001b[38;5;241m10\u001b[39m, (\u001b[38;5;241m255\u001b[39m,\u001b[38;5;241m0\u001b[39m,\u001b[38;5;241m0\u001b[39m), \u001b[38;5;241m2\u001b[39m)\n\u001b[1;32m---> 12\u001b[0m \u001b[38;5;28;01melif\u001b[39;00m event \u001b[38;5;241m==\u001b[39m \u001b[43mcv2\u001b[49m\u001b[38;5;241;43m.\u001b[39;49m\u001b[43mEVENT_LBUTTONDBCLK\u001b[49m:\n\u001b[0;32m     13\u001b[0m     cv2\u001b[38;5;241m.\u001b[39mcircle(img, (x,y), \u001b[38;5;241m20\u001b[39m, (\u001b[38;5;241m255\u001b[39m,\u001b[38;5;241m0\u001b[39m,\u001b[38;5;241m0\u001b[39m), \u001b[38;5;241m-\u001b[39m\u001b[38;5;241m1\u001b[39m)\n",
      "\u001b[1;31mAttributeError\u001b[0m: module 'cv2' has no attribute 'EVENT_LBUTTONDBCLK'"
     ]
    },
    {
     "ename": "AttributeError",
     "evalue": "module 'cv2' has no attribute 'EVENT_LBUTTONDBCLK'",
     "output_type": "error",
     "traceback": [
      "\u001b[1;31m---------------------------------------------------------------------------\u001b[0m",
      "\u001b[1;31mAttributeError\u001b[0m                            Traceback (most recent call last)",
      "Cell \u001b[1;32mIn[6], line 12\u001b[0m, in \u001b[0;36mdraw_circle\u001b[1;34m(event, x, y, flags, param)\u001b[0m\n\u001b[0;32m     10\u001b[0m \u001b[38;5;28;01melif\u001b[39;00m event \u001b[38;5;241m==\u001b[39m cv2\u001b[38;5;241m.\u001b[39mEVENT_RBUTTONDOWN:\n\u001b[0;32m     11\u001b[0m     cv2\u001b[38;5;241m.\u001b[39mcircle(img, (x,y), \u001b[38;5;241m10\u001b[39m, (\u001b[38;5;241m255\u001b[39m,\u001b[38;5;241m0\u001b[39m,\u001b[38;5;241m0\u001b[39m), \u001b[38;5;241m2\u001b[39m)\n\u001b[1;32m---> 12\u001b[0m \u001b[38;5;28;01melif\u001b[39;00m event \u001b[38;5;241m==\u001b[39m \u001b[43mcv2\u001b[49m\u001b[38;5;241;43m.\u001b[39;49m\u001b[43mEVENT_LBUTTONDBCLK\u001b[49m:\n\u001b[0;32m     13\u001b[0m     cv2\u001b[38;5;241m.\u001b[39mcircle(img, (x,y), \u001b[38;5;241m20\u001b[39m, (\u001b[38;5;241m255\u001b[39m,\u001b[38;5;241m0\u001b[39m,\u001b[38;5;241m0\u001b[39m), \u001b[38;5;241m-\u001b[39m\u001b[38;5;241m1\u001b[39m)\n",
      "\u001b[1;31mAttributeError\u001b[0m: module 'cv2' has no attribute 'EVENT_LBUTTONDBCLK'"
     ]
    },
    {
     "ename": "AttributeError",
     "evalue": "module 'cv2' has no attribute 'EVENT_LBUTTONDBCLK'",
     "output_type": "error",
     "traceback": [
      "\u001b[1;31m---------------------------------------------------------------------------\u001b[0m",
      "\u001b[1;31mAttributeError\u001b[0m                            Traceback (most recent call last)",
      "Cell \u001b[1;32mIn[6], line 12\u001b[0m, in \u001b[0;36mdraw_circle\u001b[1;34m(event, x, y, flags, param)\u001b[0m\n\u001b[0;32m     10\u001b[0m \u001b[38;5;28;01melif\u001b[39;00m event \u001b[38;5;241m==\u001b[39m cv2\u001b[38;5;241m.\u001b[39mEVENT_RBUTTONDOWN:\n\u001b[0;32m     11\u001b[0m     cv2\u001b[38;5;241m.\u001b[39mcircle(img, (x,y), \u001b[38;5;241m10\u001b[39m, (\u001b[38;5;241m255\u001b[39m,\u001b[38;5;241m0\u001b[39m,\u001b[38;5;241m0\u001b[39m), \u001b[38;5;241m2\u001b[39m)\n\u001b[1;32m---> 12\u001b[0m \u001b[38;5;28;01melif\u001b[39;00m event \u001b[38;5;241m==\u001b[39m \u001b[43mcv2\u001b[49m\u001b[38;5;241;43m.\u001b[39;49m\u001b[43mEVENT_LBUTTONDBCLK\u001b[49m:\n\u001b[0;32m     13\u001b[0m     cv2\u001b[38;5;241m.\u001b[39mcircle(img, (x,y), \u001b[38;5;241m20\u001b[39m, (\u001b[38;5;241m255\u001b[39m,\u001b[38;5;241m0\u001b[39m,\u001b[38;5;241m0\u001b[39m), \u001b[38;5;241m-\u001b[39m\u001b[38;5;241m1\u001b[39m)\n",
      "\u001b[1;31mAttributeError\u001b[0m: module 'cv2' has no attribute 'EVENT_LBUTTONDBCLK'"
     ]
    },
    {
     "ename": "AttributeError",
     "evalue": "module 'cv2' has no attribute 'EVENT_LBUTTONDBCLK'",
     "output_type": "error",
     "traceback": [
      "\u001b[1;31m---------------------------------------------------------------------------\u001b[0m",
      "\u001b[1;31mAttributeError\u001b[0m                            Traceback (most recent call last)",
      "Cell \u001b[1;32mIn[6], line 12\u001b[0m, in \u001b[0;36mdraw_circle\u001b[1;34m(event, x, y, flags, param)\u001b[0m\n\u001b[0;32m     10\u001b[0m \u001b[38;5;28;01melif\u001b[39;00m event \u001b[38;5;241m==\u001b[39m cv2\u001b[38;5;241m.\u001b[39mEVENT_RBUTTONDOWN:\n\u001b[0;32m     11\u001b[0m     cv2\u001b[38;5;241m.\u001b[39mcircle(img, (x,y), \u001b[38;5;241m10\u001b[39m, (\u001b[38;5;241m255\u001b[39m,\u001b[38;5;241m0\u001b[39m,\u001b[38;5;241m0\u001b[39m), \u001b[38;5;241m2\u001b[39m)\n\u001b[1;32m---> 12\u001b[0m \u001b[38;5;28;01melif\u001b[39;00m event \u001b[38;5;241m==\u001b[39m \u001b[43mcv2\u001b[49m\u001b[38;5;241;43m.\u001b[39;49m\u001b[43mEVENT_LBUTTONDBCLK\u001b[49m:\n\u001b[0;32m     13\u001b[0m     cv2\u001b[38;5;241m.\u001b[39mcircle(img, (x,y), \u001b[38;5;241m20\u001b[39m, (\u001b[38;5;241m255\u001b[39m,\u001b[38;5;241m0\u001b[39m,\u001b[38;5;241m0\u001b[39m), \u001b[38;5;241m-\u001b[39m\u001b[38;5;241m1\u001b[39m)\n",
      "\u001b[1;31mAttributeError\u001b[0m: module 'cv2' has no attribute 'EVENT_LBUTTONDBCLK'"
     ]
    },
    {
     "ename": "AttributeError",
     "evalue": "module 'cv2' has no attribute 'EVENT_LBUTTONDBCLK'",
     "output_type": "error",
     "traceback": [
      "\u001b[1;31m---------------------------------------------------------------------------\u001b[0m",
      "\u001b[1;31mAttributeError\u001b[0m                            Traceback (most recent call last)",
      "Cell \u001b[1;32mIn[6], line 12\u001b[0m, in \u001b[0;36mdraw_circle\u001b[1;34m(event, x, y, flags, param)\u001b[0m\n\u001b[0;32m     10\u001b[0m \u001b[38;5;28;01melif\u001b[39;00m event \u001b[38;5;241m==\u001b[39m cv2\u001b[38;5;241m.\u001b[39mEVENT_RBUTTONDOWN:\n\u001b[0;32m     11\u001b[0m     cv2\u001b[38;5;241m.\u001b[39mcircle(img, (x,y), \u001b[38;5;241m10\u001b[39m, (\u001b[38;5;241m255\u001b[39m,\u001b[38;5;241m0\u001b[39m,\u001b[38;5;241m0\u001b[39m), \u001b[38;5;241m2\u001b[39m)\n\u001b[1;32m---> 12\u001b[0m \u001b[38;5;28;01melif\u001b[39;00m event \u001b[38;5;241m==\u001b[39m \u001b[43mcv2\u001b[49m\u001b[38;5;241;43m.\u001b[39;49m\u001b[43mEVENT_LBUTTONDBCLK\u001b[49m:\n\u001b[0;32m     13\u001b[0m     cv2\u001b[38;5;241m.\u001b[39mcircle(img, (x,y), \u001b[38;5;241m20\u001b[39m, (\u001b[38;5;241m255\u001b[39m,\u001b[38;5;241m0\u001b[39m,\u001b[38;5;241m0\u001b[39m), \u001b[38;5;241m-\u001b[39m\u001b[38;5;241m1\u001b[39m)\n",
      "\u001b[1;31mAttributeError\u001b[0m: module 'cv2' has no attribute 'EVENT_LBUTTONDBCLK'"
     ]
    },
    {
     "ename": "AttributeError",
     "evalue": "module 'cv2' has no attribute 'EVENT_LBUTTONDBCLK'",
     "output_type": "error",
     "traceback": [
      "\u001b[1;31m---------------------------------------------------------------------------\u001b[0m",
      "\u001b[1;31mAttributeError\u001b[0m                            Traceback (most recent call last)",
      "Cell \u001b[1;32mIn[6], line 12\u001b[0m, in \u001b[0;36mdraw_circle\u001b[1;34m(event, x, y, flags, param)\u001b[0m\n\u001b[0;32m     10\u001b[0m \u001b[38;5;28;01melif\u001b[39;00m event \u001b[38;5;241m==\u001b[39m cv2\u001b[38;5;241m.\u001b[39mEVENT_RBUTTONDOWN:\n\u001b[0;32m     11\u001b[0m     cv2\u001b[38;5;241m.\u001b[39mcircle(img, (x,y), \u001b[38;5;241m10\u001b[39m, (\u001b[38;5;241m255\u001b[39m,\u001b[38;5;241m0\u001b[39m,\u001b[38;5;241m0\u001b[39m), \u001b[38;5;241m2\u001b[39m)\n\u001b[1;32m---> 12\u001b[0m \u001b[38;5;28;01melif\u001b[39;00m event \u001b[38;5;241m==\u001b[39m \u001b[43mcv2\u001b[49m\u001b[38;5;241;43m.\u001b[39;49m\u001b[43mEVENT_LBUTTONDBCLK\u001b[49m:\n\u001b[0;32m     13\u001b[0m     cv2\u001b[38;5;241m.\u001b[39mcircle(img, (x,y), \u001b[38;5;241m20\u001b[39m, (\u001b[38;5;241m255\u001b[39m,\u001b[38;5;241m0\u001b[39m,\u001b[38;5;241m0\u001b[39m), \u001b[38;5;241m-\u001b[39m\u001b[38;5;241m1\u001b[39m)\n",
      "\u001b[1;31mAttributeError\u001b[0m: module 'cv2' has no attribute 'EVENT_LBUTTONDBCLK'"
     ]
    },
    {
     "ename": "AttributeError",
     "evalue": "module 'cv2' has no attribute 'EVENT_LBUTTONDBCLK'",
     "output_type": "error",
     "traceback": [
      "\u001b[1;31m---------------------------------------------------------------------------\u001b[0m",
      "\u001b[1;31mAttributeError\u001b[0m                            Traceback (most recent call last)",
      "Cell \u001b[1;32mIn[6], line 12\u001b[0m, in \u001b[0;36mdraw_circle\u001b[1;34m(event, x, y, flags, param)\u001b[0m\n\u001b[0;32m     10\u001b[0m \u001b[38;5;28;01melif\u001b[39;00m event \u001b[38;5;241m==\u001b[39m cv2\u001b[38;5;241m.\u001b[39mEVENT_RBUTTONDOWN:\n\u001b[0;32m     11\u001b[0m     cv2\u001b[38;5;241m.\u001b[39mcircle(img, (x,y), \u001b[38;5;241m10\u001b[39m, (\u001b[38;5;241m255\u001b[39m,\u001b[38;5;241m0\u001b[39m,\u001b[38;5;241m0\u001b[39m), \u001b[38;5;241m2\u001b[39m)\n\u001b[1;32m---> 12\u001b[0m \u001b[38;5;28;01melif\u001b[39;00m event \u001b[38;5;241m==\u001b[39m \u001b[43mcv2\u001b[49m\u001b[38;5;241;43m.\u001b[39;49m\u001b[43mEVENT_LBUTTONDBCLK\u001b[49m:\n\u001b[0;32m     13\u001b[0m     cv2\u001b[38;5;241m.\u001b[39mcircle(img, (x,y), \u001b[38;5;241m20\u001b[39m, (\u001b[38;5;241m255\u001b[39m,\u001b[38;5;241m0\u001b[39m,\u001b[38;5;241m0\u001b[39m), \u001b[38;5;241m-\u001b[39m\u001b[38;5;241m1\u001b[39m)\n",
      "\u001b[1;31mAttributeError\u001b[0m: module 'cv2' has no attribute 'EVENT_LBUTTONDBCLK'"
     ]
    },
    {
     "ename": "AttributeError",
     "evalue": "module 'cv2' has no attribute 'EVENT_LBUTTONDBCLK'",
     "output_type": "error",
     "traceback": [
      "\u001b[1;31m---------------------------------------------------------------------------\u001b[0m",
      "\u001b[1;31mAttributeError\u001b[0m                            Traceback (most recent call last)",
      "Cell \u001b[1;32mIn[6], line 12\u001b[0m, in \u001b[0;36mdraw_circle\u001b[1;34m(event, x, y, flags, param)\u001b[0m\n\u001b[0;32m     10\u001b[0m \u001b[38;5;28;01melif\u001b[39;00m event \u001b[38;5;241m==\u001b[39m cv2\u001b[38;5;241m.\u001b[39mEVENT_RBUTTONDOWN:\n\u001b[0;32m     11\u001b[0m     cv2\u001b[38;5;241m.\u001b[39mcircle(img, (x,y), \u001b[38;5;241m10\u001b[39m, (\u001b[38;5;241m255\u001b[39m,\u001b[38;5;241m0\u001b[39m,\u001b[38;5;241m0\u001b[39m), \u001b[38;5;241m2\u001b[39m)\n\u001b[1;32m---> 12\u001b[0m \u001b[38;5;28;01melif\u001b[39;00m event \u001b[38;5;241m==\u001b[39m \u001b[43mcv2\u001b[49m\u001b[38;5;241;43m.\u001b[39;49m\u001b[43mEVENT_LBUTTONDBCLK\u001b[49m:\n\u001b[0;32m     13\u001b[0m     cv2\u001b[38;5;241m.\u001b[39mcircle(img, (x,y), \u001b[38;5;241m20\u001b[39m, (\u001b[38;5;241m255\u001b[39m,\u001b[38;5;241m0\u001b[39m,\u001b[38;5;241m0\u001b[39m), \u001b[38;5;241m-\u001b[39m\u001b[38;5;241m1\u001b[39m)\n",
      "\u001b[1;31mAttributeError\u001b[0m: module 'cv2' has no attribute 'EVENT_LBUTTONDBCLK'"
     ]
    },
    {
     "ename": "AttributeError",
     "evalue": "module 'cv2' has no attribute 'EVENT_LBUTTONDBCLK'",
     "output_type": "error",
     "traceback": [
      "\u001b[1;31m---------------------------------------------------------------------------\u001b[0m",
      "\u001b[1;31mAttributeError\u001b[0m                            Traceback (most recent call last)",
      "Cell \u001b[1;32mIn[6], line 12\u001b[0m, in \u001b[0;36mdraw_circle\u001b[1;34m(event, x, y, flags, param)\u001b[0m\n\u001b[0;32m     10\u001b[0m \u001b[38;5;28;01melif\u001b[39;00m event \u001b[38;5;241m==\u001b[39m cv2\u001b[38;5;241m.\u001b[39mEVENT_RBUTTONDOWN:\n\u001b[0;32m     11\u001b[0m     cv2\u001b[38;5;241m.\u001b[39mcircle(img, (x,y), \u001b[38;5;241m10\u001b[39m, (\u001b[38;5;241m255\u001b[39m,\u001b[38;5;241m0\u001b[39m,\u001b[38;5;241m0\u001b[39m), \u001b[38;5;241m2\u001b[39m)\n\u001b[1;32m---> 12\u001b[0m \u001b[38;5;28;01melif\u001b[39;00m event \u001b[38;5;241m==\u001b[39m \u001b[43mcv2\u001b[49m\u001b[38;5;241;43m.\u001b[39;49m\u001b[43mEVENT_LBUTTONDBCLK\u001b[49m:\n\u001b[0;32m     13\u001b[0m     cv2\u001b[38;5;241m.\u001b[39mcircle(img, (x,y), \u001b[38;5;241m20\u001b[39m, (\u001b[38;5;241m255\u001b[39m,\u001b[38;5;241m0\u001b[39m,\u001b[38;5;241m0\u001b[39m), \u001b[38;5;241m-\u001b[39m\u001b[38;5;241m1\u001b[39m)\n",
      "\u001b[1;31mAttributeError\u001b[0m: module 'cv2' has no attribute 'EVENT_LBUTTONDBCLK'"
     ]
    },
    {
     "ename": "AttributeError",
     "evalue": "module 'cv2' has no attribute 'EVENT_LBUTTONDBCLK'",
     "output_type": "error",
     "traceback": [
      "\u001b[1;31m---------------------------------------------------------------------------\u001b[0m",
      "\u001b[1;31mAttributeError\u001b[0m                            Traceback (most recent call last)",
      "Cell \u001b[1;32mIn[6], line 12\u001b[0m, in \u001b[0;36mdraw_circle\u001b[1;34m(event, x, y, flags, param)\u001b[0m\n\u001b[0;32m     10\u001b[0m \u001b[38;5;28;01melif\u001b[39;00m event \u001b[38;5;241m==\u001b[39m cv2\u001b[38;5;241m.\u001b[39mEVENT_RBUTTONDOWN:\n\u001b[0;32m     11\u001b[0m     cv2\u001b[38;5;241m.\u001b[39mcircle(img, (x,y), \u001b[38;5;241m10\u001b[39m, (\u001b[38;5;241m255\u001b[39m,\u001b[38;5;241m0\u001b[39m,\u001b[38;5;241m0\u001b[39m), \u001b[38;5;241m2\u001b[39m)\n\u001b[1;32m---> 12\u001b[0m \u001b[38;5;28;01melif\u001b[39;00m event \u001b[38;5;241m==\u001b[39m \u001b[43mcv2\u001b[49m\u001b[38;5;241;43m.\u001b[39;49m\u001b[43mEVENT_LBUTTONDBCLK\u001b[49m:\n\u001b[0;32m     13\u001b[0m     cv2\u001b[38;5;241m.\u001b[39mcircle(img, (x,y), \u001b[38;5;241m20\u001b[39m, (\u001b[38;5;241m255\u001b[39m,\u001b[38;5;241m0\u001b[39m,\u001b[38;5;241m0\u001b[39m), \u001b[38;5;241m-\u001b[39m\u001b[38;5;241m1\u001b[39m)\n",
      "\u001b[1;31mAttributeError\u001b[0m: module 'cv2' has no attribute 'EVENT_LBUTTONDBCLK'"
     ]
    },
    {
     "ename": "AttributeError",
     "evalue": "module 'cv2' has no attribute 'EVENT_LBUTTONDBCLK'",
     "output_type": "error",
     "traceback": [
      "\u001b[1;31m---------------------------------------------------------------------------\u001b[0m",
      "\u001b[1;31mAttributeError\u001b[0m                            Traceback (most recent call last)",
      "Cell \u001b[1;32mIn[6], line 12\u001b[0m, in \u001b[0;36mdraw_circle\u001b[1;34m(event, x, y, flags, param)\u001b[0m\n\u001b[0;32m     10\u001b[0m \u001b[38;5;28;01melif\u001b[39;00m event \u001b[38;5;241m==\u001b[39m cv2\u001b[38;5;241m.\u001b[39mEVENT_RBUTTONDOWN:\n\u001b[0;32m     11\u001b[0m     cv2\u001b[38;5;241m.\u001b[39mcircle(img, (x,y), \u001b[38;5;241m10\u001b[39m, (\u001b[38;5;241m255\u001b[39m,\u001b[38;5;241m0\u001b[39m,\u001b[38;5;241m0\u001b[39m), \u001b[38;5;241m2\u001b[39m)\n\u001b[1;32m---> 12\u001b[0m \u001b[38;5;28;01melif\u001b[39;00m event \u001b[38;5;241m==\u001b[39m \u001b[43mcv2\u001b[49m\u001b[38;5;241;43m.\u001b[39;49m\u001b[43mEVENT_LBUTTONDBCLK\u001b[49m:\n\u001b[0;32m     13\u001b[0m     cv2\u001b[38;5;241m.\u001b[39mcircle(img, (x,y), \u001b[38;5;241m20\u001b[39m, (\u001b[38;5;241m255\u001b[39m,\u001b[38;5;241m0\u001b[39m,\u001b[38;5;241m0\u001b[39m), \u001b[38;5;241m-\u001b[39m\u001b[38;5;241m1\u001b[39m)\n",
      "\u001b[1;31mAttributeError\u001b[0m: module 'cv2' has no attribute 'EVENT_LBUTTONDBCLK'"
     ]
    },
    {
     "ename": "AttributeError",
     "evalue": "module 'cv2' has no attribute 'EVENT_LBUTTONDBCLK'",
     "output_type": "error",
     "traceback": [
      "\u001b[1;31m---------------------------------------------------------------------------\u001b[0m",
      "\u001b[1;31mAttributeError\u001b[0m                            Traceback (most recent call last)",
      "Cell \u001b[1;32mIn[6], line 12\u001b[0m, in \u001b[0;36mdraw_circle\u001b[1;34m(event, x, y, flags, param)\u001b[0m\n\u001b[0;32m     10\u001b[0m \u001b[38;5;28;01melif\u001b[39;00m event \u001b[38;5;241m==\u001b[39m cv2\u001b[38;5;241m.\u001b[39mEVENT_RBUTTONDOWN:\n\u001b[0;32m     11\u001b[0m     cv2\u001b[38;5;241m.\u001b[39mcircle(img, (x,y), \u001b[38;5;241m10\u001b[39m, (\u001b[38;5;241m255\u001b[39m,\u001b[38;5;241m0\u001b[39m,\u001b[38;5;241m0\u001b[39m), \u001b[38;5;241m2\u001b[39m)\n\u001b[1;32m---> 12\u001b[0m \u001b[38;5;28;01melif\u001b[39;00m event \u001b[38;5;241m==\u001b[39m \u001b[43mcv2\u001b[49m\u001b[38;5;241;43m.\u001b[39;49m\u001b[43mEVENT_LBUTTONDBCLK\u001b[49m:\n\u001b[0;32m     13\u001b[0m     cv2\u001b[38;5;241m.\u001b[39mcircle(img, (x,y), \u001b[38;5;241m20\u001b[39m, (\u001b[38;5;241m255\u001b[39m,\u001b[38;5;241m0\u001b[39m,\u001b[38;5;241m0\u001b[39m), \u001b[38;5;241m-\u001b[39m\u001b[38;5;241m1\u001b[39m)\n",
      "\u001b[1;31mAttributeError\u001b[0m: module 'cv2' has no attribute 'EVENT_LBUTTONDBCLK'"
     ]
    },
    {
     "ename": "AttributeError",
     "evalue": "module 'cv2' has no attribute 'EVENT_LBUTTONDBCLK'",
     "output_type": "error",
     "traceback": [
      "\u001b[1;31m---------------------------------------------------------------------------\u001b[0m",
      "\u001b[1;31mAttributeError\u001b[0m                            Traceback (most recent call last)",
      "Cell \u001b[1;32mIn[6], line 12\u001b[0m, in \u001b[0;36mdraw_circle\u001b[1;34m(event, x, y, flags, param)\u001b[0m\n\u001b[0;32m     10\u001b[0m \u001b[38;5;28;01melif\u001b[39;00m event \u001b[38;5;241m==\u001b[39m cv2\u001b[38;5;241m.\u001b[39mEVENT_RBUTTONDOWN:\n\u001b[0;32m     11\u001b[0m     cv2\u001b[38;5;241m.\u001b[39mcircle(img, (x,y), \u001b[38;5;241m10\u001b[39m, (\u001b[38;5;241m255\u001b[39m,\u001b[38;5;241m0\u001b[39m,\u001b[38;5;241m0\u001b[39m), \u001b[38;5;241m2\u001b[39m)\n\u001b[1;32m---> 12\u001b[0m \u001b[38;5;28;01melif\u001b[39;00m event \u001b[38;5;241m==\u001b[39m \u001b[43mcv2\u001b[49m\u001b[38;5;241;43m.\u001b[39;49m\u001b[43mEVENT_LBUTTONDBCLK\u001b[49m:\n\u001b[0;32m     13\u001b[0m     cv2\u001b[38;5;241m.\u001b[39mcircle(img, (x,y), \u001b[38;5;241m20\u001b[39m, (\u001b[38;5;241m255\u001b[39m,\u001b[38;5;241m0\u001b[39m,\u001b[38;5;241m0\u001b[39m), \u001b[38;5;241m-\u001b[39m\u001b[38;5;241m1\u001b[39m)\n",
      "\u001b[1;31mAttributeError\u001b[0m: module 'cv2' has no attribute 'EVENT_LBUTTONDBCLK'"
     ]
    },
    {
     "ename": "AttributeError",
     "evalue": "module 'cv2' has no attribute 'EVENT_LBUTTONDBCLK'",
     "output_type": "error",
     "traceback": [
      "\u001b[1;31m---------------------------------------------------------------------------\u001b[0m",
      "\u001b[1;31mAttributeError\u001b[0m                            Traceback (most recent call last)",
      "Cell \u001b[1;32mIn[6], line 12\u001b[0m, in \u001b[0;36mdraw_circle\u001b[1;34m(event, x, y, flags, param)\u001b[0m\n\u001b[0;32m     10\u001b[0m \u001b[38;5;28;01melif\u001b[39;00m event \u001b[38;5;241m==\u001b[39m cv2\u001b[38;5;241m.\u001b[39mEVENT_RBUTTONDOWN:\n\u001b[0;32m     11\u001b[0m     cv2\u001b[38;5;241m.\u001b[39mcircle(img, (x,y), \u001b[38;5;241m10\u001b[39m, (\u001b[38;5;241m255\u001b[39m,\u001b[38;5;241m0\u001b[39m,\u001b[38;5;241m0\u001b[39m), \u001b[38;5;241m2\u001b[39m)\n\u001b[1;32m---> 12\u001b[0m \u001b[38;5;28;01melif\u001b[39;00m event \u001b[38;5;241m==\u001b[39m \u001b[43mcv2\u001b[49m\u001b[38;5;241;43m.\u001b[39;49m\u001b[43mEVENT_LBUTTONDBCLK\u001b[49m:\n\u001b[0;32m     13\u001b[0m     cv2\u001b[38;5;241m.\u001b[39mcircle(img, (x,y), \u001b[38;5;241m20\u001b[39m, (\u001b[38;5;241m255\u001b[39m,\u001b[38;5;241m0\u001b[39m,\u001b[38;5;241m0\u001b[39m), \u001b[38;5;241m-\u001b[39m\u001b[38;5;241m1\u001b[39m)\n",
      "\u001b[1;31mAttributeError\u001b[0m: module 'cv2' has no attribute 'EVENT_LBUTTONDBCLK'"
     ]
    },
    {
     "ename": "AttributeError",
     "evalue": "module 'cv2' has no attribute 'EVENT_LBUTTONDBCLK'",
     "output_type": "error",
     "traceback": [
      "\u001b[1;31m---------------------------------------------------------------------------\u001b[0m",
      "\u001b[1;31mAttributeError\u001b[0m                            Traceback (most recent call last)",
      "Cell \u001b[1;32mIn[6], line 12\u001b[0m, in \u001b[0;36mdraw_circle\u001b[1;34m(event, x, y, flags, param)\u001b[0m\n\u001b[0;32m     10\u001b[0m \u001b[38;5;28;01melif\u001b[39;00m event \u001b[38;5;241m==\u001b[39m cv2\u001b[38;5;241m.\u001b[39mEVENT_RBUTTONDOWN:\n\u001b[0;32m     11\u001b[0m     cv2\u001b[38;5;241m.\u001b[39mcircle(img, (x,y), \u001b[38;5;241m10\u001b[39m, (\u001b[38;5;241m255\u001b[39m,\u001b[38;5;241m0\u001b[39m,\u001b[38;5;241m0\u001b[39m), \u001b[38;5;241m2\u001b[39m)\n\u001b[1;32m---> 12\u001b[0m \u001b[38;5;28;01melif\u001b[39;00m event \u001b[38;5;241m==\u001b[39m \u001b[43mcv2\u001b[49m\u001b[38;5;241;43m.\u001b[39;49m\u001b[43mEVENT_LBUTTONDBCLK\u001b[49m:\n\u001b[0;32m     13\u001b[0m     cv2\u001b[38;5;241m.\u001b[39mcircle(img, (x,y), \u001b[38;5;241m20\u001b[39m, (\u001b[38;5;241m255\u001b[39m,\u001b[38;5;241m0\u001b[39m,\u001b[38;5;241m0\u001b[39m), \u001b[38;5;241m-\u001b[39m\u001b[38;5;241m1\u001b[39m)\n",
      "\u001b[1;31mAttributeError\u001b[0m: module 'cv2' has no attribute 'EVENT_LBUTTONDBCLK'"
     ]
    },
    {
     "ename": "AttributeError",
     "evalue": "module 'cv2' has no attribute 'EVENT_LBUTTONDBCLK'",
     "output_type": "error",
     "traceback": [
      "\u001b[1;31m---------------------------------------------------------------------------\u001b[0m",
      "\u001b[1;31mAttributeError\u001b[0m                            Traceback (most recent call last)",
      "Cell \u001b[1;32mIn[6], line 12\u001b[0m, in \u001b[0;36mdraw_circle\u001b[1;34m(event, x, y, flags, param)\u001b[0m\n\u001b[0;32m     10\u001b[0m \u001b[38;5;28;01melif\u001b[39;00m event \u001b[38;5;241m==\u001b[39m cv2\u001b[38;5;241m.\u001b[39mEVENT_RBUTTONDOWN:\n\u001b[0;32m     11\u001b[0m     cv2\u001b[38;5;241m.\u001b[39mcircle(img, (x,y), \u001b[38;5;241m10\u001b[39m, (\u001b[38;5;241m255\u001b[39m,\u001b[38;5;241m0\u001b[39m,\u001b[38;5;241m0\u001b[39m), \u001b[38;5;241m2\u001b[39m)\n\u001b[1;32m---> 12\u001b[0m \u001b[38;5;28;01melif\u001b[39;00m event \u001b[38;5;241m==\u001b[39m \u001b[43mcv2\u001b[49m\u001b[38;5;241;43m.\u001b[39;49m\u001b[43mEVENT_LBUTTONDBCLK\u001b[49m:\n\u001b[0;32m     13\u001b[0m     cv2\u001b[38;5;241m.\u001b[39mcircle(img, (x,y), \u001b[38;5;241m20\u001b[39m, (\u001b[38;5;241m255\u001b[39m,\u001b[38;5;241m0\u001b[39m,\u001b[38;5;241m0\u001b[39m), \u001b[38;5;241m-\u001b[39m\u001b[38;5;241m1\u001b[39m)\n",
      "\u001b[1;31mAttributeError\u001b[0m: module 'cv2' has no attribute 'EVENT_LBUTTONDBCLK'"
     ]
    },
    {
     "ename": "AttributeError",
     "evalue": "module 'cv2' has no attribute 'EVENT_LBUTTONDBCLK'",
     "output_type": "error",
     "traceback": [
      "\u001b[1;31m---------------------------------------------------------------------------\u001b[0m",
      "\u001b[1;31mAttributeError\u001b[0m                            Traceback (most recent call last)",
      "Cell \u001b[1;32mIn[6], line 12\u001b[0m, in \u001b[0;36mdraw_circle\u001b[1;34m(event, x, y, flags, param)\u001b[0m\n\u001b[0;32m     10\u001b[0m \u001b[38;5;28;01melif\u001b[39;00m event \u001b[38;5;241m==\u001b[39m cv2\u001b[38;5;241m.\u001b[39mEVENT_RBUTTONDOWN:\n\u001b[0;32m     11\u001b[0m     cv2\u001b[38;5;241m.\u001b[39mcircle(img, (x,y), \u001b[38;5;241m10\u001b[39m, (\u001b[38;5;241m255\u001b[39m,\u001b[38;5;241m0\u001b[39m,\u001b[38;5;241m0\u001b[39m), \u001b[38;5;241m2\u001b[39m)\n\u001b[1;32m---> 12\u001b[0m \u001b[38;5;28;01melif\u001b[39;00m event \u001b[38;5;241m==\u001b[39m \u001b[43mcv2\u001b[49m\u001b[38;5;241;43m.\u001b[39;49m\u001b[43mEVENT_LBUTTONDBCLK\u001b[49m:\n\u001b[0;32m     13\u001b[0m     cv2\u001b[38;5;241m.\u001b[39mcircle(img, (x,y), \u001b[38;5;241m20\u001b[39m, (\u001b[38;5;241m255\u001b[39m,\u001b[38;5;241m0\u001b[39m,\u001b[38;5;241m0\u001b[39m), \u001b[38;5;241m-\u001b[39m\u001b[38;5;241m1\u001b[39m)\n",
      "\u001b[1;31mAttributeError\u001b[0m: module 'cv2' has no attribute 'EVENT_LBUTTONDBCLK'"
     ]
    },
    {
     "ename": "AttributeError",
     "evalue": "module 'cv2' has no attribute 'EVENT_LBUTTONDBCLK'",
     "output_type": "error",
     "traceback": [
      "\u001b[1;31m---------------------------------------------------------------------------\u001b[0m",
      "\u001b[1;31mAttributeError\u001b[0m                            Traceback (most recent call last)",
      "Cell \u001b[1;32mIn[6], line 12\u001b[0m, in \u001b[0;36mdraw_circle\u001b[1;34m(event, x, y, flags, param)\u001b[0m\n\u001b[0;32m     10\u001b[0m \u001b[38;5;28;01melif\u001b[39;00m event \u001b[38;5;241m==\u001b[39m cv2\u001b[38;5;241m.\u001b[39mEVENT_RBUTTONDOWN:\n\u001b[0;32m     11\u001b[0m     cv2\u001b[38;5;241m.\u001b[39mcircle(img, (x,y), \u001b[38;5;241m10\u001b[39m, (\u001b[38;5;241m255\u001b[39m,\u001b[38;5;241m0\u001b[39m,\u001b[38;5;241m0\u001b[39m), \u001b[38;5;241m2\u001b[39m)\n\u001b[1;32m---> 12\u001b[0m \u001b[38;5;28;01melif\u001b[39;00m event \u001b[38;5;241m==\u001b[39m \u001b[43mcv2\u001b[49m\u001b[38;5;241;43m.\u001b[39;49m\u001b[43mEVENT_LBUTTONDBCLK\u001b[49m:\n\u001b[0;32m     13\u001b[0m     cv2\u001b[38;5;241m.\u001b[39mcircle(img, (x,y), \u001b[38;5;241m20\u001b[39m, (\u001b[38;5;241m255\u001b[39m,\u001b[38;5;241m0\u001b[39m,\u001b[38;5;241m0\u001b[39m), \u001b[38;5;241m-\u001b[39m\u001b[38;5;241m1\u001b[39m)\n",
      "\u001b[1;31mAttributeError\u001b[0m: module 'cv2' has no attribute 'EVENT_LBUTTONDBCLK'"
     ]
    },
    {
     "ename": "AttributeError",
     "evalue": "module 'cv2' has no attribute 'EVENT_LBUTTONDBCLK'",
     "output_type": "error",
     "traceback": [
      "\u001b[1;31m---------------------------------------------------------------------------\u001b[0m",
      "\u001b[1;31mAttributeError\u001b[0m                            Traceback (most recent call last)",
      "Cell \u001b[1;32mIn[6], line 12\u001b[0m, in \u001b[0;36mdraw_circle\u001b[1;34m(event, x, y, flags, param)\u001b[0m\n\u001b[0;32m     10\u001b[0m \u001b[38;5;28;01melif\u001b[39;00m event \u001b[38;5;241m==\u001b[39m cv2\u001b[38;5;241m.\u001b[39mEVENT_RBUTTONDOWN:\n\u001b[0;32m     11\u001b[0m     cv2\u001b[38;5;241m.\u001b[39mcircle(img, (x,y), \u001b[38;5;241m10\u001b[39m, (\u001b[38;5;241m255\u001b[39m,\u001b[38;5;241m0\u001b[39m,\u001b[38;5;241m0\u001b[39m), \u001b[38;5;241m2\u001b[39m)\n\u001b[1;32m---> 12\u001b[0m \u001b[38;5;28;01melif\u001b[39;00m event \u001b[38;5;241m==\u001b[39m \u001b[43mcv2\u001b[49m\u001b[38;5;241;43m.\u001b[39;49m\u001b[43mEVENT_LBUTTONDBCLK\u001b[49m:\n\u001b[0;32m     13\u001b[0m     cv2\u001b[38;5;241m.\u001b[39mcircle(img, (x,y), \u001b[38;5;241m20\u001b[39m, (\u001b[38;5;241m255\u001b[39m,\u001b[38;5;241m0\u001b[39m,\u001b[38;5;241m0\u001b[39m), \u001b[38;5;241m-\u001b[39m\u001b[38;5;241m1\u001b[39m)\n",
      "\u001b[1;31mAttributeError\u001b[0m: module 'cv2' has no attribute 'EVENT_LBUTTONDBCLK'"
     ]
    },
    {
     "ename": "AttributeError",
     "evalue": "module 'cv2' has no attribute 'EVENT_LBUTTONDBCLK'",
     "output_type": "error",
     "traceback": [
      "\u001b[1;31m---------------------------------------------------------------------------\u001b[0m",
      "\u001b[1;31mAttributeError\u001b[0m                            Traceback (most recent call last)",
      "Cell \u001b[1;32mIn[6], line 12\u001b[0m, in \u001b[0;36mdraw_circle\u001b[1;34m(event, x, y, flags, param)\u001b[0m\n\u001b[0;32m     10\u001b[0m \u001b[38;5;28;01melif\u001b[39;00m event \u001b[38;5;241m==\u001b[39m cv2\u001b[38;5;241m.\u001b[39mEVENT_RBUTTONDOWN:\n\u001b[0;32m     11\u001b[0m     cv2\u001b[38;5;241m.\u001b[39mcircle(img, (x,y), \u001b[38;5;241m10\u001b[39m, (\u001b[38;5;241m255\u001b[39m,\u001b[38;5;241m0\u001b[39m,\u001b[38;5;241m0\u001b[39m), \u001b[38;5;241m2\u001b[39m)\n\u001b[1;32m---> 12\u001b[0m \u001b[38;5;28;01melif\u001b[39;00m event \u001b[38;5;241m==\u001b[39m \u001b[43mcv2\u001b[49m\u001b[38;5;241;43m.\u001b[39;49m\u001b[43mEVENT_LBUTTONDBCLK\u001b[49m:\n\u001b[0;32m     13\u001b[0m     cv2\u001b[38;5;241m.\u001b[39mcircle(img, (x,y), \u001b[38;5;241m20\u001b[39m, (\u001b[38;5;241m255\u001b[39m,\u001b[38;5;241m0\u001b[39m,\u001b[38;5;241m0\u001b[39m), \u001b[38;5;241m-\u001b[39m\u001b[38;5;241m1\u001b[39m)\n",
      "\u001b[1;31mAttributeError\u001b[0m: module 'cv2' has no attribute 'EVENT_LBUTTONDBCLK'"
     ]
    },
    {
     "ename": "AttributeError",
     "evalue": "module 'cv2' has no attribute 'EVENT_LBUTTONDBCLK'",
     "output_type": "error",
     "traceback": [
      "\u001b[1;31m---------------------------------------------------------------------------\u001b[0m",
      "\u001b[1;31mAttributeError\u001b[0m                            Traceback (most recent call last)",
      "Cell \u001b[1;32mIn[6], line 12\u001b[0m, in \u001b[0;36mdraw_circle\u001b[1;34m(event, x, y, flags, param)\u001b[0m\n\u001b[0;32m     10\u001b[0m \u001b[38;5;28;01melif\u001b[39;00m event \u001b[38;5;241m==\u001b[39m cv2\u001b[38;5;241m.\u001b[39mEVENT_RBUTTONDOWN:\n\u001b[0;32m     11\u001b[0m     cv2\u001b[38;5;241m.\u001b[39mcircle(img, (x,y), \u001b[38;5;241m10\u001b[39m, (\u001b[38;5;241m255\u001b[39m,\u001b[38;5;241m0\u001b[39m,\u001b[38;5;241m0\u001b[39m), \u001b[38;5;241m2\u001b[39m)\n\u001b[1;32m---> 12\u001b[0m \u001b[38;5;28;01melif\u001b[39;00m event \u001b[38;5;241m==\u001b[39m \u001b[43mcv2\u001b[49m\u001b[38;5;241;43m.\u001b[39;49m\u001b[43mEVENT_LBUTTONDBCLK\u001b[49m:\n\u001b[0;32m     13\u001b[0m     cv2\u001b[38;5;241m.\u001b[39mcircle(img, (x,y), \u001b[38;5;241m20\u001b[39m, (\u001b[38;5;241m255\u001b[39m,\u001b[38;5;241m0\u001b[39m,\u001b[38;5;241m0\u001b[39m), \u001b[38;5;241m-\u001b[39m\u001b[38;5;241m1\u001b[39m)\n",
      "\u001b[1;31mAttributeError\u001b[0m: module 'cv2' has no attribute 'EVENT_LBUTTONDBCLK'"
     ]
    },
    {
     "ename": "AttributeError",
     "evalue": "module 'cv2' has no attribute 'EVENT_LBUTTONDBCLK'",
     "output_type": "error",
     "traceback": [
      "\u001b[1;31m---------------------------------------------------------------------------\u001b[0m",
      "\u001b[1;31mAttributeError\u001b[0m                            Traceback (most recent call last)",
      "Cell \u001b[1;32mIn[6], line 12\u001b[0m, in \u001b[0;36mdraw_circle\u001b[1;34m(event, x, y, flags, param)\u001b[0m\n\u001b[0;32m     10\u001b[0m \u001b[38;5;28;01melif\u001b[39;00m event \u001b[38;5;241m==\u001b[39m cv2\u001b[38;5;241m.\u001b[39mEVENT_RBUTTONDOWN:\n\u001b[0;32m     11\u001b[0m     cv2\u001b[38;5;241m.\u001b[39mcircle(img, (x,y), \u001b[38;5;241m10\u001b[39m, (\u001b[38;5;241m255\u001b[39m,\u001b[38;5;241m0\u001b[39m,\u001b[38;5;241m0\u001b[39m), \u001b[38;5;241m2\u001b[39m)\n\u001b[1;32m---> 12\u001b[0m \u001b[38;5;28;01melif\u001b[39;00m event \u001b[38;5;241m==\u001b[39m \u001b[43mcv2\u001b[49m\u001b[38;5;241;43m.\u001b[39;49m\u001b[43mEVENT_LBUTTONDBCLK\u001b[49m:\n\u001b[0;32m     13\u001b[0m     cv2\u001b[38;5;241m.\u001b[39mcircle(img, (x,y), \u001b[38;5;241m20\u001b[39m, (\u001b[38;5;241m255\u001b[39m,\u001b[38;5;241m0\u001b[39m,\u001b[38;5;241m0\u001b[39m), \u001b[38;5;241m-\u001b[39m\u001b[38;5;241m1\u001b[39m)\n",
      "\u001b[1;31mAttributeError\u001b[0m: module 'cv2' has no attribute 'EVENT_LBUTTONDBCLK'"
     ]
    },
    {
     "ename": "AttributeError",
     "evalue": "module 'cv2' has no attribute 'EVENT_LBUTTONDBCLK'",
     "output_type": "error",
     "traceback": [
      "\u001b[1;31m---------------------------------------------------------------------------\u001b[0m",
      "\u001b[1;31mAttributeError\u001b[0m                            Traceback (most recent call last)",
      "Cell \u001b[1;32mIn[6], line 12\u001b[0m, in \u001b[0;36mdraw_circle\u001b[1;34m(event, x, y, flags, param)\u001b[0m\n\u001b[0;32m     10\u001b[0m \u001b[38;5;28;01melif\u001b[39;00m event \u001b[38;5;241m==\u001b[39m cv2\u001b[38;5;241m.\u001b[39mEVENT_RBUTTONDOWN:\n\u001b[0;32m     11\u001b[0m     cv2\u001b[38;5;241m.\u001b[39mcircle(img, (x,y), \u001b[38;5;241m10\u001b[39m, (\u001b[38;5;241m255\u001b[39m,\u001b[38;5;241m0\u001b[39m,\u001b[38;5;241m0\u001b[39m), \u001b[38;5;241m2\u001b[39m)\n\u001b[1;32m---> 12\u001b[0m \u001b[38;5;28;01melif\u001b[39;00m event \u001b[38;5;241m==\u001b[39m \u001b[43mcv2\u001b[49m\u001b[38;5;241;43m.\u001b[39;49m\u001b[43mEVENT_LBUTTONDBCLK\u001b[49m:\n\u001b[0;32m     13\u001b[0m     cv2\u001b[38;5;241m.\u001b[39mcircle(img, (x,y), \u001b[38;5;241m20\u001b[39m, (\u001b[38;5;241m255\u001b[39m,\u001b[38;5;241m0\u001b[39m,\u001b[38;5;241m0\u001b[39m), \u001b[38;5;241m-\u001b[39m\u001b[38;5;241m1\u001b[39m)\n",
      "\u001b[1;31mAttributeError\u001b[0m: module 'cv2' has no attribute 'EVENT_LBUTTONDBCLK'"
     ]
    },
    {
     "ename": "AttributeError",
     "evalue": "module 'cv2' has no attribute 'EVENT_LBUTTONDBCLK'",
     "output_type": "error",
     "traceback": [
      "\u001b[1;31m---------------------------------------------------------------------------\u001b[0m",
      "\u001b[1;31mAttributeError\u001b[0m                            Traceback (most recent call last)",
      "Cell \u001b[1;32mIn[6], line 12\u001b[0m, in \u001b[0;36mdraw_circle\u001b[1;34m(event, x, y, flags, param)\u001b[0m\n\u001b[0;32m     10\u001b[0m \u001b[38;5;28;01melif\u001b[39;00m event \u001b[38;5;241m==\u001b[39m cv2\u001b[38;5;241m.\u001b[39mEVENT_RBUTTONDOWN:\n\u001b[0;32m     11\u001b[0m     cv2\u001b[38;5;241m.\u001b[39mcircle(img, (x,y), \u001b[38;5;241m10\u001b[39m, (\u001b[38;5;241m255\u001b[39m,\u001b[38;5;241m0\u001b[39m,\u001b[38;5;241m0\u001b[39m), \u001b[38;5;241m2\u001b[39m)\n\u001b[1;32m---> 12\u001b[0m \u001b[38;5;28;01melif\u001b[39;00m event \u001b[38;5;241m==\u001b[39m \u001b[43mcv2\u001b[49m\u001b[38;5;241;43m.\u001b[39;49m\u001b[43mEVENT_LBUTTONDBCLK\u001b[49m:\n\u001b[0;32m     13\u001b[0m     cv2\u001b[38;5;241m.\u001b[39mcircle(img, (x,y), \u001b[38;5;241m20\u001b[39m, (\u001b[38;5;241m255\u001b[39m,\u001b[38;5;241m0\u001b[39m,\u001b[38;5;241m0\u001b[39m), \u001b[38;5;241m-\u001b[39m\u001b[38;5;241m1\u001b[39m)\n",
      "\u001b[1;31mAttributeError\u001b[0m: module 'cv2' has no attribute 'EVENT_LBUTTONDBCLK'"
     ]
    },
    {
     "ename": "AttributeError",
     "evalue": "module 'cv2' has no attribute 'EVENT_LBUTTONDBCLK'",
     "output_type": "error",
     "traceback": [
      "\u001b[1;31m---------------------------------------------------------------------------\u001b[0m",
      "\u001b[1;31mAttributeError\u001b[0m                            Traceback (most recent call last)",
      "Cell \u001b[1;32mIn[6], line 12\u001b[0m, in \u001b[0;36mdraw_circle\u001b[1;34m(event, x, y, flags, param)\u001b[0m\n\u001b[0;32m     10\u001b[0m \u001b[38;5;28;01melif\u001b[39;00m event \u001b[38;5;241m==\u001b[39m cv2\u001b[38;5;241m.\u001b[39mEVENT_RBUTTONDOWN:\n\u001b[0;32m     11\u001b[0m     cv2\u001b[38;5;241m.\u001b[39mcircle(img, (x,y), \u001b[38;5;241m10\u001b[39m, (\u001b[38;5;241m255\u001b[39m,\u001b[38;5;241m0\u001b[39m,\u001b[38;5;241m0\u001b[39m), \u001b[38;5;241m2\u001b[39m)\n\u001b[1;32m---> 12\u001b[0m \u001b[38;5;28;01melif\u001b[39;00m event \u001b[38;5;241m==\u001b[39m \u001b[43mcv2\u001b[49m\u001b[38;5;241;43m.\u001b[39;49m\u001b[43mEVENT_LBUTTONDBCLK\u001b[49m:\n\u001b[0;32m     13\u001b[0m     cv2\u001b[38;5;241m.\u001b[39mcircle(img, (x,y), \u001b[38;5;241m20\u001b[39m, (\u001b[38;5;241m255\u001b[39m,\u001b[38;5;241m0\u001b[39m,\u001b[38;5;241m0\u001b[39m), \u001b[38;5;241m-\u001b[39m\u001b[38;5;241m1\u001b[39m)\n",
      "\u001b[1;31mAttributeError\u001b[0m: module 'cv2' has no attribute 'EVENT_LBUTTONDBCLK'"
     ]
    },
    {
     "ename": "AttributeError",
     "evalue": "module 'cv2' has no attribute 'EVENT_LBUTTONDBCLK'",
     "output_type": "error",
     "traceback": [
      "\u001b[1;31m---------------------------------------------------------------------------\u001b[0m",
      "\u001b[1;31mAttributeError\u001b[0m                            Traceback (most recent call last)",
      "Cell \u001b[1;32mIn[6], line 12\u001b[0m, in \u001b[0;36mdraw_circle\u001b[1;34m(event, x, y, flags, param)\u001b[0m\n\u001b[0;32m     10\u001b[0m \u001b[38;5;28;01melif\u001b[39;00m event \u001b[38;5;241m==\u001b[39m cv2\u001b[38;5;241m.\u001b[39mEVENT_RBUTTONDOWN:\n\u001b[0;32m     11\u001b[0m     cv2\u001b[38;5;241m.\u001b[39mcircle(img, (x,y), \u001b[38;5;241m10\u001b[39m, (\u001b[38;5;241m255\u001b[39m,\u001b[38;5;241m0\u001b[39m,\u001b[38;5;241m0\u001b[39m), \u001b[38;5;241m2\u001b[39m)\n\u001b[1;32m---> 12\u001b[0m \u001b[38;5;28;01melif\u001b[39;00m event \u001b[38;5;241m==\u001b[39m \u001b[43mcv2\u001b[49m\u001b[38;5;241;43m.\u001b[39;49m\u001b[43mEVENT_LBUTTONDBCLK\u001b[49m:\n\u001b[0;32m     13\u001b[0m     cv2\u001b[38;5;241m.\u001b[39mcircle(img, (x,y), \u001b[38;5;241m20\u001b[39m, (\u001b[38;5;241m255\u001b[39m,\u001b[38;5;241m0\u001b[39m,\u001b[38;5;241m0\u001b[39m), \u001b[38;5;241m-\u001b[39m\u001b[38;5;241m1\u001b[39m)\n",
      "\u001b[1;31mAttributeError\u001b[0m: module 'cv2' has no attribute 'EVENT_LBUTTONDBCLK'"
     ]
    },
    {
     "ename": "AttributeError",
     "evalue": "module 'cv2' has no attribute 'EVENT_LBUTTONDBCLK'",
     "output_type": "error",
     "traceback": [
      "\u001b[1;31m---------------------------------------------------------------------------\u001b[0m",
      "\u001b[1;31mAttributeError\u001b[0m                            Traceback (most recent call last)",
      "Cell \u001b[1;32mIn[6], line 12\u001b[0m, in \u001b[0;36mdraw_circle\u001b[1;34m(event, x, y, flags, param)\u001b[0m\n\u001b[0;32m     10\u001b[0m \u001b[38;5;28;01melif\u001b[39;00m event \u001b[38;5;241m==\u001b[39m cv2\u001b[38;5;241m.\u001b[39mEVENT_RBUTTONDOWN:\n\u001b[0;32m     11\u001b[0m     cv2\u001b[38;5;241m.\u001b[39mcircle(img, (x,y), \u001b[38;5;241m10\u001b[39m, (\u001b[38;5;241m255\u001b[39m,\u001b[38;5;241m0\u001b[39m,\u001b[38;5;241m0\u001b[39m), \u001b[38;5;241m2\u001b[39m)\n\u001b[1;32m---> 12\u001b[0m \u001b[38;5;28;01melif\u001b[39;00m event \u001b[38;5;241m==\u001b[39m \u001b[43mcv2\u001b[49m\u001b[38;5;241;43m.\u001b[39;49m\u001b[43mEVENT_LBUTTONDBCLK\u001b[49m:\n\u001b[0;32m     13\u001b[0m     cv2\u001b[38;5;241m.\u001b[39mcircle(img, (x,y), \u001b[38;5;241m20\u001b[39m, (\u001b[38;5;241m255\u001b[39m,\u001b[38;5;241m0\u001b[39m,\u001b[38;5;241m0\u001b[39m), \u001b[38;5;241m-\u001b[39m\u001b[38;5;241m1\u001b[39m)\n",
      "\u001b[1;31mAttributeError\u001b[0m: module 'cv2' has no attribute 'EVENT_LBUTTONDBCLK'"
     ]
    },
    {
     "ename": "AttributeError",
     "evalue": "module 'cv2' has no attribute 'EVENT_LBUTTONDBCLK'",
     "output_type": "error",
     "traceback": [
      "\u001b[1;31m---------------------------------------------------------------------------\u001b[0m",
      "\u001b[1;31mAttributeError\u001b[0m                            Traceback (most recent call last)",
      "Cell \u001b[1;32mIn[6], line 12\u001b[0m, in \u001b[0;36mdraw_circle\u001b[1;34m(event, x, y, flags, param)\u001b[0m\n\u001b[0;32m     10\u001b[0m \u001b[38;5;28;01melif\u001b[39;00m event \u001b[38;5;241m==\u001b[39m cv2\u001b[38;5;241m.\u001b[39mEVENT_RBUTTONDOWN:\n\u001b[0;32m     11\u001b[0m     cv2\u001b[38;5;241m.\u001b[39mcircle(img, (x,y), \u001b[38;5;241m10\u001b[39m, (\u001b[38;5;241m255\u001b[39m,\u001b[38;5;241m0\u001b[39m,\u001b[38;5;241m0\u001b[39m), \u001b[38;5;241m2\u001b[39m)\n\u001b[1;32m---> 12\u001b[0m \u001b[38;5;28;01melif\u001b[39;00m event \u001b[38;5;241m==\u001b[39m \u001b[43mcv2\u001b[49m\u001b[38;5;241;43m.\u001b[39;49m\u001b[43mEVENT_LBUTTONDBCLK\u001b[49m:\n\u001b[0;32m     13\u001b[0m     cv2\u001b[38;5;241m.\u001b[39mcircle(img, (x,y), \u001b[38;5;241m20\u001b[39m, (\u001b[38;5;241m255\u001b[39m,\u001b[38;5;241m0\u001b[39m,\u001b[38;5;241m0\u001b[39m), \u001b[38;5;241m-\u001b[39m\u001b[38;5;241m1\u001b[39m)\n",
      "\u001b[1;31mAttributeError\u001b[0m: module 'cv2' has no attribute 'EVENT_LBUTTONDBCLK'"
     ]
    },
    {
     "ename": "AttributeError",
     "evalue": "module 'cv2' has no attribute 'EVENT_LBUTTONDBCLK'",
     "output_type": "error",
     "traceback": [
      "\u001b[1;31m---------------------------------------------------------------------------\u001b[0m",
      "\u001b[1;31mAttributeError\u001b[0m                            Traceback (most recent call last)",
      "Cell \u001b[1;32mIn[6], line 12\u001b[0m, in \u001b[0;36mdraw_circle\u001b[1;34m(event, x, y, flags, param)\u001b[0m\n\u001b[0;32m     10\u001b[0m \u001b[38;5;28;01melif\u001b[39;00m event \u001b[38;5;241m==\u001b[39m cv2\u001b[38;5;241m.\u001b[39mEVENT_RBUTTONDOWN:\n\u001b[0;32m     11\u001b[0m     cv2\u001b[38;5;241m.\u001b[39mcircle(img, (x,y), \u001b[38;5;241m10\u001b[39m, (\u001b[38;5;241m255\u001b[39m,\u001b[38;5;241m0\u001b[39m,\u001b[38;5;241m0\u001b[39m), \u001b[38;5;241m2\u001b[39m)\n\u001b[1;32m---> 12\u001b[0m \u001b[38;5;28;01melif\u001b[39;00m event \u001b[38;5;241m==\u001b[39m \u001b[43mcv2\u001b[49m\u001b[38;5;241;43m.\u001b[39;49m\u001b[43mEVENT_LBUTTONDBCLK\u001b[49m:\n\u001b[0;32m     13\u001b[0m     cv2\u001b[38;5;241m.\u001b[39mcircle(img, (x,y), \u001b[38;5;241m20\u001b[39m, (\u001b[38;5;241m255\u001b[39m,\u001b[38;5;241m0\u001b[39m,\u001b[38;5;241m0\u001b[39m), \u001b[38;5;241m-\u001b[39m\u001b[38;5;241m1\u001b[39m)\n",
      "\u001b[1;31mAttributeError\u001b[0m: module 'cv2' has no attribute 'EVENT_LBUTTONDBCLK'"
     ]
    },
    {
     "ename": "AttributeError",
     "evalue": "module 'cv2' has no attribute 'EVENT_LBUTTONDBCLK'",
     "output_type": "error",
     "traceback": [
      "\u001b[1;31m---------------------------------------------------------------------------\u001b[0m",
      "\u001b[1;31mAttributeError\u001b[0m                            Traceback (most recent call last)",
      "Cell \u001b[1;32mIn[6], line 12\u001b[0m, in \u001b[0;36mdraw_circle\u001b[1;34m(event, x, y, flags, param)\u001b[0m\n\u001b[0;32m     10\u001b[0m \u001b[38;5;28;01melif\u001b[39;00m event \u001b[38;5;241m==\u001b[39m cv2\u001b[38;5;241m.\u001b[39mEVENT_RBUTTONDOWN:\n\u001b[0;32m     11\u001b[0m     cv2\u001b[38;5;241m.\u001b[39mcircle(img, (x,y), \u001b[38;5;241m10\u001b[39m, (\u001b[38;5;241m255\u001b[39m,\u001b[38;5;241m0\u001b[39m,\u001b[38;5;241m0\u001b[39m), \u001b[38;5;241m2\u001b[39m)\n\u001b[1;32m---> 12\u001b[0m \u001b[38;5;28;01melif\u001b[39;00m event \u001b[38;5;241m==\u001b[39m \u001b[43mcv2\u001b[49m\u001b[38;5;241;43m.\u001b[39;49m\u001b[43mEVENT_LBUTTONDBCLK\u001b[49m:\n\u001b[0;32m     13\u001b[0m     cv2\u001b[38;5;241m.\u001b[39mcircle(img, (x,y), \u001b[38;5;241m20\u001b[39m, (\u001b[38;5;241m255\u001b[39m,\u001b[38;5;241m0\u001b[39m,\u001b[38;5;241m0\u001b[39m), \u001b[38;5;241m-\u001b[39m\u001b[38;5;241m1\u001b[39m)\n",
      "\u001b[1;31mAttributeError\u001b[0m: module 'cv2' has no attribute 'EVENT_LBUTTONDBCLK'"
     ]
    },
    {
     "ename": "AttributeError",
     "evalue": "module 'cv2' has no attribute 'EVENT_LBUTTONDBCLK'",
     "output_type": "error",
     "traceback": [
      "\u001b[1;31m---------------------------------------------------------------------------\u001b[0m",
      "\u001b[1;31mAttributeError\u001b[0m                            Traceback (most recent call last)",
      "Cell \u001b[1;32mIn[6], line 12\u001b[0m, in \u001b[0;36mdraw_circle\u001b[1;34m(event, x, y, flags, param)\u001b[0m\n\u001b[0;32m     10\u001b[0m \u001b[38;5;28;01melif\u001b[39;00m event \u001b[38;5;241m==\u001b[39m cv2\u001b[38;5;241m.\u001b[39mEVENT_RBUTTONDOWN:\n\u001b[0;32m     11\u001b[0m     cv2\u001b[38;5;241m.\u001b[39mcircle(img, (x,y), \u001b[38;5;241m10\u001b[39m, (\u001b[38;5;241m255\u001b[39m,\u001b[38;5;241m0\u001b[39m,\u001b[38;5;241m0\u001b[39m), \u001b[38;5;241m2\u001b[39m)\n\u001b[1;32m---> 12\u001b[0m \u001b[38;5;28;01melif\u001b[39;00m event \u001b[38;5;241m==\u001b[39m \u001b[43mcv2\u001b[49m\u001b[38;5;241;43m.\u001b[39;49m\u001b[43mEVENT_LBUTTONDBCLK\u001b[49m:\n\u001b[0;32m     13\u001b[0m     cv2\u001b[38;5;241m.\u001b[39mcircle(img, (x,y), \u001b[38;5;241m20\u001b[39m, (\u001b[38;5;241m255\u001b[39m,\u001b[38;5;241m0\u001b[39m,\u001b[38;5;241m0\u001b[39m), \u001b[38;5;241m-\u001b[39m\u001b[38;5;241m1\u001b[39m)\n",
      "\u001b[1;31mAttributeError\u001b[0m: module 'cv2' has no attribute 'EVENT_LBUTTONDBCLK'"
     ]
    },
    {
     "ename": "AttributeError",
     "evalue": "module 'cv2' has no attribute 'EVENT_LBUTTONDBCLK'",
     "output_type": "error",
     "traceback": [
      "\u001b[1;31m---------------------------------------------------------------------------\u001b[0m",
      "\u001b[1;31mAttributeError\u001b[0m                            Traceback (most recent call last)",
      "Cell \u001b[1;32mIn[6], line 12\u001b[0m, in \u001b[0;36mdraw_circle\u001b[1;34m(event, x, y, flags, param)\u001b[0m\n\u001b[0;32m     10\u001b[0m \u001b[38;5;28;01melif\u001b[39;00m event \u001b[38;5;241m==\u001b[39m cv2\u001b[38;5;241m.\u001b[39mEVENT_RBUTTONDOWN:\n\u001b[0;32m     11\u001b[0m     cv2\u001b[38;5;241m.\u001b[39mcircle(img, (x,y), \u001b[38;5;241m10\u001b[39m, (\u001b[38;5;241m255\u001b[39m,\u001b[38;5;241m0\u001b[39m,\u001b[38;5;241m0\u001b[39m), \u001b[38;5;241m2\u001b[39m)\n\u001b[1;32m---> 12\u001b[0m \u001b[38;5;28;01melif\u001b[39;00m event \u001b[38;5;241m==\u001b[39m \u001b[43mcv2\u001b[49m\u001b[38;5;241;43m.\u001b[39;49m\u001b[43mEVENT_LBUTTONDBCLK\u001b[49m:\n\u001b[0;32m     13\u001b[0m     cv2\u001b[38;5;241m.\u001b[39mcircle(img, (x,y), \u001b[38;5;241m20\u001b[39m, (\u001b[38;5;241m255\u001b[39m,\u001b[38;5;241m0\u001b[39m,\u001b[38;5;241m0\u001b[39m), \u001b[38;5;241m-\u001b[39m\u001b[38;5;241m1\u001b[39m)\n",
      "\u001b[1;31mAttributeError\u001b[0m: module 'cv2' has no attribute 'EVENT_LBUTTONDBCLK'"
     ]
    },
    {
     "ename": "AttributeError",
     "evalue": "module 'cv2' has no attribute 'EVENT_LBUTTONDBCLK'",
     "output_type": "error",
     "traceback": [
      "\u001b[1;31m---------------------------------------------------------------------------\u001b[0m",
      "\u001b[1;31mAttributeError\u001b[0m                            Traceback (most recent call last)",
      "Cell \u001b[1;32mIn[6], line 12\u001b[0m, in \u001b[0;36mdraw_circle\u001b[1;34m(event, x, y, flags, param)\u001b[0m\n\u001b[0;32m     10\u001b[0m \u001b[38;5;28;01melif\u001b[39;00m event \u001b[38;5;241m==\u001b[39m cv2\u001b[38;5;241m.\u001b[39mEVENT_RBUTTONDOWN:\n\u001b[0;32m     11\u001b[0m     cv2\u001b[38;5;241m.\u001b[39mcircle(img, (x,y), \u001b[38;5;241m10\u001b[39m, (\u001b[38;5;241m255\u001b[39m,\u001b[38;5;241m0\u001b[39m,\u001b[38;5;241m0\u001b[39m), \u001b[38;5;241m2\u001b[39m)\n\u001b[1;32m---> 12\u001b[0m \u001b[38;5;28;01melif\u001b[39;00m event \u001b[38;5;241m==\u001b[39m \u001b[43mcv2\u001b[49m\u001b[38;5;241;43m.\u001b[39;49m\u001b[43mEVENT_LBUTTONDBCLK\u001b[49m:\n\u001b[0;32m     13\u001b[0m     cv2\u001b[38;5;241m.\u001b[39mcircle(img, (x,y), \u001b[38;5;241m20\u001b[39m, (\u001b[38;5;241m255\u001b[39m,\u001b[38;5;241m0\u001b[39m,\u001b[38;5;241m0\u001b[39m), \u001b[38;5;241m-\u001b[39m\u001b[38;5;241m1\u001b[39m)\n",
      "\u001b[1;31mAttributeError\u001b[0m: module 'cv2' has no attribute 'EVENT_LBUTTONDBCLK'"
     ]
    },
    {
     "ename": "AttributeError",
     "evalue": "module 'cv2' has no attribute 'EVENT_LBUTTONDBCLK'",
     "output_type": "error",
     "traceback": [
      "\u001b[1;31m---------------------------------------------------------------------------\u001b[0m",
      "\u001b[1;31mAttributeError\u001b[0m                            Traceback (most recent call last)",
      "Cell \u001b[1;32mIn[6], line 12\u001b[0m, in \u001b[0;36mdraw_circle\u001b[1;34m(event, x, y, flags, param)\u001b[0m\n\u001b[0;32m     10\u001b[0m \u001b[38;5;28;01melif\u001b[39;00m event \u001b[38;5;241m==\u001b[39m cv2\u001b[38;5;241m.\u001b[39mEVENT_RBUTTONDOWN:\n\u001b[0;32m     11\u001b[0m     cv2\u001b[38;5;241m.\u001b[39mcircle(img, (x,y), \u001b[38;5;241m10\u001b[39m, (\u001b[38;5;241m255\u001b[39m,\u001b[38;5;241m0\u001b[39m,\u001b[38;5;241m0\u001b[39m), \u001b[38;5;241m2\u001b[39m)\n\u001b[1;32m---> 12\u001b[0m \u001b[38;5;28;01melif\u001b[39;00m event \u001b[38;5;241m==\u001b[39m \u001b[43mcv2\u001b[49m\u001b[38;5;241;43m.\u001b[39;49m\u001b[43mEVENT_LBUTTONDBCLK\u001b[49m:\n\u001b[0;32m     13\u001b[0m     cv2\u001b[38;5;241m.\u001b[39mcircle(img, (x,y), \u001b[38;5;241m20\u001b[39m, (\u001b[38;5;241m255\u001b[39m,\u001b[38;5;241m0\u001b[39m,\u001b[38;5;241m0\u001b[39m), \u001b[38;5;241m-\u001b[39m\u001b[38;5;241m1\u001b[39m)\n",
      "\u001b[1;31mAttributeError\u001b[0m: module 'cv2' has no attribute 'EVENT_LBUTTONDBCLK'"
     ]
    },
    {
     "ename": "AttributeError",
     "evalue": "module 'cv2' has no attribute 'EVENT_LBUTTONDBCLK'",
     "output_type": "error",
     "traceback": [
      "\u001b[1;31m---------------------------------------------------------------------------\u001b[0m",
      "\u001b[1;31mAttributeError\u001b[0m                            Traceback (most recent call last)",
      "Cell \u001b[1;32mIn[6], line 12\u001b[0m, in \u001b[0;36mdraw_circle\u001b[1;34m(event, x, y, flags, param)\u001b[0m\n\u001b[0;32m     10\u001b[0m \u001b[38;5;28;01melif\u001b[39;00m event \u001b[38;5;241m==\u001b[39m cv2\u001b[38;5;241m.\u001b[39mEVENT_RBUTTONDOWN:\n\u001b[0;32m     11\u001b[0m     cv2\u001b[38;5;241m.\u001b[39mcircle(img, (x,y), \u001b[38;5;241m10\u001b[39m, (\u001b[38;5;241m255\u001b[39m,\u001b[38;5;241m0\u001b[39m,\u001b[38;5;241m0\u001b[39m), \u001b[38;5;241m2\u001b[39m)\n\u001b[1;32m---> 12\u001b[0m \u001b[38;5;28;01melif\u001b[39;00m event \u001b[38;5;241m==\u001b[39m \u001b[43mcv2\u001b[49m\u001b[38;5;241;43m.\u001b[39;49m\u001b[43mEVENT_LBUTTONDBCLK\u001b[49m:\n\u001b[0;32m     13\u001b[0m     cv2\u001b[38;5;241m.\u001b[39mcircle(img, (x,y), \u001b[38;5;241m20\u001b[39m, (\u001b[38;5;241m255\u001b[39m,\u001b[38;5;241m0\u001b[39m,\u001b[38;5;241m0\u001b[39m), \u001b[38;5;241m-\u001b[39m\u001b[38;5;241m1\u001b[39m)\n",
      "\u001b[1;31mAttributeError\u001b[0m: module 'cv2' has no attribute 'EVENT_LBUTTONDBCLK'"
     ]
    },
    {
     "ename": "AttributeError",
     "evalue": "module 'cv2' has no attribute 'EVENT_LBUTTONDBCLK'",
     "output_type": "error",
     "traceback": [
      "\u001b[1;31m---------------------------------------------------------------------------\u001b[0m",
      "\u001b[1;31mAttributeError\u001b[0m                            Traceback (most recent call last)",
      "Cell \u001b[1;32mIn[6], line 12\u001b[0m, in \u001b[0;36mdraw_circle\u001b[1;34m(event, x, y, flags, param)\u001b[0m\n\u001b[0;32m     10\u001b[0m \u001b[38;5;28;01melif\u001b[39;00m event \u001b[38;5;241m==\u001b[39m cv2\u001b[38;5;241m.\u001b[39mEVENT_RBUTTONDOWN:\n\u001b[0;32m     11\u001b[0m     cv2\u001b[38;5;241m.\u001b[39mcircle(img, (x,y), \u001b[38;5;241m10\u001b[39m, (\u001b[38;5;241m255\u001b[39m,\u001b[38;5;241m0\u001b[39m,\u001b[38;5;241m0\u001b[39m), \u001b[38;5;241m2\u001b[39m)\n\u001b[1;32m---> 12\u001b[0m \u001b[38;5;28;01melif\u001b[39;00m event \u001b[38;5;241m==\u001b[39m \u001b[43mcv2\u001b[49m\u001b[38;5;241;43m.\u001b[39;49m\u001b[43mEVENT_LBUTTONDBCLK\u001b[49m:\n\u001b[0;32m     13\u001b[0m     cv2\u001b[38;5;241m.\u001b[39mcircle(img, (x,y), \u001b[38;5;241m20\u001b[39m, (\u001b[38;5;241m255\u001b[39m,\u001b[38;5;241m0\u001b[39m,\u001b[38;5;241m0\u001b[39m), \u001b[38;5;241m-\u001b[39m\u001b[38;5;241m1\u001b[39m)\n",
      "\u001b[1;31mAttributeError\u001b[0m: module 'cv2' has no attribute 'EVENT_LBUTTONDBCLK'"
     ]
    },
    {
     "ename": "AttributeError",
     "evalue": "module 'cv2' has no attribute 'EVENT_LBUTTONDBCLK'",
     "output_type": "error",
     "traceback": [
      "\u001b[1;31m---------------------------------------------------------------------------\u001b[0m",
      "\u001b[1;31mAttributeError\u001b[0m                            Traceback (most recent call last)",
      "Cell \u001b[1;32mIn[6], line 12\u001b[0m, in \u001b[0;36mdraw_circle\u001b[1;34m(event, x, y, flags, param)\u001b[0m\n\u001b[0;32m     10\u001b[0m \u001b[38;5;28;01melif\u001b[39;00m event \u001b[38;5;241m==\u001b[39m cv2\u001b[38;5;241m.\u001b[39mEVENT_RBUTTONDOWN:\n\u001b[0;32m     11\u001b[0m     cv2\u001b[38;5;241m.\u001b[39mcircle(img, (x,y), \u001b[38;5;241m10\u001b[39m, (\u001b[38;5;241m255\u001b[39m,\u001b[38;5;241m0\u001b[39m,\u001b[38;5;241m0\u001b[39m), \u001b[38;5;241m2\u001b[39m)\n\u001b[1;32m---> 12\u001b[0m \u001b[38;5;28;01melif\u001b[39;00m event \u001b[38;5;241m==\u001b[39m \u001b[43mcv2\u001b[49m\u001b[38;5;241;43m.\u001b[39;49m\u001b[43mEVENT_LBUTTONDBCLK\u001b[49m:\n\u001b[0;32m     13\u001b[0m     cv2\u001b[38;5;241m.\u001b[39mcircle(img, (x,y), \u001b[38;5;241m20\u001b[39m, (\u001b[38;5;241m255\u001b[39m,\u001b[38;5;241m0\u001b[39m,\u001b[38;5;241m0\u001b[39m), \u001b[38;5;241m-\u001b[39m\u001b[38;5;241m1\u001b[39m)\n",
      "\u001b[1;31mAttributeError\u001b[0m: module 'cv2' has no attribute 'EVENT_LBUTTONDBCLK'"
     ]
    },
    {
     "ename": "AttributeError",
     "evalue": "module 'cv2' has no attribute 'EVENT_LBUTTONDBCLK'",
     "output_type": "error",
     "traceback": [
      "\u001b[1;31m---------------------------------------------------------------------------\u001b[0m",
      "\u001b[1;31mAttributeError\u001b[0m                            Traceback (most recent call last)",
      "Cell \u001b[1;32mIn[6], line 12\u001b[0m, in \u001b[0;36mdraw_circle\u001b[1;34m(event, x, y, flags, param)\u001b[0m\n\u001b[0;32m     10\u001b[0m \u001b[38;5;28;01melif\u001b[39;00m event \u001b[38;5;241m==\u001b[39m cv2\u001b[38;5;241m.\u001b[39mEVENT_RBUTTONDOWN:\n\u001b[0;32m     11\u001b[0m     cv2\u001b[38;5;241m.\u001b[39mcircle(img, (x,y), \u001b[38;5;241m10\u001b[39m, (\u001b[38;5;241m255\u001b[39m,\u001b[38;5;241m0\u001b[39m,\u001b[38;5;241m0\u001b[39m), \u001b[38;5;241m2\u001b[39m)\n\u001b[1;32m---> 12\u001b[0m \u001b[38;5;28;01melif\u001b[39;00m event \u001b[38;5;241m==\u001b[39m \u001b[43mcv2\u001b[49m\u001b[38;5;241;43m.\u001b[39;49m\u001b[43mEVENT_LBUTTONDBCLK\u001b[49m:\n\u001b[0;32m     13\u001b[0m     cv2\u001b[38;5;241m.\u001b[39mcircle(img, (x,y), \u001b[38;5;241m20\u001b[39m, (\u001b[38;5;241m255\u001b[39m,\u001b[38;5;241m0\u001b[39m,\u001b[38;5;241m0\u001b[39m), \u001b[38;5;241m-\u001b[39m\u001b[38;5;241m1\u001b[39m)\n",
      "\u001b[1;31mAttributeError\u001b[0m: module 'cv2' has no attribute 'EVENT_LBUTTONDBCLK'"
     ]
    },
    {
     "ename": "AttributeError",
     "evalue": "module 'cv2' has no attribute 'EVENT_LBUTTONDBCLK'",
     "output_type": "error",
     "traceback": [
      "\u001b[1;31m---------------------------------------------------------------------------\u001b[0m",
      "\u001b[1;31mAttributeError\u001b[0m                            Traceback (most recent call last)",
      "Cell \u001b[1;32mIn[6], line 12\u001b[0m, in \u001b[0;36mdraw_circle\u001b[1;34m(event, x, y, flags, param)\u001b[0m\n\u001b[0;32m     10\u001b[0m \u001b[38;5;28;01melif\u001b[39;00m event \u001b[38;5;241m==\u001b[39m cv2\u001b[38;5;241m.\u001b[39mEVENT_RBUTTONDOWN:\n\u001b[0;32m     11\u001b[0m     cv2\u001b[38;5;241m.\u001b[39mcircle(img, (x,y), \u001b[38;5;241m10\u001b[39m, (\u001b[38;5;241m255\u001b[39m,\u001b[38;5;241m0\u001b[39m,\u001b[38;5;241m0\u001b[39m), \u001b[38;5;241m2\u001b[39m)\n\u001b[1;32m---> 12\u001b[0m \u001b[38;5;28;01melif\u001b[39;00m event \u001b[38;5;241m==\u001b[39m \u001b[43mcv2\u001b[49m\u001b[38;5;241;43m.\u001b[39;49m\u001b[43mEVENT_LBUTTONDBCLK\u001b[49m:\n\u001b[0;32m     13\u001b[0m     cv2\u001b[38;5;241m.\u001b[39mcircle(img, (x,y), \u001b[38;5;241m20\u001b[39m, (\u001b[38;5;241m255\u001b[39m,\u001b[38;5;241m0\u001b[39m,\u001b[38;5;241m0\u001b[39m), \u001b[38;5;241m-\u001b[39m\u001b[38;5;241m1\u001b[39m)\n",
      "\u001b[1;31mAttributeError\u001b[0m: module 'cv2' has no attribute 'EVENT_LBUTTONDBCLK'"
     ]
    },
    {
     "ename": "AttributeError",
     "evalue": "module 'cv2' has no attribute 'EVENT_LBUTTONDBCLK'",
     "output_type": "error",
     "traceback": [
      "\u001b[1;31m---------------------------------------------------------------------------\u001b[0m",
      "\u001b[1;31mAttributeError\u001b[0m                            Traceback (most recent call last)",
      "Cell \u001b[1;32mIn[6], line 12\u001b[0m, in \u001b[0;36mdraw_circle\u001b[1;34m(event, x, y, flags, param)\u001b[0m\n\u001b[0;32m     10\u001b[0m \u001b[38;5;28;01melif\u001b[39;00m event \u001b[38;5;241m==\u001b[39m cv2\u001b[38;5;241m.\u001b[39mEVENT_RBUTTONDOWN:\n\u001b[0;32m     11\u001b[0m     cv2\u001b[38;5;241m.\u001b[39mcircle(img, (x,y), \u001b[38;5;241m10\u001b[39m, (\u001b[38;5;241m255\u001b[39m,\u001b[38;5;241m0\u001b[39m,\u001b[38;5;241m0\u001b[39m), \u001b[38;5;241m2\u001b[39m)\n\u001b[1;32m---> 12\u001b[0m \u001b[38;5;28;01melif\u001b[39;00m event \u001b[38;5;241m==\u001b[39m \u001b[43mcv2\u001b[49m\u001b[38;5;241;43m.\u001b[39;49m\u001b[43mEVENT_LBUTTONDBCLK\u001b[49m:\n\u001b[0;32m     13\u001b[0m     cv2\u001b[38;5;241m.\u001b[39mcircle(img, (x,y), \u001b[38;5;241m20\u001b[39m, (\u001b[38;5;241m255\u001b[39m,\u001b[38;5;241m0\u001b[39m,\u001b[38;5;241m0\u001b[39m), \u001b[38;5;241m-\u001b[39m\u001b[38;5;241m1\u001b[39m)\n",
      "\u001b[1;31mAttributeError\u001b[0m: module 'cv2' has no attribute 'EVENT_LBUTTONDBCLK'"
     ]
    },
    {
     "ename": "AttributeError",
     "evalue": "module 'cv2' has no attribute 'EVENT_LBUTTONDBCLK'",
     "output_type": "error",
     "traceback": [
      "\u001b[1;31m---------------------------------------------------------------------------\u001b[0m",
      "\u001b[1;31mAttributeError\u001b[0m                            Traceback (most recent call last)",
      "Cell \u001b[1;32mIn[6], line 12\u001b[0m, in \u001b[0;36mdraw_circle\u001b[1;34m(event, x, y, flags, param)\u001b[0m\n\u001b[0;32m     10\u001b[0m \u001b[38;5;28;01melif\u001b[39;00m event \u001b[38;5;241m==\u001b[39m cv2\u001b[38;5;241m.\u001b[39mEVENT_RBUTTONDOWN:\n\u001b[0;32m     11\u001b[0m     cv2\u001b[38;5;241m.\u001b[39mcircle(img, (x,y), \u001b[38;5;241m10\u001b[39m, (\u001b[38;5;241m255\u001b[39m,\u001b[38;5;241m0\u001b[39m,\u001b[38;5;241m0\u001b[39m), \u001b[38;5;241m2\u001b[39m)\n\u001b[1;32m---> 12\u001b[0m \u001b[38;5;28;01melif\u001b[39;00m event \u001b[38;5;241m==\u001b[39m \u001b[43mcv2\u001b[49m\u001b[38;5;241;43m.\u001b[39;49m\u001b[43mEVENT_LBUTTONDBCLK\u001b[49m:\n\u001b[0;32m     13\u001b[0m     cv2\u001b[38;5;241m.\u001b[39mcircle(img, (x,y), \u001b[38;5;241m20\u001b[39m, (\u001b[38;5;241m255\u001b[39m,\u001b[38;5;241m0\u001b[39m,\u001b[38;5;241m0\u001b[39m), \u001b[38;5;241m-\u001b[39m\u001b[38;5;241m1\u001b[39m)\n",
      "\u001b[1;31mAttributeError\u001b[0m: module 'cv2' has no attribute 'EVENT_LBUTTONDBCLK'"
     ]
    },
    {
     "ename": "AttributeError",
     "evalue": "module 'cv2' has no attribute 'EVENT_LBUTTONDBCLK'",
     "output_type": "error",
     "traceback": [
      "\u001b[1;31m---------------------------------------------------------------------------\u001b[0m",
      "\u001b[1;31mAttributeError\u001b[0m                            Traceback (most recent call last)",
      "Cell \u001b[1;32mIn[6], line 12\u001b[0m, in \u001b[0;36mdraw_circle\u001b[1;34m(event, x, y, flags, param)\u001b[0m\n\u001b[0;32m     10\u001b[0m \u001b[38;5;28;01melif\u001b[39;00m event \u001b[38;5;241m==\u001b[39m cv2\u001b[38;5;241m.\u001b[39mEVENT_RBUTTONDOWN:\n\u001b[0;32m     11\u001b[0m     cv2\u001b[38;5;241m.\u001b[39mcircle(img, (x,y), \u001b[38;5;241m10\u001b[39m, (\u001b[38;5;241m255\u001b[39m,\u001b[38;5;241m0\u001b[39m,\u001b[38;5;241m0\u001b[39m), \u001b[38;5;241m2\u001b[39m)\n\u001b[1;32m---> 12\u001b[0m \u001b[38;5;28;01melif\u001b[39;00m event \u001b[38;5;241m==\u001b[39m \u001b[43mcv2\u001b[49m\u001b[38;5;241;43m.\u001b[39;49m\u001b[43mEVENT_LBUTTONDBCLK\u001b[49m:\n\u001b[0;32m     13\u001b[0m     cv2\u001b[38;5;241m.\u001b[39mcircle(img, (x,y), \u001b[38;5;241m20\u001b[39m, (\u001b[38;5;241m255\u001b[39m,\u001b[38;5;241m0\u001b[39m,\u001b[38;5;241m0\u001b[39m), \u001b[38;5;241m-\u001b[39m\u001b[38;5;241m1\u001b[39m)\n",
      "\u001b[1;31mAttributeError\u001b[0m: module 'cv2' has no attribute 'EVENT_LBUTTONDBCLK'"
     ]
    },
    {
     "ename": "AttributeError",
     "evalue": "module 'cv2' has no attribute 'EVENT_LBUTTONDBCLK'",
     "output_type": "error",
     "traceback": [
      "\u001b[1;31m---------------------------------------------------------------------------\u001b[0m",
      "\u001b[1;31mAttributeError\u001b[0m                            Traceback (most recent call last)",
      "Cell \u001b[1;32mIn[6], line 12\u001b[0m, in \u001b[0;36mdraw_circle\u001b[1;34m(event, x, y, flags, param)\u001b[0m\n\u001b[0;32m     10\u001b[0m \u001b[38;5;28;01melif\u001b[39;00m event \u001b[38;5;241m==\u001b[39m cv2\u001b[38;5;241m.\u001b[39mEVENT_RBUTTONDOWN:\n\u001b[0;32m     11\u001b[0m     cv2\u001b[38;5;241m.\u001b[39mcircle(img, (x,y), \u001b[38;5;241m10\u001b[39m, (\u001b[38;5;241m255\u001b[39m,\u001b[38;5;241m0\u001b[39m,\u001b[38;5;241m0\u001b[39m), \u001b[38;5;241m2\u001b[39m)\n\u001b[1;32m---> 12\u001b[0m \u001b[38;5;28;01melif\u001b[39;00m event \u001b[38;5;241m==\u001b[39m \u001b[43mcv2\u001b[49m\u001b[38;5;241;43m.\u001b[39;49m\u001b[43mEVENT_LBUTTONDBCLK\u001b[49m:\n\u001b[0;32m     13\u001b[0m     cv2\u001b[38;5;241m.\u001b[39mcircle(img, (x,y), \u001b[38;5;241m20\u001b[39m, (\u001b[38;5;241m255\u001b[39m,\u001b[38;5;241m0\u001b[39m,\u001b[38;5;241m0\u001b[39m), \u001b[38;5;241m-\u001b[39m\u001b[38;5;241m1\u001b[39m)\n",
      "\u001b[1;31mAttributeError\u001b[0m: module 'cv2' has no attribute 'EVENT_LBUTTONDBCLK'"
     ]
    },
    {
     "ename": "AttributeError",
     "evalue": "module 'cv2' has no attribute 'EVENT_LBUTTONDBCLK'",
     "output_type": "error",
     "traceback": [
      "\u001b[1;31m---------------------------------------------------------------------------\u001b[0m",
      "\u001b[1;31mAttributeError\u001b[0m                            Traceback (most recent call last)",
      "Cell \u001b[1;32mIn[6], line 12\u001b[0m, in \u001b[0;36mdraw_circle\u001b[1;34m(event, x, y, flags, param)\u001b[0m\n\u001b[0;32m     10\u001b[0m \u001b[38;5;28;01melif\u001b[39;00m event \u001b[38;5;241m==\u001b[39m cv2\u001b[38;5;241m.\u001b[39mEVENT_RBUTTONDOWN:\n\u001b[0;32m     11\u001b[0m     cv2\u001b[38;5;241m.\u001b[39mcircle(img, (x,y), \u001b[38;5;241m10\u001b[39m, (\u001b[38;5;241m255\u001b[39m,\u001b[38;5;241m0\u001b[39m,\u001b[38;5;241m0\u001b[39m), \u001b[38;5;241m2\u001b[39m)\n\u001b[1;32m---> 12\u001b[0m \u001b[38;5;28;01melif\u001b[39;00m event \u001b[38;5;241m==\u001b[39m \u001b[43mcv2\u001b[49m\u001b[38;5;241;43m.\u001b[39;49m\u001b[43mEVENT_LBUTTONDBCLK\u001b[49m:\n\u001b[0;32m     13\u001b[0m     cv2\u001b[38;5;241m.\u001b[39mcircle(img, (x,y), \u001b[38;5;241m20\u001b[39m, (\u001b[38;5;241m255\u001b[39m,\u001b[38;5;241m0\u001b[39m,\u001b[38;5;241m0\u001b[39m), \u001b[38;5;241m-\u001b[39m\u001b[38;5;241m1\u001b[39m)\n",
      "\u001b[1;31mAttributeError\u001b[0m: module 'cv2' has no attribute 'EVENT_LBUTTONDBCLK'"
     ]
    },
    {
     "ename": "AttributeError",
     "evalue": "module 'cv2' has no attribute 'EVENT_LBUTTONDBCLK'",
     "output_type": "error",
     "traceback": [
      "\u001b[1;31m---------------------------------------------------------------------------\u001b[0m",
      "\u001b[1;31mAttributeError\u001b[0m                            Traceback (most recent call last)",
      "Cell \u001b[1;32mIn[6], line 12\u001b[0m, in \u001b[0;36mdraw_circle\u001b[1;34m(event, x, y, flags, param)\u001b[0m\n\u001b[0;32m     10\u001b[0m \u001b[38;5;28;01melif\u001b[39;00m event \u001b[38;5;241m==\u001b[39m cv2\u001b[38;5;241m.\u001b[39mEVENT_RBUTTONDOWN:\n\u001b[0;32m     11\u001b[0m     cv2\u001b[38;5;241m.\u001b[39mcircle(img, (x,y), \u001b[38;5;241m10\u001b[39m, (\u001b[38;5;241m255\u001b[39m,\u001b[38;5;241m0\u001b[39m,\u001b[38;5;241m0\u001b[39m), \u001b[38;5;241m2\u001b[39m)\n\u001b[1;32m---> 12\u001b[0m \u001b[38;5;28;01melif\u001b[39;00m event \u001b[38;5;241m==\u001b[39m \u001b[43mcv2\u001b[49m\u001b[38;5;241;43m.\u001b[39;49m\u001b[43mEVENT_LBUTTONDBCLK\u001b[49m:\n\u001b[0;32m     13\u001b[0m     cv2\u001b[38;5;241m.\u001b[39mcircle(img, (x,y), \u001b[38;5;241m20\u001b[39m, (\u001b[38;5;241m255\u001b[39m,\u001b[38;5;241m0\u001b[39m,\u001b[38;5;241m0\u001b[39m), \u001b[38;5;241m-\u001b[39m\u001b[38;5;241m1\u001b[39m)\n",
      "\u001b[1;31mAttributeError\u001b[0m: module 'cv2' has no attribute 'EVENT_LBUTTONDBCLK'"
     ]
    },
    {
     "ename": "AttributeError",
     "evalue": "module 'cv2' has no attribute 'EVENT_LBUTTONDBCLK'",
     "output_type": "error",
     "traceback": [
      "\u001b[1;31m---------------------------------------------------------------------------\u001b[0m",
      "\u001b[1;31mAttributeError\u001b[0m                            Traceback (most recent call last)",
      "Cell \u001b[1;32mIn[6], line 12\u001b[0m, in \u001b[0;36mdraw_circle\u001b[1;34m(event, x, y, flags, param)\u001b[0m\n\u001b[0;32m     10\u001b[0m \u001b[38;5;28;01melif\u001b[39;00m event \u001b[38;5;241m==\u001b[39m cv2\u001b[38;5;241m.\u001b[39mEVENT_RBUTTONDOWN:\n\u001b[0;32m     11\u001b[0m     cv2\u001b[38;5;241m.\u001b[39mcircle(img, (x,y), \u001b[38;5;241m10\u001b[39m, (\u001b[38;5;241m255\u001b[39m,\u001b[38;5;241m0\u001b[39m,\u001b[38;5;241m0\u001b[39m), \u001b[38;5;241m2\u001b[39m)\n\u001b[1;32m---> 12\u001b[0m \u001b[38;5;28;01melif\u001b[39;00m event \u001b[38;5;241m==\u001b[39m \u001b[43mcv2\u001b[49m\u001b[38;5;241;43m.\u001b[39;49m\u001b[43mEVENT_LBUTTONDBCLK\u001b[49m:\n\u001b[0;32m     13\u001b[0m     cv2\u001b[38;5;241m.\u001b[39mcircle(img, (x,y), \u001b[38;5;241m20\u001b[39m, (\u001b[38;5;241m255\u001b[39m,\u001b[38;5;241m0\u001b[39m,\u001b[38;5;241m0\u001b[39m), \u001b[38;5;241m-\u001b[39m\u001b[38;5;241m1\u001b[39m)\n",
      "\u001b[1;31mAttributeError\u001b[0m: module 'cv2' has no attribute 'EVENT_LBUTTONDBCLK'"
     ]
    },
    {
     "ename": "AttributeError",
     "evalue": "module 'cv2' has no attribute 'EVENT_LBUTTONDBCLK'",
     "output_type": "error",
     "traceback": [
      "\u001b[1;31m---------------------------------------------------------------------------\u001b[0m",
      "\u001b[1;31mAttributeError\u001b[0m                            Traceback (most recent call last)",
      "Cell \u001b[1;32mIn[6], line 12\u001b[0m, in \u001b[0;36mdraw_circle\u001b[1;34m(event, x, y, flags, param)\u001b[0m\n\u001b[0;32m     10\u001b[0m \u001b[38;5;28;01melif\u001b[39;00m event \u001b[38;5;241m==\u001b[39m cv2\u001b[38;5;241m.\u001b[39mEVENT_RBUTTONDOWN:\n\u001b[0;32m     11\u001b[0m     cv2\u001b[38;5;241m.\u001b[39mcircle(img, (x,y), \u001b[38;5;241m10\u001b[39m, (\u001b[38;5;241m255\u001b[39m,\u001b[38;5;241m0\u001b[39m,\u001b[38;5;241m0\u001b[39m), \u001b[38;5;241m2\u001b[39m)\n\u001b[1;32m---> 12\u001b[0m \u001b[38;5;28;01melif\u001b[39;00m event \u001b[38;5;241m==\u001b[39m \u001b[43mcv2\u001b[49m\u001b[38;5;241;43m.\u001b[39;49m\u001b[43mEVENT_LBUTTONDBCLK\u001b[49m:\n\u001b[0;32m     13\u001b[0m     cv2\u001b[38;5;241m.\u001b[39mcircle(img, (x,y), \u001b[38;5;241m20\u001b[39m, (\u001b[38;5;241m255\u001b[39m,\u001b[38;5;241m0\u001b[39m,\u001b[38;5;241m0\u001b[39m), \u001b[38;5;241m-\u001b[39m\u001b[38;5;241m1\u001b[39m)\n",
      "\u001b[1;31mAttributeError\u001b[0m: module 'cv2' has no attribute 'EVENT_LBUTTONDBCLK'"
     ]
    },
    {
     "ename": "AttributeError",
     "evalue": "module 'cv2' has no attribute 'EVENT_LBUTTONDBCLK'",
     "output_type": "error",
     "traceback": [
      "\u001b[1;31m---------------------------------------------------------------------------\u001b[0m",
      "\u001b[1;31mAttributeError\u001b[0m                            Traceback (most recent call last)",
      "Cell \u001b[1;32mIn[6], line 12\u001b[0m, in \u001b[0;36mdraw_circle\u001b[1;34m(event, x, y, flags, param)\u001b[0m\n\u001b[0;32m     10\u001b[0m \u001b[38;5;28;01melif\u001b[39;00m event \u001b[38;5;241m==\u001b[39m cv2\u001b[38;5;241m.\u001b[39mEVENT_RBUTTONDOWN:\n\u001b[0;32m     11\u001b[0m     cv2\u001b[38;5;241m.\u001b[39mcircle(img, (x,y), \u001b[38;5;241m10\u001b[39m, (\u001b[38;5;241m255\u001b[39m,\u001b[38;5;241m0\u001b[39m,\u001b[38;5;241m0\u001b[39m), \u001b[38;5;241m2\u001b[39m)\n\u001b[1;32m---> 12\u001b[0m \u001b[38;5;28;01melif\u001b[39;00m event \u001b[38;5;241m==\u001b[39m \u001b[43mcv2\u001b[49m\u001b[38;5;241;43m.\u001b[39;49m\u001b[43mEVENT_LBUTTONDBCLK\u001b[49m:\n\u001b[0;32m     13\u001b[0m     cv2\u001b[38;5;241m.\u001b[39mcircle(img, (x,y), \u001b[38;5;241m20\u001b[39m, (\u001b[38;5;241m255\u001b[39m,\u001b[38;5;241m0\u001b[39m,\u001b[38;5;241m0\u001b[39m), \u001b[38;5;241m-\u001b[39m\u001b[38;5;241m1\u001b[39m)\n",
      "\u001b[1;31mAttributeError\u001b[0m: module 'cv2' has no attribute 'EVENT_LBUTTONDBCLK'"
     ]
    },
    {
     "ename": "AttributeError",
     "evalue": "module 'cv2' has no attribute 'EVENT_LBUTTONDBCLK'",
     "output_type": "error",
     "traceback": [
      "\u001b[1;31m---------------------------------------------------------------------------\u001b[0m",
      "\u001b[1;31mAttributeError\u001b[0m                            Traceback (most recent call last)",
      "Cell \u001b[1;32mIn[6], line 12\u001b[0m, in \u001b[0;36mdraw_circle\u001b[1;34m(event, x, y, flags, param)\u001b[0m\n\u001b[0;32m     10\u001b[0m \u001b[38;5;28;01melif\u001b[39;00m event \u001b[38;5;241m==\u001b[39m cv2\u001b[38;5;241m.\u001b[39mEVENT_RBUTTONDOWN:\n\u001b[0;32m     11\u001b[0m     cv2\u001b[38;5;241m.\u001b[39mcircle(img, (x,y), \u001b[38;5;241m10\u001b[39m, (\u001b[38;5;241m255\u001b[39m,\u001b[38;5;241m0\u001b[39m,\u001b[38;5;241m0\u001b[39m), \u001b[38;5;241m2\u001b[39m)\n\u001b[1;32m---> 12\u001b[0m \u001b[38;5;28;01melif\u001b[39;00m event \u001b[38;5;241m==\u001b[39m \u001b[43mcv2\u001b[49m\u001b[38;5;241;43m.\u001b[39;49m\u001b[43mEVENT_LBUTTONDBCLK\u001b[49m:\n\u001b[0;32m     13\u001b[0m     cv2\u001b[38;5;241m.\u001b[39mcircle(img, (x,y), \u001b[38;5;241m20\u001b[39m, (\u001b[38;5;241m255\u001b[39m,\u001b[38;5;241m0\u001b[39m,\u001b[38;5;241m0\u001b[39m), \u001b[38;5;241m-\u001b[39m\u001b[38;5;241m1\u001b[39m)\n",
      "\u001b[1;31mAttributeError\u001b[0m: module 'cv2' has no attribute 'EVENT_LBUTTONDBCLK'"
     ]
    },
    {
     "ename": "AttributeError",
     "evalue": "module 'cv2' has no attribute 'EVENT_LBUTTONDBCLK'",
     "output_type": "error",
     "traceback": [
      "\u001b[1;31m---------------------------------------------------------------------------\u001b[0m",
      "\u001b[1;31mAttributeError\u001b[0m                            Traceback (most recent call last)",
      "Cell \u001b[1;32mIn[6], line 12\u001b[0m, in \u001b[0;36mdraw_circle\u001b[1;34m(event, x, y, flags, param)\u001b[0m\n\u001b[0;32m     10\u001b[0m \u001b[38;5;28;01melif\u001b[39;00m event \u001b[38;5;241m==\u001b[39m cv2\u001b[38;5;241m.\u001b[39mEVENT_RBUTTONDOWN:\n\u001b[0;32m     11\u001b[0m     cv2\u001b[38;5;241m.\u001b[39mcircle(img, (x,y), \u001b[38;5;241m10\u001b[39m, (\u001b[38;5;241m255\u001b[39m,\u001b[38;5;241m0\u001b[39m,\u001b[38;5;241m0\u001b[39m), \u001b[38;5;241m2\u001b[39m)\n\u001b[1;32m---> 12\u001b[0m \u001b[38;5;28;01melif\u001b[39;00m event \u001b[38;5;241m==\u001b[39m \u001b[43mcv2\u001b[49m\u001b[38;5;241;43m.\u001b[39;49m\u001b[43mEVENT_LBUTTONDBCLK\u001b[49m:\n\u001b[0;32m     13\u001b[0m     cv2\u001b[38;5;241m.\u001b[39mcircle(img, (x,y), \u001b[38;5;241m20\u001b[39m, (\u001b[38;5;241m255\u001b[39m,\u001b[38;5;241m0\u001b[39m,\u001b[38;5;241m0\u001b[39m), \u001b[38;5;241m-\u001b[39m\u001b[38;5;241m1\u001b[39m)\n",
      "\u001b[1;31mAttributeError\u001b[0m: module 'cv2' has no attribute 'EVENT_LBUTTONDBCLK'"
     ]
    },
    {
     "ename": "AttributeError",
     "evalue": "module 'cv2' has no attribute 'EVENT_LBUTTONDBCLK'",
     "output_type": "error",
     "traceback": [
      "\u001b[1;31m---------------------------------------------------------------------------\u001b[0m",
      "\u001b[1;31mAttributeError\u001b[0m                            Traceback (most recent call last)",
      "Cell \u001b[1;32mIn[6], line 12\u001b[0m, in \u001b[0;36mdraw_circle\u001b[1;34m(event, x, y, flags, param)\u001b[0m\n\u001b[0;32m     10\u001b[0m \u001b[38;5;28;01melif\u001b[39;00m event \u001b[38;5;241m==\u001b[39m cv2\u001b[38;5;241m.\u001b[39mEVENT_RBUTTONDOWN:\n\u001b[0;32m     11\u001b[0m     cv2\u001b[38;5;241m.\u001b[39mcircle(img, (x,y), \u001b[38;5;241m10\u001b[39m, (\u001b[38;5;241m255\u001b[39m,\u001b[38;5;241m0\u001b[39m,\u001b[38;5;241m0\u001b[39m), \u001b[38;5;241m2\u001b[39m)\n\u001b[1;32m---> 12\u001b[0m \u001b[38;5;28;01melif\u001b[39;00m event \u001b[38;5;241m==\u001b[39m \u001b[43mcv2\u001b[49m\u001b[38;5;241;43m.\u001b[39;49m\u001b[43mEVENT_LBUTTONDBCLK\u001b[49m:\n\u001b[0;32m     13\u001b[0m     cv2\u001b[38;5;241m.\u001b[39mcircle(img, (x,y), \u001b[38;5;241m20\u001b[39m, (\u001b[38;5;241m255\u001b[39m,\u001b[38;5;241m0\u001b[39m,\u001b[38;5;241m0\u001b[39m), \u001b[38;5;241m-\u001b[39m\u001b[38;5;241m1\u001b[39m)\n",
      "\u001b[1;31mAttributeError\u001b[0m: module 'cv2' has no attribute 'EVENT_LBUTTONDBCLK'"
     ]
    },
    {
     "ename": "AttributeError",
     "evalue": "module 'cv2' has no attribute 'EVENT_LBUTTONDBCLK'",
     "output_type": "error",
     "traceback": [
      "\u001b[1;31m---------------------------------------------------------------------------\u001b[0m",
      "\u001b[1;31mAttributeError\u001b[0m                            Traceback (most recent call last)",
      "Cell \u001b[1;32mIn[6], line 12\u001b[0m, in \u001b[0;36mdraw_circle\u001b[1;34m(event, x, y, flags, param)\u001b[0m\n\u001b[0;32m     10\u001b[0m \u001b[38;5;28;01melif\u001b[39;00m event \u001b[38;5;241m==\u001b[39m cv2\u001b[38;5;241m.\u001b[39mEVENT_RBUTTONDOWN:\n\u001b[0;32m     11\u001b[0m     cv2\u001b[38;5;241m.\u001b[39mcircle(img, (x,y), \u001b[38;5;241m10\u001b[39m, (\u001b[38;5;241m255\u001b[39m,\u001b[38;5;241m0\u001b[39m,\u001b[38;5;241m0\u001b[39m), \u001b[38;5;241m2\u001b[39m)\n\u001b[1;32m---> 12\u001b[0m \u001b[38;5;28;01melif\u001b[39;00m event \u001b[38;5;241m==\u001b[39m \u001b[43mcv2\u001b[49m\u001b[38;5;241;43m.\u001b[39;49m\u001b[43mEVENT_LBUTTONDBCLK\u001b[49m:\n\u001b[0;32m     13\u001b[0m     cv2\u001b[38;5;241m.\u001b[39mcircle(img, (x,y), \u001b[38;5;241m20\u001b[39m, (\u001b[38;5;241m255\u001b[39m,\u001b[38;5;241m0\u001b[39m,\u001b[38;5;241m0\u001b[39m), \u001b[38;5;241m-\u001b[39m\u001b[38;5;241m1\u001b[39m)\n",
      "\u001b[1;31mAttributeError\u001b[0m: module 'cv2' has no attribute 'EVENT_LBUTTONDBCLK'"
     ]
    },
    {
     "ename": "AttributeError",
     "evalue": "module 'cv2' has no attribute 'EVENT_LBUTTONDBCLK'",
     "output_type": "error",
     "traceback": [
      "\u001b[1;31m---------------------------------------------------------------------------\u001b[0m",
      "\u001b[1;31mAttributeError\u001b[0m                            Traceback (most recent call last)",
      "Cell \u001b[1;32mIn[6], line 12\u001b[0m, in \u001b[0;36mdraw_circle\u001b[1;34m(event, x, y, flags, param)\u001b[0m\n\u001b[0;32m     10\u001b[0m \u001b[38;5;28;01melif\u001b[39;00m event \u001b[38;5;241m==\u001b[39m cv2\u001b[38;5;241m.\u001b[39mEVENT_RBUTTONDOWN:\n\u001b[0;32m     11\u001b[0m     cv2\u001b[38;5;241m.\u001b[39mcircle(img, (x,y), \u001b[38;5;241m10\u001b[39m, (\u001b[38;5;241m255\u001b[39m,\u001b[38;5;241m0\u001b[39m,\u001b[38;5;241m0\u001b[39m), \u001b[38;5;241m2\u001b[39m)\n\u001b[1;32m---> 12\u001b[0m \u001b[38;5;28;01melif\u001b[39;00m event \u001b[38;5;241m==\u001b[39m \u001b[43mcv2\u001b[49m\u001b[38;5;241;43m.\u001b[39;49m\u001b[43mEVENT_LBUTTONDBCLK\u001b[49m:\n\u001b[0;32m     13\u001b[0m     cv2\u001b[38;5;241m.\u001b[39mcircle(img, (x,y), \u001b[38;5;241m20\u001b[39m, (\u001b[38;5;241m255\u001b[39m,\u001b[38;5;241m0\u001b[39m,\u001b[38;5;241m0\u001b[39m), \u001b[38;5;241m-\u001b[39m\u001b[38;5;241m1\u001b[39m)\n",
      "\u001b[1;31mAttributeError\u001b[0m: module 'cv2' has no attribute 'EVENT_LBUTTONDBCLK'"
     ]
    },
    {
     "ename": "AttributeError",
     "evalue": "module 'cv2' has no attribute 'EVENT_LBUTTONDBCLK'",
     "output_type": "error",
     "traceback": [
      "\u001b[1;31m---------------------------------------------------------------------------\u001b[0m",
      "\u001b[1;31mAttributeError\u001b[0m                            Traceback (most recent call last)",
      "Cell \u001b[1;32mIn[6], line 12\u001b[0m, in \u001b[0;36mdraw_circle\u001b[1;34m(event, x, y, flags, param)\u001b[0m\n\u001b[0;32m     10\u001b[0m \u001b[38;5;28;01melif\u001b[39;00m event \u001b[38;5;241m==\u001b[39m cv2\u001b[38;5;241m.\u001b[39mEVENT_RBUTTONDOWN:\n\u001b[0;32m     11\u001b[0m     cv2\u001b[38;5;241m.\u001b[39mcircle(img, (x,y), \u001b[38;5;241m10\u001b[39m, (\u001b[38;5;241m255\u001b[39m,\u001b[38;5;241m0\u001b[39m,\u001b[38;5;241m0\u001b[39m), \u001b[38;5;241m2\u001b[39m)\n\u001b[1;32m---> 12\u001b[0m \u001b[38;5;28;01melif\u001b[39;00m event \u001b[38;5;241m==\u001b[39m \u001b[43mcv2\u001b[49m\u001b[38;5;241;43m.\u001b[39;49m\u001b[43mEVENT_LBUTTONDBCLK\u001b[49m:\n\u001b[0;32m     13\u001b[0m     cv2\u001b[38;5;241m.\u001b[39mcircle(img, (x,y), \u001b[38;5;241m20\u001b[39m, (\u001b[38;5;241m255\u001b[39m,\u001b[38;5;241m0\u001b[39m,\u001b[38;5;241m0\u001b[39m), \u001b[38;5;241m-\u001b[39m\u001b[38;5;241m1\u001b[39m)\n",
      "\u001b[1;31mAttributeError\u001b[0m: module 'cv2' has no attribute 'EVENT_LBUTTONDBCLK'"
     ]
    },
    {
     "ename": "AttributeError",
     "evalue": "module 'cv2' has no attribute 'EVENT_LBUTTONDBCLK'",
     "output_type": "error",
     "traceback": [
      "\u001b[1;31m---------------------------------------------------------------------------\u001b[0m",
      "\u001b[1;31mAttributeError\u001b[0m                            Traceback (most recent call last)",
      "Cell \u001b[1;32mIn[6], line 12\u001b[0m, in \u001b[0;36mdraw_circle\u001b[1;34m(event, x, y, flags, param)\u001b[0m\n\u001b[0;32m     10\u001b[0m \u001b[38;5;28;01melif\u001b[39;00m event \u001b[38;5;241m==\u001b[39m cv2\u001b[38;5;241m.\u001b[39mEVENT_RBUTTONDOWN:\n\u001b[0;32m     11\u001b[0m     cv2\u001b[38;5;241m.\u001b[39mcircle(img, (x,y), \u001b[38;5;241m10\u001b[39m, (\u001b[38;5;241m255\u001b[39m,\u001b[38;5;241m0\u001b[39m,\u001b[38;5;241m0\u001b[39m), \u001b[38;5;241m2\u001b[39m)\n\u001b[1;32m---> 12\u001b[0m \u001b[38;5;28;01melif\u001b[39;00m event \u001b[38;5;241m==\u001b[39m \u001b[43mcv2\u001b[49m\u001b[38;5;241;43m.\u001b[39;49m\u001b[43mEVENT_LBUTTONDBCLK\u001b[49m:\n\u001b[0;32m     13\u001b[0m     cv2\u001b[38;5;241m.\u001b[39mcircle(img, (x,y), \u001b[38;5;241m20\u001b[39m, (\u001b[38;5;241m255\u001b[39m,\u001b[38;5;241m0\u001b[39m,\u001b[38;5;241m0\u001b[39m), \u001b[38;5;241m-\u001b[39m\u001b[38;5;241m1\u001b[39m)\n",
      "\u001b[1;31mAttributeError\u001b[0m: module 'cv2' has no attribute 'EVENT_LBUTTONDBCLK'"
     ]
    },
    {
     "ename": "AttributeError",
     "evalue": "module 'cv2' has no attribute 'EVENT_LBUTTONDBCLK'",
     "output_type": "error",
     "traceback": [
      "\u001b[1;31m---------------------------------------------------------------------------\u001b[0m",
      "\u001b[1;31mAttributeError\u001b[0m                            Traceback (most recent call last)",
      "Cell \u001b[1;32mIn[6], line 12\u001b[0m, in \u001b[0;36mdraw_circle\u001b[1;34m(event, x, y, flags, param)\u001b[0m\n\u001b[0;32m     10\u001b[0m \u001b[38;5;28;01melif\u001b[39;00m event \u001b[38;5;241m==\u001b[39m cv2\u001b[38;5;241m.\u001b[39mEVENT_RBUTTONDOWN:\n\u001b[0;32m     11\u001b[0m     cv2\u001b[38;5;241m.\u001b[39mcircle(img, (x,y), \u001b[38;5;241m10\u001b[39m, (\u001b[38;5;241m255\u001b[39m,\u001b[38;5;241m0\u001b[39m,\u001b[38;5;241m0\u001b[39m), \u001b[38;5;241m2\u001b[39m)\n\u001b[1;32m---> 12\u001b[0m \u001b[38;5;28;01melif\u001b[39;00m event \u001b[38;5;241m==\u001b[39m \u001b[43mcv2\u001b[49m\u001b[38;5;241;43m.\u001b[39;49m\u001b[43mEVENT_LBUTTONDBCLK\u001b[49m:\n\u001b[0;32m     13\u001b[0m     cv2\u001b[38;5;241m.\u001b[39mcircle(img, (x,y), \u001b[38;5;241m20\u001b[39m, (\u001b[38;5;241m255\u001b[39m,\u001b[38;5;241m0\u001b[39m,\u001b[38;5;241m0\u001b[39m), \u001b[38;5;241m-\u001b[39m\u001b[38;5;241m1\u001b[39m)\n",
      "\u001b[1;31mAttributeError\u001b[0m: module 'cv2' has no attribute 'EVENT_LBUTTONDBCLK'"
     ]
    },
    {
     "ename": "AttributeError",
     "evalue": "module 'cv2' has no attribute 'EVENT_LBUTTONDBCLK'",
     "output_type": "error",
     "traceback": [
      "\u001b[1;31m---------------------------------------------------------------------------\u001b[0m",
      "\u001b[1;31mAttributeError\u001b[0m                            Traceback (most recent call last)",
      "Cell \u001b[1;32mIn[6], line 12\u001b[0m, in \u001b[0;36mdraw_circle\u001b[1;34m(event, x, y, flags, param)\u001b[0m\n\u001b[0;32m     10\u001b[0m \u001b[38;5;28;01melif\u001b[39;00m event \u001b[38;5;241m==\u001b[39m cv2\u001b[38;5;241m.\u001b[39mEVENT_RBUTTONDOWN:\n\u001b[0;32m     11\u001b[0m     cv2\u001b[38;5;241m.\u001b[39mcircle(img, (x,y), \u001b[38;5;241m10\u001b[39m, (\u001b[38;5;241m255\u001b[39m,\u001b[38;5;241m0\u001b[39m,\u001b[38;5;241m0\u001b[39m), \u001b[38;5;241m2\u001b[39m)\n\u001b[1;32m---> 12\u001b[0m \u001b[38;5;28;01melif\u001b[39;00m event \u001b[38;5;241m==\u001b[39m \u001b[43mcv2\u001b[49m\u001b[38;5;241;43m.\u001b[39;49m\u001b[43mEVENT_LBUTTONDBCLK\u001b[49m:\n\u001b[0;32m     13\u001b[0m     cv2\u001b[38;5;241m.\u001b[39mcircle(img, (x,y), \u001b[38;5;241m20\u001b[39m, (\u001b[38;5;241m255\u001b[39m,\u001b[38;5;241m0\u001b[39m,\u001b[38;5;241m0\u001b[39m), \u001b[38;5;241m-\u001b[39m\u001b[38;5;241m1\u001b[39m)\n",
      "\u001b[1;31mAttributeError\u001b[0m: module 'cv2' has no attribute 'EVENT_LBUTTONDBCLK'"
     ]
    },
    {
     "ename": "AttributeError",
     "evalue": "module 'cv2' has no attribute 'EVENT_LBUTTONDBCLK'",
     "output_type": "error",
     "traceback": [
      "\u001b[1;31m---------------------------------------------------------------------------\u001b[0m",
      "\u001b[1;31mAttributeError\u001b[0m                            Traceback (most recent call last)",
      "Cell \u001b[1;32mIn[6], line 12\u001b[0m, in \u001b[0;36mdraw_circle\u001b[1;34m(event, x, y, flags, param)\u001b[0m\n\u001b[0;32m     10\u001b[0m \u001b[38;5;28;01melif\u001b[39;00m event \u001b[38;5;241m==\u001b[39m cv2\u001b[38;5;241m.\u001b[39mEVENT_RBUTTONDOWN:\n\u001b[0;32m     11\u001b[0m     cv2\u001b[38;5;241m.\u001b[39mcircle(img, (x,y), \u001b[38;5;241m10\u001b[39m, (\u001b[38;5;241m255\u001b[39m,\u001b[38;5;241m0\u001b[39m,\u001b[38;5;241m0\u001b[39m), \u001b[38;5;241m2\u001b[39m)\n\u001b[1;32m---> 12\u001b[0m \u001b[38;5;28;01melif\u001b[39;00m event \u001b[38;5;241m==\u001b[39m \u001b[43mcv2\u001b[49m\u001b[38;5;241;43m.\u001b[39;49m\u001b[43mEVENT_LBUTTONDBCLK\u001b[49m:\n\u001b[0;32m     13\u001b[0m     cv2\u001b[38;5;241m.\u001b[39mcircle(img, (x,y), \u001b[38;5;241m20\u001b[39m, (\u001b[38;5;241m255\u001b[39m,\u001b[38;5;241m0\u001b[39m,\u001b[38;5;241m0\u001b[39m), \u001b[38;5;241m-\u001b[39m\u001b[38;5;241m1\u001b[39m)\n",
      "\u001b[1;31mAttributeError\u001b[0m: module 'cv2' has no attribute 'EVENT_LBUTTONDBCLK'"
     ]
    },
    {
     "ename": "AttributeError",
     "evalue": "module 'cv2' has no attribute 'EVENT_LBUTTONDBCLK'",
     "output_type": "error",
     "traceback": [
      "\u001b[1;31m---------------------------------------------------------------------------\u001b[0m",
      "\u001b[1;31mAttributeError\u001b[0m                            Traceback (most recent call last)",
      "Cell \u001b[1;32mIn[6], line 12\u001b[0m, in \u001b[0;36mdraw_circle\u001b[1;34m(event, x, y, flags, param)\u001b[0m\n\u001b[0;32m     10\u001b[0m \u001b[38;5;28;01melif\u001b[39;00m event \u001b[38;5;241m==\u001b[39m cv2\u001b[38;5;241m.\u001b[39mEVENT_RBUTTONDOWN:\n\u001b[0;32m     11\u001b[0m     cv2\u001b[38;5;241m.\u001b[39mcircle(img, (x,y), \u001b[38;5;241m10\u001b[39m, (\u001b[38;5;241m255\u001b[39m,\u001b[38;5;241m0\u001b[39m,\u001b[38;5;241m0\u001b[39m), \u001b[38;5;241m2\u001b[39m)\n\u001b[1;32m---> 12\u001b[0m \u001b[38;5;28;01melif\u001b[39;00m event \u001b[38;5;241m==\u001b[39m \u001b[43mcv2\u001b[49m\u001b[38;5;241;43m.\u001b[39;49m\u001b[43mEVENT_LBUTTONDBCLK\u001b[49m:\n\u001b[0;32m     13\u001b[0m     cv2\u001b[38;5;241m.\u001b[39mcircle(img, (x,y), \u001b[38;5;241m20\u001b[39m, (\u001b[38;5;241m255\u001b[39m,\u001b[38;5;241m0\u001b[39m,\u001b[38;5;241m0\u001b[39m), \u001b[38;5;241m-\u001b[39m\u001b[38;5;241m1\u001b[39m)\n",
      "\u001b[1;31mAttributeError\u001b[0m: module 'cv2' has no attribute 'EVENT_LBUTTONDBCLK'"
     ]
    },
    {
     "ename": "AttributeError",
     "evalue": "module 'cv2' has no attribute 'EVENT_LBUTTONDBCLK'",
     "output_type": "error",
     "traceback": [
      "\u001b[1;31m---------------------------------------------------------------------------\u001b[0m",
      "\u001b[1;31mAttributeError\u001b[0m                            Traceback (most recent call last)",
      "Cell \u001b[1;32mIn[6], line 12\u001b[0m, in \u001b[0;36mdraw_circle\u001b[1;34m(event, x, y, flags, param)\u001b[0m\n\u001b[0;32m     10\u001b[0m \u001b[38;5;28;01melif\u001b[39;00m event \u001b[38;5;241m==\u001b[39m cv2\u001b[38;5;241m.\u001b[39mEVENT_RBUTTONDOWN:\n\u001b[0;32m     11\u001b[0m     cv2\u001b[38;5;241m.\u001b[39mcircle(img, (x,y), \u001b[38;5;241m10\u001b[39m, (\u001b[38;5;241m255\u001b[39m,\u001b[38;5;241m0\u001b[39m,\u001b[38;5;241m0\u001b[39m), \u001b[38;5;241m2\u001b[39m)\n\u001b[1;32m---> 12\u001b[0m \u001b[38;5;28;01melif\u001b[39;00m event \u001b[38;5;241m==\u001b[39m \u001b[43mcv2\u001b[49m\u001b[38;5;241;43m.\u001b[39;49m\u001b[43mEVENT_LBUTTONDBCLK\u001b[49m:\n\u001b[0;32m     13\u001b[0m     cv2\u001b[38;5;241m.\u001b[39mcircle(img, (x,y), \u001b[38;5;241m20\u001b[39m, (\u001b[38;5;241m255\u001b[39m,\u001b[38;5;241m0\u001b[39m,\u001b[38;5;241m0\u001b[39m), \u001b[38;5;241m-\u001b[39m\u001b[38;5;241m1\u001b[39m)\n",
      "\u001b[1;31mAttributeError\u001b[0m: module 'cv2' has no attribute 'EVENT_LBUTTONDBCLK'"
     ]
    },
    {
     "ename": "AttributeError",
     "evalue": "module 'cv2' has no attribute 'EVENT_LBUTTONDBCLK'",
     "output_type": "error",
     "traceback": [
      "\u001b[1;31m---------------------------------------------------------------------------\u001b[0m",
      "\u001b[1;31mAttributeError\u001b[0m                            Traceback (most recent call last)",
      "Cell \u001b[1;32mIn[6], line 12\u001b[0m, in \u001b[0;36mdraw_circle\u001b[1;34m(event, x, y, flags, param)\u001b[0m\n\u001b[0;32m     10\u001b[0m \u001b[38;5;28;01melif\u001b[39;00m event \u001b[38;5;241m==\u001b[39m cv2\u001b[38;5;241m.\u001b[39mEVENT_RBUTTONDOWN:\n\u001b[0;32m     11\u001b[0m     cv2\u001b[38;5;241m.\u001b[39mcircle(img, (x,y), \u001b[38;5;241m10\u001b[39m, (\u001b[38;5;241m255\u001b[39m,\u001b[38;5;241m0\u001b[39m,\u001b[38;5;241m0\u001b[39m), \u001b[38;5;241m2\u001b[39m)\n\u001b[1;32m---> 12\u001b[0m \u001b[38;5;28;01melif\u001b[39;00m event \u001b[38;5;241m==\u001b[39m \u001b[43mcv2\u001b[49m\u001b[38;5;241;43m.\u001b[39;49m\u001b[43mEVENT_LBUTTONDBCLK\u001b[49m:\n\u001b[0;32m     13\u001b[0m     cv2\u001b[38;5;241m.\u001b[39mcircle(img, (x,y), \u001b[38;5;241m20\u001b[39m, (\u001b[38;5;241m255\u001b[39m,\u001b[38;5;241m0\u001b[39m,\u001b[38;5;241m0\u001b[39m), \u001b[38;5;241m-\u001b[39m\u001b[38;5;241m1\u001b[39m)\n",
      "\u001b[1;31mAttributeError\u001b[0m: module 'cv2' has no attribute 'EVENT_LBUTTONDBCLK'"
     ]
    },
    {
     "ename": "AttributeError",
     "evalue": "module 'cv2' has no attribute 'EVENT_LBUTTONDBCLK'",
     "output_type": "error",
     "traceback": [
      "\u001b[1;31m---------------------------------------------------------------------------\u001b[0m",
      "\u001b[1;31mAttributeError\u001b[0m                            Traceback (most recent call last)",
      "Cell \u001b[1;32mIn[6], line 12\u001b[0m, in \u001b[0;36mdraw_circle\u001b[1;34m(event, x, y, flags, param)\u001b[0m\n\u001b[0;32m     10\u001b[0m \u001b[38;5;28;01melif\u001b[39;00m event \u001b[38;5;241m==\u001b[39m cv2\u001b[38;5;241m.\u001b[39mEVENT_RBUTTONDOWN:\n\u001b[0;32m     11\u001b[0m     cv2\u001b[38;5;241m.\u001b[39mcircle(img, (x,y), \u001b[38;5;241m10\u001b[39m, (\u001b[38;5;241m255\u001b[39m,\u001b[38;5;241m0\u001b[39m,\u001b[38;5;241m0\u001b[39m), \u001b[38;5;241m2\u001b[39m)\n\u001b[1;32m---> 12\u001b[0m \u001b[38;5;28;01melif\u001b[39;00m event \u001b[38;5;241m==\u001b[39m \u001b[43mcv2\u001b[49m\u001b[38;5;241;43m.\u001b[39;49m\u001b[43mEVENT_LBUTTONDBCLK\u001b[49m:\n\u001b[0;32m     13\u001b[0m     cv2\u001b[38;5;241m.\u001b[39mcircle(img, (x,y), \u001b[38;5;241m20\u001b[39m, (\u001b[38;5;241m255\u001b[39m,\u001b[38;5;241m0\u001b[39m,\u001b[38;5;241m0\u001b[39m), \u001b[38;5;241m-\u001b[39m\u001b[38;5;241m1\u001b[39m)\n",
      "\u001b[1;31mAttributeError\u001b[0m: module 'cv2' has no attribute 'EVENT_LBUTTONDBCLK'"
     ]
    },
    {
     "ename": "AttributeError",
     "evalue": "module 'cv2' has no attribute 'EVENT_LBUTTONDBCLK'",
     "output_type": "error",
     "traceback": [
      "\u001b[1;31m---------------------------------------------------------------------------\u001b[0m",
      "\u001b[1;31mAttributeError\u001b[0m                            Traceback (most recent call last)",
      "Cell \u001b[1;32mIn[6], line 12\u001b[0m, in \u001b[0;36mdraw_circle\u001b[1;34m(event, x, y, flags, param)\u001b[0m\n\u001b[0;32m     10\u001b[0m \u001b[38;5;28;01melif\u001b[39;00m event \u001b[38;5;241m==\u001b[39m cv2\u001b[38;5;241m.\u001b[39mEVENT_RBUTTONDOWN:\n\u001b[0;32m     11\u001b[0m     cv2\u001b[38;5;241m.\u001b[39mcircle(img, (x,y), \u001b[38;5;241m10\u001b[39m, (\u001b[38;5;241m255\u001b[39m,\u001b[38;5;241m0\u001b[39m,\u001b[38;5;241m0\u001b[39m), \u001b[38;5;241m2\u001b[39m)\n\u001b[1;32m---> 12\u001b[0m \u001b[38;5;28;01melif\u001b[39;00m event \u001b[38;5;241m==\u001b[39m \u001b[43mcv2\u001b[49m\u001b[38;5;241;43m.\u001b[39;49m\u001b[43mEVENT_LBUTTONDBCLK\u001b[49m:\n\u001b[0;32m     13\u001b[0m     cv2\u001b[38;5;241m.\u001b[39mcircle(img, (x,y), \u001b[38;5;241m20\u001b[39m, (\u001b[38;5;241m255\u001b[39m,\u001b[38;5;241m0\u001b[39m,\u001b[38;5;241m0\u001b[39m), \u001b[38;5;241m-\u001b[39m\u001b[38;5;241m1\u001b[39m)\n",
      "\u001b[1;31mAttributeError\u001b[0m: module 'cv2' has no attribute 'EVENT_LBUTTONDBCLK'"
     ]
    },
    {
     "ename": "AttributeError",
     "evalue": "module 'cv2' has no attribute 'EVENT_LBUTTONDBCLK'",
     "output_type": "error",
     "traceback": [
      "\u001b[1;31m---------------------------------------------------------------------------\u001b[0m",
      "\u001b[1;31mAttributeError\u001b[0m                            Traceback (most recent call last)",
      "Cell \u001b[1;32mIn[6], line 12\u001b[0m, in \u001b[0;36mdraw_circle\u001b[1;34m(event, x, y, flags, param)\u001b[0m\n\u001b[0;32m     10\u001b[0m \u001b[38;5;28;01melif\u001b[39;00m event \u001b[38;5;241m==\u001b[39m cv2\u001b[38;5;241m.\u001b[39mEVENT_RBUTTONDOWN:\n\u001b[0;32m     11\u001b[0m     cv2\u001b[38;5;241m.\u001b[39mcircle(img, (x,y), \u001b[38;5;241m10\u001b[39m, (\u001b[38;5;241m255\u001b[39m,\u001b[38;5;241m0\u001b[39m,\u001b[38;5;241m0\u001b[39m), \u001b[38;5;241m2\u001b[39m)\n\u001b[1;32m---> 12\u001b[0m \u001b[38;5;28;01melif\u001b[39;00m event \u001b[38;5;241m==\u001b[39m \u001b[43mcv2\u001b[49m\u001b[38;5;241;43m.\u001b[39;49m\u001b[43mEVENT_LBUTTONDBCLK\u001b[49m:\n\u001b[0;32m     13\u001b[0m     cv2\u001b[38;5;241m.\u001b[39mcircle(img, (x,y), \u001b[38;5;241m20\u001b[39m, (\u001b[38;5;241m255\u001b[39m,\u001b[38;5;241m0\u001b[39m,\u001b[38;5;241m0\u001b[39m), \u001b[38;5;241m-\u001b[39m\u001b[38;5;241m1\u001b[39m)\n",
      "\u001b[1;31mAttributeError\u001b[0m: module 'cv2' has no attribute 'EVENT_LBUTTONDBCLK'"
     ]
    },
    {
     "ename": "AttributeError",
     "evalue": "module 'cv2' has no attribute 'EVENT_LBUTTONDBCLK'",
     "output_type": "error",
     "traceback": [
      "\u001b[1;31m---------------------------------------------------------------------------\u001b[0m",
      "\u001b[1;31mAttributeError\u001b[0m                            Traceback (most recent call last)",
      "Cell \u001b[1;32mIn[6], line 12\u001b[0m, in \u001b[0;36mdraw_circle\u001b[1;34m(event, x, y, flags, param)\u001b[0m\n\u001b[0;32m     10\u001b[0m \u001b[38;5;28;01melif\u001b[39;00m event \u001b[38;5;241m==\u001b[39m cv2\u001b[38;5;241m.\u001b[39mEVENT_RBUTTONDOWN:\n\u001b[0;32m     11\u001b[0m     cv2\u001b[38;5;241m.\u001b[39mcircle(img, (x,y), \u001b[38;5;241m10\u001b[39m, (\u001b[38;5;241m255\u001b[39m,\u001b[38;5;241m0\u001b[39m,\u001b[38;5;241m0\u001b[39m), \u001b[38;5;241m2\u001b[39m)\n\u001b[1;32m---> 12\u001b[0m \u001b[38;5;28;01melif\u001b[39;00m event \u001b[38;5;241m==\u001b[39m \u001b[43mcv2\u001b[49m\u001b[38;5;241;43m.\u001b[39;49m\u001b[43mEVENT_LBUTTONDBCLK\u001b[49m:\n\u001b[0;32m     13\u001b[0m     cv2\u001b[38;5;241m.\u001b[39mcircle(img, (x,y), \u001b[38;5;241m20\u001b[39m, (\u001b[38;5;241m255\u001b[39m,\u001b[38;5;241m0\u001b[39m,\u001b[38;5;241m0\u001b[39m), \u001b[38;5;241m-\u001b[39m\u001b[38;5;241m1\u001b[39m)\n",
      "\u001b[1;31mAttributeError\u001b[0m: module 'cv2' has no attribute 'EVENT_LBUTTONDBCLK'"
     ]
    },
    {
     "ename": "AttributeError",
     "evalue": "module 'cv2' has no attribute 'EVENT_LBUTTONDBCLK'",
     "output_type": "error",
     "traceback": [
      "\u001b[1;31m---------------------------------------------------------------------------\u001b[0m",
      "\u001b[1;31mAttributeError\u001b[0m                            Traceback (most recent call last)",
      "Cell \u001b[1;32mIn[6], line 12\u001b[0m, in \u001b[0;36mdraw_circle\u001b[1;34m(event, x, y, flags, param)\u001b[0m\n\u001b[0;32m     10\u001b[0m \u001b[38;5;28;01melif\u001b[39;00m event \u001b[38;5;241m==\u001b[39m cv2\u001b[38;5;241m.\u001b[39mEVENT_RBUTTONDOWN:\n\u001b[0;32m     11\u001b[0m     cv2\u001b[38;5;241m.\u001b[39mcircle(img, (x,y), \u001b[38;5;241m10\u001b[39m, (\u001b[38;5;241m255\u001b[39m,\u001b[38;5;241m0\u001b[39m,\u001b[38;5;241m0\u001b[39m), \u001b[38;5;241m2\u001b[39m)\n\u001b[1;32m---> 12\u001b[0m \u001b[38;5;28;01melif\u001b[39;00m event \u001b[38;5;241m==\u001b[39m \u001b[43mcv2\u001b[49m\u001b[38;5;241;43m.\u001b[39;49m\u001b[43mEVENT_LBUTTONDBCLK\u001b[49m:\n\u001b[0;32m     13\u001b[0m     cv2\u001b[38;5;241m.\u001b[39mcircle(img, (x,y), \u001b[38;5;241m20\u001b[39m, (\u001b[38;5;241m255\u001b[39m,\u001b[38;5;241m0\u001b[39m,\u001b[38;5;241m0\u001b[39m), \u001b[38;5;241m-\u001b[39m\u001b[38;5;241m1\u001b[39m)\n",
      "\u001b[1;31mAttributeError\u001b[0m: module 'cv2' has no attribute 'EVENT_LBUTTONDBCLK'"
     ]
    },
    {
     "ename": "AttributeError",
     "evalue": "module 'cv2' has no attribute 'EVENT_LBUTTONDBCLK'",
     "output_type": "error",
     "traceback": [
      "\u001b[1;31m---------------------------------------------------------------------------\u001b[0m",
      "\u001b[1;31mAttributeError\u001b[0m                            Traceback (most recent call last)",
      "Cell \u001b[1;32mIn[6], line 12\u001b[0m, in \u001b[0;36mdraw_circle\u001b[1;34m(event, x, y, flags, param)\u001b[0m\n\u001b[0;32m     10\u001b[0m \u001b[38;5;28;01melif\u001b[39;00m event \u001b[38;5;241m==\u001b[39m cv2\u001b[38;5;241m.\u001b[39mEVENT_RBUTTONDOWN:\n\u001b[0;32m     11\u001b[0m     cv2\u001b[38;5;241m.\u001b[39mcircle(img, (x,y), \u001b[38;5;241m10\u001b[39m, (\u001b[38;5;241m255\u001b[39m,\u001b[38;5;241m0\u001b[39m,\u001b[38;5;241m0\u001b[39m), \u001b[38;5;241m2\u001b[39m)\n\u001b[1;32m---> 12\u001b[0m \u001b[38;5;28;01melif\u001b[39;00m event \u001b[38;5;241m==\u001b[39m \u001b[43mcv2\u001b[49m\u001b[38;5;241;43m.\u001b[39;49m\u001b[43mEVENT_LBUTTONDBCLK\u001b[49m:\n\u001b[0;32m     13\u001b[0m     cv2\u001b[38;5;241m.\u001b[39mcircle(img, (x,y), \u001b[38;5;241m20\u001b[39m, (\u001b[38;5;241m255\u001b[39m,\u001b[38;5;241m0\u001b[39m,\u001b[38;5;241m0\u001b[39m), \u001b[38;5;241m-\u001b[39m\u001b[38;5;241m1\u001b[39m)\n",
      "\u001b[1;31mAttributeError\u001b[0m: module 'cv2' has no attribute 'EVENT_LBUTTONDBCLK'"
     ]
    },
    {
     "ename": "AttributeError",
     "evalue": "module 'cv2' has no attribute 'EVENT_LBUTTONDBCLK'",
     "output_type": "error",
     "traceback": [
      "\u001b[1;31m---------------------------------------------------------------------------\u001b[0m",
      "\u001b[1;31mAttributeError\u001b[0m                            Traceback (most recent call last)",
      "Cell \u001b[1;32mIn[6], line 12\u001b[0m, in \u001b[0;36mdraw_circle\u001b[1;34m(event, x, y, flags, param)\u001b[0m\n\u001b[0;32m     10\u001b[0m \u001b[38;5;28;01melif\u001b[39;00m event \u001b[38;5;241m==\u001b[39m cv2\u001b[38;5;241m.\u001b[39mEVENT_RBUTTONDOWN:\n\u001b[0;32m     11\u001b[0m     cv2\u001b[38;5;241m.\u001b[39mcircle(img, (x,y), \u001b[38;5;241m10\u001b[39m, (\u001b[38;5;241m255\u001b[39m,\u001b[38;5;241m0\u001b[39m,\u001b[38;5;241m0\u001b[39m), \u001b[38;5;241m2\u001b[39m)\n\u001b[1;32m---> 12\u001b[0m \u001b[38;5;28;01melif\u001b[39;00m event \u001b[38;5;241m==\u001b[39m \u001b[43mcv2\u001b[49m\u001b[38;5;241;43m.\u001b[39;49m\u001b[43mEVENT_LBUTTONDBCLK\u001b[49m:\n\u001b[0;32m     13\u001b[0m     cv2\u001b[38;5;241m.\u001b[39mcircle(img, (x,y), \u001b[38;5;241m20\u001b[39m, (\u001b[38;5;241m255\u001b[39m,\u001b[38;5;241m0\u001b[39m,\u001b[38;5;241m0\u001b[39m), \u001b[38;5;241m-\u001b[39m\u001b[38;5;241m1\u001b[39m)\n",
      "\u001b[1;31mAttributeError\u001b[0m: module 'cv2' has no attribute 'EVENT_LBUTTONDBCLK'"
     ]
    },
    {
     "ename": "AttributeError",
     "evalue": "module 'cv2' has no attribute 'EVENT_LBUTTONDBCLK'",
     "output_type": "error",
     "traceback": [
      "\u001b[1;31m---------------------------------------------------------------------------\u001b[0m",
      "\u001b[1;31mAttributeError\u001b[0m                            Traceback (most recent call last)",
      "Cell \u001b[1;32mIn[6], line 12\u001b[0m, in \u001b[0;36mdraw_circle\u001b[1;34m(event, x, y, flags, param)\u001b[0m\n\u001b[0;32m     10\u001b[0m \u001b[38;5;28;01melif\u001b[39;00m event \u001b[38;5;241m==\u001b[39m cv2\u001b[38;5;241m.\u001b[39mEVENT_RBUTTONDOWN:\n\u001b[0;32m     11\u001b[0m     cv2\u001b[38;5;241m.\u001b[39mcircle(img, (x,y), \u001b[38;5;241m10\u001b[39m, (\u001b[38;5;241m255\u001b[39m,\u001b[38;5;241m0\u001b[39m,\u001b[38;5;241m0\u001b[39m), \u001b[38;5;241m2\u001b[39m)\n\u001b[1;32m---> 12\u001b[0m \u001b[38;5;28;01melif\u001b[39;00m event \u001b[38;5;241m==\u001b[39m \u001b[43mcv2\u001b[49m\u001b[38;5;241;43m.\u001b[39;49m\u001b[43mEVENT_LBUTTONDBCLK\u001b[49m:\n\u001b[0;32m     13\u001b[0m     cv2\u001b[38;5;241m.\u001b[39mcircle(img, (x,y), \u001b[38;5;241m20\u001b[39m, (\u001b[38;5;241m255\u001b[39m,\u001b[38;5;241m0\u001b[39m,\u001b[38;5;241m0\u001b[39m), \u001b[38;5;241m-\u001b[39m\u001b[38;5;241m1\u001b[39m)\n",
      "\u001b[1;31mAttributeError\u001b[0m: module 'cv2' has no attribute 'EVENT_LBUTTONDBCLK'"
     ]
    },
    {
     "ename": "AttributeError",
     "evalue": "module 'cv2' has no attribute 'EVENT_LBUTTONDBCLK'",
     "output_type": "error",
     "traceback": [
      "\u001b[1;31m---------------------------------------------------------------------------\u001b[0m",
      "\u001b[1;31mAttributeError\u001b[0m                            Traceback (most recent call last)",
      "Cell \u001b[1;32mIn[6], line 12\u001b[0m, in \u001b[0;36mdraw_circle\u001b[1;34m(event, x, y, flags, param)\u001b[0m\n\u001b[0;32m     10\u001b[0m \u001b[38;5;28;01melif\u001b[39;00m event \u001b[38;5;241m==\u001b[39m cv2\u001b[38;5;241m.\u001b[39mEVENT_RBUTTONDOWN:\n\u001b[0;32m     11\u001b[0m     cv2\u001b[38;5;241m.\u001b[39mcircle(img, (x,y), \u001b[38;5;241m10\u001b[39m, (\u001b[38;5;241m255\u001b[39m,\u001b[38;5;241m0\u001b[39m,\u001b[38;5;241m0\u001b[39m), \u001b[38;5;241m2\u001b[39m)\n\u001b[1;32m---> 12\u001b[0m \u001b[38;5;28;01melif\u001b[39;00m event \u001b[38;5;241m==\u001b[39m \u001b[43mcv2\u001b[49m\u001b[38;5;241;43m.\u001b[39;49m\u001b[43mEVENT_LBUTTONDBCLK\u001b[49m:\n\u001b[0;32m     13\u001b[0m     cv2\u001b[38;5;241m.\u001b[39mcircle(img, (x,y), \u001b[38;5;241m20\u001b[39m, (\u001b[38;5;241m255\u001b[39m,\u001b[38;5;241m0\u001b[39m,\u001b[38;5;241m0\u001b[39m), \u001b[38;5;241m-\u001b[39m\u001b[38;5;241m1\u001b[39m)\n",
      "\u001b[1;31mAttributeError\u001b[0m: module 'cv2' has no attribute 'EVENT_LBUTTONDBCLK'"
     ]
    },
    {
     "ename": "AttributeError",
     "evalue": "module 'cv2' has no attribute 'EVENT_LBUTTONDBCLK'",
     "output_type": "error",
     "traceback": [
      "\u001b[1;31m---------------------------------------------------------------------------\u001b[0m",
      "\u001b[1;31mAttributeError\u001b[0m                            Traceback (most recent call last)",
      "Cell \u001b[1;32mIn[6], line 12\u001b[0m, in \u001b[0;36mdraw_circle\u001b[1;34m(event, x, y, flags, param)\u001b[0m\n\u001b[0;32m     10\u001b[0m \u001b[38;5;28;01melif\u001b[39;00m event \u001b[38;5;241m==\u001b[39m cv2\u001b[38;5;241m.\u001b[39mEVENT_RBUTTONDOWN:\n\u001b[0;32m     11\u001b[0m     cv2\u001b[38;5;241m.\u001b[39mcircle(img, (x,y), \u001b[38;5;241m10\u001b[39m, (\u001b[38;5;241m255\u001b[39m,\u001b[38;5;241m0\u001b[39m,\u001b[38;5;241m0\u001b[39m), \u001b[38;5;241m2\u001b[39m)\n\u001b[1;32m---> 12\u001b[0m \u001b[38;5;28;01melif\u001b[39;00m event \u001b[38;5;241m==\u001b[39m \u001b[43mcv2\u001b[49m\u001b[38;5;241;43m.\u001b[39;49m\u001b[43mEVENT_LBUTTONDBCLK\u001b[49m:\n\u001b[0;32m     13\u001b[0m     cv2\u001b[38;5;241m.\u001b[39mcircle(img, (x,y), \u001b[38;5;241m20\u001b[39m, (\u001b[38;5;241m255\u001b[39m,\u001b[38;5;241m0\u001b[39m,\u001b[38;5;241m0\u001b[39m), \u001b[38;5;241m-\u001b[39m\u001b[38;5;241m1\u001b[39m)\n",
      "\u001b[1;31mAttributeError\u001b[0m: module 'cv2' has no attribute 'EVENT_LBUTTONDBCLK'"
     ]
    },
    {
     "ename": "AttributeError",
     "evalue": "module 'cv2' has no attribute 'EVENT_LBUTTONDBCLK'",
     "output_type": "error",
     "traceback": [
      "\u001b[1;31m---------------------------------------------------------------------------\u001b[0m",
      "\u001b[1;31mAttributeError\u001b[0m                            Traceback (most recent call last)",
      "Cell \u001b[1;32mIn[6], line 12\u001b[0m, in \u001b[0;36mdraw_circle\u001b[1;34m(event, x, y, flags, param)\u001b[0m\n\u001b[0;32m     10\u001b[0m \u001b[38;5;28;01melif\u001b[39;00m event \u001b[38;5;241m==\u001b[39m cv2\u001b[38;5;241m.\u001b[39mEVENT_RBUTTONDOWN:\n\u001b[0;32m     11\u001b[0m     cv2\u001b[38;5;241m.\u001b[39mcircle(img, (x,y), \u001b[38;5;241m10\u001b[39m, (\u001b[38;5;241m255\u001b[39m,\u001b[38;5;241m0\u001b[39m,\u001b[38;5;241m0\u001b[39m), \u001b[38;5;241m2\u001b[39m)\n\u001b[1;32m---> 12\u001b[0m \u001b[38;5;28;01melif\u001b[39;00m event \u001b[38;5;241m==\u001b[39m \u001b[43mcv2\u001b[49m\u001b[38;5;241;43m.\u001b[39;49m\u001b[43mEVENT_LBUTTONDBCLK\u001b[49m:\n\u001b[0;32m     13\u001b[0m     cv2\u001b[38;5;241m.\u001b[39mcircle(img, (x,y), \u001b[38;5;241m20\u001b[39m, (\u001b[38;5;241m255\u001b[39m,\u001b[38;5;241m0\u001b[39m,\u001b[38;5;241m0\u001b[39m), \u001b[38;5;241m-\u001b[39m\u001b[38;5;241m1\u001b[39m)\n",
      "\u001b[1;31mAttributeError\u001b[0m: module 'cv2' has no attribute 'EVENT_LBUTTONDBCLK'"
     ]
    },
    {
     "ename": "AttributeError",
     "evalue": "module 'cv2' has no attribute 'EVENT_LBUTTONDBCLK'",
     "output_type": "error",
     "traceback": [
      "\u001b[1;31m---------------------------------------------------------------------------\u001b[0m",
      "\u001b[1;31mAttributeError\u001b[0m                            Traceback (most recent call last)",
      "Cell \u001b[1;32mIn[6], line 12\u001b[0m, in \u001b[0;36mdraw_circle\u001b[1;34m(event, x, y, flags, param)\u001b[0m\n\u001b[0;32m     10\u001b[0m \u001b[38;5;28;01melif\u001b[39;00m event \u001b[38;5;241m==\u001b[39m cv2\u001b[38;5;241m.\u001b[39mEVENT_RBUTTONDOWN:\n\u001b[0;32m     11\u001b[0m     cv2\u001b[38;5;241m.\u001b[39mcircle(img, (x,y), \u001b[38;5;241m10\u001b[39m, (\u001b[38;5;241m255\u001b[39m,\u001b[38;5;241m0\u001b[39m,\u001b[38;5;241m0\u001b[39m), \u001b[38;5;241m2\u001b[39m)\n\u001b[1;32m---> 12\u001b[0m \u001b[38;5;28;01melif\u001b[39;00m event \u001b[38;5;241m==\u001b[39m \u001b[43mcv2\u001b[49m\u001b[38;5;241;43m.\u001b[39;49m\u001b[43mEVENT_LBUTTONDBCLK\u001b[49m:\n\u001b[0;32m     13\u001b[0m     cv2\u001b[38;5;241m.\u001b[39mcircle(img, (x,y), \u001b[38;5;241m20\u001b[39m, (\u001b[38;5;241m255\u001b[39m,\u001b[38;5;241m0\u001b[39m,\u001b[38;5;241m0\u001b[39m), \u001b[38;5;241m-\u001b[39m\u001b[38;5;241m1\u001b[39m)\n",
      "\u001b[1;31mAttributeError\u001b[0m: module 'cv2' has no attribute 'EVENT_LBUTTONDBCLK'"
     ]
    },
    {
     "ename": "AttributeError",
     "evalue": "module 'cv2' has no attribute 'EVENT_LBUTTONDBCLK'",
     "output_type": "error",
     "traceback": [
      "\u001b[1;31m---------------------------------------------------------------------------\u001b[0m",
      "\u001b[1;31mAttributeError\u001b[0m                            Traceback (most recent call last)",
      "Cell \u001b[1;32mIn[6], line 12\u001b[0m, in \u001b[0;36mdraw_circle\u001b[1;34m(event, x, y, flags, param)\u001b[0m\n\u001b[0;32m     10\u001b[0m \u001b[38;5;28;01melif\u001b[39;00m event \u001b[38;5;241m==\u001b[39m cv2\u001b[38;5;241m.\u001b[39mEVENT_RBUTTONDOWN:\n\u001b[0;32m     11\u001b[0m     cv2\u001b[38;5;241m.\u001b[39mcircle(img, (x,y), \u001b[38;5;241m10\u001b[39m, (\u001b[38;5;241m255\u001b[39m,\u001b[38;5;241m0\u001b[39m,\u001b[38;5;241m0\u001b[39m), \u001b[38;5;241m2\u001b[39m)\n\u001b[1;32m---> 12\u001b[0m \u001b[38;5;28;01melif\u001b[39;00m event \u001b[38;5;241m==\u001b[39m \u001b[43mcv2\u001b[49m\u001b[38;5;241;43m.\u001b[39;49m\u001b[43mEVENT_LBUTTONDBCLK\u001b[49m:\n\u001b[0;32m     13\u001b[0m     cv2\u001b[38;5;241m.\u001b[39mcircle(img, (x,y), \u001b[38;5;241m20\u001b[39m, (\u001b[38;5;241m255\u001b[39m,\u001b[38;5;241m0\u001b[39m,\u001b[38;5;241m0\u001b[39m), \u001b[38;5;241m-\u001b[39m\u001b[38;5;241m1\u001b[39m)\n",
      "\u001b[1;31mAttributeError\u001b[0m: module 'cv2' has no attribute 'EVENT_LBUTTONDBCLK'"
     ]
    },
    {
     "ename": "AttributeError",
     "evalue": "module 'cv2' has no attribute 'EVENT_LBUTTONDBCLK'",
     "output_type": "error",
     "traceback": [
      "\u001b[1;31m---------------------------------------------------------------------------\u001b[0m",
      "\u001b[1;31mAttributeError\u001b[0m                            Traceback (most recent call last)",
      "Cell \u001b[1;32mIn[6], line 12\u001b[0m, in \u001b[0;36mdraw_circle\u001b[1;34m(event, x, y, flags, param)\u001b[0m\n\u001b[0;32m     10\u001b[0m \u001b[38;5;28;01melif\u001b[39;00m event \u001b[38;5;241m==\u001b[39m cv2\u001b[38;5;241m.\u001b[39mEVENT_RBUTTONDOWN:\n\u001b[0;32m     11\u001b[0m     cv2\u001b[38;5;241m.\u001b[39mcircle(img, (x,y), \u001b[38;5;241m10\u001b[39m, (\u001b[38;5;241m255\u001b[39m,\u001b[38;5;241m0\u001b[39m,\u001b[38;5;241m0\u001b[39m), \u001b[38;5;241m2\u001b[39m)\n\u001b[1;32m---> 12\u001b[0m \u001b[38;5;28;01melif\u001b[39;00m event \u001b[38;5;241m==\u001b[39m \u001b[43mcv2\u001b[49m\u001b[38;5;241;43m.\u001b[39;49m\u001b[43mEVENT_LBUTTONDBCLK\u001b[49m:\n\u001b[0;32m     13\u001b[0m     cv2\u001b[38;5;241m.\u001b[39mcircle(img, (x,y), \u001b[38;5;241m20\u001b[39m, (\u001b[38;5;241m255\u001b[39m,\u001b[38;5;241m0\u001b[39m,\u001b[38;5;241m0\u001b[39m), \u001b[38;5;241m-\u001b[39m\u001b[38;5;241m1\u001b[39m)\n",
      "\u001b[1;31mAttributeError\u001b[0m: module 'cv2' has no attribute 'EVENT_LBUTTONDBCLK'"
     ]
    },
    {
     "ename": "AttributeError",
     "evalue": "module 'cv2' has no attribute 'EVENT_LBUTTONDBCLK'",
     "output_type": "error",
     "traceback": [
      "\u001b[1;31m---------------------------------------------------------------------------\u001b[0m",
      "\u001b[1;31mAttributeError\u001b[0m                            Traceback (most recent call last)",
      "Cell \u001b[1;32mIn[6], line 12\u001b[0m, in \u001b[0;36mdraw_circle\u001b[1;34m(event, x, y, flags, param)\u001b[0m\n\u001b[0;32m     10\u001b[0m \u001b[38;5;28;01melif\u001b[39;00m event \u001b[38;5;241m==\u001b[39m cv2\u001b[38;5;241m.\u001b[39mEVENT_RBUTTONDOWN:\n\u001b[0;32m     11\u001b[0m     cv2\u001b[38;5;241m.\u001b[39mcircle(img, (x,y), \u001b[38;5;241m10\u001b[39m, (\u001b[38;5;241m255\u001b[39m,\u001b[38;5;241m0\u001b[39m,\u001b[38;5;241m0\u001b[39m), \u001b[38;5;241m2\u001b[39m)\n\u001b[1;32m---> 12\u001b[0m \u001b[38;5;28;01melif\u001b[39;00m event \u001b[38;5;241m==\u001b[39m \u001b[43mcv2\u001b[49m\u001b[38;5;241;43m.\u001b[39;49m\u001b[43mEVENT_LBUTTONDBCLK\u001b[49m:\n\u001b[0;32m     13\u001b[0m     cv2\u001b[38;5;241m.\u001b[39mcircle(img, (x,y), \u001b[38;5;241m20\u001b[39m, (\u001b[38;5;241m255\u001b[39m,\u001b[38;5;241m0\u001b[39m,\u001b[38;5;241m0\u001b[39m), \u001b[38;5;241m-\u001b[39m\u001b[38;5;241m1\u001b[39m)\n",
      "\u001b[1;31mAttributeError\u001b[0m: module 'cv2' has no attribute 'EVENT_LBUTTONDBCLK'"
     ]
    },
    {
     "ename": "AttributeError",
     "evalue": "module 'cv2' has no attribute 'EVENT_LBUTTONDBCLK'",
     "output_type": "error",
     "traceback": [
      "\u001b[1;31m---------------------------------------------------------------------------\u001b[0m",
      "\u001b[1;31mAttributeError\u001b[0m                            Traceback (most recent call last)",
      "Cell \u001b[1;32mIn[6], line 12\u001b[0m, in \u001b[0;36mdraw_circle\u001b[1;34m(event, x, y, flags, param)\u001b[0m\n\u001b[0;32m     10\u001b[0m \u001b[38;5;28;01melif\u001b[39;00m event \u001b[38;5;241m==\u001b[39m cv2\u001b[38;5;241m.\u001b[39mEVENT_RBUTTONDOWN:\n\u001b[0;32m     11\u001b[0m     cv2\u001b[38;5;241m.\u001b[39mcircle(img, (x,y), \u001b[38;5;241m10\u001b[39m, (\u001b[38;5;241m255\u001b[39m,\u001b[38;5;241m0\u001b[39m,\u001b[38;5;241m0\u001b[39m), \u001b[38;5;241m2\u001b[39m)\n\u001b[1;32m---> 12\u001b[0m \u001b[38;5;28;01melif\u001b[39;00m event \u001b[38;5;241m==\u001b[39m \u001b[43mcv2\u001b[49m\u001b[38;5;241;43m.\u001b[39;49m\u001b[43mEVENT_LBUTTONDBCLK\u001b[49m:\n\u001b[0;32m     13\u001b[0m     cv2\u001b[38;5;241m.\u001b[39mcircle(img, (x,y), \u001b[38;5;241m20\u001b[39m, (\u001b[38;5;241m255\u001b[39m,\u001b[38;5;241m0\u001b[39m,\u001b[38;5;241m0\u001b[39m), \u001b[38;5;241m-\u001b[39m\u001b[38;5;241m1\u001b[39m)\n",
      "\u001b[1;31mAttributeError\u001b[0m: module 'cv2' has no attribute 'EVENT_LBUTTONDBCLK'"
     ]
    },
    {
     "ename": "AttributeError",
     "evalue": "module 'cv2' has no attribute 'EVENT_LBUTTONDBCLK'",
     "output_type": "error",
     "traceback": [
      "\u001b[1;31m---------------------------------------------------------------------------\u001b[0m",
      "\u001b[1;31mAttributeError\u001b[0m                            Traceback (most recent call last)",
      "Cell \u001b[1;32mIn[6], line 12\u001b[0m, in \u001b[0;36mdraw_circle\u001b[1;34m(event, x, y, flags, param)\u001b[0m\n\u001b[0;32m     10\u001b[0m \u001b[38;5;28;01melif\u001b[39;00m event \u001b[38;5;241m==\u001b[39m cv2\u001b[38;5;241m.\u001b[39mEVENT_RBUTTONDOWN:\n\u001b[0;32m     11\u001b[0m     cv2\u001b[38;5;241m.\u001b[39mcircle(img, (x,y), \u001b[38;5;241m10\u001b[39m, (\u001b[38;5;241m255\u001b[39m,\u001b[38;5;241m0\u001b[39m,\u001b[38;5;241m0\u001b[39m), \u001b[38;5;241m2\u001b[39m)\n\u001b[1;32m---> 12\u001b[0m \u001b[38;5;28;01melif\u001b[39;00m event \u001b[38;5;241m==\u001b[39m \u001b[43mcv2\u001b[49m\u001b[38;5;241;43m.\u001b[39;49m\u001b[43mEVENT_LBUTTONDBCLK\u001b[49m:\n\u001b[0;32m     13\u001b[0m     cv2\u001b[38;5;241m.\u001b[39mcircle(img, (x,y), \u001b[38;5;241m20\u001b[39m, (\u001b[38;5;241m255\u001b[39m,\u001b[38;5;241m0\u001b[39m,\u001b[38;5;241m0\u001b[39m), \u001b[38;5;241m-\u001b[39m\u001b[38;5;241m1\u001b[39m)\n",
      "\u001b[1;31mAttributeError\u001b[0m: module 'cv2' has no attribute 'EVENT_LBUTTONDBCLK'"
     ]
    },
    {
     "ename": "AttributeError",
     "evalue": "module 'cv2' has no attribute 'EVENT_LBUTTONDBCLK'",
     "output_type": "error",
     "traceback": [
      "\u001b[1;31m---------------------------------------------------------------------------\u001b[0m",
      "\u001b[1;31mAttributeError\u001b[0m                            Traceback (most recent call last)",
      "Cell \u001b[1;32mIn[6], line 12\u001b[0m, in \u001b[0;36mdraw_circle\u001b[1;34m(event, x, y, flags, param)\u001b[0m\n\u001b[0;32m     10\u001b[0m \u001b[38;5;28;01melif\u001b[39;00m event \u001b[38;5;241m==\u001b[39m cv2\u001b[38;5;241m.\u001b[39mEVENT_RBUTTONDOWN:\n\u001b[0;32m     11\u001b[0m     cv2\u001b[38;5;241m.\u001b[39mcircle(img, (x,y), \u001b[38;5;241m10\u001b[39m, (\u001b[38;5;241m255\u001b[39m,\u001b[38;5;241m0\u001b[39m,\u001b[38;5;241m0\u001b[39m), \u001b[38;5;241m2\u001b[39m)\n\u001b[1;32m---> 12\u001b[0m \u001b[38;5;28;01melif\u001b[39;00m event \u001b[38;5;241m==\u001b[39m \u001b[43mcv2\u001b[49m\u001b[38;5;241;43m.\u001b[39;49m\u001b[43mEVENT_LBUTTONDBCLK\u001b[49m:\n\u001b[0;32m     13\u001b[0m     cv2\u001b[38;5;241m.\u001b[39mcircle(img, (x,y), \u001b[38;5;241m20\u001b[39m, (\u001b[38;5;241m255\u001b[39m,\u001b[38;5;241m0\u001b[39m,\u001b[38;5;241m0\u001b[39m), \u001b[38;5;241m-\u001b[39m\u001b[38;5;241m1\u001b[39m)\n",
      "\u001b[1;31mAttributeError\u001b[0m: module 'cv2' has no attribute 'EVENT_LBUTTONDBCLK'"
     ]
    },
    {
     "ename": "AttributeError",
     "evalue": "module 'cv2' has no attribute 'EVENT_LBUTTONDBCLK'",
     "output_type": "error",
     "traceback": [
      "\u001b[1;31m---------------------------------------------------------------------------\u001b[0m",
      "\u001b[1;31mAttributeError\u001b[0m                            Traceback (most recent call last)",
      "Cell \u001b[1;32mIn[6], line 12\u001b[0m, in \u001b[0;36mdraw_circle\u001b[1;34m(event, x, y, flags, param)\u001b[0m\n\u001b[0;32m     10\u001b[0m \u001b[38;5;28;01melif\u001b[39;00m event \u001b[38;5;241m==\u001b[39m cv2\u001b[38;5;241m.\u001b[39mEVENT_RBUTTONDOWN:\n\u001b[0;32m     11\u001b[0m     cv2\u001b[38;5;241m.\u001b[39mcircle(img, (x,y), \u001b[38;5;241m10\u001b[39m, (\u001b[38;5;241m255\u001b[39m,\u001b[38;5;241m0\u001b[39m,\u001b[38;5;241m0\u001b[39m), \u001b[38;5;241m2\u001b[39m)\n\u001b[1;32m---> 12\u001b[0m \u001b[38;5;28;01melif\u001b[39;00m event \u001b[38;5;241m==\u001b[39m \u001b[43mcv2\u001b[49m\u001b[38;5;241;43m.\u001b[39;49m\u001b[43mEVENT_LBUTTONDBCLK\u001b[49m:\n\u001b[0;32m     13\u001b[0m     cv2\u001b[38;5;241m.\u001b[39mcircle(img, (x,y), \u001b[38;5;241m20\u001b[39m, (\u001b[38;5;241m255\u001b[39m,\u001b[38;5;241m0\u001b[39m,\u001b[38;5;241m0\u001b[39m), \u001b[38;5;241m-\u001b[39m\u001b[38;5;241m1\u001b[39m)\n",
      "\u001b[1;31mAttributeError\u001b[0m: module 'cv2' has no attribute 'EVENT_LBUTTONDBCLK'"
     ]
    },
    {
     "ename": "AttributeError",
     "evalue": "module 'cv2' has no attribute 'EVENT_LBUTTONDBCLK'",
     "output_type": "error",
     "traceback": [
      "\u001b[1;31m---------------------------------------------------------------------------\u001b[0m",
      "\u001b[1;31mAttributeError\u001b[0m                            Traceback (most recent call last)",
      "Cell \u001b[1;32mIn[6], line 12\u001b[0m, in \u001b[0;36mdraw_circle\u001b[1;34m(event, x, y, flags, param)\u001b[0m\n\u001b[0;32m     10\u001b[0m \u001b[38;5;28;01melif\u001b[39;00m event \u001b[38;5;241m==\u001b[39m cv2\u001b[38;5;241m.\u001b[39mEVENT_RBUTTONDOWN:\n\u001b[0;32m     11\u001b[0m     cv2\u001b[38;5;241m.\u001b[39mcircle(img, (x,y), \u001b[38;5;241m10\u001b[39m, (\u001b[38;5;241m255\u001b[39m,\u001b[38;5;241m0\u001b[39m,\u001b[38;5;241m0\u001b[39m), \u001b[38;5;241m2\u001b[39m)\n\u001b[1;32m---> 12\u001b[0m \u001b[38;5;28;01melif\u001b[39;00m event \u001b[38;5;241m==\u001b[39m \u001b[43mcv2\u001b[49m\u001b[38;5;241;43m.\u001b[39;49m\u001b[43mEVENT_LBUTTONDBCLK\u001b[49m:\n\u001b[0;32m     13\u001b[0m     cv2\u001b[38;5;241m.\u001b[39mcircle(img, (x,y), \u001b[38;5;241m20\u001b[39m, (\u001b[38;5;241m255\u001b[39m,\u001b[38;5;241m0\u001b[39m,\u001b[38;5;241m0\u001b[39m), \u001b[38;5;241m-\u001b[39m\u001b[38;5;241m1\u001b[39m)\n",
      "\u001b[1;31mAttributeError\u001b[0m: module 'cv2' has no attribute 'EVENT_LBUTTONDBCLK'"
     ]
    },
    {
     "ename": "AttributeError",
     "evalue": "module 'cv2' has no attribute 'EVENT_LBUTTONDBCLK'",
     "output_type": "error",
     "traceback": [
      "\u001b[1;31m---------------------------------------------------------------------------\u001b[0m",
      "\u001b[1;31mAttributeError\u001b[0m                            Traceback (most recent call last)",
      "Cell \u001b[1;32mIn[6], line 12\u001b[0m, in \u001b[0;36mdraw_circle\u001b[1;34m(event, x, y, flags, param)\u001b[0m\n\u001b[0;32m     10\u001b[0m \u001b[38;5;28;01melif\u001b[39;00m event \u001b[38;5;241m==\u001b[39m cv2\u001b[38;5;241m.\u001b[39mEVENT_RBUTTONDOWN:\n\u001b[0;32m     11\u001b[0m     cv2\u001b[38;5;241m.\u001b[39mcircle(img, (x,y), \u001b[38;5;241m10\u001b[39m, (\u001b[38;5;241m255\u001b[39m,\u001b[38;5;241m0\u001b[39m,\u001b[38;5;241m0\u001b[39m), \u001b[38;5;241m2\u001b[39m)\n\u001b[1;32m---> 12\u001b[0m \u001b[38;5;28;01melif\u001b[39;00m event \u001b[38;5;241m==\u001b[39m \u001b[43mcv2\u001b[49m\u001b[38;5;241;43m.\u001b[39;49m\u001b[43mEVENT_LBUTTONDBCLK\u001b[49m:\n\u001b[0;32m     13\u001b[0m     cv2\u001b[38;5;241m.\u001b[39mcircle(img, (x,y), \u001b[38;5;241m20\u001b[39m, (\u001b[38;5;241m255\u001b[39m,\u001b[38;5;241m0\u001b[39m,\u001b[38;5;241m0\u001b[39m), \u001b[38;5;241m-\u001b[39m\u001b[38;5;241m1\u001b[39m)\n",
      "\u001b[1;31mAttributeError\u001b[0m: module 'cv2' has no attribute 'EVENT_LBUTTONDBCLK'"
     ]
    },
    {
     "ename": "AttributeError",
     "evalue": "module 'cv2' has no attribute 'EVENT_LBUTTONDBCLK'",
     "output_type": "error",
     "traceback": [
      "\u001b[1;31m---------------------------------------------------------------------------\u001b[0m",
      "\u001b[1;31mAttributeError\u001b[0m                            Traceback (most recent call last)",
      "Cell \u001b[1;32mIn[6], line 12\u001b[0m, in \u001b[0;36mdraw_circle\u001b[1;34m(event, x, y, flags, param)\u001b[0m\n\u001b[0;32m     10\u001b[0m \u001b[38;5;28;01melif\u001b[39;00m event \u001b[38;5;241m==\u001b[39m cv2\u001b[38;5;241m.\u001b[39mEVENT_RBUTTONDOWN:\n\u001b[0;32m     11\u001b[0m     cv2\u001b[38;5;241m.\u001b[39mcircle(img, (x,y), \u001b[38;5;241m10\u001b[39m, (\u001b[38;5;241m255\u001b[39m,\u001b[38;5;241m0\u001b[39m,\u001b[38;5;241m0\u001b[39m), \u001b[38;5;241m2\u001b[39m)\n\u001b[1;32m---> 12\u001b[0m \u001b[38;5;28;01melif\u001b[39;00m event \u001b[38;5;241m==\u001b[39m \u001b[43mcv2\u001b[49m\u001b[38;5;241;43m.\u001b[39;49m\u001b[43mEVENT_LBUTTONDBCLK\u001b[49m:\n\u001b[0;32m     13\u001b[0m     cv2\u001b[38;5;241m.\u001b[39mcircle(img, (x,y), \u001b[38;5;241m20\u001b[39m, (\u001b[38;5;241m255\u001b[39m,\u001b[38;5;241m0\u001b[39m,\u001b[38;5;241m0\u001b[39m), \u001b[38;5;241m-\u001b[39m\u001b[38;5;241m1\u001b[39m)\n",
      "\u001b[1;31mAttributeError\u001b[0m: module 'cv2' has no attribute 'EVENT_LBUTTONDBCLK'"
     ]
    },
    {
     "ename": "AttributeError",
     "evalue": "module 'cv2' has no attribute 'EVENT_LBUTTONDBCLK'",
     "output_type": "error",
     "traceback": [
      "\u001b[1;31m---------------------------------------------------------------------------\u001b[0m",
      "\u001b[1;31mAttributeError\u001b[0m                            Traceback (most recent call last)",
      "Cell \u001b[1;32mIn[6], line 12\u001b[0m, in \u001b[0;36mdraw_circle\u001b[1;34m(event, x, y, flags, param)\u001b[0m\n\u001b[0;32m     10\u001b[0m \u001b[38;5;28;01melif\u001b[39;00m event \u001b[38;5;241m==\u001b[39m cv2\u001b[38;5;241m.\u001b[39mEVENT_RBUTTONDOWN:\n\u001b[0;32m     11\u001b[0m     cv2\u001b[38;5;241m.\u001b[39mcircle(img, (x,y), \u001b[38;5;241m10\u001b[39m, (\u001b[38;5;241m255\u001b[39m,\u001b[38;5;241m0\u001b[39m,\u001b[38;5;241m0\u001b[39m), \u001b[38;5;241m2\u001b[39m)\n\u001b[1;32m---> 12\u001b[0m \u001b[38;5;28;01melif\u001b[39;00m event \u001b[38;5;241m==\u001b[39m \u001b[43mcv2\u001b[49m\u001b[38;5;241;43m.\u001b[39;49m\u001b[43mEVENT_LBUTTONDBCLK\u001b[49m:\n\u001b[0;32m     13\u001b[0m     cv2\u001b[38;5;241m.\u001b[39mcircle(img, (x,y), \u001b[38;5;241m20\u001b[39m, (\u001b[38;5;241m255\u001b[39m,\u001b[38;5;241m0\u001b[39m,\u001b[38;5;241m0\u001b[39m), \u001b[38;5;241m-\u001b[39m\u001b[38;5;241m1\u001b[39m)\n",
      "\u001b[1;31mAttributeError\u001b[0m: module 'cv2' has no attribute 'EVENT_LBUTTONDBCLK'"
     ]
    },
    {
     "ename": "AttributeError",
     "evalue": "module 'cv2' has no attribute 'EVENT_LBUTTONDBCLK'",
     "output_type": "error",
     "traceback": [
      "\u001b[1;31m---------------------------------------------------------------------------\u001b[0m",
      "\u001b[1;31mAttributeError\u001b[0m                            Traceback (most recent call last)",
      "Cell \u001b[1;32mIn[6], line 12\u001b[0m, in \u001b[0;36mdraw_circle\u001b[1;34m(event, x, y, flags, param)\u001b[0m\n\u001b[0;32m     10\u001b[0m \u001b[38;5;28;01melif\u001b[39;00m event \u001b[38;5;241m==\u001b[39m cv2\u001b[38;5;241m.\u001b[39mEVENT_RBUTTONDOWN:\n\u001b[0;32m     11\u001b[0m     cv2\u001b[38;5;241m.\u001b[39mcircle(img, (x,y), \u001b[38;5;241m10\u001b[39m, (\u001b[38;5;241m255\u001b[39m,\u001b[38;5;241m0\u001b[39m,\u001b[38;5;241m0\u001b[39m), \u001b[38;5;241m2\u001b[39m)\n\u001b[1;32m---> 12\u001b[0m \u001b[38;5;28;01melif\u001b[39;00m event \u001b[38;5;241m==\u001b[39m \u001b[43mcv2\u001b[49m\u001b[38;5;241;43m.\u001b[39;49m\u001b[43mEVENT_LBUTTONDBCLK\u001b[49m:\n\u001b[0;32m     13\u001b[0m     cv2\u001b[38;5;241m.\u001b[39mcircle(img, (x,y), \u001b[38;5;241m20\u001b[39m, (\u001b[38;5;241m255\u001b[39m,\u001b[38;5;241m0\u001b[39m,\u001b[38;5;241m0\u001b[39m), \u001b[38;5;241m-\u001b[39m\u001b[38;5;241m1\u001b[39m)\n",
      "\u001b[1;31mAttributeError\u001b[0m: module 'cv2' has no attribute 'EVENT_LBUTTONDBCLK'"
     ]
    },
    {
     "ename": "AttributeError",
     "evalue": "module 'cv2' has no attribute 'EVENT_LBUTTONDBCLK'",
     "output_type": "error",
     "traceback": [
      "\u001b[1;31m---------------------------------------------------------------------------\u001b[0m",
      "\u001b[1;31mAttributeError\u001b[0m                            Traceback (most recent call last)",
      "Cell \u001b[1;32mIn[6], line 12\u001b[0m, in \u001b[0;36mdraw_circle\u001b[1;34m(event, x, y, flags, param)\u001b[0m\n\u001b[0;32m     10\u001b[0m \u001b[38;5;28;01melif\u001b[39;00m event \u001b[38;5;241m==\u001b[39m cv2\u001b[38;5;241m.\u001b[39mEVENT_RBUTTONDOWN:\n\u001b[0;32m     11\u001b[0m     cv2\u001b[38;5;241m.\u001b[39mcircle(img, (x,y), \u001b[38;5;241m10\u001b[39m, (\u001b[38;5;241m255\u001b[39m,\u001b[38;5;241m0\u001b[39m,\u001b[38;5;241m0\u001b[39m), \u001b[38;5;241m2\u001b[39m)\n\u001b[1;32m---> 12\u001b[0m \u001b[38;5;28;01melif\u001b[39;00m event \u001b[38;5;241m==\u001b[39m \u001b[43mcv2\u001b[49m\u001b[38;5;241;43m.\u001b[39;49m\u001b[43mEVENT_LBUTTONDBCLK\u001b[49m:\n\u001b[0;32m     13\u001b[0m     cv2\u001b[38;5;241m.\u001b[39mcircle(img, (x,y), \u001b[38;5;241m20\u001b[39m, (\u001b[38;5;241m255\u001b[39m,\u001b[38;5;241m0\u001b[39m,\u001b[38;5;241m0\u001b[39m), \u001b[38;5;241m-\u001b[39m\u001b[38;5;241m1\u001b[39m)\n",
      "\u001b[1;31mAttributeError\u001b[0m: module 'cv2' has no attribute 'EVENT_LBUTTONDBCLK'"
     ]
    },
    {
     "ename": "AttributeError",
     "evalue": "module 'cv2' has no attribute 'EVENT_LBUTTONDBCLK'",
     "output_type": "error",
     "traceback": [
      "\u001b[1;31m---------------------------------------------------------------------------\u001b[0m",
      "\u001b[1;31mAttributeError\u001b[0m                            Traceback (most recent call last)",
      "Cell \u001b[1;32mIn[6], line 12\u001b[0m, in \u001b[0;36mdraw_circle\u001b[1;34m(event, x, y, flags, param)\u001b[0m\n\u001b[0;32m     10\u001b[0m \u001b[38;5;28;01melif\u001b[39;00m event \u001b[38;5;241m==\u001b[39m cv2\u001b[38;5;241m.\u001b[39mEVENT_RBUTTONDOWN:\n\u001b[0;32m     11\u001b[0m     cv2\u001b[38;5;241m.\u001b[39mcircle(img, (x,y), \u001b[38;5;241m10\u001b[39m, (\u001b[38;5;241m255\u001b[39m,\u001b[38;5;241m0\u001b[39m,\u001b[38;5;241m0\u001b[39m), \u001b[38;5;241m2\u001b[39m)\n\u001b[1;32m---> 12\u001b[0m \u001b[38;5;28;01melif\u001b[39;00m event \u001b[38;5;241m==\u001b[39m \u001b[43mcv2\u001b[49m\u001b[38;5;241;43m.\u001b[39;49m\u001b[43mEVENT_LBUTTONDBCLK\u001b[49m:\n\u001b[0;32m     13\u001b[0m     cv2\u001b[38;5;241m.\u001b[39mcircle(img, (x,y), \u001b[38;5;241m20\u001b[39m, (\u001b[38;5;241m255\u001b[39m,\u001b[38;5;241m0\u001b[39m,\u001b[38;5;241m0\u001b[39m), \u001b[38;5;241m-\u001b[39m\u001b[38;5;241m1\u001b[39m)\n",
      "\u001b[1;31mAttributeError\u001b[0m: module 'cv2' has no attribute 'EVENT_LBUTTONDBCLK'"
     ]
    },
    {
     "ename": "AttributeError",
     "evalue": "module 'cv2' has no attribute 'EVENT_LBUTTONDBCLK'",
     "output_type": "error",
     "traceback": [
      "\u001b[1;31m---------------------------------------------------------------------------\u001b[0m",
      "\u001b[1;31mAttributeError\u001b[0m                            Traceback (most recent call last)",
      "Cell \u001b[1;32mIn[6], line 12\u001b[0m, in \u001b[0;36mdraw_circle\u001b[1;34m(event, x, y, flags, param)\u001b[0m\n\u001b[0;32m     10\u001b[0m \u001b[38;5;28;01melif\u001b[39;00m event \u001b[38;5;241m==\u001b[39m cv2\u001b[38;5;241m.\u001b[39mEVENT_RBUTTONDOWN:\n\u001b[0;32m     11\u001b[0m     cv2\u001b[38;5;241m.\u001b[39mcircle(img, (x,y), \u001b[38;5;241m10\u001b[39m, (\u001b[38;5;241m255\u001b[39m,\u001b[38;5;241m0\u001b[39m,\u001b[38;5;241m0\u001b[39m), \u001b[38;5;241m2\u001b[39m)\n\u001b[1;32m---> 12\u001b[0m \u001b[38;5;28;01melif\u001b[39;00m event \u001b[38;5;241m==\u001b[39m \u001b[43mcv2\u001b[49m\u001b[38;5;241;43m.\u001b[39;49m\u001b[43mEVENT_LBUTTONDBCLK\u001b[49m:\n\u001b[0;32m     13\u001b[0m     cv2\u001b[38;5;241m.\u001b[39mcircle(img, (x,y), \u001b[38;5;241m20\u001b[39m, (\u001b[38;5;241m255\u001b[39m,\u001b[38;5;241m0\u001b[39m,\u001b[38;5;241m0\u001b[39m), \u001b[38;5;241m-\u001b[39m\u001b[38;5;241m1\u001b[39m)\n",
      "\u001b[1;31mAttributeError\u001b[0m: module 'cv2' has no attribute 'EVENT_LBUTTONDBCLK'"
     ]
    },
    {
     "ename": "AttributeError",
     "evalue": "module 'cv2' has no attribute 'EVENT_LBUTTONDBCLK'",
     "output_type": "error",
     "traceback": [
      "\u001b[1;31m---------------------------------------------------------------------------\u001b[0m",
      "\u001b[1;31mAttributeError\u001b[0m                            Traceback (most recent call last)",
      "Cell \u001b[1;32mIn[6], line 12\u001b[0m, in \u001b[0;36mdraw_circle\u001b[1;34m(event, x, y, flags, param)\u001b[0m\n\u001b[0;32m     10\u001b[0m \u001b[38;5;28;01melif\u001b[39;00m event \u001b[38;5;241m==\u001b[39m cv2\u001b[38;5;241m.\u001b[39mEVENT_RBUTTONDOWN:\n\u001b[0;32m     11\u001b[0m     cv2\u001b[38;5;241m.\u001b[39mcircle(img, (x,y), \u001b[38;5;241m10\u001b[39m, (\u001b[38;5;241m255\u001b[39m,\u001b[38;5;241m0\u001b[39m,\u001b[38;5;241m0\u001b[39m), \u001b[38;5;241m2\u001b[39m)\n\u001b[1;32m---> 12\u001b[0m \u001b[38;5;28;01melif\u001b[39;00m event \u001b[38;5;241m==\u001b[39m \u001b[43mcv2\u001b[49m\u001b[38;5;241;43m.\u001b[39;49m\u001b[43mEVENT_LBUTTONDBCLK\u001b[49m:\n\u001b[0;32m     13\u001b[0m     cv2\u001b[38;5;241m.\u001b[39mcircle(img, (x,y), \u001b[38;5;241m20\u001b[39m, (\u001b[38;5;241m255\u001b[39m,\u001b[38;5;241m0\u001b[39m,\u001b[38;5;241m0\u001b[39m), \u001b[38;5;241m-\u001b[39m\u001b[38;5;241m1\u001b[39m)\n",
      "\u001b[1;31mAttributeError\u001b[0m: module 'cv2' has no attribute 'EVENT_LBUTTONDBCLK'"
     ]
    },
    {
     "ename": "AttributeError",
     "evalue": "module 'cv2' has no attribute 'EVENT_LBUTTONDBCLK'",
     "output_type": "error",
     "traceback": [
      "\u001b[1;31m---------------------------------------------------------------------------\u001b[0m",
      "\u001b[1;31mAttributeError\u001b[0m                            Traceback (most recent call last)",
      "Cell \u001b[1;32mIn[6], line 12\u001b[0m, in \u001b[0;36mdraw_circle\u001b[1;34m(event, x, y, flags, param)\u001b[0m\n\u001b[0;32m     10\u001b[0m \u001b[38;5;28;01melif\u001b[39;00m event \u001b[38;5;241m==\u001b[39m cv2\u001b[38;5;241m.\u001b[39mEVENT_RBUTTONDOWN:\n\u001b[0;32m     11\u001b[0m     cv2\u001b[38;5;241m.\u001b[39mcircle(img, (x,y), \u001b[38;5;241m10\u001b[39m, (\u001b[38;5;241m255\u001b[39m,\u001b[38;5;241m0\u001b[39m,\u001b[38;5;241m0\u001b[39m), \u001b[38;5;241m2\u001b[39m)\n\u001b[1;32m---> 12\u001b[0m \u001b[38;5;28;01melif\u001b[39;00m event \u001b[38;5;241m==\u001b[39m \u001b[43mcv2\u001b[49m\u001b[38;5;241;43m.\u001b[39;49m\u001b[43mEVENT_LBUTTONDBCLK\u001b[49m:\n\u001b[0;32m     13\u001b[0m     cv2\u001b[38;5;241m.\u001b[39mcircle(img, (x,y), \u001b[38;5;241m20\u001b[39m, (\u001b[38;5;241m255\u001b[39m,\u001b[38;5;241m0\u001b[39m,\u001b[38;5;241m0\u001b[39m), \u001b[38;5;241m-\u001b[39m\u001b[38;5;241m1\u001b[39m)\n",
      "\u001b[1;31mAttributeError\u001b[0m: module 'cv2' has no attribute 'EVENT_LBUTTONDBCLK'"
     ]
    },
    {
     "ename": "AttributeError",
     "evalue": "module 'cv2' has no attribute 'EVENT_LBUTTONDBCLK'",
     "output_type": "error",
     "traceback": [
      "\u001b[1;31m---------------------------------------------------------------------------\u001b[0m",
      "\u001b[1;31mAttributeError\u001b[0m                            Traceback (most recent call last)",
      "Cell \u001b[1;32mIn[6], line 12\u001b[0m, in \u001b[0;36mdraw_circle\u001b[1;34m(event, x, y, flags, param)\u001b[0m\n\u001b[0;32m     10\u001b[0m \u001b[38;5;28;01melif\u001b[39;00m event \u001b[38;5;241m==\u001b[39m cv2\u001b[38;5;241m.\u001b[39mEVENT_RBUTTONDOWN:\n\u001b[0;32m     11\u001b[0m     cv2\u001b[38;5;241m.\u001b[39mcircle(img, (x,y), \u001b[38;5;241m10\u001b[39m, (\u001b[38;5;241m255\u001b[39m,\u001b[38;5;241m0\u001b[39m,\u001b[38;5;241m0\u001b[39m), \u001b[38;5;241m2\u001b[39m)\n\u001b[1;32m---> 12\u001b[0m \u001b[38;5;28;01melif\u001b[39;00m event \u001b[38;5;241m==\u001b[39m \u001b[43mcv2\u001b[49m\u001b[38;5;241;43m.\u001b[39;49m\u001b[43mEVENT_LBUTTONDBCLK\u001b[49m:\n\u001b[0;32m     13\u001b[0m     cv2\u001b[38;5;241m.\u001b[39mcircle(img, (x,y), \u001b[38;5;241m20\u001b[39m, (\u001b[38;5;241m255\u001b[39m,\u001b[38;5;241m0\u001b[39m,\u001b[38;5;241m0\u001b[39m), \u001b[38;5;241m-\u001b[39m\u001b[38;5;241m1\u001b[39m)\n",
      "\u001b[1;31mAttributeError\u001b[0m: module 'cv2' has no attribute 'EVENT_LBUTTONDBCLK'"
     ]
    },
    {
     "ename": "AttributeError",
     "evalue": "module 'cv2' has no attribute 'EVENT_LBUTTONDBCLK'",
     "output_type": "error",
     "traceback": [
      "\u001b[1;31m---------------------------------------------------------------------------\u001b[0m",
      "\u001b[1;31mAttributeError\u001b[0m                            Traceback (most recent call last)",
      "Cell \u001b[1;32mIn[6], line 12\u001b[0m, in \u001b[0;36mdraw_circle\u001b[1;34m(event, x, y, flags, param)\u001b[0m\n\u001b[0;32m     10\u001b[0m \u001b[38;5;28;01melif\u001b[39;00m event \u001b[38;5;241m==\u001b[39m cv2\u001b[38;5;241m.\u001b[39mEVENT_RBUTTONDOWN:\n\u001b[0;32m     11\u001b[0m     cv2\u001b[38;5;241m.\u001b[39mcircle(img, (x,y), \u001b[38;5;241m10\u001b[39m, (\u001b[38;5;241m255\u001b[39m,\u001b[38;5;241m0\u001b[39m,\u001b[38;5;241m0\u001b[39m), \u001b[38;5;241m2\u001b[39m)\n\u001b[1;32m---> 12\u001b[0m \u001b[38;5;28;01melif\u001b[39;00m event \u001b[38;5;241m==\u001b[39m \u001b[43mcv2\u001b[49m\u001b[38;5;241;43m.\u001b[39;49m\u001b[43mEVENT_LBUTTONDBCLK\u001b[49m:\n\u001b[0;32m     13\u001b[0m     cv2\u001b[38;5;241m.\u001b[39mcircle(img, (x,y), \u001b[38;5;241m20\u001b[39m, (\u001b[38;5;241m255\u001b[39m,\u001b[38;5;241m0\u001b[39m,\u001b[38;5;241m0\u001b[39m), \u001b[38;5;241m-\u001b[39m\u001b[38;5;241m1\u001b[39m)\n",
      "\u001b[1;31mAttributeError\u001b[0m: module 'cv2' has no attribute 'EVENT_LBUTTONDBCLK'"
     ]
    },
    {
     "ename": "AttributeError",
     "evalue": "module 'cv2' has no attribute 'EVENT_LBUTTONDBCLK'",
     "output_type": "error",
     "traceback": [
      "\u001b[1;31m---------------------------------------------------------------------------\u001b[0m",
      "\u001b[1;31mAttributeError\u001b[0m                            Traceback (most recent call last)",
      "Cell \u001b[1;32mIn[6], line 12\u001b[0m, in \u001b[0;36mdraw_circle\u001b[1;34m(event, x, y, flags, param)\u001b[0m\n\u001b[0;32m     10\u001b[0m \u001b[38;5;28;01melif\u001b[39;00m event \u001b[38;5;241m==\u001b[39m cv2\u001b[38;5;241m.\u001b[39mEVENT_RBUTTONDOWN:\n\u001b[0;32m     11\u001b[0m     cv2\u001b[38;5;241m.\u001b[39mcircle(img, (x,y), \u001b[38;5;241m10\u001b[39m, (\u001b[38;5;241m255\u001b[39m,\u001b[38;5;241m0\u001b[39m,\u001b[38;5;241m0\u001b[39m), \u001b[38;5;241m2\u001b[39m)\n\u001b[1;32m---> 12\u001b[0m \u001b[38;5;28;01melif\u001b[39;00m event \u001b[38;5;241m==\u001b[39m \u001b[43mcv2\u001b[49m\u001b[38;5;241;43m.\u001b[39;49m\u001b[43mEVENT_LBUTTONDBCLK\u001b[49m:\n\u001b[0;32m     13\u001b[0m     cv2\u001b[38;5;241m.\u001b[39mcircle(img, (x,y), \u001b[38;5;241m20\u001b[39m, (\u001b[38;5;241m255\u001b[39m,\u001b[38;5;241m0\u001b[39m,\u001b[38;5;241m0\u001b[39m), \u001b[38;5;241m-\u001b[39m\u001b[38;5;241m1\u001b[39m)\n",
      "\u001b[1;31mAttributeError\u001b[0m: module 'cv2' has no attribute 'EVENT_LBUTTONDBCLK'"
     ]
    },
    {
     "ename": "AttributeError",
     "evalue": "module 'cv2' has no attribute 'EVENT_LBUTTONDBCLK'",
     "output_type": "error",
     "traceback": [
      "\u001b[1;31m---------------------------------------------------------------------------\u001b[0m",
      "\u001b[1;31mAttributeError\u001b[0m                            Traceback (most recent call last)",
      "Cell \u001b[1;32mIn[6], line 12\u001b[0m, in \u001b[0;36mdraw_circle\u001b[1;34m(event, x, y, flags, param)\u001b[0m\n\u001b[0;32m     10\u001b[0m \u001b[38;5;28;01melif\u001b[39;00m event \u001b[38;5;241m==\u001b[39m cv2\u001b[38;5;241m.\u001b[39mEVENT_RBUTTONDOWN:\n\u001b[0;32m     11\u001b[0m     cv2\u001b[38;5;241m.\u001b[39mcircle(img, (x,y), \u001b[38;5;241m10\u001b[39m, (\u001b[38;5;241m255\u001b[39m,\u001b[38;5;241m0\u001b[39m,\u001b[38;5;241m0\u001b[39m), \u001b[38;5;241m2\u001b[39m)\n\u001b[1;32m---> 12\u001b[0m \u001b[38;5;28;01melif\u001b[39;00m event \u001b[38;5;241m==\u001b[39m \u001b[43mcv2\u001b[49m\u001b[38;5;241;43m.\u001b[39;49m\u001b[43mEVENT_LBUTTONDBCLK\u001b[49m:\n\u001b[0;32m     13\u001b[0m     cv2\u001b[38;5;241m.\u001b[39mcircle(img, (x,y), \u001b[38;5;241m20\u001b[39m, (\u001b[38;5;241m255\u001b[39m,\u001b[38;5;241m0\u001b[39m,\u001b[38;5;241m0\u001b[39m), \u001b[38;5;241m-\u001b[39m\u001b[38;5;241m1\u001b[39m)\n",
      "\u001b[1;31mAttributeError\u001b[0m: module 'cv2' has no attribute 'EVENT_LBUTTONDBCLK'"
     ]
    },
    {
     "ename": "AttributeError",
     "evalue": "module 'cv2' has no attribute 'EVENT_LBUTTONDBCLK'",
     "output_type": "error",
     "traceback": [
      "\u001b[1;31m---------------------------------------------------------------------------\u001b[0m",
      "\u001b[1;31mAttributeError\u001b[0m                            Traceback (most recent call last)",
      "Cell \u001b[1;32mIn[6], line 12\u001b[0m, in \u001b[0;36mdraw_circle\u001b[1;34m(event, x, y, flags, param)\u001b[0m\n\u001b[0;32m     10\u001b[0m \u001b[38;5;28;01melif\u001b[39;00m event \u001b[38;5;241m==\u001b[39m cv2\u001b[38;5;241m.\u001b[39mEVENT_RBUTTONDOWN:\n\u001b[0;32m     11\u001b[0m     cv2\u001b[38;5;241m.\u001b[39mcircle(img, (x,y), \u001b[38;5;241m10\u001b[39m, (\u001b[38;5;241m255\u001b[39m,\u001b[38;5;241m0\u001b[39m,\u001b[38;5;241m0\u001b[39m), \u001b[38;5;241m2\u001b[39m)\n\u001b[1;32m---> 12\u001b[0m \u001b[38;5;28;01melif\u001b[39;00m event \u001b[38;5;241m==\u001b[39m \u001b[43mcv2\u001b[49m\u001b[38;5;241;43m.\u001b[39;49m\u001b[43mEVENT_LBUTTONDBCLK\u001b[49m:\n\u001b[0;32m     13\u001b[0m     cv2\u001b[38;5;241m.\u001b[39mcircle(img, (x,y), \u001b[38;5;241m20\u001b[39m, (\u001b[38;5;241m255\u001b[39m,\u001b[38;5;241m0\u001b[39m,\u001b[38;5;241m0\u001b[39m), \u001b[38;5;241m-\u001b[39m\u001b[38;5;241m1\u001b[39m)\n",
      "\u001b[1;31mAttributeError\u001b[0m: module 'cv2' has no attribute 'EVENT_LBUTTONDBCLK'"
     ]
    },
    {
     "ename": "AttributeError",
     "evalue": "module 'cv2' has no attribute 'EVENT_LBUTTONDBCLK'",
     "output_type": "error",
     "traceback": [
      "\u001b[1;31m---------------------------------------------------------------------------\u001b[0m",
      "\u001b[1;31mAttributeError\u001b[0m                            Traceback (most recent call last)",
      "Cell \u001b[1;32mIn[6], line 12\u001b[0m, in \u001b[0;36mdraw_circle\u001b[1;34m(event, x, y, flags, param)\u001b[0m\n\u001b[0;32m     10\u001b[0m \u001b[38;5;28;01melif\u001b[39;00m event \u001b[38;5;241m==\u001b[39m cv2\u001b[38;5;241m.\u001b[39mEVENT_RBUTTONDOWN:\n\u001b[0;32m     11\u001b[0m     cv2\u001b[38;5;241m.\u001b[39mcircle(img, (x,y), \u001b[38;5;241m10\u001b[39m, (\u001b[38;5;241m255\u001b[39m,\u001b[38;5;241m0\u001b[39m,\u001b[38;5;241m0\u001b[39m), \u001b[38;5;241m2\u001b[39m)\n\u001b[1;32m---> 12\u001b[0m \u001b[38;5;28;01melif\u001b[39;00m event \u001b[38;5;241m==\u001b[39m \u001b[43mcv2\u001b[49m\u001b[38;5;241;43m.\u001b[39;49m\u001b[43mEVENT_LBUTTONDBCLK\u001b[49m:\n\u001b[0;32m     13\u001b[0m     cv2\u001b[38;5;241m.\u001b[39mcircle(img, (x,y), \u001b[38;5;241m20\u001b[39m, (\u001b[38;5;241m255\u001b[39m,\u001b[38;5;241m0\u001b[39m,\u001b[38;5;241m0\u001b[39m), \u001b[38;5;241m-\u001b[39m\u001b[38;5;241m1\u001b[39m)\n",
      "\u001b[1;31mAttributeError\u001b[0m: module 'cv2' has no attribute 'EVENT_LBUTTONDBCLK'"
     ]
    },
    {
     "ename": "AttributeError",
     "evalue": "module 'cv2' has no attribute 'EVENT_LBUTTONDBCLK'",
     "output_type": "error",
     "traceback": [
      "\u001b[1;31m---------------------------------------------------------------------------\u001b[0m",
      "\u001b[1;31mAttributeError\u001b[0m                            Traceback (most recent call last)",
      "Cell \u001b[1;32mIn[6], line 12\u001b[0m, in \u001b[0;36mdraw_circle\u001b[1;34m(event, x, y, flags, param)\u001b[0m\n\u001b[0;32m     10\u001b[0m \u001b[38;5;28;01melif\u001b[39;00m event \u001b[38;5;241m==\u001b[39m cv2\u001b[38;5;241m.\u001b[39mEVENT_RBUTTONDOWN:\n\u001b[0;32m     11\u001b[0m     cv2\u001b[38;5;241m.\u001b[39mcircle(img, (x,y), \u001b[38;5;241m10\u001b[39m, (\u001b[38;5;241m255\u001b[39m,\u001b[38;5;241m0\u001b[39m,\u001b[38;5;241m0\u001b[39m), \u001b[38;5;241m2\u001b[39m)\n\u001b[1;32m---> 12\u001b[0m \u001b[38;5;28;01melif\u001b[39;00m event \u001b[38;5;241m==\u001b[39m \u001b[43mcv2\u001b[49m\u001b[38;5;241;43m.\u001b[39;49m\u001b[43mEVENT_LBUTTONDBCLK\u001b[49m:\n\u001b[0;32m     13\u001b[0m     cv2\u001b[38;5;241m.\u001b[39mcircle(img, (x,y), \u001b[38;5;241m20\u001b[39m, (\u001b[38;5;241m255\u001b[39m,\u001b[38;5;241m0\u001b[39m,\u001b[38;5;241m0\u001b[39m), \u001b[38;5;241m-\u001b[39m\u001b[38;5;241m1\u001b[39m)\n",
      "\u001b[1;31mAttributeError\u001b[0m: module 'cv2' has no attribute 'EVENT_LBUTTONDBCLK'"
     ]
    },
    {
     "ename": "AttributeError",
     "evalue": "module 'cv2' has no attribute 'EVENT_LBUTTONDBCLK'",
     "output_type": "error",
     "traceback": [
      "\u001b[1;31m---------------------------------------------------------------------------\u001b[0m",
      "\u001b[1;31mAttributeError\u001b[0m                            Traceback (most recent call last)",
      "Cell \u001b[1;32mIn[6], line 12\u001b[0m, in \u001b[0;36mdraw_circle\u001b[1;34m(event, x, y, flags, param)\u001b[0m\n\u001b[0;32m     10\u001b[0m \u001b[38;5;28;01melif\u001b[39;00m event \u001b[38;5;241m==\u001b[39m cv2\u001b[38;5;241m.\u001b[39mEVENT_RBUTTONDOWN:\n\u001b[0;32m     11\u001b[0m     cv2\u001b[38;5;241m.\u001b[39mcircle(img, (x,y), \u001b[38;5;241m10\u001b[39m, (\u001b[38;5;241m255\u001b[39m,\u001b[38;5;241m0\u001b[39m,\u001b[38;5;241m0\u001b[39m), \u001b[38;5;241m2\u001b[39m)\n\u001b[1;32m---> 12\u001b[0m \u001b[38;5;28;01melif\u001b[39;00m event \u001b[38;5;241m==\u001b[39m \u001b[43mcv2\u001b[49m\u001b[38;5;241;43m.\u001b[39;49m\u001b[43mEVENT_LBUTTONDBCLK\u001b[49m:\n\u001b[0;32m     13\u001b[0m     cv2\u001b[38;5;241m.\u001b[39mcircle(img, (x,y), \u001b[38;5;241m20\u001b[39m, (\u001b[38;5;241m255\u001b[39m,\u001b[38;5;241m0\u001b[39m,\u001b[38;5;241m0\u001b[39m), \u001b[38;5;241m-\u001b[39m\u001b[38;5;241m1\u001b[39m)\n",
      "\u001b[1;31mAttributeError\u001b[0m: module 'cv2' has no attribute 'EVENT_LBUTTONDBCLK'"
     ]
    },
    {
     "ename": "AttributeError",
     "evalue": "module 'cv2' has no attribute 'EVENT_LBUTTONDBCLK'",
     "output_type": "error",
     "traceback": [
      "\u001b[1;31m---------------------------------------------------------------------------\u001b[0m",
      "\u001b[1;31mAttributeError\u001b[0m                            Traceback (most recent call last)",
      "Cell \u001b[1;32mIn[6], line 12\u001b[0m, in \u001b[0;36mdraw_circle\u001b[1;34m(event, x, y, flags, param)\u001b[0m\n\u001b[0;32m     10\u001b[0m \u001b[38;5;28;01melif\u001b[39;00m event \u001b[38;5;241m==\u001b[39m cv2\u001b[38;5;241m.\u001b[39mEVENT_RBUTTONDOWN:\n\u001b[0;32m     11\u001b[0m     cv2\u001b[38;5;241m.\u001b[39mcircle(img, (x,y), \u001b[38;5;241m10\u001b[39m, (\u001b[38;5;241m255\u001b[39m,\u001b[38;5;241m0\u001b[39m,\u001b[38;5;241m0\u001b[39m), \u001b[38;5;241m2\u001b[39m)\n\u001b[1;32m---> 12\u001b[0m \u001b[38;5;28;01melif\u001b[39;00m event \u001b[38;5;241m==\u001b[39m \u001b[43mcv2\u001b[49m\u001b[38;5;241;43m.\u001b[39;49m\u001b[43mEVENT_LBUTTONDBCLK\u001b[49m:\n\u001b[0;32m     13\u001b[0m     cv2\u001b[38;5;241m.\u001b[39mcircle(img, (x,y), \u001b[38;5;241m20\u001b[39m, (\u001b[38;5;241m255\u001b[39m,\u001b[38;5;241m0\u001b[39m,\u001b[38;5;241m0\u001b[39m), \u001b[38;5;241m-\u001b[39m\u001b[38;5;241m1\u001b[39m)\n",
      "\u001b[1;31mAttributeError\u001b[0m: module 'cv2' has no attribute 'EVENT_LBUTTONDBCLK'"
     ]
    },
    {
     "ename": "AttributeError",
     "evalue": "module 'cv2' has no attribute 'EVENT_LBUTTONDBCLK'",
     "output_type": "error",
     "traceback": [
      "\u001b[1;31m---------------------------------------------------------------------------\u001b[0m",
      "\u001b[1;31mAttributeError\u001b[0m                            Traceback (most recent call last)",
      "Cell \u001b[1;32mIn[6], line 12\u001b[0m, in \u001b[0;36mdraw_circle\u001b[1;34m(event, x, y, flags, param)\u001b[0m\n\u001b[0;32m     10\u001b[0m \u001b[38;5;28;01melif\u001b[39;00m event \u001b[38;5;241m==\u001b[39m cv2\u001b[38;5;241m.\u001b[39mEVENT_RBUTTONDOWN:\n\u001b[0;32m     11\u001b[0m     cv2\u001b[38;5;241m.\u001b[39mcircle(img, (x,y), \u001b[38;5;241m10\u001b[39m, (\u001b[38;5;241m255\u001b[39m,\u001b[38;5;241m0\u001b[39m,\u001b[38;5;241m0\u001b[39m), \u001b[38;5;241m2\u001b[39m)\n\u001b[1;32m---> 12\u001b[0m \u001b[38;5;28;01melif\u001b[39;00m event \u001b[38;5;241m==\u001b[39m \u001b[43mcv2\u001b[49m\u001b[38;5;241;43m.\u001b[39;49m\u001b[43mEVENT_LBUTTONDBCLK\u001b[49m:\n\u001b[0;32m     13\u001b[0m     cv2\u001b[38;5;241m.\u001b[39mcircle(img, (x,y), \u001b[38;5;241m20\u001b[39m, (\u001b[38;5;241m255\u001b[39m,\u001b[38;5;241m0\u001b[39m,\u001b[38;5;241m0\u001b[39m), \u001b[38;5;241m-\u001b[39m\u001b[38;5;241m1\u001b[39m)\n",
      "\u001b[1;31mAttributeError\u001b[0m: module 'cv2' has no attribute 'EVENT_LBUTTONDBCLK'"
     ]
    },
    {
     "ename": "AttributeError",
     "evalue": "module 'cv2' has no attribute 'EVENT_LBUTTONDBCLK'",
     "output_type": "error",
     "traceback": [
      "\u001b[1;31m---------------------------------------------------------------------------\u001b[0m",
      "\u001b[1;31mAttributeError\u001b[0m                            Traceback (most recent call last)",
      "Cell \u001b[1;32mIn[6], line 12\u001b[0m, in \u001b[0;36mdraw_circle\u001b[1;34m(event, x, y, flags, param)\u001b[0m\n\u001b[0;32m     10\u001b[0m \u001b[38;5;28;01melif\u001b[39;00m event \u001b[38;5;241m==\u001b[39m cv2\u001b[38;5;241m.\u001b[39mEVENT_RBUTTONDOWN:\n\u001b[0;32m     11\u001b[0m     cv2\u001b[38;5;241m.\u001b[39mcircle(img, (x,y), \u001b[38;5;241m10\u001b[39m, (\u001b[38;5;241m255\u001b[39m,\u001b[38;5;241m0\u001b[39m,\u001b[38;5;241m0\u001b[39m), \u001b[38;5;241m2\u001b[39m)\n\u001b[1;32m---> 12\u001b[0m \u001b[38;5;28;01melif\u001b[39;00m event \u001b[38;5;241m==\u001b[39m \u001b[43mcv2\u001b[49m\u001b[38;5;241;43m.\u001b[39;49m\u001b[43mEVENT_LBUTTONDBCLK\u001b[49m:\n\u001b[0;32m     13\u001b[0m     cv2\u001b[38;5;241m.\u001b[39mcircle(img, (x,y), \u001b[38;5;241m20\u001b[39m, (\u001b[38;5;241m255\u001b[39m,\u001b[38;5;241m0\u001b[39m,\u001b[38;5;241m0\u001b[39m), \u001b[38;5;241m-\u001b[39m\u001b[38;5;241m1\u001b[39m)\n",
      "\u001b[1;31mAttributeError\u001b[0m: module 'cv2' has no attribute 'EVENT_LBUTTONDBCLK'"
     ]
    },
    {
     "ename": "AttributeError",
     "evalue": "module 'cv2' has no attribute 'EVENT_LBUTTONDBCLK'",
     "output_type": "error",
     "traceback": [
      "\u001b[1;31m---------------------------------------------------------------------------\u001b[0m",
      "\u001b[1;31mAttributeError\u001b[0m                            Traceback (most recent call last)",
      "Cell \u001b[1;32mIn[6], line 12\u001b[0m, in \u001b[0;36mdraw_circle\u001b[1;34m(event, x, y, flags, param)\u001b[0m\n\u001b[0;32m     10\u001b[0m \u001b[38;5;28;01melif\u001b[39;00m event \u001b[38;5;241m==\u001b[39m cv2\u001b[38;5;241m.\u001b[39mEVENT_RBUTTONDOWN:\n\u001b[0;32m     11\u001b[0m     cv2\u001b[38;5;241m.\u001b[39mcircle(img, (x,y), \u001b[38;5;241m10\u001b[39m, (\u001b[38;5;241m255\u001b[39m,\u001b[38;5;241m0\u001b[39m,\u001b[38;5;241m0\u001b[39m), \u001b[38;5;241m2\u001b[39m)\n\u001b[1;32m---> 12\u001b[0m \u001b[38;5;28;01melif\u001b[39;00m event \u001b[38;5;241m==\u001b[39m \u001b[43mcv2\u001b[49m\u001b[38;5;241;43m.\u001b[39;49m\u001b[43mEVENT_LBUTTONDBCLK\u001b[49m:\n\u001b[0;32m     13\u001b[0m     cv2\u001b[38;5;241m.\u001b[39mcircle(img, (x,y), \u001b[38;5;241m20\u001b[39m, (\u001b[38;5;241m255\u001b[39m,\u001b[38;5;241m0\u001b[39m,\u001b[38;5;241m0\u001b[39m), \u001b[38;5;241m-\u001b[39m\u001b[38;5;241m1\u001b[39m)\n",
      "\u001b[1;31mAttributeError\u001b[0m: module 'cv2' has no attribute 'EVENT_LBUTTONDBCLK'"
     ]
    },
    {
     "ename": "AttributeError",
     "evalue": "module 'cv2' has no attribute 'EVENT_LBUTTONDBCLK'",
     "output_type": "error",
     "traceback": [
      "\u001b[1;31m---------------------------------------------------------------------------\u001b[0m",
      "\u001b[1;31mAttributeError\u001b[0m                            Traceback (most recent call last)",
      "Cell \u001b[1;32mIn[6], line 12\u001b[0m, in \u001b[0;36mdraw_circle\u001b[1;34m(event, x, y, flags, param)\u001b[0m\n\u001b[0;32m     10\u001b[0m \u001b[38;5;28;01melif\u001b[39;00m event \u001b[38;5;241m==\u001b[39m cv2\u001b[38;5;241m.\u001b[39mEVENT_RBUTTONDOWN:\n\u001b[0;32m     11\u001b[0m     cv2\u001b[38;5;241m.\u001b[39mcircle(img, (x,y), \u001b[38;5;241m10\u001b[39m, (\u001b[38;5;241m255\u001b[39m,\u001b[38;5;241m0\u001b[39m,\u001b[38;5;241m0\u001b[39m), \u001b[38;5;241m2\u001b[39m)\n\u001b[1;32m---> 12\u001b[0m \u001b[38;5;28;01melif\u001b[39;00m event \u001b[38;5;241m==\u001b[39m \u001b[43mcv2\u001b[49m\u001b[38;5;241;43m.\u001b[39;49m\u001b[43mEVENT_LBUTTONDBCLK\u001b[49m:\n\u001b[0;32m     13\u001b[0m     cv2\u001b[38;5;241m.\u001b[39mcircle(img, (x,y), \u001b[38;5;241m20\u001b[39m, (\u001b[38;5;241m255\u001b[39m,\u001b[38;5;241m0\u001b[39m,\u001b[38;5;241m0\u001b[39m), \u001b[38;5;241m-\u001b[39m\u001b[38;5;241m1\u001b[39m)\n",
      "\u001b[1;31mAttributeError\u001b[0m: module 'cv2' has no attribute 'EVENT_LBUTTONDBCLK'"
     ]
    },
    {
     "ename": "AttributeError",
     "evalue": "module 'cv2' has no attribute 'EVENT_LBUTTONDBCLK'",
     "output_type": "error",
     "traceback": [
      "\u001b[1;31m---------------------------------------------------------------------------\u001b[0m",
      "\u001b[1;31mAttributeError\u001b[0m                            Traceback (most recent call last)",
      "Cell \u001b[1;32mIn[6], line 12\u001b[0m, in \u001b[0;36mdraw_circle\u001b[1;34m(event, x, y, flags, param)\u001b[0m\n\u001b[0;32m     10\u001b[0m \u001b[38;5;28;01melif\u001b[39;00m event \u001b[38;5;241m==\u001b[39m cv2\u001b[38;5;241m.\u001b[39mEVENT_RBUTTONDOWN:\n\u001b[0;32m     11\u001b[0m     cv2\u001b[38;5;241m.\u001b[39mcircle(img, (x,y), \u001b[38;5;241m10\u001b[39m, (\u001b[38;5;241m255\u001b[39m,\u001b[38;5;241m0\u001b[39m,\u001b[38;5;241m0\u001b[39m), \u001b[38;5;241m2\u001b[39m)\n\u001b[1;32m---> 12\u001b[0m \u001b[38;5;28;01melif\u001b[39;00m event \u001b[38;5;241m==\u001b[39m \u001b[43mcv2\u001b[49m\u001b[38;5;241;43m.\u001b[39;49m\u001b[43mEVENT_LBUTTONDBCLK\u001b[49m:\n\u001b[0;32m     13\u001b[0m     cv2\u001b[38;5;241m.\u001b[39mcircle(img, (x,y), \u001b[38;5;241m20\u001b[39m, (\u001b[38;5;241m255\u001b[39m,\u001b[38;5;241m0\u001b[39m,\u001b[38;5;241m0\u001b[39m), \u001b[38;5;241m-\u001b[39m\u001b[38;5;241m1\u001b[39m)\n",
      "\u001b[1;31mAttributeError\u001b[0m: module 'cv2' has no attribute 'EVENT_LBUTTONDBCLK'"
     ]
    },
    {
     "ename": "AttributeError",
     "evalue": "module 'cv2' has no attribute 'EVENT_LBUTTONDBCLK'",
     "output_type": "error",
     "traceback": [
      "\u001b[1;31m---------------------------------------------------------------------------\u001b[0m",
      "\u001b[1;31mAttributeError\u001b[0m                            Traceback (most recent call last)",
      "Cell \u001b[1;32mIn[6], line 12\u001b[0m, in \u001b[0;36mdraw_circle\u001b[1;34m(event, x, y, flags, param)\u001b[0m\n\u001b[0;32m     10\u001b[0m \u001b[38;5;28;01melif\u001b[39;00m event \u001b[38;5;241m==\u001b[39m cv2\u001b[38;5;241m.\u001b[39mEVENT_RBUTTONDOWN:\n\u001b[0;32m     11\u001b[0m     cv2\u001b[38;5;241m.\u001b[39mcircle(img, (x,y), \u001b[38;5;241m10\u001b[39m, (\u001b[38;5;241m255\u001b[39m,\u001b[38;5;241m0\u001b[39m,\u001b[38;5;241m0\u001b[39m), \u001b[38;5;241m2\u001b[39m)\n\u001b[1;32m---> 12\u001b[0m \u001b[38;5;28;01melif\u001b[39;00m event \u001b[38;5;241m==\u001b[39m \u001b[43mcv2\u001b[49m\u001b[38;5;241;43m.\u001b[39;49m\u001b[43mEVENT_LBUTTONDBCLK\u001b[49m:\n\u001b[0;32m     13\u001b[0m     cv2\u001b[38;5;241m.\u001b[39mcircle(img, (x,y), \u001b[38;5;241m20\u001b[39m, (\u001b[38;5;241m255\u001b[39m,\u001b[38;5;241m0\u001b[39m,\u001b[38;5;241m0\u001b[39m), \u001b[38;5;241m-\u001b[39m\u001b[38;5;241m1\u001b[39m)\n",
      "\u001b[1;31mAttributeError\u001b[0m: module 'cv2' has no attribute 'EVENT_LBUTTONDBCLK'"
     ]
    },
    {
     "ename": "AttributeError",
     "evalue": "module 'cv2' has no attribute 'EVENT_LBUTTONDBCLK'",
     "output_type": "error",
     "traceback": [
      "\u001b[1;31m---------------------------------------------------------------------------\u001b[0m",
      "\u001b[1;31mAttributeError\u001b[0m                            Traceback (most recent call last)",
      "Cell \u001b[1;32mIn[6], line 12\u001b[0m, in \u001b[0;36mdraw_circle\u001b[1;34m(event, x, y, flags, param)\u001b[0m\n\u001b[0;32m     10\u001b[0m \u001b[38;5;28;01melif\u001b[39;00m event \u001b[38;5;241m==\u001b[39m cv2\u001b[38;5;241m.\u001b[39mEVENT_RBUTTONDOWN:\n\u001b[0;32m     11\u001b[0m     cv2\u001b[38;5;241m.\u001b[39mcircle(img, (x,y), \u001b[38;5;241m10\u001b[39m, (\u001b[38;5;241m255\u001b[39m,\u001b[38;5;241m0\u001b[39m,\u001b[38;5;241m0\u001b[39m), \u001b[38;5;241m2\u001b[39m)\n\u001b[1;32m---> 12\u001b[0m \u001b[38;5;28;01melif\u001b[39;00m event \u001b[38;5;241m==\u001b[39m \u001b[43mcv2\u001b[49m\u001b[38;5;241;43m.\u001b[39;49m\u001b[43mEVENT_LBUTTONDBCLK\u001b[49m:\n\u001b[0;32m     13\u001b[0m     cv2\u001b[38;5;241m.\u001b[39mcircle(img, (x,y), \u001b[38;5;241m20\u001b[39m, (\u001b[38;5;241m255\u001b[39m,\u001b[38;5;241m0\u001b[39m,\u001b[38;5;241m0\u001b[39m), \u001b[38;5;241m-\u001b[39m\u001b[38;5;241m1\u001b[39m)\n",
      "\u001b[1;31mAttributeError\u001b[0m: module 'cv2' has no attribute 'EVENT_LBUTTONDBCLK'"
     ]
    },
    {
     "ename": "AttributeError",
     "evalue": "module 'cv2' has no attribute 'EVENT_LBUTTONDBCLK'",
     "output_type": "error",
     "traceback": [
      "\u001b[1;31m---------------------------------------------------------------------------\u001b[0m",
      "\u001b[1;31mAttributeError\u001b[0m                            Traceback (most recent call last)",
      "Cell \u001b[1;32mIn[6], line 12\u001b[0m, in \u001b[0;36mdraw_circle\u001b[1;34m(event, x, y, flags, param)\u001b[0m\n\u001b[0;32m     10\u001b[0m \u001b[38;5;28;01melif\u001b[39;00m event \u001b[38;5;241m==\u001b[39m cv2\u001b[38;5;241m.\u001b[39mEVENT_RBUTTONDOWN:\n\u001b[0;32m     11\u001b[0m     cv2\u001b[38;5;241m.\u001b[39mcircle(img, (x,y), \u001b[38;5;241m10\u001b[39m, (\u001b[38;5;241m255\u001b[39m,\u001b[38;5;241m0\u001b[39m,\u001b[38;5;241m0\u001b[39m), \u001b[38;5;241m2\u001b[39m)\n\u001b[1;32m---> 12\u001b[0m \u001b[38;5;28;01melif\u001b[39;00m event \u001b[38;5;241m==\u001b[39m \u001b[43mcv2\u001b[49m\u001b[38;5;241;43m.\u001b[39;49m\u001b[43mEVENT_LBUTTONDBCLK\u001b[49m:\n\u001b[0;32m     13\u001b[0m     cv2\u001b[38;5;241m.\u001b[39mcircle(img, (x,y), \u001b[38;5;241m20\u001b[39m, (\u001b[38;5;241m255\u001b[39m,\u001b[38;5;241m0\u001b[39m,\u001b[38;5;241m0\u001b[39m), \u001b[38;5;241m-\u001b[39m\u001b[38;5;241m1\u001b[39m)\n",
      "\u001b[1;31mAttributeError\u001b[0m: module 'cv2' has no attribute 'EVENT_LBUTTONDBCLK'"
     ]
    },
    {
     "ename": "AttributeError",
     "evalue": "module 'cv2' has no attribute 'EVENT_LBUTTONDBCLK'",
     "output_type": "error",
     "traceback": [
      "\u001b[1;31m---------------------------------------------------------------------------\u001b[0m",
      "\u001b[1;31mAttributeError\u001b[0m                            Traceback (most recent call last)",
      "Cell \u001b[1;32mIn[6], line 12\u001b[0m, in \u001b[0;36mdraw_circle\u001b[1;34m(event, x, y, flags, param)\u001b[0m\n\u001b[0;32m     10\u001b[0m \u001b[38;5;28;01melif\u001b[39;00m event \u001b[38;5;241m==\u001b[39m cv2\u001b[38;5;241m.\u001b[39mEVENT_RBUTTONDOWN:\n\u001b[0;32m     11\u001b[0m     cv2\u001b[38;5;241m.\u001b[39mcircle(img, (x,y), \u001b[38;5;241m10\u001b[39m, (\u001b[38;5;241m255\u001b[39m,\u001b[38;5;241m0\u001b[39m,\u001b[38;5;241m0\u001b[39m), \u001b[38;5;241m2\u001b[39m)\n\u001b[1;32m---> 12\u001b[0m \u001b[38;5;28;01melif\u001b[39;00m event \u001b[38;5;241m==\u001b[39m \u001b[43mcv2\u001b[49m\u001b[38;5;241;43m.\u001b[39;49m\u001b[43mEVENT_LBUTTONDBCLK\u001b[49m:\n\u001b[0;32m     13\u001b[0m     cv2\u001b[38;5;241m.\u001b[39mcircle(img, (x,y), \u001b[38;5;241m20\u001b[39m, (\u001b[38;5;241m255\u001b[39m,\u001b[38;5;241m0\u001b[39m,\u001b[38;5;241m0\u001b[39m), \u001b[38;5;241m-\u001b[39m\u001b[38;5;241m1\u001b[39m)\n",
      "\u001b[1;31mAttributeError\u001b[0m: module 'cv2' has no attribute 'EVENT_LBUTTONDBCLK'"
     ]
    },
    {
     "ename": "AttributeError",
     "evalue": "module 'cv2' has no attribute 'EVENT_LBUTTONDBCLK'",
     "output_type": "error",
     "traceback": [
      "\u001b[1;31m---------------------------------------------------------------------------\u001b[0m",
      "\u001b[1;31mAttributeError\u001b[0m                            Traceback (most recent call last)",
      "Cell \u001b[1;32mIn[6], line 12\u001b[0m, in \u001b[0;36mdraw_circle\u001b[1;34m(event, x, y, flags, param)\u001b[0m\n\u001b[0;32m     10\u001b[0m \u001b[38;5;28;01melif\u001b[39;00m event \u001b[38;5;241m==\u001b[39m cv2\u001b[38;5;241m.\u001b[39mEVENT_RBUTTONDOWN:\n\u001b[0;32m     11\u001b[0m     cv2\u001b[38;5;241m.\u001b[39mcircle(img, (x,y), \u001b[38;5;241m10\u001b[39m, (\u001b[38;5;241m255\u001b[39m,\u001b[38;5;241m0\u001b[39m,\u001b[38;5;241m0\u001b[39m), \u001b[38;5;241m2\u001b[39m)\n\u001b[1;32m---> 12\u001b[0m \u001b[38;5;28;01melif\u001b[39;00m event \u001b[38;5;241m==\u001b[39m \u001b[43mcv2\u001b[49m\u001b[38;5;241;43m.\u001b[39;49m\u001b[43mEVENT_LBUTTONDBCLK\u001b[49m:\n\u001b[0;32m     13\u001b[0m     cv2\u001b[38;5;241m.\u001b[39mcircle(img, (x,y), \u001b[38;5;241m20\u001b[39m, (\u001b[38;5;241m255\u001b[39m,\u001b[38;5;241m0\u001b[39m,\u001b[38;5;241m0\u001b[39m), \u001b[38;5;241m-\u001b[39m\u001b[38;5;241m1\u001b[39m)\n",
      "\u001b[1;31mAttributeError\u001b[0m: module 'cv2' has no attribute 'EVENT_LBUTTONDBCLK'"
     ]
    },
    {
     "ename": "AttributeError",
     "evalue": "module 'cv2' has no attribute 'EVENT_LBUTTONDBCLK'",
     "output_type": "error",
     "traceback": [
      "\u001b[1;31m---------------------------------------------------------------------------\u001b[0m",
      "\u001b[1;31mAttributeError\u001b[0m                            Traceback (most recent call last)",
      "Cell \u001b[1;32mIn[6], line 12\u001b[0m, in \u001b[0;36mdraw_circle\u001b[1;34m(event, x, y, flags, param)\u001b[0m\n\u001b[0;32m     10\u001b[0m \u001b[38;5;28;01melif\u001b[39;00m event \u001b[38;5;241m==\u001b[39m cv2\u001b[38;5;241m.\u001b[39mEVENT_RBUTTONDOWN:\n\u001b[0;32m     11\u001b[0m     cv2\u001b[38;5;241m.\u001b[39mcircle(img, (x,y), \u001b[38;5;241m10\u001b[39m, (\u001b[38;5;241m255\u001b[39m,\u001b[38;5;241m0\u001b[39m,\u001b[38;5;241m0\u001b[39m), \u001b[38;5;241m2\u001b[39m)\n\u001b[1;32m---> 12\u001b[0m \u001b[38;5;28;01melif\u001b[39;00m event \u001b[38;5;241m==\u001b[39m \u001b[43mcv2\u001b[49m\u001b[38;5;241;43m.\u001b[39;49m\u001b[43mEVENT_LBUTTONDBCLK\u001b[49m:\n\u001b[0;32m     13\u001b[0m     cv2\u001b[38;5;241m.\u001b[39mcircle(img, (x,y), \u001b[38;5;241m20\u001b[39m, (\u001b[38;5;241m255\u001b[39m,\u001b[38;5;241m0\u001b[39m,\u001b[38;5;241m0\u001b[39m), \u001b[38;5;241m-\u001b[39m\u001b[38;5;241m1\u001b[39m)\n",
      "\u001b[1;31mAttributeError\u001b[0m: module 'cv2' has no attribute 'EVENT_LBUTTONDBCLK'"
     ]
    },
    {
     "ename": "AttributeError",
     "evalue": "module 'cv2' has no attribute 'EVENT_LBUTTONDBCLK'",
     "output_type": "error",
     "traceback": [
      "\u001b[1;31m---------------------------------------------------------------------------\u001b[0m",
      "\u001b[1;31mAttributeError\u001b[0m                            Traceback (most recent call last)",
      "Cell \u001b[1;32mIn[6], line 12\u001b[0m, in \u001b[0;36mdraw_circle\u001b[1;34m(event, x, y, flags, param)\u001b[0m\n\u001b[0;32m     10\u001b[0m \u001b[38;5;28;01melif\u001b[39;00m event \u001b[38;5;241m==\u001b[39m cv2\u001b[38;5;241m.\u001b[39mEVENT_RBUTTONDOWN:\n\u001b[0;32m     11\u001b[0m     cv2\u001b[38;5;241m.\u001b[39mcircle(img, (x,y), \u001b[38;5;241m10\u001b[39m, (\u001b[38;5;241m255\u001b[39m,\u001b[38;5;241m0\u001b[39m,\u001b[38;5;241m0\u001b[39m), \u001b[38;5;241m2\u001b[39m)\n\u001b[1;32m---> 12\u001b[0m \u001b[38;5;28;01melif\u001b[39;00m event \u001b[38;5;241m==\u001b[39m \u001b[43mcv2\u001b[49m\u001b[38;5;241;43m.\u001b[39;49m\u001b[43mEVENT_LBUTTONDBCLK\u001b[49m:\n\u001b[0;32m     13\u001b[0m     cv2\u001b[38;5;241m.\u001b[39mcircle(img, (x,y), \u001b[38;5;241m20\u001b[39m, (\u001b[38;5;241m255\u001b[39m,\u001b[38;5;241m0\u001b[39m,\u001b[38;5;241m0\u001b[39m), \u001b[38;5;241m-\u001b[39m\u001b[38;5;241m1\u001b[39m)\n",
      "\u001b[1;31mAttributeError\u001b[0m: module 'cv2' has no attribute 'EVENT_LBUTTONDBCLK'"
     ]
    },
    {
     "ename": "AttributeError",
     "evalue": "module 'cv2' has no attribute 'EVENT_LBUTTONDBCLK'",
     "output_type": "error",
     "traceback": [
      "\u001b[1;31m---------------------------------------------------------------------------\u001b[0m",
      "\u001b[1;31mAttributeError\u001b[0m                            Traceback (most recent call last)",
      "Cell \u001b[1;32mIn[6], line 12\u001b[0m, in \u001b[0;36mdraw_circle\u001b[1;34m(event, x, y, flags, param)\u001b[0m\n\u001b[0;32m     10\u001b[0m \u001b[38;5;28;01melif\u001b[39;00m event \u001b[38;5;241m==\u001b[39m cv2\u001b[38;5;241m.\u001b[39mEVENT_RBUTTONDOWN:\n\u001b[0;32m     11\u001b[0m     cv2\u001b[38;5;241m.\u001b[39mcircle(img, (x,y), \u001b[38;5;241m10\u001b[39m, (\u001b[38;5;241m255\u001b[39m,\u001b[38;5;241m0\u001b[39m,\u001b[38;5;241m0\u001b[39m), \u001b[38;5;241m2\u001b[39m)\n\u001b[1;32m---> 12\u001b[0m \u001b[38;5;28;01melif\u001b[39;00m event \u001b[38;5;241m==\u001b[39m \u001b[43mcv2\u001b[49m\u001b[38;5;241;43m.\u001b[39;49m\u001b[43mEVENT_LBUTTONDBCLK\u001b[49m:\n\u001b[0;32m     13\u001b[0m     cv2\u001b[38;5;241m.\u001b[39mcircle(img, (x,y), \u001b[38;5;241m20\u001b[39m, (\u001b[38;5;241m255\u001b[39m,\u001b[38;5;241m0\u001b[39m,\u001b[38;5;241m0\u001b[39m), \u001b[38;5;241m-\u001b[39m\u001b[38;5;241m1\u001b[39m)\n",
      "\u001b[1;31mAttributeError\u001b[0m: module 'cv2' has no attribute 'EVENT_LBUTTONDBCLK'"
     ]
    },
    {
     "ename": "AttributeError",
     "evalue": "module 'cv2' has no attribute 'EVENT_LBUTTONDBCLK'",
     "output_type": "error",
     "traceback": [
      "\u001b[1;31m---------------------------------------------------------------------------\u001b[0m",
      "\u001b[1;31mAttributeError\u001b[0m                            Traceback (most recent call last)",
      "Cell \u001b[1;32mIn[6], line 12\u001b[0m, in \u001b[0;36mdraw_circle\u001b[1;34m(event, x, y, flags, param)\u001b[0m\n\u001b[0;32m     10\u001b[0m \u001b[38;5;28;01melif\u001b[39;00m event \u001b[38;5;241m==\u001b[39m cv2\u001b[38;5;241m.\u001b[39mEVENT_RBUTTONDOWN:\n\u001b[0;32m     11\u001b[0m     cv2\u001b[38;5;241m.\u001b[39mcircle(img, (x,y), \u001b[38;5;241m10\u001b[39m, (\u001b[38;5;241m255\u001b[39m,\u001b[38;5;241m0\u001b[39m,\u001b[38;5;241m0\u001b[39m), \u001b[38;5;241m2\u001b[39m)\n\u001b[1;32m---> 12\u001b[0m \u001b[38;5;28;01melif\u001b[39;00m event \u001b[38;5;241m==\u001b[39m \u001b[43mcv2\u001b[49m\u001b[38;5;241;43m.\u001b[39;49m\u001b[43mEVENT_LBUTTONDBCLK\u001b[49m:\n\u001b[0;32m     13\u001b[0m     cv2\u001b[38;5;241m.\u001b[39mcircle(img, (x,y), \u001b[38;5;241m20\u001b[39m, (\u001b[38;5;241m255\u001b[39m,\u001b[38;5;241m0\u001b[39m,\u001b[38;5;241m0\u001b[39m), \u001b[38;5;241m-\u001b[39m\u001b[38;5;241m1\u001b[39m)\n",
      "\u001b[1;31mAttributeError\u001b[0m: module 'cv2' has no attribute 'EVENT_LBUTTONDBCLK'"
     ]
    },
    {
     "ename": "AttributeError",
     "evalue": "module 'cv2' has no attribute 'EVENT_LBUTTONDBCLK'",
     "output_type": "error",
     "traceback": [
      "\u001b[1;31m---------------------------------------------------------------------------\u001b[0m",
      "\u001b[1;31mAttributeError\u001b[0m                            Traceback (most recent call last)",
      "Cell \u001b[1;32mIn[6], line 12\u001b[0m, in \u001b[0;36mdraw_circle\u001b[1;34m(event, x, y, flags, param)\u001b[0m\n\u001b[0;32m     10\u001b[0m \u001b[38;5;28;01melif\u001b[39;00m event \u001b[38;5;241m==\u001b[39m cv2\u001b[38;5;241m.\u001b[39mEVENT_RBUTTONDOWN:\n\u001b[0;32m     11\u001b[0m     cv2\u001b[38;5;241m.\u001b[39mcircle(img, (x,y), \u001b[38;5;241m10\u001b[39m, (\u001b[38;5;241m255\u001b[39m,\u001b[38;5;241m0\u001b[39m,\u001b[38;5;241m0\u001b[39m), \u001b[38;5;241m2\u001b[39m)\n\u001b[1;32m---> 12\u001b[0m \u001b[38;5;28;01melif\u001b[39;00m event \u001b[38;5;241m==\u001b[39m \u001b[43mcv2\u001b[49m\u001b[38;5;241;43m.\u001b[39;49m\u001b[43mEVENT_LBUTTONDBCLK\u001b[49m:\n\u001b[0;32m     13\u001b[0m     cv2\u001b[38;5;241m.\u001b[39mcircle(img, (x,y), \u001b[38;5;241m20\u001b[39m, (\u001b[38;5;241m255\u001b[39m,\u001b[38;5;241m0\u001b[39m,\u001b[38;5;241m0\u001b[39m), \u001b[38;5;241m-\u001b[39m\u001b[38;5;241m1\u001b[39m)\n",
      "\u001b[1;31mAttributeError\u001b[0m: module 'cv2' has no attribute 'EVENT_LBUTTONDBCLK'"
     ]
    },
    {
     "ename": "AttributeError",
     "evalue": "module 'cv2' has no attribute 'EVENT_LBUTTONDBCLK'",
     "output_type": "error",
     "traceback": [
      "\u001b[1;31m---------------------------------------------------------------------------\u001b[0m",
      "\u001b[1;31mAttributeError\u001b[0m                            Traceback (most recent call last)",
      "Cell \u001b[1;32mIn[6], line 12\u001b[0m, in \u001b[0;36mdraw_circle\u001b[1;34m(event, x, y, flags, param)\u001b[0m\n\u001b[0;32m     10\u001b[0m \u001b[38;5;28;01melif\u001b[39;00m event \u001b[38;5;241m==\u001b[39m cv2\u001b[38;5;241m.\u001b[39mEVENT_RBUTTONDOWN:\n\u001b[0;32m     11\u001b[0m     cv2\u001b[38;5;241m.\u001b[39mcircle(img, (x,y), \u001b[38;5;241m10\u001b[39m, (\u001b[38;5;241m255\u001b[39m,\u001b[38;5;241m0\u001b[39m,\u001b[38;5;241m0\u001b[39m), \u001b[38;5;241m2\u001b[39m)\n\u001b[1;32m---> 12\u001b[0m \u001b[38;5;28;01melif\u001b[39;00m event \u001b[38;5;241m==\u001b[39m \u001b[43mcv2\u001b[49m\u001b[38;5;241;43m.\u001b[39;49m\u001b[43mEVENT_LBUTTONDBCLK\u001b[49m:\n\u001b[0;32m     13\u001b[0m     cv2\u001b[38;5;241m.\u001b[39mcircle(img, (x,y), \u001b[38;5;241m20\u001b[39m, (\u001b[38;5;241m255\u001b[39m,\u001b[38;5;241m0\u001b[39m,\u001b[38;5;241m0\u001b[39m), \u001b[38;5;241m-\u001b[39m\u001b[38;5;241m1\u001b[39m)\n",
      "\u001b[1;31mAttributeError\u001b[0m: module 'cv2' has no attribute 'EVENT_LBUTTONDBCLK'"
     ]
    },
    {
     "ename": "AttributeError",
     "evalue": "module 'cv2' has no attribute 'EVENT_LBUTTONDBCLK'",
     "output_type": "error",
     "traceback": [
      "\u001b[1;31m---------------------------------------------------------------------------\u001b[0m",
      "\u001b[1;31mAttributeError\u001b[0m                            Traceback (most recent call last)",
      "Cell \u001b[1;32mIn[6], line 12\u001b[0m, in \u001b[0;36mdraw_circle\u001b[1;34m(event, x, y, flags, param)\u001b[0m\n\u001b[0;32m     10\u001b[0m \u001b[38;5;28;01melif\u001b[39;00m event \u001b[38;5;241m==\u001b[39m cv2\u001b[38;5;241m.\u001b[39mEVENT_RBUTTONDOWN:\n\u001b[0;32m     11\u001b[0m     cv2\u001b[38;5;241m.\u001b[39mcircle(img, (x,y), \u001b[38;5;241m10\u001b[39m, (\u001b[38;5;241m255\u001b[39m,\u001b[38;5;241m0\u001b[39m,\u001b[38;5;241m0\u001b[39m), \u001b[38;5;241m2\u001b[39m)\n\u001b[1;32m---> 12\u001b[0m \u001b[38;5;28;01melif\u001b[39;00m event \u001b[38;5;241m==\u001b[39m \u001b[43mcv2\u001b[49m\u001b[38;5;241;43m.\u001b[39;49m\u001b[43mEVENT_LBUTTONDBCLK\u001b[49m:\n\u001b[0;32m     13\u001b[0m     cv2\u001b[38;5;241m.\u001b[39mcircle(img, (x,y), \u001b[38;5;241m20\u001b[39m, (\u001b[38;5;241m255\u001b[39m,\u001b[38;5;241m0\u001b[39m,\u001b[38;5;241m0\u001b[39m), \u001b[38;5;241m-\u001b[39m\u001b[38;5;241m1\u001b[39m)\n",
      "\u001b[1;31mAttributeError\u001b[0m: module 'cv2' has no attribute 'EVENT_LBUTTONDBCLK'"
     ]
    },
    {
     "ename": "AttributeError",
     "evalue": "module 'cv2' has no attribute 'EVENT_LBUTTONDBCLK'",
     "output_type": "error",
     "traceback": [
      "\u001b[1;31m---------------------------------------------------------------------------\u001b[0m",
      "\u001b[1;31mAttributeError\u001b[0m                            Traceback (most recent call last)",
      "Cell \u001b[1;32mIn[6], line 12\u001b[0m, in \u001b[0;36mdraw_circle\u001b[1;34m(event, x, y, flags, param)\u001b[0m\n\u001b[0;32m     10\u001b[0m \u001b[38;5;28;01melif\u001b[39;00m event \u001b[38;5;241m==\u001b[39m cv2\u001b[38;5;241m.\u001b[39mEVENT_RBUTTONDOWN:\n\u001b[0;32m     11\u001b[0m     cv2\u001b[38;5;241m.\u001b[39mcircle(img, (x,y), \u001b[38;5;241m10\u001b[39m, (\u001b[38;5;241m255\u001b[39m,\u001b[38;5;241m0\u001b[39m,\u001b[38;5;241m0\u001b[39m), \u001b[38;5;241m2\u001b[39m)\n\u001b[1;32m---> 12\u001b[0m \u001b[38;5;28;01melif\u001b[39;00m event \u001b[38;5;241m==\u001b[39m \u001b[43mcv2\u001b[49m\u001b[38;5;241;43m.\u001b[39;49m\u001b[43mEVENT_LBUTTONDBCLK\u001b[49m:\n\u001b[0;32m     13\u001b[0m     cv2\u001b[38;5;241m.\u001b[39mcircle(img, (x,y), \u001b[38;5;241m20\u001b[39m, (\u001b[38;5;241m255\u001b[39m,\u001b[38;5;241m0\u001b[39m,\u001b[38;5;241m0\u001b[39m), \u001b[38;5;241m-\u001b[39m\u001b[38;5;241m1\u001b[39m)\n",
      "\u001b[1;31mAttributeError\u001b[0m: module 'cv2' has no attribute 'EVENT_LBUTTONDBCLK'"
     ]
    },
    {
     "ename": "AttributeError",
     "evalue": "module 'cv2' has no attribute 'EVENT_LBUTTONDBCLK'",
     "output_type": "error",
     "traceback": [
      "\u001b[1;31m---------------------------------------------------------------------------\u001b[0m",
      "\u001b[1;31mAttributeError\u001b[0m                            Traceback (most recent call last)",
      "Cell \u001b[1;32mIn[6], line 12\u001b[0m, in \u001b[0;36mdraw_circle\u001b[1;34m(event, x, y, flags, param)\u001b[0m\n\u001b[0;32m     10\u001b[0m \u001b[38;5;28;01melif\u001b[39;00m event \u001b[38;5;241m==\u001b[39m cv2\u001b[38;5;241m.\u001b[39mEVENT_RBUTTONDOWN:\n\u001b[0;32m     11\u001b[0m     cv2\u001b[38;5;241m.\u001b[39mcircle(img, (x,y), \u001b[38;5;241m10\u001b[39m, (\u001b[38;5;241m255\u001b[39m,\u001b[38;5;241m0\u001b[39m,\u001b[38;5;241m0\u001b[39m), \u001b[38;5;241m2\u001b[39m)\n\u001b[1;32m---> 12\u001b[0m \u001b[38;5;28;01melif\u001b[39;00m event \u001b[38;5;241m==\u001b[39m \u001b[43mcv2\u001b[49m\u001b[38;5;241;43m.\u001b[39;49m\u001b[43mEVENT_LBUTTONDBCLK\u001b[49m:\n\u001b[0;32m     13\u001b[0m     cv2\u001b[38;5;241m.\u001b[39mcircle(img, (x,y), \u001b[38;5;241m20\u001b[39m, (\u001b[38;5;241m255\u001b[39m,\u001b[38;5;241m0\u001b[39m,\u001b[38;5;241m0\u001b[39m), \u001b[38;5;241m-\u001b[39m\u001b[38;5;241m1\u001b[39m)\n",
      "\u001b[1;31mAttributeError\u001b[0m: module 'cv2' has no attribute 'EVENT_LBUTTONDBCLK'"
     ]
    },
    {
     "ename": "AttributeError",
     "evalue": "module 'cv2' has no attribute 'EVENT_LBUTTONDBCLK'",
     "output_type": "error",
     "traceback": [
      "\u001b[1;31m---------------------------------------------------------------------------\u001b[0m",
      "\u001b[1;31mAttributeError\u001b[0m                            Traceback (most recent call last)",
      "Cell \u001b[1;32mIn[6], line 12\u001b[0m, in \u001b[0;36mdraw_circle\u001b[1;34m(event, x, y, flags, param)\u001b[0m\n\u001b[0;32m     10\u001b[0m \u001b[38;5;28;01melif\u001b[39;00m event \u001b[38;5;241m==\u001b[39m cv2\u001b[38;5;241m.\u001b[39mEVENT_RBUTTONDOWN:\n\u001b[0;32m     11\u001b[0m     cv2\u001b[38;5;241m.\u001b[39mcircle(img, (x,y), \u001b[38;5;241m10\u001b[39m, (\u001b[38;5;241m255\u001b[39m,\u001b[38;5;241m0\u001b[39m,\u001b[38;5;241m0\u001b[39m), \u001b[38;5;241m2\u001b[39m)\n\u001b[1;32m---> 12\u001b[0m \u001b[38;5;28;01melif\u001b[39;00m event \u001b[38;5;241m==\u001b[39m \u001b[43mcv2\u001b[49m\u001b[38;5;241;43m.\u001b[39;49m\u001b[43mEVENT_LBUTTONDBCLK\u001b[49m:\n\u001b[0;32m     13\u001b[0m     cv2\u001b[38;5;241m.\u001b[39mcircle(img, (x,y), \u001b[38;5;241m20\u001b[39m, (\u001b[38;5;241m255\u001b[39m,\u001b[38;5;241m0\u001b[39m,\u001b[38;5;241m0\u001b[39m), \u001b[38;5;241m-\u001b[39m\u001b[38;5;241m1\u001b[39m)\n",
      "\u001b[1;31mAttributeError\u001b[0m: module 'cv2' has no attribute 'EVENT_LBUTTONDBCLK'"
     ]
    },
    {
     "ename": "AttributeError",
     "evalue": "module 'cv2' has no attribute 'EVENT_LBUTTONDBCLK'",
     "output_type": "error",
     "traceback": [
      "\u001b[1;31m---------------------------------------------------------------------------\u001b[0m",
      "\u001b[1;31mAttributeError\u001b[0m                            Traceback (most recent call last)",
      "Cell \u001b[1;32mIn[6], line 12\u001b[0m, in \u001b[0;36mdraw_circle\u001b[1;34m(event, x, y, flags, param)\u001b[0m\n\u001b[0;32m     10\u001b[0m \u001b[38;5;28;01melif\u001b[39;00m event \u001b[38;5;241m==\u001b[39m cv2\u001b[38;5;241m.\u001b[39mEVENT_RBUTTONDOWN:\n\u001b[0;32m     11\u001b[0m     cv2\u001b[38;5;241m.\u001b[39mcircle(img, (x,y), \u001b[38;5;241m10\u001b[39m, (\u001b[38;5;241m255\u001b[39m,\u001b[38;5;241m0\u001b[39m,\u001b[38;5;241m0\u001b[39m), \u001b[38;5;241m2\u001b[39m)\n\u001b[1;32m---> 12\u001b[0m \u001b[38;5;28;01melif\u001b[39;00m event \u001b[38;5;241m==\u001b[39m \u001b[43mcv2\u001b[49m\u001b[38;5;241;43m.\u001b[39;49m\u001b[43mEVENT_LBUTTONDBCLK\u001b[49m:\n\u001b[0;32m     13\u001b[0m     cv2\u001b[38;5;241m.\u001b[39mcircle(img, (x,y), \u001b[38;5;241m20\u001b[39m, (\u001b[38;5;241m255\u001b[39m,\u001b[38;5;241m0\u001b[39m,\u001b[38;5;241m0\u001b[39m), \u001b[38;5;241m-\u001b[39m\u001b[38;5;241m1\u001b[39m)\n",
      "\u001b[1;31mAttributeError\u001b[0m: module 'cv2' has no attribute 'EVENT_LBUTTONDBCLK'"
     ]
    },
    {
     "ename": "AttributeError",
     "evalue": "module 'cv2' has no attribute 'EVENT_LBUTTONDBCLK'",
     "output_type": "error",
     "traceback": [
      "\u001b[1;31m---------------------------------------------------------------------------\u001b[0m",
      "\u001b[1;31mAttributeError\u001b[0m                            Traceback (most recent call last)",
      "Cell \u001b[1;32mIn[6], line 12\u001b[0m, in \u001b[0;36mdraw_circle\u001b[1;34m(event, x, y, flags, param)\u001b[0m\n\u001b[0;32m     10\u001b[0m \u001b[38;5;28;01melif\u001b[39;00m event \u001b[38;5;241m==\u001b[39m cv2\u001b[38;5;241m.\u001b[39mEVENT_RBUTTONDOWN:\n\u001b[0;32m     11\u001b[0m     cv2\u001b[38;5;241m.\u001b[39mcircle(img, (x,y), \u001b[38;5;241m10\u001b[39m, (\u001b[38;5;241m255\u001b[39m,\u001b[38;5;241m0\u001b[39m,\u001b[38;5;241m0\u001b[39m), \u001b[38;5;241m2\u001b[39m)\n\u001b[1;32m---> 12\u001b[0m \u001b[38;5;28;01melif\u001b[39;00m event \u001b[38;5;241m==\u001b[39m \u001b[43mcv2\u001b[49m\u001b[38;5;241;43m.\u001b[39;49m\u001b[43mEVENT_LBUTTONDBCLK\u001b[49m:\n\u001b[0;32m     13\u001b[0m     cv2\u001b[38;5;241m.\u001b[39mcircle(img, (x,y), \u001b[38;5;241m20\u001b[39m, (\u001b[38;5;241m255\u001b[39m,\u001b[38;5;241m0\u001b[39m,\u001b[38;5;241m0\u001b[39m), \u001b[38;5;241m-\u001b[39m\u001b[38;5;241m1\u001b[39m)\n",
      "\u001b[1;31mAttributeError\u001b[0m: module 'cv2' has no attribute 'EVENT_LBUTTONDBCLK'"
     ]
    },
    {
     "ename": "AttributeError",
     "evalue": "module 'cv2' has no attribute 'EVENT_LBUTTONDBCLK'",
     "output_type": "error",
     "traceback": [
      "\u001b[1;31m---------------------------------------------------------------------------\u001b[0m",
      "\u001b[1;31mAttributeError\u001b[0m                            Traceback (most recent call last)",
      "Cell \u001b[1;32mIn[6], line 12\u001b[0m, in \u001b[0;36mdraw_circle\u001b[1;34m(event, x, y, flags, param)\u001b[0m\n\u001b[0;32m     10\u001b[0m \u001b[38;5;28;01melif\u001b[39;00m event \u001b[38;5;241m==\u001b[39m cv2\u001b[38;5;241m.\u001b[39mEVENT_RBUTTONDOWN:\n\u001b[0;32m     11\u001b[0m     cv2\u001b[38;5;241m.\u001b[39mcircle(img, (x,y), \u001b[38;5;241m10\u001b[39m, (\u001b[38;5;241m255\u001b[39m,\u001b[38;5;241m0\u001b[39m,\u001b[38;5;241m0\u001b[39m), \u001b[38;5;241m2\u001b[39m)\n\u001b[1;32m---> 12\u001b[0m \u001b[38;5;28;01melif\u001b[39;00m event \u001b[38;5;241m==\u001b[39m \u001b[43mcv2\u001b[49m\u001b[38;5;241;43m.\u001b[39;49m\u001b[43mEVENT_LBUTTONDBCLK\u001b[49m:\n\u001b[0;32m     13\u001b[0m     cv2\u001b[38;5;241m.\u001b[39mcircle(img, (x,y), \u001b[38;5;241m20\u001b[39m, (\u001b[38;5;241m255\u001b[39m,\u001b[38;5;241m0\u001b[39m,\u001b[38;5;241m0\u001b[39m), \u001b[38;5;241m-\u001b[39m\u001b[38;5;241m1\u001b[39m)\n",
      "\u001b[1;31mAttributeError\u001b[0m: module 'cv2' has no attribute 'EVENT_LBUTTONDBCLK'"
     ]
    },
    {
     "ename": "AttributeError",
     "evalue": "module 'cv2' has no attribute 'EVENT_LBUTTONDBCLK'",
     "output_type": "error",
     "traceback": [
      "\u001b[1;31m---------------------------------------------------------------------------\u001b[0m",
      "\u001b[1;31mAttributeError\u001b[0m                            Traceback (most recent call last)",
      "Cell \u001b[1;32mIn[6], line 12\u001b[0m, in \u001b[0;36mdraw_circle\u001b[1;34m(event, x, y, flags, param)\u001b[0m\n\u001b[0;32m     10\u001b[0m \u001b[38;5;28;01melif\u001b[39;00m event \u001b[38;5;241m==\u001b[39m cv2\u001b[38;5;241m.\u001b[39mEVENT_RBUTTONDOWN:\n\u001b[0;32m     11\u001b[0m     cv2\u001b[38;5;241m.\u001b[39mcircle(img, (x,y), \u001b[38;5;241m10\u001b[39m, (\u001b[38;5;241m255\u001b[39m,\u001b[38;5;241m0\u001b[39m,\u001b[38;5;241m0\u001b[39m), \u001b[38;5;241m2\u001b[39m)\n\u001b[1;32m---> 12\u001b[0m \u001b[38;5;28;01melif\u001b[39;00m event \u001b[38;5;241m==\u001b[39m \u001b[43mcv2\u001b[49m\u001b[38;5;241;43m.\u001b[39;49m\u001b[43mEVENT_LBUTTONDBCLK\u001b[49m:\n\u001b[0;32m     13\u001b[0m     cv2\u001b[38;5;241m.\u001b[39mcircle(img, (x,y), \u001b[38;5;241m20\u001b[39m, (\u001b[38;5;241m255\u001b[39m,\u001b[38;5;241m0\u001b[39m,\u001b[38;5;241m0\u001b[39m), \u001b[38;5;241m-\u001b[39m\u001b[38;5;241m1\u001b[39m)\n",
      "\u001b[1;31mAttributeError\u001b[0m: module 'cv2' has no attribute 'EVENT_LBUTTONDBCLK'"
     ]
    },
    {
     "ename": "AttributeError",
     "evalue": "module 'cv2' has no attribute 'EVENT_LBUTTONDBCLK'",
     "output_type": "error",
     "traceback": [
      "\u001b[1;31m---------------------------------------------------------------------------\u001b[0m",
      "\u001b[1;31mAttributeError\u001b[0m                            Traceback (most recent call last)",
      "Cell \u001b[1;32mIn[6], line 12\u001b[0m, in \u001b[0;36mdraw_circle\u001b[1;34m(event, x, y, flags, param)\u001b[0m\n\u001b[0;32m     10\u001b[0m \u001b[38;5;28;01melif\u001b[39;00m event \u001b[38;5;241m==\u001b[39m cv2\u001b[38;5;241m.\u001b[39mEVENT_RBUTTONDOWN:\n\u001b[0;32m     11\u001b[0m     cv2\u001b[38;5;241m.\u001b[39mcircle(img, (x,y), \u001b[38;5;241m10\u001b[39m, (\u001b[38;5;241m255\u001b[39m,\u001b[38;5;241m0\u001b[39m,\u001b[38;5;241m0\u001b[39m), \u001b[38;5;241m2\u001b[39m)\n\u001b[1;32m---> 12\u001b[0m \u001b[38;5;28;01melif\u001b[39;00m event \u001b[38;5;241m==\u001b[39m \u001b[43mcv2\u001b[49m\u001b[38;5;241;43m.\u001b[39;49m\u001b[43mEVENT_LBUTTONDBCLK\u001b[49m:\n\u001b[0;32m     13\u001b[0m     cv2\u001b[38;5;241m.\u001b[39mcircle(img, (x,y), \u001b[38;5;241m20\u001b[39m, (\u001b[38;5;241m255\u001b[39m,\u001b[38;5;241m0\u001b[39m,\u001b[38;5;241m0\u001b[39m), \u001b[38;5;241m-\u001b[39m\u001b[38;5;241m1\u001b[39m)\n",
      "\u001b[1;31mAttributeError\u001b[0m: module 'cv2' has no attribute 'EVENT_LBUTTONDBCLK'"
     ]
    },
    {
     "ename": "AttributeError",
     "evalue": "module 'cv2' has no attribute 'EVENT_LBUTTONDBCLK'",
     "output_type": "error",
     "traceback": [
      "\u001b[1;31m---------------------------------------------------------------------------\u001b[0m",
      "\u001b[1;31mAttributeError\u001b[0m                            Traceback (most recent call last)",
      "Cell \u001b[1;32mIn[6], line 12\u001b[0m, in \u001b[0;36mdraw_circle\u001b[1;34m(event, x, y, flags, param)\u001b[0m\n\u001b[0;32m     10\u001b[0m \u001b[38;5;28;01melif\u001b[39;00m event \u001b[38;5;241m==\u001b[39m cv2\u001b[38;5;241m.\u001b[39mEVENT_RBUTTONDOWN:\n\u001b[0;32m     11\u001b[0m     cv2\u001b[38;5;241m.\u001b[39mcircle(img, (x,y), \u001b[38;5;241m10\u001b[39m, (\u001b[38;5;241m255\u001b[39m,\u001b[38;5;241m0\u001b[39m,\u001b[38;5;241m0\u001b[39m), \u001b[38;5;241m2\u001b[39m)\n\u001b[1;32m---> 12\u001b[0m \u001b[38;5;28;01melif\u001b[39;00m event \u001b[38;5;241m==\u001b[39m \u001b[43mcv2\u001b[49m\u001b[38;5;241;43m.\u001b[39;49m\u001b[43mEVENT_LBUTTONDBCLK\u001b[49m:\n\u001b[0;32m     13\u001b[0m     cv2\u001b[38;5;241m.\u001b[39mcircle(img, (x,y), \u001b[38;5;241m20\u001b[39m, (\u001b[38;5;241m255\u001b[39m,\u001b[38;5;241m0\u001b[39m,\u001b[38;5;241m0\u001b[39m), \u001b[38;5;241m-\u001b[39m\u001b[38;5;241m1\u001b[39m)\n",
      "\u001b[1;31mAttributeError\u001b[0m: module 'cv2' has no attribute 'EVENT_LBUTTONDBCLK'"
     ]
    },
    {
     "ename": "AttributeError",
     "evalue": "module 'cv2' has no attribute 'EVENT_LBUTTONDBCLK'",
     "output_type": "error",
     "traceback": [
      "\u001b[1;31m---------------------------------------------------------------------------\u001b[0m",
      "\u001b[1;31mAttributeError\u001b[0m                            Traceback (most recent call last)",
      "Cell \u001b[1;32mIn[6], line 12\u001b[0m, in \u001b[0;36mdraw_circle\u001b[1;34m(event, x, y, flags, param)\u001b[0m\n\u001b[0;32m     10\u001b[0m \u001b[38;5;28;01melif\u001b[39;00m event \u001b[38;5;241m==\u001b[39m cv2\u001b[38;5;241m.\u001b[39mEVENT_RBUTTONDOWN:\n\u001b[0;32m     11\u001b[0m     cv2\u001b[38;5;241m.\u001b[39mcircle(img, (x,y), \u001b[38;5;241m10\u001b[39m, (\u001b[38;5;241m255\u001b[39m,\u001b[38;5;241m0\u001b[39m,\u001b[38;5;241m0\u001b[39m), \u001b[38;5;241m2\u001b[39m)\n\u001b[1;32m---> 12\u001b[0m \u001b[38;5;28;01melif\u001b[39;00m event \u001b[38;5;241m==\u001b[39m \u001b[43mcv2\u001b[49m\u001b[38;5;241;43m.\u001b[39;49m\u001b[43mEVENT_LBUTTONDBCLK\u001b[49m:\n\u001b[0;32m     13\u001b[0m     cv2\u001b[38;5;241m.\u001b[39mcircle(img, (x,y), \u001b[38;5;241m20\u001b[39m, (\u001b[38;5;241m255\u001b[39m,\u001b[38;5;241m0\u001b[39m,\u001b[38;5;241m0\u001b[39m), \u001b[38;5;241m-\u001b[39m\u001b[38;5;241m1\u001b[39m)\n",
      "\u001b[1;31mAttributeError\u001b[0m: module 'cv2' has no attribute 'EVENT_LBUTTONDBCLK'"
     ]
    },
    {
     "ename": "AttributeError",
     "evalue": "module 'cv2' has no attribute 'EVENT_LBUTTONDBCLK'",
     "output_type": "error",
     "traceback": [
      "\u001b[1;31m---------------------------------------------------------------------------\u001b[0m",
      "\u001b[1;31mAttributeError\u001b[0m                            Traceback (most recent call last)",
      "Cell \u001b[1;32mIn[6], line 12\u001b[0m, in \u001b[0;36mdraw_circle\u001b[1;34m(event, x, y, flags, param)\u001b[0m\n\u001b[0;32m     10\u001b[0m \u001b[38;5;28;01melif\u001b[39;00m event \u001b[38;5;241m==\u001b[39m cv2\u001b[38;5;241m.\u001b[39mEVENT_RBUTTONDOWN:\n\u001b[0;32m     11\u001b[0m     cv2\u001b[38;5;241m.\u001b[39mcircle(img, (x,y), \u001b[38;5;241m10\u001b[39m, (\u001b[38;5;241m255\u001b[39m,\u001b[38;5;241m0\u001b[39m,\u001b[38;5;241m0\u001b[39m), \u001b[38;5;241m2\u001b[39m)\n\u001b[1;32m---> 12\u001b[0m \u001b[38;5;28;01melif\u001b[39;00m event \u001b[38;5;241m==\u001b[39m \u001b[43mcv2\u001b[49m\u001b[38;5;241;43m.\u001b[39;49m\u001b[43mEVENT_LBUTTONDBCLK\u001b[49m:\n\u001b[0;32m     13\u001b[0m     cv2\u001b[38;5;241m.\u001b[39mcircle(img, (x,y), \u001b[38;5;241m20\u001b[39m, (\u001b[38;5;241m255\u001b[39m,\u001b[38;5;241m0\u001b[39m,\u001b[38;5;241m0\u001b[39m), \u001b[38;5;241m-\u001b[39m\u001b[38;5;241m1\u001b[39m)\n",
      "\u001b[1;31mAttributeError\u001b[0m: module 'cv2' has no attribute 'EVENT_LBUTTONDBCLK'"
     ]
    },
    {
     "ename": "AttributeError",
     "evalue": "module 'cv2' has no attribute 'EVENT_LBUTTONDBCLK'",
     "output_type": "error",
     "traceback": [
      "\u001b[1;31m---------------------------------------------------------------------------\u001b[0m",
      "\u001b[1;31mAttributeError\u001b[0m                            Traceback (most recent call last)",
      "Cell \u001b[1;32mIn[6], line 12\u001b[0m, in \u001b[0;36mdraw_circle\u001b[1;34m(event, x, y, flags, param)\u001b[0m\n\u001b[0;32m     10\u001b[0m \u001b[38;5;28;01melif\u001b[39;00m event \u001b[38;5;241m==\u001b[39m cv2\u001b[38;5;241m.\u001b[39mEVENT_RBUTTONDOWN:\n\u001b[0;32m     11\u001b[0m     cv2\u001b[38;5;241m.\u001b[39mcircle(img, (x,y), \u001b[38;5;241m10\u001b[39m, (\u001b[38;5;241m255\u001b[39m,\u001b[38;5;241m0\u001b[39m,\u001b[38;5;241m0\u001b[39m), \u001b[38;5;241m2\u001b[39m)\n\u001b[1;32m---> 12\u001b[0m \u001b[38;5;28;01melif\u001b[39;00m event \u001b[38;5;241m==\u001b[39m \u001b[43mcv2\u001b[49m\u001b[38;5;241;43m.\u001b[39;49m\u001b[43mEVENT_LBUTTONDBCLK\u001b[49m:\n\u001b[0;32m     13\u001b[0m     cv2\u001b[38;5;241m.\u001b[39mcircle(img, (x,y), \u001b[38;5;241m20\u001b[39m, (\u001b[38;5;241m255\u001b[39m,\u001b[38;5;241m0\u001b[39m,\u001b[38;5;241m0\u001b[39m), \u001b[38;5;241m-\u001b[39m\u001b[38;5;241m1\u001b[39m)\n",
      "\u001b[1;31mAttributeError\u001b[0m: module 'cv2' has no attribute 'EVENT_LBUTTONDBCLK'"
     ]
    },
    {
     "ename": "AttributeError",
     "evalue": "module 'cv2' has no attribute 'EVENT_LBUTTONDBCLK'",
     "output_type": "error",
     "traceback": [
      "\u001b[1;31m---------------------------------------------------------------------------\u001b[0m",
      "\u001b[1;31mAttributeError\u001b[0m                            Traceback (most recent call last)",
      "Cell \u001b[1;32mIn[6], line 12\u001b[0m, in \u001b[0;36mdraw_circle\u001b[1;34m(event, x, y, flags, param)\u001b[0m\n\u001b[0;32m     10\u001b[0m \u001b[38;5;28;01melif\u001b[39;00m event \u001b[38;5;241m==\u001b[39m cv2\u001b[38;5;241m.\u001b[39mEVENT_RBUTTONDOWN:\n\u001b[0;32m     11\u001b[0m     cv2\u001b[38;5;241m.\u001b[39mcircle(img, (x,y), \u001b[38;5;241m10\u001b[39m, (\u001b[38;5;241m255\u001b[39m,\u001b[38;5;241m0\u001b[39m,\u001b[38;5;241m0\u001b[39m), \u001b[38;5;241m2\u001b[39m)\n\u001b[1;32m---> 12\u001b[0m \u001b[38;5;28;01melif\u001b[39;00m event \u001b[38;5;241m==\u001b[39m \u001b[43mcv2\u001b[49m\u001b[38;5;241;43m.\u001b[39;49m\u001b[43mEVENT_LBUTTONDBCLK\u001b[49m:\n\u001b[0;32m     13\u001b[0m     cv2\u001b[38;5;241m.\u001b[39mcircle(img, (x,y), \u001b[38;5;241m20\u001b[39m, (\u001b[38;5;241m255\u001b[39m,\u001b[38;5;241m0\u001b[39m,\u001b[38;5;241m0\u001b[39m), \u001b[38;5;241m-\u001b[39m\u001b[38;5;241m1\u001b[39m)\n",
      "\u001b[1;31mAttributeError\u001b[0m: module 'cv2' has no attribute 'EVENT_LBUTTONDBCLK'"
     ]
    },
    {
     "ename": "AttributeError",
     "evalue": "module 'cv2' has no attribute 'EVENT_LBUTTONDBCLK'",
     "output_type": "error",
     "traceback": [
      "\u001b[1;31m---------------------------------------------------------------------------\u001b[0m",
      "\u001b[1;31mAttributeError\u001b[0m                            Traceback (most recent call last)",
      "Cell \u001b[1;32mIn[6], line 12\u001b[0m, in \u001b[0;36mdraw_circle\u001b[1;34m(event, x, y, flags, param)\u001b[0m\n\u001b[0;32m     10\u001b[0m \u001b[38;5;28;01melif\u001b[39;00m event \u001b[38;5;241m==\u001b[39m cv2\u001b[38;5;241m.\u001b[39mEVENT_RBUTTONDOWN:\n\u001b[0;32m     11\u001b[0m     cv2\u001b[38;5;241m.\u001b[39mcircle(img, (x,y), \u001b[38;5;241m10\u001b[39m, (\u001b[38;5;241m255\u001b[39m,\u001b[38;5;241m0\u001b[39m,\u001b[38;5;241m0\u001b[39m), \u001b[38;5;241m2\u001b[39m)\n\u001b[1;32m---> 12\u001b[0m \u001b[38;5;28;01melif\u001b[39;00m event \u001b[38;5;241m==\u001b[39m \u001b[43mcv2\u001b[49m\u001b[38;5;241;43m.\u001b[39;49m\u001b[43mEVENT_LBUTTONDBCLK\u001b[49m:\n\u001b[0;32m     13\u001b[0m     cv2\u001b[38;5;241m.\u001b[39mcircle(img, (x,y), \u001b[38;5;241m20\u001b[39m, (\u001b[38;5;241m255\u001b[39m,\u001b[38;5;241m0\u001b[39m,\u001b[38;5;241m0\u001b[39m), \u001b[38;5;241m-\u001b[39m\u001b[38;5;241m1\u001b[39m)\n",
      "\u001b[1;31mAttributeError\u001b[0m: module 'cv2' has no attribute 'EVENT_LBUTTONDBCLK'"
     ]
    },
    {
     "ename": "AttributeError",
     "evalue": "module 'cv2' has no attribute 'EVENT_LBUTTONDBCLK'",
     "output_type": "error",
     "traceback": [
      "\u001b[1;31m---------------------------------------------------------------------------\u001b[0m",
      "\u001b[1;31mAttributeError\u001b[0m                            Traceback (most recent call last)",
      "Cell \u001b[1;32mIn[6], line 12\u001b[0m, in \u001b[0;36mdraw_circle\u001b[1;34m(event, x, y, flags, param)\u001b[0m\n\u001b[0;32m     10\u001b[0m \u001b[38;5;28;01melif\u001b[39;00m event \u001b[38;5;241m==\u001b[39m cv2\u001b[38;5;241m.\u001b[39mEVENT_RBUTTONDOWN:\n\u001b[0;32m     11\u001b[0m     cv2\u001b[38;5;241m.\u001b[39mcircle(img, (x,y), \u001b[38;5;241m10\u001b[39m, (\u001b[38;5;241m255\u001b[39m,\u001b[38;5;241m0\u001b[39m,\u001b[38;5;241m0\u001b[39m), \u001b[38;5;241m2\u001b[39m)\n\u001b[1;32m---> 12\u001b[0m \u001b[38;5;28;01melif\u001b[39;00m event \u001b[38;5;241m==\u001b[39m \u001b[43mcv2\u001b[49m\u001b[38;5;241;43m.\u001b[39;49m\u001b[43mEVENT_LBUTTONDBCLK\u001b[49m:\n\u001b[0;32m     13\u001b[0m     cv2\u001b[38;5;241m.\u001b[39mcircle(img, (x,y), \u001b[38;5;241m20\u001b[39m, (\u001b[38;5;241m255\u001b[39m,\u001b[38;5;241m0\u001b[39m,\u001b[38;5;241m0\u001b[39m), \u001b[38;5;241m-\u001b[39m\u001b[38;5;241m1\u001b[39m)\n",
      "\u001b[1;31mAttributeError\u001b[0m: module 'cv2' has no attribute 'EVENT_LBUTTONDBCLK'"
     ]
    },
    {
     "ename": "AttributeError",
     "evalue": "module 'cv2' has no attribute 'EVENT_LBUTTONDBCLK'",
     "output_type": "error",
     "traceback": [
      "\u001b[1;31m---------------------------------------------------------------------------\u001b[0m",
      "\u001b[1;31mAttributeError\u001b[0m                            Traceback (most recent call last)",
      "Cell \u001b[1;32mIn[6], line 12\u001b[0m, in \u001b[0;36mdraw_circle\u001b[1;34m(event, x, y, flags, param)\u001b[0m\n\u001b[0;32m     10\u001b[0m \u001b[38;5;28;01melif\u001b[39;00m event \u001b[38;5;241m==\u001b[39m cv2\u001b[38;5;241m.\u001b[39mEVENT_RBUTTONDOWN:\n\u001b[0;32m     11\u001b[0m     cv2\u001b[38;5;241m.\u001b[39mcircle(img, (x,y), \u001b[38;5;241m10\u001b[39m, (\u001b[38;5;241m255\u001b[39m,\u001b[38;5;241m0\u001b[39m,\u001b[38;5;241m0\u001b[39m), \u001b[38;5;241m2\u001b[39m)\n\u001b[1;32m---> 12\u001b[0m \u001b[38;5;28;01melif\u001b[39;00m event \u001b[38;5;241m==\u001b[39m \u001b[43mcv2\u001b[49m\u001b[38;5;241;43m.\u001b[39;49m\u001b[43mEVENT_LBUTTONDBCLK\u001b[49m:\n\u001b[0;32m     13\u001b[0m     cv2\u001b[38;5;241m.\u001b[39mcircle(img, (x,y), \u001b[38;5;241m20\u001b[39m, (\u001b[38;5;241m255\u001b[39m,\u001b[38;5;241m0\u001b[39m,\u001b[38;5;241m0\u001b[39m), \u001b[38;5;241m-\u001b[39m\u001b[38;5;241m1\u001b[39m)\n",
      "\u001b[1;31mAttributeError\u001b[0m: module 'cv2' has no attribute 'EVENT_LBUTTONDBCLK'"
     ]
    },
    {
     "ename": "AttributeError",
     "evalue": "module 'cv2' has no attribute 'EVENT_LBUTTONDBCLK'",
     "output_type": "error",
     "traceback": [
      "\u001b[1;31m---------------------------------------------------------------------------\u001b[0m",
      "\u001b[1;31mAttributeError\u001b[0m                            Traceback (most recent call last)",
      "Cell \u001b[1;32mIn[6], line 12\u001b[0m, in \u001b[0;36mdraw_circle\u001b[1;34m(event, x, y, flags, param)\u001b[0m\n\u001b[0;32m     10\u001b[0m \u001b[38;5;28;01melif\u001b[39;00m event \u001b[38;5;241m==\u001b[39m cv2\u001b[38;5;241m.\u001b[39mEVENT_RBUTTONDOWN:\n\u001b[0;32m     11\u001b[0m     cv2\u001b[38;5;241m.\u001b[39mcircle(img, (x,y), \u001b[38;5;241m10\u001b[39m, (\u001b[38;5;241m255\u001b[39m,\u001b[38;5;241m0\u001b[39m,\u001b[38;5;241m0\u001b[39m), \u001b[38;5;241m2\u001b[39m)\n\u001b[1;32m---> 12\u001b[0m \u001b[38;5;28;01melif\u001b[39;00m event \u001b[38;5;241m==\u001b[39m \u001b[43mcv2\u001b[49m\u001b[38;5;241;43m.\u001b[39;49m\u001b[43mEVENT_LBUTTONDBCLK\u001b[49m:\n\u001b[0;32m     13\u001b[0m     cv2\u001b[38;5;241m.\u001b[39mcircle(img, (x,y), \u001b[38;5;241m20\u001b[39m, (\u001b[38;5;241m255\u001b[39m,\u001b[38;5;241m0\u001b[39m,\u001b[38;5;241m0\u001b[39m), \u001b[38;5;241m-\u001b[39m\u001b[38;5;241m1\u001b[39m)\n",
      "\u001b[1;31mAttributeError\u001b[0m: module 'cv2' has no attribute 'EVENT_LBUTTONDBCLK'"
     ]
    },
    {
     "ename": "AttributeError",
     "evalue": "module 'cv2' has no attribute 'EVENT_LBUTTONDBCLK'",
     "output_type": "error",
     "traceback": [
      "\u001b[1;31m---------------------------------------------------------------------------\u001b[0m",
      "\u001b[1;31mAttributeError\u001b[0m                            Traceback (most recent call last)",
      "Cell \u001b[1;32mIn[6], line 12\u001b[0m, in \u001b[0;36mdraw_circle\u001b[1;34m(event, x, y, flags, param)\u001b[0m\n\u001b[0;32m     10\u001b[0m \u001b[38;5;28;01melif\u001b[39;00m event \u001b[38;5;241m==\u001b[39m cv2\u001b[38;5;241m.\u001b[39mEVENT_RBUTTONDOWN:\n\u001b[0;32m     11\u001b[0m     cv2\u001b[38;5;241m.\u001b[39mcircle(img, (x,y), \u001b[38;5;241m10\u001b[39m, (\u001b[38;5;241m255\u001b[39m,\u001b[38;5;241m0\u001b[39m,\u001b[38;5;241m0\u001b[39m), \u001b[38;5;241m2\u001b[39m)\n\u001b[1;32m---> 12\u001b[0m \u001b[38;5;28;01melif\u001b[39;00m event \u001b[38;5;241m==\u001b[39m \u001b[43mcv2\u001b[49m\u001b[38;5;241;43m.\u001b[39;49m\u001b[43mEVENT_LBUTTONDBCLK\u001b[49m:\n\u001b[0;32m     13\u001b[0m     cv2\u001b[38;5;241m.\u001b[39mcircle(img, (x,y), \u001b[38;5;241m20\u001b[39m, (\u001b[38;5;241m255\u001b[39m,\u001b[38;5;241m0\u001b[39m,\u001b[38;5;241m0\u001b[39m), \u001b[38;5;241m-\u001b[39m\u001b[38;5;241m1\u001b[39m)\n",
      "\u001b[1;31mAttributeError\u001b[0m: module 'cv2' has no attribute 'EVENT_LBUTTONDBCLK'"
     ]
    },
    {
     "ename": "AttributeError",
     "evalue": "module 'cv2' has no attribute 'EVENT_LBUTTONDBCLK'",
     "output_type": "error",
     "traceback": [
      "\u001b[1;31m---------------------------------------------------------------------------\u001b[0m",
      "\u001b[1;31mAttributeError\u001b[0m                            Traceback (most recent call last)",
      "Cell \u001b[1;32mIn[6], line 12\u001b[0m, in \u001b[0;36mdraw_circle\u001b[1;34m(event, x, y, flags, param)\u001b[0m\n\u001b[0;32m     10\u001b[0m \u001b[38;5;28;01melif\u001b[39;00m event \u001b[38;5;241m==\u001b[39m cv2\u001b[38;5;241m.\u001b[39mEVENT_RBUTTONDOWN:\n\u001b[0;32m     11\u001b[0m     cv2\u001b[38;5;241m.\u001b[39mcircle(img, (x,y), \u001b[38;5;241m10\u001b[39m, (\u001b[38;5;241m255\u001b[39m,\u001b[38;5;241m0\u001b[39m,\u001b[38;5;241m0\u001b[39m), \u001b[38;5;241m2\u001b[39m)\n\u001b[1;32m---> 12\u001b[0m \u001b[38;5;28;01melif\u001b[39;00m event \u001b[38;5;241m==\u001b[39m \u001b[43mcv2\u001b[49m\u001b[38;5;241;43m.\u001b[39;49m\u001b[43mEVENT_LBUTTONDBCLK\u001b[49m:\n\u001b[0;32m     13\u001b[0m     cv2\u001b[38;5;241m.\u001b[39mcircle(img, (x,y), \u001b[38;5;241m20\u001b[39m, (\u001b[38;5;241m255\u001b[39m,\u001b[38;5;241m0\u001b[39m,\u001b[38;5;241m0\u001b[39m), \u001b[38;5;241m-\u001b[39m\u001b[38;5;241m1\u001b[39m)\n",
      "\u001b[1;31mAttributeError\u001b[0m: module 'cv2' has no attribute 'EVENT_LBUTTONDBCLK'"
     ]
    },
    {
     "ename": "AttributeError",
     "evalue": "module 'cv2' has no attribute 'EVENT_LBUTTONDBCLK'",
     "output_type": "error",
     "traceback": [
      "\u001b[1;31m---------------------------------------------------------------------------\u001b[0m",
      "\u001b[1;31mAttributeError\u001b[0m                            Traceback (most recent call last)",
      "Cell \u001b[1;32mIn[6], line 12\u001b[0m, in \u001b[0;36mdraw_circle\u001b[1;34m(event, x, y, flags, param)\u001b[0m\n\u001b[0;32m     10\u001b[0m \u001b[38;5;28;01melif\u001b[39;00m event \u001b[38;5;241m==\u001b[39m cv2\u001b[38;5;241m.\u001b[39mEVENT_RBUTTONDOWN:\n\u001b[0;32m     11\u001b[0m     cv2\u001b[38;5;241m.\u001b[39mcircle(img, (x,y), \u001b[38;5;241m10\u001b[39m, (\u001b[38;5;241m255\u001b[39m,\u001b[38;5;241m0\u001b[39m,\u001b[38;5;241m0\u001b[39m), \u001b[38;5;241m2\u001b[39m)\n\u001b[1;32m---> 12\u001b[0m \u001b[38;5;28;01melif\u001b[39;00m event \u001b[38;5;241m==\u001b[39m \u001b[43mcv2\u001b[49m\u001b[38;5;241;43m.\u001b[39;49m\u001b[43mEVENT_LBUTTONDBCLK\u001b[49m:\n\u001b[0;32m     13\u001b[0m     cv2\u001b[38;5;241m.\u001b[39mcircle(img, (x,y), \u001b[38;5;241m20\u001b[39m, (\u001b[38;5;241m255\u001b[39m,\u001b[38;5;241m0\u001b[39m,\u001b[38;5;241m0\u001b[39m), \u001b[38;5;241m-\u001b[39m\u001b[38;5;241m1\u001b[39m)\n",
      "\u001b[1;31mAttributeError\u001b[0m: module 'cv2' has no attribute 'EVENT_LBUTTONDBCLK'"
     ]
    },
    {
     "ename": "AttributeError",
     "evalue": "module 'cv2' has no attribute 'EVENT_LBUTTONDBCLK'",
     "output_type": "error",
     "traceback": [
      "\u001b[1;31m---------------------------------------------------------------------------\u001b[0m",
      "\u001b[1;31mAttributeError\u001b[0m                            Traceback (most recent call last)",
      "Cell \u001b[1;32mIn[6], line 12\u001b[0m, in \u001b[0;36mdraw_circle\u001b[1;34m(event, x, y, flags, param)\u001b[0m\n\u001b[0;32m     10\u001b[0m \u001b[38;5;28;01melif\u001b[39;00m event \u001b[38;5;241m==\u001b[39m cv2\u001b[38;5;241m.\u001b[39mEVENT_RBUTTONDOWN:\n\u001b[0;32m     11\u001b[0m     cv2\u001b[38;5;241m.\u001b[39mcircle(img, (x,y), \u001b[38;5;241m10\u001b[39m, (\u001b[38;5;241m255\u001b[39m,\u001b[38;5;241m0\u001b[39m,\u001b[38;5;241m0\u001b[39m), \u001b[38;5;241m2\u001b[39m)\n\u001b[1;32m---> 12\u001b[0m \u001b[38;5;28;01melif\u001b[39;00m event \u001b[38;5;241m==\u001b[39m \u001b[43mcv2\u001b[49m\u001b[38;5;241;43m.\u001b[39;49m\u001b[43mEVENT_LBUTTONDBCLK\u001b[49m:\n\u001b[0;32m     13\u001b[0m     cv2\u001b[38;5;241m.\u001b[39mcircle(img, (x,y), \u001b[38;5;241m20\u001b[39m, (\u001b[38;5;241m255\u001b[39m,\u001b[38;5;241m0\u001b[39m,\u001b[38;5;241m0\u001b[39m), \u001b[38;5;241m-\u001b[39m\u001b[38;5;241m1\u001b[39m)\n",
      "\u001b[1;31mAttributeError\u001b[0m: module 'cv2' has no attribute 'EVENT_LBUTTONDBCLK'"
     ]
    },
    {
     "ename": "AttributeError",
     "evalue": "module 'cv2' has no attribute 'EVENT_LBUTTONDBCLK'",
     "output_type": "error",
     "traceback": [
      "\u001b[1;31m---------------------------------------------------------------------------\u001b[0m",
      "\u001b[1;31mAttributeError\u001b[0m                            Traceback (most recent call last)",
      "Cell \u001b[1;32mIn[6], line 12\u001b[0m, in \u001b[0;36mdraw_circle\u001b[1;34m(event, x, y, flags, param)\u001b[0m\n\u001b[0;32m     10\u001b[0m \u001b[38;5;28;01melif\u001b[39;00m event \u001b[38;5;241m==\u001b[39m cv2\u001b[38;5;241m.\u001b[39mEVENT_RBUTTONDOWN:\n\u001b[0;32m     11\u001b[0m     cv2\u001b[38;5;241m.\u001b[39mcircle(img, (x,y), \u001b[38;5;241m10\u001b[39m, (\u001b[38;5;241m255\u001b[39m,\u001b[38;5;241m0\u001b[39m,\u001b[38;5;241m0\u001b[39m), \u001b[38;5;241m2\u001b[39m)\n\u001b[1;32m---> 12\u001b[0m \u001b[38;5;28;01melif\u001b[39;00m event \u001b[38;5;241m==\u001b[39m \u001b[43mcv2\u001b[49m\u001b[38;5;241;43m.\u001b[39;49m\u001b[43mEVENT_LBUTTONDBCLK\u001b[49m:\n\u001b[0;32m     13\u001b[0m     cv2\u001b[38;5;241m.\u001b[39mcircle(img, (x,y), \u001b[38;5;241m20\u001b[39m, (\u001b[38;5;241m255\u001b[39m,\u001b[38;5;241m0\u001b[39m,\u001b[38;5;241m0\u001b[39m), \u001b[38;5;241m-\u001b[39m\u001b[38;5;241m1\u001b[39m)\n",
      "\u001b[1;31mAttributeError\u001b[0m: module 'cv2' has no attribute 'EVENT_LBUTTONDBCLK'"
     ]
    },
    {
     "ename": "AttributeError",
     "evalue": "module 'cv2' has no attribute 'EVENT_LBUTTONDBCLK'",
     "output_type": "error",
     "traceback": [
      "\u001b[1;31m---------------------------------------------------------------------------\u001b[0m",
      "\u001b[1;31mAttributeError\u001b[0m                            Traceback (most recent call last)",
      "Cell \u001b[1;32mIn[6], line 12\u001b[0m, in \u001b[0;36mdraw_circle\u001b[1;34m(event, x, y, flags, param)\u001b[0m\n\u001b[0;32m     10\u001b[0m \u001b[38;5;28;01melif\u001b[39;00m event \u001b[38;5;241m==\u001b[39m cv2\u001b[38;5;241m.\u001b[39mEVENT_RBUTTONDOWN:\n\u001b[0;32m     11\u001b[0m     cv2\u001b[38;5;241m.\u001b[39mcircle(img, (x,y), \u001b[38;5;241m10\u001b[39m, (\u001b[38;5;241m255\u001b[39m,\u001b[38;5;241m0\u001b[39m,\u001b[38;5;241m0\u001b[39m), \u001b[38;5;241m2\u001b[39m)\n\u001b[1;32m---> 12\u001b[0m \u001b[38;5;28;01melif\u001b[39;00m event \u001b[38;5;241m==\u001b[39m \u001b[43mcv2\u001b[49m\u001b[38;5;241;43m.\u001b[39;49m\u001b[43mEVENT_LBUTTONDBCLK\u001b[49m:\n\u001b[0;32m     13\u001b[0m     cv2\u001b[38;5;241m.\u001b[39mcircle(img, (x,y), \u001b[38;5;241m20\u001b[39m, (\u001b[38;5;241m255\u001b[39m,\u001b[38;5;241m0\u001b[39m,\u001b[38;5;241m0\u001b[39m), \u001b[38;5;241m-\u001b[39m\u001b[38;5;241m1\u001b[39m)\n",
      "\u001b[1;31mAttributeError\u001b[0m: module 'cv2' has no attribute 'EVENT_LBUTTONDBCLK'"
     ]
    },
    {
     "ename": "AttributeError",
     "evalue": "module 'cv2' has no attribute 'EVENT_LBUTTONDBCLK'",
     "output_type": "error",
     "traceback": [
      "\u001b[1;31m---------------------------------------------------------------------------\u001b[0m",
      "\u001b[1;31mAttributeError\u001b[0m                            Traceback (most recent call last)",
      "Cell \u001b[1;32mIn[6], line 12\u001b[0m, in \u001b[0;36mdraw_circle\u001b[1;34m(event, x, y, flags, param)\u001b[0m\n\u001b[0;32m     10\u001b[0m \u001b[38;5;28;01melif\u001b[39;00m event \u001b[38;5;241m==\u001b[39m cv2\u001b[38;5;241m.\u001b[39mEVENT_RBUTTONDOWN:\n\u001b[0;32m     11\u001b[0m     cv2\u001b[38;5;241m.\u001b[39mcircle(img, (x,y), \u001b[38;5;241m10\u001b[39m, (\u001b[38;5;241m255\u001b[39m,\u001b[38;5;241m0\u001b[39m,\u001b[38;5;241m0\u001b[39m), \u001b[38;5;241m2\u001b[39m)\n\u001b[1;32m---> 12\u001b[0m \u001b[38;5;28;01melif\u001b[39;00m event \u001b[38;5;241m==\u001b[39m \u001b[43mcv2\u001b[49m\u001b[38;5;241;43m.\u001b[39;49m\u001b[43mEVENT_LBUTTONDBCLK\u001b[49m:\n\u001b[0;32m     13\u001b[0m     cv2\u001b[38;5;241m.\u001b[39mcircle(img, (x,y), \u001b[38;5;241m20\u001b[39m, (\u001b[38;5;241m255\u001b[39m,\u001b[38;5;241m0\u001b[39m,\u001b[38;5;241m0\u001b[39m), \u001b[38;5;241m-\u001b[39m\u001b[38;5;241m1\u001b[39m)\n",
      "\u001b[1;31mAttributeError\u001b[0m: module 'cv2' has no attribute 'EVENT_LBUTTONDBCLK'"
     ]
    },
    {
     "ename": "AttributeError",
     "evalue": "module 'cv2' has no attribute 'EVENT_LBUTTONDBCLK'",
     "output_type": "error",
     "traceback": [
      "\u001b[1;31m---------------------------------------------------------------------------\u001b[0m",
      "\u001b[1;31mAttributeError\u001b[0m                            Traceback (most recent call last)",
      "Cell \u001b[1;32mIn[6], line 12\u001b[0m, in \u001b[0;36mdraw_circle\u001b[1;34m(event, x, y, flags, param)\u001b[0m\n\u001b[0;32m     10\u001b[0m \u001b[38;5;28;01melif\u001b[39;00m event \u001b[38;5;241m==\u001b[39m cv2\u001b[38;5;241m.\u001b[39mEVENT_RBUTTONDOWN:\n\u001b[0;32m     11\u001b[0m     cv2\u001b[38;5;241m.\u001b[39mcircle(img, (x,y), \u001b[38;5;241m10\u001b[39m, (\u001b[38;5;241m255\u001b[39m,\u001b[38;5;241m0\u001b[39m,\u001b[38;5;241m0\u001b[39m), \u001b[38;5;241m2\u001b[39m)\n\u001b[1;32m---> 12\u001b[0m \u001b[38;5;28;01melif\u001b[39;00m event \u001b[38;5;241m==\u001b[39m \u001b[43mcv2\u001b[49m\u001b[38;5;241;43m.\u001b[39;49m\u001b[43mEVENT_LBUTTONDBCLK\u001b[49m:\n\u001b[0;32m     13\u001b[0m     cv2\u001b[38;5;241m.\u001b[39mcircle(img, (x,y), \u001b[38;5;241m20\u001b[39m, (\u001b[38;5;241m255\u001b[39m,\u001b[38;5;241m0\u001b[39m,\u001b[38;5;241m0\u001b[39m), \u001b[38;5;241m-\u001b[39m\u001b[38;5;241m1\u001b[39m)\n",
      "\u001b[1;31mAttributeError\u001b[0m: module 'cv2' has no attribute 'EVENT_LBUTTONDBCLK'"
     ]
    },
    {
     "ename": "AttributeError",
     "evalue": "module 'cv2' has no attribute 'EVENT_LBUTTONDBCLK'",
     "output_type": "error",
     "traceback": [
      "\u001b[1;31m---------------------------------------------------------------------------\u001b[0m",
      "\u001b[1;31mAttributeError\u001b[0m                            Traceback (most recent call last)",
      "Cell \u001b[1;32mIn[6], line 12\u001b[0m, in \u001b[0;36mdraw_circle\u001b[1;34m(event, x, y, flags, param)\u001b[0m\n\u001b[0;32m     10\u001b[0m \u001b[38;5;28;01melif\u001b[39;00m event \u001b[38;5;241m==\u001b[39m cv2\u001b[38;5;241m.\u001b[39mEVENT_RBUTTONDOWN:\n\u001b[0;32m     11\u001b[0m     cv2\u001b[38;5;241m.\u001b[39mcircle(img, (x,y), \u001b[38;5;241m10\u001b[39m, (\u001b[38;5;241m255\u001b[39m,\u001b[38;5;241m0\u001b[39m,\u001b[38;5;241m0\u001b[39m), \u001b[38;5;241m2\u001b[39m)\n\u001b[1;32m---> 12\u001b[0m \u001b[38;5;28;01melif\u001b[39;00m event \u001b[38;5;241m==\u001b[39m \u001b[43mcv2\u001b[49m\u001b[38;5;241;43m.\u001b[39;49m\u001b[43mEVENT_LBUTTONDBCLK\u001b[49m:\n\u001b[0;32m     13\u001b[0m     cv2\u001b[38;5;241m.\u001b[39mcircle(img, (x,y), \u001b[38;5;241m20\u001b[39m, (\u001b[38;5;241m255\u001b[39m,\u001b[38;5;241m0\u001b[39m,\u001b[38;5;241m0\u001b[39m), \u001b[38;5;241m-\u001b[39m\u001b[38;5;241m1\u001b[39m)\n",
      "\u001b[1;31mAttributeError\u001b[0m: module 'cv2' has no attribute 'EVENT_LBUTTONDBCLK'"
     ]
    },
    {
     "ename": "AttributeError",
     "evalue": "module 'cv2' has no attribute 'EVENT_LBUTTONDBCLK'",
     "output_type": "error",
     "traceback": [
      "\u001b[1;31m---------------------------------------------------------------------------\u001b[0m",
      "\u001b[1;31mAttributeError\u001b[0m                            Traceback (most recent call last)",
      "Cell \u001b[1;32mIn[6], line 12\u001b[0m, in \u001b[0;36mdraw_circle\u001b[1;34m(event, x, y, flags, param)\u001b[0m\n\u001b[0;32m     10\u001b[0m \u001b[38;5;28;01melif\u001b[39;00m event \u001b[38;5;241m==\u001b[39m cv2\u001b[38;5;241m.\u001b[39mEVENT_RBUTTONDOWN:\n\u001b[0;32m     11\u001b[0m     cv2\u001b[38;5;241m.\u001b[39mcircle(img, (x,y), \u001b[38;5;241m10\u001b[39m, (\u001b[38;5;241m255\u001b[39m,\u001b[38;5;241m0\u001b[39m,\u001b[38;5;241m0\u001b[39m), \u001b[38;5;241m2\u001b[39m)\n\u001b[1;32m---> 12\u001b[0m \u001b[38;5;28;01melif\u001b[39;00m event \u001b[38;5;241m==\u001b[39m \u001b[43mcv2\u001b[49m\u001b[38;5;241;43m.\u001b[39;49m\u001b[43mEVENT_LBUTTONDBCLK\u001b[49m:\n\u001b[0;32m     13\u001b[0m     cv2\u001b[38;5;241m.\u001b[39mcircle(img, (x,y), \u001b[38;5;241m20\u001b[39m, (\u001b[38;5;241m255\u001b[39m,\u001b[38;5;241m0\u001b[39m,\u001b[38;5;241m0\u001b[39m), \u001b[38;5;241m-\u001b[39m\u001b[38;5;241m1\u001b[39m)\n",
      "\u001b[1;31mAttributeError\u001b[0m: module 'cv2' has no attribute 'EVENT_LBUTTONDBCLK'"
     ]
    },
    {
     "ename": "AttributeError",
     "evalue": "module 'cv2' has no attribute 'EVENT_LBUTTONDBCLK'",
     "output_type": "error",
     "traceback": [
      "\u001b[1;31m---------------------------------------------------------------------------\u001b[0m",
      "\u001b[1;31mAttributeError\u001b[0m                            Traceback (most recent call last)",
      "Cell \u001b[1;32mIn[6], line 12\u001b[0m, in \u001b[0;36mdraw_circle\u001b[1;34m(event, x, y, flags, param)\u001b[0m\n\u001b[0;32m     10\u001b[0m \u001b[38;5;28;01melif\u001b[39;00m event \u001b[38;5;241m==\u001b[39m cv2\u001b[38;5;241m.\u001b[39mEVENT_RBUTTONDOWN:\n\u001b[0;32m     11\u001b[0m     cv2\u001b[38;5;241m.\u001b[39mcircle(img, (x,y), \u001b[38;5;241m10\u001b[39m, (\u001b[38;5;241m255\u001b[39m,\u001b[38;5;241m0\u001b[39m,\u001b[38;5;241m0\u001b[39m), \u001b[38;5;241m2\u001b[39m)\n\u001b[1;32m---> 12\u001b[0m \u001b[38;5;28;01melif\u001b[39;00m event \u001b[38;5;241m==\u001b[39m \u001b[43mcv2\u001b[49m\u001b[38;5;241;43m.\u001b[39;49m\u001b[43mEVENT_LBUTTONDBCLK\u001b[49m:\n\u001b[0;32m     13\u001b[0m     cv2\u001b[38;5;241m.\u001b[39mcircle(img, (x,y), \u001b[38;5;241m20\u001b[39m, (\u001b[38;5;241m255\u001b[39m,\u001b[38;5;241m0\u001b[39m,\u001b[38;5;241m0\u001b[39m), \u001b[38;5;241m-\u001b[39m\u001b[38;5;241m1\u001b[39m)\n",
      "\u001b[1;31mAttributeError\u001b[0m: module 'cv2' has no attribute 'EVENT_LBUTTONDBCLK'"
     ]
    },
    {
     "ename": "AttributeError",
     "evalue": "module 'cv2' has no attribute 'EVENT_LBUTTONDBCLK'",
     "output_type": "error",
     "traceback": [
      "\u001b[1;31m---------------------------------------------------------------------------\u001b[0m",
      "\u001b[1;31mAttributeError\u001b[0m                            Traceback (most recent call last)",
      "Cell \u001b[1;32mIn[6], line 12\u001b[0m, in \u001b[0;36mdraw_circle\u001b[1;34m(event, x, y, flags, param)\u001b[0m\n\u001b[0;32m     10\u001b[0m \u001b[38;5;28;01melif\u001b[39;00m event \u001b[38;5;241m==\u001b[39m cv2\u001b[38;5;241m.\u001b[39mEVENT_RBUTTONDOWN:\n\u001b[0;32m     11\u001b[0m     cv2\u001b[38;5;241m.\u001b[39mcircle(img, (x,y), \u001b[38;5;241m10\u001b[39m, (\u001b[38;5;241m255\u001b[39m,\u001b[38;5;241m0\u001b[39m,\u001b[38;5;241m0\u001b[39m), \u001b[38;5;241m2\u001b[39m)\n\u001b[1;32m---> 12\u001b[0m \u001b[38;5;28;01melif\u001b[39;00m event \u001b[38;5;241m==\u001b[39m \u001b[43mcv2\u001b[49m\u001b[38;5;241;43m.\u001b[39;49m\u001b[43mEVENT_LBUTTONDBCLK\u001b[49m:\n\u001b[0;32m     13\u001b[0m     cv2\u001b[38;5;241m.\u001b[39mcircle(img, (x,y), \u001b[38;5;241m20\u001b[39m, (\u001b[38;5;241m255\u001b[39m,\u001b[38;5;241m0\u001b[39m,\u001b[38;5;241m0\u001b[39m), \u001b[38;5;241m-\u001b[39m\u001b[38;5;241m1\u001b[39m)\n",
      "\u001b[1;31mAttributeError\u001b[0m: module 'cv2' has no attribute 'EVENT_LBUTTONDBCLK'"
     ]
    },
    {
     "ename": "AttributeError",
     "evalue": "module 'cv2' has no attribute 'EVENT_LBUTTONDBCLK'",
     "output_type": "error",
     "traceback": [
      "\u001b[1;31m---------------------------------------------------------------------------\u001b[0m",
      "\u001b[1;31mAttributeError\u001b[0m                            Traceback (most recent call last)",
      "Cell \u001b[1;32mIn[6], line 12\u001b[0m, in \u001b[0;36mdraw_circle\u001b[1;34m(event, x, y, flags, param)\u001b[0m\n\u001b[0;32m     10\u001b[0m \u001b[38;5;28;01melif\u001b[39;00m event \u001b[38;5;241m==\u001b[39m cv2\u001b[38;5;241m.\u001b[39mEVENT_RBUTTONDOWN:\n\u001b[0;32m     11\u001b[0m     cv2\u001b[38;5;241m.\u001b[39mcircle(img, (x,y), \u001b[38;5;241m10\u001b[39m, (\u001b[38;5;241m255\u001b[39m,\u001b[38;5;241m0\u001b[39m,\u001b[38;5;241m0\u001b[39m), \u001b[38;5;241m2\u001b[39m)\n\u001b[1;32m---> 12\u001b[0m \u001b[38;5;28;01melif\u001b[39;00m event \u001b[38;5;241m==\u001b[39m \u001b[43mcv2\u001b[49m\u001b[38;5;241;43m.\u001b[39;49m\u001b[43mEVENT_LBUTTONDBCLK\u001b[49m:\n\u001b[0;32m     13\u001b[0m     cv2\u001b[38;5;241m.\u001b[39mcircle(img, (x,y), \u001b[38;5;241m20\u001b[39m, (\u001b[38;5;241m255\u001b[39m,\u001b[38;5;241m0\u001b[39m,\u001b[38;5;241m0\u001b[39m), \u001b[38;5;241m-\u001b[39m\u001b[38;5;241m1\u001b[39m)\n",
      "\u001b[1;31mAttributeError\u001b[0m: module 'cv2' has no attribute 'EVENT_LBUTTONDBCLK'"
     ]
    },
    {
     "ename": "AttributeError",
     "evalue": "module 'cv2' has no attribute 'EVENT_LBUTTONDBCLK'",
     "output_type": "error",
     "traceback": [
      "\u001b[1;31m---------------------------------------------------------------------------\u001b[0m",
      "\u001b[1;31mAttributeError\u001b[0m                            Traceback (most recent call last)",
      "Cell \u001b[1;32mIn[6], line 12\u001b[0m, in \u001b[0;36mdraw_circle\u001b[1;34m(event, x, y, flags, param)\u001b[0m\n\u001b[0;32m     10\u001b[0m \u001b[38;5;28;01melif\u001b[39;00m event \u001b[38;5;241m==\u001b[39m cv2\u001b[38;5;241m.\u001b[39mEVENT_RBUTTONDOWN:\n\u001b[0;32m     11\u001b[0m     cv2\u001b[38;5;241m.\u001b[39mcircle(img, (x,y), \u001b[38;5;241m10\u001b[39m, (\u001b[38;5;241m255\u001b[39m,\u001b[38;5;241m0\u001b[39m,\u001b[38;5;241m0\u001b[39m), \u001b[38;5;241m2\u001b[39m)\n\u001b[1;32m---> 12\u001b[0m \u001b[38;5;28;01melif\u001b[39;00m event \u001b[38;5;241m==\u001b[39m \u001b[43mcv2\u001b[49m\u001b[38;5;241;43m.\u001b[39;49m\u001b[43mEVENT_LBUTTONDBCLK\u001b[49m:\n\u001b[0;32m     13\u001b[0m     cv2\u001b[38;5;241m.\u001b[39mcircle(img, (x,y), \u001b[38;5;241m20\u001b[39m, (\u001b[38;5;241m255\u001b[39m,\u001b[38;5;241m0\u001b[39m,\u001b[38;5;241m0\u001b[39m), \u001b[38;5;241m-\u001b[39m\u001b[38;5;241m1\u001b[39m)\n",
      "\u001b[1;31mAttributeError\u001b[0m: module 'cv2' has no attribute 'EVENT_LBUTTONDBCLK'"
     ]
    },
    {
     "ename": "AttributeError",
     "evalue": "module 'cv2' has no attribute 'EVENT_LBUTTONDBCLK'",
     "output_type": "error",
     "traceback": [
      "\u001b[1;31m---------------------------------------------------------------------------\u001b[0m",
      "\u001b[1;31mAttributeError\u001b[0m                            Traceback (most recent call last)",
      "Cell \u001b[1;32mIn[6], line 12\u001b[0m, in \u001b[0;36mdraw_circle\u001b[1;34m(event, x, y, flags, param)\u001b[0m\n\u001b[0;32m     10\u001b[0m \u001b[38;5;28;01melif\u001b[39;00m event \u001b[38;5;241m==\u001b[39m cv2\u001b[38;5;241m.\u001b[39mEVENT_RBUTTONDOWN:\n\u001b[0;32m     11\u001b[0m     cv2\u001b[38;5;241m.\u001b[39mcircle(img, (x,y), \u001b[38;5;241m10\u001b[39m, (\u001b[38;5;241m255\u001b[39m,\u001b[38;5;241m0\u001b[39m,\u001b[38;5;241m0\u001b[39m), \u001b[38;5;241m2\u001b[39m)\n\u001b[1;32m---> 12\u001b[0m \u001b[38;5;28;01melif\u001b[39;00m event \u001b[38;5;241m==\u001b[39m \u001b[43mcv2\u001b[49m\u001b[38;5;241;43m.\u001b[39;49m\u001b[43mEVENT_LBUTTONDBCLK\u001b[49m:\n\u001b[0;32m     13\u001b[0m     cv2\u001b[38;5;241m.\u001b[39mcircle(img, (x,y), \u001b[38;5;241m20\u001b[39m, (\u001b[38;5;241m255\u001b[39m,\u001b[38;5;241m0\u001b[39m,\u001b[38;5;241m0\u001b[39m), \u001b[38;5;241m-\u001b[39m\u001b[38;5;241m1\u001b[39m)\n",
      "\u001b[1;31mAttributeError\u001b[0m: module 'cv2' has no attribute 'EVENT_LBUTTONDBCLK'"
     ]
    },
    {
     "ename": "AttributeError",
     "evalue": "module 'cv2' has no attribute 'EVENT_LBUTTONDBCLK'",
     "output_type": "error",
     "traceback": [
      "\u001b[1;31m---------------------------------------------------------------------------\u001b[0m",
      "\u001b[1;31mAttributeError\u001b[0m                            Traceback (most recent call last)",
      "Cell \u001b[1;32mIn[6], line 12\u001b[0m, in \u001b[0;36mdraw_circle\u001b[1;34m(event, x, y, flags, param)\u001b[0m\n\u001b[0;32m     10\u001b[0m \u001b[38;5;28;01melif\u001b[39;00m event \u001b[38;5;241m==\u001b[39m cv2\u001b[38;5;241m.\u001b[39mEVENT_RBUTTONDOWN:\n\u001b[0;32m     11\u001b[0m     cv2\u001b[38;5;241m.\u001b[39mcircle(img, (x,y), \u001b[38;5;241m10\u001b[39m, (\u001b[38;5;241m255\u001b[39m,\u001b[38;5;241m0\u001b[39m,\u001b[38;5;241m0\u001b[39m), \u001b[38;5;241m2\u001b[39m)\n\u001b[1;32m---> 12\u001b[0m \u001b[38;5;28;01melif\u001b[39;00m event \u001b[38;5;241m==\u001b[39m \u001b[43mcv2\u001b[49m\u001b[38;5;241;43m.\u001b[39;49m\u001b[43mEVENT_LBUTTONDBCLK\u001b[49m:\n\u001b[0;32m     13\u001b[0m     cv2\u001b[38;5;241m.\u001b[39mcircle(img, (x,y), \u001b[38;5;241m20\u001b[39m, (\u001b[38;5;241m255\u001b[39m,\u001b[38;5;241m0\u001b[39m,\u001b[38;5;241m0\u001b[39m), \u001b[38;5;241m-\u001b[39m\u001b[38;5;241m1\u001b[39m)\n",
      "\u001b[1;31mAttributeError\u001b[0m: module 'cv2' has no attribute 'EVENT_LBUTTONDBCLK'"
     ]
    },
    {
     "ename": "AttributeError",
     "evalue": "module 'cv2' has no attribute 'EVENT_LBUTTONDBCLK'",
     "output_type": "error",
     "traceback": [
      "\u001b[1;31m---------------------------------------------------------------------------\u001b[0m",
      "\u001b[1;31mAttributeError\u001b[0m                            Traceback (most recent call last)",
      "Cell \u001b[1;32mIn[6], line 12\u001b[0m, in \u001b[0;36mdraw_circle\u001b[1;34m(event, x, y, flags, param)\u001b[0m\n\u001b[0;32m     10\u001b[0m \u001b[38;5;28;01melif\u001b[39;00m event \u001b[38;5;241m==\u001b[39m cv2\u001b[38;5;241m.\u001b[39mEVENT_RBUTTONDOWN:\n\u001b[0;32m     11\u001b[0m     cv2\u001b[38;5;241m.\u001b[39mcircle(img, (x,y), \u001b[38;5;241m10\u001b[39m, (\u001b[38;5;241m255\u001b[39m,\u001b[38;5;241m0\u001b[39m,\u001b[38;5;241m0\u001b[39m), \u001b[38;5;241m2\u001b[39m)\n\u001b[1;32m---> 12\u001b[0m \u001b[38;5;28;01melif\u001b[39;00m event \u001b[38;5;241m==\u001b[39m \u001b[43mcv2\u001b[49m\u001b[38;5;241;43m.\u001b[39;49m\u001b[43mEVENT_LBUTTONDBCLK\u001b[49m:\n\u001b[0;32m     13\u001b[0m     cv2\u001b[38;5;241m.\u001b[39mcircle(img, (x,y), \u001b[38;5;241m20\u001b[39m, (\u001b[38;5;241m255\u001b[39m,\u001b[38;5;241m0\u001b[39m,\u001b[38;5;241m0\u001b[39m), \u001b[38;5;241m-\u001b[39m\u001b[38;5;241m1\u001b[39m)\n",
      "\u001b[1;31mAttributeError\u001b[0m: module 'cv2' has no attribute 'EVENT_LBUTTONDBCLK'"
     ]
    },
    {
     "ename": "AttributeError",
     "evalue": "module 'cv2' has no attribute 'EVENT_LBUTTONDBCLK'",
     "output_type": "error",
     "traceback": [
      "\u001b[1;31m---------------------------------------------------------------------------\u001b[0m",
      "\u001b[1;31mAttributeError\u001b[0m                            Traceback (most recent call last)",
      "Cell \u001b[1;32mIn[6], line 12\u001b[0m, in \u001b[0;36mdraw_circle\u001b[1;34m(event, x, y, flags, param)\u001b[0m\n\u001b[0;32m     10\u001b[0m \u001b[38;5;28;01melif\u001b[39;00m event \u001b[38;5;241m==\u001b[39m cv2\u001b[38;5;241m.\u001b[39mEVENT_RBUTTONDOWN:\n\u001b[0;32m     11\u001b[0m     cv2\u001b[38;5;241m.\u001b[39mcircle(img, (x,y), \u001b[38;5;241m10\u001b[39m, (\u001b[38;5;241m255\u001b[39m,\u001b[38;5;241m0\u001b[39m,\u001b[38;5;241m0\u001b[39m), \u001b[38;5;241m2\u001b[39m)\n\u001b[1;32m---> 12\u001b[0m \u001b[38;5;28;01melif\u001b[39;00m event \u001b[38;5;241m==\u001b[39m \u001b[43mcv2\u001b[49m\u001b[38;5;241;43m.\u001b[39;49m\u001b[43mEVENT_LBUTTONDBCLK\u001b[49m:\n\u001b[0;32m     13\u001b[0m     cv2\u001b[38;5;241m.\u001b[39mcircle(img, (x,y), \u001b[38;5;241m20\u001b[39m, (\u001b[38;5;241m255\u001b[39m,\u001b[38;5;241m0\u001b[39m,\u001b[38;5;241m0\u001b[39m), \u001b[38;5;241m-\u001b[39m\u001b[38;5;241m1\u001b[39m)\n",
      "\u001b[1;31mAttributeError\u001b[0m: module 'cv2' has no attribute 'EVENT_LBUTTONDBCLK'"
     ]
    },
    {
     "ename": "AttributeError",
     "evalue": "module 'cv2' has no attribute 'EVENT_LBUTTONDBCLK'",
     "output_type": "error",
     "traceback": [
      "\u001b[1;31m---------------------------------------------------------------------------\u001b[0m",
      "\u001b[1;31mAttributeError\u001b[0m                            Traceback (most recent call last)",
      "Cell \u001b[1;32mIn[6], line 12\u001b[0m, in \u001b[0;36mdraw_circle\u001b[1;34m(event, x, y, flags, param)\u001b[0m\n\u001b[0;32m     10\u001b[0m \u001b[38;5;28;01melif\u001b[39;00m event \u001b[38;5;241m==\u001b[39m cv2\u001b[38;5;241m.\u001b[39mEVENT_RBUTTONDOWN:\n\u001b[0;32m     11\u001b[0m     cv2\u001b[38;5;241m.\u001b[39mcircle(img, (x,y), \u001b[38;5;241m10\u001b[39m, (\u001b[38;5;241m255\u001b[39m,\u001b[38;5;241m0\u001b[39m,\u001b[38;5;241m0\u001b[39m), \u001b[38;5;241m2\u001b[39m)\n\u001b[1;32m---> 12\u001b[0m \u001b[38;5;28;01melif\u001b[39;00m event \u001b[38;5;241m==\u001b[39m \u001b[43mcv2\u001b[49m\u001b[38;5;241;43m.\u001b[39;49m\u001b[43mEVENT_LBUTTONDBCLK\u001b[49m:\n\u001b[0;32m     13\u001b[0m     cv2\u001b[38;5;241m.\u001b[39mcircle(img, (x,y), \u001b[38;5;241m20\u001b[39m, (\u001b[38;5;241m255\u001b[39m,\u001b[38;5;241m0\u001b[39m,\u001b[38;5;241m0\u001b[39m), \u001b[38;5;241m-\u001b[39m\u001b[38;5;241m1\u001b[39m)\n",
      "\u001b[1;31mAttributeError\u001b[0m: module 'cv2' has no attribute 'EVENT_LBUTTONDBCLK'"
     ]
    },
    {
     "ename": "AttributeError",
     "evalue": "module 'cv2' has no attribute 'EVENT_LBUTTONDBCLK'",
     "output_type": "error",
     "traceback": [
      "\u001b[1;31m---------------------------------------------------------------------------\u001b[0m",
      "\u001b[1;31mAttributeError\u001b[0m                            Traceback (most recent call last)",
      "Cell \u001b[1;32mIn[6], line 12\u001b[0m, in \u001b[0;36mdraw_circle\u001b[1;34m(event, x, y, flags, param)\u001b[0m\n\u001b[0;32m     10\u001b[0m \u001b[38;5;28;01melif\u001b[39;00m event \u001b[38;5;241m==\u001b[39m cv2\u001b[38;5;241m.\u001b[39mEVENT_RBUTTONDOWN:\n\u001b[0;32m     11\u001b[0m     cv2\u001b[38;5;241m.\u001b[39mcircle(img, (x,y), \u001b[38;5;241m10\u001b[39m, (\u001b[38;5;241m255\u001b[39m,\u001b[38;5;241m0\u001b[39m,\u001b[38;5;241m0\u001b[39m), \u001b[38;5;241m2\u001b[39m)\n\u001b[1;32m---> 12\u001b[0m \u001b[38;5;28;01melif\u001b[39;00m event \u001b[38;5;241m==\u001b[39m \u001b[43mcv2\u001b[49m\u001b[38;5;241;43m.\u001b[39;49m\u001b[43mEVENT_LBUTTONDBCLK\u001b[49m:\n\u001b[0;32m     13\u001b[0m     cv2\u001b[38;5;241m.\u001b[39mcircle(img, (x,y), \u001b[38;5;241m20\u001b[39m, (\u001b[38;5;241m255\u001b[39m,\u001b[38;5;241m0\u001b[39m,\u001b[38;5;241m0\u001b[39m), \u001b[38;5;241m-\u001b[39m\u001b[38;5;241m1\u001b[39m)\n",
      "\u001b[1;31mAttributeError\u001b[0m: module 'cv2' has no attribute 'EVENT_LBUTTONDBCLK'"
     ]
    },
    {
     "ename": "AttributeError",
     "evalue": "module 'cv2' has no attribute 'EVENT_LBUTTONDBCLK'",
     "output_type": "error",
     "traceback": [
      "\u001b[1;31m---------------------------------------------------------------------------\u001b[0m",
      "\u001b[1;31mAttributeError\u001b[0m                            Traceback (most recent call last)",
      "Cell \u001b[1;32mIn[6], line 12\u001b[0m, in \u001b[0;36mdraw_circle\u001b[1;34m(event, x, y, flags, param)\u001b[0m\n\u001b[0;32m     10\u001b[0m \u001b[38;5;28;01melif\u001b[39;00m event \u001b[38;5;241m==\u001b[39m cv2\u001b[38;5;241m.\u001b[39mEVENT_RBUTTONDOWN:\n\u001b[0;32m     11\u001b[0m     cv2\u001b[38;5;241m.\u001b[39mcircle(img, (x,y), \u001b[38;5;241m10\u001b[39m, (\u001b[38;5;241m255\u001b[39m,\u001b[38;5;241m0\u001b[39m,\u001b[38;5;241m0\u001b[39m), \u001b[38;5;241m2\u001b[39m)\n\u001b[1;32m---> 12\u001b[0m \u001b[38;5;28;01melif\u001b[39;00m event \u001b[38;5;241m==\u001b[39m \u001b[43mcv2\u001b[49m\u001b[38;5;241;43m.\u001b[39;49m\u001b[43mEVENT_LBUTTONDBCLK\u001b[49m:\n\u001b[0;32m     13\u001b[0m     cv2\u001b[38;5;241m.\u001b[39mcircle(img, (x,y), \u001b[38;5;241m20\u001b[39m, (\u001b[38;5;241m255\u001b[39m,\u001b[38;5;241m0\u001b[39m,\u001b[38;5;241m0\u001b[39m), \u001b[38;5;241m-\u001b[39m\u001b[38;5;241m1\u001b[39m)\n",
      "\u001b[1;31mAttributeError\u001b[0m: module 'cv2' has no attribute 'EVENT_LBUTTONDBCLK'"
     ]
    },
    {
     "ename": "AttributeError",
     "evalue": "module 'cv2' has no attribute 'EVENT_LBUTTONDBCLK'",
     "output_type": "error",
     "traceback": [
      "\u001b[1;31m---------------------------------------------------------------------------\u001b[0m",
      "\u001b[1;31mAttributeError\u001b[0m                            Traceback (most recent call last)",
      "Cell \u001b[1;32mIn[6], line 12\u001b[0m, in \u001b[0;36mdraw_circle\u001b[1;34m(event, x, y, flags, param)\u001b[0m\n\u001b[0;32m     10\u001b[0m \u001b[38;5;28;01melif\u001b[39;00m event \u001b[38;5;241m==\u001b[39m cv2\u001b[38;5;241m.\u001b[39mEVENT_RBUTTONDOWN:\n\u001b[0;32m     11\u001b[0m     cv2\u001b[38;5;241m.\u001b[39mcircle(img, (x,y), \u001b[38;5;241m10\u001b[39m, (\u001b[38;5;241m255\u001b[39m,\u001b[38;5;241m0\u001b[39m,\u001b[38;5;241m0\u001b[39m), \u001b[38;5;241m2\u001b[39m)\n\u001b[1;32m---> 12\u001b[0m \u001b[38;5;28;01melif\u001b[39;00m event \u001b[38;5;241m==\u001b[39m \u001b[43mcv2\u001b[49m\u001b[38;5;241;43m.\u001b[39;49m\u001b[43mEVENT_LBUTTONDBCLK\u001b[49m:\n\u001b[0;32m     13\u001b[0m     cv2\u001b[38;5;241m.\u001b[39mcircle(img, (x,y), \u001b[38;5;241m20\u001b[39m, (\u001b[38;5;241m255\u001b[39m,\u001b[38;5;241m0\u001b[39m,\u001b[38;5;241m0\u001b[39m), \u001b[38;5;241m-\u001b[39m\u001b[38;5;241m1\u001b[39m)\n",
      "\u001b[1;31mAttributeError\u001b[0m: module 'cv2' has no attribute 'EVENT_LBUTTONDBCLK'"
     ]
    },
    {
     "ename": "AttributeError",
     "evalue": "module 'cv2' has no attribute 'EVENT_LBUTTONDBCLK'",
     "output_type": "error",
     "traceback": [
      "\u001b[1;31m---------------------------------------------------------------------------\u001b[0m",
      "\u001b[1;31mAttributeError\u001b[0m                            Traceback (most recent call last)",
      "Cell \u001b[1;32mIn[6], line 12\u001b[0m, in \u001b[0;36mdraw_circle\u001b[1;34m(event, x, y, flags, param)\u001b[0m\n\u001b[0;32m     10\u001b[0m \u001b[38;5;28;01melif\u001b[39;00m event \u001b[38;5;241m==\u001b[39m cv2\u001b[38;5;241m.\u001b[39mEVENT_RBUTTONDOWN:\n\u001b[0;32m     11\u001b[0m     cv2\u001b[38;5;241m.\u001b[39mcircle(img, (x,y), \u001b[38;5;241m10\u001b[39m, (\u001b[38;5;241m255\u001b[39m,\u001b[38;5;241m0\u001b[39m,\u001b[38;5;241m0\u001b[39m), \u001b[38;5;241m2\u001b[39m)\n\u001b[1;32m---> 12\u001b[0m \u001b[38;5;28;01melif\u001b[39;00m event \u001b[38;5;241m==\u001b[39m \u001b[43mcv2\u001b[49m\u001b[38;5;241;43m.\u001b[39;49m\u001b[43mEVENT_LBUTTONDBCLK\u001b[49m:\n\u001b[0;32m     13\u001b[0m     cv2\u001b[38;5;241m.\u001b[39mcircle(img, (x,y), \u001b[38;5;241m20\u001b[39m, (\u001b[38;5;241m255\u001b[39m,\u001b[38;5;241m0\u001b[39m,\u001b[38;5;241m0\u001b[39m), \u001b[38;5;241m-\u001b[39m\u001b[38;5;241m1\u001b[39m)\n",
      "\u001b[1;31mAttributeError\u001b[0m: module 'cv2' has no attribute 'EVENT_LBUTTONDBCLK'"
     ]
    },
    {
     "ename": "AttributeError",
     "evalue": "module 'cv2' has no attribute 'EVENT_LBUTTONDBCLK'",
     "output_type": "error",
     "traceback": [
      "\u001b[1;31m---------------------------------------------------------------------------\u001b[0m",
      "\u001b[1;31mAttributeError\u001b[0m                            Traceback (most recent call last)",
      "Cell \u001b[1;32mIn[6], line 12\u001b[0m, in \u001b[0;36mdraw_circle\u001b[1;34m(event, x, y, flags, param)\u001b[0m\n\u001b[0;32m     10\u001b[0m \u001b[38;5;28;01melif\u001b[39;00m event \u001b[38;5;241m==\u001b[39m cv2\u001b[38;5;241m.\u001b[39mEVENT_RBUTTONDOWN:\n\u001b[0;32m     11\u001b[0m     cv2\u001b[38;5;241m.\u001b[39mcircle(img, (x,y), \u001b[38;5;241m10\u001b[39m, (\u001b[38;5;241m255\u001b[39m,\u001b[38;5;241m0\u001b[39m,\u001b[38;5;241m0\u001b[39m), \u001b[38;5;241m2\u001b[39m)\n\u001b[1;32m---> 12\u001b[0m \u001b[38;5;28;01melif\u001b[39;00m event \u001b[38;5;241m==\u001b[39m \u001b[43mcv2\u001b[49m\u001b[38;5;241;43m.\u001b[39;49m\u001b[43mEVENT_LBUTTONDBCLK\u001b[49m:\n\u001b[0;32m     13\u001b[0m     cv2\u001b[38;5;241m.\u001b[39mcircle(img, (x,y), \u001b[38;5;241m20\u001b[39m, (\u001b[38;5;241m255\u001b[39m,\u001b[38;5;241m0\u001b[39m,\u001b[38;5;241m0\u001b[39m), \u001b[38;5;241m-\u001b[39m\u001b[38;5;241m1\u001b[39m)\n",
      "\u001b[1;31mAttributeError\u001b[0m: module 'cv2' has no attribute 'EVENT_LBUTTONDBCLK'"
     ]
    },
    {
     "ename": "AttributeError",
     "evalue": "module 'cv2' has no attribute 'EVENT_LBUTTONDBCLK'",
     "output_type": "error",
     "traceback": [
      "\u001b[1;31m---------------------------------------------------------------------------\u001b[0m",
      "\u001b[1;31mAttributeError\u001b[0m                            Traceback (most recent call last)",
      "Cell \u001b[1;32mIn[6], line 12\u001b[0m, in \u001b[0;36mdraw_circle\u001b[1;34m(event, x, y, flags, param)\u001b[0m\n\u001b[0;32m     10\u001b[0m \u001b[38;5;28;01melif\u001b[39;00m event \u001b[38;5;241m==\u001b[39m cv2\u001b[38;5;241m.\u001b[39mEVENT_RBUTTONDOWN:\n\u001b[0;32m     11\u001b[0m     cv2\u001b[38;5;241m.\u001b[39mcircle(img, (x,y), \u001b[38;5;241m10\u001b[39m, (\u001b[38;5;241m255\u001b[39m,\u001b[38;5;241m0\u001b[39m,\u001b[38;5;241m0\u001b[39m), \u001b[38;5;241m2\u001b[39m)\n\u001b[1;32m---> 12\u001b[0m \u001b[38;5;28;01melif\u001b[39;00m event \u001b[38;5;241m==\u001b[39m \u001b[43mcv2\u001b[49m\u001b[38;5;241;43m.\u001b[39;49m\u001b[43mEVENT_LBUTTONDBCLK\u001b[49m:\n\u001b[0;32m     13\u001b[0m     cv2\u001b[38;5;241m.\u001b[39mcircle(img, (x,y), \u001b[38;5;241m20\u001b[39m, (\u001b[38;5;241m255\u001b[39m,\u001b[38;5;241m0\u001b[39m,\u001b[38;5;241m0\u001b[39m), \u001b[38;5;241m-\u001b[39m\u001b[38;5;241m1\u001b[39m)\n",
      "\u001b[1;31mAttributeError\u001b[0m: module 'cv2' has no attribute 'EVENT_LBUTTONDBCLK'"
     ]
    },
    {
     "ename": "AttributeError",
     "evalue": "module 'cv2' has no attribute 'EVENT_LBUTTONDBCLK'",
     "output_type": "error",
     "traceback": [
      "\u001b[1;31m---------------------------------------------------------------------------\u001b[0m",
      "\u001b[1;31mAttributeError\u001b[0m                            Traceback (most recent call last)",
      "Cell \u001b[1;32mIn[6], line 12\u001b[0m, in \u001b[0;36mdraw_circle\u001b[1;34m(event, x, y, flags, param)\u001b[0m\n\u001b[0;32m     10\u001b[0m \u001b[38;5;28;01melif\u001b[39;00m event \u001b[38;5;241m==\u001b[39m cv2\u001b[38;5;241m.\u001b[39mEVENT_RBUTTONDOWN:\n\u001b[0;32m     11\u001b[0m     cv2\u001b[38;5;241m.\u001b[39mcircle(img, (x,y), \u001b[38;5;241m10\u001b[39m, (\u001b[38;5;241m255\u001b[39m,\u001b[38;5;241m0\u001b[39m,\u001b[38;5;241m0\u001b[39m), \u001b[38;5;241m2\u001b[39m)\n\u001b[1;32m---> 12\u001b[0m \u001b[38;5;28;01melif\u001b[39;00m event \u001b[38;5;241m==\u001b[39m \u001b[43mcv2\u001b[49m\u001b[38;5;241;43m.\u001b[39;49m\u001b[43mEVENT_LBUTTONDBCLK\u001b[49m:\n\u001b[0;32m     13\u001b[0m     cv2\u001b[38;5;241m.\u001b[39mcircle(img, (x,y), \u001b[38;5;241m20\u001b[39m, (\u001b[38;5;241m255\u001b[39m,\u001b[38;5;241m0\u001b[39m,\u001b[38;5;241m0\u001b[39m), \u001b[38;5;241m-\u001b[39m\u001b[38;5;241m1\u001b[39m)\n",
      "\u001b[1;31mAttributeError\u001b[0m: module 'cv2' has no attribute 'EVENT_LBUTTONDBCLK'"
     ]
    },
    {
     "ename": "AttributeError",
     "evalue": "module 'cv2' has no attribute 'EVENT_LBUTTONDBCLK'",
     "output_type": "error",
     "traceback": [
      "\u001b[1;31m---------------------------------------------------------------------------\u001b[0m",
      "\u001b[1;31mAttributeError\u001b[0m                            Traceback (most recent call last)",
      "Cell \u001b[1;32mIn[6], line 12\u001b[0m, in \u001b[0;36mdraw_circle\u001b[1;34m(event, x, y, flags, param)\u001b[0m\n\u001b[0;32m     10\u001b[0m \u001b[38;5;28;01melif\u001b[39;00m event \u001b[38;5;241m==\u001b[39m cv2\u001b[38;5;241m.\u001b[39mEVENT_RBUTTONDOWN:\n\u001b[0;32m     11\u001b[0m     cv2\u001b[38;5;241m.\u001b[39mcircle(img, (x,y), \u001b[38;5;241m10\u001b[39m, (\u001b[38;5;241m255\u001b[39m,\u001b[38;5;241m0\u001b[39m,\u001b[38;5;241m0\u001b[39m), \u001b[38;5;241m2\u001b[39m)\n\u001b[1;32m---> 12\u001b[0m \u001b[38;5;28;01melif\u001b[39;00m event \u001b[38;5;241m==\u001b[39m \u001b[43mcv2\u001b[49m\u001b[38;5;241;43m.\u001b[39;49m\u001b[43mEVENT_LBUTTONDBCLK\u001b[49m:\n\u001b[0;32m     13\u001b[0m     cv2\u001b[38;5;241m.\u001b[39mcircle(img, (x,y), \u001b[38;5;241m20\u001b[39m, (\u001b[38;5;241m255\u001b[39m,\u001b[38;5;241m0\u001b[39m,\u001b[38;5;241m0\u001b[39m), \u001b[38;5;241m-\u001b[39m\u001b[38;5;241m1\u001b[39m)\n",
      "\u001b[1;31mAttributeError\u001b[0m: module 'cv2' has no attribute 'EVENT_LBUTTONDBCLK'"
     ]
    },
    {
     "ename": "AttributeError",
     "evalue": "module 'cv2' has no attribute 'EVENT_LBUTTONDBCLK'",
     "output_type": "error",
     "traceback": [
      "\u001b[1;31m---------------------------------------------------------------------------\u001b[0m",
      "\u001b[1;31mAttributeError\u001b[0m                            Traceback (most recent call last)",
      "Cell \u001b[1;32mIn[6], line 12\u001b[0m, in \u001b[0;36mdraw_circle\u001b[1;34m(event, x, y, flags, param)\u001b[0m\n\u001b[0;32m     10\u001b[0m \u001b[38;5;28;01melif\u001b[39;00m event \u001b[38;5;241m==\u001b[39m cv2\u001b[38;5;241m.\u001b[39mEVENT_RBUTTONDOWN:\n\u001b[0;32m     11\u001b[0m     cv2\u001b[38;5;241m.\u001b[39mcircle(img, (x,y), \u001b[38;5;241m10\u001b[39m, (\u001b[38;5;241m255\u001b[39m,\u001b[38;5;241m0\u001b[39m,\u001b[38;5;241m0\u001b[39m), \u001b[38;5;241m2\u001b[39m)\n\u001b[1;32m---> 12\u001b[0m \u001b[38;5;28;01melif\u001b[39;00m event \u001b[38;5;241m==\u001b[39m \u001b[43mcv2\u001b[49m\u001b[38;5;241;43m.\u001b[39;49m\u001b[43mEVENT_LBUTTONDBCLK\u001b[49m:\n\u001b[0;32m     13\u001b[0m     cv2\u001b[38;5;241m.\u001b[39mcircle(img, (x,y), \u001b[38;5;241m20\u001b[39m, (\u001b[38;5;241m255\u001b[39m,\u001b[38;5;241m0\u001b[39m,\u001b[38;5;241m0\u001b[39m), \u001b[38;5;241m-\u001b[39m\u001b[38;5;241m1\u001b[39m)\n",
      "\u001b[1;31mAttributeError\u001b[0m: module 'cv2' has no attribute 'EVENT_LBUTTONDBCLK'"
     ]
    },
    {
     "ename": "AttributeError",
     "evalue": "module 'cv2' has no attribute 'EVENT_LBUTTONDBCLK'",
     "output_type": "error",
     "traceback": [
      "\u001b[1;31m---------------------------------------------------------------------------\u001b[0m",
      "\u001b[1;31mAttributeError\u001b[0m                            Traceback (most recent call last)",
      "Cell \u001b[1;32mIn[6], line 12\u001b[0m, in \u001b[0;36mdraw_circle\u001b[1;34m(event, x, y, flags, param)\u001b[0m\n\u001b[0;32m     10\u001b[0m \u001b[38;5;28;01melif\u001b[39;00m event \u001b[38;5;241m==\u001b[39m cv2\u001b[38;5;241m.\u001b[39mEVENT_RBUTTONDOWN:\n\u001b[0;32m     11\u001b[0m     cv2\u001b[38;5;241m.\u001b[39mcircle(img, (x,y), \u001b[38;5;241m10\u001b[39m, (\u001b[38;5;241m255\u001b[39m,\u001b[38;5;241m0\u001b[39m,\u001b[38;5;241m0\u001b[39m), \u001b[38;5;241m2\u001b[39m)\n\u001b[1;32m---> 12\u001b[0m \u001b[38;5;28;01melif\u001b[39;00m event \u001b[38;5;241m==\u001b[39m \u001b[43mcv2\u001b[49m\u001b[38;5;241;43m.\u001b[39;49m\u001b[43mEVENT_LBUTTONDBCLK\u001b[49m:\n\u001b[0;32m     13\u001b[0m     cv2\u001b[38;5;241m.\u001b[39mcircle(img, (x,y), \u001b[38;5;241m20\u001b[39m, (\u001b[38;5;241m255\u001b[39m,\u001b[38;5;241m0\u001b[39m,\u001b[38;5;241m0\u001b[39m), \u001b[38;5;241m-\u001b[39m\u001b[38;5;241m1\u001b[39m)\n",
      "\u001b[1;31mAttributeError\u001b[0m: module 'cv2' has no attribute 'EVENT_LBUTTONDBCLK'"
     ]
    },
    {
     "ename": "AttributeError",
     "evalue": "module 'cv2' has no attribute 'EVENT_LBUTTONDBCLK'",
     "output_type": "error",
     "traceback": [
      "\u001b[1;31m---------------------------------------------------------------------------\u001b[0m",
      "\u001b[1;31mAttributeError\u001b[0m                            Traceback (most recent call last)",
      "Cell \u001b[1;32mIn[6], line 12\u001b[0m, in \u001b[0;36mdraw_circle\u001b[1;34m(event, x, y, flags, param)\u001b[0m\n\u001b[0;32m     10\u001b[0m \u001b[38;5;28;01melif\u001b[39;00m event \u001b[38;5;241m==\u001b[39m cv2\u001b[38;5;241m.\u001b[39mEVENT_RBUTTONDOWN:\n\u001b[0;32m     11\u001b[0m     cv2\u001b[38;5;241m.\u001b[39mcircle(img, (x,y), \u001b[38;5;241m10\u001b[39m, (\u001b[38;5;241m255\u001b[39m,\u001b[38;5;241m0\u001b[39m,\u001b[38;5;241m0\u001b[39m), \u001b[38;5;241m2\u001b[39m)\n\u001b[1;32m---> 12\u001b[0m \u001b[38;5;28;01melif\u001b[39;00m event \u001b[38;5;241m==\u001b[39m \u001b[43mcv2\u001b[49m\u001b[38;5;241;43m.\u001b[39;49m\u001b[43mEVENT_LBUTTONDBCLK\u001b[49m:\n\u001b[0;32m     13\u001b[0m     cv2\u001b[38;5;241m.\u001b[39mcircle(img, (x,y), \u001b[38;5;241m20\u001b[39m, (\u001b[38;5;241m255\u001b[39m,\u001b[38;5;241m0\u001b[39m,\u001b[38;5;241m0\u001b[39m), \u001b[38;5;241m-\u001b[39m\u001b[38;5;241m1\u001b[39m)\n",
      "\u001b[1;31mAttributeError\u001b[0m: module 'cv2' has no attribute 'EVENT_LBUTTONDBCLK'"
     ]
    },
    {
     "ename": "AttributeError",
     "evalue": "module 'cv2' has no attribute 'EVENT_LBUTTONDBCLK'",
     "output_type": "error",
     "traceback": [
      "\u001b[1;31m---------------------------------------------------------------------------\u001b[0m",
      "\u001b[1;31mAttributeError\u001b[0m                            Traceback (most recent call last)",
      "Cell \u001b[1;32mIn[6], line 12\u001b[0m, in \u001b[0;36mdraw_circle\u001b[1;34m(event, x, y, flags, param)\u001b[0m\n\u001b[0;32m     10\u001b[0m \u001b[38;5;28;01melif\u001b[39;00m event \u001b[38;5;241m==\u001b[39m cv2\u001b[38;5;241m.\u001b[39mEVENT_RBUTTONDOWN:\n\u001b[0;32m     11\u001b[0m     cv2\u001b[38;5;241m.\u001b[39mcircle(img, (x,y), \u001b[38;5;241m10\u001b[39m, (\u001b[38;5;241m255\u001b[39m,\u001b[38;5;241m0\u001b[39m,\u001b[38;5;241m0\u001b[39m), \u001b[38;5;241m2\u001b[39m)\n\u001b[1;32m---> 12\u001b[0m \u001b[38;5;28;01melif\u001b[39;00m event \u001b[38;5;241m==\u001b[39m \u001b[43mcv2\u001b[49m\u001b[38;5;241;43m.\u001b[39;49m\u001b[43mEVENT_LBUTTONDBCLK\u001b[49m:\n\u001b[0;32m     13\u001b[0m     cv2\u001b[38;5;241m.\u001b[39mcircle(img, (x,y), \u001b[38;5;241m20\u001b[39m, (\u001b[38;5;241m255\u001b[39m,\u001b[38;5;241m0\u001b[39m,\u001b[38;5;241m0\u001b[39m), \u001b[38;5;241m-\u001b[39m\u001b[38;5;241m1\u001b[39m)\n",
      "\u001b[1;31mAttributeError\u001b[0m: module 'cv2' has no attribute 'EVENT_LBUTTONDBCLK'"
     ]
    },
    {
     "ename": "AttributeError",
     "evalue": "module 'cv2' has no attribute 'EVENT_LBUTTONDBCLK'",
     "output_type": "error",
     "traceback": [
      "\u001b[1;31m---------------------------------------------------------------------------\u001b[0m",
      "\u001b[1;31mAttributeError\u001b[0m                            Traceback (most recent call last)",
      "Cell \u001b[1;32mIn[6], line 12\u001b[0m, in \u001b[0;36mdraw_circle\u001b[1;34m(event, x, y, flags, param)\u001b[0m\n\u001b[0;32m     10\u001b[0m \u001b[38;5;28;01melif\u001b[39;00m event \u001b[38;5;241m==\u001b[39m cv2\u001b[38;5;241m.\u001b[39mEVENT_RBUTTONDOWN:\n\u001b[0;32m     11\u001b[0m     cv2\u001b[38;5;241m.\u001b[39mcircle(img, (x,y), \u001b[38;5;241m10\u001b[39m, (\u001b[38;5;241m255\u001b[39m,\u001b[38;5;241m0\u001b[39m,\u001b[38;5;241m0\u001b[39m), \u001b[38;5;241m2\u001b[39m)\n\u001b[1;32m---> 12\u001b[0m \u001b[38;5;28;01melif\u001b[39;00m event \u001b[38;5;241m==\u001b[39m \u001b[43mcv2\u001b[49m\u001b[38;5;241;43m.\u001b[39;49m\u001b[43mEVENT_LBUTTONDBCLK\u001b[49m:\n\u001b[0;32m     13\u001b[0m     cv2\u001b[38;5;241m.\u001b[39mcircle(img, (x,y), \u001b[38;5;241m20\u001b[39m, (\u001b[38;5;241m255\u001b[39m,\u001b[38;5;241m0\u001b[39m,\u001b[38;5;241m0\u001b[39m), \u001b[38;5;241m-\u001b[39m\u001b[38;5;241m1\u001b[39m)\n",
      "\u001b[1;31mAttributeError\u001b[0m: module 'cv2' has no attribute 'EVENT_LBUTTONDBCLK'"
     ]
    },
    {
     "ename": "AttributeError",
     "evalue": "module 'cv2' has no attribute 'EVENT_LBUTTONDBCLK'",
     "output_type": "error",
     "traceback": [
      "\u001b[1;31m---------------------------------------------------------------------------\u001b[0m",
      "\u001b[1;31mAttributeError\u001b[0m                            Traceback (most recent call last)",
      "Cell \u001b[1;32mIn[6], line 12\u001b[0m, in \u001b[0;36mdraw_circle\u001b[1;34m(event, x, y, flags, param)\u001b[0m\n\u001b[0;32m     10\u001b[0m \u001b[38;5;28;01melif\u001b[39;00m event \u001b[38;5;241m==\u001b[39m cv2\u001b[38;5;241m.\u001b[39mEVENT_RBUTTONDOWN:\n\u001b[0;32m     11\u001b[0m     cv2\u001b[38;5;241m.\u001b[39mcircle(img, (x,y), \u001b[38;5;241m10\u001b[39m, (\u001b[38;5;241m255\u001b[39m,\u001b[38;5;241m0\u001b[39m,\u001b[38;5;241m0\u001b[39m), \u001b[38;5;241m2\u001b[39m)\n\u001b[1;32m---> 12\u001b[0m \u001b[38;5;28;01melif\u001b[39;00m event \u001b[38;5;241m==\u001b[39m \u001b[43mcv2\u001b[49m\u001b[38;5;241;43m.\u001b[39;49m\u001b[43mEVENT_LBUTTONDBCLK\u001b[49m:\n\u001b[0;32m     13\u001b[0m     cv2\u001b[38;5;241m.\u001b[39mcircle(img, (x,y), \u001b[38;5;241m20\u001b[39m, (\u001b[38;5;241m255\u001b[39m,\u001b[38;5;241m0\u001b[39m,\u001b[38;5;241m0\u001b[39m), \u001b[38;5;241m-\u001b[39m\u001b[38;5;241m1\u001b[39m)\n",
      "\u001b[1;31mAttributeError\u001b[0m: module 'cv2' has no attribute 'EVENT_LBUTTONDBCLK'"
     ]
    },
    {
     "ename": "AttributeError",
     "evalue": "module 'cv2' has no attribute 'EVENT_LBUTTONDBCLK'",
     "output_type": "error",
     "traceback": [
      "\u001b[1;31m---------------------------------------------------------------------------\u001b[0m",
      "\u001b[1;31mAttributeError\u001b[0m                            Traceback (most recent call last)",
      "Cell \u001b[1;32mIn[6], line 12\u001b[0m, in \u001b[0;36mdraw_circle\u001b[1;34m(event, x, y, flags, param)\u001b[0m\n\u001b[0;32m     10\u001b[0m \u001b[38;5;28;01melif\u001b[39;00m event \u001b[38;5;241m==\u001b[39m cv2\u001b[38;5;241m.\u001b[39mEVENT_RBUTTONDOWN:\n\u001b[0;32m     11\u001b[0m     cv2\u001b[38;5;241m.\u001b[39mcircle(img, (x,y), \u001b[38;5;241m10\u001b[39m, (\u001b[38;5;241m255\u001b[39m,\u001b[38;5;241m0\u001b[39m,\u001b[38;5;241m0\u001b[39m), \u001b[38;5;241m2\u001b[39m)\n\u001b[1;32m---> 12\u001b[0m \u001b[38;5;28;01melif\u001b[39;00m event \u001b[38;5;241m==\u001b[39m \u001b[43mcv2\u001b[49m\u001b[38;5;241;43m.\u001b[39;49m\u001b[43mEVENT_LBUTTONDBCLK\u001b[49m:\n\u001b[0;32m     13\u001b[0m     cv2\u001b[38;5;241m.\u001b[39mcircle(img, (x,y), \u001b[38;5;241m20\u001b[39m, (\u001b[38;5;241m255\u001b[39m,\u001b[38;5;241m0\u001b[39m,\u001b[38;5;241m0\u001b[39m), \u001b[38;5;241m-\u001b[39m\u001b[38;5;241m1\u001b[39m)\n",
      "\u001b[1;31mAttributeError\u001b[0m: module 'cv2' has no attribute 'EVENT_LBUTTONDBCLK'"
     ]
    },
    {
     "ename": "AttributeError",
     "evalue": "module 'cv2' has no attribute 'EVENT_LBUTTONDBCLK'",
     "output_type": "error",
     "traceback": [
      "\u001b[1;31m---------------------------------------------------------------------------\u001b[0m",
      "\u001b[1;31mAttributeError\u001b[0m                            Traceback (most recent call last)",
      "Cell \u001b[1;32mIn[6], line 12\u001b[0m, in \u001b[0;36mdraw_circle\u001b[1;34m(event, x, y, flags, param)\u001b[0m\n\u001b[0;32m     10\u001b[0m \u001b[38;5;28;01melif\u001b[39;00m event \u001b[38;5;241m==\u001b[39m cv2\u001b[38;5;241m.\u001b[39mEVENT_RBUTTONDOWN:\n\u001b[0;32m     11\u001b[0m     cv2\u001b[38;5;241m.\u001b[39mcircle(img, (x,y), \u001b[38;5;241m10\u001b[39m, (\u001b[38;5;241m255\u001b[39m,\u001b[38;5;241m0\u001b[39m,\u001b[38;5;241m0\u001b[39m), \u001b[38;5;241m2\u001b[39m)\n\u001b[1;32m---> 12\u001b[0m \u001b[38;5;28;01melif\u001b[39;00m event \u001b[38;5;241m==\u001b[39m \u001b[43mcv2\u001b[49m\u001b[38;5;241;43m.\u001b[39;49m\u001b[43mEVENT_LBUTTONDBCLK\u001b[49m:\n\u001b[0;32m     13\u001b[0m     cv2\u001b[38;5;241m.\u001b[39mcircle(img, (x,y), \u001b[38;5;241m20\u001b[39m, (\u001b[38;5;241m255\u001b[39m,\u001b[38;5;241m0\u001b[39m,\u001b[38;5;241m0\u001b[39m), \u001b[38;5;241m-\u001b[39m\u001b[38;5;241m1\u001b[39m)\n",
      "\u001b[1;31mAttributeError\u001b[0m: module 'cv2' has no attribute 'EVENT_LBUTTONDBCLK'"
     ]
    },
    {
     "ename": "AttributeError",
     "evalue": "module 'cv2' has no attribute 'EVENT_LBUTTONDBCLK'",
     "output_type": "error",
     "traceback": [
      "\u001b[1;31m---------------------------------------------------------------------------\u001b[0m",
      "\u001b[1;31mAttributeError\u001b[0m                            Traceback (most recent call last)",
      "Cell \u001b[1;32mIn[6], line 12\u001b[0m, in \u001b[0;36mdraw_circle\u001b[1;34m(event, x, y, flags, param)\u001b[0m\n\u001b[0;32m     10\u001b[0m \u001b[38;5;28;01melif\u001b[39;00m event \u001b[38;5;241m==\u001b[39m cv2\u001b[38;5;241m.\u001b[39mEVENT_RBUTTONDOWN:\n\u001b[0;32m     11\u001b[0m     cv2\u001b[38;5;241m.\u001b[39mcircle(img, (x,y), \u001b[38;5;241m10\u001b[39m, (\u001b[38;5;241m255\u001b[39m,\u001b[38;5;241m0\u001b[39m,\u001b[38;5;241m0\u001b[39m), \u001b[38;5;241m2\u001b[39m)\n\u001b[1;32m---> 12\u001b[0m \u001b[38;5;28;01melif\u001b[39;00m event \u001b[38;5;241m==\u001b[39m \u001b[43mcv2\u001b[49m\u001b[38;5;241;43m.\u001b[39;49m\u001b[43mEVENT_LBUTTONDBCLK\u001b[49m:\n\u001b[0;32m     13\u001b[0m     cv2\u001b[38;5;241m.\u001b[39mcircle(img, (x,y), \u001b[38;5;241m20\u001b[39m, (\u001b[38;5;241m255\u001b[39m,\u001b[38;5;241m0\u001b[39m,\u001b[38;5;241m0\u001b[39m), \u001b[38;5;241m-\u001b[39m\u001b[38;5;241m1\u001b[39m)\n",
      "\u001b[1;31mAttributeError\u001b[0m: module 'cv2' has no attribute 'EVENT_LBUTTONDBCLK'"
     ]
    },
    {
     "ename": "AttributeError",
     "evalue": "module 'cv2' has no attribute 'EVENT_LBUTTONDBCLK'",
     "output_type": "error",
     "traceback": [
      "\u001b[1;31m---------------------------------------------------------------------------\u001b[0m",
      "\u001b[1;31mAttributeError\u001b[0m                            Traceback (most recent call last)",
      "Cell \u001b[1;32mIn[6], line 12\u001b[0m, in \u001b[0;36mdraw_circle\u001b[1;34m(event, x, y, flags, param)\u001b[0m\n\u001b[0;32m     10\u001b[0m \u001b[38;5;28;01melif\u001b[39;00m event \u001b[38;5;241m==\u001b[39m cv2\u001b[38;5;241m.\u001b[39mEVENT_RBUTTONDOWN:\n\u001b[0;32m     11\u001b[0m     cv2\u001b[38;5;241m.\u001b[39mcircle(img, (x,y), \u001b[38;5;241m10\u001b[39m, (\u001b[38;5;241m255\u001b[39m,\u001b[38;5;241m0\u001b[39m,\u001b[38;5;241m0\u001b[39m), \u001b[38;5;241m2\u001b[39m)\n\u001b[1;32m---> 12\u001b[0m \u001b[38;5;28;01melif\u001b[39;00m event \u001b[38;5;241m==\u001b[39m \u001b[43mcv2\u001b[49m\u001b[38;5;241;43m.\u001b[39;49m\u001b[43mEVENT_LBUTTONDBCLK\u001b[49m:\n\u001b[0;32m     13\u001b[0m     cv2\u001b[38;5;241m.\u001b[39mcircle(img, (x,y), \u001b[38;5;241m20\u001b[39m, (\u001b[38;5;241m255\u001b[39m,\u001b[38;5;241m0\u001b[39m,\u001b[38;5;241m0\u001b[39m), \u001b[38;5;241m-\u001b[39m\u001b[38;5;241m1\u001b[39m)\n",
      "\u001b[1;31mAttributeError\u001b[0m: module 'cv2' has no attribute 'EVENT_LBUTTONDBCLK'"
     ]
    },
    {
     "ename": "AttributeError",
     "evalue": "module 'cv2' has no attribute 'EVENT_LBUTTONDBCLK'",
     "output_type": "error",
     "traceback": [
      "\u001b[1;31m---------------------------------------------------------------------------\u001b[0m",
      "\u001b[1;31mAttributeError\u001b[0m                            Traceback (most recent call last)",
      "Cell \u001b[1;32mIn[6], line 12\u001b[0m, in \u001b[0;36mdraw_circle\u001b[1;34m(event, x, y, flags, param)\u001b[0m\n\u001b[0;32m     10\u001b[0m \u001b[38;5;28;01melif\u001b[39;00m event \u001b[38;5;241m==\u001b[39m cv2\u001b[38;5;241m.\u001b[39mEVENT_RBUTTONDOWN:\n\u001b[0;32m     11\u001b[0m     cv2\u001b[38;5;241m.\u001b[39mcircle(img, (x,y), \u001b[38;5;241m10\u001b[39m, (\u001b[38;5;241m255\u001b[39m,\u001b[38;5;241m0\u001b[39m,\u001b[38;5;241m0\u001b[39m), \u001b[38;5;241m2\u001b[39m)\n\u001b[1;32m---> 12\u001b[0m \u001b[38;5;28;01melif\u001b[39;00m event \u001b[38;5;241m==\u001b[39m \u001b[43mcv2\u001b[49m\u001b[38;5;241;43m.\u001b[39;49m\u001b[43mEVENT_LBUTTONDBCLK\u001b[49m:\n\u001b[0;32m     13\u001b[0m     cv2\u001b[38;5;241m.\u001b[39mcircle(img, (x,y), \u001b[38;5;241m20\u001b[39m, (\u001b[38;5;241m255\u001b[39m,\u001b[38;5;241m0\u001b[39m,\u001b[38;5;241m0\u001b[39m), \u001b[38;5;241m-\u001b[39m\u001b[38;5;241m1\u001b[39m)\n",
      "\u001b[1;31mAttributeError\u001b[0m: module 'cv2' has no attribute 'EVENT_LBUTTONDBCLK'"
     ]
    },
    {
     "ename": "AttributeError",
     "evalue": "module 'cv2' has no attribute 'EVENT_LBUTTONDBCLK'",
     "output_type": "error",
     "traceback": [
      "\u001b[1;31m---------------------------------------------------------------------------\u001b[0m",
      "\u001b[1;31mAttributeError\u001b[0m                            Traceback (most recent call last)",
      "Cell \u001b[1;32mIn[6], line 12\u001b[0m, in \u001b[0;36mdraw_circle\u001b[1;34m(event, x, y, flags, param)\u001b[0m\n\u001b[0;32m     10\u001b[0m \u001b[38;5;28;01melif\u001b[39;00m event \u001b[38;5;241m==\u001b[39m cv2\u001b[38;5;241m.\u001b[39mEVENT_RBUTTONDOWN:\n\u001b[0;32m     11\u001b[0m     cv2\u001b[38;5;241m.\u001b[39mcircle(img, (x,y), \u001b[38;5;241m10\u001b[39m, (\u001b[38;5;241m255\u001b[39m,\u001b[38;5;241m0\u001b[39m,\u001b[38;5;241m0\u001b[39m), \u001b[38;5;241m2\u001b[39m)\n\u001b[1;32m---> 12\u001b[0m \u001b[38;5;28;01melif\u001b[39;00m event \u001b[38;5;241m==\u001b[39m \u001b[43mcv2\u001b[49m\u001b[38;5;241;43m.\u001b[39;49m\u001b[43mEVENT_LBUTTONDBCLK\u001b[49m:\n\u001b[0;32m     13\u001b[0m     cv2\u001b[38;5;241m.\u001b[39mcircle(img, (x,y), \u001b[38;5;241m20\u001b[39m, (\u001b[38;5;241m255\u001b[39m,\u001b[38;5;241m0\u001b[39m,\u001b[38;5;241m0\u001b[39m), \u001b[38;5;241m-\u001b[39m\u001b[38;5;241m1\u001b[39m)\n",
      "\u001b[1;31mAttributeError\u001b[0m: module 'cv2' has no attribute 'EVENT_LBUTTONDBCLK'"
     ]
    },
    {
     "ename": "AttributeError",
     "evalue": "module 'cv2' has no attribute 'EVENT_LBUTTONDBCLK'",
     "output_type": "error",
     "traceback": [
      "\u001b[1;31m---------------------------------------------------------------------------\u001b[0m",
      "\u001b[1;31mAttributeError\u001b[0m                            Traceback (most recent call last)",
      "Cell \u001b[1;32mIn[6], line 12\u001b[0m, in \u001b[0;36mdraw_circle\u001b[1;34m(event, x, y, flags, param)\u001b[0m\n\u001b[0;32m     10\u001b[0m \u001b[38;5;28;01melif\u001b[39;00m event \u001b[38;5;241m==\u001b[39m cv2\u001b[38;5;241m.\u001b[39mEVENT_RBUTTONDOWN:\n\u001b[0;32m     11\u001b[0m     cv2\u001b[38;5;241m.\u001b[39mcircle(img, (x,y), \u001b[38;5;241m10\u001b[39m, (\u001b[38;5;241m255\u001b[39m,\u001b[38;5;241m0\u001b[39m,\u001b[38;5;241m0\u001b[39m), \u001b[38;5;241m2\u001b[39m)\n\u001b[1;32m---> 12\u001b[0m \u001b[38;5;28;01melif\u001b[39;00m event \u001b[38;5;241m==\u001b[39m \u001b[43mcv2\u001b[49m\u001b[38;5;241;43m.\u001b[39;49m\u001b[43mEVENT_LBUTTONDBCLK\u001b[49m:\n\u001b[0;32m     13\u001b[0m     cv2\u001b[38;5;241m.\u001b[39mcircle(img, (x,y), \u001b[38;5;241m20\u001b[39m, (\u001b[38;5;241m255\u001b[39m,\u001b[38;5;241m0\u001b[39m,\u001b[38;5;241m0\u001b[39m), \u001b[38;5;241m-\u001b[39m\u001b[38;5;241m1\u001b[39m)\n",
      "\u001b[1;31mAttributeError\u001b[0m: module 'cv2' has no attribute 'EVENT_LBUTTONDBCLK'"
     ]
    },
    {
     "ename": "AttributeError",
     "evalue": "module 'cv2' has no attribute 'EVENT_LBUTTONDBCLK'",
     "output_type": "error",
     "traceback": [
      "\u001b[1;31m---------------------------------------------------------------------------\u001b[0m",
      "\u001b[1;31mAttributeError\u001b[0m                            Traceback (most recent call last)",
      "Cell \u001b[1;32mIn[6], line 12\u001b[0m, in \u001b[0;36mdraw_circle\u001b[1;34m(event, x, y, flags, param)\u001b[0m\n\u001b[0;32m     10\u001b[0m \u001b[38;5;28;01melif\u001b[39;00m event \u001b[38;5;241m==\u001b[39m cv2\u001b[38;5;241m.\u001b[39mEVENT_RBUTTONDOWN:\n\u001b[0;32m     11\u001b[0m     cv2\u001b[38;5;241m.\u001b[39mcircle(img, (x,y), \u001b[38;5;241m10\u001b[39m, (\u001b[38;5;241m255\u001b[39m,\u001b[38;5;241m0\u001b[39m,\u001b[38;5;241m0\u001b[39m), \u001b[38;5;241m2\u001b[39m)\n\u001b[1;32m---> 12\u001b[0m \u001b[38;5;28;01melif\u001b[39;00m event \u001b[38;5;241m==\u001b[39m \u001b[43mcv2\u001b[49m\u001b[38;5;241;43m.\u001b[39;49m\u001b[43mEVENT_LBUTTONDBCLK\u001b[49m:\n\u001b[0;32m     13\u001b[0m     cv2\u001b[38;5;241m.\u001b[39mcircle(img, (x,y), \u001b[38;5;241m20\u001b[39m, (\u001b[38;5;241m255\u001b[39m,\u001b[38;5;241m0\u001b[39m,\u001b[38;5;241m0\u001b[39m), \u001b[38;5;241m-\u001b[39m\u001b[38;5;241m1\u001b[39m)\n",
      "\u001b[1;31mAttributeError\u001b[0m: module 'cv2' has no attribute 'EVENT_LBUTTONDBCLK'"
     ]
    },
    {
     "ename": "AttributeError",
     "evalue": "module 'cv2' has no attribute 'EVENT_LBUTTONDBCLK'",
     "output_type": "error",
     "traceback": [
      "\u001b[1;31m---------------------------------------------------------------------------\u001b[0m",
      "\u001b[1;31mAttributeError\u001b[0m                            Traceback (most recent call last)",
      "Cell \u001b[1;32mIn[6], line 12\u001b[0m, in \u001b[0;36mdraw_circle\u001b[1;34m(event, x, y, flags, param)\u001b[0m\n\u001b[0;32m     10\u001b[0m \u001b[38;5;28;01melif\u001b[39;00m event \u001b[38;5;241m==\u001b[39m cv2\u001b[38;5;241m.\u001b[39mEVENT_RBUTTONDOWN:\n\u001b[0;32m     11\u001b[0m     cv2\u001b[38;5;241m.\u001b[39mcircle(img, (x,y), \u001b[38;5;241m10\u001b[39m, (\u001b[38;5;241m255\u001b[39m,\u001b[38;5;241m0\u001b[39m,\u001b[38;5;241m0\u001b[39m), \u001b[38;5;241m2\u001b[39m)\n\u001b[1;32m---> 12\u001b[0m \u001b[38;5;28;01melif\u001b[39;00m event \u001b[38;5;241m==\u001b[39m \u001b[43mcv2\u001b[49m\u001b[38;5;241;43m.\u001b[39;49m\u001b[43mEVENT_LBUTTONDBCLK\u001b[49m:\n\u001b[0;32m     13\u001b[0m     cv2\u001b[38;5;241m.\u001b[39mcircle(img, (x,y), \u001b[38;5;241m20\u001b[39m, (\u001b[38;5;241m255\u001b[39m,\u001b[38;5;241m0\u001b[39m,\u001b[38;5;241m0\u001b[39m), \u001b[38;5;241m-\u001b[39m\u001b[38;5;241m1\u001b[39m)\n",
      "\u001b[1;31mAttributeError\u001b[0m: module 'cv2' has no attribute 'EVENT_LBUTTONDBCLK'"
     ]
    },
    {
     "ename": "AttributeError",
     "evalue": "module 'cv2' has no attribute 'EVENT_LBUTTONDBCLK'",
     "output_type": "error",
     "traceback": [
      "\u001b[1;31m---------------------------------------------------------------------------\u001b[0m",
      "\u001b[1;31mAttributeError\u001b[0m                            Traceback (most recent call last)",
      "Cell \u001b[1;32mIn[6], line 12\u001b[0m, in \u001b[0;36mdraw_circle\u001b[1;34m(event, x, y, flags, param)\u001b[0m\n\u001b[0;32m     10\u001b[0m \u001b[38;5;28;01melif\u001b[39;00m event \u001b[38;5;241m==\u001b[39m cv2\u001b[38;5;241m.\u001b[39mEVENT_RBUTTONDOWN:\n\u001b[0;32m     11\u001b[0m     cv2\u001b[38;5;241m.\u001b[39mcircle(img, (x,y), \u001b[38;5;241m10\u001b[39m, (\u001b[38;5;241m255\u001b[39m,\u001b[38;5;241m0\u001b[39m,\u001b[38;5;241m0\u001b[39m), \u001b[38;5;241m2\u001b[39m)\n\u001b[1;32m---> 12\u001b[0m \u001b[38;5;28;01melif\u001b[39;00m event \u001b[38;5;241m==\u001b[39m \u001b[43mcv2\u001b[49m\u001b[38;5;241;43m.\u001b[39;49m\u001b[43mEVENT_LBUTTONDBCLK\u001b[49m:\n\u001b[0;32m     13\u001b[0m     cv2\u001b[38;5;241m.\u001b[39mcircle(img, (x,y), \u001b[38;5;241m20\u001b[39m, (\u001b[38;5;241m255\u001b[39m,\u001b[38;5;241m0\u001b[39m,\u001b[38;5;241m0\u001b[39m), \u001b[38;5;241m-\u001b[39m\u001b[38;5;241m1\u001b[39m)\n",
      "\u001b[1;31mAttributeError\u001b[0m: module 'cv2' has no attribute 'EVENT_LBUTTONDBCLK'"
     ]
    },
    {
     "ename": "AttributeError",
     "evalue": "module 'cv2' has no attribute 'EVENT_LBUTTONDBCLK'",
     "output_type": "error",
     "traceback": [
      "\u001b[1;31m---------------------------------------------------------------------------\u001b[0m",
      "\u001b[1;31mAttributeError\u001b[0m                            Traceback (most recent call last)",
      "Cell \u001b[1;32mIn[6], line 12\u001b[0m, in \u001b[0;36mdraw_circle\u001b[1;34m(event, x, y, flags, param)\u001b[0m\n\u001b[0;32m     10\u001b[0m \u001b[38;5;28;01melif\u001b[39;00m event \u001b[38;5;241m==\u001b[39m cv2\u001b[38;5;241m.\u001b[39mEVENT_RBUTTONDOWN:\n\u001b[0;32m     11\u001b[0m     cv2\u001b[38;5;241m.\u001b[39mcircle(img, (x,y), \u001b[38;5;241m10\u001b[39m, (\u001b[38;5;241m255\u001b[39m,\u001b[38;5;241m0\u001b[39m,\u001b[38;5;241m0\u001b[39m), \u001b[38;5;241m2\u001b[39m)\n\u001b[1;32m---> 12\u001b[0m \u001b[38;5;28;01melif\u001b[39;00m event \u001b[38;5;241m==\u001b[39m \u001b[43mcv2\u001b[49m\u001b[38;5;241;43m.\u001b[39;49m\u001b[43mEVENT_LBUTTONDBCLK\u001b[49m:\n\u001b[0;32m     13\u001b[0m     cv2\u001b[38;5;241m.\u001b[39mcircle(img, (x,y), \u001b[38;5;241m20\u001b[39m, (\u001b[38;5;241m255\u001b[39m,\u001b[38;5;241m0\u001b[39m,\u001b[38;5;241m0\u001b[39m), \u001b[38;5;241m-\u001b[39m\u001b[38;5;241m1\u001b[39m)\n",
      "\u001b[1;31mAttributeError\u001b[0m: module 'cv2' has no attribute 'EVENT_LBUTTONDBCLK'"
     ]
    },
    {
     "ename": "AttributeError",
     "evalue": "module 'cv2' has no attribute 'EVENT_LBUTTONDBCLK'",
     "output_type": "error",
     "traceback": [
      "\u001b[1;31m---------------------------------------------------------------------------\u001b[0m",
      "\u001b[1;31mAttributeError\u001b[0m                            Traceback (most recent call last)",
      "Cell \u001b[1;32mIn[6], line 12\u001b[0m, in \u001b[0;36mdraw_circle\u001b[1;34m(event, x, y, flags, param)\u001b[0m\n\u001b[0;32m     10\u001b[0m \u001b[38;5;28;01melif\u001b[39;00m event \u001b[38;5;241m==\u001b[39m cv2\u001b[38;5;241m.\u001b[39mEVENT_RBUTTONDOWN:\n\u001b[0;32m     11\u001b[0m     cv2\u001b[38;5;241m.\u001b[39mcircle(img, (x,y), \u001b[38;5;241m10\u001b[39m, (\u001b[38;5;241m255\u001b[39m,\u001b[38;5;241m0\u001b[39m,\u001b[38;5;241m0\u001b[39m), \u001b[38;5;241m2\u001b[39m)\n\u001b[1;32m---> 12\u001b[0m \u001b[38;5;28;01melif\u001b[39;00m event \u001b[38;5;241m==\u001b[39m \u001b[43mcv2\u001b[49m\u001b[38;5;241;43m.\u001b[39;49m\u001b[43mEVENT_LBUTTONDBCLK\u001b[49m:\n\u001b[0;32m     13\u001b[0m     cv2\u001b[38;5;241m.\u001b[39mcircle(img, (x,y), \u001b[38;5;241m20\u001b[39m, (\u001b[38;5;241m255\u001b[39m,\u001b[38;5;241m0\u001b[39m,\u001b[38;5;241m0\u001b[39m), \u001b[38;5;241m-\u001b[39m\u001b[38;5;241m1\u001b[39m)\n",
      "\u001b[1;31mAttributeError\u001b[0m: module 'cv2' has no attribute 'EVENT_LBUTTONDBCLK'"
     ]
    },
    {
     "ename": "AttributeError",
     "evalue": "module 'cv2' has no attribute 'EVENT_LBUTTONDBCLK'",
     "output_type": "error",
     "traceback": [
      "\u001b[1;31m---------------------------------------------------------------------------\u001b[0m",
      "\u001b[1;31mAttributeError\u001b[0m                            Traceback (most recent call last)",
      "Cell \u001b[1;32mIn[6], line 12\u001b[0m, in \u001b[0;36mdraw_circle\u001b[1;34m(event, x, y, flags, param)\u001b[0m\n\u001b[0;32m     10\u001b[0m \u001b[38;5;28;01melif\u001b[39;00m event \u001b[38;5;241m==\u001b[39m cv2\u001b[38;5;241m.\u001b[39mEVENT_RBUTTONDOWN:\n\u001b[0;32m     11\u001b[0m     cv2\u001b[38;5;241m.\u001b[39mcircle(img, (x,y), \u001b[38;5;241m10\u001b[39m, (\u001b[38;5;241m255\u001b[39m,\u001b[38;5;241m0\u001b[39m,\u001b[38;5;241m0\u001b[39m), \u001b[38;5;241m2\u001b[39m)\n\u001b[1;32m---> 12\u001b[0m \u001b[38;5;28;01melif\u001b[39;00m event \u001b[38;5;241m==\u001b[39m \u001b[43mcv2\u001b[49m\u001b[38;5;241;43m.\u001b[39;49m\u001b[43mEVENT_LBUTTONDBCLK\u001b[49m:\n\u001b[0;32m     13\u001b[0m     cv2\u001b[38;5;241m.\u001b[39mcircle(img, (x,y), \u001b[38;5;241m20\u001b[39m, (\u001b[38;5;241m255\u001b[39m,\u001b[38;5;241m0\u001b[39m,\u001b[38;5;241m0\u001b[39m), \u001b[38;5;241m-\u001b[39m\u001b[38;5;241m1\u001b[39m)\n",
      "\u001b[1;31mAttributeError\u001b[0m: module 'cv2' has no attribute 'EVENT_LBUTTONDBCLK'"
     ]
    },
    {
     "ename": "AttributeError",
     "evalue": "module 'cv2' has no attribute 'EVENT_LBUTTONDBCLK'",
     "output_type": "error",
     "traceback": [
      "\u001b[1;31m---------------------------------------------------------------------------\u001b[0m",
      "\u001b[1;31mAttributeError\u001b[0m                            Traceback (most recent call last)",
      "Cell \u001b[1;32mIn[6], line 12\u001b[0m, in \u001b[0;36mdraw_circle\u001b[1;34m(event, x, y, flags, param)\u001b[0m\n\u001b[0;32m     10\u001b[0m \u001b[38;5;28;01melif\u001b[39;00m event \u001b[38;5;241m==\u001b[39m cv2\u001b[38;5;241m.\u001b[39mEVENT_RBUTTONDOWN:\n\u001b[0;32m     11\u001b[0m     cv2\u001b[38;5;241m.\u001b[39mcircle(img, (x,y), \u001b[38;5;241m10\u001b[39m, (\u001b[38;5;241m255\u001b[39m,\u001b[38;5;241m0\u001b[39m,\u001b[38;5;241m0\u001b[39m), \u001b[38;5;241m2\u001b[39m)\n\u001b[1;32m---> 12\u001b[0m \u001b[38;5;28;01melif\u001b[39;00m event \u001b[38;5;241m==\u001b[39m \u001b[43mcv2\u001b[49m\u001b[38;5;241;43m.\u001b[39;49m\u001b[43mEVENT_LBUTTONDBCLK\u001b[49m:\n\u001b[0;32m     13\u001b[0m     cv2\u001b[38;5;241m.\u001b[39mcircle(img, (x,y), \u001b[38;5;241m20\u001b[39m, (\u001b[38;5;241m255\u001b[39m,\u001b[38;5;241m0\u001b[39m,\u001b[38;5;241m0\u001b[39m), \u001b[38;5;241m-\u001b[39m\u001b[38;5;241m1\u001b[39m)\n",
      "\u001b[1;31mAttributeError\u001b[0m: module 'cv2' has no attribute 'EVENT_LBUTTONDBCLK'"
     ]
    },
    {
     "ename": "AttributeError",
     "evalue": "module 'cv2' has no attribute 'EVENT_LBUTTONDBCLK'",
     "output_type": "error",
     "traceback": [
      "\u001b[1;31m---------------------------------------------------------------------------\u001b[0m",
      "\u001b[1;31mAttributeError\u001b[0m                            Traceback (most recent call last)",
      "Cell \u001b[1;32mIn[6], line 12\u001b[0m, in \u001b[0;36mdraw_circle\u001b[1;34m(event, x, y, flags, param)\u001b[0m\n\u001b[0;32m     10\u001b[0m \u001b[38;5;28;01melif\u001b[39;00m event \u001b[38;5;241m==\u001b[39m cv2\u001b[38;5;241m.\u001b[39mEVENT_RBUTTONDOWN:\n\u001b[0;32m     11\u001b[0m     cv2\u001b[38;5;241m.\u001b[39mcircle(img, (x,y), \u001b[38;5;241m10\u001b[39m, (\u001b[38;5;241m255\u001b[39m,\u001b[38;5;241m0\u001b[39m,\u001b[38;5;241m0\u001b[39m), \u001b[38;5;241m2\u001b[39m)\n\u001b[1;32m---> 12\u001b[0m \u001b[38;5;28;01melif\u001b[39;00m event \u001b[38;5;241m==\u001b[39m \u001b[43mcv2\u001b[49m\u001b[38;5;241;43m.\u001b[39;49m\u001b[43mEVENT_LBUTTONDBCLK\u001b[49m:\n\u001b[0;32m     13\u001b[0m     cv2\u001b[38;5;241m.\u001b[39mcircle(img, (x,y), \u001b[38;5;241m20\u001b[39m, (\u001b[38;5;241m255\u001b[39m,\u001b[38;5;241m0\u001b[39m,\u001b[38;5;241m0\u001b[39m), \u001b[38;5;241m-\u001b[39m\u001b[38;5;241m1\u001b[39m)\n",
      "\u001b[1;31mAttributeError\u001b[0m: module 'cv2' has no attribute 'EVENT_LBUTTONDBCLK'"
     ]
    },
    {
     "ename": "AttributeError",
     "evalue": "module 'cv2' has no attribute 'EVENT_LBUTTONDBCLK'",
     "output_type": "error",
     "traceback": [
      "\u001b[1;31m---------------------------------------------------------------------------\u001b[0m",
      "\u001b[1;31mAttributeError\u001b[0m                            Traceback (most recent call last)",
      "Cell \u001b[1;32mIn[6], line 12\u001b[0m, in \u001b[0;36mdraw_circle\u001b[1;34m(event, x, y, flags, param)\u001b[0m\n\u001b[0;32m     10\u001b[0m \u001b[38;5;28;01melif\u001b[39;00m event \u001b[38;5;241m==\u001b[39m cv2\u001b[38;5;241m.\u001b[39mEVENT_RBUTTONDOWN:\n\u001b[0;32m     11\u001b[0m     cv2\u001b[38;5;241m.\u001b[39mcircle(img, (x,y), \u001b[38;5;241m10\u001b[39m, (\u001b[38;5;241m255\u001b[39m,\u001b[38;5;241m0\u001b[39m,\u001b[38;5;241m0\u001b[39m), \u001b[38;5;241m2\u001b[39m)\n\u001b[1;32m---> 12\u001b[0m \u001b[38;5;28;01melif\u001b[39;00m event \u001b[38;5;241m==\u001b[39m \u001b[43mcv2\u001b[49m\u001b[38;5;241;43m.\u001b[39;49m\u001b[43mEVENT_LBUTTONDBCLK\u001b[49m:\n\u001b[0;32m     13\u001b[0m     cv2\u001b[38;5;241m.\u001b[39mcircle(img, (x,y), \u001b[38;5;241m20\u001b[39m, (\u001b[38;5;241m255\u001b[39m,\u001b[38;5;241m0\u001b[39m,\u001b[38;5;241m0\u001b[39m), \u001b[38;5;241m-\u001b[39m\u001b[38;5;241m1\u001b[39m)\n",
      "\u001b[1;31mAttributeError\u001b[0m: module 'cv2' has no attribute 'EVENT_LBUTTONDBCLK'"
     ]
    },
    {
     "ename": "AttributeError",
     "evalue": "module 'cv2' has no attribute 'EVENT_LBUTTONDBCLK'",
     "output_type": "error",
     "traceback": [
      "\u001b[1;31m---------------------------------------------------------------------------\u001b[0m",
      "\u001b[1;31mAttributeError\u001b[0m                            Traceback (most recent call last)",
      "Cell \u001b[1;32mIn[6], line 12\u001b[0m, in \u001b[0;36mdraw_circle\u001b[1;34m(event, x, y, flags, param)\u001b[0m\n\u001b[0;32m     10\u001b[0m \u001b[38;5;28;01melif\u001b[39;00m event \u001b[38;5;241m==\u001b[39m cv2\u001b[38;5;241m.\u001b[39mEVENT_RBUTTONDOWN:\n\u001b[0;32m     11\u001b[0m     cv2\u001b[38;5;241m.\u001b[39mcircle(img, (x,y), \u001b[38;5;241m10\u001b[39m, (\u001b[38;5;241m255\u001b[39m,\u001b[38;5;241m0\u001b[39m,\u001b[38;5;241m0\u001b[39m), \u001b[38;5;241m2\u001b[39m)\n\u001b[1;32m---> 12\u001b[0m \u001b[38;5;28;01melif\u001b[39;00m event \u001b[38;5;241m==\u001b[39m \u001b[43mcv2\u001b[49m\u001b[38;5;241;43m.\u001b[39;49m\u001b[43mEVENT_LBUTTONDBCLK\u001b[49m:\n\u001b[0;32m     13\u001b[0m     cv2\u001b[38;5;241m.\u001b[39mcircle(img, (x,y), \u001b[38;5;241m20\u001b[39m, (\u001b[38;5;241m255\u001b[39m,\u001b[38;5;241m0\u001b[39m,\u001b[38;5;241m0\u001b[39m), \u001b[38;5;241m-\u001b[39m\u001b[38;5;241m1\u001b[39m)\n",
      "\u001b[1;31mAttributeError\u001b[0m: module 'cv2' has no attribute 'EVENT_LBUTTONDBCLK'"
     ]
    },
    {
     "ename": "AttributeError",
     "evalue": "module 'cv2' has no attribute 'EVENT_LBUTTONDBCLK'",
     "output_type": "error",
     "traceback": [
      "\u001b[1;31m---------------------------------------------------------------------------\u001b[0m",
      "\u001b[1;31mAttributeError\u001b[0m                            Traceback (most recent call last)",
      "Cell \u001b[1;32mIn[6], line 12\u001b[0m, in \u001b[0;36mdraw_circle\u001b[1;34m(event, x, y, flags, param)\u001b[0m\n\u001b[0;32m     10\u001b[0m \u001b[38;5;28;01melif\u001b[39;00m event \u001b[38;5;241m==\u001b[39m cv2\u001b[38;5;241m.\u001b[39mEVENT_RBUTTONDOWN:\n\u001b[0;32m     11\u001b[0m     cv2\u001b[38;5;241m.\u001b[39mcircle(img, (x,y), \u001b[38;5;241m10\u001b[39m, (\u001b[38;5;241m255\u001b[39m,\u001b[38;5;241m0\u001b[39m,\u001b[38;5;241m0\u001b[39m), \u001b[38;5;241m2\u001b[39m)\n\u001b[1;32m---> 12\u001b[0m \u001b[38;5;28;01melif\u001b[39;00m event \u001b[38;5;241m==\u001b[39m \u001b[43mcv2\u001b[49m\u001b[38;5;241;43m.\u001b[39;49m\u001b[43mEVENT_LBUTTONDBCLK\u001b[49m:\n\u001b[0;32m     13\u001b[0m     cv2\u001b[38;5;241m.\u001b[39mcircle(img, (x,y), \u001b[38;5;241m20\u001b[39m, (\u001b[38;5;241m255\u001b[39m,\u001b[38;5;241m0\u001b[39m,\u001b[38;5;241m0\u001b[39m), \u001b[38;5;241m-\u001b[39m\u001b[38;5;241m1\u001b[39m)\n",
      "\u001b[1;31mAttributeError\u001b[0m: module 'cv2' has no attribute 'EVENT_LBUTTONDBCLK'"
     ]
    },
    {
     "ename": "AttributeError",
     "evalue": "module 'cv2' has no attribute 'EVENT_LBUTTONDBCLK'",
     "output_type": "error",
     "traceback": [
      "\u001b[1;31m---------------------------------------------------------------------------\u001b[0m",
      "\u001b[1;31mAttributeError\u001b[0m                            Traceback (most recent call last)",
      "Cell \u001b[1;32mIn[6], line 12\u001b[0m, in \u001b[0;36mdraw_circle\u001b[1;34m(event, x, y, flags, param)\u001b[0m\n\u001b[0;32m     10\u001b[0m \u001b[38;5;28;01melif\u001b[39;00m event \u001b[38;5;241m==\u001b[39m cv2\u001b[38;5;241m.\u001b[39mEVENT_RBUTTONDOWN:\n\u001b[0;32m     11\u001b[0m     cv2\u001b[38;5;241m.\u001b[39mcircle(img, (x,y), \u001b[38;5;241m10\u001b[39m, (\u001b[38;5;241m255\u001b[39m,\u001b[38;5;241m0\u001b[39m,\u001b[38;5;241m0\u001b[39m), \u001b[38;5;241m2\u001b[39m)\n\u001b[1;32m---> 12\u001b[0m \u001b[38;5;28;01melif\u001b[39;00m event \u001b[38;5;241m==\u001b[39m \u001b[43mcv2\u001b[49m\u001b[38;5;241;43m.\u001b[39;49m\u001b[43mEVENT_LBUTTONDBCLK\u001b[49m:\n\u001b[0;32m     13\u001b[0m     cv2\u001b[38;5;241m.\u001b[39mcircle(img, (x,y), \u001b[38;5;241m20\u001b[39m, (\u001b[38;5;241m255\u001b[39m,\u001b[38;5;241m0\u001b[39m,\u001b[38;5;241m0\u001b[39m), \u001b[38;5;241m-\u001b[39m\u001b[38;5;241m1\u001b[39m)\n",
      "\u001b[1;31mAttributeError\u001b[0m: module 'cv2' has no attribute 'EVENT_LBUTTONDBCLK'"
     ]
    },
    {
     "ename": "AttributeError",
     "evalue": "module 'cv2' has no attribute 'EVENT_LBUTTONDBCLK'",
     "output_type": "error",
     "traceback": [
      "\u001b[1;31m---------------------------------------------------------------------------\u001b[0m",
      "\u001b[1;31mAttributeError\u001b[0m                            Traceback (most recent call last)",
      "Cell \u001b[1;32mIn[6], line 12\u001b[0m, in \u001b[0;36mdraw_circle\u001b[1;34m(event, x, y, flags, param)\u001b[0m\n\u001b[0;32m     10\u001b[0m \u001b[38;5;28;01melif\u001b[39;00m event \u001b[38;5;241m==\u001b[39m cv2\u001b[38;5;241m.\u001b[39mEVENT_RBUTTONDOWN:\n\u001b[0;32m     11\u001b[0m     cv2\u001b[38;5;241m.\u001b[39mcircle(img, (x,y), \u001b[38;5;241m10\u001b[39m, (\u001b[38;5;241m255\u001b[39m,\u001b[38;5;241m0\u001b[39m,\u001b[38;5;241m0\u001b[39m), \u001b[38;5;241m2\u001b[39m)\n\u001b[1;32m---> 12\u001b[0m \u001b[38;5;28;01melif\u001b[39;00m event \u001b[38;5;241m==\u001b[39m \u001b[43mcv2\u001b[49m\u001b[38;5;241;43m.\u001b[39;49m\u001b[43mEVENT_LBUTTONDBCLK\u001b[49m:\n\u001b[0;32m     13\u001b[0m     cv2\u001b[38;5;241m.\u001b[39mcircle(img, (x,y), \u001b[38;5;241m20\u001b[39m, (\u001b[38;5;241m255\u001b[39m,\u001b[38;5;241m0\u001b[39m,\u001b[38;5;241m0\u001b[39m), \u001b[38;5;241m-\u001b[39m\u001b[38;5;241m1\u001b[39m)\n",
      "\u001b[1;31mAttributeError\u001b[0m: module 'cv2' has no attribute 'EVENT_LBUTTONDBCLK'"
     ]
    },
    {
     "ename": "AttributeError",
     "evalue": "module 'cv2' has no attribute 'EVENT_LBUTTONDBCLK'",
     "output_type": "error",
     "traceback": [
      "\u001b[1;31m---------------------------------------------------------------------------\u001b[0m",
      "\u001b[1;31mAttributeError\u001b[0m                            Traceback (most recent call last)",
      "Cell \u001b[1;32mIn[6], line 12\u001b[0m, in \u001b[0;36mdraw_circle\u001b[1;34m(event, x, y, flags, param)\u001b[0m\n\u001b[0;32m     10\u001b[0m \u001b[38;5;28;01melif\u001b[39;00m event \u001b[38;5;241m==\u001b[39m cv2\u001b[38;5;241m.\u001b[39mEVENT_RBUTTONDOWN:\n\u001b[0;32m     11\u001b[0m     cv2\u001b[38;5;241m.\u001b[39mcircle(img, (x,y), \u001b[38;5;241m10\u001b[39m, (\u001b[38;5;241m255\u001b[39m,\u001b[38;5;241m0\u001b[39m,\u001b[38;5;241m0\u001b[39m), \u001b[38;5;241m2\u001b[39m)\n\u001b[1;32m---> 12\u001b[0m \u001b[38;5;28;01melif\u001b[39;00m event \u001b[38;5;241m==\u001b[39m \u001b[43mcv2\u001b[49m\u001b[38;5;241;43m.\u001b[39;49m\u001b[43mEVENT_LBUTTONDBCLK\u001b[49m:\n\u001b[0;32m     13\u001b[0m     cv2\u001b[38;5;241m.\u001b[39mcircle(img, (x,y), \u001b[38;5;241m20\u001b[39m, (\u001b[38;5;241m255\u001b[39m,\u001b[38;5;241m0\u001b[39m,\u001b[38;5;241m0\u001b[39m), \u001b[38;5;241m-\u001b[39m\u001b[38;5;241m1\u001b[39m)\n",
      "\u001b[1;31mAttributeError\u001b[0m: module 'cv2' has no attribute 'EVENT_LBUTTONDBCLK'"
     ]
    }
   ],
   "source": [
    "import cv2\n",
    "import numpy as np\n",
    "\n",
    "def draw_circle(event, x, y, flags, param):\n",
    "    if event == cv2.EVENT_LBUTTONDOWN:\n",
    "        if flags & cv2.EVENT_FLAG_CTRLKEY:\n",
    "            cv2.rectangle(img, (x,y), (x+20, y+20), (0,0,255), -1)\n",
    "        else:\n",
    "            cv2.rectangle(img, (x,y), (x+20, y+20), (0, 255,0), 2)\n",
    "    elif event == cv2.EVENT_RBUTTONDOWN:\n",
    "        cv2.circle(img, (x,y), 10, (255,0,0), 2)\n",
    "    elif event == cv2.EVENT_LBUTTONDBCLK:\n",
    "        cv2.circle(img, (x,y), 20, (255,0,0), -1)\n",
    "        \n",
    "img = np.full((512,512,3), 255, dtype=np.uint8)\n",
    "cv2.namedWindow('image')\n",
    "cv2.setMouseCallback('image', draw_circle)\n",
    "\n",
    "while(1):\n",
    "    cv2.imshow('image', img)\n",
    "    if cv2.waitKey(20) & 0xFF == 65:\n",
    "        break\n",
    "        \n",
    "cv2.destroyAllWindows()\n",
    "    \n",
    "            "
   ]
  },
  {
   "cell_type": "code",
   "execution_count": null,
   "id": "0d0a5868",
   "metadata": {},
   "outputs": [],
   "source": []
  },
  {
   "cell_type": "code",
   "execution_count": 7,
   "id": "05243e19",
   "metadata": {},
   "outputs": [
    {
     "ename": "IndentationError",
     "evalue": "expected an indented block after 'if' statement on line 9 (931069948.py, line 11)",
     "output_type": "error",
     "traceback": [
      "\u001b[1;36m  Cell \u001b[1;32mIn[7], line 11\u001b[1;36m\u001b[0m\n\u001b[1;33m    cv2.destroyAllWindows()\u001b[0m\n\u001b[1;37m                           ^\u001b[0m\n\u001b[1;31mIndentationError\u001b[0m\u001b[1;31m:\u001b[0m expected an indented block after 'if' statement on line 9\n"
     ]
    }
   ],
   "source": [
    "import cv2\n",
    "import numpy as np\n",
    "image = np.full((100, 100, 3), 255, np.uint8)\n",
    "\n",
    "while(1):\n",
    "    cv2.imshow(\"Key test\", image)\n",
    "    key = cv2.waitKey(0)\n",
    "    print(f'Code: {key}, Char: {chr(key)}')\n",
    "    if key & 0xFF == 27:\n",
    "        \n",
    "cv2.destroyAllWindows()"
   ]
  },
  {
   "cell_type": "code",
   "execution_count": null,
   "id": "1218dfd4",
   "metadata": {},
   "outputs": [],
   "source": []
  },
  {
   "cell_type": "code",
   "execution_count": 10,
   "id": "88674666",
   "metadata": {},
   "outputs": [],
   "source": [
    "import cv2\n",
    "import numpy as np\n",
    "\n",
    "img = np.full((250,250,3), 255, dtype=np.uint8)\n",
    "\n",
    "cv2.line(img, (50,10), (200,10), (255,0,0), 1)\n",
    "cv2.line(img, (50,60), (200,60), (0,255,0), 2)\n",
    "cv2.line(img, (50,110), (200,110), (0,0,255), 3)\n",
    "cv2.line(img, (50,160), (200,160), (0,0,0), 4)\n",
    "cv2.line(img, (50,210), (200,210), (255,0,255), 5)\n",
    "\n",
    "cv2.imshow('Lines',img)\n",
    "cv2.waitKey(0)\n",
    "cv2.destroyAllWindows()"
   ]
  },
  {
   "cell_type": "code",
   "execution_count": null,
   "id": "46861d0a",
   "metadata": {},
   "outputs": [],
   "source": []
  },
  {
   "cell_type": "code",
   "execution_count": 11,
   "id": "3800a86c",
   "metadata": {},
   "outputs": [],
   "source": [
    "import cv2\n",
    "import numpy as np\n",
    "\n",
    "img = np.full((250,250,3), 255, dtype=np.uint8)\n",
    "points = np.array([[[60,60], [100,10], [200,60], [150,100], [100,100]]], dtype=np.int32)\n",
    "\n",
    "cv2.polylines(img, points, True, (255,0,0), 5)\n",
    "cv2.polylines(img, points+[0,100], False, (0,0,255), 10)\n",
    "\n",
    "cv2.imshow('Polylines',img)\n",
    "cv2.waitKey(0)\n",
    "cv2.destroyAllWindows()"
   ]
  },
  {
   "cell_type": "code",
   "execution_count": null,
   "id": "b90c76ea",
   "metadata": {},
   "outputs": [],
   "source": []
  },
  {
   "cell_type": "code",
   "execution_count": 12,
   "id": "f682fef9",
   "metadata": {},
   "outputs": [],
   "source": [
    "import cv2\n",
    "import numpy as np\n",
    "\n",
    "img = np.full((250,250,3), 255, dtype=np.uint8)\n",
    "\n",
    "cv2.putText(img, \"개발자 BOWSTRING\", (10,50), cv2.FONT_ITALIC, 1, (255,0,0))\n",
    "cv2.putText(img, \"One day, One Commit !\", (10,150), cv2.FONT_HERSHEY_DUPLEX, 2, (0,0,0))\n",
    "cv2.putText(img, \"This is the way\", (10,200), cv2.FONT_HERSHEY_TRIPLEX, 1, (0,0,0))\n",
    "\n",
    "cv2.imshow('Text', img)\n",
    "cv2.waitKey(0)\n",
    "cv2.destroyAllWindows()"
   ]
  },
  {
   "cell_type": "code",
   "execution_count": null,
   "id": "8d373744",
   "metadata": {},
   "outputs": [],
   "source": []
  },
  {
   "cell_type": "code",
   "execution_count": 14,
   "id": "f418b544",
   "metadata": {},
   "outputs": [],
   "source": [
    "import cv2\n",
    "import numpy as np\n",
    "\n",
    "img1 = cv2.imread('images/flower1.jpg')\n",
    "img2 = cv2.imread('images/flower2.jpg')\n",
    "\n",
    "cv2.imshow('Flower 1', img1)\n",
    "cv2.imshow('Flower 2', img2)\n",
    "cv2.imshow('cv2.add', cv2.add(img1,img2))\n",
    "cv2.imshow('np.add', np.add(img1, img2))\n",
    "cv2.waitKey(0)\n",
    "cv2.destroyAllWindows()"
   ]
  }
 ],
 "metadata": {
  "kernelspec": {
   "display_name": "Python 3 (ipykernel)",
   "language": "python",
   "name": "python3"
  },
  "language_info": {
   "codemirror_mode": {
    "name": "ipython",
    "version": 3
   },
   "file_extension": ".py",
   "mimetype": "text/x-python",
   "name": "python",
   "nbconvert_exporter": "python",
   "pygments_lexer": "ipython3",
   "version": "3.10.9"
  }
 },
 "nbformat": 4,
 "nbformat_minor": 5
}
