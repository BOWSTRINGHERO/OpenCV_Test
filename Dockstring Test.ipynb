{
 "cells": [
  {
   "cell_type": "code",
   "execution_count": 18,
   "id": "2fac61b5",
   "metadata": {},
   "outputs": [],
   "source": [
    "import cv2\n",
    "import numpy as np  # 별칭 AS np 로 사용 ( Oracle / Python Turtle 비슷합니다... )\n",
    "from PIL import ImageFont, ImageDraw, Image\n",
    "\n",
    "img = np.full((1024, 1024, 3), 255, dtype=np.uint8) # 바탕화면 255 흰색\n",
    "\n",
    "#draw = ImageDraw.Draw(img)"
   ]
  },
  {
   "cell_type": "code",
   "execution_count": 20,
   "id": "3006eb8d",
   "metadata": {},
   "outputs": [],
   "source": [
    "np.full?"
   ]
  },
  {
   "cell_type": "code",
   "execution_count": null,
   "id": "f5eab34d",
   "metadata": {},
   "outputs": [],
   "source": [
    "ImageDraw.Draw()?"
   ]
  },
  {
   "cell_type": "code",
   "execution_count": 21,
   "id": "77996fd8",
   "metadata": {},
   "outputs": [],
   "source": [
    "ImageDraw.Draw?"
   ]
  },
  {
   "cell_type": "code",
   "execution_count": null,
   "id": "668c3906",
   "metadata": {},
   "outputs": [],
   "source": [
    "img?"
   ]
  },
  {
   "cell_type": "code",
   "execution_count": null,
   "id": "c5db6952",
   "metadata": {},
   "outputs": [],
   "source": [
    "draw?"
   ]
  },
  {
   "cell_type": "markdown",
   "id": "3d18cbc6",
   "metadata": {},
   "source": [
    "Docstring!"
   ]
  },
  {
   "cell_type": "markdown",
   "id": "89b93abb",
   "metadata": {},
   "source": [
    "MarkDown 실습"
   ]
  },
  {
   "cell_type": "markdown",
   "id": "7063a64e",
   "metadata": {},
   "source": [
    "Test | version \n",
    "---------|---------\n",
    "git       | 1day 1commit\n",
    "github | Repository"
   ]
  },
  {
   "cell_type": "code",
   "execution_count": null,
   "id": "9a35443d",
   "metadata": {},
   "outputs": [],
   "source": []
  },
  {
   "cell_type": "markdown",
   "id": "377bc824",
   "metadata": {},
   "source": []
  },
  {
   "cell_type": "code",
   "execution_count": null,
   "id": "fdd1bd4b",
   "metadata": {},
   "outputs": [],
   "source": []
  },
  {
   "cell_type": "code",
   "execution_count": null,
   "id": "bffead9f",
   "metadata": {},
   "outputs": [],
   "source": []
  },
  {
   "cell_type": "code",
   "execution_count": null,
   "id": "b72e8454",
   "metadata": {},
   "outputs": [],
   "source": []
  }
 ],
 "metadata": {
  "kernelspec": {
   "display_name": "Python 3 (ipykernel)",
   "language": "python",
   "name": "python3"
  },
  "language_info": {
   "codemirror_mode": {
    "name": "ipython",
    "version": 3
   },
   "file_extension": ".py",
   "mimetype": "text/x-python",
   "name": "python",
   "nbconvert_exporter": "python",
   "pygments_lexer": "ipython3",
   "version": "3.10.9"
  }
 },
 "nbformat": 4,
 "nbformat_minor": 5
}
